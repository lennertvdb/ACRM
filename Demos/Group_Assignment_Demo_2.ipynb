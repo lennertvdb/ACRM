{
 "cells": [
  {
   "cell_type": "code",
   "execution_count": 3,
   "id": "6ad758cc",
   "metadata": {},
   "outputs": [],
   "source": [
    "# import the packages\n",
    "import pandas as pd\n",
    "import numpy as np\n",
    "\n",
    "import datetime"
   ]
  },
  {
   "cell_type": "markdown",
   "id": "28343e86",
   "metadata": {},
   "source": [
    "# 1. Import Data"
   ]
  },
  {
   "cell_type": "code",
   "execution_count": 4,
   "id": "73481dfa",
   "metadata": {},
   "outputs": [
    {
     "ename": "FileNotFoundError",
     "evalue": "[Errno 2] No such file or directory: '../final_data/HVC_HVVISITRESULT.csv'",
     "output_type": "error",
     "traceback": [
      "\u001b[0;31m---------------------------------------------------------------------------\u001b[0m",
      "\u001b[0;31mFileNotFoundError\u001b[0m                         Traceback (most recent call last)",
      "\u001b[0;32m/var/folders/x2/hymzscwj7pg_t42hpfwjm20m0000gn/T/ipykernel_20258/634161564.py\u001b[0m in \u001b[0;36m<module>\u001b[0;34m\u001b[0m\n\u001b[1;32m      1\u001b[0m \u001b[0;31m# import the data into pandas dataframes\u001b[0m\u001b[0;34m\u001b[0m\u001b[0;34m\u001b[0m\u001b[0m\n\u001b[0;32m----> 2\u001b[0;31m \u001b[0mhvc_hvvisitresult\u001b[0m \u001b[0;34m=\u001b[0m \u001b[0mpd\u001b[0m\u001b[0;34m.\u001b[0m\u001b[0mread_csv\u001b[0m\u001b[0;34m(\u001b[0m\u001b[0;34m\"../final_data/HVC_HVVISITRESULT.csv\"\u001b[0m\u001b[0;34m,\u001b[0m \u001b[0msep\u001b[0m\u001b[0;34m=\u001b[0m\u001b[0;34m\";\"\u001b[0m\u001b[0;34m)\u001b[0m\u001b[0;34m\u001b[0m\u001b[0;34m\u001b[0m\u001b[0m\n\u001b[0m\u001b[1;32m      3\u001b[0m \u001b[0mhvc_so0\u001b[0m \u001b[0;34m=\u001b[0m \u001b[0mpd\u001b[0m\u001b[0;34m.\u001b[0m\u001b[0mread_csv\u001b[0m\u001b[0;34m(\u001b[0m\u001b[0;34m\"../final_data/HVC_SO0.csv\"\u001b[0m\u001b[0;34m,\u001b[0m \u001b[0msep\u001b[0m\u001b[0;34m=\u001b[0m\u001b[0;34m\";\"\u001b[0m\u001b[0;34m)\u001b[0m\u001b[0;34m\u001b[0m\u001b[0;34m\u001b[0m\u001b[0m\n\u001b[1;32m      4\u001b[0m \u001b[0mhvc_am0\u001b[0m \u001b[0;34m=\u001b[0m \u001b[0mpd\u001b[0m\u001b[0;34m.\u001b[0m\u001b[0mread_csv\u001b[0m\u001b[0;34m(\u001b[0m\u001b[0;34m\"../final_data/HVC_AM0.csv\"\u001b[0m\u001b[0;34m,\u001b[0m \u001b[0msep\u001b[0m\u001b[0;34m=\u001b[0m\u001b[0;34m\";\"\u001b[0m\u001b[0;34m)\u001b[0m\u001b[0;34m\u001b[0m\u001b[0;34m\u001b[0m\u001b[0m\n\u001b[1;32m      5\u001b[0m \u001b[0mhvc_ar0\u001b[0m \u001b[0;34m=\u001b[0m \u001b[0mpd\u001b[0m\u001b[0;34m.\u001b[0m\u001b[0mread_csv\u001b[0m\u001b[0;34m(\u001b[0m\u001b[0;34m\"../final_data/HVC_AR0.csv\"\u001b[0m\u001b[0;34m,\u001b[0m \u001b[0msep\u001b[0m\u001b[0;34m=\u001b[0m\u001b[0;34m\";\"\u001b[0m\u001b[0;34m)\u001b[0m\u001b[0;34m\u001b[0m\u001b[0;34m\u001b[0m\u001b[0m\n",
      "\u001b[0;32m/Library/Frameworks/Python.framework/Versions/3.9/lib/python3.9/site-packages/pandas/util/_decorators.py\u001b[0m in \u001b[0;36mwrapper\u001b[0;34m(*args, **kwargs)\u001b[0m\n\u001b[1;32m    309\u001b[0m                     \u001b[0mstacklevel\u001b[0m\u001b[0;34m=\u001b[0m\u001b[0mstacklevel\u001b[0m\u001b[0;34m,\u001b[0m\u001b[0;34m\u001b[0m\u001b[0;34m\u001b[0m\u001b[0m\n\u001b[1;32m    310\u001b[0m                 )\n\u001b[0;32m--> 311\u001b[0;31m             \u001b[0;32mreturn\u001b[0m \u001b[0mfunc\u001b[0m\u001b[0;34m(\u001b[0m\u001b[0;34m*\u001b[0m\u001b[0margs\u001b[0m\u001b[0;34m,\u001b[0m \u001b[0;34m**\u001b[0m\u001b[0mkwargs\u001b[0m\u001b[0;34m)\u001b[0m\u001b[0;34m\u001b[0m\u001b[0;34m\u001b[0m\u001b[0m\n\u001b[0m\u001b[1;32m    312\u001b[0m \u001b[0;34m\u001b[0m\u001b[0m\n\u001b[1;32m    313\u001b[0m         \u001b[0;32mreturn\u001b[0m \u001b[0mwrapper\u001b[0m\u001b[0;34m\u001b[0m\u001b[0;34m\u001b[0m\u001b[0m\n",
      "\u001b[0;32m/Library/Frameworks/Python.framework/Versions/3.9/lib/python3.9/site-packages/pandas/io/parsers/readers.py\u001b[0m in \u001b[0;36mread_csv\u001b[0;34m(filepath_or_buffer, sep, delimiter, header, names, index_col, usecols, squeeze, prefix, mangle_dupe_cols, dtype, engine, converters, true_values, false_values, skipinitialspace, skiprows, skipfooter, nrows, na_values, keep_default_na, na_filter, verbose, skip_blank_lines, parse_dates, infer_datetime_format, keep_date_col, date_parser, dayfirst, cache_dates, iterator, chunksize, compression, thousands, decimal, lineterminator, quotechar, quoting, doublequote, escapechar, comment, encoding, encoding_errors, dialect, error_bad_lines, warn_bad_lines, on_bad_lines, delim_whitespace, low_memory, memory_map, float_precision, storage_options)\u001b[0m\n\u001b[1;32m    584\u001b[0m     \u001b[0mkwds\u001b[0m\u001b[0;34m.\u001b[0m\u001b[0mupdate\u001b[0m\u001b[0;34m(\u001b[0m\u001b[0mkwds_defaults\u001b[0m\u001b[0;34m)\u001b[0m\u001b[0;34m\u001b[0m\u001b[0;34m\u001b[0m\u001b[0m\n\u001b[1;32m    585\u001b[0m \u001b[0;34m\u001b[0m\u001b[0m\n\u001b[0;32m--> 586\u001b[0;31m     \u001b[0;32mreturn\u001b[0m \u001b[0m_read\u001b[0m\u001b[0;34m(\u001b[0m\u001b[0mfilepath_or_buffer\u001b[0m\u001b[0;34m,\u001b[0m \u001b[0mkwds\u001b[0m\u001b[0;34m)\u001b[0m\u001b[0;34m\u001b[0m\u001b[0;34m\u001b[0m\u001b[0m\n\u001b[0m\u001b[1;32m    587\u001b[0m \u001b[0;34m\u001b[0m\u001b[0m\n\u001b[1;32m    588\u001b[0m \u001b[0;34m\u001b[0m\u001b[0m\n",
      "\u001b[0;32m/Library/Frameworks/Python.framework/Versions/3.9/lib/python3.9/site-packages/pandas/io/parsers/readers.py\u001b[0m in \u001b[0;36m_read\u001b[0;34m(filepath_or_buffer, kwds)\u001b[0m\n\u001b[1;32m    480\u001b[0m \u001b[0;34m\u001b[0m\u001b[0m\n\u001b[1;32m    481\u001b[0m     \u001b[0;31m# Create the parser.\u001b[0m\u001b[0;34m\u001b[0m\u001b[0;34m\u001b[0m\u001b[0m\n\u001b[0;32m--> 482\u001b[0;31m     \u001b[0mparser\u001b[0m \u001b[0;34m=\u001b[0m \u001b[0mTextFileReader\u001b[0m\u001b[0;34m(\u001b[0m\u001b[0mfilepath_or_buffer\u001b[0m\u001b[0;34m,\u001b[0m \u001b[0;34m**\u001b[0m\u001b[0mkwds\u001b[0m\u001b[0;34m)\u001b[0m\u001b[0;34m\u001b[0m\u001b[0;34m\u001b[0m\u001b[0m\n\u001b[0m\u001b[1;32m    483\u001b[0m \u001b[0;34m\u001b[0m\u001b[0m\n\u001b[1;32m    484\u001b[0m     \u001b[0;32mif\u001b[0m \u001b[0mchunksize\u001b[0m \u001b[0;32mor\u001b[0m \u001b[0miterator\u001b[0m\u001b[0;34m:\u001b[0m\u001b[0;34m\u001b[0m\u001b[0;34m\u001b[0m\u001b[0m\n",
      "\u001b[0;32m/Library/Frameworks/Python.framework/Versions/3.9/lib/python3.9/site-packages/pandas/io/parsers/readers.py\u001b[0m in \u001b[0;36m__init__\u001b[0;34m(self, f, engine, **kwds)\u001b[0m\n\u001b[1;32m    809\u001b[0m             \u001b[0mself\u001b[0m\u001b[0;34m.\u001b[0m\u001b[0moptions\u001b[0m\u001b[0;34m[\u001b[0m\u001b[0;34m\"has_index_names\"\u001b[0m\u001b[0;34m]\u001b[0m \u001b[0;34m=\u001b[0m \u001b[0mkwds\u001b[0m\u001b[0;34m[\u001b[0m\u001b[0;34m\"has_index_names\"\u001b[0m\u001b[0;34m]\u001b[0m\u001b[0;34m\u001b[0m\u001b[0;34m\u001b[0m\u001b[0m\n\u001b[1;32m    810\u001b[0m \u001b[0;34m\u001b[0m\u001b[0m\n\u001b[0;32m--> 811\u001b[0;31m         \u001b[0mself\u001b[0m\u001b[0;34m.\u001b[0m\u001b[0m_engine\u001b[0m \u001b[0;34m=\u001b[0m \u001b[0mself\u001b[0m\u001b[0;34m.\u001b[0m\u001b[0m_make_engine\u001b[0m\u001b[0;34m(\u001b[0m\u001b[0mself\u001b[0m\u001b[0;34m.\u001b[0m\u001b[0mengine\u001b[0m\u001b[0;34m)\u001b[0m\u001b[0;34m\u001b[0m\u001b[0;34m\u001b[0m\u001b[0m\n\u001b[0m\u001b[1;32m    812\u001b[0m \u001b[0;34m\u001b[0m\u001b[0m\n\u001b[1;32m    813\u001b[0m     \u001b[0;32mdef\u001b[0m \u001b[0mclose\u001b[0m\u001b[0;34m(\u001b[0m\u001b[0mself\u001b[0m\u001b[0;34m)\u001b[0m\u001b[0;34m:\u001b[0m\u001b[0;34m\u001b[0m\u001b[0;34m\u001b[0m\u001b[0m\n",
      "\u001b[0;32m/Library/Frameworks/Python.framework/Versions/3.9/lib/python3.9/site-packages/pandas/io/parsers/readers.py\u001b[0m in \u001b[0;36m_make_engine\u001b[0;34m(self, engine)\u001b[0m\n\u001b[1;32m   1038\u001b[0m             )\n\u001b[1;32m   1039\u001b[0m         \u001b[0;31m# error: Too many arguments for \"ParserBase\"\u001b[0m\u001b[0;34m\u001b[0m\u001b[0;34m\u001b[0m\u001b[0m\n\u001b[0;32m-> 1040\u001b[0;31m         \u001b[0;32mreturn\u001b[0m \u001b[0mmapping\u001b[0m\u001b[0;34m[\u001b[0m\u001b[0mengine\u001b[0m\u001b[0;34m]\u001b[0m\u001b[0;34m(\u001b[0m\u001b[0mself\u001b[0m\u001b[0;34m.\u001b[0m\u001b[0mf\u001b[0m\u001b[0;34m,\u001b[0m \u001b[0;34m**\u001b[0m\u001b[0mself\u001b[0m\u001b[0;34m.\u001b[0m\u001b[0moptions\u001b[0m\u001b[0;34m)\u001b[0m  \u001b[0;31m# type: ignore[call-arg]\u001b[0m\u001b[0;34m\u001b[0m\u001b[0;34m\u001b[0m\u001b[0m\n\u001b[0m\u001b[1;32m   1041\u001b[0m \u001b[0;34m\u001b[0m\u001b[0m\n\u001b[1;32m   1042\u001b[0m     \u001b[0;32mdef\u001b[0m \u001b[0m_failover_to_python\u001b[0m\u001b[0;34m(\u001b[0m\u001b[0mself\u001b[0m\u001b[0;34m)\u001b[0m\u001b[0;34m:\u001b[0m\u001b[0;34m\u001b[0m\u001b[0;34m\u001b[0m\u001b[0m\n",
      "\u001b[0;32m/Library/Frameworks/Python.framework/Versions/3.9/lib/python3.9/site-packages/pandas/io/parsers/c_parser_wrapper.py\u001b[0m in \u001b[0;36m__init__\u001b[0;34m(self, src, **kwds)\u001b[0m\n\u001b[1;32m     49\u001b[0m \u001b[0;34m\u001b[0m\u001b[0m\n\u001b[1;32m     50\u001b[0m         \u001b[0;31m# open handles\u001b[0m\u001b[0;34m\u001b[0m\u001b[0;34m\u001b[0m\u001b[0m\n\u001b[0;32m---> 51\u001b[0;31m         \u001b[0mself\u001b[0m\u001b[0;34m.\u001b[0m\u001b[0m_open_handles\u001b[0m\u001b[0;34m(\u001b[0m\u001b[0msrc\u001b[0m\u001b[0;34m,\u001b[0m \u001b[0mkwds\u001b[0m\u001b[0;34m)\u001b[0m\u001b[0;34m\u001b[0m\u001b[0;34m\u001b[0m\u001b[0m\n\u001b[0m\u001b[1;32m     52\u001b[0m         \u001b[0;32massert\u001b[0m \u001b[0mself\u001b[0m\u001b[0;34m.\u001b[0m\u001b[0mhandles\u001b[0m \u001b[0;32mis\u001b[0m \u001b[0;32mnot\u001b[0m \u001b[0;32mNone\u001b[0m\u001b[0;34m\u001b[0m\u001b[0;34m\u001b[0m\u001b[0m\n\u001b[1;32m     53\u001b[0m \u001b[0;34m\u001b[0m\u001b[0m\n",
      "\u001b[0;32m/Library/Frameworks/Python.framework/Versions/3.9/lib/python3.9/site-packages/pandas/io/parsers/base_parser.py\u001b[0m in \u001b[0;36m_open_handles\u001b[0;34m(self, src, kwds)\u001b[0m\n\u001b[1;32m    220\u001b[0m         \u001b[0mLet\u001b[0m \u001b[0mthe\u001b[0m \u001b[0mreaders\u001b[0m \u001b[0mopen\u001b[0m \u001b[0mIOHandles\u001b[0m \u001b[0mafter\u001b[0m \u001b[0mthey\u001b[0m \u001b[0mare\u001b[0m \u001b[0mdone\u001b[0m \u001b[0;32mwith\u001b[0m \u001b[0mtheir\u001b[0m \u001b[0mpotential\u001b[0m \u001b[0mraises\u001b[0m\u001b[0;34m.\u001b[0m\u001b[0;34m\u001b[0m\u001b[0;34m\u001b[0m\u001b[0m\n\u001b[1;32m    221\u001b[0m         \"\"\"\n\u001b[0;32m--> 222\u001b[0;31m         self.handles = get_handle(\n\u001b[0m\u001b[1;32m    223\u001b[0m             \u001b[0msrc\u001b[0m\u001b[0;34m,\u001b[0m\u001b[0;34m\u001b[0m\u001b[0;34m\u001b[0m\u001b[0m\n\u001b[1;32m    224\u001b[0m             \u001b[0;34m\"r\"\u001b[0m\u001b[0;34m,\u001b[0m\u001b[0;34m\u001b[0m\u001b[0;34m\u001b[0m\u001b[0m\n",
      "\u001b[0;32m/Library/Frameworks/Python.framework/Versions/3.9/lib/python3.9/site-packages/pandas/io/common.py\u001b[0m in \u001b[0;36mget_handle\u001b[0;34m(path_or_buf, mode, encoding, compression, memory_map, is_text, errors, storage_options)\u001b[0m\n\u001b[1;32m    700\u001b[0m         \u001b[0;32mif\u001b[0m \u001b[0mioargs\u001b[0m\u001b[0;34m.\u001b[0m\u001b[0mencoding\u001b[0m \u001b[0;32mand\u001b[0m \u001b[0;34m\"b\"\u001b[0m \u001b[0;32mnot\u001b[0m \u001b[0;32min\u001b[0m \u001b[0mioargs\u001b[0m\u001b[0;34m.\u001b[0m\u001b[0mmode\u001b[0m\u001b[0;34m:\u001b[0m\u001b[0;34m\u001b[0m\u001b[0;34m\u001b[0m\u001b[0m\n\u001b[1;32m    701\u001b[0m             \u001b[0;31m# Encoding\u001b[0m\u001b[0;34m\u001b[0m\u001b[0;34m\u001b[0m\u001b[0m\n\u001b[0;32m--> 702\u001b[0;31m             handle = open(\n\u001b[0m\u001b[1;32m    703\u001b[0m                 \u001b[0mhandle\u001b[0m\u001b[0;34m,\u001b[0m\u001b[0;34m\u001b[0m\u001b[0;34m\u001b[0m\u001b[0m\n\u001b[1;32m    704\u001b[0m                 \u001b[0mioargs\u001b[0m\u001b[0;34m.\u001b[0m\u001b[0mmode\u001b[0m\u001b[0;34m,\u001b[0m\u001b[0;34m\u001b[0m\u001b[0;34m\u001b[0m\u001b[0m\n",
      "\u001b[0;31mFileNotFoundError\u001b[0m: [Errno 2] No such file or directory: '../final_data/HVC_HVVISITRESULT.csv'"
     ]
    }
   ],
   "source": [
    "# import the data into pandas dataframes\n",
    "hvc_hvvisitresult = pd.read_csv(\"../final_data/HVC_HVVISITRESULT.csv\", sep=\";\")\n",
    "hvc_so0 = pd.read_csv(\"../final_data/HVC_SO0.csv\", sep=\";\")\n",
    "hvc_am0 = pd.read_csv(\"../final_data/HVC_AM0.csv\", sep=\";\")\n",
    "hvc_ar0 = pd.read_csv(\"../final_data/HVC_AR0.csv\", sep=\";\")\n",
    "hvc_hvvisitresultdetails = pd.read_csv(\"../final_data/HVC_VISITRESULTDETAILS.csv\", sep=\";\")"
   ]
  },
  {
   "cell_type": "markdown",
   "id": "de2048d5",
   "metadata": {},
   "source": [
    "# 2. Explore the data"
   ]
  },
  {
   "cell_type": "markdown",
   "id": "9dcec43c",
   "metadata": {},
   "source": [
    "Now that we have imported all the datasets into Pandas DataFrames, \n",
    "we can do some basic exploration on these datasets.\n",
    "This will give us more inisghts and will help us to do some analytics on this data."
   ]
  },
  {
   "cell_type": "markdown",
   "id": "cec48d4d",
   "metadata": {},
   "source": [
    "## 2.1. Transactions"
   ]
  },
  {
   "cell_type": "code",
   "execution_count": null,
   "id": "ea8e7723",
   "metadata": {},
   "outputs": [],
   "source": [
    "# inspect the first 5 observations of the transactions\n",
    "hvc_hvvisitresult.head(5)"
   ]
  },
  {
   "cell_type": "code",
   "execution_count": null,
   "id": "d39f0962",
   "metadata": {},
   "outputs": [],
   "source": [
    "# inspect the last 5 observations of the transactions\n",
    "hvc_hvvisitresult.tail(5)"
   ]
  },
  {
   "cell_type": "code",
   "execution_count": null,
   "id": "998d749a",
   "metadata": {
    "scrolled": true
   },
   "outputs": [],
   "source": [
    "# check dtypes\n",
    "hvc_hvvisitresult.dtypes"
   ]
  },
  {
   "cell_type": "code",
   "execution_count": null,
   "id": "478634c8",
   "metadata": {},
   "outputs": [],
   "source": [
    "# check the number of transactions \n",
    "len(hvc_hvvisitresult)"
   ]
  },
  {
   "cell_type": "code",
   "execution_count": null,
   "id": "093ee067",
   "metadata": {},
   "outputs": [],
   "source": [
    "# inspect some descriptive statistics with respect to the transaction amount\n",
    "hvc_hvvisitresult[\"AMOUNT\"].describe()"
   ]
  },
  {
   "cell_type": "code",
   "execution_count": null,
   "id": "69d2cf95",
   "metadata": {},
   "outputs": [],
   "source": [
    "# inspect some descriptive statistics with respect to the payment term\n",
    "hvc_hvvisitresult[\"PAYMENTTERM\"].describe()"
   ]
  },
  {
   "cell_type": "code",
   "execution_count": null,
   "id": "54da135d",
   "metadata": {},
   "outputs": [],
   "source": [
    "# inspect the total number of missing values for the transaction amount\n",
    "sum(hvc_hvvisitresult[\"AMOUNT\"].isnull())"
   ]
  },
  {
   "cell_type": "code",
   "execution_count": null,
   "id": "0be12ab3",
   "metadata": {},
   "outputs": [],
   "source": [
    "# inspect the total number of missing values for the payment term\n",
    "sum(hvc_hvvisitresult[\"PAYMENTTERM\"].isnull())"
   ]
  },
  {
   "cell_type": "code",
   "execution_count": null,
   "id": "76ee6bbb",
   "metadata": {},
   "outputs": [],
   "source": [
    "# inspect the proportion of missing values for the payment term\n",
    "sum(hvc_hvvisitresult[\"PAYMENTTERM\"].isnull()) / len(hvc_hvvisitresult)"
   ]
  },
  {
   "cell_type": "markdown",
   "id": "8d5e56d8",
   "metadata": {},
   "source": [
    "## 2.2. Customers"
   ]
  },
  {
   "cell_type": "code",
   "execution_count": null,
   "id": "d910c98d",
   "metadata": {},
   "outputs": [],
   "source": [
    "# inspect first 5 observations of customers\n",
    "hvc_so0.head(5)"
   ]
  },
  {
   "cell_type": "code",
   "execution_count": null,
   "id": "efb309b3",
   "metadata": {},
   "outputs": [],
   "source": [
    "# inspect total number of unique customers\n",
    "len(hvc_so0[\"SO0_NRID\"].unique())"
   ]
  },
  {
   "cell_type": "code",
   "execution_count": null,
   "id": "992aa422",
   "metadata": {},
   "outputs": [],
   "source": [
    "# get some descriptive statistics with respect to the spoken language as well as the season type of the customers\n",
    "hvc_so0[[\"LANGUAGE\", \"SEASON_TYPE\"]].describe()"
   ]
  },
  {
   "cell_type": "code",
   "execution_count": null,
   "id": "fabac155",
   "metadata": {
    "scrolled": true
   },
   "outputs": [],
   "source": [
    "# get the counts for every season type\n",
    "hvc_so0[\"SEASON_TYPE\"].value_counts()"
   ]
  },
  {
   "cell_type": "code",
   "execution_count": null,
   "id": "cc4d7422",
   "metadata": {},
   "outputs": [],
   "source": [
    "# get the counts for every spoken language\n",
    "hvc_so0[\"LANGUAGE\"].value_counts()"
   ]
  },
  {
   "cell_type": "markdown",
   "id": "86129877",
   "metadata": {},
   "source": [
    "## 2.3. Employees"
   ]
  },
  {
   "cell_type": "code",
   "execution_count": null,
   "id": "c287ca43",
   "metadata": {},
   "outputs": [],
   "source": [
    "# inspect first 5 observations of employees\n",
    "hvc_am0.head(5)"
   ]
  },
  {
   "cell_type": "code",
   "execution_count": null,
   "id": "b5fa9a84",
   "metadata": {},
   "outputs": [],
   "source": [
    "# inspect the total number of employees\n",
    "len(hvc_am0[\"AM0_NRID\"].unique())"
   ]
  },
  {
   "cell_type": "markdown",
   "id": "dc5ef933",
   "metadata": {},
   "source": [
    "## 2.4. Products"
   ]
  },
  {
   "cell_type": "code",
   "execution_count": null,
   "id": "be0dccc1",
   "metadata": {},
   "outputs": [],
   "source": [
    "# inspect the first 5 products\n",
    "hvc_ar0.head(5)"
   ]
  },
  {
   "cell_type": "code",
   "execution_count": null,
   "id": "636be9b8",
   "metadata": {},
   "outputs": [],
   "source": [
    "# inspect the total number of products \n",
    "len(hvc_ar0[\"AR0_NRID\"].unique())"
   ]
  },
  {
   "cell_type": "code",
   "execution_count": null,
   "id": "9e7731c0",
   "metadata": {},
   "outputs": [],
   "source": [
    "# inspect the proportion of product families\n",
    "hvc_ar0[\"FAMILY\"].value_counts(normalize=True)"
   ]
  },
  {
   "cell_type": "code",
   "execution_count": null,
   "id": "e1f9a0a3",
   "metadata": {},
   "outputs": [],
   "source": [
    "# get some descriptive statistics with respect to the price of the products\n",
    "hvc_ar0[\"PRICE\"].describe()"
   ]
  },
  {
   "cell_type": "code",
   "execution_count": null,
   "id": "df85984e",
   "metadata": {},
   "outputs": [],
   "source": [
    "# inspect which product had a negative price\n",
    "hvc_ar0[hvc_ar0[\"PRICE\"] < 0]"
   ]
  },
  {
   "cell_type": "markdown",
   "id": "b0ac5883",
   "metadata": {},
   "source": [
    "# 2. Data Conversion"
   ]
  },
  {
   "cell_type": "markdown",
   "id": "bfb9b83b",
   "metadata": {},
   "source": [
    "Before we start analyzing the data, we should first do the required data conversions."
   ]
  },
  {
   "cell_type": "code",
   "execution_count": null,
   "id": "a3ad6682",
   "metadata": {},
   "outputs": [],
   "source": [
    "# lets convert DATEONLY column from a string variable to a datetime variable\n",
    "hvc_hvvisitresult[\"DATEONLY\"] = pd.to_datetime(hvc_hvvisitresult[\"DATEONLY\"])"
   ]
  },
  {
   "cell_type": "markdown",
   "id": "7415f343",
   "metadata": {},
   "source": [
    "# 3. Analytics"
   ]
  },
  {
   "cell_type": "markdown",
   "id": "7d4d36af",
   "metadata": {},
   "source": [
    "Now that we have somehow explored the data, we can do some more advanced analytics."
   ]
  },
  {
   "cell_type": "markdown",
   "id": "e9f642b1",
   "metadata": {},
   "source": [
    "## 3.1 Customer \n"
   ]
  },
  {
   "cell_type": "markdown",
   "id": "daf63e72",
   "metadata": {},
   "source": [
    "### 3.1.1 CLV"
   ]
  },
  {
   "cell_type": "markdown",
   "id": "b371448d",
   "metadata": {},
   "source": [
    "Lets have a look at the CLV or total sales generated by a specific customer"
   ]
  },
  {
   "cell_type": "code",
   "execution_count": null,
   "id": "58c457c9",
   "metadata": {},
   "outputs": [],
   "source": [
    "# define customer\n",
    "customer_id = 721110.0\n",
    "\n",
    "# get subset of transactions per customer\n",
    "customer_transactions = hvc_hvvisitresult[hvc_hvvisitresult[\"SO0_NRID\"] == customer_id]\n",
    "\n",
    "# get the transactions with a positive outcome\n",
    "customer_transactions = customer_transactions[customer_transactions[\"HVOUTCOME_NRID\"] == 2]\n",
    "\n",
    "# get total amount purchased by customer\n",
    "customer_clv = np.sum(customer_transactions[\"AMOUNT\"])\n",
    "\n",
    "# check\n",
    "print(customer_clv)"
   ]
  },
  {
   "cell_type": "markdown",
   "id": "3725c19a",
   "metadata": {},
   "source": [
    "Now lets define a function such that we can extract the total sales for any specified customer"
   ]
  },
  {
   "cell_type": "code",
   "execution_count": null,
   "id": "861b5666",
   "metadata": {},
   "outputs": [],
   "source": [
    "# define a function that accepts a customer id and the transactions data as parameters\n",
    "def get_clv(cust_id, transactions):\n",
    "    \n",
    "    # get customer transactions\n",
    "    cust_transactions = transactions[transactions[\"SO0_NRID\"] == cust_id]\n",
    "    # get transactions with positive outcome\n",
    "    cust_transactions_pos = cust_transactions[cust_transactions[\"HVOUTCOME_NRID\"] == 2]\n",
    "    # get clv\n",
    "    clv = np.sum(cust_transactions[\"AMOUNT\"])\n",
    "    # return clv\n",
    "    return(clv)"
   ]
  },
  {
   "cell_type": "code",
   "execution_count": null,
   "id": "721c480a",
   "metadata": {},
   "outputs": [],
   "source": [
    "# check\n",
    "clv = get_clv(cust_id=721110.0, transactions=hvc_hvvisitresult)\n",
    "print(clv)"
   ]
  },
  {
   "cell_type": "markdown",
   "id": "b0e1cfe4",
   "metadata": {},
   "source": [
    "### 3.1.2 Customer Frequency"
   ]
  },
  {
   "cell_type": "markdown",
   "id": "0f8223fd",
   "metadata": {},
   "source": [
    "How often did a customer purchase at the company at different days?"
   ]
  },
  {
   "cell_type": "code",
   "execution_count": null,
   "id": "3153cfcf",
   "metadata": {},
   "outputs": [],
   "source": [
    "# define customer\n",
    "customer_id = 721110.0\n",
    "\n",
    "# get transactions made by customer\n",
    "transactions_cust = hvc_hvvisitresult[hvc_hvvisitresult[\"SO0_NRID\"] == customer_id]\n",
    "\n",
    "# get transactions from succesfull visits\n",
    "transactions_cust = transactions_cust[transactions_cust[\"HVOUTCOME_NRID\"] == 2]\n",
    "\n",
    "# get total number of unique days on which customer made a purchase\n",
    "frequency = len(transactions_cust)"
   ]
  },
  {
   "cell_type": "code",
   "execution_count": null,
   "id": "b0036d5a",
   "metadata": {},
   "outputs": [],
   "source": [
    "# check\n",
    "frequency"
   ]
  },
  {
   "cell_type": "markdown",
   "id": "4d81a7e6",
   "metadata": {},
   "source": [
    "Now lets define a function that accepts the customer id and the transactions dataset and return the frequency"
   ]
  },
  {
   "cell_type": "code",
   "execution_count": null,
   "id": "8bce905e",
   "metadata": {},
   "outputs": [],
   "source": [
    "def get_frequency(cust_id, transactions):\n",
    "    \n",
    "    # get transactions made by customer\n",
    "    transactions_cust = transactions[hvc_hvvisitresult[\"SO0_NRID\"] == cust_id]\n",
    "\n",
    "    # get transactions from succesfull visits\n",
    "    transactions_cust = transactions_cust[transactions_cust[\"HVOUTCOME_NRID\"] == 2]\n",
    "\n",
    "    # get total number of unique days on which customer made a purchase\n",
    "    frequency = len(transactions_cust)\n",
    "    \n",
    "    # return\n",
    "    return(frequency)"
   ]
  },
  {
   "cell_type": "code",
   "execution_count": null,
   "id": "a240bf40",
   "metadata": {},
   "outputs": [],
   "source": [
    "# check\n",
    "get_frequency(721110.0, hvc_hvvisitresult)"
   ]
  },
  {
   "cell_type": "markdown",
   "id": "5af66126",
   "metadata": {},
   "source": [
    "### 3.1.3 Customer Products"
   ]
  },
  {
   "cell_type": "markdown",
   "id": "3a69b43d",
   "metadata": {},
   "source": [
    "Lets also investigete which products a customer bought."
   ]
  },
  {
   "cell_type": "code",
   "execution_count": null,
   "id": "350cf93b",
   "metadata": {},
   "outputs": [],
   "source": [
    "# define customer\n",
    "customer_id = 721110.0"
   ]
  },
  {
   "cell_type": "code",
   "execution_count": null,
   "id": "77ff0cd3",
   "metadata": {},
   "outputs": [],
   "source": [
    "# join transactions with transaction details with products\n",
    "transactions_products = hvc_hvvisitresult.merge(hvc_hvvisitresultdetails, on=\"HVVISITRESULT_NRID\", how=\"inner\") \\\n",
    "                                         .merge(hvc_ar0, on=\"AR0_NRID\", how=\"inner\")"
   ]
  },
  {
   "cell_type": "code",
   "execution_count": null,
   "id": "d0356205",
   "metadata": {},
   "outputs": [],
   "source": [
    "# check\n",
    "transactions_products.head(3)"
   ]
  },
  {
   "cell_type": "code",
   "execution_count": null,
   "id": "5a078e7c",
   "metadata": {},
   "outputs": [],
   "source": [
    "# get all the transactions for customer\n",
    "transactions_products_customer = transactions_products[transactions_products[\"SO0_NRID\"] == customer_id]\n",
    "\n",
    "# get all transactions with positive outcome\n",
    "transactions_products_customer = transactions_products_customer[transactions_products_customer[\"HVOUTCOME_NRID\"] == 2]"
   ]
  },
  {
   "cell_type": "code",
   "execution_count": null,
   "id": "86c3aa90",
   "metadata": {},
   "outputs": [],
   "source": [
    "# get total number of products bought by the customer\n",
    "transactions_products_customer[\"QUANTITY\"].sum()"
   ]
  },
  {
   "cell_type": "code",
   "execution_count": null,
   "id": "b363e868",
   "metadata": {},
   "outputs": [],
   "source": [
    "# get a list of all the unique products bought by customer\n",
    "transactions_products_customer[\"DESCRIPTION\"].unique().tolist()"
   ]
  },
  {
   "cell_type": "markdown",
   "id": "140918ee",
   "metadata": {},
   "source": [
    "Again we will create a function to get the list of unique products a customer bought"
   ]
  },
  {
   "cell_type": "code",
   "execution_count": null,
   "id": "a1598a5b",
   "metadata": {},
   "outputs": [],
   "source": [
    "# define a function that accepts a customer id, the transactions data, transactions details data and product data\n",
    "def get_products(cust_id, transactions, transaction_details, products):\n",
    "    \n",
    "\n",
    "    # join transactions with transaction details with products\n",
    "    transactions_products = transactions.merge(transaction_details, on=\"HVVISITRESULT_NRID\", how=\"inner\") \\\n",
    "                                        .merge(products, on=\"AR0_NRID\", how=\"inner\")\n",
    "    \n",
    "    # get transactions of customer \n",
    "    transactions_products_cust = transactions_products[transactions_products[\"SO0_NRID\"] == cust_id]\n",
    "    \n",
    "    # only get transactions of succesfull visits\n",
    "    transactions_products_cust = transactions_products_cust[transactions_products_cust[\"HVOUTCOME_NRID\"] == 2]\n",
    "    \n",
    "    # get total amount of products bought by the customer\n",
    "    total_products = transactions_products_cust[\"QUANTITY\"].sum()\n",
    "    \n",
    "    # get total number of unique products bought by the customer\n",
    "    total_unique_products = len(transactions_products_cust[\"DESCRIPTION\"].unique())\n",
    "    \n",
    "    # return\n",
    "    return(total_products, total_unique_products)"
   ]
  },
  {
   "cell_type": "code",
   "execution_count": null,
   "id": "711df92a",
   "metadata": {},
   "outputs": [],
   "source": [
    "# check\n",
    "get_products(cust_id=721110.0, \n",
    "                  transactions=hvc_hvvisitresult, \n",
    "                  transaction_details=hvc_hvvisitresultdetails, \n",
    "                  products=hvc_ar0)"
   ]
  },
  {
   "cell_type": "markdown",
   "id": "ce84cefd",
   "metadata": {},
   "source": [
    "### 3.1.5. Combine everything"
   ]
  },
  {
   "cell_type": "markdown",
   "id": "4c860956",
   "metadata": {},
   "source": [
    "Lets now combine the created functions to get a descriptice summary of a certain customer.\n",
    "More specifically, we are going to build a function that uses the predefined functions and returns:\n",
    "        \n",
    "        - The CLV of a customer\n",
    "        - The Frequency of a customer\n",
    "        - The total number of products bought by the customer\n",
    "        - The total number of unique products bought by the customer        "
   ]
  },
  {
   "cell_type": "code",
   "execution_count": null,
   "id": "150afdf9",
   "metadata": {},
   "outputs": [],
   "source": [
    "# define function\n",
    "def get_customer_report(cust_id, transactions, transaction_details, products):\n",
    "    \n",
    "    # get the customer clv\n",
    "    clv = get_clv(cust_id, transactions)\n",
    "    \n",
    "    # get customer frequency\n",
    "    freq = get_frequency(cust_id, transactions)\n",
    "    \n",
    "    # get total number of products as well as total number of unique products\n",
    "    total_products, total_unique_products = get_products(cust_id, transactions, transaction_details, products)\n",
    "    \n",
    "    # return\n",
    "    return(clv, freq, total_products, total_unique_products)"
   ]
  },
  {
   "cell_type": "code",
   "execution_count": null,
   "id": "5be40444",
   "metadata": {},
   "outputs": [],
   "source": [
    "get_customer_report(cust_id=721110.0, \n",
    "                    transactions=hvc_hvvisitresult, \n",
    "                    transaction_details=hvc_hvvisitresultdetails, \n",
    "                    products=hvc_ar0)"
   ]
  },
  {
   "cell_type": "markdown",
   "id": "a37e8c5c",
   "metadata": {},
   "source": [
    "# 4. Next Steps"
   ]
  },
  {
   "cell_type": "markdown",
   "id": "e0dfb25c",
   "metadata": {},
   "source": [
    "- Analyze the other datasets as well (employees, customers, products, routes, ...)\n",
    "- How many customers visited each employee?\n",
    "- Are there customers that stopped buying products?\n",
    "- Who are the best customers in terms of CLV?\n",
    "- Who are the top performing employees?\n",
    "- What are the best selling products?\n",
    "- What are the worst selling products?\n",
    "- ..."
   ]
  }
 ],
 "metadata": {
  "kernelspec": {
   "display_name": "Python 3",
   "language": "python",
   "name": "python3"
  },
  "language_info": {
   "codemirror_mode": {
    "name": "ipython",
    "version": 3
   },
   "file_extension": ".py",
   "mimetype": "text/x-python",
   "name": "python",
   "nbconvert_exporter": "python",
   "pygments_lexer": "ipython3",
   "version": "3.8.8"
  }
 },
 "nbformat": 4,
 "nbformat_minor": 5
}
