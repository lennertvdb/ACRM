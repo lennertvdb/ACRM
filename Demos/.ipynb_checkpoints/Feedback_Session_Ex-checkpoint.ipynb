{
 "cells": [
  {
   "cell_type": "code",
   "execution_count": 2,
   "metadata": {},
   "outputs": [],
   "source": [
    "# import packages\n",
    "import pandas as pd\n",
    "import numpy as np \n",
    "import statistics\n",
    "\n",
    "import datetime\n",
    "\n",
    "import os \n",
    "\n",
    "import matplotlib.pyplot as plt\n",
    "import seaborn as sns\n",
    "\n",
    "from IPython.display import Image"
   ]
  },
  {
   "cell_type": "markdown",
   "metadata": {},
   "source": [
    "# 0. Intro"
   ]
  },
  {
   "cell_type": "markdown",
   "metadata": {},
   "source": [
    "<font size=\"3\"> Timeslots for group presentations online on ufora. 1 member per group can subscribe\n",
    " "
   ]
  },
  {
   "cell_type": "markdown",
   "metadata": {},
   "source": [
    "# 1. Group Assignment"
   ]
  },
  {
   "cell_type": "markdown",
   "metadata": {},
   "source": [
    "## Question 1"
   ]
  },
  {
   "cell_type": "markdown",
   "metadata": {},
   "source": [
    "<font size=\"4\"> What is the **date of the reviews?**"
   ]
  },
  {
   "cell_type": "markdown",
   "metadata": {},
   "source": [
    "<font size=\"3\"> The survey was conducted at the end of 2019. \n",
    "Let us investigate whether there is a difference in transaction amounts for customers that gave a good and bad review."
   ]
  },
  {
   "cell_type": "code",
   "execution_count": 2,
   "metadata": {},
   "outputs": [],
   "source": [
    "# import reviews \n",
    "reviews_df = pd.read_csv(\"./data/HVC_CUSTOMER_REVIEWS.csv\", sep=\";\")\n",
    "# import transactions\n",
    "transactions_df = pd.read_csv(\"./data/HVC_HVVISITRESULT.csv\", sep=\";\")"
   ]
  },
  {
   "cell_type": "code",
   "execution_count": 3,
   "metadata": {},
   "outputs": [],
   "source": [
    "# convert date to datetime \n",
    "transactions_df[\"DATEONLY\"] = pd.to_datetime(transactions_df[\"DATEONLY\"])"
   ]
  },
  {
   "cell_type": "code",
   "execution_count": 5,
   "metadata": {},
   "outputs": [
    {
     "data": {
      "text/plain": [
       "array(['Good service, satisfied', 'No opinion',\n",
       "       'Excellent service, very satisfied', 'Not completely satisfied',\n",
       "       'Very bad service, very unsatisfied'], dtype=object)"
      ]
     },
     "execution_count": 5,
     "metadata": {},
     "output_type": "execute_result"
    }
   ],
   "source": [
    "# check all possible reviews\n",
    "reviews_df[\"REVIEW\"].unique()"
   ]
  },
  {
   "cell_type": "code",
   "execution_count": 6,
   "metadata": {},
   "outputs": [],
   "source": [
    "# get customers with a very bad reviews\n",
    "bad_customers = reviews_df[reviews_df[\"REVIEW\"] == \"Very bad service, very unsatisfied\"][\"SO0_NRID\"].unique()\n",
    "# get a customer with very good review\n",
    "good_customers = reviews_df[reviews_df[\"REVIEW\"] == \"Excellent service, very satisfied\"][\"SO0_NRID\"].unique()"
   ]
  },
  {
   "cell_type": "code",
   "execution_count": 705,
   "metadata": {},
   "outputs": [],
   "source": [
    "############################\n",
    "######### EXERCISE #########\n",
    "############################\n",
    "\n",
    "\n",
    "# get all the transactions for bad customers in 2019\n",
    "bad_transactions_df = \n",
    "\n",
    "\n",
    "# get total transaction value per bad customer in 2019\n",
    "bad_transaction_per_cust_df = \n",
    "\n"
   ]
  },
  {
   "cell_type": "code",
   "execution_count": 706,
   "metadata": {},
   "outputs": [],
   "source": [
    "############################\n",
    "######### EXERCISE #########\n",
    "############################\n",
    "\n",
    "\n",
    "# get all the transactions for good customers in 2019\n",
    "good_transactions_df = \n",
    "\n",
    "\n",
    "# get total transaction value per good customer in 2019\n",
    "good_transaction_per_cust_df = \n",
    "\n"
   ]
  },
  {
   "cell_type": "code",
   "execution_count": null,
   "metadata": {},
   "outputs": [],
   "source": [
    "############################\n",
    "######### EXERCISE #########\n",
    "############################\n",
    "\n",
    "\n",
    "# print mean transactions amount for bad and good customers\n"
   ]
  },
  {
   "cell_type": "markdown",
   "metadata": {},
   "source": [
    "<font size=\"3\">So we observe that there is a difference in transaction amounts for customers that gave a good and bad review. \n",
    "Lets now plot a boxplot for the transaction amounts for these two groups of customers."
   ]
  },
  {
   "cell_type": "code",
   "execution_count": 708,
   "metadata": {},
   "outputs": [],
   "source": [
    "# stack two datasets\n",
    "all_transactions_per_cust = pd.concat([bad_transaction_per_cust_df, good_transaction_per_cust_df], axis=0)\n",
    "# add customer indicator\n",
    "all_transactions_per_cust[\"TYPE\"] = [\"bad\" for i in range(len(bad_transaction_per_cust_df))] + [\"good\" for i in range(len(good_transactions_per_cust_df))]"
   ]
  },
  {
   "cell_type": "code",
   "execution_count": null,
   "metadata": {},
   "outputs": [],
   "source": [
    "# get boxplot of transaction amounts of customers that wrote bad / good review\n",
    "plt.figure(figsize=(10, 5))\n",
    "sns.boxplot(data=all_transactions_per_cust, x=\"AMOUNT\", y=\"TYPE\")\n",
    "plt.show()"
   ]
  },
  {
   "cell_type": "markdown",
   "metadata": {},
   "source": [
    "<font size=\"3\">Based on these boxplots, we can see that high transaction amounts are more likely to occur among the customers that gave a good review."
   ]
  },
  {
   "cell_type": "markdown",
   "metadata": {},
   "source": [
    "## Question 2"
   ]
  },
  {
   "cell_type": "markdown",
   "metadata": {},
   "source": [
    "<font size=\"4\"> Problems with **converting the VISITDATE variable**"
   ]
  },
  {
   "cell_type": "code",
   "execution_count": 7,
   "metadata": {},
   "outputs": [],
   "source": [
    "# import data\n",
    "transactions_df = pd.read_csv(\"./data/HVC_HVVISITRESULT.csv\", sep=\";\")\n",
    "# convert dateonly\n",
    "transactions_df[\"DATEONLY\"] = pd.to_datetime(transactions_df[\"DATEONLY\"])"
   ]
  },
  {
   "cell_type": "code",
   "execution_count": 8,
   "metadata": {},
   "outputs": [
    {
     "data": {
      "text/plain": [
       "0    12:20:01,000000000\n",
       "1    12:13:50,000000000\n",
       "2    12:14:08,000000000\n",
       "3    12:16:04,000000000\n",
       "4    10:41:09,000000000\n",
       "Name: VISITDATE, dtype: object"
      ]
     },
     "execution_count": 8,
     "metadata": {},
     "output_type": "execute_result"
    }
   ],
   "source": [
    "# check visitdate\n",
    "transactions_df[\"VISITDATE\"].head(5)"
   ]
  },
  {
   "cell_type": "markdown",
   "metadata": {},
   "source": [
    "<font size=\"3\"> The VISITDATE represents the timestamp of the transaction. In Pandas, you can convert string variables to datetime variables by using the pd.to_datetime() function. Then, you can extract the timestamp of a datetime variable by using the time() method."
   ]
  },
  {
   "cell_type": "code",
   "execution_count": 714,
   "metadata": {},
   "outputs": [],
   "source": [
    "############################\n",
    "######### EXERCISE #########\n",
    "############################\n",
    "\n",
    "\n",
    "# remove comma and all zeros after time stamp\n",
    "transactions_df[\"VISITDATE\"] = \n",
    "\n",
    "\n",
    "# convert string to datetime\n",
    "transactions_df[\"VISITDATE\"] = \n",
    "\n",
    "\n",
    "# extract time component\n",
    "transactions_df[\"VISITDATE\"] = "
   ]
  },
  {
   "cell_type": "code",
   "execution_count": null,
   "metadata": {},
   "outputs": [],
   "source": [
    "# check\n",
    "transactions_df[\"VISITDATE\"].head(5)"
   ]
  },
  {
   "cell_type": "markdown",
   "metadata": {},
   "source": [
    "<font size=\"3\">Now that we have extracted the timestamp of each transaction, \n",
    "we can sort the transactions chronologically by time."
   ]
  },
  {
   "cell_type": "code",
   "execution_count": 717,
   "metadata": {},
   "outputs": [
    {
     "data": {
      "text/html": [
       "<div>\n",
       "<style scoped>\n",
       "    .dataframe tbody tr th:only-of-type {\n",
       "        vertical-align: middle;\n",
       "    }\n",
       "\n",
       "    .dataframe tbody tr th {\n",
       "        vertical-align: top;\n",
       "    }\n",
       "\n",
       "    .dataframe thead th {\n",
       "        text-align: right;\n",
       "    }\n",
       "</style>\n",
       "<table border=\"1\" class=\"dataframe\">\n",
       "  <thead>\n",
       "    <tr style=\"text-align: right;\">\n",
       "      <th></th>\n",
       "      <th>HVVISITRESULT_NRID</th>\n",
       "      <th>SO0_NRID</th>\n",
       "      <th>AM0_NRID</th>\n",
       "      <th>HVOUTCOME_NRID</th>\n",
       "      <th>VISITDATE</th>\n",
       "      <th>DATEONLY</th>\n",
       "      <th>AMOUNT</th>\n",
       "      <th>PAYMENTTERM</th>\n",
       "    </tr>\n",
       "  </thead>\n",
       "  <tbody>\n",
       "    <tr>\n",
       "      <th>232</th>\n",
       "      <td>55668654</td>\n",
       "      <td>875178</td>\n",
       "      <td>19946584592834</td>\n",
       "      <td>2</td>\n",
       "      <td>08:44:48</td>\n",
       "      <td>2019-05-06</td>\n",
       "      <td>3.6</td>\n",
       "      <td>cash</td>\n",
       "    </tr>\n",
       "    <tr>\n",
       "      <th>233</th>\n",
       "      <td>55668713</td>\n",
       "      <td>879946</td>\n",
       "      <td>19946584592834</td>\n",
       "      <td>2</td>\n",
       "      <td>08:47:59</td>\n",
       "      <td>2019-05-06</td>\n",
       "      <td>13.1</td>\n",
       "      <td>cash</td>\n",
       "    </tr>\n",
       "    <tr>\n",
       "      <th>400</th>\n",
       "      <td>55668850</td>\n",
       "      <td>23443860422840</td>\n",
       "      <td>19946584592834</td>\n",
       "      <td>2</td>\n",
       "      <td>08:56:30</td>\n",
       "      <td>2019-05-06</td>\n",
       "      <td>34.6</td>\n",
       "      <td>cash</td>\n",
       "    </tr>\n",
       "    <tr>\n",
       "      <th>401</th>\n",
       "      <td>55668876</td>\n",
       "      <td>875158</td>\n",
       "      <td>19946584592834</td>\n",
       "      <td>0</td>\n",
       "      <td>08:57:44</td>\n",
       "      <td>2019-05-06</td>\n",
       "      <td>0.0</td>\n",
       "      <td>NaN</td>\n",
       "    </tr>\n",
       "    <tr>\n",
       "      <th>597</th>\n",
       "      <td>55669113</td>\n",
       "      <td>1459357</td>\n",
       "      <td>19946584592834</td>\n",
       "      <td>2</td>\n",
       "      <td>09:07:42</td>\n",
       "      <td>2019-05-06</td>\n",
       "      <td>9.5</td>\n",
       "      <td>cash</td>\n",
       "    </tr>\n",
       "    <tr>\n",
       "      <th>...</th>\n",
       "      <td>...</td>\n",
       "      <td>...</td>\n",
       "      <td>...</td>\n",
       "      <td>...</td>\n",
       "      <td>...</td>\n",
       "      <td>...</td>\n",
       "      <td>...</td>\n",
       "      <td>...</td>\n",
       "    </tr>\n",
       "    <tr>\n",
       "      <th>20</th>\n",
       "      <td>55714752</td>\n",
       "      <td>1246556</td>\n",
       "      <td>18934048107254</td>\n",
       "      <td>0</td>\n",
       "      <td>21:54:48</td>\n",
       "      <td>2019-05-06</td>\n",
       "      <td>0.0</td>\n",
       "      <td>NaN</td>\n",
       "    </tr>\n",
       "    <tr>\n",
       "      <th>21</th>\n",
       "      <td>55714759</td>\n",
       "      <td>21444856404640</td>\n",
       "      <td>18934048107254</td>\n",
       "      <td>2</td>\n",
       "      <td>21:57:10</td>\n",
       "      <td>2019-05-06</td>\n",
       "      <td>10.1</td>\n",
       "      <td>cash</td>\n",
       "    </tr>\n",
       "    <tr>\n",
       "      <th>22</th>\n",
       "      <td>55714770</td>\n",
       "      <td>1246568</td>\n",
       "      <td>18934048107254</td>\n",
       "      <td>2</td>\n",
       "      <td>22:08:39</td>\n",
       "      <td>2019-05-06</td>\n",
       "      <td>11.1</td>\n",
       "      <td>cash</td>\n",
       "    </tr>\n",
       "    <tr>\n",
       "      <th>23</th>\n",
       "      <td>55714774</td>\n",
       "      <td>1251889</td>\n",
       "      <td>18934048107254</td>\n",
       "      <td>2</td>\n",
       "      <td>22:09:34</td>\n",
       "      <td>2019-05-06</td>\n",
       "      <td>7.4</td>\n",
       "      <td>cash</td>\n",
       "    </tr>\n",
       "    <tr>\n",
       "      <th>24</th>\n",
       "      <td>55714788</td>\n",
       "      <td>1251894</td>\n",
       "      <td>18934048107254</td>\n",
       "      <td>2</td>\n",
       "      <td>22:13:31</td>\n",
       "      <td>2019-05-06</td>\n",
       "      <td>8.9</td>\n",
       "      <td>cash</td>\n",
       "    </tr>\n",
       "  </tbody>\n",
       "</table>\n",
       "<p>458 rows × 8 columns</p>\n",
       "</div>"
      ],
      "text/plain": [
       "     HVVISITRESULT_NRID        SO0_NRID        AM0_NRID  HVOUTCOME_NRID  \\\n",
       "232            55668654          875178  19946584592834               2   \n",
       "233            55668713          879946  19946584592834               2   \n",
       "400            55668850  23443860422840  19946584592834               2   \n",
       "401            55668876          875158  19946584592834               0   \n",
       "597            55669113         1459357  19946584592834               2   \n",
       "..                  ...             ...             ...             ...   \n",
       "20             55714752         1246556  18934048107254               0   \n",
       "21             55714759  21444856404640  18934048107254               2   \n",
       "22             55714770         1246568  18934048107254               2   \n",
       "23             55714774         1251889  18934048107254               2   \n",
       "24             55714788         1251894  18934048107254               2   \n",
       "\n",
       "    VISITDATE   DATEONLY  AMOUNT PAYMENTTERM  \n",
       "232  08:44:48 2019-05-06     3.6        cash  \n",
       "233  08:47:59 2019-05-06    13.1        cash  \n",
       "400  08:56:30 2019-05-06    34.6        cash  \n",
       "401  08:57:44 2019-05-06     0.0         NaN  \n",
       "597  09:07:42 2019-05-06     9.5        cash  \n",
       "..        ...        ...     ...         ...  \n",
       "20   21:54:48 2019-05-06     0.0         NaN  \n",
       "21   21:57:10 2019-05-06    10.1        cash  \n",
       "22   22:08:39 2019-05-06    11.1        cash  \n",
       "23   22:09:34 2019-05-06     7.4        cash  \n",
       "24   22:13:31 2019-05-06     8.9        cash  \n",
       "\n",
       "[458 rows x 8 columns]"
      ]
     },
     "execution_count": 717,
     "metadata": {},
     "output_type": "execute_result"
    }
   ],
   "source": [
    "# get all transactions for day 2019-05-06 in chronological order\n",
    "transactions_df[transactions_df[\"DATEONLY\"] == pd.Timestamp(year=2019, month=5, day=6)].sort_values(\"VISITDATE\")"
   ]
  },
  {
   "cell_type": "code",
   "execution_count": null,
   "metadata": {},
   "outputs": [],
   "source": [
    "############################\n",
    "######### EXERCISE #########\n",
    "############################\n",
    "\n",
    "\n",
    "\n",
    "# get all transactions for 2019-05-06 between 12pm and 17pm (you can use datetime.time() to compare timestamps)\n",
    "\n",
    "\n"
   ]
  },
  {
   "cell_type": "markdown",
   "metadata": {},
   "source": [
    "## Question 3"
   ]
  },
  {
   "cell_type": "markdown",
   "metadata": {},
   "source": [
    "<font size=\"4\">How can we **determine which customers left the company?** How should we define customer churn?"
   ]
  },
  {
   "cell_type": "markdown",
   "metadata": {},
   "source": [
    "<font size=\"3\">What we for example can do, is check if there are customers that bought products in 2019, but that didn't buy any products during 2020.\n",
    "Then we can assume that these customers left the company in 2020."
   ]
  },
  {
   "cell_type": "code",
   "execution_count": 11,
   "metadata": {},
   "outputs": [],
   "source": [
    "# import data\n",
    "transactions_df = pd.read_csv(\"./data/HVC_HVVISITRESULT.csv\", sep=\";\")\n",
    "# convert datetime\n",
    "transactions_df[\"DATEONLY\"] = pd.to_datetime(transactions_df[\"DATEONLY\"])"
   ]
  },
  {
   "cell_type": "code",
   "execution_count": 12,
   "metadata": {},
   "outputs": [],
   "source": [
    "# get transactions in 2019\n",
    "transactions_19_df = transactions_df[(transactions_df[\"HVOUTCOME_NRID\"] == 2) & \n",
    "                       (transactions_df[\"DATEONLY\"] >= pd.Timestamp(year=2019, month=1, day=1)) &\n",
    "                       (transactions_df[\"DATEONLY\"] < pd.Timestamp(year=2020, month=1, day=1))]"
   ]
  },
  {
   "cell_type": "code",
   "execution_count": 13,
   "metadata": {},
   "outputs": [],
   "source": [
    "# get transactions in 2020\n",
    "transactions_20_df = transactions_df[(transactions_df[\"HVOUTCOME_NRID\"] == 2) & \n",
    "                       (transactions_df[\"DATEONLY\"] >= pd.Timestamp(year=2020, month=1, day=1)) &\n",
    "                       (transactions_df[\"DATEONLY\"] < pd.Timestamp(year=2021, month=1, day=1))]"
   ]
  },
  {
   "cell_type": "code",
   "execution_count": 722,
   "metadata": {},
   "outputs": [],
   "source": [
    "############################\n",
    "######### EXERCISE #########\n",
    "############################\n",
    "\n",
    "\n",
    "# get customers that purchased products in 2019\n",
    "cust_19 = \n",
    "\n",
    "# get customers that purchased products in 2020\n",
    "cust_20 = \n",
    "\n",
    "# get customers that purchased products in 2019 but not in 2020\n",
    "cust_19_not_20 = \n"
   ]
  },
  {
   "cell_type": "code",
   "execution_count": null,
   "metadata": {},
   "outputs": [],
   "source": [
    "# check how many customers purchasesd in 2019 and left in 2020\n",
    "print(\"%s customers purchased products in 2019\" %len(cust_19))\n",
    "print(\"%s of these customers left the company in 2020\" %len(cust_19_not_20))"
   ]
  },
  {
   "cell_type": "markdown",
   "metadata": {},
   "source": [
    "<font size=\"3\"> Depending on your business problem, you can **change these time windows**.\n",
    "You could also investigate whether there are summer customers that stopped buying in the summer,\n",
    "or christmas customers that stopped buying during christmas."
   ]
  },
  {
   "cell_type": "markdown",
   "metadata": {},
   "source": [
    "## Question 4"
   ]
  },
  {
   "cell_type": "markdown",
   "metadata": {},
   "source": [
    "<font size=\"4\"> How do you need to **interpret the Long and Lat coordinates?**"
   ]
  },
  {
   "cell_type": "code",
   "execution_count": 28,
   "metadata": {},
   "outputs": [],
   "source": [
    "# import customer locations\n",
    "pos_df = pd.read_csv(\"./data/HVC_HVPOSITION.csv\", sep=\";\")\n",
    "# import customer data\n",
    "cust_df = pd.read_csv(\"./data/HVC_SO0.csv\", sep=\";\")\n",
    "# join\n",
    "cust_pos_df = pd.merge(left=cust_df, right=pos_df, on=\"SO0_NRID\", how=\"inner\")"
   ]
  },
  {
   "cell_type": "code",
   "execution_count": 29,
   "metadata": {},
   "outputs": [
    {
     "data": {
      "text/html": [
       "<div>\n",
       "<style scoped>\n",
       "    .dataframe tbody tr th:only-of-type {\n",
       "        vertical-align: middle;\n",
       "    }\n",
       "\n",
       "    .dataframe tbody tr th {\n",
       "        vertical-align: top;\n",
       "    }\n",
       "\n",
       "    .dataframe thead th {\n",
       "        text-align: right;\n",
       "    }\n",
       "</style>\n",
       "<table border=\"1\" class=\"dataframe\">\n",
       "  <thead>\n",
       "    <tr style=\"text-align: right;\">\n",
       "      <th></th>\n",
       "      <th>SO0_NRID</th>\n",
       "      <th>HVROUTETEMPLATE_NRID</th>\n",
       "      <th>CUST_TYPE</th>\n",
       "      <th>POSTCODE</th>\n",
       "      <th>LANGUAGE</th>\n",
       "      <th>SEASON_TYPE</th>\n",
       "      <th>LONG</th>\n",
       "      <th>LAT</th>\n",
       "    </tr>\n",
       "  </thead>\n",
       "  <tbody>\n",
       "    <tr>\n",
       "      <th>0</th>\n",
       "      <td>721104.0</td>\n",
       "      <td>219020601.0</td>\n",
       "      <td>Private</td>\n",
       "      <td>3930</td>\n",
       "      <td>nl-BE</td>\n",
       "      <td>All time</td>\n",
       "      <td>3.428621</td>\n",
       "      <td>50.813597</td>\n",
       "    </tr>\n",
       "    <tr>\n",
       "      <th>1</th>\n",
       "      <td>721110.0</td>\n",
       "      <td>219020601.0</td>\n",
       "      <td>Private</td>\n",
       "      <td>3930</td>\n",
       "      <td>nl-BE</td>\n",
       "      <td>All time</td>\n",
       "      <td>3.428621</td>\n",
       "      <td>50.813597</td>\n",
       "    </tr>\n",
       "    <tr>\n",
       "      <th>2</th>\n",
       "      <td>721121.0</td>\n",
       "      <td>219020601.0</td>\n",
       "      <td>Private</td>\n",
       "      <td>3930</td>\n",
       "      <td>nl-BE</td>\n",
       "      <td>All time</td>\n",
       "      <td>3.441093</td>\n",
       "      <td>50.815210</td>\n",
       "    </tr>\n",
       "    <tr>\n",
       "      <th>3</th>\n",
       "      <td>721126.0</td>\n",
       "      <td>219020601.0</td>\n",
       "      <td>Private</td>\n",
       "      <td>3930</td>\n",
       "      <td>nl-BE</td>\n",
       "      <td>All time</td>\n",
       "      <td>3.439682</td>\n",
       "      <td>50.814901</td>\n",
       "    </tr>\n",
       "    <tr>\n",
       "      <th>4</th>\n",
       "      <td>721131.0</td>\n",
       "      <td>219020601.0</td>\n",
       "      <td>Private</td>\n",
       "      <td>3930</td>\n",
       "      <td>nl-BE</td>\n",
       "      <td>All time</td>\n",
       "      <td>3.440451</td>\n",
       "      <td>50.815069</td>\n",
       "    </tr>\n",
       "  </tbody>\n",
       "</table>\n",
       "</div>"
      ],
      "text/plain": [
       "   SO0_NRID  HVROUTETEMPLATE_NRID CUST_TYPE  POSTCODE LANGUAGE SEASON_TYPE  \\\n",
       "0  721104.0           219020601.0   Private      3930    nl-BE    All time   \n",
       "1  721110.0           219020601.0   Private      3930    nl-BE    All time   \n",
       "2  721121.0           219020601.0   Private      3930    nl-BE    All time   \n",
       "3  721126.0           219020601.0   Private      3930    nl-BE    All time   \n",
       "4  721131.0           219020601.0   Private      3930    nl-BE    All time   \n",
       "\n",
       "       LONG        LAT  \n",
       "0  3.428621  50.813597  \n",
       "1  3.428621  50.813597  \n",
       "2  3.441093  50.815210  \n",
       "3  3.439682  50.814901  \n",
       "4  3.440451  50.815069  "
      ]
     },
     "execution_count": 29,
     "metadata": {},
     "output_type": "execute_result"
    }
   ],
   "source": [
    "# check\n",
    "cust_pos_df.head(5)"
   ]
  },
  {
   "cell_type": "code",
   "execution_count": 30,
   "metadata": {},
   "outputs": [],
   "source": [
    "# import city data from belgium, which was downloaded from the internet\n",
    "postcodes_df = pd.read_csv(\"./data/zipcode-belgium.csv\", header=None)\n",
    "postcodes_df.columns = [\"POSTCODE\", \"LOCATION\", \"LONG\", \"LAT\"]"
   ]
  },
  {
   "cell_type": "code",
   "execution_count": 31,
   "metadata": {},
   "outputs": [
    {
     "data": {
      "text/html": [
       "<div>\n",
       "<style scoped>\n",
       "    .dataframe tbody tr th:only-of-type {\n",
       "        vertical-align: middle;\n",
       "    }\n",
       "\n",
       "    .dataframe tbody tr th {\n",
       "        vertical-align: top;\n",
       "    }\n",
       "\n",
       "    .dataframe thead th {\n",
       "        text-align: right;\n",
       "    }\n",
       "</style>\n",
       "<table border=\"1\" class=\"dataframe\">\n",
       "  <thead>\n",
       "    <tr style=\"text-align: right;\">\n",
       "      <th></th>\n",
       "      <th>POSTCODE</th>\n",
       "      <th>LOCATION</th>\n",
       "      <th>LONG</th>\n",
       "      <th>LAT</th>\n",
       "    </tr>\n",
       "  </thead>\n",
       "  <tbody>\n",
       "    <tr>\n",
       "      <th>0</th>\n",
       "      <td>1000</td>\n",
       "      <td>Bruxelles</td>\n",
       "      <td>4.351697</td>\n",
       "      <td>50.846557</td>\n",
       "    </tr>\n",
       "    <tr>\n",
       "      <th>1</th>\n",
       "      <td>1020</td>\n",
       "      <td>Laeken</td>\n",
       "      <td>4.348713</td>\n",
       "      <td>50.883392</td>\n",
       "    </tr>\n",
       "    <tr>\n",
       "      <th>2</th>\n",
       "      <td>1030</td>\n",
       "      <td>Schaerbeek</td>\n",
       "      <td>4.373712</td>\n",
       "      <td>50.867604</td>\n",
       "    </tr>\n",
       "    <tr>\n",
       "      <th>3</th>\n",
       "      <td>1040</td>\n",
       "      <td>Etterbeek</td>\n",
       "      <td>4.389510</td>\n",
       "      <td>50.836851</td>\n",
       "    </tr>\n",
       "    <tr>\n",
       "      <th>4</th>\n",
       "      <td>1050</td>\n",
       "      <td>Ixelles</td>\n",
       "      <td>4.381571</td>\n",
       "      <td>50.822285</td>\n",
       "    </tr>\n",
       "  </tbody>\n",
       "</table>\n",
       "</div>"
      ],
      "text/plain": [
       "   POSTCODE    LOCATION      LONG        LAT\n",
       "0      1000   Bruxelles  4.351697  50.846557\n",
       "1      1020      Laeken  4.348713  50.883392\n",
       "2      1030  Schaerbeek  4.373712  50.867604\n",
       "3      1040   Etterbeek  4.389510  50.836851\n",
       "4      1050     Ixelles  4.381571  50.822285"
      ]
     },
     "execution_count": 31,
     "metadata": {},
     "output_type": "execute_result"
    }
   ],
   "source": [
    "# check\n",
    "postcodes_df.head(5)"
   ]
  },
  {
   "cell_type": "code",
   "execution_count": null,
   "metadata": {},
   "outputs": [],
   "source": [
    "############################\n",
    "######### EXERCISE #########\n",
    "############################\n",
    "\n",
    "\n",
    "\n",
    "# plot all cities on map\n",
    "\n",
    "\n"
   ]
  },
  {
   "cell_type": "code",
   "execution_count": 33,
   "metadata": {},
   "outputs": [
    {
     "data": {
      "text/html": [
       "<div>\n",
       "<style scoped>\n",
       "    .dataframe tbody tr th:only-of-type {\n",
       "        vertical-align: middle;\n",
       "    }\n",
       "\n",
       "    .dataframe tbody tr th {\n",
       "        vertical-align: top;\n",
       "    }\n",
       "\n",
       "    .dataframe thead th {\n",
       "        text-align: right;\n",
       "    }\n",
       "</style>\n",
       "<table border=\"1\" class=\"dataframe\">\n",
       "  <thead>\n",
       "    <tr style=\"text-align: right;\">\n",
       "      <th></th>\n",
       "      <th>SO0_NRID</th>\n",
       "      <th>HVROUTETEMPLATE_NRID</th>\n",
       "      <th>CUST_TYPE</th>\n",
       "      <th>POSTCODE</th>\n",
       "      <th>LANGUAGE</th>\n",
       "      <th>SEASON_TYPE</th>\n",
       "      <th>LONG_x</th>\n",
       "      <th>LAT_x</th>\n",
       "      <th>LOCATION</th>\n",
       "      <th>LONG_y</th>\n",
       "      <th>LAT_y</th>\n",
       "    </tr>\n",
       "  </thead>\n",
       "  <tbody>\n",
       "    <tr>\n",
       "      <th>0</th>\n",
       "      <td>721104.0</td>\n",
       "      <td>219020601.0</td>\n",
       "      <td>Private</td>\n",
       "      <td>3930</td>\n",
       "      <td>nl-BE</td>\n",
       "      <td>All time</td>\n",
       "      <td>3.428621</td>\n",
       "      <td>50.813597</td>\n",
       "      <td>Achel</td>\n",
       "      <td>5.479290</td>\n",
       "      <td>51.268431</td>\n",
       "    </tr>\n",
       "    <tr>\n",
       "      <th>1</th>\n",
       "      <td>721104.0</td>\n",
       "      <td>219020601.0</td>\n",
       "      <td>Private</td>\n",
       "      <td>3930</td>\n",
       "      <td>nl-BE</td>\n",
       "      <td>All time</td>\n",
       "      <td>3.428621</td>\n",
       "      <td>50.813597</td>\n",
       "      <td>Hamont</td>\n",
       "      <td>5.531287</td>\n",
       "      <td>51.254585</td>\n",
       "    </tr>\n",
       "    <tr>\n",
       "      <th>2</th>\n",
       "      <td>721104.0</td>\n",
       "      <td>219020601.0</td>\n",
       "      <td>Private</td>\n",
       "      <td>3930</td>\n",
       "      <td>nl-BE</td>\n",
       "      <td>All time</td>\n",
       "      <td>3.428621</td>\n",
       "      <td>50.813597</td>\n",
       "      <td>Hamont-Achel</td>\n",
       "      <td>5.512870</td>\n",
       "      <td>51.254764</td>\n",
       "    </tr>\n",
       "    <tr>\n",
       "      <th>3</th>\n",
       "      <td>721110.0</td>\n",
       "      <td>219020601.0</td>\n",
       "      <td>Private</td>\n",
       "      <td>3930</td>\n",
       "      <td>nl-BE</td>\n",
       "      <td>All time</td>\n",
       "      <td>3.428621</td>\n",
       "      <td>50.813597</td>\n",
       "      <td>Achel</td>\n",
       "      <td>5.479290</td>\n",
       "      <td>51.268431</td>\n",
       "    </tr>\n",
       "    <tr>\n",
       "      <th>4</th>\n",
       "      <td>721110.0</td>\n",
       "      <td>219020601.0</td>\n",
       "      <td>Private</td>\n",
       "      <td>3930</td>\n",
       "      <td>nl-BE</td>\n",
       "      <td>All time</td>\n",
       "      <td>3.428621</td>\n",
       "      <td>50.813597</td>\n",
       "      <td>Hamont</td>\n",
       "      <td>5.531287</td>\n",
       "      <td>51.254585</td>\n",
       "    </tr>\n",
       "  </tbody>\n",
       "</table>\n",
       "</div>"
      ],
      "text/plain": [
       "   SO0_NRID  HVROUTETEMPLATE_NRID CUST_TYPE  POSTCODE LANGUAGE SEASON_TYPE  \\\n",
       "0  721104.0           219020601.0   Private      3930    nl-BE    All time   \n",
       "1  721104.0           219020601.0   Private      3930    nl-BE    All time   \n",
       "2  721104.0           219020601.0   Private      3930    nl-BE    All time   \n",
       "3  721110.0           219020601.0   Private      3930    nl-BE    All time   \n",
       "4  721110.0           219020601.0   Private      3930    nl-BE    All time   \n",
       "\n",
       "     LONG_x      LAT_x      LOCATION    LONG_y      LAT_y  \n",
       "0  3.428621  50.813597         Achel  5.479290  51.268431  \n",
       "1  3.428621  50.813597        Hamont  5.531287  51.254585  \n",
       "2  3.428621  50.813597  Hamont-Achel  5.512870  51.254764  \n",
       "3  3.428621  50.813597         Achel  5.479290  51.268431  \n",
       "4  3.428621  50.813597        Hamont  5.531287  51.254585  "
      ]
     },
     "execution_count": 33,
     "metadata": {},
     "output_type": "execute_result"
    }
   ],
   "source": [
    "# join with customer data\n",
    "cust_pos_postcodes_df = pd.merge(left=cust_pos_df, right=postcodes_df, on=\"POSTCODE\", how=\"inner\")\n",
    "# check\n",
    "cust_pos_postcodes_df.head(5)"
   ]
  },
  {
   "cell_type": "code",
   "execution_count": 34,
   "metadata": {},
   "outputs": [
    {
     "data": {
      "text/html": [
       "<div>\n",
       "<style scoped>\n",
       "    .dataframe tbody tr th:only-of-type {\n",
       "        vertical-align: middle;\n",
       "    }\n",
       "\n",
       "    .dataframe tbody tr th {\n",
       "        vertical-align: top;\n",
       "    }\n",
       "\n",
       "    .dataframe thead th {\n",
       "        text-align: right;\n",
       "    }\n",
       "</style>\n",
       "<table border=\"1\" class=\"dataframe\">\n",
       "  <thead>\n",
       "    <tr style=\"text-align: right;\">\n",
       "      <th></th>\n",
       "      <th>LONG_x</th>\n",
       "      <th>LAT_x</th>\n",
       "      <th>LONG_y</th>\n",
       "      <th>LAT_y</th>\n",
       "      <th>POSTCODE</th>\n",
       "      <th>LOCATION</th>\n",
       "    </tr>\n",
       "  </thead>\n",
       "  <tbody>\n",
       "    <tr>\n",
       "      <th>0</th>\n",
       "      <td>3.428621</td>\n",
       "      <td>50.813597</td>\n",
       "      <td>5.479290</td>\n",
       "      <td>51.268431</td>\n",
       "      <td>3930</td>\n",
       "      <td>Achel</td>\n",
       "    </tr>\n",
       "    <tr>\n",
       "      <th>1</th>\n",
       "      <td>3.428621</td>\n",
       "      <td>50.813597</td>\n",
       "      <td>5.531287</td>\n",
       "      <td>51.254585</td>\n",
       "      <td>3930</td>\n",
       "      <td>Hamont</td>\n",
       "    </tr>\n",
       "    <tr>\n",
       "      <th>2</th>\n",
       "      <td>3.428621</td>\n",
       "      <td>50.813597</td>\n",
       "      <td>5.512870</td>\n",
       "      <td>51.254764</td>\n",
       "      <td>3930</td>\n",
       "      <td>Hamont-Achel</td>\n",
       "    </tr>\n",
       "    <tr>\n",
       "      <th>3</th>\n",
       "      <td>3.428621</td>\n",
       "      <td>50.813597</td>\n",
       "      <td>5.479290</td>\n",
       "      <td>51.268431</td>\n",
       "      <td>3930</td>\n",
       "      <td>Achel</td>\n",
       "    </tr>\n",
       "    <tr>\n",
       "      <th>4</th>\n",
       "      <td>3.428621</td>\n",
       "      <td>50.813597</td>\n",
       "      <td>5.531287</td>\n",
       "      <td>51.254585</td>\n",
       "      <td>3930</td>\n",
       "      <td>Hamont</td>\n",
       "    </tr>\n",
       "    <tr>\n",
       "      <th>5</th>\n",
       "      <td>3.428621</td>\n",
       "      <td>50.813597</td>\n",
       "      <td>5.512870</td>\n",
       "      <td>51.254764</td>\n",
       "      <td>3930</td>\n",
       "      <td>Hamont-Achel</td>\n",
       "    </tr>\n",
       "    <tr>\n",
       "      <th>6</th>\n",
       "      <td>3.441093</td>\n",
       "      <td>50.815210</td>\n",
       "      <td>5.479290</td>\n",
       "      <td>51.268431</td>\n",
       "      <td>3930</td>\n",
       "      <td>Achel</td>\n",
       "    </tr>\n",
       "    <tr>\n",
       "      <th>7</th>\n",
       "      <td>3.441093</td>\n",
       "      <td>50.815210</td>\n",
       "      <td>5.531287</td>\n",
       "      <td>51.254585</td>\n",
       "      <td>3930</td>\n",
       "      <td>Hamont</td>\n",
       "    </tr>\n",
       "    <tr>\n",
       "      <th>8</th>\n",
       "      <td>3.441093</td>\n",
       "      <td>50.815210</td>\n",
       "      <td>5.512870</td>\n",
       "      <td>51.254764</td>\n",
       "      <td>3930</td>\n",
       "      <td>Hamont-Achel</td>\n",
       "    </tr>\n",
       "    <tr>\n",
       "      <th>9</th>\n",
       "      <td>3.439682</td>\n",
       "      <td>50.814901</td>\n",
       "      <td>5.479290</td>\n",
       "      <td>51.268431</td>\n",
       "      <td>3930</td>\n",
       "      <td>Achel</td>\n",
       "    </tr>\n",
       "  </tbody>\n",
       "</table>\n",
       "</div>"
      ],
      "text/plain": [
       "     LONG_x      LAT_x    LONG_y      LAT_y  POSTCODE      LOCATION\n",
       "0  3.428621  50.813597  5.479290  51.268431      3930         Achel\n",
       "1  3.428621  50.813597  5.531287  51.254585      3930        Hamont\n",
       "2  3.428621  50.813597  5.512870  51.254764      3930  Hamont-Achel\n",
       "3  3.428621  50.813597  5.479290  51.268431      3930         Achel\n",
       "4  3.428621  50.813597  5.531287  51.254585      3930        Hamont\n",
       "5  3.428621  50.813597  5.512870  51.254764      3930  Hamont-Achel\n",
       "6  3.441093  50.815210  5.479290  51.268431      3930         Achel\n",
       "7  3.441093  50.815210  5.531287  51.254585      3930        Hamont\n",
       "8  3.441093  50.815210  5.512870  51.254764      3930  Hamont-Achel\n",
       "9  3.439682  50.814901  5.479290  51.268431      3930         Achel"
      ]
     },
     "execution_count": 34,
     "metadata": {},
     "output_type": "execute_result"
    }
   ],
   "source": [
    "# check the long and lats for first 10 obs\n",
    "cust_pos_postcodes_df[[\"LONG_x\", \"LAT_x\", \"LONG_y\", \"LAT_y\", \"POSTCODE\", \"LOCATION\"]].head(10)"
   ]
  },
  {
   "cell_type": "markdown",
   "metadata": {},
   "source": [
    "<font size=\"3\">It is clear that the locations of the customers, represented by LONG and LAT, do not correspond with the postcodes of the customers.\n",
    "We can also assume that the locations, represented by LONG and LAT, are the correct locations of the customers, \n",
    "since all the customers' postcodes are located in Limburg, which is very unlikely.\n",
    "Is their a way to **infer the correct postcodes for the customers?**"
   ]
  },
  {
   "cell_type": "code",
   "execution_count": 36,
   "metadata": {},
   "outputs": [],
   "source": [
    "# get long and lat from first customer\n",
    "cust_long = float(cust_pos_postcodes_df[\"LONG_x\"].iloc[0])\n",
    "cust_lat = float(cust_pos_postcodes_df[\"LAT_x\"].iloc[0])"
   ]
  },
  {
   "cell_type": "code",
   "execution_count": 37,
   "metadata": {},
   "outputs": [
    {
     "data": {
      "image/png": "[encoded data removed]",
      "text/plain": [
       "<Figure size 432x432 with 1 Axes>"
      ]
     },
     "metadata": {
      "needs_background": "light"
     },
     "output_type": "display_data"
    }
   ],
   "source": [
    "# plot first customer on map\n",
    "plt.figure(figsize=(6, 6))\n",
    "plt.scatter(postcodes_df[\"LONG\"], postcodes_df[\"LAT\"], s=3, color=\"lightblue\")\n",
    "plt.scatter(cust_long, cust_lat, s=50, color=\"red\")\n",
    "plt.show()"
   ]
  },
  {
   "cell_type": "code",
   "execution_count": 733,
   "metadata": {},
   "outputs": [],
   "source": [
    "# define function to get calcultate euclidean distance between coordinates\n",
    "def euclidean_distance(x_long, x_lat, y_long, y_lat):\n",
    "    # get euclidean distance between two pairs of coordinates\n",
    "    dist = ((x_long - y_long) ** 2 + (x_lat - y_lat) ** 2) ** 0.5\n",
    "    # retrn\n",
    "    return(dist)"
   ]
  },
  {
   "cell_type": "code",
   "execution_count": 735,
   "metadata": {},
   "outputs": [],
   "source": [
    "############################\n",
    "######### EXERCISE #########\n",
    "############################\n",
    "\n",
    "\n",
    "# get coordinates of Ghent\n",
    "\n",
    "\n",
    "# test function to get distance between customer coordinates and Ghent coordinates\n",
    "\n",
    "\n"
   ]
  },
  {
   "cell_type": "markdown",
   "metadata": {},
   "source": [
    "<font size=\"3\"> Now, you can find the **city which is closest to the coordinates of the customer** to infer the customer's city"
   ]
  },
  {
   "cell_type": "markdown",
   "metadata": {},
   "source": [
    "## Question 5"
   ]
  },
  {
   "cell_type": "markdown",
   "metadata": {},
   "source": [
    "<font size=\"4\"> Are the **locations of employees also biased**?"
   ]
  },
  {
   "cell_type": "code",
   "execution_count": 39,
   "metadata": {},
   "outputs": [],
   "source": [
    "# import data\n",
    "employees_df = pd.read_csv(\"./data/HVC_AM0.csv\", sep=\";\")"
   ]
  },
  {
   "cell_type": "code",
   "execution_count": 40,
   "metadata": {},
   "outputs": [
    {
     "data": {
      "text/html": [
       "<div>\n",
       "<style scoped>\n",
       "    .dataframe tbody tr th:only-of-type {\n",
       "        vertical-align: middle;\n",
       "    }\n",
       "\n",
       "    .dataframe tbody tr th {\n",
       "        vertical-align: top;\n",
       "    }\n",
       "\n",
       "    .dataframe thead th {\n",
       "        text-align: right;\n",
       "    }\n",
       "</style>\n",
       "<table border=\"1\" class=\"dataframe\">\n",
       "  <thead>\n",
       "    <tr style=\"text-align: right;\">\n",
       "      <th></th>\n",
       "      <th>AM0_NRID</th>\n",
       "      <th>EMPLOYEENUMBER</th>\n",
       "      <th>NAME</th>\n",
       "      <th>POSTCODE</th>\n",
       "      <th>LOCATION</th>\n",
       "      <th>LANGUAGE</th>\n",
       "    </tr>\n",
       "  </thead>\n",
       "  <tbody>\n",
       "    <tr>\n",
       "      <th>0</th>\n",
       "      <td>18503611215721</td>\n",
       "      <td>1001.0</td>\n",
       "      <td>BOONE Frederik</td>\n",
       "      <td>2460</td>\n",
       "      <td>Tielen</td>\n",
       "      <td>nl-BE</td>\n",
       "    </tr>\n",
       "    <tr>\n",
       "      <th>1</th>\n",
       "      <td>18503612347289</td>\n",
       "      <td>1021.0</td>\n",
       "      <td>JANSSENS Jos</td>\n",
       "      <td>2400</td>\n",
       "      <td>Mol</td>\n",
       "      <td>nl-BE</td>\n",
       "    </tr>\n",
       "    <tr>\n",
       "      <th>2</th>\n",
       "      <td>18503612452173</td>\n",
       "      <td>1022.0</td>\n",
       "      <td>LEYSEN Michiel</td>\n",
       "      <td>3500</td>\n",
       "      <td>Hasselt</td>\n",
       "      <td>nl-BE</td>\n",
       "    </tr>\n",
       "    <tr>\n",
       "      <th>3</th>\n",
       "      <td>18503621528962</td>\n",
       "      <td>1122.0</td>\n",
       "      <td>ALLEMAN Benny</td>\n",
       "      <td>3900</td>\n",
       "      <td>Overpelt</td>\n",
       "      <td>nl-BE</td>\n",
       "    </tr>\n",
       "    <tr>\n",
       "      <th>4</th>\n",
       "      <td>18503622652855</td>\n",
       "      <td>1135.0</td>\n",
       "      <td>GOOVAERTS Jef</td>\n",
       "      <td>3920</td>\n",
       "      <td>Lommel</td>\n",
       "      <td>nl-BE</td>\n",
       "    </tr>\n",
       "  </tbody>\n",
       "</table>\n",
       "</div>"
      ],
      "text/plain": [
       "         AM0_NRID  EMPLOYEENUMBER            NAME  POSTCODE  LOCATION LANGUAGE\n",
       "0  18503611215721          1001.0  BOONE Frederik      2460    Tielen    nl-BE\n",
       "1  18503612347289          1021.0    JANSSENS Jos      2400       Mol    nl-BE\n",
       "2  18503612452173          1022.0  LEYSEN Michiel      3500   Hasselt    nl-BE\n",
       "3  18503621528962          1122.0   ALLEMAN Benny      3900  Overpelt    nl-BE\n",
       "4  18503622652855          1135.0   GOOVAERTS Jef      3920    Lommel    nl-BE"
      ]
     },
     "execution_count": 40,
     "metadata": {},
     "output_type": "execute_result"
    }
   ],
   "source": [
    "# check\n",
    "employees_df.head(5)"
   ]
  },
  {
   "cell_type": "code",
   "execution_count": 42,
   "metadata": {},
   "outputs": [],
   "source": [
    "# import all cities and corresponding postcodes from Belgium\n",
    "postcodes_df = pd.read_csv(\"./data/zipcode-belgium.csv\", header=None)\n",
    "# define column names\n",
    "postcodes_df.columns = [\"POSTCODE\", \"LOCATION\", \"LONG\", \"LAT\"]"
   ]
  },
  {
   "cell_type": "code",
   "execution_count": 43,
   "metadata": {},
   "outputs": [
    {
     "data": {
      "text/html": [
       "<div>\n",
       "<style scoped>\n",
       "    .dataframe tbody tr th:only-of-type {\n",
       "        vertical-align: middle;\n",
       "    }\n",
       "\n",
       "    .dataframe tbody tr th {\n",
       "        vertical-align: top;\n",
       "    }\n",
       "\n",
       "    .dataframe thead th {\n",
       "        text-align: right;\n",
       "    }\n",
       "</style>\n",
       "<table border=\"1\" class=\"dataframe\">\n",
       "  <thead>\n",
       "    <tr style=\"text-align: right;\">\n",
       "      <th></th>\n",
       "      <th>POSTCODE</th>\n",
       "      <th>LOCATION</th>\n",
       "      <th>LONG</th>\n",
       "      <th>LAT</th>\n",
       "    </tr>\n",
       "  </thead>\n",
       "  <tbody>\n",
       "    <tr>\n",
       "      <th>0</th>\n",
       "      <td>1000</td>\n",
       "      <td>Bruxelles</td>\n",
       "      <td>4.351697</td>\n",
       "      <td>50.846557</td>\n",
       "    </tr>\n",
       "    <tr>\n",
       "      <th>1</th>\n",
       "      <td>1020</td>\n",
       "      <td>Laeken</td>\n",
       "      <td>4.348713</td>\n",
       "      <td>50.883392</td>\n",
       "    </tr>\n",
       "    <tr>\n",
       "      <th>2</th>\n",
       "      <td>1030</td>\n",
       "      <td>Schaerbeek</td>\n",
       "      <td>4.373712</td>\n",
       "      <td>50.867604</td>\n",
       "    </tr>\n",
       "    <tr>\n",
       "      <th>3</th>\n",
       "      <td>1040</td>\n",
       "      <td>Etterbeek</td>\n",
       "      <td>4.389510</td>\n",
       "      <td>50.836851</td>\n",
       "    </tr>\n",
       "    <tr>\n",
       "      <th>4</th>\n",
       "      <td>1050</td>\n",
       "      <td>Ixelles</td>\n",
       "      <td>4.381571</td>\n",
       "      <td>50.822285</td>\n",
       "    </tr>\n",
       "  </tbody>\n",
       "</table>\n",
       "</div>"
      ],
      "text/plain": [
       "   POSTCODE    LOCATION      LONG        LAT\n",
       "0      1000   Bruxelles  4.351697  50.846557\n",
       "1      1020      Laeken  4.348713  50.883392\n",
       "2      1030  Schaerbeek  4.373712  50.867604\n",
       "3      1040   Etterbeek  4.389510  50.836851\n",
       "4      1050     Ixelles  4.381571  50.822285"
      ]
     },
     "execution_count": 43,
     "metadata": {},
     "output_type": "execute_result"
    }
   ],
   "source": [
    "# check\n",
    "postcodes_df.head(5)"
   ]
  },
  {
   "cell_type": "code",
   "execution_count": 44,
   "metadata": {},
   "outputs": [],
   "source": [
    "# join with employees\n",
    "employees_postcodes_df = pd.merge(left=employees_df, right=postcodes_df, on=\"LOCATION\", how=\"inner\")"
   ]
  },
  {
   "cell_type": "code",
   "execution_count": 45,
   "metadata": {},
   "outputs": [
    {
     "name": "stdout",
     "output_type": "stream",
     "text": [
      "total number of employees: 46\n",
      "total number of employees with geo info: 43\n"
     ]
    }
   ],
   "source": [
    "# check\n",
    "print(\"total number of employees: %s\" %len(employees_df))\n",
    "print(\"total number of employees with geo info: %s\" %len(employees_postcodes_df))"
   ]
  },
  {
   "cell_type": "code",
   "execution_count": null,
   "metadata": {},
   "outputs": [],
   "source": [
    "############################\n",
    "######### EXERCISE #########\n",
    "############################\n",
    "\n",
    "\n",
    "# plot all belgian cities + employee locations on same map\n",
    "\n",
    "\n"
   ]
  },
  {
   "cell_type": "markdown",
   "metadata": {},
   "source": [
    "<font size=\"3\"> So at first sight, the locations of the employees seem correct, with most of the employees living in the Kempen region. This is maybe because the headquarters of the company is located in that region."
   ]
  },
  {
   "cell_type": "markdown",
   "metadata": {},
   "source": [
    "## Question 6"
   ]
  },
  {
   "cell_type": "markdown",
   "metadata": {},
   "source": [
    "<font size=\"4\">Inspect **which employees are assigned to which routes**"
   ]
  },
  {
   "cell_type": "code",
   "execution_count": 47,
   "metadata": {},
   "outputs": [],
   "source": [
    "# import transactions data\n",
    "transactions_df = pd.read_csv(\"./data/HVC_HVVISITRESULT.csv\", sep=\";\")\n",
    "# import customer data\n",
    "customer_df = pd.read_csv(\"./data/HVC_SO0.csv\", sep=\";\")\n",
    "# import routes data\n",
    "routes_df = pd.read_csv(\"./data/HVC_HVROUTETEMPLATE.csv\", sep=\";\")\n",
    "# join tables\n",
    "routes_employees = transactions_df.merge(customer_df, on=\"SO0_NRID\", how=\"inner\").merge(routes_df, on=\"HVROUTETEMPLATE_NRID\", how=\"right\")\n",
    "# get unique route - employee pairs\n",
    "routes_employees = routes_employees[[\"HVROUTETEMPLATE_NRID\", \"AM0_NRID\"]].drop_duplicates()"
   ]
  },
  {
   "cell_type": "code",
   "execution_count": 48,
   "metadata": {},
   "outputs": [
    {
     "data": {
      "text/html": [
       "<div>\n",
       "<style scoped>\n",
       "    .dataframe tbody tr th:only-of-type {\n",
       "        vertical-align: middle;\n",
       "    }\n",
       "\n",
       "    .dataframe tbody tr th {\n",
       "        vertical-align: top;\n",
       "    }\n",
       "\n",
       "    .dataframe thead th {\n",
       "        text-align: right;\n",
       "    }\n",
       "</style>\n",
       "<table border=\"1\" class=\"dataframe\">\n",
       "  <thead>\n",
       "    <tr style=\"text-align: right;\">\n",
       "      <th></th>\n",
       "      <th>HVROUTETEMPLATE_NRID</th>\n",
       "      <th>AM0_NRID</th>\n",
       "    </tr>\n",
       "  </thead>\n",
       "  <tbody>\n",
       "    <tr>\n",
       "      <th>0</th>\n",
       "      <td>70671404.0</td>\n",
       "      <td>24226444135852</td>\n",
       "    </tr>\n",
       "    <tr>\n",
       "      <th>1</th>\n",
       "      <td>219018687.0</td>\n",
       "      <td>23186288605042</td>\n",
       "    </tr>\n",
       "    <tr>\n",
       "      <th>17</th>\n",
       "      <td>219018687.0</td>\n",
       "      <td>23845760556442</td>\n",
       "    </tr>\n",
       "    <tr>\n",
       "      <th>22</th>\n",
       "      <td>219018687.0</td>\n",
       "      <td>24705284396450</td>\n",
       "    </tr>\n",
       "    <tr>\n",
       "      <th>41</th>\n",
       "      <td>219018687.0</td>\n",
       "      <td>25146868694050</td>\n",
       "    </tr>\n",
       "  </tbody>\n",
       "</table>\n",
       "</div>"
      ],
      "text/plain": [
       "    HVROUTETEMPLATE_NRID        AM0_NRID\n",
       "0             70671404.0  24226444135852\n",
       "1            219018687.0  23186288605042\n",
       "17           219018687.0  23845760556442\n",
       "22           219018687.0  24705284396450\n",
       "41           219018687.0  25146868694050"
      ]
     },
     "execution_count": 48,
     "metadata": {},
     "output_type": "execute_result"
    }
   ],
   "source": [
    "# check\n",
    "routes_employees.head(5)"
   ]
  },
  {
   "cell_type": "code",
   "execution_count": 49,
   "metadata": {
    "scrolled": true
   },
   "outputs": [
    {
     "data": {
      "text/plain": [
       "22       219018687.0\n",
       "7236     219019324.0\n",
       "14441    219019962.0\n",
       "23351    219020601.0\n",
       "29533    219021241.0\n",
       "35685    219021882.0\n",
       "41546    219022524.0\n",
       "47260    219023167.0\n",
       "54337    219023811.0\n",
       "60560    219024456.0\n",
       "Name: HVROUTETEMPLATE_NRID, dtype: float64"
      ]
     },
     "execution_count": 49,
     "metadata": {},
     "output_type": "execute_result"
    }
   ],
   "source": [
    "# check all routes to which employee with id 24705284396450 is assigned\n",
    "routes_employees[routes_employees[\"AM0_NRID\"] == 24705284396450][\"HVROUTETEMPLATE_NRID\"]"
   ]
  },
  {
   "cell_type": "code",
   "execution_count": 50,
   "metadata": {},
   "outputs": [
    {
     "data": {
      "text/plain": [
       "1       23186288605042\n",
       "17      23845760556442\n",
       "22      24705284396450\n",
       "41      25146868694050\n",
       "42      24871084536436\n",
       "91      20624864486850\n",
       "3218    25454644465046\n",
       "5421    24226444135852\n",
       "6918    25532744515046\n",
       "7015    24775352442450\n",
       "Name: AM0_NRID, dtype: int64"
      ]
     },
     "execution_count": 50,
     "metadata": {},
     "output_type": "execute_result"
    }
   ],
   "source": [
    "# check all employees which are assigned to route 219018687.0\n",
    "routes_employees[routes_employees[\"HVROUTETEMPLATE_NRID\"] == 219018687][\"AM0_NRID\"]"
   ]
  },
  {
   "cell_type": "markdown",
   "metadata": {},
   "source": [
    "## Question 7"
   ]
  },
  {
   "cell_type": "markdown",
   "metadata": {},
   "source": [
    "<font size=\"4\"> Which **employees should be assigned to different routes**?"
   ]
  },
  {
   "cell_type": "markdown",
   "metadata": {},
   "source": [
    "<font size=\"3\"> Is it possible to find two employees that can swith routes, such that the travel distance of both employees is shorter?"
   ]
  },
  {
   "cell_type": "code",
   "execution_count": 51,
   "metadata": {},
   "outputs": [
    {
     "data": {
      "text/html": [
       "<div>\n",
       "<style scoped>\n",
       "    .dataframe tbody tr th:only-of-type {\n",
       "        vertical-align: middle;\n",
       "    }\n",
       "\n",
       "    .dataframe tbody tr th {\n",
       "        vertical-align: top;\n",
       "    }\n",
       "\n",
       "    .dataframe thead th {\n",
       "        text-align: right;\n",
       "    }\n",
       "</style>\n",
       "<table border=\"1\" class=\"dataframe\">\n",
       "  <thead>\n",
       "    <tr style=\"text-align: right;\">\n",
       "      <th></th>\n",
       "      <th>HVROUTETEMPLATE_NRID</th>\n",
       "      <th>AM0_NRID</th>\n",
       "    </tr>\n",
       "  </thead>\n",
       "  <tbody>\n",
       "    <tr>\n",
       "      <th>0</th>\n",
       "      <td>70671404.0</td>\n",
       "      <td>24226444135852</td>\n",
       "    </tr>\n",
       "    <tr>\n",
       "      <th>1</th>\n",
       "      <td>219018687.0</td>\n",
       "      <td>23186288605042</td>\n",
       "    </tr>\n",
       "    <tr>\n",
       "      <th>17</th>\n",
       "      <td>219018687.0</td>\n",
       "      <td>23845760556442</td>\n",
       "    </tr>\n",
       "    <tr>\n",
       "      <th>22</th>\n",
       "      <td>219018687.0</td>\n",
       "      <td>24705284396450</td>\n",
       "    </tr>\n",
       "    <tr>\n",
       "      <th>41</th>\n",
       "      <td>219018687.0</td>\n",
       "      <td>25146868694050</td>\n",
       "    </tr>\n",
       "  </tbody>\n",
       "</table>\n",
       "</div>"
      ],
      "text/plain": [
       "    HVROUTETEMPLATE_NRID        AM0_NRID\n",
       "0             70671404.0  24226444135852\n",
       "1            219018687.0  23186288605042\n",
       "17           219018687.0  23845760556442\n",
       "22           219018687.0  24705284396450\n",
       "41           219018687.0  25146868694050"
      ]
     },
     "execution_count": 51,
     "metadata": {},
     "output_type": "execute_result"
    }
   ],
   "source": [
    "# check dataset created in previous question\n",
    "routes_employees.head(5)"
   ]
  },
  {
   "cell_type": "markdown",
   "metadata": {},
   "source": [
    "<font size=\"3\">Lets investigate the route 70671404.0 to which employee 24226444135852 is assigned"
   ]
  },
  {
   "cell_type": "code",
   "execution_count": 52,
   "metadata": {},
   "outputs": [],
   "source": [
    "# define route\n",
    "route_id = 219018687\n",
    "# define employee\n",
    "employee_id = 23186288605042"
   ]
  },
  {
   "cell_type": "markdown",
   "metadata": {},
   "source": [
    "<font size=\"3\"> Get coordinates of customer assigned to this route"
   ]
  },
  {
   "cell_type": "code",
   "execution_count": 53,
   "metadata": {},
   "outputs": [],
   "source": [
    "# import customer and position data\n",
    "cust_df = pd.read_csv(\"./data/HVC_SO0.csv\", sep=\";\")\n",
    "cust_pos_df = pd.read_csv(\"./data/HVC_HVPOSITION.csv\", sep=\";\")\n",
    "# merge\n",
    "cust_all_df = pd.merge(cust_df, cust_pos_df, on=\"SO0_NRID\", how=\"inner\")"
   ]
  },
  {
   "cell_type": "code",
   "execution_count": 54,
   "metadata": {},
   "outputs": [],
   "source": [
    "# get all the customer locations of route\n",
    "route_locs = cust_all_df[cust_all_df[\"HVROUTETEMPLATE_NRID\"] == route_id][[\"LONG\", \"LAT\"]].drop_duplicates()"
   ]
  },
  {
   "cell_type": "code",
   "execution_count": 55,
   "metadata": {},
   "outputs": [
    {
     "data": {
      "text/html": [
       "<div>\n",
       "<style scoped>\n",
       "    .dataframe tbody tr th:only-of-type {\n",
       "        vertical-align: middle;\n",
       "    }\n",
       "\n",
       "    .dataframe tbody tr th {\n",
       "        vertical-align: top;\n",
       "    }\n",
       "\n",
       "    .dataframe thead th {\n",
       "        text-align: right;\n",
       "    }\n",
       "</style>\n",
       "<table border=\"1\" class=\"dataframe\">\n",
       "  <thead>\n",
       "    <tr style=\"text-align: right;\">\n",
       "      <th></th>\n",
       "      <th>LONG</th>\n",
       "      <th>LAT</th>\n",
       "    </tr>\n",
       "  </thead>\n",
       "  <tbody>\n",
       "    <tr>\n",
       "      <th>326</th>\n",
       "      <td>3.708606</td>\n",
       "      <td>50.980740</td>\n",
       "    </tr>\n",
       "    <tr>\n",
       "      <th>327</th>\n",
       "      <td>3.712480</td>\n",
       "      <td>50.977313</td>\n",
       "    </tr>\n",
       "    <tr>\n",
       "      <th>328</th>\n",
       "      <td>3.717360</td>\n",
       "      <td>50.971535</td>\n",
       "    </tr>\n",
       "    <tr>\n",
       "      <th>329</th>\n",
       "      <td>3.717471</td>\n",
       "      <td>50.967531</td>\n",
       "    </tr>\n",
       "    <tr>\n",
       "      <th>330</th>\n",
       "      <td>3.717015</td>\n",
       "      <td>50.965532</td>\n",
       "    </tr>\n",
       "    <tr>\n",
       "      <th>...</th>\n",
       "      <td>...</td>\n",
       "      <td>...</td>\n",
       "    </tr>\n",
       "    <tr>\n",
       "      <th>5492</th>\n",
       "      <td>3.698154</td>\n",
       "      <td>50.961381</td>\n",
       "    </tr>\n",
       "    <tr>\n",
       "      <th>5536</th>\n",
       "      <td>3.694914</td>\n",
       "      <td>50.987235</td>\n",
       "    </tr>\n",
       "    <tr>\n",
       "      <th>5567</th>\n",
       "      <td>3.725134</td>\n",
       "      <td>50.997905</td>\n",
       "    </tr>\n",
       "    <tr>\n",
       "      <th>5611</th>\n",
       "      <td>3.679778</td>\n",
       "      <td>50.929148</td>\n",
       "    </tr>\n",
       "    <tr>\n",
       "      <th>5687</th>\n",
       "      <td>3.695066</td>\n",
       "      <td>50.983047</td>\n",
       "    </tr>\n",
       "  </tbody>\n",
       "</table>\n",
       "<p>136 rows × 2 columns</p>\n",
       "</div>"
      ],
      "text/plain": [
       "          LONG        LAT\n",
       "326   3.708606  50.980740\n",
       "327   3.712480  50.977313\n",
       "328   3.717360  50.971535\n",
       "329   3.717471  50.967531\n",
       "330   3.717015  50.965532\n",
       "...        ...        ...\n",
       "5492  3.698154  50.961381\n",
       "5536  3.694914  50.987235\n",
       "5567  3.725134  50.997905\n",
       "5611  3.679778  50.929148\n",
       "5687  3.695066  50.983047\n",
       "\n",
       "[136 rows x 2 columns]"
      ]
     },
     "execution_count": 55,
     "metadata": {},
     "output_type": "execute_result"
    }
   ],
   "source": [
    "# check\n",
    "route_locs"
   ]
  },
  {
   "cell_type": "markdown",
   "metadata": {},
   "source": [
    "<font size='3'> Get coordinates of depot"
   ]
  },
  {
   "cell_type": "code",
   "execution_count": 56,
   "metadata": {},
   "outputs": [],
   "source": [
    "# import depots\n",
    "depots_df = pd.read_csv(\"./data/HVC_DEPOT.csv\", sep=\";\")\n",
    "# import postcodes\n",
    "postcodes_df = pd.read_csv(\"./data/zipcode-belgium.csv\", header=None)\n",
    "postcodes_df.columns = [\"POSTCODE\", \"CITY\", \"LONG\", \"LAT\"]"
   ]
  },
  {
   "cell_type": "code",
   "execution_count": 57,
   "metadata": {},
   "outputs": [],
   "source": [
    "# get depot city\n",
    "depot_city = depots_df[depots_df[\"HVROUTETEMPLATE_NRID\"] == route_id][\"DEPOT\"].iloc[0]\n",
    "# get depot coordinates\n",
    "depot_loc = postcodes_df[postcodes_df[\"CITY\"] == depot_city][[\"LONG\", \"LAT\"]].drop_duplicates()"
   ]
  },
  {
   "cell_type": "code",
   "execution_count": 58,
   "metadata": {},
   "outputs": [
    {
     "data": {
      "text/html": [
       "<div>\n",
       "<style scoped>\n",
       "    .dataframe tbody tr th:only-of-type {\n",
       "        vertical-align: middle;\n",
       "    }\n",
       "\n",
       "    .dataframe tbody tr th {\n",
       "        vertical-align: top;\n",
       "    }\n",
       "\n",
       "    .dataframe thead th {\n",
       "        text-align: right;\n",
       "    }\n",
       "</style>\n",
       "<table border=\"1\" class=\"dataframe\">\n",
       "  <thead>\n",
       "    <tr style=\"text-align: right;\">\n",
       "      <th></th>\n",
       "      <th>LONG</th>\n",
       "      <th>LAT</th>\n",
       "    </tr>\n",
       "  </thead>\n",
       "  <tbody>\n",
       "    <tr>\n",
       "      <th>245</th>\n",
       "      <td>4.399708</td>\n",
       "      <td>51.22111</td>\n",
       "    </tr>\n",
       "  </tbody>\n",
       "</table>\n",
       "</div>"
      ],
      "text/plain": [
       "         LONG       LAT\n",
       "245  4.399708  51.22111"
      ]
     },
     "execution_count": 58,
     "metadata": {},
     "output_type": "execute_result"
    }
   ],
   "source": [
    "# check\n",
    "depot_loc"
   ]
  },
  {
   "cell_type": "markdown",
   "metadata": {},
   "source": [
    "<font size='3'> Get coordinates of employee"
   ]
  },
  {
   "cell_type": "code",
   "execution_count": 70,
   "metadata": {},
   "outputs": [],
   "source": [
    "# import employee dataset\n",
    "employee_df = pd.read_csv(\"./data/HVC_AM0.csv\", sep=\";\")\n",
    "# get employee city\n",
    "employee_city = employee_df[employee_df[\"AM0_NRID\"] == employee_id][\"LOCATION\"].iloc[0]\n",
    "# get employee coordinates\n",
    "employee_loc = postcodes_df[postcodes_df[\"CITY\"] == employee_city].drop_duplicates()"
   ]
  },
  {
   "cell_type": "code",
   "execution_count": 71,
   "metadata": {},
   "outputs": [
    {
     "data": {
      "text/html": [
       "<div>\n",
       "<style scoped>\n",
       "    .dataframe tbody tr th:only-of-type {\n",
       "        vertical-align: middle;\n",
       "    }\n",
       "\n",
       "    .dataframe tbody tr th {\n",
       "        vertical-align: top;\n",
       "    }\n",
       "\n",
       "    .dataframe thead th {\n",
       "        text-align: right;\n",
       "    }\n",
       "</style>\n",
       "<table border=\"1\" class=\"dataframe\">\n",
       "  <thead>\n",
       "    <tr style=\"text-align: right;\">\n",
       "      <th></th>\n",
       "      <th>POSTCODE</th>\n",
       "      <th>CITY</th>\n",
       "      <th>LONG</th>\n",
       "      <th>LAT</th>\n",
       "    </tr>\n",
       "  </thead>\n",
       "  <tbody>\n",
       "    <tr>\n",
       "      <th>598</th>\n",
       "      <td>3665</td>\n",
       "      <td>As</td>\n",
       "      <td>5.572203</td>\n",
       "      <td>51.00054</td>\n",
       "    </tr>\n",
       "  </tbody>\n",
       "</table>\n",
       "</div>"
      ],
      "text/plain": [
       "     POSTCODE CITY      LONG       LAT\n",
       "598      3665   As  5.572203  51.00054"
      ]
     },
     "execution_count": 71,
     "metadata": {},
     "output_type": "execute_result"
    }
   ],
   "source": [
    "# check\n",
    "employee_loc"
   ]
  },
  {
   "cell_type": "code",
   "execution_count": 72,
   "metadata": {
    "scrolled": false
   },
   "outputs": [
    {
     "data": {
      "text/plain": [
       "<matplotlib.collections.PathCollection at 0x163855850>"
      ]
     },
     "execution_count": 72,
     "metadata": {},
     "output_type": "execute_result"
    },
    {
     "data": {
      "image/png": "[encoded data removed]",
      "text/plain": [
       "<Figure size 576x576 with 1 Axes>"
      ]
     },
     "metadata": {
      "needs_background": "light"
     },
     "output_type": "display_data"
    }
   ],
   "source": [
    "# plot employee, depot, and route locations\n",
    "plt.figure(figsize=(8, 8))\n",
    "plt.scatter(postcodes_df[\"LONG\"], postcodes_df[\"LAT\"], s=3, color=\"lightblue\")\n",
    "plt.scatter(employee_loc[\"LONG\"], employee_loc[\"LAT\"], s=40, color=\"red\")\n",
    "plt.scatter(depot_loc[\"LONG\"], depot_loc[\"LAT\"], s=40, color=\"green\")\n",
    "plt.scatter(route_locs[\"LONG\"], route_locs[\"LAT\"], s=10, color=\"orange\")"
   ]
  },
  {
   "cell_type": "code",
   "execution_count": null,
   "metadata": {},
   "outputs": [],
   "source": [
    "############################\n",
    "######### EXERCISE #########\n",
    "############################\n",
    "\n",
    "# get total distance (in terms of euclidean distance) that the employee needs to travel\n",
    "# you can use the location of a random customer on the route to represent this route\n",
    "\n"
   ]
  },
  {
   "cell_type": "markdown",
   "metadata": {},
   "source": [
    "<font size=\"3\"> We observe that this customer needs to travel a long distance to serve these customers.\n",
    "Could this employee maybe switch routes with another employee, such that they both need to travel less?"
   ]
  },
  {
   "cell_type": "markdown",
   "metadata": {},
   "source": [
    "## Question 8"
   ]
  },
  {
   "cell_type": "markdown",
   "metadata": {},
   "source": [
    "<font size=\"4\"> Could it be valuable to **recommend products to customers?**"
   ]
  },
  {
   "cell_type": "markdown",
   "metadata": {},
   "source": [
    "<font size=\"3\">One way to tackle this problem is by investigating whether there are products that are often purchased together. \n",
    "If for example product X is often bought together with product Y, and a certain customer buys product X, \n",
    "then we can recommend product Y to this customer. This is an example of **item-based recommendations**, as we are going to recommend similar items."
   ]
  },
  {
   "cell_type": "code",
   "execution_count": 3,
   "metadata": {},
   "outputs": [],
   "source": [
    "# import transactions df\n",
    "transactions_df = pd.read_csv(\"./data/HVC_HVVISITRESULT.csv\", sep=\";\")\n",
    "# convert date\n",
    "transactions_df[\"DATEONLY\"] = pd.to_datetime(transactions_df[\"DATEONLY\"])\n",
    "# import trainsaction details df\n",
    "details_df = pd.read_csv(\"./data/HVC_VISITRESULTDETAILS.csv\", sep=\";\")\n",
    "# join\n",
    "transactions_details_df = pd.merge(left=transactions_df, right=details_df, on=\"HVVISITRESULT_NRID\", how=\"inner\")"
   ]
  },
  {
   "cell_type": "code",
   "execution_count": 4,
   "metadata": {},
   "outputs": [
    {
     "data": {
      "text/html": [
       "<div>\n",
       "<style scoped>\n",
       "    .dataframe tbody tr th:only-of-type {\n",
       "        vertical-align: middle;\n",
       "    }\n",
       "\n",
       "    .dataframe tbody tr th {\n",
       "        vertical-align: top;\n",
       "    }\n",
       "\n",
       "    .dataframe thead th {\n",
       "        text-align: right;\n",
       "    }\n",
       "</style>\n",
       "<table border=\"1\" class=\"dataframe\">\n",
       "  <thead>\n",
       "    <tr style=\"text-align: right;\">\n",
       "      <th></th>\n",
       "      <th>HVVISITRESULT_NRID</th>\n",
       "      <th>SO0_NRID</th>\n",
       "      <th>AM0_NRID</th>\n",
       "      <th>HVOUTCOME_NRID</th>\n",
       "      <th>VISITDATE</th>\n",
       "      <th>DATEONLY</th>\n",
       "      <th>AMOUNT</th>\n",
       "      <th>PAYMENTTERM</th>\n",
       "      <th>VISITRESULTDETAILS_NRID</th>\n",
       "      <th>AR0_NRID</th>\n",
       "      <th>QUANTITY</th>\n",
       "    </tr>\n",
       "  </thead>\n",
       "  <tbody>\n",
       "    <tr>\n",
       "      <th>0</th>\n",
       "      <td>55681456</td>\n",
       "      <td>719952</td>\n",
       "      <td>23186288605042</td>\n",
       "      <td>2</td>\n",
       "      <td>12:20:01,000000000</td>\n",
       "      <td>2019-05-06</td>\n",
       "      <td>16.9</td>\n",
       "      <td>cash</td>\n",
       "      <td>55681457</td>\n",
       "      <td>23678</td>\n",
       "      <td>1.0</td>\n",
       "    </tr>\n",
       "    <tr>\n",
       "      <th>1</th>\n",
       "      <td>55681456</td>\n",
       "      <td>719952</td>\n",
       "      <td>23186288605042</td>\n",
       "      <td>2</td>\n",
       "      <td>12:20:01,000000000</td>\n",
       "      <td>2019-05-06</td>\n",
       "      <td>16.9</td>\n",
       "      <td>cash</td>\n",
       "      <td>55681458</td>\n",
       "      <td>17453864687246</td>\n",
       "      <td>1.0</td>\n",
       "    </tr>\n",
       "    <tr>\n",
       "      <th>2</th>\n",
       "      <td>55681507</td>\n",
       "      <td>1453609</td>\n",
       "      <td>19946584592834</td>\n",
       "      <td>2</td>\n",
       "      <td>12:13:50,000000000</td>\n",
       "      <td>2019-05-06</td>\n",
       "      <td>7.4</td>\n",
       "      <td>cash</td>\n",
       "      <td>55681508</td>\n",
       "      <td>23678</td>\n",
       "      <td>1.0</td>\n",
       "    </tr>\n",
       "  </tbody>\n",
       "</table>\n",
       "</div>"
      ],
      "text/plain": [
       "   HVVISITRESULT_NRID  SO0_NRID        AM0_NRID  HVOUTCOME_NRID  \\\n",
       "0            55681456    719952  23186288605042               2   \n",
       "1            55681456    719952  23186288605042               2   \n",
       "2            55681507   1453609  19946584592834               2   \n",
       "\n",
       "            VISITDATE   DATEONLY  AMOUNT PAYMENTTERM  VISITRESULTDETAILS_NRID  \\\n",
       "0  12:20:01,000000000 2019-05-06    16.9        cash                 55681457   \n",
       "1  12:20:01,000000000 2019-05-06    16.9        cash                 55681458   \n",
       "2  12:13:50,000000000 2019-05-06     7.4        cash                 55681508   \n",
       "\n",
       "         AR0_NRID  QUANTITY  \n",
       "0           23678       1.0  \n",
       "1  17453864687246       1.0  \n",
       "2           23678       1.0  "
      ]
     },
     "execution_count": 4,
     "metadata": {},
     "output_type": "execute_result"
    }
   ],
   "source": [
    "# check\n",
    "transactions_details_df.head(3)"
   ]
  },
  {
   "cell_type": "markdown",
   "metadata": {},
   "source": [
    "<font size=\"3\">First, we will extract all the **unique products that were bought during each transaction**. \n",
    "This will allow us to count in how many transactions a pair of products was bought together."
   ]
  },
  {
   "cell_type": "code",
   "execution_count": 5,
   "metadata": {},
   "outputs": [],
   "source": [
    "# get unique transactions\n",
    "trans_ids = transactions_details_df[\"HVVISITRESULT_NRID\"].unique().tolist()\n",
    "# initialize container\n",
    "trans_products = []\n",
    "\n",
    "# loop through all the transactions\n",
    "for trans_id in trans_ids:\n",
    "    # get unique products that were bought during transaction\n",
    "    products = transactions_details_df[transactions_details_df[\"HVVISITRESULT_NRID\"] == trans_id][\"AR0_NRID\"].unique().tolist()\n",
    "    # add to container\n",
    "    trans_products.append(products)"
   ]
  },
  {
   "cell_type": "code",
   "execution_count": 76,
   "metadata": {},
   "outputs": [
    {
     "data": {
      "text/plain": [
       "[23678, 17453864687246]"
      ]
     },
     "execution_count": 76,
     "metadata": {},
     "output_type": "execute_result"
    }
   ],
   "source": [
    "# check the products that were bought in the first transaction\n",
    "trans_products[0]"
   ]
  },
  {
   "cell_type": "code",
   "execution_count": 77,
   "metadata": {},
   "outputs": [],
   "source": [
    "# import the products dataset\n",
    "products_df = pd.read_csv(\"./data/HVC_AR0.csv\", sep=\";\")"
   ]
  },
  {
   "cell_type": "code",
   "execution_count": 78,
   "metadata": {},
   "outputs": [
    {
     "data": {
      "text/html": [
       "<div>\n",
       "<style scoped>\n",
       "    .dataframe tbody tr th:only-of-type {\n",
       "        vertical-align: middle;\n",
       "    }\n",
       "\n",
       "    .dataframe tbody tr th {\n",
       "        vertical-align: top;\n",
       "    }\n",
       "\n",
       "    .dataframe thead th {\n",
       "        text-align: right;\n",
       "    }\n",
       "</style>\n",
       "<table border=\"1\" class=\"dataframe\">\n",
       "  <thead>\n",
       "    <tr style=\"text-align: right;\">\n",
       "      <th></th>\n",
       "      <th>AR0_NRID</th>\n",
       "      <th>DESCRIPTION</th>\n",
       "      <th>CATEGORY</th>\n",
       "      <th>FAMILY</th>\n",
       "      <th>PRICE</th>\n",
       "    </tr>\n",
       "  </thead>\n",
       "  <tbody>\n",
       "    <tr>\n",
       "      <th>0</th>\n",
       "      <td>20742288286838</td>\n",
       "      <td>Dessert Caramel/14</td>\n",
       "      <td>Verkoopsartikel</td>\n",
       "      <td>Cups</td>\n",
       "      <td>10.9</td>\n",
       "    </tr>\n",
       "    <tr>\n",
       "      <th>1</th>\n",
       "      <td>20413488326838</td>\n",
       "      <td>Penalty/16</td>\n",
       "      <td>Verkoopsartikel</td>\n",
       "      <td>Hand Ice</td>\n",
       "      <td>6.5</td>\n",
       "    </tr>\n",
       "    <tr>\n",
       "      <th>2</th>\n",
       "      <td>21515648414638</td>\n",
       "      <td>Kriekentaart</td>\n",
       "      <td>Verkoopsartikel</td>\n",
       "      <td>Coffee</td>\n",
       "      <td>7.9</td>\n",
       "    </tr>\n",
       "    <tr>\n",
       "      <th>3</th>\n",
       "      <td>20296288686840</td>\n",
       "      <td>Expo met zachte wafel/12</td>\n",
       "      <td>Verkoopsartikel</td>\n",
       "      <td>Individual Dessert</td>\n",
       "      <td>7.3</td>\n",
       "    </tr>\n",
       "    <tr>\n",
       "      <th>4</th>\n",
       "      <td>21844652504048</td>\n",
       "      <td>Paaseitjes</td>\n",
       "      <td>Verkoopsartikel</td>\n",
       "      <td>Individual Dessert</td>\n",
       "      <td>7.5</td>\n",
       "    </tr>\n",
       "  </tbody>\n",
       "</table>\n",
       "</div>"
      ],
      "text/plain": [
       "         AR0_NRID               DESCRIPTION         CATEGORY  \\\n",
       "0  20742288286838        Dessert Caramel/14  Verkoopsartikel   \n",
       "1  20413488326838                Penalty/16  Verkoopsartikel   \n",
       "2  21515648414638              Kriekentaart  Verkoopsartikel   \n",
       "3  20296288686840  Expo met zachte wafel/12  Verkoopsartikel   \n",
       "4  21844652504048                Paaseitjes  Verkoopsartikel   \n",
       "\n",
       "               FAMILY  PRICE  \n",
       "0                Cups   10.9  \n",
       "1            Hand Ice    6.5  \n",
       "2              Coffee    7.9  \n",
       "3  Individual Dessert    7.3  \n",
       "4  Individual Dessert    7.5  "
      ]
     },
     "execution_count": 78,
     "metadata": {},
     "output_type": "execute_result"
    }
   ],
   "source": [
    "# check\n",
    "products_df.head(5)"
   ]
  },
  {
   "cell_type": "markdown",
   "metadata": {},
   "source": [
    "<font size=\"3\">So now we can for example check **which product was most often bought together with the product Dessert Caramel/14**"
   ]
  },
  {
   "cell_type": "code",
   "execution_count": 79,
   "metadata": {},
   "outputs": [],
   "source": [
    "# get product id from Dessert Caramel\n",
    "product_id = int(products_df[products_df[\"DESCRIPTION\"] == \"Dessert Caramel/14\"][\"AR0_NRID\"])"
   ]
  },
  {
   "cell_type": "code",
   "execution_count": 80,
   "metadata": {},
   "outputs": [],
   "source": [
    "# initialize empty container\n",
    "other_products = []\n",
    "\n",
    "\n",
    "# loop through the transactions\n",
    "for products in trans_products:\n",
    "    # check if Dessert Caramel was bought in transaction\n",
    "    if product_id in products:\n",
    "        # loop through the products that were bought in that transaction\n",
    "        for product in products:\n",
    "            if product != product_id:\n",
    "                # add product to container\n",
    "                other_products.append(product)"
   ]
  },
  {
   "cell_type": "code",
   "execution_count": null,
   "metadata": {},
   "outputs": [],
   "source": [
    "############################\n",
    "######### EXERCISE #########\n",
    "############################\n",
    "\n",
    "\n",
    "# get product that was bought the most often together with Dessert Caramal\n"
   ]
  },
  {
   "cell_type": "markdown",
   "metadata": {},
   "source": [
    "<font size=\"3\">So we can see that the product Dessert Dame Blanche is the product that was most often bought together with the product Dessert Caramel.\n",
    "So maybe, we can recommend the product Dessert Dame Blanche to a customer that only buys the product Dessert Caramel. The same analysis can be done for the other products. However, maybe it is also a good idea to only recommend products that were bought together at least X times with a product. Also, it is maybe better to only recommend products that are from the same product family."
   ]
  },
  {
   "cell_type": "markdown",
   "metadata": {},
   "source": [
    "<font size=\"3\">In the example above, we construct a very basic item-based recommendation system. \n",
    "However, we could also construct a **customer-based recommendation system.** \n",
    "Here, products that were bought by similar customers are recommended. \n",
    "The similarity between customers is calculated based on several features such as:\n",
    "        \n",
    "        - demographics\n",
    "        - transactional data\n",
    "        - ...\n",
    "    \n",
    "The similarity itself can be calculated by different similarity measures such as:\n",
    "        \n",
    "        - euclidean distance\n",
    "        - cosine similarity\n",
    "        - ..."
   ]
  },
  {
   "cell_type": "markdown",
   "metadata": {},
   "source": [
    "<font size=\"3\">So lets try to calculate some transactional features from customers such as the Recency, Frequency and Monetary Value.\n",
    "Then, we will try to find customers who have similar purchase behavior."
   ]
  },
  {
   "cell_type": "markdown",
   "metadata": {},
   "source": [
    "<font size=\"3\"> **Recency**: The number of days between today and the customer's last purchase"
   ]
  },
  {
   "cell_type": "code",
   "execution_count": 89,
   "metadata": {},
   "outputs": [],
   "source": [
    "############################\n",
    "######### EXERCISE #########\n",
    "###########################\n",
    "\n",
    "# get recency per customer and store in dataframe with two columns: cust_id and recency\n",
    "\n"
   ]
  },
  {
   "cell_type": "markdown",
   "metadata": {},
   "source": [
    "<font size=\"3\"> **Frequency**: The number of times a customer made a purchase"
   ]
  },
  {
   "cell_type": "code",
   "execution_count": 93,
   "metadata": {},
   "outputs": [],
   "source": [
    "############################\n",
    "######### EXERCISE #########\n",
    "###########################\n",
    "\n",
    "\n",
    "\n",
    "# get frequency per customer and store in dataframe with two columns: cust_id and frequency\n",
    "\n"
   ]
  },
  {
   "cell_type": "markdown",
   "metadata": {},
   "source": [
    "<font size=\"3\"> **Monetary Value**: The total purchase amount of a customer"
   ]
  },
  {
   "cell_type": "code",
   "execution_count": 625,
   "metadata": {},
   "outputs": [],
   "source": [
    "############################\n",
    "######### EXERCISE #########\n",
    "###########################\n",
    "\n",
    "\n",
    "\n",
    "# get monetary value per customer and store in dataframe with two columns: cust_id and monetary value\n"
   ]
  },
  {
   "cell_type": "code",
   "execution_count": null,
   "metadata": {},
   "outputs": [],
   "source": [
    "############################\n",
    "######### EXERCISE #########\n",
    "###########################\n",
    "\n",
    "\n",
    "# join all datasets together\n",
    "cust_info = \n",
    "\n"
   ]
  },
  {
   "cell_type": "markdown",
   "metadata": {},
   "source": [
    "<font size=\"3\">Now suppose we want to make recommendation for customer with id 687782. \n",
    "In order to to this, we will calculate the **cosine similarity** between the feature vector of customer 687782 and the feature vector of all the other customers. Then, the customer that has the highest cosine similarity score is the most similar customer."
   ]
  },
  {
   "cell_type": "code",
   "execution_count": 765,
   "metadata": {},
   "outputs": [],
   "source": [
    "# get feature vector for customer\n",
    "feature_vector_x = np.array(cust_info[cust_info[\"SO0_NRID\"] == 687782][[\"MONETARY\", \"FREQUENCY\", \"RECENCY\"]])"
   ]
  },
  {
   "cell_type": "code",
   "execution_count": 766,
   "metadata": {},
   "outputs": [
    {
     "data": {
      "text/plain": [
       "array([[182.,  17., 304.]])"
      ]
     },
     "execution_count": 766,
     "metadata": {},
     "output_type": "execute_result"
    }
   ],
   "source": [
    "# check\n",
    "feature_vector_x"
   ]
  },
  {
   "cell_type": "code",
   "execution_count": 767,
   "metadata": {},
   "outputs": [],
   "source": [
    "# import cosine similarity metric\n",
    "from sklearn.metrics.pairwise import cosine_similarity"
   ]
  },
  {
   "cell_type": "code",
   "execution_count": 768,
   "metadata": {},
   "outputs": [
    {
     "data": {
      "text/plain": [
       "1.0"
      ]
     },
     "execution_count": 768,
     "metadata": {},
     "output_type": "execute_result"
    }
   ],
   "source": [
    "# test similarity\n",
    "cosine_similarity(feature_vector_x, feature_vector_x)[0][0]"
   ]
  },
  {
   "cell_type": "code",
   "execution_count": 769,
   "metadata": {},
   "outputs": [],
   "source": [
    "############################\n",
    "######### EXERCISE #########\n",
    "############################\n",
    "\n",
    "\n",
    "\n",
    "# define function to get most similar customer\n",
    "def get_most_similar_cust(cust_id, cust_info):\n",
    "    \n",
    "    # initialize cosine dist\n",
    "    best_cos_sim = 0\n",
    "    # initialize most similar cust\n",
    "    sim_cust= None\n",
    "    \n",
    "    # get feature vector of customer\n",
    "    feature_vector_x = np.array(cust_info[cust_info[\"SO0_NRID\"] == cust_id][[\"MONETARY\", \"FREQUENCY\", \"RECENCY\"]])\n",
    "    \n",
    "    # loop through other customers \n",
    "    for i in range(len(cust_info)):\n",
    "        \n",
    "        # get cust id\n",
    "        other_cust_id =int(cust_info[\"SO0_NRID\"].iloc[i])\n",
    "        \n",
    "        # make sure we only get other customers\n",
    "        if other_cust_id != cust_id:\n",
    "            \n",
    "            # get feature vector from other customer\n",
    "\n",
    "            # get cosine similarity\n",
    "            \n",
    "            # check if similarity is higher than current highest similarity and update sim_cust and best_cost_sim\n",
    "\n",
    "                \n",
    "    # return cosine similarity and customer id\n",
    "    return(best_cos_sim, sim_cust)"
   ]
  },
  {
   "cell_type": "code",
   "execution_count": 770,
   "metadata": {},
   "outputs": [
    {
     "data": {
      "text/plain": [
       "(0.9999998526495412, 1251166)"
      ]
     },
     "execution_count": 770,
     "metadata": {},
     "output_type": "execute_result"
    }
   ],
   "source": [
    "# get the customer which is most similar to customer 687782 in terms of historical purchase behavior\n",
    "get_most_similar_cust(cust_id=687782, cust_info=cust_info)"
   ]
  },
  {
   "cell_type": "markdown",
   "metadata": {},
   "source": [
    "<font size=\"3\">So now we have extracted the customer that is most similar to customer 687782 in terms of historical purchase behavior (Recency, Frequency, Monerary Value).\n",
    "**Products that were bought by this customer can now be recommended to customer 687782**"
   ]
  },
  {
   "cell_type": "code",
   "execution_count": 771,
   "metadata": {},
   "outputs": [
    {
     "data": {
      "text/plain": [
       "{23742,\n",
       " 23745,\n",
       " 23750,\n",
       " 23760,\n",
       " 23777,\n",
       " 38848673,\n",
       " 42606882,\n",
       " 46260776,\n",
       " 290318653,\n",
       " 290318655}"
      ]
     },
     "execution_count": 771,
     "metadata": {},
     "output_type": "execute_result"
    }
   ],
   "source": [
    "# get all products bought by customer 687782\n",
    "products_cust = set(transactions_details_df[transactions_details_df[\"SO0_NRID\"] == 687782][\"AR0_NRID\"])\n",
    "# get all products bought by most similar customer\n",
    "products_other_cust = set(transactions_details_df[transactions_details_df[\"SO0_NRID\"] == 1251166][\"AR0_NRID\"])\n",
    "# get products bought by most similar customer but not yet by customer 687782\n",
    "products_other_cust.difference(products_cust)"
   ]
  },
  {
   "cell_type": "markdown",
   "metadata": {},
   "source": [
    "<font size=\"3\"> The **recommendation systems in previous examples are very simplistic and could be improved a lot**. \n",
    "For example, the item-based recommendation system could for example also take into account the family of products: \n",
    "    only recommend products that are from the same family. \n",
    "    The customer-based recommendation system could take into account a lot more features, such as demographics etc.\n",
    "    Also, both systems could be joined together to improve recommendations even further.\n",
    "    Finally, you could also use more advanced systems such as collaborative filtering."
   ]
  },
  {
   "cell_type": "markdown",
   "metadata": {},
   "source": [
    "# 2. Python"
   ]
  },
  {
   "cell_type": "markdown",
   "metadata": {},
   "source": [
    "## 2.1. Groupby"
   ]
  },
  {
   "cell_type": "markdown",
   "metadata": {},
   "source": [
    "<font size=\"4\"> How can we get pandas ‘groupby‘ command to return a DataFrame instead of a Series ?"
   ]
  },
  {
   "cell_type": "code",
   "execution_count": 520,
   "metadata": {},
   "outputs": [],
   "source": [
    "# import transactions data\n",
    "transactions_df = pd.read_csv(\"./data/HVC_HVVISITRESULT.csv\", sep=\";\")\n",
    "# import customer data\n",
    "customers_df = pd.read_csv(\"./data/HVC_SO0.csv\", sep=\";\")"
   ]
  },
  {
   "cell_type": "code",
   "execution_count": 521,
   "metadata": {},
   "outputs": [],
   "source": [
    "# join both datasets together\n",
    "transactions_customers_df = pd.merge(left=transactions_df, right=customers_df, how=\"inner\", on=\"SO0_NRID\")"
   ]
  },
  {
   "cell_type": "code",
   "execution_count": 522,
   "metadata": {},
   "outputs": [
    {
     "data": {
      "text/html": [
       "<div>\n",
       "<style scoped>\n",
       "    .dataframe tbody tr th:only-of-type {\n",
       "        vertical-align: middle;\n",
       "    }\n",
       "\n",
       "    .dataframe tbody tr th {\n",
       "        vertical-align: top;\n",
       "    }\n",
       "\n",
       "    .dataframe thead th {\n",
       "        text-align: right;\n",
       "    }\n",
       "</style>\n",
       "<table border=\"1\" class=\"dataframe\">\n",
       "  <thead>\n",
       "    <tr style=\"text-align: right;\">\n",
       "      <th></th>\n",
       "      <th>HVVISITRESULT_NRID</th>\n",
       "      <th>SO0_NRID</th>\n",
       "      <th>AM0_NRID</th>\n",
       "      <th>HVOUTCOME_NRID</th>\n",
       "      <th>VISITDATE</th>\n",
       "      <th>DATEONLY</th>\n",
       "      <th>AMOUNT</th>\n",
       "      <th>PAYMENTTERM</th>\n",
       "      <th>HVROUTETEMPLATE_NRID</th>\n",
       "      <th>CUST_TYPE</th>\n",
       "      <th>POSTCODE</th>\n",
       "      <th>LANGUAGE</th>\n",
       "      <th>SEASON_TYPE</th>\n",
       "    </tr>\n",
       "  </thead>\n",
       "  <tbody>\n",
       "    <tr>\n",
       "      <th>0</th>\n",
       "      <td>55681456</td>\n",
       "      <td>719952</td>\n",
       "      <td>23186288605042</td>\n",
       "      <td>2</td>\n",
       "      <td>12:20:01,000000000</td>\n",
       "      <td>2019-05-06</td>\n",
       "      <td>16.9</td>\n",
       "      <td>cash</td>\n",
       "      <td>219019962.0</td>\n",
       "      <td>Private</td>\n",
       "      <td>3950</td>\n",
       "      <td>nl-BE</td>\n",
       "      <td>All time</td>\n",
       "    </tr>\n",
       "    <tr>\n",
       "      <th>1</th>\n",
       "      <td>55248854</td>\n",
       "      <td>719952</td>\n",
       "      <td>23186288605042</td>\n",
       "      <td>2</td>\n",
       "      <td>12:46:43,000000000</td>\n",
       "      <td>2019-04-22</td>\n",
       "      <td>7.4</td>\n",
       "      <td>cash</td>\n",
       "      <td>219019962.0</td>\n",
       "      <td>Private</td>\n",
       "      <td>3950</td>\n",
       "      <td>nl-BE</td>\n",
       "      <td>All time</td>\n",
       "    </tr>\n",
       "    <tr>\n",
       "      <th>2</th>\n",
       "      <td>54761459</td>\n",
       "      <td>719952</td>\n",
       "      <td>23186288605042</td>\n",
       "      <td>2</td>\n",
       "      <td>12:32:05,000000000</td>\n",
       "      <td>2019-04-08</td>\n",
       "      <td>7.4</td>\n",
       "      <td>cash</td>\n",
       "      <td>219019962.0</td>\n",
       "      <td>Private</td>\n",
       "      <td>3950</td>\n",
       "      <td>nl-BE</td>\n",
       "      <td>All time</td>\n",
       "    </tr>\n",
       "  </tbody>\n",
       "</table>\n",
       "</div>"
      ],
      "text/plain": [
       "   HVVISITRESULT_NRID  SO0_NRID        AM0_NRID  HVOUTCOME_NRID  \\\n",
       "0            55681456    719952  23186288605042               2   \n",
       "1            55248854    719952  23186288605042               2   \n",
       "2            54761459    719952  23186288605042               2   \n",
       "\n",
       "            VISITDATE    DATEONLY  AMOUNT PAYMENTTERM  HVROUTETEMPLATE_NRID  \\\n",
       "0  12:20:01,000000000  2019-05-06    16.9        cash           219019962.0   \n",
       "1  12:46:43,000000000  2019-04-22     7.4        cash           219019962.0   \n",
       "2  12:32:05,000000000  2019-04-08     7.4        cash           219019962.0   \n",
       "\n",
       "  CUST_TYPE  POSTCODE LANGUAGE SEASON_TYPE  \n",
       "0   Private      3950    nl-BE    All time  \n",
       "1   Private      3950    nl-BE    All time  \n",
       "2   Private      3950    nl-BE    All time  "
      ]
     },
     "execution_count": 522,
     "metadata": {},
     "output_type": "execute_result"
    }
   ],
   "source": [
    "# check\n",
    "transactions_customers_df.head(3)"
   ]
  },
  {
   "cell_type": "code",
   "execution_count": 523,
   "metadata": {},
   "outputs": [],
   "source": [
    "# lets calculate the average transaction amount per route\n",
    "avg_amount_per_route = transactions_customers_df[transactions_customers_df[\"HVOUTCOME_NRID\"] == 2] \\\n",
    "                                              .groupby(\"HVROUTETEMPLATE_NRID\")[\"AMOUNT\"] \\\n",
    "                                              .mean()"
   ]
  },
  {
   "cell_type": "code",
   "execution_count": 524,
   "metadata": {},
   "outputs": [
    {
     "data": {
      "text/plain": [
       "HVROUTETEMPLATE_NRID\n",
       "70671404.0     95.900000\n",
       "219018687.0    16.162435\n",
       "219019324.0    12.036478\n",
       "Name: AMOUNT, dtype: float64"
      ]
     },
     "execution_count": 524,
     "metadata": {},
     "output_type": "execute_result"
    }
   ],
   "source": [
    "# check\n",
    "avg_amount_per_route.head(3)"
   ]
  },
  {
   "cell_type": "code",
   "execution_count": 525,
   "metadata": {},
   "outputs": [
    {
     "ename": "AttributeError",
     "evalue": "'Series' object has no attribute 'columns'",
     "output_type": "error",
     "traceback": [
      "\u001b[0;31m---------------------------------------------------------------------------\u001b[0m",
      "\u001b[0;31mAttributeError\u001b[0m                            Traceback (most recent call last)",
      "\u001b[0;32m/var/folders/v7/f_ml0ycx0ql3sf57smwg71080000gn/T/ipykernel_80921/3123224698.py\u001b[0m in \u001b[0;36m<module>\u001b[0;34m\u001b[0m\n\u001b[1;32m      1\u001b[0m \u001b[0;31m# check columns\u001b[0m\u001b[0;34m\u001b[0m\u001b[0;34m\u001b[0m\u001b[0;34m\u001b[0m\u001b[0m\n\u001b[0;32m----> 2\u001b[0;31m \u001b[0mavg_amount_per_route\u001b[0m\u001b[0;34m.\u001b[0m\u001b[0mcolumns\u001b[0m\u001b[0;34m\u001b[0m\u001b[0;34m\u001b[0m\u001b[0m\n\u001b[0m",
      "\u001b[0;32m~/miniforge3/lib/python3.9/site-packages/pandas/core/generic.py\u001b[0m in \u001b[0;36m__getattr__\u001b[0;34m(self, name)\u001b[0m\n\u001b[1;32m   5476\u001b[0m         ):\n\u001b[1;32m   5477\u001b[0m             \u001b[0;32mreturn\u001b[0m \u001b[0mself\u001b[0m\u001b[0;34m[\u001b[0m\u001b[0mname\u001b[0m\u001b[0;34m]\u001b[0m\u001b[0;34m\u001b[0m\u001b[0;34m\u001b[0m\u001b[0m\n\u001b[0;32m-> 5478\u001b[0;31m         \u001b[0;32mreturn\u001b[0m \u001b[0mobject\u001b[0m\u001b[0;34m.\u001b[0m\u001b[0m__getattribute__\u001b[0m\u001b[0;34m(\u001b[0m\u001b[0mself\u001b[0m\u001b[0;34m,\u001b[0m \u001b[0mname\u001b[0m\u001b[0;34m)\u001b[0m\u001b[0;34m\u001b[0m\u001b[0;34m\u001b[0m\u001b[0m\n\u001b[0m\u001b[1;32m   5479\u001b[0m \u001b[0;34m\u001b[0m\u001b[0m\n\u001b[1;32m   5480\u001b[0m     \u001b[0;32mdef\u001b[0m \u001b[0m__setattr__\u001b[0m\u001b[0;34m(\u001b[0m\u001b[0mself\u001b[0m\u001b[0;34m,\u001b[0m \u001b[0mname\u001b[0m\u001b[0;34m:\u001b[0m \u001b[0mstr\u001b[0m\u001b[0;34m,\u001b[0m \u001b[0mvalue\u001b[0m\u001b[0;34m)\u001b[0m \u001b[0;34m->\u001b[0m \u001b[0;32mNone\u001b[0m\u001b[0;34m:\u001b[0m\u001b[0;34m\u001b[0m\u001b[0;34m\u001b[0m\u001b[0m\n",
      "\u001b[0;31mAttributeError\u001b[0m: 'Series' object has no attribute 'columns'"
     ]
    }
   ],
   "source": [
    "# check columns\n",
    "avg_amount_per_route.columns"
   ]
  },
  {
   "cell_type": "markdown",
   "metadata": {},
   "source": [
    "<font size=\"3\">As you can see the output of the groupby function is a Pandas Series. \n",
    "However, you can get the **output of a groupby function as a Dataframe by using the reset_index() function**"
   ]
  },
  {
   "cell_type": "code",
   "execution_count": 526,
   "metadata": {},
   "outputs": [],
   "source": [
    "############################\n",
    "######### EXERCISE #########\n",
    "############################\n",
    "\n",
    "\n",
    "\n",
    "# lets calculate the average transaction amount per route and convert it to a DataFrame\n",
    "avg_amount_per_route = \n",
    "\n"
   ]
  },
  {
   "cell_type": "code",
   "execution_count": null,
   "metadata": {},
   "outputs": [],
   "source": [
    "# check first 3 observations\n",
    "avg_amount_per_route.head(3)"
   ]
  },
  {
   "cell_type": "code",
   "execution_count": null,
   "metadata": {},
   "outputs": [],
   "source": [
    "# check columns names\n",
    "avg_amount_per_route.columns"
   ]
  },
  {
   "cell_type": "markdown",
   "metadata": {},
   "source": [
    "<font size=\"3\">We can also extract **multiple statistics for several features per group**"
   ]
  },
  {
   "cell_type": "code",
   "execution_count": 529,
   "metadata": {},
   "outputs": [],
   "source": [
    "# define aggregation dict\n",
    "agg_dict = {\"AMOUNT\": [np.mean, np.std], \"PAYMENTTERM\": [statistics.mode]}"
   ]
  },
  {
   "cell_type": "code",
   "execution_count": 530,
   "metadata": {},
   "outputs": [],
   "source": [
    "# group observations per route and get statistics per feature\n",
    "avg_amount_per_route = transactions_customers_df[transactions_customers_df[\"HVOUTCOME_NRID\"] == 2] \\\n",
    "                                            .groupby(\"HVROUTETEMPLATE_NRID\") \\\n",
    "                                            .agg(agg_dict) \\\n",
    "                                            .reset_index()"
   ]
  },
  {
   "cell_type": "code",
   "execution_count": 531,
   "metadata": {},
   "outputs": [
    {
     "data": {
      "text/html": [
       "<div>\n",
       "<style scoped>\n",
       "    .dataframe tbody tr th:only-of-type {\n",
       "        vertical-align: middle;\n",
       "    }\n",
       "\n",
       "    .dataframe tbody tr th {\n",
       "        vertical-align: top;\n",
       "    }\n",
       "\n",
       "    .dataframe thead tr th {\n",
       "        text-align: left;\n",
       "    }\n",
       "</style>\n",
       "<table border=\"1\" class=\"dataframe\">\n",
       "  <thead>\n",
       "    <tr>\n",
       "      <th></th>\n",
       "      <th>HVROUTETEMPLATE_NRID</th>\n",
       "      <th colspan=\"2\" halign=\"left\">AMOUNT</th>\n",
       "      <th>PAYMENTTERM</th>\n",
       "    </tr>\n",
       "    <tr>\n",
       "      <th></th>\n",
       "      <th></th>\n",
       "      <th>mean</th>\n",
       "      <th>std</th>\n",
       "      <th>mode</th>\n",
       "    </tr>\n",
       "  </thead>\n",
       "  <tbody>\n",
       "    <tr>\n",
       "      <th>0</th>\n",
       "      <td>70671404.0</td>\n",
       "      <td>95.900000</td>\n",
       "      <td>NaN</td>\n",
       "      <td>tbp</td>\n",
       "    </tr>\n",
       "    <tr>\n",
       "      <th>1</th>\n",
       "      <td>219018687.0</td>\n",
       "      <td>16.162435</td>\n",
       "      <td>61.955105</td>\n",
       "      <td>cash</td>\n",
       "    </tr>\n",
       "    <tr>\n",
       "      <th>2</th>\n",
       "      <td>219019324.0</td>\n",
       "      <td>12.036478</td>\n",
       "      <td>11.802005</td>\n",
       "      <td>cash</td>\n",
       "    </tr>\n",
       "    <tr>\n",
       "      <th>3</th>\n",
       "      <td>219019962.0</td>\n",
       "      <td>12.011734</td>\n",
       "      <td>10.378802</td>\n",
       "      <td>cash</td>\n",
       "    </tr>\n",
       "    <tr>\n",
       "      <th>4</th>\n",
       "      <td>219020601.0</td>\n",
       "      <td>12.079423</td>\n",
       "      <td>8.990282</td>\n",
       "      <td>cash</td>\n",
       "    </tr>\n",
       "  </tbody>\n",
       "</table>\n",
       "</div>"
      ],
      "text/plain": [
       "  HVROUTETEMPLATE_NRID     AMOUNT            PAYMENTTERM\n",
       "                             mean        std        mode\n",
       "0           70671404.0  95.900000        NaN         tbp\n",
       "1          219018687.0  16.162435  61.955105        cash\n",
       "2          219019324.0  12.036478  11.802005        cash\n",
       "3          219019962.0  12.011734  10.378802        cash\n",
       "4          219020601.0  12.079423   8.990282        cash"
      ]
     },
     "execution_count": 531,
     "metadata": {},
     "output_type": "execute_result"
    }
   ],
   "source": [
    "# check\n",
    "avg_amount_per_route.head(5)"
   ]
  },
  {
   "cell_type": "code",
   "execution_count": 532,
   "metadata": {},
   "outputs": [
    {
     "data": {
      "text/plain": [
       "MultiIndex([('HVROUTETEMPLATE_NRID',     ''),\n",
       "            (              'AMOUNT', 'mean'),\n",
       "            (              'AMOUNT',  'std'),\n",
       "            (         'PAYMENTTERM', 'mode')],\n",
       "           )"
      ]
     },
     "execution_count": 532,
     "metadata": {},
     "output_type": "execute_result"
    }
   ],
   "source": [
    "# check columns\n",
    "avg_amount_per_route.columns"
   ]
  },
  {
   "cell_type": "markdown",
   "metadata": {},
   "source": [
    "<font size=\"3\">So if you get multiple statistics for different features per group, \n",
    "then you obtain a Dataframe that has **multiple levels of column names**"
   ]
  },
  {
   "cell_type": "code",
   "execution_count": 533,
   "metadata": {},
   "outputs": [
    {
     "data": {
      "text/plain": [
       "0    95.900000\n",
       "1    16.162435\n",
       "2    12.036478\n",
       "3    12.011734\n",
       "4    12.079423\n",
       "Name: mean, dtype: float64"
      ]
     },
     "execution_count": 533,
     "metadata": {},
     "output_type": "execute_result"
    }
   ],
   "source": [
    "# get avg amount per route\n",
    "avg_amount_per_route[\"AMOUNT\"][\"mean\"].head()"
   ]
  },
  {
   "cell_type": "code",
   "execution_count": 536,
   "metadata": {},
   "outputs": [
    {
     "data": {
      "text/plain": [
       "0     tbp\n",
       "1    cash\n",
       "2    cash\n",
       "3    cash\n",
       "4    cash\n",
       "Name: mode, dtype: object"
      ]
     },
     "execution_count": 536,
     "metadata": {},
     "output_type": "execute_result"
    }
   ],
   "source": [
    "# get most occuring paymentterm per route\n",
    "avg_amount_per_route[\"PAYMENTTERM\"][\"mode\"].head()"
   ]
  },
  {
   "cell_type": "code",
   "execution_count": 537,
   "metadata": {},
   "outputs": [],
   "source": [
    "# We can also merge both column levels such that we only have one level of columns\n",
    "avg_amount_per_route.columns = avg_amount_per_route.columns.map('_'.join).str.strip('_')"
   ]
  },
  {
   "cell_type": "code",
   "execution_count": 538,
   "metadata": {},
   "outputs": [
    {
     "data": {
      "text/html": [
       "<div>\n",
       "<style scoped>\n",
       "    .dataframe tbody tr th:only-of-type {\n",
       "        vertical-align: middle;\n",
       "    }\n",
       "\n",
       "    .dataframe tbody tr th {\n",
       "        vertical-align: top;\n",
       "    }\n",
       "\n",
       "    .dataframe thead th {\n",
       "        text-align: right;\n",
       "    }\n",
       "</style>\n",
       "<table border=\"1\" class=\"dataframe\">\n",
       "  <thead>\n",
       "    <tr style=\"text-align: right;\">\n",
       "      <th></th>\n",
       "      <th>HVROUTETEMPLATE_NRID</th>\n",
       "      <th>AMOUNT_mean</th>\n",
       "      <th>AMOUNT_std</th>\n",
       "      <th>PAYMENTTERM_mode</th>\n",
       "    </tr>\n",
       "  </thead>\n",
       "  <tbody>\n",
       "    <tr>\n",
       "      <th>0</th>\n",
       "      <td>70671404.0</td>\n",
       "      <td>95.900000</td>\n",
       "      <td>NaN</td>\n",
       "      <td>tbp</td>\n",
       "    </tr>\n",
       "    <tr>\n",
       "      <th>1</th>\n",
       "      <td>219018687.0</td>\n",
       "      <td>16.162435</td>\n",
       "      <td>61.955105</td>\n",
       "      <td>cash</td>\n",
       "    </tr>\n",
       "    <tr>\n",
       "      <th>2</th>\n",
       "      <td>219019324.0</td>\n",
       "      <td>12.036478</td>\n",
       "      <td>11.802005</td>\n",
       "      <td>cash</td>\n",
       "    </tr>\n",
       "    <tr>\n",
       "      <th>3</th>\n",
       "      <td>219019962.0</td>\n",
       "      <td>12.011734</td>\n",
       "      <td>10.378802</td>\n",
       "      <td>cash</td>\n",
       "    </tr>\n",
       "    <tr>\n",
       "      <th>4</th>\n",
       "      <td>219020601.0</td>\n",
       "      <td>12.079423</td>\n",
       "      <td>8.990282</td>\n",
       "      <td>cash</td>\n",
       "    </tr>\n",
       "  </tbody>\n",
       "</table>\n",
       "</div>"
      ],
      "text/plain": [
       "   HVROUTETEMPLATE_NRID  AMOUNT_mean  AMOUNT_std PAYMENTTERM_mode\n",
       "0            70671404.0    95.900000         NaN              tbp\n",
       "1           219018687.0    16.162435   61.955105             cash\n",
       "2           219019324.0    12.036478   11.802005             cash\n",
       "3           219019962.0    12.011734   10.378802             cash\n",
       "4           219020601.0    12.079423    8.990282             cash"
      ]
     },
     "execution_count": 538,
     "metadata": {},
     "output_type": "execute_result"
    }
   ],
   "source": [
    "# check\n",
    "avg_amount_per_route.head(5)"
   ]
  },
  {
   "cell_type": "code",
   "execution_count": 539,
   "metadata": {},
   "outputs": [
    {
     "data": {
      "text/plain": [
       "0    95.900000\n",
       "1    16.162435\n",
       "2    12.036478\n",
       "3    12.011734\n",
       "4    12.079423\n",
       "Name: AMOUNT_mean, dtype: float64"
      ]
     },
     "execution_count": 539,
     "metadata": {},
     "output_type": "execute_result"
    }
   ],
   "source": [
    "# get avg amount per route\n",
    "avg_amount_per_route[\"AMOUNT_mean\"].head()"
   ]
  },
  {
   "cell_type": "markdown",
   "metadata": {},
   "source": [
    "## 2.2. Pipeline Linear Regression"
   ]
  },
  {
   "cell_type": "markdown",
   "metadata": {},
   "source": [
    "<font size=\"4\">In this tutorial we will build an **entire pipeline for fitting a linear regression model**:\n",
    "        \n",
    "        1. Impute missing values\n",
    "        2. Normalize numeric features\n",
    "        3. Encode categorical features\n",
    "        4. Build regression model\n",
    "        5. Evaluate final regression model"
   ]
  },
  {
   "cell_type": "markdown",
   "metadata": {},
   "source": [
    "<font size=\"3\">First, let us import the the basetable.csv dataset"
   ]
  },
  {
   "cell_type": "code",
   "execution_count": 275,
   "metadata": {},
   "outputs": [],
   "source": [
    "# import the data\n",
    "df = pd.read_csv(\"./data/basetable.csv\")"
   ]
  },
  {
   "cell_type": "code",
   "execution_count": 276,
   "metadata": {
    "scrolled": true
   },
   "outputs": [
    {
     "data": {
      "text/html": [
       "<div>\n",
       "<style scoped>\n",
       "    .dataframe tbody tr th:only-of-type {\n",
       "        vertical-align: middle;\n",
       "    }\n",
       "\n",
       "    .dataframe tbody tr th {\n",
       "        vertical-align: top;\n",
       "    }\n",
       "\n",
       "    .dataframe thead th {\n",
       "        text-align: right;\n",
       "    }\n",
       "</style>\n",
       "<table border=\"1\" class=\"dataframe\">\n",
       "  <thead>\n",
       "    <tr style=\"text-align: right;\">\n",
       "      <th></th>\n",
       "      <th>state</th>\n",
       "      <th>account_length</th>\n",
       "      <th>international_plan</th>\n",
       "      <th>voice_mail_plan</th>\n",
       "      <th>number_vmail_messages</th>\n",
       "      <th>total_day_minutes</th>\n",
       "      <th>total_day_calls</th>\n",
       "      <th>total_day_charge</th>\n",
       "      <th>total_eve_minutes</th>\n",
       "      <th>total_eve_calls</th>\n",
       "      <th>total_eve_charge</th>\n",
       "      <th>total_night_minutes</th>\n",
       "      <th>total_night_calls</th>\n",
       "      <th>total_night_charge</th>\n",
       "      <th>total_intl_minutes</th>\n",
       "      <th>total_intl_calls</th>\n",
       "      <th>total_intl_charge</th>\n",
       "      <th>customer_service_calls</th>\n",
       "      <th>clv</th>\n",
       "    </tr>\n",
       "  </thead>\n",
       "  <tbody>\n",
       "    <tr>\n",
       "      <th>0</th>\n",
       "      <td>KS</td>\n",
       "      <td>128</td>\n",
       "      <td>No</td>\n",
       "      <td>Yes</td>\n",
       "      <td>25</td>\n",
       "      <td>265.1</td>\n",
       "      <td>110</td>\n",
       "      <td>45.07</td>\n",
       "      <td>197.4</td>\n",
       "      <td>99</td>\n",
       "      <td>16.78</td>\n",
       "      <td>244.7</td>\n",
       "      <td>91</td>\n",
       "      <td>11.01</td>\n",
       "      <td>10.0</td>\n",
       "      <td>3</td>\n",
       "      <td>2.70</td>\n",
       "      <td>1</td>\n",
       "      <td>962.456256</td>\n",
       "    </tr>\n",
       "    <tr>\n",
       "      <th>1</th>\n",
       "      <td>OH</td>\n",
       "      <td>107</td>\n",
       "      <td>No</td>\n",
       "      <td>Yes</td>\n",
       "      <td>26</td>\n",
       "      <td>161.6</td>\n",
       "      <td>123</td>\n",
       "      <td>27.47</td>\n",
       "      <td>195.5</td>\n",
       "      <td>103</td>\n",
       "      <td>16.62</td>\n",
       "      <td>254.4</td>\n",
       "      <td>103</td>\n",
       "      <td>11.45</td>\n",
       "      <td>13.7</td>\n",
       "      <td>3</td>\n",
       "      <td>3.70</td>\n",
       "      <td>1</td>\n",
       "      <td>784.776622</td>\n",
       "    </tr>\n",
       "    <tr>\n",
       "      <th>2</th>\n",
       "      <td>NJ</td>\n",
       "      <td>137</td>\n",
       "      <td>No</td>\n",
       "      <td>No</td>\n",
       "      <td>0</td>\n",
       "      <td>243.4</td>\n",
       "      <td>114</td>\n",
       "      <td>41.38</td>\n",
       "      <td>121.2</td>\n",
       "      <td>110</td>\n",
       "      <td>10.30</td>\n",
       "      <td>162.6</td>\n",
       "      <td>104</td>\n",
       "      <td>7.32</td>\n",
       "      <td>12.2</td>\n",
       "      <td>5</td>\n",
       "      <td>3.29</td>\n",
       "      <td>0</td>\n",
       "      <td>579.092101</td>\n",
       "    </tr>\n",
       "    <tr>\n",
       "      <th>3</th>\n",
       "      <td>OH</td>\n",
       "      <td>84</td>\n",
       "      <td>Yes</td>\n",
       "      <td>No</td>\n",
       "      <td>0</td>\n",
       "      <td>299.4</td>\n",
       "      <td>71</td>\n",
       "      <td>50.90</td>\n",
       "      <td>61.9</td>\n",
       "      <td>88</td>\n",
       "      <td>5.26</td>\n",
       "      <td>196.9</td>\n",
       "      <td>89</td>\n",
       "      <td>8.86</td>\n",
       "      <td>6.6</td>\n",
       "      <td>7</td>\n",
       "      <td>1.78</td>\n",
       "      <td>2</td>\n",
       "      <td>588.901693</td>\n",
       "    </tr>\n",
       "    <tr>\n",
       "      <th>4</th>\n",
       "      <td>OK</td>\n",
       "      <td>75</td>\n",
       "      <td>Yes</td>\n",
       "      <td>No</td>\n",
       "      <td>0</td>\n",
       "      <td>166.7</td>\n",
       "      <td>113</td>\n",
       "      <td>28.34</td>\n",
       "      <td>148.3</td>\n",
       "      <td>122</td>\n",
       "      <td>12.61</td>\n",
       "      <td>186.9</td>\n",
       "      <td>121</td>\n",
       "      <td>8.41</td>\n",
       "      <td>10.1</td>\n",
       "      <td>3</td>\n",
       "      <td>2.73</td>\n",
       "      <td>3</td>\n",
       "      <td>738.469951</td>\n",
       "    </tr>\n",
       "  </tbody>\n",
       "</table>\n",
       "</div>"
      ],
      "text/plain": [
       "  state  account_length international_plan voice_mail_plan  \\\n",
       "0    KS             128                 No             Yes   \n",
       "1    OH             107                 No             Yes   \n",
       "2    NJ             137                 No              No   \n",
       "3    OH              84                Yes              No   \n",
       "4    OK              75                Yes              No   \n",
       "\n",
       "   number_vmail_messages  total_day_minutes  total_day_calls  \\\n",
       "0                     25              265.1              110   \n",
       "1                     26              161.6              123   \n",
       "2                      0              243.4              114   \n",
       "3                      0              299.4               71   \n",
       "4                      0              166.7              113   \n",
       "\n",
       "   total_day_charge  total_eve_minutes  total_eve_calls  total_eve_charge  \\\n",
       "0             45.07              197.4               99             16.78   \n",
       "1             27.47              195.5              103             16.62   \n",
       "2             41.38              121.2              110             10.30   \n",
       "3             50.90               61.9               88              5.26   \n",
       "4             28.34              148.3              122             12.61   \n",
       "\n",
       "   total_night_minutes  total_night_calls  total_night_charge  \\\n",
       "0                244.7                 91               11.01   \n",
       "1                254.4                103               11.45   \n",
       "2                162.6                104                7.32   \n",
       "3                196.9                 89                8.86   \n",
       "4                186.9                121                8.41   \n",
       "\n",
       "   total_intl_minutes  total_intl_calls  total_intl_charge  \\\n",
       "0                10.0                 3               2.70   \n",
       "1                13.7                 3               3.70   \n",
       "2                12.2                 5               3.29   \n",
       "3                 6.6                 7               1.78   \n",
       "4                10.1                 3               2.73   \n",
       "\n",
       "   customer_service_calls         clv  \n",
       "0                       1  962.456256  \n",
       "1                       1  784.776622  \n",
       "2                       0  579.092101  \n",
       "3                       2  588.901693  \n",
       "4                       3  738.469951  "
      ]
     },
     "execution_count": 276,
     "metadata": {},
     "output_type": "execute_result"
    }
   ],
   "source": [
    "# check first 5 rows\n",
    "df.head()"
   ]
  },
  {
   "cell_type": "markdown",
   "metadata": {},
   "source": [
    "<font size=\"3\">This dataset is obtained from a Telecom Company and contains **features** about its customers:\n",
    "\n",
    "    - how many minutes a customer called during the day\n",
    "    - how many minutes a customer called during the night\n",
    "    - how long the customer is already a customer from the company\n",
    "    - the state in which the customer lives\n",
    "    - ...\n",
    "    \n",
    "The dataset also contains a variable **clv** which is equal to the customer lifetime value.\n",
    "The higher the clv of a customer, the more the customer was profitable for the company.\n",
    "\n",
    "Hence, we will try to build a **linear regression model that is able to find a relationship between all the customer features and the clv**. This will allow us then to predict the clv for future customers based on there features, and hence allows the telecom company to reward customers with high predicted clv values."
   ]
  },
  {
   "cell_type": "markdown",
   "metadata": {},
   "source": [
    "### Step 1: Imputing missing values"
   ]
  },
  {
   "cell_type": "markdown",
   "metadata": {},
   "source": [
    "<font size=\"3\">In order to train a linear regression model, the data should not contain any missing values.\n",
    "Inspect how many missing values there are per column"
   ]
  },
  {
   "cell_type": "code",
   "execution_count": 277,
   "metadata": {},
   "outputs": [
    {
     "name": "stdout",
     "output_type": "stream",
     "text": [
      "state 0\n",
      "account_length 0\n",
      "international_plan 247\n",
      "voice_mail_plan 0\n",
      "number_vmail_messages 0\n",
      "total_day_minutes 0\n",
      "total_day_calls 0\n",
      "total_day_charge 493\n",
      "total_eve_minutes 0\n",
      "total_eve_calls 0\n",
      "total_eve_charge 0\n",
      "total_night_minutes 0\n",
      "total_night_calls 0\n",
      "total_night_charge 0\n",
      "total_intl_minutes 0\n",
      "total_intl_calls 0\n",
      "total_intl_charge 0\n",
      "customer_service_calls 0\n",
      "clv 0\n"
     ]
    }
   ],
   "source": [
    "# check number of missing values per column\n",
    "for col in df.columns:\n",
    "    # get number of missing values for column\n",
    "    num_miss = sum(df[col].isnull())\n",
    "    # print\n",
    "    print(col, num_miss)"
   ]
  },
  {
   "cell_type": "markdown",
   "metadata": {},
   "source": [
    "<font size=\"3\">In total, there are two variables with missing values: \n",
    "the international_plan variable which is categorical and the total_day_charge variable with is numeric.\n",
    "Missing values of categorical variables are often imputed with the mode of the variable,\n",
    "while missing values of numeric variables are often imputed with the mean of the variable.\n",
    "    \n",
    "    1. Calculate the mode of the international_plan variable and store in a variable\n",
    "    2. Impute the missing values of the international_plan with the mode\n",
    "    3. Calculate the mean of the total_day_charge variable and store in a variable\n",
    "    4. Impute the missing values of the total_day_charge variable with the mean"
   ]
  },
  {
   "cell_type": "code",
   "execution_count": null,
   "metadata": {},
   "outputs": [],
   "source": [
    "############################\n",
    "######### EXERCISE #########\n",
    "############################\n",
    "\n",
    "\n",
    "# calculate mode of international plan\n",
    "\n",
    "\n",
    "# impute missing values of international plan with mode\n",
    "\n",
    "\n",
    "# check number of missing values in international plan"
   ]
  },
  {
   "cell_type": "code",
   "execution_count": null,
   "metadata": {},
   "outputs": [],
   "source": [
    "############################\n",
    "######### EXERCISE #########\n",
    "############################\n",
    "\n",
    "\n",
    "# calculate mean of total day charge\n",
    "\n",
    "\n",
    "# impute missing values of total day charge with mean\n",
    "\n",
    "\n",
    "# check number of missing values in total day charge\n"
   ]
  },
  {
   "cell_type": "markdown",
   "metadata": {},
   "source": [
    "### Step 2: Normalize numeric features"
   ]
  },
  {
   "cell_type": "markdown",
   "metadata": {},
   "source": [
    "<font size=\"3\">Now that all missing values are imputed, we need to normalize the numeric features \n",
    "because a difference in the variance of the different features can have a huge impact on the model performance.\n",
    "Hence, define a function which normalizes every numeric feature in the dataset between 0 and 1, \n",
    "except for the dependent variable offcourse.\n",
    "    \n",
    "    1. Define a function thataccept two parameters: the dataset and the name of dependent variable which we dont want to normalize\n",
    "    2. The function should then extract all the numeric features\n",
    "    3. Next, the function should normalize all the numeric features between 0 and 1\n",
    "    4. Finally, the function should return the dataset with the normalized features\n",
    "    \n",
    " "
   ]
  },
  {
   "cell_type": "code",
   "execution_count": 280,
   "metadata": {},
   "outputs": [],
   "source": [
    "# import the required sklearn class\n",
    "from sklearn.preprocessing import MinMaxScaler"
   ]
  },
  {
   "cell_type": "code",
   "execution_count": 281,
   "metadata": {},
   "outputs": [],
   "source": [
    "############################\n",
    "######### EXERCISE #########\n",
    "###########################\n",
    "\n",
    "\n",
    "\n",
    "# define function that normalizes numeric features\n",
    "def normalize_features(df, name_dependent):\n",
    "    \n",
    "    # get list of all the names of the numeric features, excluding the dependent variable\n",
    "    all_features = set(df._get_numeric_data().columns)\n",
    "    num_features = list(all_features - set([name_dependent]))\n",
    "    \n",
    "    # initialize normalizer\n",
    "    \n",
    "\n",
    "    # fit scaler on all the numeric features\n",
    "\n",
    "    \n",
    "    # normalize numeric features by applying scaler on the features\n",
    "\n",
    "    # return data\n",
    "    \n",
    "    \n",
    "    "
   ]
  },
  {
   "cell_type": "code",
   "execution_count": 282,
   "metadata": {},
   "outputs": [],
   "source": [
    "# test function \n",
    "df = normalize_features(df, \"clv\")"
   ]
  },
  {
   "cell_type": "code",
   "execution_count": 283,
   "metadata": {},
   "outputs": [
    {
     "data": {
      "text/html": [
       "<div>\n",
       "<style scoped>\n",
       "    .dataframe tbody tr th:only-of-type {\n",
       "        vertical-align: middle;\n",
       "    }\n",
       "\n",
       "    .dataframe tbody tr th {\n",
       "        vertical-align: top;\n",
       "    }\n",
       "\n",
       "    .dataframe thead th {\n",
       "        text-align: right;\n",
       "    }\n",
       "</style>\n",
       "<table border=\"1\" class=\"dataframe\">\n",
       "  <thead>\n",
       "    <tr style=\"text-align: right;\">\n",
       "      <th></th>\n",
       "      <th>account_length</th>\n",
       "      <th>number_vmail_messages</th>\n",
       "      <th>total_day_minutes</th>\n",
       "      <th>total_day_calls</th>\n",
       "      <th>total_day_charge</th>\n",
       "      <th>total_eve_minutes</th>\n",
       "      <th>total_eve_calls</th>\n",
       "      <th>total_eve_charge</th>\n",
       "      <th>total_night_minutes</th>\n",
       "      <th>total_night_calls</th>\n",
       "      <th>total_night_charge</th>\n",
       "      <th>total_intl_minutes</th>\n",
       "      <th>total_intl_calls</th>\n",
       "      <th>total_intl_charge</th>\n",
       "      <th>customer_service_calls</th>\n",
       "      <th>clv</th>\n",
       "    </tr>\n",
       "  </thead>\n",
       "  <tbody>\n",
       "    <tr>\n",
       "      <th>count</th>\n",
       "      <td>2160.000000</td>\n",
       "      <td>2160.000000</td>\n",
       "      <td>2160.000000</td>\n",
       "      <td>2160.000000</td>\n",
       "      <td>2160.000000</td>\n",
       "      <td>2160.000000</td>\n",
       "      <td>2160.000000</td>\n",
       "      <td>2160.000000</td>\n",
       "      <td>2160.000000</td>\n",
       "      <td>2160.000000</td>\n",
       "      <td>2160.000000</td>\n",
       "      <td>2160.000000</td>\n",
       "      <td>2160.000000</td>\n",
       "      <td>2160.000000</td>\n",
       "      <td>2160.000000</td>\n",
       "      <td>2160.000000</td>\n",
       "    </tr>\n",
       "    <tr>\n",
       "      <th>mean</th>\n",
       "      <td>0.409464</td>\n",
       "      <td>0.169157</td>\n",
       "      <td>0.558055</td>\n",
       "      <td>0.625567</td>\n",
       "      <td>0.565998</td>\n",
       "      <td>0.559815</td>\n",
       "      <td>0.587958</td>\n",
       "      <td>0.559768</td>\n",
       "      <td>0.447140</td>\n",
       "      <td>0.492788</td>\n",
       "      <td>0.447165</td>\n",
       "      <td>0.536665</td>\n",
       "      <td>0.237987</td>\n",
       "      <td>0.537076</td>\n",
       "      <td>0.205093</td>\n",
       "      <td>829.173377</td>\n",
       "    </tr>\n",
       "    <tr>\n",
       "      <th>std</th>\n",
       "      <td>0.162613</td>\n",
       "      <td>0.276196</td>\n",
       "      <td>0.159135</td>\n",
       "      <td>0.123326</td>\n",
       "      <td>0.141610</td>\n",
       "      <td>0.142065</td>\n",
       "      <td>0.118935</td>\n",
       "      <td>0.142051</td>\n",
       "      <td>0.146249</td>\n",
       "      <td>0.148312</td>\n",
       "      <td>0.146325</td>\n",
       "      <td>0.146831</td>\n",
       "      <td>0.128626</td>\n",
       "      <td>0.146903</td>\n",
       "      <td>0.164049</td>\n",
       "      <td>188.504217</td>\n",
       "    </tr>\n",
       "    <tr>\n",
       "      <th>min</th>\n",
       "      <td>0.000000</td>\n",
       "      <td>0.000000</td>\n",
       "      <td>0.000000</td>\n",
       "      <td>0.000000</td>\n",
       "      <td>0.000000</td>\n",
       "      <td>0.000000</td>\n",
       "      <td>0.000000</td>\n",
       "      <td>0.000000</td>\n",
       "      <td>0.000000</td>\n",
       "      <td>0.000000</td>\n",
       "      <td>0.000000</td>\n",
       "      <td>0.000000</td>\n",
       "      <td>0.000000</td>\n",
       "      <td>0.000000</td>\n",
       "      <td>0.000000</td>\n",
       "      <td>45.318947</td>\n",
       "    </tr>\n",
       "    <tr>\n",
       "      <th>25%</th>\n",
       "      <td>0.297521</td>\n",
       "      <td>0.000000</td>\n",
       "      <td>0.455147</td>\n",
       "      <td>0.543750</td>\n",
       "      <td>0.495634</td>\n",
       "      <td>0.461815</td>\n",
       "      <td>0.511765</td>\n",
       "      <td>0.461890</td>\n",
       "      <td>0.349203</td>\n",
       "      <td>0.392308</td>\n",
       "      <td>0.349209</td>\n",
       "      <td>0.444444</td>\n",
       "      <td>0.157895</td>\n",
       "      <td>0.445098</td>\n",
       "      <td>0.142857</td>\n",
       "      <td>726.844087</td>\n",
       "    </tr>\n",
       "    <tr>\n",
       "      <th>50%</th>\n",
       "      <td>0.409091</td>\n",
       "      <td>0.000000</td>\n",
       "      <td>0.565169</td>\n",
       "      <td>0.625000</td>\n",
       "      <td>0.565998</td>\n",
       "      <td>0.561124</td>\n",
       "      <td>0.588235</td>\n",
       "      <td>0.561109</td>\n",
       "      <td>0.446200</td>\n",
       "      <td>0.492308</td>\n",
       "      <td>0.446203</td>\n",
       "      <td>0.539683</td>\n",
       "      <td>0.210526</td>\n",
       "      <td>0.539216</td>\n",
       "      <td>0.142857</td>\n",
       "      <td>839.609099</td>\n",
       "    </tr>\n",
       "    <tr>\n",
       "      <th>75%</th>\n",
       "      <td>0.520661</td>\n",
       "      <td>0.420000</td>\n",
       "      <td>0.667304</td>\n",
       "      <td>0.706250</td>\n",
       "      <td>0.643128</td>\n",
       "      <td>0.657326</td>\n",
       "      <td>0.670588</td>\n",
       "      <td>0.657340</td>\n",
       "      <td>0.547467</td>\n",
       "      <td>0.592308</td>\n",
       "      <td>0.547468</td>\n",
       "      <td>0.634921</td>\n",
       "      <td>0.315789</td>\n",
       "      <td>0.635294</td>\n",
       "      <td>0.285714</td>\n",
       "      <td>952.014373</td>\n",
       "    </tr>\n",
       "    <tr>\n",
       "      <th>max</th>\n",
       "      <td>1.000000</td>\n",
       "      <td>1.000000</td>\n",
       "      <td>1.000000</td>\n",
       "      <td>1.000000</td>\n",
       "      <td>1.000000</td>\n",
       "      <td>1.000000</td>\n",
       "      <td>1.000000</td>\n",
       "      <td>1.000000</td>\n",
       "      <td>1.000000</td>\n",
       "      <td>1.000000</td>\n",
       "      <td>1.000000</td>\n",
       "      <td>1.000000</td>\n",
       "      <td>1.000000</td>\n",
       "      <td>1.000000</td>\n",
       "      <td>1.000000</td>\n",
       "      <td>1433.233389</td>\n",
       "    </tr>\n",
       "  </tbody>\n",
       "</table>\n",
       "</div>"
      ],
      "text/plain": [
       "       account_length  number_vmail_messages  total_day_minutes  \\\n",
       "count     2160.000000            2160.000000        2160.000000   \n",
       "mean         0.409464               0.169157           0.558055   \n",
       "std          0.162613               0.276196           0.159135   \n",
       "min          0.000000               0.000000           0.000000   \n",
       "25%          0.297521               0.000000           0.455147   \n",
       "50%          0.409091               0.000000           0.565169   \n",
       "75%          0.520661               0.420000           0.667304   \n",
       "max          1.000000               1.000000           1.000000   \n",
       "\n",
       "       total_day_calls  total_day_charge  total_eve_minutes  total_eve_calls  \\\n",
       "count      2160.000000       2160.000000        2160.000000      2160.000000   \n",
       "mean          0.625567          0.565998           0.559815         0.587958   \n",
       "std           0.123326          0.141610           0.142065         0.118935   \n",
       "min           0.000000          0.000000           0.000000         0.000000   \n",
       "25%           0.543750          0.495634           0.461815         0.511765   \n",
       "50%           0.625000          0.565998           0.561124         0.588235   \n",
       "75%           0.706250          0.643128           0.657326         0.670588   \n",
       "max           1.000000          1.000000           1.000000         1.000000   \n",
       "\n",
       "       total_eve_charge  total_night_minutes  total_night_calls  \\\n",
       "count       2160.000000          2160.000000        2160.000000   \n",
       "mean           0.559768             0.447140           0.492788   \n",
       "std            0.142051             0.146249           0.148312   \n",
       "min            0.000000             0.000000           0.000000   \n",
       "25%            0.461890             0.349203           0.392308   \n",
       "50%            0.561109             0.446200           0.492308   \n",
       "75%            0.657340             0.547467           0.592308   \n",
       "max            1.000000             1.000000           1.000000   \n",
       "\n",
       "       total_night_charge  total_intl_minutes  total_intl_calls  \\\n",
       "count         2160.000000         2160.000000       2160.000000   \n",
       "mean             0.447165            0.536665          0.237987   \n",
       "std              0.146325            0.146831          0.128626   \n",
       "min              0.000000            0.000000          0.000000   \n",
       "25%              0.349209            0.444444          0.157895   \n",
       "50%              0.446203            0.539683          0.210526   \n",
       "75%              0.547468            0.634921          0.315789   \n",
       "max              1.000000            1.000000          1.000000   \n",
       "\n",
       "       total_intl_charge  customer_service_calls          clv  \n",
       "count        2160.000000             2160.000000  2160.000000  \n",
       "mean            0.537076                0.205093   829.173377  \n",
       "std             0.146903                0.164049   188.504217  \n",
       "min             0.000000                0.000000    45.318947  \n",
       "25%             0.445098                0.142857   726.844087  \n",
       "50%             0.539216                0.142857   839.609099  \n",
       "75%             0.635294                0.285714   952.014373  \n",
       "max             1.000000                1.000000  1433.233389  "
      ]
     },
     "execution_count": 283,
     "metadata": {},
     "output_type": "execute_result"
    }
   ],
   "source": [
    "# check\n",
    "df.describe()"
   ]
  },
  {
   "cell_type": "markdown",
   "metadata": {},
   "source": [
    "###  Step 3: Encode categorical features"
   ]
  },
  {
   "cell_type": "markdown",
   "metadata": {},
   "source": [
    "<font size=\"3\">In a final preprocessing step, we should encode the categorical variables, \n",
    "because most machine learning models can only work with numeric data.\n",
    "Hence, you should create a function that enocdes every categorical variable.\n",
    "\n",
    "    1. Define a function that accepts 1 parameter: the data\n",
    "    2. The function should then extract the categorical variables\n",
    "    3. The function should then encode all the categorical variables\n",
    "    4. finally, the function should return the dataset with the encoded categorical variables"
   ]
  },
  {
   "cell_type": "code",
   "execution_count": 284,
   "metadata": {},
   "outputs": [],
   "source": [
    "# import the required sklearn class\n",
    "from sklearn.preprocessing import LabelEncoder"
   ]
  },
  {
   "cell_type": "code",
   "execution_count": 285,
   "metadata": {},
   "outputs": [],
   "source": [
    "# define a function to encode all categorical features\n",
    "def encode_features(df):\n",
    "    \n",
    "    # extract list of all the names of the categorical variables\n",
    "    all_cols = set(df.columns)\n",
    "    all_numerics = set(df._get_numeric_data().columns)\n",
    "    all_categoricals = list(all_cols - all_numerics)\n",
    "\n",
    "    \n",
    "    # loop through categorical variables\n",
    "    for col in all_categoricals:\n",
    "        \n",
    "        # initialize encoder\n",
    "        encoder = LabelEncoder()\n",
    "        \n",
    "        # fit encoder on variable\n",
    "        encoder.fit(df[col])\n",
    "        \n",
    "        # encode variable by applying encoder on variable\n",
    "        df[col] = encoder.transform(df[col])\n",
    "        \n",
    "    # return dataset\n",
    "    return(df)\n",
    "        "
   ]
  },
  {
   "cell_type": "code",
   "execution_count": 286,
   "metadata": {},
   "outputs": [],
   "source": [
    "# test function\n",
    "df = encode_features(df)"
   ]
  },
  {
   "cell_type": "code",
   "execution_count": 287,
   "metadata": {},
   "outputs": [
    {
     "data": {
      "text/plain": [
       "0    0\n",
       "1    0\n",
       "2    0\n",
       "3    1\n",
       "4    1\n",
       "Name: international_plan, dtype: int64"
      ]
     },
     "execution_count": 287,
     "metadata": {},
     "output_type": "execute_result"
    }
   ],
   "source": [
    "# check\n",
    "df[\"international_plan\"].head()"
   ]
  },
  {
   "cell_type": "markdown",
   "metadata": {},
   "source": [
    "### step 4: Train linear regression model"
   ]
  },
  {
   "cell_type": "markdown",
   "metadata": {},
   "source": [
    "<font size=\"3\">Now that all the missing values are imputed, the numeric variables are scaled and the categorical variables are encoded, we can fit our linear regression model.\n",
    "\n",
    "Fit a linear regression model with clv being the dependent variable and all the other features being the features"
   ]
  },
  {
   "cell_type": "code",
   "execution_count": 288,
   "metadata": {},
   "outputs": [],
   "source": [
    "# import the sklearn class\n",
    "from sklearn.linear_model import LinearRegression"
   ]
  },
  {
   "cell_type": "code",
   "execution_count": null,
   "metadata": {},
   "outputs": [],
   "source": [
    "############################\n",
    "######### EXERCISE #########\n",
    "###########################\n",
    "\n",
    "\n",
    "# get a list with all the names of the features\n",
    "\n",
    "# initialize the model\n",
    "\n",
    "# fit the model on the data\n"
   ]
  },
  {
   "cell_type": "markdown",
   "metadata": {},
   "source": [
    "### Step 5: Explain the model"
   ]
  },
  {
   "cell_type": "markdown",
   "metadata": {},
   "source": [
    "<font size=\"3\">Now that the model is trained, we can inspect the coefficients and hence the impact of each variable.\n",
    "Get the 5 variables that have the highest impact in absolute terms on the dependent variable clv."
   ]
  },
  {
   "cell_type": "code",
   "execution_count": 290,
   "metadata": {},
   "outputs": [
    {
     "data": {
      "text/html": [
       "<div>\n",
       "<style scoped>\n",
       "    .dataframe tbody tr th:only-of-type {\n",
       "        vertical-align: middle;\n",
       "    }\n",
       "\n",
       "    .dataframe tbody tr th {\n",
       "        vertical-align: top;\n",
       "    }\n",
       "\n",
       "    .dataframe thead th {\n",
       "        text-align: right;\n",
       "    }\n",
       "</style>\n",
       "<table border=\"1\" class=\"dataframe\">\n",
       "  <thead>\n",
       "    <tr style=\"text-align: right;\">\n",
       "      <th></th>\n",
       "      <th>name</th>\n",
       "      <th>coef</th>\n",
       "      <th>coef_abs</th>\n",
       "    </tr>\n",
       "  </thead>\n",
       "  <tbody>\n",
       "    <tr>\n",
       "      <th>7</th>\n",
       "      <td>total_night_minutes</td>\n",
       "      <td>31703.721873</td>\n",
       "      <td>31703.721873</td>\n",
       "    </tr>\n",
       "    <tr>\n",
       "      <th>12</th>\n",
       "      <td>total_night_charge</td>\n",
       "      <td>-31621.344666</td>\n",
       "      <td>31621.344666</td>\n",
       "    </tr>\n",
       "    <tr>\n",
       "      <th>14</th>\n",
       "      <td>total_eve_minutes</td>\n",
       "      <td>31366.524359</td>\n",
       "      <td>31366.524359</td>\n",
       "    </tr>\n",
       "    <tr>\n",
       "      <th>0</th>\n",
       "      <td>total_eve_charge</td>\n",
       "      <td>-30589.586750</td>\n",
       "      <td>30589.586750</td>\n",
       "    </tr>\n",
       "    <tr>\n",
       "      <th>11</th>\n",
       "      <td>total_intl_minutes</td>\n",
       "      <td>3946.672612</td>\n",
       "      <td>3946.672612</td>\n",
       "    </tr>\n",
       "  </tbody>\n",
       "</table>\n",
       "</div>"
      ],
      "text/plain": [
       "                   name          coef      coef_abs\n",
       "7   total_night_minutes  31703.721873  31703.721873\n",
       "12   total_night_charge -31621.344666  31621.344666\n",
       "14    total_eve_minutes  31366.524359  31366.524359\n",
       "0      total_eve_charge -30589.586750  30589.586750\n",
       "11   total_intl_minutes   3946.672612   3946.672612"
      ]
     },
     "execution_count": 290,
     "metadata": {},
     "output_type": "execute_result"
    }
   ],
   "source": [
    "# create dataframe with two columns: the feature names and the corresponding coefficients\n",
    "coef_df = pd.DataFrame({\"name\": feature_names, \"coef\": lr_model.coef_})\n",
    "\n",
    "# create extra column that equals the absolute value of the coefficients\n",
    "coef_df[\"coef_abs\"] = abs(coef_df[\"coef\"])\n",
    "\n",
    "# sort dataframe by absolute value of coef\n",
    "coef_df = coef_df.sort_values(by=\"coef_abs\", ascending=False)\n",
    "\n",
    "# get the subset of 5 variables with highest coef\n",
    "coef_df.iloc[:5]"
   ]
  },
  {
   "cell_type": "code",
   "execution_count": 291,
   "metadata": {},
   "outputs": [
    {
     "data": {
      "image/png": "[encoded data removed]",
      "text/plain": [
       "<Figure size 720x360 with 1 Axes>"
      ]
     },
     "metadata": {
      "needs_background": "light"
     },
     "output_type": "display_data"
    }
   ],
   "source": [
    "# visualize coefficients\n",
    "plt.figure(figsize=(10, 5))\n",
    "plt.barh(y=range(len(lr_model.coef_)), width=lr_model.coef_)\n",
    "plt.yticks(range(len(lr_model.coef_)), feature_names)\n",
    "plt.show()"
   ]
  },
  {
   "cell_type": "markdown",
   "metadata": {},
   "source": [
    "### Step 6: Evaluate model"
   ]
  },
  {
   "cell_type": "markdown",
   "metadata": {},
   "source": [
    "<font size=\"3\">Finally, we can evaluate the model by comparing its estimated values predictions with the true values.\n",
    "Get the predicted values for the dependent variable for each observation and calculate the rmse and mae.\n",
    "Also plot the distribution of the true values and the distribution of the predicted values in the same plot."
   ]
  },
  {
   "cell_type": "code",
   "execution_count": 292,
   "metadata": {},
   "outputs": [],
   "source": [
    "# import the sklearn metrics\n",
    "from sklearn.metrics import mean_absolute_error, mean_squared_error"
   ]
  },
  {
   "cell_type": "code",
   "execution_count": 293,
   "metadata": {},
   "outputs": [],
   "source": [
    "# get predictions\n",
    "preds = lr_model.predict(df[feature_names])"
   ]
  },
  {
   "cell_type": "code",
   "execution_count": 294,
   "metadata": {},
   "outputs": [],
   "source": [
    "# get rmse and mae\n",
    "rmse = mean_squared_error(df[\"clv\"], preds) ** 0.5\n",
    "mae = mean_absolute_error(df[\"clv\"], preds)"
   ]
  },
  {
   "cell_type": "code",
   "execution_count": 295,
   "metadata": {},
   "outputs": [
    {
     "name": "stdout",
     "output_type": "stream",
     "text": [
      "148.08436706905817\n",
      "102.05013714538242\n"
     ]
    }
   ],
   "source": [
    "print(rmse)\n",
    "print(mae)"
   ]
  },
  {
   "cell_type": "code",
   "execution_count": 296,
   "metadata": {},
   "outputs": [
    {
     "name": "stderr",
     "output_type": "stream",
     "text": [
      "/Users/arnoliseune/miniforge3/lib/python3.9/site-packages/seaborn/distributions.py:2557: FutureWarning: `distplot` is a deprecated function and will be removed in a future version. Please adapt your code to use either `displot` (a figure-level function with similar flexibility) or `histplot` (an axes-level function for histograms).\n",
      "  warnings.warn(msg, FutureWarning)\n",
      "/Users/arnoliseune/miniforge3/lib/python3.9/site-packages/seaborn/distributions.py:2557: FutureWarning: `distplot` is a deprecated function and will be removed in a future version. Please adapt your code to use either `displot` (a figure-level function with similar flexibility) or `histplot` (an axes-level function for histograms).\n",
      "  warnings.warn(msg, FutureWarning)\n"
     ]
    },
    {
     "data": {
      "image/png": "[encoded data removed]",
      "text/plain": [
       "<Figure size 432x288 with 1 Axes>"
      ]
     },
     "metadata": {
      "needs_background": "light"
     },
     "output_type": "display_data"
    }
   ],
   "source": [
    "# plot distributions\n",
    "sns.distplot(df[\"clv\"], label=\"true\")\n",
    "sns.distplot(preds, label=\"predicted\")\n",
    "plt.legend(loc=\"upper right\")\n",
    "plt.show()"
   ]
  },
  {
   "cell_type": "code",
   "execution_count": null,
   "metadata": {},
   "outputs": [],
   "source": []
  }
 ],
 "metadata": {
  "kernelspec": {
   "display_name": "Python 3",
   "language": "python",
   "name": "python3"
  },
  "language_info": {
   "codemirror_mode": {
    "name": "ipython",
    "version": 3
   },
   "file_extension": ".py",
   "mimetype": "text/x-python",
   "name": "python",
   "nbconvert_exporter": "python",
   "pygments_lexer": "ipython3",
   "version": "3.8.8"
  },
  "toc": {
   "base_numbering": 1,
   "nav_menu": {},
   "number_sections": true,
   "sideBar": true,
   "skip_h1_title": false,
   "title_cell": "Table of Contents",
   "title_sidebar": "Contents",
   "toc_cell": false,
   "toc_position": {},
   "toc_section_display": true,
   "toc_window_display": false
  }
 },
 "nbformat": 4,
 "nbformat_minor": 2
}
