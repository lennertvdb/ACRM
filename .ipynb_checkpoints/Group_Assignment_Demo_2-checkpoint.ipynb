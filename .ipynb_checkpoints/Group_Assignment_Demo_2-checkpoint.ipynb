{
 "cells": [
  {
   "cell_type": "code",
   "execution_count": 1,
   "id": "6ad758cc",
   "metadata": {},
   "outputs": [],
   "source": [
    "# import the packages\n",
    "import pandas as pd\n",
    "import numpy as np\n",
    "\n",
    "import datetime"
   ]
  },
  {
   "cell_type": "markdown",
   "id": "28343e86",
   "metadata": {},
   "source": [
    "# 1. Import Data"
   ]
  },
  {
   "cell_type": "code",
   "execution_count": 2,
   "id": "73481dfa",
   "metadata": {},
   "outputs": [],
   "source": [
    "# import the data into pandas dataframes\n",
    "hvc_hvvisitresult = pd.read_csv(\"../final_data/HVC_HVVISITRESULT.csv\", sep=\";\")\n",
    "hvc_so0 = pd.read_csv(\"../final_data/HVC_SO0.csv\", sep=\";\")\n",
    "hvc_am0 = pd.read_csv(\"../final_data/HVC_AM0.csv\", sep=\";\")\n",
    "hvc_ar0 = pd.read_csv(\"../final_data/HVC_AR0.csv\", sep=\";\")\n",
    "hvc_hvvisitresultdetails = pd.read_csv(\"../final_data/HVC_VISITRESULTDETAILS.csv\", sep=\";\")"
   ]
  },
  {
   "cell_type": "markdown",
   "id": "de2048d5",
   "metadata": {},
   "source": [
    "# 2. Explore the data"
   ]
  },
  {
   "cell_type": "markdown",
   "id": "9dcec43c",
   "metadata": {},
   "source": [
    "Now that we have imported all the datasets into Pandas DataFrames, \n",
    "we can do some basic exploration on these datasets.\n",
    "This will give us more inisghts and will help us to do some analytics on this data."
   ]
  },
  {
   "cell_type": "markdown",
   "id": "cec48d4d",
   "metadata": {},
   "source": [
    "## 2.1. Transactions"
   ]
  },
  {
   "cell_type": "code",
   "execution_count": 3,
   "id": "ea8e7723",
   "metadata": {},
   "outputs": [
    {
     "data": {
      "text/html": [
       "<div>\n",
       "<style scoped>\n",
       "    .dataframe tbody tr th:only-of-type {\n",
       "        vertical-align: middle;\n",
       "    }\n",
       "\n",
       "    .dataframe tbody tr th {\n",
       "        vertical-align: top;\n",
       "    }\n",
       "\n",
       "    .dataframe thead th {\n",
       "        text-align: right;\n",
       "    }\n",
       "</style>\n",
       "<table border=\"1\" class=\"dataframe\">\n",
       "  <thead>\n",
       "    <tr style=\"text-align: right;\">\n",
       "      <th></th>\n",
       "      <th>HVVISITRESULT_NRID</th>\n",
       "      <th>SO0_NRID</th>\n",
       "      <th>AM0_NRID</th>\n",
       "      <th>HVOUTCOME_NRID</th>\n",
       "      <th>VISITDATE</th>\n",
       "      <th>DATEONLY</th>\n",
       "      <th>AMOUNT</th>\n",
       "      <th>PAYMENTTERM</th>\n",
       "    </tr>\n",
       "  </thead>\n",
       "  <tbody>\n",
       "    <tr>\n",
       "      <th>0</th>\n",
       "      <td>55681456</td>\n",
       "      <td>719952</td>\n",
       "      <td>23186288605042</td>\n",
       "      <td>2</td>\n",
       "      <td>12:20:01,000000000</td>\n",
       "      <td>2019-05-06</td>\n",
       "      <td>16.9</td>\n",
       "      <td>cash</td>\n",
       "    </tr>\n",
       "    <tr>\n",
       "      <th>1</th>\n",
       "      <td>55681507</td>\n",
       "      <td>1453609</td>\n",
       "      <td>19946584592834</td>\n",
       "      <td>2</td>\n",
       "      <td>12:13:50,000000000</td>\n",
       "      <td>2019-05-06</td>\n",
       "      <td>7.4</td>\n",
       "      <td>cash</td>\n",
       "    </tr>\n",
       "    <tr>\n",
       "      <th>2</th>\n",
       "      <td>55681509</td>\n",
       "      <td>1453614</td>\n",
       "      <td>19946584592834</td>\n",
       "      <td>2</td>\n",
       "      <td>12:14:08,000000000</td>\n",
       "      <td>2019-05-06</td>\n",
       "      <td>18.9</td>\n",
       "      <td>cash</td>\n",
       "    </tr>\n",
       "    <tr>\n",
       "      <th>3</th>\n",
       "      <td>55681512</td>\n",
       "      <td>1453602</td>\n",
       "      <td>19946584592834</td>\n",
       "      <td>1</td>\n",
       "      <td>12:16:04,000000000</td>\n",
       "      <td>2019-05-06</td>\n",
       "      <td>0.0</td>\n",
       "      <td>NaN</td>\n",
       "    </tr>\n",
       "    <tr>\n",
       "      <th>4</th>\n",
       "      <td>55674074</td>\n",
       "      <td>1252497</td>\n",
       "      <td>18934048107254</td>\n",
       "      <td>2</td>\n",
       "      <td>10:41:09,000000000</td>\n",
       "      <td>2019-05-06</td>\n",
       "      <td>34.9</td>\n",
       "      <td>tbp</td>\n",
       "    </tr>\n",
       "  </tbody>\n",
       "</table>\n",
       "</div>"
      ],
      "text/plain": [
       "   HVVISITRESULT_NRID  SO0_NRID        AM0_NRID  HVOUTCOME_NRID  \\\n",
       "0            55681456    719952  23186288605042               2   \n",
       "1            55681507   1453609  19946584592834               2   \n",
       "2            55681509   1453614  19946584592834               2   \n",
       "3            55681512   1453602  19946584592834               1   \n",
       "4            55674074   1252497  18934048107254               2   \n",
       "\n",
       "            VISITDATE    DATEONLY  AMOUNT PAYMENTTERM  \n",
       "0  12:20:01,000000000  2019-05-06    16.9        cash  \n",
       "1  12:13:50,000000000  2019-05-06     7.4        cash  \n",
       "2  12:14:08,000000000  2019-05-06    18.9        cash  \n",
       "3  12:16:04,000000000  2019-05-06     0.0         NaN  \n",
       "4  10:41:09,000000000  2019-05-06    34.9         tbp  "
      ]
     },
     "execution_count": 3,
     "metadata": {},
     "output_type": "execute_result"
    }
   ],
   "source": [
    "# inspect the first 5 observations of the transactions\n",
    "hvc_hvvisitresult.head(5)"
   ]
  },
  {
   "cell_type": "code",
   "execution_count": 4,
   "id": "d39f0962",
   "metadata": {},
   "outputs": [
    {
     "data": {
      "text/html": [
       "<div>\n",
       "<style scoped>\n",
       "    .dataframe tbody tr th:only-of-type {\n",
       "        vertical-align: middle;\n",
       "    }\n",
       "\n",
       "    .dataframe tbody tr th {\n",
       "        vertical-align: top;\n",
       "    }\n",
       "\n",
       "    .dataframe thead th {\n",
       "        text-align: right;\n",
       "    }\n",
       "</style>\n",
       "<table border=\"1\" class=\"dataframe\">\n",
       "  <thead>\n",
       "    <tr style=\"text-align: right;\">\n",
       "      <th></th>\n",
       "      <th>HVVISITRESULT_NRID</th>\n",
       "      <th>SO0_NRID</th>\n",
       "      <th>AM0_NRID</th>\n",
       "      <th>HVOUTCOME_NRID</th>\n",
       "      <th>VISITDATE</th>\n",
       "      <th>DATEONLY</th>\n",
       "      <th>AMOUNT</th>\n",
       "      <th>PAYMENTTERM</th>\n",
       "    </tr>\n",
       "  </thead>\n",
       "  <tbody>\n",
       "    <tr>\n",
       "      <th>240410</th>\n",
       "      <td>68688417</td>\n",
       "      <td>1252549</td>\n",
       "      <td>18934048107254</td>\n",
       "      <td>2</td>\n",
       "      <td>12:49:06,000000000</td>\n",
       "      <td>2020-06-30</td>\n",
       "      <td>15.5</td>\n",
       "      <td>cash</td>\n",
       "    </tr>\n",
       "    <tr>\n",
       "      <th>240411</th>\n",
       "      <td>68756432</td>\n",
       "      <td>1399210</td>\n",
       "      <td>24034952445848</td>\n",
       "      <td>1</td>\n",
       "      <td>09:56:02,000000000</td>\n",
       "      <td>2020-07-04</td>\n",
       "      <td>0.0</td>\n",
       "      <td>NaN</td>\n",
       "    </tr>\n",
       "    <tr>\n",
       "      <th>240412</th>\n",
       "      <td>73715426</td>\n",
       "      <td>56358393</td>\n",
       "      <td>24034952445848</td>\n",
       "      <td>1</td>\n",
       "      <td>17:26:04,000000000</td>\n",
       "      <td>2020-12-19</td>\n",
       "      <td>0.0</td>\n",
       "      <td>NaN</td>\n",
       "    </tr>\n",
       "    <tr>\n",
       "      <th>240413</th>\n",
       "      <td>73435165</td>\n",
       "      <td>21511152416840</td>\n",
       "      <td>18934048107254</td>\n",
       "      <td>2</td>\n",
       "      <td>18:57:48,000000000</td>\n",
       "      <td>2020-12-12</td>\n",
       "      <td>7.4</td>\n",
       "      <td>cash</td>\n",
       "    </tr>\n",
       "    <tr>\n",
       "      <th>240414</th>\n",
       "      <td>73465634</td>\n",
       "      <td>875410</td>\n",
       "      <td>19946584592834</td>\n",
       "      <td>1</td>\n",
       "      <td>14:02:19,000000000</td>\n",
       "      <td>2020-12-13</td>\n",
       "      <td>0.0</td>\n",
       "      <td>NaN</td>\n",
       "    </tr>\n",
       "  </tbody>\n",
       "</table>\n",
       "</div>"
      ],
      "text/plain": [
       "        HVVISITRESULT_NRID        SO0_NRID        AM0_NRID  HVOUTCOME_NRID  \\\n",
       "240410            68688417         1252549  18934048107254               2   \n",
       "240411            68756432         1399210  24034952445848               1   \n",
       "240412            73715426        56358393  24034952445848               1   \n",
       "240413            73435165  21511152416840  18934048107254               2   \n",
       "240414            73465634          875410  19946584592834               1   \n",
       "\n",
       "                 VISITDATE    DATEONLY  AMOUNT PAYMENTTERM  \n",
       "240410  12:49:06,000000000  2020-06-30    15.5        cash  \n",
       "240411  09:56:02,000000000  2020-07-04     0.0         NaN  \n",
       "240412  17:26:04,000000000  2020-12-19     0.0         NaN  \n",
       "240413  18:57:48,000000000  2020-12-12     7.4        cash  \n",
       "240414  14:02:19,000000000  2020-12-13     0.0         NaN  "
      ]
     },
     "execution_count": 4,
     "metadata": {},
     "output_type": "execute_result"
    }
   ],
   "source": [
    "# inspect the last 5 observations of the transactions\n",
    "hvc_hvvisitresult.tail(5)"
   ]
  },
  {
   "cell_type": "code",
   "execution_count": 5,
   "id": "998d749a",
   "metadata": {
    "scrolled": true
   },
   "outputs": [
    {
     "data": {
      "text/plain": [
       "HVVISITRESULT_NRID      int64\n",
       "SO0_NRID                int64\n",
       "AM0_NRID                int64\n",
       "HVOUTCOME_NRID          int64\n",
       "VISITDATE              object\n",
       "DATEONLY               object\n",
       "AMOUNT                float64\n",
       "PAYMENTTERM            object\n",
       "dtype: object"
      ]
     },
     "execution_count": 5,
     "metadata": {},
     "output_type": "execute_result"
    }
   ],
   "source": [
    "# check dtypes\n",
    "hvc_hvvisitresult.dtypes"
   ]
  },
  {
   "cell_type": "code",
   "execution_count": 6,
   "id": "478634c8",
   "metadata": {},
   "outputs": [
    {
     "data": {
      "text/plain": [
       "240415"
      ]
     },
     "execution_count": 6,
     "metadata": {},
     "output_type": "execute_result"
    }
   ],
   "source": [
    "# check the number of transactions \n",
    "len(hvc_hvvisitresult)"
   ]
  },
  {
   "cell_type": "code",
   "execution_count": 7,
   "id": "093ee067",
   "metadata": {},
   "outputs": [
    {
     "data": {
      "text/plain": [
       "count    240415.000000\n",
       "mean          4.427552\n",
       "std          12.324519\n",
       "min         -50.000000\n",
       "25%           0.000000\n",
       "50%           0.000000\n",
       "75%           7.400000\n",
       "max        1476.800000\n",
       "Name: AMOUNT, dtype: float64"
      ]
     },
     "execution_count": 7,
     "metadata": {},
     "output_type": "execute_result"
    }
   ],
   "source": [
    "# inspect some descriptive statistics with respect to the transaction amount\n",
    "hvc_hvvisitresult[\"AMOUNT\"].describe()"
   ]
  },
  {
   "cell_type": "code",
   "execution_count": 8,
   "id": "69d2cf95",
   "metadata": {},
   "outputs": [
    {
     "data": {
      "text/plain": [
       "count     77301\n",
       "unique        2\n",
       "top        cash\n",
       "freq      76391\n",
       "Name: PAYMENTTERM, dtype: object"
      ]
     },
     "execution_count": 8,
     "metadata": {},
     "output_type": "execute_result"
    }
   ],
   "source": [
    "# inspect some descriptive statistics with respect to the payment term\n",
    "hvc_hvvisitresult[\"PAYMENTTERM\"].describe()"
   ]
  },
  {
   "cell_type": "code",
   "execution_count": 9,
   "id": "54da135d",
   "metadata": {},
   "outputs": [
    {
     "data": {
      "text/plain": [
       "0"
      ]
     },
     "execution_count": 9,
     "metadata": {},
     "output_type": "execute_result"
    }
   ],
   "source": [
    "# inspect the total number of missing values for the transaction amount\n",
    "sum(hvc_hvvisitresult[\"AMOUNT\"].isnull())"
   ]
  },
  {
   "cell_type": "code",
   "execution_count": 10,
   "id": "0be12ab3",
   "metadata": {},
   "outputs": [
    {
     "data": {
      "text/plain": [
       "163114"
      ]
     },
     "execution_count": 10,
     "metadata": {},
     "output_type": "execute_result"
    }
   ],
   "source": [
    "# inspect the total number of missing values for the payment term\n",
    "sum(hvc_hvvisitresult[\"PAYMENTTERM\"].isnull())"
   ]
  },
  {
   "cell_type": "code",
   "execution_count": 11,
   "id": "76ee6bbb",
   "metadata": {},
   "outputs": [
    {
     "data": {
      "text/plain": [
       "0.6784684815839278"
      ]
     },
     "execution_count": 11,
     "metadata": {},
     "output_type": "execute_result"
    }
   ],
   "source": [
    "# inspect the proportion of missing values for the payment term\n",
    "sum(hvc_hvvisitresult[\"PAYMENTTERM\"].isnull()) / len(hvc_hvvisitresult)"
   ]
  },
  {
   "cell_type": "markdown",
   "id": "8d5e56d8",
   "metadata": {},
   "source": [
    "## 2.2. Customers"
   ]
  },
  {
   "cell_type": "code",
   "execution_count": 12,
   "id": "d910c98d",
   "metadata": {},
   "outputs": [
    {
     "data": {
      "text/html": [
       "<div>\n",
       "<style scoped>\n",
       "    .dataframe tbody tr th:only-of-type {\n",
       "        vertical-align: middle;\n",
       "    }\n",
       "\n",
       "    .dataframe tbody tr th {\n",
       "        vertical-align: top;\n",
       "    }\n",
       "\n",
       "    .dataframe thead th {\n",
       "        text-align: right;\n",
       "    }\n",
       "</style>\n",
       "<table border=\"1\" class=\"dataframe\">\n",
       "  <thead>\n",
       "    <tr style=\"text-align: right;\">\n",
       "      <th></th>\n",
       "      <th>SO0_NRID</th>\n",
       "      <th>HVROUTETEMPLATE_NRID</th>\n",
       "      <th>CUST_TYPE</th>\n",
       "      <th>POSTCODE</th>\n",
       "      <th>LANGUAGE</th>\n",
       "      <th>SEASON_TYPE</th>\n",
       "    </tr>\n",
       "  </thead>\n",
       "  <tbody>\n",
       "    <tr>\n",
       "      <th>0</th>\n",
       "      <td>721104.0</td>\n",
       "      <td>219020601.0</td>\n",
       "      <td>Private</td>\n",
       "      <td>3930</td>\n",
       "      <td>nl-BE</td>\n",
       "      <td>All time</td>\n",
       "    </tr>\n",
       "    <tr>\n",
       "      <th>1</th>\n",
       "      <td>721110.0</td>\n",
       "      <td>219020601.0</td>\n",
       "      <td>Private</td>\n",
       "      <td>3930</td>\n",
       "      <td>nl-BE</td>\n",
       "      <td>All time</td>\n",
       "    </tr>\n",
       "    <tr>\n",
       "      <th>2</th>\n",
       "      <td>721121.0</td>\n",
       "      <td>219020601.0</td>\n",
       "      <td>Private</td>\n",
       "      <td>3930</td>\n",
       "      <td>nl-BE</td>\n",
       "      <td>All time</td>\n",
       "    </tr>\n",
       "    <tr>\n",
       "      <th>3</th>\n",
       "      <td>721126.0</td>\n",
       "      <td>219020601.0</td>\n",
       "      <td>Private</td>\n",
       "      <td>3930</td>\n",
       "      <td>nl-BE</td>\n",
       "      <td>All time</td>\n",
       "    </tr>\n",
       "    <tr>\n",
       "      <th>4</th>\n",
       "      <td>721131.0</td>\n",
       "      <td>219020601.0</td>\n",
       "      <td>Private</td>\n",
       "      <td>3930</td>\n",
       "      <td>nl-BE</td>\n",
       "      <td>All time</td>\n",
       "    </tr>\n",
       "  </tbody>\n",
       "</table>\n",
       "</div>"
      ],
      "text/plain": [
       "   SO0_NRID  HVROUTETEMPLATE_NRID CUST_TYPE  POSTCODE LANGUAGE SEASON_TYPE\n",
       "0  721104.0           219020601.0   Private      3930    nl-BE    All time\n",
       "1  721110.0           219020601.0   Private      3930    nl-BE    All time\n",
       "2  721121.0           219020601.0   Private      3930    nl-BE    All time\n",
       "3  721126.0           219020601.0   Private      3930    nl-BE    All time\n",
       "4  721131.0           219020601.0   Private      3930    nl-BE    All time"
      ]
     },
     "execution_count": 12,
     "metadata": {},
     "output_type": "execute_result"
    }
   ],
   "source": [
    "# inspect first 5 observations of customers\n",
    "hvc_so0.head(5)"
   ]
  },
  {
   "cell_type": "code",
   "execution_count": 13,
   "id": "efb309b3",
   "metadata": {},
   "outputs": [
    {
     "data": {
      "text/plain": [
       "5709"
      ]
     },
     "execution_count": 13,
     "metadata": {},
     "output_type": "execute_result"
    }
   ],
   "source": [
    "# inspect total number of unique customers\n",
    "len(hvc_so0[\"SO0_NRID\"].unique())"
   ]
  },
  {
   "cell_type": "code",
   "execution_count": 14,
   "id": "992aa422",
   "metadata": {},
   "outputs": [
    {
     "data": {
      "text/html": [
       "<div>\n",
       "<style scoped>\n",
       "    .dataframe tbody tr th:only-of-type {\n",
       "        vertical-align: middle;\n",
       "    }\n",
       "\n",
       "    .dataframe tbody tr th {\n",
       "        vertical-align: top;\n",
       "    }\n",
       "\n",
       "    .dataframe thead th {\n",
       "        text-align: right;\n",
       "    }\n",
       "</style>\n",
       "<table border=\"1\" class=\"dataframe\">\n",
       "  <thead>\n",
       "    <tr style=\"text-align: right;\">\n",
       "      <th></th>\n",
       "      <th>LANGUAGE</th>\n",
       "      <th>SEASON_TYPE</th>\n",
       "    </tr>\n",
       "  </thead>\n",
       "  <tbody>\n",
       "    <tr>\n",
       "      <th>count</th>\n",
       "      <td>5709</td>\n",
       "      <td>5708</td>\n",
       "    </tr>\n",
       "    <tr>\n",
       "      <th>unique</th>\n",
       "      <td>2</td>\n",
       "      <td>4</td>\n",
       "    </tr>\n",
       "    <tr>\n",
       "      <th>top</th>\n",
       "      <td>nl-BE</td>\n",
       "      <td>All time</td>\n",
       "    </tr>\n",
       "    <tr>\n",
       "      <th>freq</th>\n",
       "      <td>5703</td>\n",
       "      <td>5554</td>\n",
       "    </tr>\n",
       "  </tbody>\n",
       "</table>\n",
       "</div>"
      ],
      "text/plain": [
       "       LANGUAGE SEASON_TYPE\n",
       "count      5709        5708\n",
       "unique        2           4\n",
       "top       nl-BE    All time\n",
       "freq       5703        5554"
      ]
     },
     "execution_count": 14,
     "metadata": {},
     "output_type": "execute_result"
    }
   ],
   "source": [
    "# get some descriptive statistics with respect to the spoken language as well as the season type of the customers\n",
    "hvc_so0[[\"LANGUAGE\", \"SEASON_TYPE\"]].describe()"
   ]
  },
  {
   "cell_type": "code",
   "execution_count": 15,
   "id": "fabac155",
   "metadata": {
    "scrolled": true
   },
   "outputs": [
    {
     "data": {
      "text/plain": [
       "All time     5554\n",
       "Summer        150\n",
       "Christmas       3\n",
       "Winter          1\n",
       "Name: SEASON_TYPE, dtype: int64"
      ]
     },
     "execution_count": 15,
     "metadata": {},
     "output_type": "execute_result"
    }
   ],
   "source": [
    "# get the counts for every season type\n",
    "hvc_so0[\"SEASON_TYPE\"].value_counts()"
   ]
  },
  {
   "cell_type": "code",
   "execution_count": 16,
   "id": "cc4d7422",
   "metadata": {},
   "outputs": [
    {
     "data": {
      "text/plain": [
       "nl-BE    5703\n",
       "fr-BE       6\n",
       "Name: LANGUAGE, dtype: int64"
      ]
     },
     "execution_count": 16,
     "metadata": {},
     "output_type": "execute_result"
    }
   ],
   "source": [
    "# get the counts for every spoken language\n",
    "hvc_so0[\"LANGUAGE\"].value_counts()"
   ]
  },
  {
   "cell_type": "markdown",
   "id": "86129877",
   "metadata": {},
   "source": [
    "## 2.3. Employees"
   ]
  },
  {
   "cell_type": "code",
   "execution_count": 14,
   "id": "c287ca43",
   "metadata": {},
   "outputs": [
    {
     "data": {
      "text/html": [
       "<div>\n",
       "<style scoped>\n",
       "    .dataframe tbody tr th:only-of-type {\n",
       "        vertical-align: middle;\n",
       "    }\n",
       "\n",
       "    .dataframe tbody tr th {\n",
       "        vertical-align: top;\n",
       "    }\n",
       "\n",
       "    .dataframe thead th {\n",
       "        text-align: right;\n",
       "    }\n",
       "</style>\n",
       "<table border=\"1\" class=\"dataframe\">\n",
       "  <thead>\n",
       "    <tr style=\"text-align: right;\">\n",
       "      <th></th>\n",
       "      <th>AM0_NRID</th>\n",
       "      <th>EMPLOYEENUMBER</th>\n",
       "      <th>NAME</th>\n",
       "      <th>POSTCODE</th>\n",
       "      <th>LOCATION</th>\n",
       "      <th>LANGUAGE</th>\n",
       "    </tr>\n",
       "  </thead>\n",
       "  <tbody>\n",
       "    <tr>\n",
       "      <th>0</th>\n",
       "      <td>18503611215721</td>\n",
       "      <td>1001.0</td>\n",
       "      <td>BOONE Frederik</td>\n",
       "      <td>2460</td>\n",
       "      <td>Tielen</td>\n",
       "      <td>nl-BE</td>\n",
       "    </tr>\n",
       "    <tr>\n",
       "      <th>1</th>\n",
       "      <td>18503612347289</td>\n",
       "      <td>1021.0</td>\n",
       "      <td>JANSSENS Jos</td>\n",
       "      <td>2400</td>\n",
       "      <td>Mol</td>\n",
       "      <td>nl-BE</td>\n",
       "    </tr>\n",
       "    <tr>\n",
       "      <th>2</th>\n",
       "      <td>18503612452173</td>\n",
       "      <td>1022.0</td>\n",
       "      <td>LEYSEN Michiel</td>\n",
       "      <td>3500</td>\n",
       "      <td>Hasselt</td>\n",
       "      <td>nl-BE</td>\n",
       "    </tr>\n",
       "    <tr>\n",
       "      <th>3</th>\n",
       "      <td>18503621528962</td>\n",
       "      <td>1122.0</td>\n",
       "      <td>ALLEMAN Benny</td>\n",
       "      <td>3900</td>\n",
       "      <td>Overpelt</td>\n",
       "      <td>nl-BE</td>\n",
       "    </tr>\n",
       "    <tr>\n",
       "      <th>4</th>\n",
       "      <td>18503622652855</td>\n",
       "      <td>1135.0</td>\n",
       "      <td>GOOVAERTS Jef</td>\n",
       "      <td>3920</td>\n",
       "      <td>Lommel</td>\n",
       "      <td>nl-BE</td>\n",
       "    </tr>\n",
       "  </tbody>\n",
       "</table>\n",
       "</div>"
      ],
      "text/plain": [
       "         AM0_NRID  EMPLOYEENUMBER            NAME  POSTCODE  LOCATION LANGUAGE\n",
       "0  18503611215721          1001.0  BOONE Frederik      2460    Tielen    nl-BE\n",
       "1  18503612347289          1021.0    JANSSENS Jos      2400       Mol    nl-BE\n",
       "2  18503612452173          1022.0  LEYSEN Michiel      3500   Hasselt    nl-BE\n",
       "3  18503621528962          1122.0   ALLEMAN Benny      3900  Overpelt    nl-BE\n",
       "4  18503622652855          1135.0   GOOVAERTS Jef      3920    Lommel    nl-BE"
      ]
     },
     "execution_count": 14,
     "metadata": {},
     "output_type": "execute_result"
    }
   ],
   "source": [
    "# inspect first 5 observations of employees\n",
    "hvc_am0.head(5)"
   ]
  },
  {
   "cell_type": "code",
   "execution_count": 15,
   "id": "b5fa9a84",
   "metadata": {},
   "outputs": [
    {
     "data": {
      "text/plain": [
       "46"
      ]
     },
     "execution_count": 15,
     "metadata": {},
     "output_type": "execute_result"
    }
   ],
   "source": [
    "# inspect the total number of employees\n",
    "len(hvc_am0[\"AM0_NRID\"].unique())"
   ]
  },
  {
   "cell_type": "markdown",
   "id": "dc5ef933",
   "metadata": {},
   "source": [
    "## 2.4. Products"
   ]
  },
  {
   "cell_type": "code",
   "execution_count": 16,
   "id": "be0dccc1",
   "metadata": {},
   "outputs": [
    {
     "data": {
      "text/html": [
       "<div>\n",
       "<style scoped>\n",
       "    .dataframe tbody tr th:only-of-type {\n",
       "        vertical-align: middle;\n",
       "    }\n",
       "\n",
       "    .dataframe tbody tr th {\n",
       "        vertical-align: top;\n",
       "    }\n",
       "\n",
       "    .dataframe thead th {\n",
       "        text-align: right;\n",
       "    }\n",
       "</style>\n",
       "<table border=\"1\" class=\"dataframe\">\n",
       "  <thead>\n",
       "    <tr style=\"text-align: right;\">\n",
       "      <th></th>\n",
       "      <th>AR0_NRID</th>\n",
       "      <th>DESCRIPTION</th>\n",
       "      <th>CATEGORY</th>\n",
       "      <th>FAMILY</th>\n",
       "      <th>PRICE</th>\n",
       "    </tr>\n",
       "  </thead>\n",
       "  <tbody>\n",
       "    <tr>\n",
       "      <th>0</th>\n",
       "      <td>20742288286838</td>\n",
       "      <td>Dessert Caramel/14</td>\n",
       "      <td>Verkoopsartikel</td>\n",
       "      <td>Cups</td>\n",
       "      <td>10.9</td>\n",
       "    </tr>\n",
       "    <tr>\n",
       "      <th>1</th>\n",
       "      <td>20413488326838</td>\n",
       "      <td>Penalty/16</td>\n",
       "      <td>Verkoopsartikel</td>\n",
       "      <td>Hand Ice</td>\n",
       "      <td>6.5</td>\n",
       "    </tr>\n",
       "    <tr>\n",
       "      <th>2</th>\n",
       "      <td>21515648414638</td>\n",
       "      <td>Kriekentaart</td>\n",
       "      <td>Verkoopsartikel</td>\n",
       "      <td>Coffee</td>\n",
       "      <td>7.9</td>\n",
       "    </tr>\n",
       "    <tr>\n",
       "      <th>3</th>\n",
       "      <td>20296288686840</td>\n",
       "      <td>Expo met zachte wafel/12</td>\n",
       "      <td>Verkoopsartikel</td>\n",
       "      <td>Individual Dessert</td>\n",
       "      <td>7.3</td>\n",
       "    </tr>\n",
       "    <tr>\n",
       "      <th>4</th>\n",
       "      <td>21844652504048</td>\n",
       "      <td>Paaseitjes</td>\n",
       "      <td>Verkoopsartikel</td>\n",
       "      <td>Individual Dessert</td>\n",
       "      <td>7.5</td>\n",
       "    </tr>\n",
       "  </tbody>\n",
       "</table>\n",
       "</div>"
      ],
      "text/plain": [
       "         AR0_NRID               DESCRIPTION         CATEGORY  \\\n",
       "0  20742288286838        Dessert Caramel/14  Verkoopsartikel   \n",
       "1  20413488326838                Penalty/16  Verkoopsartikel   \n",
       "2  21515648414638              Kriekentaart  Verkoopsartikel   \n",
       "3  20296288686840  Expo met zachte wafel/12  Verkoopsartikel   \n",
       "4  21844652504048                Paaseitjes  Verkoopsartikel   \n",
       "\n",
       "               FAMILY  PRICE  \n",
       "0                Cups   10.9  \n",
       "1            Hand Ice    6.5  \n",
       "2              Coffee    7.9  \n",
       "3  Individual Dessert    7.3  \n",
       "4  Individual Dessert    7.5  "
      ]
     },
     "execution_count": 16,
     "metadata": {},
     "output_type": "execute_result"
    }
   ],
   "source": [
    "# inspect the first 5 products\n",
    "hvc_ar0.head(5)"
   ]
  },
  {
   "cell_type": "code",
   "execution_count": 17,
   "id": "636be9b8",
   "metadata": {},
   "outputs": [
    {
     "data": {
      "text/plain": [
       "317"
      ]
     },
     "execution_count": 17,
     "metadata": {},
     "output_type": "execute_result"
    }
   ],
   "source": [
    "# inspect the total number of products \n",
    "len(hvc_ar0[\"AR0_NRID\"].unique())"
   ]
  },
  {
   "cell_type": "code",
   "execution_count": 18,
   "id": "9e7731c0",
   "metadata": {},
   "outputs": [
    {
     "data": {
      "text/plain": [
       "Scoop Ice             0.232727\n",
       "Hand Ice              0.167273\n",
       "Cups                  0.134545\n",
       "Meals                 0.130909\n",
       "Coffee                0.083636\n",
       "Ice Cakes             0.083636\n",
       "Individual Dessert    0.080000\n",
       "Garniture             0.043636\n",
       "Assortments           0.029091\n",
       "BIG                   0.007273\n",
       "POS inside            0.007273\n",
       "Name: FAMILY, dtype: float64"
      ]
     },
     "execution_count": 18,
     "metadata": {},
     "output_type": "execute_result"
    }
   ],
   "source": [
    "# inspect the proportion of product families\n",
    "hvc_ar0[\"FAMILY\"].value_counts(normalize=True)"
   ]
  },
  {
   "cell_type": "code",
   "execution_count": 19,
   "id": "e1f9a0a3",
   "metadata": {},
   "outputs": [
    {
     "data": {
      "text/plain": [
       "count    286.000000\n",
       "mean       7.763112\n",
       "std        5.948013\n",
       "min      -25.000000\n",
       "25%        5.125000\n",
       "50%        7.600000\n",
       "75%        9.600000\n",
       "max       37.000000\n",
       "Name: PRICE, dtype: float64"
      ]
     },
     "execution_count": 19,
     "metadata": {},
     "output_type": "execute_result"
    }
   ],
   "source": [
    "# get some descriptive statistics with respect to the price of the products\n",
    "hvc_ar0[\"PRICE\"].describe()"
   ]
  },
  {
   "cell_type": "code",
   "execution_count": 20,
   "id": "df85984e",
   "metadata": {},
   "outputs": [
    {
     "data": {
      "text/html": [
       "<div>\n",
       "<style scoped>\n",
       "    .dataframe tbody tr th:only-of-type {\n",
       "        vertical-align: middle;\n",
       "    }\n",
       "\n",
       "    .dataframe tbody tr th {\n",
       "        vertical-align: top;\n",
       "    }\n",
       "\n",
       "    .dataframe thead th {\n",
       "        text-align: right;\n",
       "    }\n",
       "</style>\n",
       "<table border=\"1\" class=\"dataframe\">\n",
       "  <thead>\n",
       "    <tr style=\"text-align: right;\">\n",
       "      <th></th>\n",
       "      <th>AR0_NRID</th>\n",
       "      <th>DESCRIPTION</th>\n",
       "      <th>CATEGORY</th>\n",
       "      <th>FAMILY</th>\n",
       "      <th>PRICE</th>\n",
       "    </tr>\n",
       "  </thead>\n",
       "  <tbody>\n",
       "    <tr>\n",
       "      <th>21</th>\n",
       "      <td>57367272</td>\n",
       "      <td>Bon -2,5euro zomermailing07</td>\n",
       "      <td>Kortingsbon</td>\n",
       "      <td>NaN</td>\n",
       "      <td>-2.5</td>\n",
       "    </tr>\n",
       "    <tr>\n",
       "      <th>54</th>\n",
       "      <td>54251376</td>\n",
       "      <td>Bon chocolate surprise Utopoli</td>\n",
       "      <td>Kortingsbon</td>\n",
       "      <td>NaN</td>\n",
       "      <td>-5.2</td>\n",
       "    </tr>\n",
       "    <tr>\n",
       "      <th>63</th>\n",
       "      <td>62157503</td>\n",
       "      <td>Bon -7,40 euro</td>\n",
       "      <td>Kortingsbon</td>\n",
       "      <td>NaN</td>\n",
       "      <td>-7.4</td>\n",
       "    </tr>\n",
       "    <tr>\n",
       "      <th>64</th>\n",
       "      <td>62315111</td>\n",
       "      <td>Bon duette deluxe/6 bij AK min</td>\n",
       "      <td>Kortingsbon</td>\n",
       "      <td>NaN</td>\n",
       "      <td>-4.2</td>\n",
       "    </tr>\n",
       "    <tr>\n",
       "      <th>71</th>\n",
       "      <td>55360457</td>\n",
       "      <td>Bon gratis deco Nieuwsblad/Ver</td>\n",
       "      <td>Kortingsbon</td>\n",
       "      <td>NaN</td>\n",
       "      <td>-4.1</td>\n",
       "    </tr>\n",
       "    <tr>\n",
       "      <th>186</th>\n",
       "      <td>21454356698044</td>\n",
       "      <td>Bon -1,9 euro bij AK 15 euro</td>\n",
       "      <td>Kortingsbon</td>\n",
       "      <td>NaN</td>\n",
       "      <td>-1.9</td>\n",
       "    </tr>\n",
       "    <tr>\n",
       "      <th>187</th>\n",
       "      <td>21142456138046</td>\n",
       "      <td>Bon -4,10euro bij AK van min 2</td>\n",
       "      <td>Kortingsbon</td>\n",
       "      <td>NaN</td>\n",
       "      <td>-4.1</td>\n",
       "    </tr>\n",
       "    <tr>\n",
       "      <th>218</th>\n",
       "      <td>52529668</td>\n",
       "      <td>Bon-6,90euro bij AK van min 35</td>\n",
       "      <td>Kortingsbon</td>\n",
       "      <td>NaN</td>\n",
       "      <td>-7.4</td>\n",
       "    </tr>\n",
       "    <tr>\n",
       "      <th>230</th>\n",
       "      <td>53569504</td>\n",
       "      <td>Bon-3,90euro KVLV 2007</td>\n",
       "      <td>Kortingsbon</td>\n",
       "      <td>NaN</td>\n",
       "      <td>-4.1</td>\n",
       "    </tr>\n",
       "    <tr>\n",
       "      <th>231</th>\n",
       "      <td>53614655</td>\n",
       "      <td>Bon -10euro Exellent</td>\n",
       "      <td>Kortingsbon</td>\n",
       "      <td>NaN</td>\n",
       "      <td>-10.0</td>\n",
       "    </tr>\n",
       "    <tr>\n",
       "      <th>237</th>\n",
       "      <td>47703913</td>\n",
       "      <td>Bon 25 euro Brebos</td>\n",
       "      <td>Kortingsbon</td>\n",
       "      <td>NaN</td>\n",
       "      <td>-25.0</td>\n",
       "    </tr>\n",
       "    <tr>\n",
       "      <th>255</th>\n",
       "      <td>681916</td>\n",
       "      <td>Cadeaubon 10 euro</td>\n",
       "      <td>Kortingsbon</td>\n",
       "      <td>NaN</td>\n",
       "      <td>-10.0</td>\n",
       "    </tr>\n",
       "    <tr>\n",
       "      <th>286</th>\n",
       "      <td>61239668</td>\n",
       "      <td>Bon kerstmailing â¿¬2,5</td>\n",
       "      <td>Kortingsbon</td>\n",
       "      <td>NaN</td>\n",
       "      <td>-2.5</td>\n",
       "    </tr>\n",
       "    <tr>\n",
       "      <th>288</th>\n",
       "      <td>22611748246244</td>\n",
       "      <td>Bon -1 euro bij AK 10 euro icy</td>\n",
       "      <td>Kortingsbon</td>\n",
       "      <td>NaN</td>\n",
       "      <td>-1.0</td>\n",
       "    </tr>\n",
       "    <tr>\n",
       "      <th>289</th>\n",
       "      <td>22092648256244</td>\n",
       "      <td>Bon -6,7euro</td>\n",
       "      <td>Kortingsbon</td>\n",
       "      <td>NaN</td>\n",
       "      <td>-7.4</td>\n",
       "    </tr>\n",
       "    <tr>\n",
       "      <th>316</th>\n",
       "      <td>20985584414848</td>\n",
       "      <td>Bon 1L roomijs naar keuze</td>\n",
       "      <td>Kortingsbon</td>\n",
       "      <td>NaN</td>\n",
       "      <td>-3.9</td>\n",
       "    </tr>\n",
       "  </tbody>\n",
       "</table>\n",
       "</div>"
      ],
      "text/plain": [
       "           AR0_NRID                     DESCRIPTION     CATEGORY FAMILY  PRICE\n",
       "21         57367272     Bon -2,5euro zomermailing07  Kortingsbon    NaN   -2.5\n",
       "54         54251376  Bon chocolate surprise Utopoli  Kortingsbon    NaN   -5.2\n",
       "63         62157503                  Bon -7,40 euro  Kortingsbon    NaN   -7.4\n",
       "64         62315111  Bon duette deluxe/6 bij AK min  Kortingsbon    NaN   -4.2\n",
       "71         55360457  Bon gratis deco Nieuwsblad/Ver  Kortingsbon    NaN   -4.1\n",
       "186  21454356698044    Bon -1,9 euro bij AK 15 euro  Kortingsbon    NaN   -1.9\n",
       "187  21142456138046  Bon -4,10euro bij AK van min 2  Kortingsbon    NaN   -4.1\n",
       "218        52529668  Bon-6,90euro bij AK van min 35  Kortingsbon    NaN   -7.4\n",
       "230        53569504          Bon-3,90euro KVLV 2007  Kortingsbon    NaN   -4.1\n",
       "231        53614655            Bon -10euro Exellent  Kortingsbon    NaN  -10.0\n",
       "237        47703913              Bon 25 euro Brebos  Kortingsbon    NaN  -25.0\n",
       "255          681916               Cadeaubon 10 euro  Kortingsbon    NaN  -10.0\n",
       "286        61239668         Bon kerstmailing â¿¬2,5  Kortingsbon    NaN   -2.5\n",
       "288  22611748246244  Bon -1 euro bij AK 10 euro icy  Kortingsbon    NaN   -1.0\n",
       "289  22092648256244                    Bon -6,7euro  Kortingsbon    NaN   -7.4\n",
       "316  20985584414848       Bon 1L roomijs naar keuze  Kortingsbon    NaN   -3.9"
      ]
     },
     "execution_count": 20,
     "metadata": {},
     "output_type": "execute_result"
    }
   ],
   "source": [
    "# inspect which product had a negative price\n",
    "hvc_ar0[hvc_ar0[\"PRICE\"] < 0]"
   ]
  },
  {
   "cell_type": "markdown",
   "id": "b0ac5883",
   "metadata": {},
   "source": [
    "# 2. Data Conversion"
   ]
  },
  {
   "cell_type": "markdown",
   "id": "bfb9b83b",
   "metadata": {},
   "source": [
    "Before we start analyzing the data, we should first do the required data conversions."
   ]
  },
  {
   "cell_type": "code",
   "execution_count": 23,
   "id": "a3ad6682",
   "metadata": {},
   "outputs": [],
   "source": [
    "# lets convert DATEONLY column from a string variable to a datetime variable\n",
    "hvc_hvvisitresult[\"DATEONLY\"] = pd.to_datetime(hvc_hvvisitresult[\"DATEONLY\"])"
   ]
  },
  {
   "cell_type": "markdown",
   "id": "7415f343",
   "metadata": {},
   "source": [
    "# 3. Analytics"
   ]
  },
  {
   "cell_type": "markdown",
   "id": "7d4d36af",
   "metadata": {},
   "source": [
    "Now that we have somehow explored the data, we can do some more advanced analytics."
   ]
  },
  {
   "cell_type": "markdown",
   "id": "e9f642b1",
   "metadata": {},
   "source": [
    "## 3.1 Customer \n"
   ]
  },
  {
   "cell_type": "markdown",
   "id": "daf63e72",
   "metadata": {},
   "source": [
    "### 3.1.1 CLV"
   ]
  },
  {
   "cell_type": "markdown",
   "id": "b371448d",
   "metadata": {},
   "source": [
    "Lets have a look at the CLV or total sales generated by a specific customer"
   ]
  },
  {
   "cell_type": "code",
   "execution_count": 24,
   "id": "58c457c9",
   "metadata": {},
   "outputs": [
    {
     "name": "stdout",
     "output_type": "stream",
     "text": [
      "183.60000000000002\n"
     ]
    }
   ],
   "source": [
    "# define customer\n",
    "customer_id = 721110.0\n",
    "\n",
    "# get subset of transactions per customer\n",
    "customer_transactions = hvc_hvvisitresult[hvc_hvvisitresult[\"SO0_NRID\"] == customer_id]\n",
    "\n",
    "# get the transactions with a positive outcome\n",
    "customer_transactions = customer_transactions[customer_transactions[\"HVOUTCOME_NRID\"] == 2]\n",
    "\n",
    "# get total amount purchased by customer\n",
    "customer_clv = np.sum(customer_transactions[\"AMOUNT\"])\n",
    "\n",
    "# check\n",
    "print(customer_clv)"
   ]
  },
  {
   "cell_type": "markdown",
   "id": "3725c19a",
   "metadata": {},
   "source": [
    "Now lets define a function such that we can extract the total sales for any specified customer"
   ]
  },
  {
   "cell_type": "code",
   "execution_count": 25,
   "id": "861b5666",
   "metadata": {},
   "outputs": [],
   "source": [
    "# define a function that accepts a customer id and the transactions data as parameters\n",
    "def get_clv(cust_id, transactions):\n",
    "    \n",
    "    # get customer transactions\n",
    "    cust_transactions = transactions[transactions[\"SO0_NRID\"] == cust_id]\n",
    "    # get transactions with positive outcome\n",
    "    cust_transactions_pos = cust_transactions[cust_transactions[\"HVOUTCOME_NRID\"] == 2]\n",
    "    # get clv\n",
    "    clv = np.sum(cust_transactions[\"AMOUNT\"])\n",
    "    # return clv\n",
    "    return(clv)"
   ]
  },
  {
   "cell_type": "code",
   "execution_count": 26,
   "id": "721c480a",
   "metadata": {},
   "outputs": [
    {
     "name": "stdout",
     "output_type": "stream",
     "text": [
      "183.60000000000002\n"
     ]
    }
   ],
   "source": [
    "# check\n",
    "clv = get_clv(cust_id=721110.0, transactions=hvc_hvvisitresult)\n",
    "print(clv)"
   ]
  },
  {
   "cell_type": "markdown",
   "id": "b0e1cfe4",
   "metadata": {},
   "source": [
    "### 3.1.2 Customer Frequency"
   ]
  },
  {
   "cell_type": "markdown",
   "id": "0f8223fd",
   "metadata": {},
   "source": [
    "How often did a customer purchase at the company at different days?"
   ]
  },
  {
   "cell_type": "code",
   "execution_count": 27,
   "id": "3153cfcf",
   "metadata": {},
   "outputs": [],
   "source": [
    "# define customer\n",
    "customer_id = 721110.0\n",
    "\n",
    "# get transactions made by customer\n",
    "transactions_cust = hvc_hvvisitresult[hvc_hvvisitresult[\"SO0_NRID\"] == customer_id]\n",
    "\n",
    "# get transactions from succesfull visits\n",
    "transactions_cust = transactions_cust[transactions_cust[\"HVOUTCOME_NRID\"] == 2]\n",
    "\n",
    "# get total number of unique days on which customer made a purchase\n",
    "frequency = len(transactions_cust)"
   ]
  },
  {
   "cell_type": "code",
   "execution_count": 28,
   "id": "b0036d5a",
   "metadata": {},
   "outputs": [
    {
     "data": {
      "text/plain": [
       "15"
      ]
     },
     "execution_count": 28,
     "metadata": {},
     "output_type": "execute_result"
    }
   ],
   "source": [
    "# check\n",
    "frequency"
   ]
  },
  {
   "cell_type": "markdown",
   "id": "4d81a7e6",
   "metadata": {},
   "source": [
    "Now lets define a function that accepts the customer id and the transactions dataset and return the frequency"
   ]
  },
  {
   "cell_type": "code",
   "execution_count": 30,
   "id": "8bce905e",
   "metadata": {},
   "outputs": [],
   "source": [
    "def get_frequency(cust_id, transactions):\n",
    "    \n",
    "    # get transactions made by customer\n",
    "    transactions_cust = transactions[hvc_hvvisitresult[\"SO0_NRID\"] == cust_id]\n",
    "\n",
    "    # get transactions from succesfull visits\n",
    "    transactions_cust = transactions_cust[transactions_cust[\"HVOUTCOME_NRID\"] == 2]\n",
    "\n",
    "    # get total number of unique days on which customer made a purchase\n",
    "    frequency = len(transactions_cust)\n",
    "    \n",
    "    # return\n",
    "    return(frequency)"
   ]
  },
  {
   "cell_type": "code",
   "execution_count": 31,
   "id": "a240bf40",
   "metadata": {},
   "outputs": [
    {
     "data": {
      "text/plain": [
       "15"
      ]
     },
     "execution_count": 31,
     "metadata": {},
     "output_type": "execute_result"
    }
   ],
   "source": [
    "# check\n",
    "get_frequency(721110.0, hvc_hvvisitresult)"
   ]
  },
  {
   "cell_type": "markdown",
   "id": "5af66126",
   "metadata": {},
   "source": [
    "### 3.1.3 Customer Products"
   ]
  },
  {
   "cell_type": "markdown",
   "id": "3a69b43d",
   "metadata": {},
   "source": [
    "Lets also investigete which products a customer bought."
   ]
  },
  {
   "cell_type": "code",
   "execution_count": 32,
   "id": "350cf93b",
   "metadata": {},
   "outputs": [],
   "source": [
    "# define customer\n",
    "customer_id = 721110.0"
   ]
  },
  {
   "cell_type": "code",
   "execution_count": 33,
   "id": "77ff0cd3",
   "metadata": {},
   "outputs": [],
   "source": [
    "# join transactions with transaction details with products\n",
    "transactions_products = hvc_hvvisitresult.merge(hvc_hvvisitresultdetails, on=\"HVVISITRESULT_NRID\", how=\"inner\") \\\n",
    "                                         .merge(hvc_ar0, on=\"AR0_NRID\", how=\"inner\")"
   ]
  },
  {
   "cell_type": "code",
   "execution_count": 34,
   "id": "d0356205",
   "metadata": {},
   "outputs": [
    {
     "data": {
      "text/html": [
       "<div>\n",
       "<style scoped>\n",
       "    .dataframe tbody tr th:only-of-type {\n",
       "        vertical-align: middle;\n",
       "    }\n",
       "\n",
       "    .dataframe tbody tr th {\n",
       "        vertical-align: top;\n",
       "    }\n",
       "\n",
       "    .dataframe thead th {\n",
       "        text-align: right;\n",
       "    }\n",
       "</style>\n",
       "<table border=\"1\" class=\"dataframe\">\n",
       "  <thead>\n",
       "    <tr style=\"text-align: right;\">\n",
       "      <th></th>\n",
       "      <th>HVVISITRESULT_NRID</th>\n",
       "      <th>SO0_NRID</th>\n",
       "      <th>AM0_NRID</th>\n",
       "      <th>HVOUTCOME_NRID</th>\n",
       "      <th>VISITDATE</th>\n",
       "      <th>DATEONLY</th>\n",
       "      <th>AMOUNT</th>\n",
       "      <th>PAYMENTTERM</th>\n",
       "      <th>VISITRESULTDETAILS_NRID</th>\n",
       "      <th>AR0_NRID</th>\n",
       "      <th>QUANTITY</th>\n",
       "      <th>DESCRIPTION</th>\n",
       "      <th>CATEGORY</th>\n",
       "      <th>FAMILY</th>\n",
       "      <th>PRICE</th>\n",
       "    </tr>\n",
       "  </thead>\n",
       "  <tbody>\n",
       "    <tr>\n",
       "      <th>0</th>\n",
       "      <td>55681456</td>\n",
       "      <td>719952</td>\n",
       "      <td>23186288605042</td>\n",
       "      <td>2</td>\n",
       "      <td>12:20:01,000000000</td>\n",
       "      <td>2019-05-06</td>\n",
       "      <td>16.9</td>\n",
       "      <td>cash</td>\n",
       "      <td>55681457</td>\n",
       "      <td>23678</td>\n",
       "      <td>1.0</td>\n",
       "      <td>2,5 L.Vanille</td>\n",
       "      <td>Verkoopsartikel</td>\n",
       "      <td>Scoop Ice</td>\n",
       "      <td>7.4</td>\n",
       "    </tr>\n",
       "    <tr>\n",
       "      <th>1</th>\n",
       "      <td>55681507</td>\n",
       "      <td>1453609</td>\n",
       "      <td>19946584592834</td>\n",
       "      <td>2</td>\n",
       "      <td>12:13:50,000000000</td>\n",
       "      <td>2019-05-06</td>\n",
       "      <td>7.4</td>\n",
       "      <td>cash</td>\n",
       "      <td>55681508</td>\n",
       "      <td>23678</td>\n",
       "      <td>1.0</td>\n",
       "      <td>2,5 L.Vanille</td>\n",
       "      <td>Verkoopsartikel</td>\n",
       "      <td>Scoop Ice</td>\n",
       "      <td>7.4</td>\n",
       "    </tr>\n",
       "    <tr>\n",
       "      <th>2</th>\n",
       "      <td>55714770</td>\n",
       "      <td>1246568</td>\n",
       "      <td>18934048107254</td>\n",
       "      <td>2</td>\n",
       "      <td>22:08:39,000000000</td>\n",
       "      <td>2019-05-06</td>\n",
       "      <td>11.1</td>\n",
       "      <td>cash</td>\n",
       "      <td>55714771</td>\n",
       "      <td>23678</td>\n",
       "      <td>1.0</td>\n",
       "      <td>2,5 L.Vanille</td>\n",
       "      <td>Verkoopsartikel</td>\n",
       "      <td>Scoop Ice</td>\n",
       "      <td>7.4</td>\n",
       "    </tr>\n",
       "  </tbody>\n",
       "</table>\n",
       "</div>"
      ],
      "text/plain": [
       "   HVVISITRESULT_NRID  SO0_NRID        AM0_NRID  HVOUTCOME_NRID  \\\n",
       "0            55681456    719952  23186288605042               2   \n",
       "1            55681507   1453609  19946584592834               2   \n",
       "2            55714770   1246568  18934048107254               2   \n",
       "\n",
       "            VISITDATE   DATEONLY  AMOUNT PAYMENTTERM  VISITRESULTDETAILS_NRID  \\\n",
       "0  12:20:01,000000000 2019-05-06    16.9        cash                 55681457   \n",
       "1  12:13:50,000000000 2019-05-06     7.4        cash                 55681508   \n",
       "2  22:08:39,000000000 2019-05-06    11.1        cash                 55714771   \n",
       "\n",
       "   AR0_NRID  QUANTITY    DESCRIPTION         CATEGORY     FAMILY  PRICE  \n",
       "0     23678       1.0  2,5 L.Vanille  Verkoopsartikel  Scoop Ice    7.4  \n",
       "1     23678       1.0  2,5 L.Vanille  Verkoopsartikel  Scoop Ice    7.4  \n",
       "2     23678       1.0  2,5 L.Vanille  Verkoopsartikel  Scoop Ice    7.4  "
      ]
     },
     "execution_count": 34,
     "metadata": {},
     "output_type": "execute_result"
    }
   ],
   "source": [
    "# check\n",
    "transactions_products.head(3)"
   ]
  },
  {
   "cell_type": "code",
   "execution_count": 35,
   "id": "5a078e7c",
   "metadata": {},
   "outputs": [],
   "source": [
    "# get all the transactions for customer\n",
    "transactions_products_customer = transactions_products[transactions_products[\"SO0_NRID\"] == customer_id]\n",
    "\n",
    "# get all transactions with positive outcome\n",
    "transactions_products_customer = transactions_products_customer[transactions_products_customer[\"HVOUTCOME_NRID\"] == 2]"
   ]
  },
  {
   "cell_type": "code",
   "execution_count": 36,
   "id": "86c3aa90",
   "metadata": {},
   "outputs": [
    {
     "data": {
      "text/plain": [
       "22.0"
      ]
     },
     "execution_count": 36,
     "metadata": {},
     "output_type": "execute_result"
    }
   ],
   "source": [
    "# get total number of products bought by the customer\n",
    "transactions_products_customer[\"QUANTITY\"].sum()"
   ]
  },
  {
   "cell_type": "code",
   "execution_count": 37,
   "id": "b363e868",
   "metadata": {},
   "outputs": [
    {
     "data": {
      "text/plain": [
       "['2,5 L.Vanille',\n",
       " \"Cornets d'Amour BrÃ©s 16+4\",\n",
       " \"Cornets d'Amour Bres/16\",\n",
       " 'Piet Piraat/12',\n",
       " 'K3/12 HORECA',\n",
       " 'Expo met zachte wafel/12',\n",
       " 'Rainbow Fruits/16',\n",
       " 'Crocita Aardbei/16',\n",
       " 'Satelite/24',\n",
       " 'Piet Piraat/12 + actie']"
      ]
     },
     "execution_count": 37,
     "metadata": {},
     "output_type": "execute_result"
    }
   ],
   "source": [
    "# get a list of all the unique products bought by customer\n",
    "transactions_products_customer[\"DESCRIPTION\"].unique().tolist()"
   ]
  },
  {
   "cell_type": "markdown",
   "id": "140918ee",
   "metadata": {},
   "source": [
    "Again we will create a function to get the list of unique products a customer bought"
   ]
  },
  {
   "cell_type": "code",
   "execution_count": 38,
   "id": "a1598a5b",
   "metadata": {},
   "outputs": [],
   "source": [
    "# define a function that accepts a customer id, the transactions data, transactions details data and product data\n",
    "def get_products(cust_id, transactions, transaction_details, products):\n",
    "    \n",
    "\n",
    "    # join transactions with transaction details with products\n",
    "    transactions_products = transactions.merge(transaction_details, on=\"HVVISITRESULT_NRID\", how=\"inner\") \\\n",
    "                                        .merge(products, on=\"AR0_NRID\", how=\"inner\")\n",
    "    \n",
    "    # get transactions of customer \n",
    "    transactions_products_cust = transactions_products[transactions_products[\"SO0_NRID\"] == cust_id]\n",
    "    \n",
    "    # only get transactions of succesfull visits\n",
    "    transactions_products_cust = transactions_products_cust[transactions_products_cust[\"HVOUTCOME_NRID\"] == 2]\n",
    "    \n",
    "    # get total amount of products bought by the customer\n",
    "    total_products = transactions_products_cust[\"QUANTITY\"].sum()\n",
    "    \n",
    "    # get total number of unique products bought by the customer\n",
    "    total_unique_products = len(transactions_products_cust[\"DESCRIPTION\"].unique())\n",
    "    \n",
    "    # return\n",
    "    return(total_products, total_unique_products)"
   ]
  },
  {
   "cell_type": "code",
   "execution_count": 39,
   "id": "711df92a",
   "metadata": {},
   "outputs": [
    {
     "data": {
      "text/plain": [
       "(22.0, 10)"
      ]
     },
     "execution_count": 39,
     "metadata": {},
     "output_type": "execute_result"
    }
   ],
   "source": [
    "# check\n",
    "get_products(cust_id=721110.0, \n",
    "                  transactions=hvc_hvvisitresult, \n",
    "                  transaction_details=hvc_hvvisitresultdetails, \n",
    "                  products=hvc_ar0)"
   ]
  },
  {
   "cell_type": "markdown",
   "id": "ce84cefd",
   "metadata": {},
   "source": [
    "### 3.1.5. Combine everything"
   ]
  },
  {
   "cell_type": "markdown",
   "id": "4c860956",
   "metadata": {},
   "source": [
    "Lets now combine the created functions to get a descriptice summary of a certain customer.\n",
    "More specifically, we are going to build a function that uses the predefined functions and returns:\n",
    "        \n",
    "        - The CLV of a customer\n",
    "        - The Frequency of a customer\n",
    "        - The total number of products bought by the customer\n",
    "        - The total number of unique products bought by the customer        "
   ]
  },
  {
   "cell_type": "code",
   "execution_count": 40,
   "id": "150afdf9",
   "metadata": {},
   "outputs": [],
   "source": [
    "# define function\n",
    "def get_customer_report(cust_id, transactions, transaction_details, products):\n",
    "    \n",
    "    # get the customer clv\n",
    "    clv = get_clv(cust_id, transactions)\n",
    "    \n",
    "    # get customer frequency\n",
    "    freq = get_frequency(cust_id, transactions)\n",
    "    \n",
    "    # get total number of products as well as total number of unique products\n",
    "    total_products, total_unique_products = get_products(cust_id, transactions, transaction_details, products)\n",
    "    \n",
    "    # return\n",
    "    return(clv, freq, total_products, total_unique_products)"
   ]
  },
  {
   "cell_type": "code",
   "execution_count": 41,
   "id": "5be40444",
   "metadata": {},
   "outputs": [
    {
     "data": {
      "text/plain": [
       "(183.60000000000002, 15, 22.0, 10)"
      ]
     },
     "execution_count": 41,
     "metadata": {},
     "output_type": "execute_result"
    }
   ],
   "source": [
    "get_customer_report(cust_id=721110.0, \n",
    "                    transactions=hvc_hvvisitresult, \n",
    "                    transaction_details=hvc_hvvisitresultdetails, \n",
    "                    products=hvc_ar0)"
   ]
  },
  {
   "cell_type": "markdown",
   "id": "a37e8c5c",
   "metadata": {},
   "source": [
    "# 4. Next Steps"
   ]
  },
  {
   "cell_type": "markdown",
   "id": "e0dfb25c",
   "metadata": {},
   "source": [
    "- Analyze the other datasets as well (employees, customers, products, routes, ...)\n",
    "- How many customers visited each employee?\n",
    "- Are there customers that stopped buying products?\n",
    "- Who are the best customers in terms of CLV?\n",
    "- Who are the top performing employees?\n",
    "- What are the best selling products?\n",
    "- What are the worst selling products?\n",
    "- ..."
   ]
  }
 ],
 "metadata": {
  "kernelspec": {
   "display_name": "Python 3",
   "language": "python",
   "name": "python3"
  },
  "language_info": {
   "codemirror_mode": {
    "name": "ipython",
    "version": 3
   },
   "file_extension": ".py",
   "mimetype": "text/x-python",
   "name": "python",
   "nbconvert_exporter": "python",
   "pygments_lexer": "ipython3",
   "version": "3.8.8"
  }
 },
 "nbformat": 4,
 "nbformat_minor": 5
}
