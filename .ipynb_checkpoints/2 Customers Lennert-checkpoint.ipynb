{
 "cells": [
  {
   "cell_type": "code",
   "execution_count": 12,
   "id": "ed2aac14",
   "metadata": {},
   "outputs": [
    {
     "ename": "ModuleNotFoundError",
     "evalue": "No module named 'geopandas'",
     "output_type": "error",
     "traceback": [
      "\u001b[1;31m---------------------------------------------------------------------------\u001b[0m",
      "\u001b[1;31mModuleNotFoundError\u001b[0m                       Traceback (most recent call last)",
      "\u001b[1;32m<ipython-input-12-75eac9c51c3d>\u001b[0m in \u001b[0;36m<module>\u001b[1;34m\u001b[0m\n\u001b[0;32m      6\u001b[0m \u001b[1;32mimport\u001b[0m \u001b[0mseaborn\u001b[0m \u001b[1;32mas\u001b[0m \u001b[0msns\u001b[0m\u001b[1;33m\u001b[0m\u001b[1;33m\u001b[0m\u001b[0m\n\u001b[0;32m      7\u001b[0m \u001b[1;32mfrom\u001b[0m \u001b[0msklearn\u001b[0m\u001b[1;33m.\u001b[0m\u001b[0mlinear_model\u001b[0m \u001b[1;32mimport\u001b[0m \u001b[0mLinearRegression\u001b[0m\u001b[1;33m\u001b[0m\u001b[1;33m\u001b[0m\u001b[0m\n\u001b[1;32m----> 8\u001b[1;33m \u001b[1;32mimport\u001b[0m \u001b[0mgeopandas\u001b[0m \u001b[1;32mas\u001b[0m \u001b[0mgpd\u001b[0m\u001b[1;33m\u001b[0m\u001b[1;33m\u001b[0m\u001b[0m\n\u001b[0m\u001b[0;32m      9\u001b[0m \u001b[1;33m\u001b[0m\u001b[0m\n\u001b[0;32m     10\u001b[0m \u001b[1;33m\u001b[0m\u001b[0m\n",
      "\u001b[1;31mModuleNotFoundError\u001b[0m: No module named 'geopandas'"
     ]
    }
   ],
   "source": [
    "# import the packages\n",
    "import pandas as pd\n",
    "import numpy as np\n",
    "import datetime\n",
    "import matplotlib.pyplot as plt\n",
    "import seaborn as sns\n",
    "from sklearn.linear_model import LinearRegression\n",
    "import geopandas as gpd\n",
    "\n",
    "\n"
   ]
  },
  {
   "cell_type": "markdown",
   "id": "90cceedf",
   "metadata": {},
   "source": [
    "# 1 Import data"
   ]
  },
  {
   "cell_type": "code",
   "execution_count": null,
   "id": "69f66de8",
   "metadata": {},
   "outputs": [],
   "source": [
    "# import the data into pandas dataframes\n",
    "hvc_am0 = pd.read_csv(\"../ACRM-GROUP-13/data/HVC_AM0.csv\", sep=\";\")\n",
    "hvc_ar0 = pd.read_csv(\"../ACRM-GROUP-13/data/HVC_AR0.csv\", sep=\";\")\n",
    "hvc_customer_reviews = pd.read_csv(\"../ACRM-GROUP-13/data/HVC_CUSTOMER_REVIEWS.csv\", sep=\";\")\n",
    "hvc_depot = pd.read_csv(\"../ACRM-GROUP-13/data/HVC_DEPOT.csv\", sep=\";\")\n",
    "hvc_hvdayofweek = pd.read_csv(\"../ACRM-GROUP-13/data/HVC_HVDAYOFWEEK.csv\", sep=\";\")\n",
    "hvc_hvposition = pd.read_csv(\"../ACRM-GROUP-13/data/HVC_HVPOSITION.csv\", sep=\";\")\n",
    "hvc_hvroutetemplate = pd.read_csv(\"../ACRM-GROUP-13/data/HVC_HVROUTETEMPLATE.csv\", sep=\";\")\n",
    "hvc_hvvisitoutcome = pd.read_csv(\"../ACRM-GROUP-13/data/HVC_HVVISITOUTCOME.csv\", sep=\";\")\n",
    "hvc_hvvisitresult = pd.read_csv(\"../ACRM-GROUP-13/data/HVC_HVVISITRESULT.csv\", sep=\";\")\n",
    "hvc_so0 = pd.read_csv(\"../ACRM-GROUP-13/data/HVC_SO0.csv\", sep=\";\")\n",
    "hvc_visitresultdetails = pd.read_csv(\"../ACRM-GROUP-13/data/HVC_VISITRESULTDETAILS.csv\", sep=\";\")"
   ]
  },
  {
   "cell_type": "code",
   "execution_count": null,
   "id": "d5ac0b5e",
   "metadata": {},
   "outputs": [],
   "source": [
    "#Data conversion\n",
    "hvc_hvdayofweek[\"HVDAYOFWEEK_NRID\"] = hvc_hvdayofweek[\"HVDAYOFWEEK_NRID\"].astype(int)\n",
    "hvc_hvroutetemplate[\"HVROUTETEMPLATE_NRID\"] = hvc_hvroutetemplate[\"HVROUTETEMPLATE_NRID\"].astype(int)\n",
    "hvc_hvroutetemplate[\"HVDAYOFWEEK_NRID\"] = hvc_hvroutetemplate[\"HVDAYOFWEEK_NRID\"].astype(int)\n",
    "hvc_hvroutetemplate[\"WEEKORDER\"] = hvc_hvroutetemplate[\"WEEKORDER\"].astype(int)\n",
    "hvc_hvvisitoutcome[\"HVOUTCOME_NRID\"] = hvc_hvvisitoutcome[\"HVOUTCOME_NRID\"].astype(int)\n",
    "hvc_visitresultdetails[\"HVVISITRESULT_NRID\"] = hvc_visitresultdetails[\"HVVISITRESULT_NRID\"].astype(int)\n",
    "hvc_so0[\"SO0_NRID\"] = hvc_so0[\"SO0_NRID\"].astype(int)\n",
    "hvc_so0[\"HVROUTETEMPLATE_NRID\"] = hvc_so0[\"HVROUTETEMPLATE_NRID\"].astype(int)\n",
    "hvc_hvvisitresult[\"DATEONLY\"] = pd.to_datetime(hvc_hvvisitresult[\"DATEONLY\"])\n",
    "hvc_hvvisitresult[\"VISITDATE\"] = pd.to_datetime(hvc_hvvisitresult[\"VISITDATE\"])"
   ]
  },
  {
   "cell_type": "markdown",
   "id": "f3ed1eb4",
   "metadata": {},
   "source": [
    "## 2 Explore the Data"
   ]
  },
  {
   "cell_type": "markdown",
   "id": "d0e2d3d4",
   "metadata": {},
   "source": [
    "## 2.1 hvc_customer_reviews"
   ]
  },
  {
   "cell_type": "code",
   "execution_count": null,
   "id": "7a196d7b",
   "metadata": {
    "scrolled": true
   },
   "outputs": [],
   "source": [
    "# inspect table\n",
    "hvc_customer_reviews"
   ]
  },
  {
   "cell_type": "code",
   "execution_count": null,
   "id": "906779df",
   "metadata": {
    "scrolled": true
   },
   "outputs": [],
   "source": [
    "# inspect the first 5 reviews\n",
    "hvc_customer_reviews.head(5)"
   ]
  },
  {
   "cell_type": "code",
   "execution_count": null,
   "id": "47a61070",
   "metadata": {},
   "outputs": [],
   "source": [
    "# inspect the total number of reviews\n",
    "len(hvc_customer_reviews[\"SO0_NRID\"].unique())"
   ]
  },
  {
   "cell_type": "code",
   "execution_count": null,
   "id": "2c676c37",
   "metadata": {},
   "outputs": [],
   "source": [
    "# checking dtypes\n",
    "hvc_customer_reviews.dtypes"
   ]
  },
  {
   "cell_type": "code",
   "execution_count": null,
   "id": "25b0206f",
   "metadata": {},
   "outputs": [],
   "source": [
    "# checking kind of reviews\n",
    "pd.unique(hvc_customer_reviews[\"REVIEW\"])"
   ]
  },
  {
   "cell_type": "code",
   "execution_count": null,
   "id": "dfb13b64",
   "metadata": {},
   "outputs": [],
   "source": [
    "# inspect some descriptive statistics with respect to the transaction amount\n",
    "hvc_customer_reviews[\"REVIEW\"].describe()"
   ]
  },
  {
   "cell_type": "code",
   "execution_count": null,
   "id": "b1fa1cc1",
   "metadata": {},
   "outputs": [],
   "source": [
    "# proportion of good or excellent reviews\n",
    "sum((hvc_customer_reviews[\"REVIEW\"] == \"Good service, satisfied\") + (hvc_customer_reviews[\"REVIEW\"] == \"Excellent service, very satisfied\")) / len(hvc_customer_reviews)"
   ]
  },
  {
   "cell_type": "code",
   "execution_count": null,
   "id": "bd4e5f52",
   "metadata": {},
   "outputs": [],
   "source": [
    "# proportion of excellent reviews\n",
    "sum((hvc_customer_reviews[\"REVIEW\"] == \"Excellent service, very satisfied\")) / len(hvc_customer_reviews)\n",
    "\n"
   ]
  },
  {
   "cell_type": "code",
   "execution_count": null,
   "id": "9a012196",
   "metadata": {},
   "outputs": [],
   "source": [
    "# proportion of good reviews\n",
    "sum((hvc_customer_reviews[\"REVIEW\"] == \"Good service,  satisfied\")) / len(hvc_customer_reviews)"
   ]
  },
  {
   "cell_type": "code",
   "execution_count": null,
   "id": "af87278b",
   "metadata": {},
   "outputs": [],
   "source": [
    "# proportion of terrible reviews\n",
    "sum((hvc_customer_reviews[\"REVIEW\"] == \"Very bad service, very unsatisfied\")) / len(hvc_customer_reviews)"
   ]
  },
  {
   "cell_type": "markdown",
   "id": "6f18dd93",
   "metadata": {},
   "source": [
    "## 2.2 hvc_hvpostition"
   ]
  },
  {
   "cell_type": "code",
   "execution_count": 13,
   "id": "0f3468f4",
   "metadata": {},
   "outputs": [
    {
     "data": {
      "text/html": [
       "<div>\n",
       "<style scoped>\n",
       "    .dataframe tbody tr th:only-of-type {\n",
       "        vertical-align: middle;\n",
       "    }\n",
       "\n",
       "    .dataframe tbody tr th {\n",
       "        vertical-align: top;\n",
       "    }\n",
       "\n",
       "    .dataframe thead th {\n",
       "        text-align: right;\n",
       "    }\n",
       "</style>\n",
       "<table border=\"1\" class=\"dataframe\">\n",
       "  <thead>\n",
       "    <tr style=\"text-align: right;\">\n",
       "      <th></th>\n",
       "      <th>SO0_NRID</th>\n",
       "      <th>LONG</th>\n",
       "      <th>LAT</th>\n",
       "    </tr>\n",
       "  </thead>\n",
       "  <tbody>\n",
       "    <tr>\n",
       "      <th>0</th>\n",
       "      <td>724196</td>\n",
       "      <td>3.412928</td>\n",
       "      <td>50.910235</td>\n",
       "    </tr>\n",
       "    <tr>\n",
       "      <th>1</th>\n",
       "      <td>724219</td>\n",
       "      <td>3.409088</td>\n",
       "      <td>50.903873</td>\n",
       "    </tr>\n",
       "    <tr>\n",
       "      <th>2</th>\n",
       "      <td>724231</td>\n",
       "      <td>3.407691</td>\n",
       "      <td>50.901559</td>\n",
       "    </tr>\n",
       "    <tr>\n",
       "      <th>3</th>\n",
       "      <td>724236</td>\n",
       "      <td>3.405464</td>\n",
       "      <td>50.898224</td>\n",
       "    </tr>\n",
       "    <tr>\n",
       "      <th>4</th>\n",
       "      <td>724241</td>\n",
       "      <td>3.404218</td>\n",
       "      <td>50.896691</td>\n",
       "    </tr>\n",
       "    <tr>\n",
       "      <th>...</th>\n",
       "      <td>...</td>\n",
       "      <td>...</td>\n",
       "      <td>...</td>\n",
       "    </tr>\n",
       "    <tr>\n",
       "      <th>5692</th>\n",
       "      <td>25332076406640</td>\n",
       "      <td>3.999738</td>\n",
       "      <td>51.151308</td>\n",
       "    </tr>\n",
       "    <tr>\n",
       "      <th>5693</th>\n",
       "      <td>25335568268048</td>\n",
       "      <td>3.680845</td>\n",
       "      <td>50.976083</td>\n",
       "    </tr>\n",
       "    <tr>\n",
       "      <th>5694</th>\n",
       "      <td>25343276433048</td>\n",
       "      <td>3.704357</td>\n",
       "      <td>50.917986</td>\n",
       "    </tr>\n",
       "    <tr>\n",
       "      <th>5695</th>\n",
       "      <td>25345568238048</td>\n",
       "      <td>3.639243</td>\n",
       "      <td>50.894867</td>\n",
       "    </tr>\n",
       "    <tr>\n",
       "      <th>5696</th>\n",
       "      <td>25356576635852</td>\n",
       "      <td>4.003110</td>\n",
       "      <td>51.162021</td>\n",
       "    </tr>\n",
       "  </tbody>\n",
       "</table>\n",
       "<p>5697 rows × 3 columns</p>\n",
       "</div>"
      ],
      "text/plain": [
       "            SO0_NRID      LONG        LAT\n",
       "0             724196  3.412928  50.910235\n",
       "1             724219  3.409088  50.903873\n",
       "2             724231  3.407691  50.901559\n",
       "3             724236  3.405464  50.898224\n",
       "4             724241  3.404218  50.896691\n",
       "...              ...       ...        ...\n",
       "5692  25332076406640  3.999738  51.151308\n",
       "5693  25335568268048  3.680845  50.976083\n",
       "5694  25343276433048  3.704357  50.917986\n",
       "5695  25345568238048  3.639243  50.894867\n",
       "5696  25356576635852  4.003110  51.162021\n",
       "\n",
       "[5697 rows x 3 columns]"
      ]
     },
     "execution_count": 13,
     "metadata": {},
     "output_type": "execute_result"
    }
   ],
   "source": [
    "# customer position\n",
    "hvc_hvposition"
   ]
  },
  {
   "cell_type": "code",
   "execution_count": 14,
   "id": "536b3184",
   "metadata": {},
   "outputs": [
    {
     "data": {
      "text/html": [
       "<div>\n",
       "<style scoped>\n",
       "    .dataframe tbody tr th:only-of-type {\n",
       "        vertical-align: middle;\n",
       "    }\n",
       "\n",
       "    .dataframe tbody tr th {\n",
       "        vertical-align: top;\n",
       "    }\n",
       "\n",
       "    .dataframe thead th {\n",
       "        text-align: right;\n",
       "    }\n",
       "</style>\n",
       "<table border=\"1\" class=\"dataframe\">\n",
       "  <thead>\n",
       "    <tr style=\"text-align: right;\">\n",
       "      <th></th>\n",
       "      <th>SO0_NRID</th>\n",
       "      <th>LONG</th>\n",
       "      <th>LAT</th>\n",
       "    </tr>\n",
       "  </thead>\n",
       "  <tbody>\n",
       "    <tr>\n",
       "      <th>0</th>\n",
       "      <td>724196</td>\n",
       "      <td>3.412928</td>\n",
       "      <td>50.910235</td>\n",
       "    </tr>\n",
       "    <tr>\n",
       "      <th>1</th>\n",
       "      <td>724219</td>\n",
       "      <td>3.409088</td>\n",
       "      <td>50.903873</td>\n",
       "    </tr>\n",
       "    <tr>\n",
       "      <th>2</th>\n",
       "      <td>724231</td>\n",
       "      <td>3.407691</td>\n",
       "      <td>50.901559</td>\n",
       "    </tr>\n",
       "    <tr>\n",
       "      <th>3</th>\n",
       "      <td>724236</td>\n",
       "      <td>3.405464</td>\n",
       "      <td>50.898224</td>\n",
       "    </tr>\n",
       "    <tr>\n",
       "      <th>4</th>\n",
       "      <td>724241</td>\n",
       "      <td>3.404218</td>\n",
       "      <td>50.896691</td>\n",
       "    </tr>\n",
       "  </tbody>\n",
       "</table>\n",
       "</div>"
      ],
      "text/plain": [
       "   SO0_NRID      LONG        LAT\n",
       "0    724196  3.412928  50.910235\n",
       "1    724219  3.409088  50.903873\n",
       "2    724231  3.407691  50.901559\n",
       "3    724236  3.405464  50.898224\n",
       "4    724241  3.404218  50.896691"
      ]
     },
     "execution_count": 14,
     "metadata": {},
     "output_type": "execute_result"
    }
   ],
   "source": [
    "# inspect first 5 observations of customer location\n",
    "hvc_hvposition.head(5)"
   ]
  },
  {
   "cell_type": "code",
   "execution_count": 15,
   "id": "1fa739c2",
   "metadata": {
    "scrolled": true
   },
   "outputs": [
    {
     "data": {
      "text/html": [
       "<div>\n",
       "<style scoped>\n",
       "    .dataframe tbody tr th:only-of-type {\n",
       "        vertical-align: middle;\n",
       "    }\n",
       "\n",
       "    .dataframe tbody tr th {\n",
       "        vertical-align: top;\n",
       "    }\n",
       "\n",
       "    .dataframe thead th {\n",
       "        text-align: right;\n",
       "    }\n",
       "</style>\n",
       "<table border=\"1\" class=\"dataframe\">\n",
       "  <thead>\n",
       "    <tr style=\"text-align: right;\">\n",
       "      <th></th>\n",
       "      <th>SO0_NRID</th>\n",
       "      <th>LONG</th>\n",
       "      <th>LAT</th>\n",
       "    </tr>\n",
       "  </thead>\n",
       "  <tbody>\n",
       "    <tr>\n",
       "      <th>5692</th>\n",
       "      <td>25332076406640</td>\n",
       "      <td>3.999738</td>\n",
       "      <td>51.151308</td>\n",
       "    </tr>\n",
       "    <tr>\n",
       "      <th>5693</th>\n",
       "      <td>25335568268048</td>\n",
       "      <td>3.680845</td>\n",
       "      <td>50.976083</td>\n",
       "    </tr>\n",
       "    <tr>\n",
       "      <th>5694</th>\n",
       "      <td>25343276433048</td>\n",
       "      <td>3.704357</td>\n",
       "      <td>50.917986</td>\n",
       "    </tr>\n",
       "    <tr>\n",
       "      <th>5695</th>\n",
       "      <td>25345568238048</td>\n",
       "      <td>3.639243</td>\n",
       "      <td>50.894867</td>\n",
       "    </tr>\n",
       "    <tr>\n",
       "      <th>5696</th>\n",
       "      <td>25356576635852</td>\n",
       "      <td>4.003110</td>\n",
       "      <td>51.162021</td>\n",
       "    </tr>\n",
       "  </tbody>\n",
       "</table>\n",
       "</div>"
      ],
      "text/plain": [
       "            SO0_NRID      LONG        LAT\n",
       "5692  25332076406640  3.999738  51.151308\n",
       "5693  25335568268048  3.680845  50.976083\n",
       "5694  25343276433048  3.704357  50.917986\n",
       "5695  25345568238048  3.639243  50.894867\n",
       "5696  25356576635852  4.003110  51.162021"
      ]
     },
     "execution_count": 15,
     "metadata": {},
     "output_type": "execute_result"
    }
   ],
   "source": [
    "# inspect last 5 observations of customer location\n",
    "hvc_hvposition.tail(5)"
   ]
  },
  {
   "cell_type": "code",
   "execution_count": 16,
   "id": "9619b500",
   "metadata": {},
   "outputs": [
    {
     "data": {
      "text/plain": [
       "5697"
      ]
     },
     "execution_count": 16,
     "metadata": {},
     "output_type": "execute_result"
    }
   ],
   "source": [
    "# total number of locations of unique customers\n",
    "len(hvc_hvposition[\"SO0_NRID\"].unique())"
   ]
  },
  {
   "cell_type": "code",
   "execution_count": 17,
   "id": "c48be812",
   "metadata": {},
   "outputs": [
    {
     "data": {
      "text/plain": [
       "True"
      ]
     },
     "execution_count": 17,
     "metadata": {},
     "output_type": "execute_result"
    }
   ],
   "source": [
    "# more locations then customers\n",
    "len(hvc_hvposition[\"SO0_NRID\"].unique()) > len(hvc_so0[\"SO0_NRID\"].unique())\n"
   ]
  },
  {
   "cell_type": "markdown",
   "id": "db21d35c",
   "metadata": {},
   "source": [
    "## 2.3 hvc_so0_nrid"
   ]
  },
  {
   "cell_type": "code",
   "execution_count": 18,
   "id": "36bcc230",
   "metadata": {},
   "outputs": [
    {
     "data": {
      "text/html": [
       "<div>\n",
       "<style scoped>\n",
       "    .dataframe tbody tr th:only-of-type {\n",
       "        vertical-align: middle;\n",
       "    }\n",
       "\n",
       "    .dataframe tbody tr th {\n",
       "        vertical-align: top;\n",
       "    }\n",
       "\n",
       "    .dataframe thead th {\n",
       "        text-align: right;\n",
       "    }\n",
       "</style>\n",
       "<table border=\"1\" class=\"dataframe\">\n",
       "  <thead>\n",
       "    <tr style=\"text-align: right;\">\n",
       "      <th></th>\n",
       "      <th>SO0_NRID</th>\n",
       "      <th>HVROUTETEMPLATE_NRID</th>\n",
       "      <th>CUST_TYPE</th>\n",
       "      <th>POSTCODE</th>\n",
       "      <th>LANGUAGE</th>\n",
       "      <th>SEASON_TYPE</th>\n",
       "    </tr>\n",
       "  </thead>\n",
       "  <tbody>\n",
       "    <tr>\n",
       "      <th>0</th>\n",
       "      <td>721104</td>\n",
       "      <td>219020601</td>\n",
       "      <td>Private</td>\n",
       "      <td>3930</td>\n",
       "      <td>nl-BE</td>\n",
       "      <td>All time</td>\n",
       "    </tr>\n",
       "    <tr>\n",
       "      <th>1</th>\n",
       "      <td>721110</td>\n",
       "      <td>219020601</td>\n",
       "      <td>Private</td>\n",
       "      <td>3930</td>\n",
       "      <td>nl-BE</td>\n",
       "      <td>All time</td>\n",
       "    </tr>\n",
       "    <tr>\n",
       "      <th>2</th>\n",
       "      <td>721121</td>\n",
       "      <td>219020601</td>\n",
       "      <td>Private</td>\n",
       "      <td>3930</td>\n",
       "      <td>nl-BE</td>\n",
       "      <td>All time</td>\n",
       "    </tr>\n",
       "    <tr>\n",
       "      <th>3</th>\n",
       "      <td>721126</td>\n",
       "      <td>219020601</td>\n",
       "      <td>Private</td>\n",
       "      <td>3930</td>\n",
       "      <td>nl-BE</td>\n",
       "      <td>All time</td>\n",
       "    </tr>\n",
       "    <tr>\n",
       "      <th>4</th>\n",
       "      <td>721131</td>\n",
       "      <td>219020601</td>\n",
       "      <td>Private</td>\n",
       "      <td>3930</td>\n",
       "      <td>nl-BE</td>\n",
       "      <td>All time</td>\n",
       "    </tr>\n",
       "  </tbody>\n",
       "</table>\n",
       "</div>"
      ],
      "text/plain": [
       "   SO0_NRID  HVROUTETEMPLATE_NRID CUST_TYPE  POSTCODE LANGUAGE SEASON_TYPE\n",
       "0    721104             219020601   Private      3930    nl-BE    All time\n",
       "1    721110             219020601   Private      3930    nl-BE    All time\n",
       "2    721121             219020601   Private      3930    nl-BE    All time\n",
       "3    721126             219020601   Private      3930    nl-BE    All time\n",
       "4    721131             219020601   Private      3930    nl-BE    All time"
      ]
     },
     "execution_count": 18,
     "metadata": {},
     "output_type": "execute_result"
    }
   ],
   "source": [
    "# inspect first 5 observations of customers\n",
    "hvc_so0.head(5)"
   ]
  },
  {
   "cell_type": "code",
   "execution_count": 19,
   "id": "2c4795a8",
   "metadata": {
    "scrolled": true
   },
   "outputs": [
    {
     "data": {
      "text/html": [
       "<div>\n",
       "<style scoped>\n",
       "    .dataframe tbody tr th:only-of-type {\n",
       "        vertical-align: middle;\n",
       "    }\n",
       "\n",
       "    .dataframe tbody tr th {\n",
       "        vertical-align: top;\n",
       "    }\n",
       "\n",
       "    .dataframe thead th {\n",
       "        text-align: right;\n",
       "    }\n",
       "</style>\n",
       "<table border=\"1\" class=\"dataframe\">\n",
       "  <thead>\n",
       "    <tr style=\"text-align: right;\">\n",
       "      <th></th>\n",
       "      <th>SO0_NRID</th>\n",
       "      <th>HVROUTETEMPLATE_NRID</th>\n",
       "      <th>CUST_TYPE</th>\n",
       "      <th>POSTCODE</th>\n",
       "      <th>LANGUAGE</th>\n",
       "      <th>SEASON_TYPE</th>\n",
       "    </tr>\n",
       "  </thead>\n",
       "  <tbody>\n",
       "    <tr>\n",
       "      <th>5704</th>\n",
       "      <td>-2147483648</td>\n",
       "      <td>219020601</td>\n",
       "      <td>Horeca</td>\n",
       "      <td>3930</td>\n",
       "      <td>nl-BE</td>\n",
       "      <td>All time</td>\n",
       "    </tr>\n",
       "    <tr>\n",
       "      <th>5705</th>\n",
       "      <td>-2147483648</td>\n",
       "      <td>289760478</td>\n",
       "      <td>Horeca</td>\n",
       "      <td>3650</td>\n",
       "      <td>nl-BE</td>\n",
       "      <td>All time</td>\n",
       "    </tr>\n",
       "    <tr>\n",
       "      <th>5706</th>\n",
       "      <td>-2147483648</td>\n",
       "      <td>289760478</td>\n",
       "      <td>Private</td>\n",
       "      <td>3680</td>\n",
       "      <td>nl-BE</td>\n",
       "      <td>All time</td>\n",
       "    </tr>\n",
       "    <tr>\n",
       "      <th>5707</th>\n",
       "      <td>-2147483648</td>\n",
       "      <td>289418953</td>\n",
       "      <td>Private</td>\n",
       "      <td>3550</td>\n",
       "      <td>nl-BE</td>\n",
       "      <td>All time</td>\n",
       "    </tr>\n",
       "    <tr>\n",
       "      <th>5708</th>\n",
       "      <td>-2147483648</td>\n",
       "      <td>219024456</td>\n",
       "      <td>Private</td>\n",
       "      <td>3950</td>\n",
       "      <td>nl-BE</td>\n",
       "      <td>All time</td>\n",
       "    </tr>\n",
       "  </tbody>\n",
       "</table>\n",
       "</div>"
      ],
      "text/plain": [
       "        SO0_NRID  HVROUTETEMPLATE_NRID CUST_TYPE  POSTCODE LANGUAGE  \\\n",
       "5704 -2147483648             219020601    Horeca      3930    nl-BE   \n",
       "5705 -2147483648             289760478    Horeca      3650    nl-BE   \n",
       "5706 -2147483648             289760478   Private      3680    nl-BE   \n",
       "5707 -2147483648             289418953   Private      3550    nl-BE   \n",
       "5708 -2147483648             219024456   Private      3950    nl-BE   \n",
       "\n",
       "     SEASON_TYPE  \n",
       "5704    All time  \n",
       "5705    All time  \n",
       "5706    All time  \n",
       "5707    All time  \n",
       "5708    All time  "
      ]
     },
     "execution_count": 19,
     "metadata": {},
     "output_type": "execute_result"
    }
   ],
   "source": [
    "# inspect last 5 observations of customers\n",
    "hvc_so0.tail(5)"
   ]
  },
  {
   "cell_type": "code",
   "execution_count": 20,
   "id": "0ff67d9a",
   "metadata": {},
   "outputs": [
    {
     "data": {
      "text/plain": [
       "4084"
      ]
     },
     "execution_count": 20,
     "metadata": {},
     "output_type": "execute_result"
    }
   ],
   "source": [
    "# inspect total number of unique customers\n",
    "len(hvc_so0[\"SO0_NRID\"].unique())"
   ]
  },
  {
   "cell_type": "code",
   "execution_count": 21,
   "id": "607ef0ef",
   "metadata": {},
   "outputs": [
    {
     "data": {
      "text/html": [
       "<div>\n",
       "<style scoped>\n",
       "    .dataframe tbody tr th:only-of-type {\n",
       "        vertical-align: middle;\n",
       "    }\n",
       "\n",
       "    .dataframe tbody tr th {\n",
       "        vertical-align: top;\n",
       "    }\n",
       "\n",
       "    .dataframe thead th {\n",
       "        text-align: right;\n",
       "    }\n",
       "</style>\n",
       "<table border=\"1\" class=\"dataframe\">\n",
       "  <thead>\n",
       "    <tr style=\"text-align: right;\">\n",
       "      <th></th>\n",
       "      <th>LANGUAGE</th>\n",
       "      <th>SEASON_TYPE</th>\n",
       "    </tr>\n",
       "  </thead>\n",
       "  <tbody>\n",
       "    <tr>\n",
       "      <th>count</th>\n",
       "      <td>5709</td>\n",
       "      <td>5708</td>\n",
       "    </tr>\n",
       "    <tr>\n",
       "      <th>unique</th>\n",
       "      <td>2</td>\n",
       "      <td>4</td>\n",
       "    </tr>\n",
       "    <tr>\n",
       "      <th>top</th>\n",
       "      <td>nl-BE</td>\n",
       "      <td>All time</td>\n",
       "    </tr>\n",
       "    <tr>\n",
       "      <th>freq</th>\n",
       "      <td>5703</td>\n",
       "      <td>5554</td>\n",
       "    </tr>\n",
       "  </tbody>\n",
       "</table>\n",
       "</div>"
      ],
      "text/plain": [
       "       LANGUAGE SEASON_TYPE\n",
       "count      5709        5708\n",
       "unique        2           4\n",
       "top       nl-BE    All time\n",
       "freq       5703        5554"
      ]
     },
     "execution_count": 21,
     "metadata": {},
     "output_type": "execute_result"
    }
   ],
   "source": [
    "# get some descriptive statistics \n",
    "hvc_so0[[\"LANGUAGE\", \"SEASON_TYPE\"]].describe()"
   ]
  },
  {
   "cell_type": "code",
   "execution_count": 22,
   "id": "ef43424a",
   "metadata": {
    "scrolled": true
   },
   "outputs": [
    {
     "data": {
      "text/plain": [
       "All time     5554\n",
       "Summer        150\n",
       "Christmas       3\n",
       "Winter          1\n",
       "Name: SEASON_TYPE, dtype: int64"
      ]
     },
     "execution_count": 22,
     "metadata": {},
     "output_type": "execute_result"
    }
   ],
   "source": [
    "# get the counts for every season type\n",
    "hvc_so0[\"SEASON_TYPE\"].value_counts()"
   ]
  },
  {
   "cell_type": "code",
   "execution_count": 23,
   "id": "c30c0025",
   "metadata": {},
   "outputs": [
    {
     "data": {
      "text/plain": [
       "nl-BE    5703\n",
       "fr-BE       6\n",
       "Name: LANGUAGE, dtype: int64"
      ]
     },
     "execution_count": 23,
     "metadata": {},
     "output_type": "execute_result"
    }
   ],
   "source": [
    "# get the counts for every spoken language\n",
    "hvc_so0[\"LANGUAGE\"].value_counts()"
   ]
  },
  {
   "cell_type": "code",
   "execution_count": 24,
   "id": "6ddeda8c",
   "metadata": {},
   "outputs": [
    {
     "data": {
      "text/plain": [
       "Private     5579\n",
       "Horeca        97\n",
       "Catering      33\n",
       "Name: CUST_TYPE, dtype: int64"
      ]
     },
     "execution_count": 24,
     "metadata": {},
     "output_type": "execute_result"
    }
   ],
   "source": [
    "# get the counts for customer type\n",
    "hvc_so0[\"CUST_TYPE\"].value_counts()"
   ]
  },
  {
   "cell_type": "markdown",
   "id": "2b898eca",
   "metadata": {},
   "source": [
    "# 3 Analysis"
   ]
  },
  {
   "cell_type": "markdown",
   "id": "ee89a89b",
   "metadata": {},
   "source": [
    "## 3.1 Customer locations"
   ]
  },
  {
   "cell_type": "code",
   "execution_count": 25,
   "id": "e99f81b3",
   "metadata": {},
   "outputs": [
    {
     "data": {
      "image/png": "[encoded data removed]",
      "text/plain": [
       "<Figure size 720x720 with 1 Axes>"
      ]
     },
     "metadata": {},
     "output_type": "display_data"
    }
   ],
   "source": [
    "### Clustering the customer positions\n",
    "\n",
    "## Clustering the longitude and latitude\n",
    "\n",
    "from sklearn.cluster import KMeans\n",
    "plt.figure(figsize = (10,10))\n",
    "\n",
    "# initialize the cluster algorithm with 4 classes\n",
    "kmeans_model = KMeans(n_clusters=4)\n",
    "\n",
    "# fit the kmeans model onto the data\n",
    "kmeans_model.fit(hvc_hvposition[[\"LONG\",\"LAT\"]])\n",
    "\n",
    "# get all the cluster labels\n",
    "cluster_labels = kmeans_model.labels_\n",
    "\n",
    "# define color map\n",
    "color_map = {0: \"green\", 1: \"red\", 2: \"blue\", 3: \"yellow\"}\n",
    "\n",
    "# get colors for each cluster label\n",
    "cluster_colors = [color_map[label] for label in cluster_labels]\n",
    "\n",
    "# plot data with cluster colors\n",
    "plt.scatter(hvc_hvposition[\"LONG\"], hvc_hvposition[\"LAT\"], color=cluster_colors)\n",
    "plt.show()"
   ]
  },
  {
   "cell_type": "code",
   "execution_count": 26,
   "id": "31acc127",
   "metadata": {},
   "outputs": [
    {
     "ename": "NameError",
     "evalue": "name 'gpd' is not defined",
     "output_type": "error",
     "traceback": [
      "\u001b[1;31m---------------------------------------------------------------------------\u001b[0m",
      "\u001b[1;31mNameError\u001b[0m                                 Traceback (most recent call last)",
      "\u001b[1;32m<ipython-input-26-5f9146c4f603>\u001b[0m in \u001b[0;36m<module>\u001b[1;34m\u001b[0m\n\u001b[0;32m      1\u001b[0m \u001b[1;31m# adding a map\u001b[0m\u001b[1;33m\u001b[0m\u001b[1;33m\u001b[0m\u001b[1;33m\u001b[0m\u001b[0m\n\u001b[1;32m----> 2\u001b[1;33m \u001b[0mbelgium\u001b[0m \u001b[1;33m=\u001b[0m \u001b[0mgpd\u001b[0m\u001b[1;33m.\u001b[0m\u001b[0mread_file\u001b[0m\u001b[1;33m(\u001b[0m\u001b[1;34m\"./data/Arrondissementen.json\"\u001b[0m\u001b[1;33m)\u001b[0m\u001b[1;33m\u001b[0m\u001b[1;33m\u001b[0m\u001b[0m\n\u001b[0m\u001b[0;32m      3\u001b[0m \u001b[0mcrs\u001b[0m \u001b[1;33m=\u001b[0m \u001b[1;34m'epsg:4326'\u001b[0m\u001b[1;33m\u001b[0m\u001b[1;33m\u001b[0m\u001b[0m\n\u001b[0;32m      4\u001b[0m \u001b[0mbase\u001b[0m \u001b[1;33m=\u001b[0m \u001b[0mbelgium\u001b[0m\u001b[1;33m.\u001b[0m\u001b[0mplot\u001b[0m\u001b[1;33m(\u001b[0m\u001b[0mcolor\u001b[0m\u001b[1;33m=\u001b[0m\u001b[1;34m'white'\u001b[0m\u001b[1;33m,\u001b[0m \u001b[0medgecolor\u001b[0m\u001b[1;33m=\u001b[0m\u001b[1;34m'black'\u001b[0m\u001b[1;33m,\u001b[0m \u001b[0mfigsize\u001b[0m \u001b[1;33m=\u001b[0m \u001b[1;33m(\u001b[0m\u001b[1;36m20\u001b[0m\u001b[1;33m,\u001b[0m\u001b[1;36m20\u001b[0m\u001b[1;33m)\u001b[0m\u001b[1;33m)\u001b[0m\u001b[1;33m\u001b[0m\u001b[1;33m\u001b[0m\u001b[0m\n\u001b[0;32m      5\u001b[0m \u001b[0mgdf\u001b[0m \u001b[1;33m=\u001b[0m \u001b[0mgpd\u001b[0m\u001b[1;33m.\u001b[0m\u001b[0mGeoDataFrame\u001b[0m\u001b[1;33m(\u001b[0m\u001b[0mhvc_hvposition\u001b[0m\u001b[1;33m,\u001b[0m \u001b[0mcrs\u001b[0m \u001b[1;33m=\u001b[0m \u001b[0mcrs\u001b[0m\u001b[1;33m,\u001b[0m\u001b[0mgeometry\u001b[0m\u001b[1;33m=\u001b[0m\u001b[0mgpd\u001b[0m\u001b[1;33m.\u001b[0m\u001b[0mpoints_from_xy\u001b[0m\u001b[1;33m(\u001b[0m\u001b[0mhvc_hvposition\u001b[0m\u001b[1;33m[\u001b[0m\u001b[1;34m\"LONG\"\u001b[0m\u001b[1;33m]\u001b[0m\u001b[1;33m,\u001b[0m \u001b[0mhvc_hvposition\u001b[0m\u001b[1;33m[\u001b[0m\u001b[1;34m\"LAT\"\u001b[0m\u001b[1;33m]\u001b[0m\u001b[1;33m)\u001b[0m\u001b[1;33m)\u001b[0m\u001b[1;33m\u001b[0m\u001b[1;33m\u001b[0m\u001b[0m\n",
      "\u001b[1;31mNameError\u001b[0m: name 'gpd' is not defined"
     ]
    }
   ],
   "source": [
    "# adding a map\n",
    "belgium = gpd.read_file(\"./data/Arrondissementen.json\")\n",
    "crs = 'epsg:4326'\n",
    "base = belgium.plot(color='white', edgecolor='black', figsize = (20,20))\n",
    "gdf = gpd.GeoDataFrame(hvc_hvposition, crs = crs,geometry=gpd.points_from_xy(hvc_hvposition[\"LONG\"], hvc_hvposition[\"LAT\"]))\n",
    "\n",
    "\n",
    "gdf.plot(ax = base, color = \"red\",markersize = 10)\n",
    "\n",
    "plt.show()"
   ]
  },
  {
   "cell_type": "markdown",
   "id": "e421943a",
   "metadata": {},
   "source": [
    "## 3.2 What do the  customers buy? "
   ]
  },
  {
   "cell_type": "code",
   "execution_count": null,
   "id": "c10cd724",
   "metadata": {},
   "outputs": [],
   "source": [
    "customer_id = 721110.0"
   ]
  },
  {
   "cell_type": "code",
   "execution_count": null,
   "id": "3352f1a1",
   "metadata": {},
   "outputs": [],
   "source": [
    "# join transactions with transaction details with products\n",
    "transactions_products = hvc_hvvisitresult.merge(hvc_visitresultdetails, on=\"HVVISITRESULT_NRID\", how=\"inner\")\\\n",
    "                                         .merge(hvc_ar0, on=\"AR0_NRID\", how=\"inner\") "
   ]
  },
  {
   "cell_type": "code",
   "execution_count": null,
   "id": "284459e3",
   "metadata": {
    "scrolled": true
   },
   "outputs": [],
   "source": [
    "# check\n",
    "transactions_products.head(3)"
   ]
  },
  {
   "cell_type": "code",
   "execution_count": null,
   "id": "5a83f406",
   "metadata": {},
   "outputs": [],
   "source": [
    "# get all the transactions for customer\n",
    "transactions_products_customer = transactions_products[transactions_products[\"SO0_NRID\"] == customer_id]\n",
    "\n",
    "# get all transactions with positive outcome\n",
    "transactions_products_customer = transactions_products_customer[transactions_products_customer[\"HVOUTCOME_NRID\"] == 2]"
   ]
  },
  {
   "cell_type": "code",
   "execution_count": null,
   "id": "a6128ec7",
   "metadata": {},
   "outputs": [],
   "source": [
    "# get total number of products bought by the customer\n",
    "transactions_products_customer[\"QUANTITY\"].sum()"
   ]
  },
  {
   "cell_type": "markdown",
   "id": "d731ee00",
   "metadata": {},
   "source": [
    "## 3.3 Unique list of unique products a customer bought"
   ]
  },
  {
   "cell_type": "code",
   "execution_count": null,
   "id": "01d9d52f",
   "metadata": {},
   "outputs": [],
   "source": [
    "# define a function that accepts a customer id, the transactions data, transactions details data and product data\n",
    "def get_products(cust_id, transactions, transaction_details, products):\n",
    "    \n",
    "\n",
    "    # join transactions with transaction details with products\n",
    "    transactions_products = transactions.merge(transaction_details, on=\"HVVISITRESULT_NRID\", how=\"inner\") \\\n",
    "                                        .merge(products, on=\"AR0_NRID\", how=\"inner\")\n",
    "    \n",
    "    # get transactions of customer \n",
    "    transactions_products_cust = transactions_products[transactions_products[\"SO0_NRID\"] == cust_id]\n",
    "    \n",
    "    # only get transactions of succesfull visits\n",
    "    transactions_products_cust = transactions_products_cust[transactions_products_cust[\"HVOUTCOME_NRID\"] == 2]\n",
    "    \n",
    "    # get total amount of products bought by the customer\n",
    "    total_products = transactions_products_cust[\"QUANTITY\"].sum()\n",
    "    \n",
    "    # get total number of unique products bought by the customer\n",
    "    total_unique_products = len(transactions_products_cust[\"DESCRIPTION\"].unique())\n",
    "    \n",
    "    # return\n",
    "    return(total_products, total_unique_products)"
   ]
  },
  {
   "cell_type": "code",
   "execution_count": null,
   "id": "6652ff7b",
   "metadata": {},
   "outputs": [],
   "source": [
    "# check\n",
    "get_products(cust_id=721110.0, \n",
    "                  transactions=hvc_hvvisitresult, \n",
    "                  transaction_details=hvc_visitresultdetails, \n",
    "                  products=hvc_ar0)"
   ]
  },
  {
   "cell_type": "markdown",
   "id": "6824a9bb",
   "metadata": {},
   "source": [
    "## 3.4 Which customers have the highest CLV?\n",
    "\n"
   ]
  },
  {
   "cell_type": "code",
   "execution_count": null,
   "id": "cd07d07f",
   "metadata": {},
   "outputs": [],
   "source": [
    "def get_clv(cust_id):\n",
    "    \n",
    "    # get customer transactions\n",
    "    transactions=hvc_hvvisitresult\n",
    "    cust_transactions = transactions[transactions[\"SO0_NRID\"] == cust_id]\n",
    "    # get transactions with positive outcome\n",
    "    cust_transactions_pos = cust_transactions[cust_transactions[\"HVOUTCOME_NRID\"] == 2]\n",
    "    # get clv\n",
    "    clv = np.sum(cust_transactions[\"AMOUNT\"])\n",
    "    # return clv\n",
    "    return(clv)"
   ]
  },
  {
   "cell_type": "code",
   "execution_count": null,
   "id": "fc2d6e08",
   "metadata": {},
   "outputs": [],
   "source": [
    "#add a clv column to every customer\n",
    "all_clv = []\n",
    "#making a list of clv's \n",
    "for i in range(len(hvc_so0)):\n",
    "    all_clv.append(get_clv(cust_id=hvc_so0.iloc[i,0]))\n",
    "#add the list to the df\n",
    "hvc_so0_with_clv = hvc_so0.assign(CLV = all_clv )\n",
    "\n"
   ]
  },
  {
   "cell_type": "code",
   "execution_count": null,
   "id": "0544f9ef",
   "metadata": {},
   "outputs": [],
   "source": [
    "#sort by clv\n",
    "hvc_so0_with_clv.sort_values(by=\"CLV\")\n"
   ]
  },
  {
   "cell_type": "code",
   "execution_count": 46,
   "id": "81acfd5d",
   "metadata": {},
   "outputs": [
    {
     "data": {
      "text/plain": [
       "Private     5579\n",
       "Horeca        97\n",
       "Catering      33\n",
       "Name: CUST_TYPE, dtype: int64"
      ]
     },
     "execution_count": 46,
     "metadata": {},
     "output_type": "execute_result"
    }
   ],
   "source": [
    "# get the counts for customer type\n",
    "hvc_so0[\"CUST_TYPE\"].value_counts()"
   ]
  },
  {
   "cell_type": "code",
   "execution_count": null,
   "id": "f04a9722",
   "metadata": {
    "scrolled": true
   },
   "outputs": [],
   "source": [
    "#Boxplot \n",
    "sns.set_style('darkgrid')\n",
    "sns.set_palette('Set2')\n",
    "plt.title('CLV by Customer Type')\n",
    "sns.boxplot(data=hvc_so0_with_clv, x='CLV', y='CUST_TYPE')\n",
    "plt.xlabel('CLV')\n",
    "plt.ylabel('Customer Type')\n",
    "plt.show()"
   ]
  },
  {
   "cell_type": "code",
   "execution_count": null,
   "id": "f3474f85",
   "metadata": {},
   "outputs": [],
   "source": [
    "#Sales by customer type in a certain year\n",
    "\n",
    "def sales_by_customer_type(desired_year):\n",
    "\n",
    "    # get the month of each transaction date and store it in new column\n",
    "    hvc_hvvisitresult[\"MONTH\"] = hvc_hvvisitresult[\"DATEONLY\"].apply(lambda x: x.month)\n",
    "\n",
    "    #merge\n",
    "    transactions_2020 = hvc_hvvisitresult.merge(hvc_so0,on=\"SO0_NRID\", how =\"inner\")\n",
    "\n",
    "    # get transactions from 2020 only\n",
    "    transactions_2020 = transactions_2020[(transactions_2020[\"DATEONLY\"] >= pd.Timestamp(year=desired_year, day=1, month=1)) & (transactions_2020[\"DATEONLY\"] < pd.Timestamp(year=desired_year + 1, month=1, day=1))]\n",
    "\n",
    "    # get transactions with succesfull outcome\n",
    "    transactions_2020 = transactions_2020[transactions_2020[\"HVOUTCOME_NRID\"] == 2]\n",
    "\n",
    "\n",
    "    # get transactions by 'private customers'\n",
    "    private_transactions_2020 = transactions_2020[transactions_2020[\"CUST_TYPE\"] == \"Private\"]\n",
    "\n",
    "    # get the total sales for each month for 'private customers'\n",
    "    private_monthly_sales = private_transactions_2020.groupby(\"MONTH\")[\"AMOUNT\"].sum().reset_index()\n",
    "\n",
    "    # get transactions by 'Horeca customers'\n",
    "    horeca_transactions_2020 = transactions_2020[transactions_2020[\"CUST_TYPE\"] == \"Horeca\"]\n",
    "\n",
    "    # get the total sales for each month for 'Horeca customers'\n",
    "    horeca_monthly_sales = horeca_transactions_2020.groupby(\"MONTH\")[\"AMOUNT\"].sum().reset_index()\n",
    "\n",
    "    # get transactions by 'Catering customers'\n",
    "    catering_transactions_2020 = transactions_2020[transactions_2020[\"CUST_TYPE\"] == \"Catering\"]\n",
    "\n",
    "    # get the total sales for each month for 'Catering customers'\n",
    "    catering_monthly_sales = catering_transactions_2020.groupby(\"MONTH\")[\"AMOUNT\"].sum().reset_index()\n",
    "\n",
    "    # Barplot\n",
    "    n_months = 12\n",
    "    fig, ax = plt.subplots()\n",
    "    index = np.arange(n_months)\n",
    "    bar_width = 0.20\n",
    "    opacity = 0.7\n",
    "\n",
    "    rects1 = plt.bar(index, private_monthly_sales[\"AMOUNT\"], bar_width,\n",
    "    alpha=opacity,\n",
    "    color='#FFD57A',\n",
    "    label='Private')\n",
    "                                              \n",
    "    rects2 = plt.bar(index + bar_width, horeca_monthly_sales[\"AMOUNT\"], bar_width,\n",
    "    alpha=opacity,\n",
    "    color='#ffb923',\n",
    "    label='Horeca')\n",
    "\n",
    "    rects3 = plt.bar(index + 2*bar_width, catering_monthly_sales[\"AMOUNT\"], bar_width,\n",
    "    alpha=opacity,\n",
    "    color='#FF9323',\n",
    "    label='Catering')\n",
    "\n",
    "    plt.xlabel('Customer type')\n",
    "    plt.ylabel('Sales')\n",
    "    plt.title('Sales by customer type in '+str(desired_year))\n",
    "    plt.xticks(index + bar_width, ('JAN', 'FEB', 'MAR', 'APR', 'MAI', 'JUN', 'JUL', 'AUG', 'SEP', 'OCT', 'NOV', 'DEC'))\n",
    "    plt.legend()\n",
    "    plt.savefig('Sales by customer type in '+str(desired_year))\n",
    "    plt.tight_layout()\n"
   ]
  },
  {
   "cell_type": "code",
   "execution_count": null,
   "id": "cb98a87d",
   "metadata": {},
   "outputs": [],
   "source": [
    "#sales by customer in 2020\n",
    "sales_by_customer_type(2020)\n"
   ]
  },
  {
   "cell_type": "markdown",
   "id": "59f5d5a2",
   "metadata": {},
   "source": [
    "## 3.5 How often did a customer purchase at the company at different days "
   ]
  },
  {
   "cell_type": "code",
   "execution_count": null,
   "id": "1b4b9918",
   "metadata": {},
   "outputs": [],
   "source": [
    "def get_frequency(cust_id, transactions):\n",
    "    \n",
    "    # get transactions made by customer\n",
    "    transactions_cust = transactions[hvc_hvvisitresult[\"SO0_NRID\"] == cust_id]\n",
    "\n",
    "    # get transactions from succesfull visits\n",
    "    transactions_cust = transactions_cust[transactions_cust[\"HVOUTCOME_NRID\"] == 2]\n",
    "\n",
    "    # get total number of unique days on which customer made a purchase\n",
    "    frequency = len(transactions_cust)\n",
    "    \n",
    "    # return\n",
    "    return(frequency)"
   ]
  },
  {
   "cell_type": "code",
   "execution_count": null,
   "id": "911181f7",
   "metadata": {},
   "outputs": [],
   "source": [
    "# check\n",
    "get_frequency(721110.0)"
   ]
  },
  {
   "cell_type": "markdown",
   "id": "5846e560",
   "metadata": {},
   "source": [
    "## 3.6 Which customers left the company?"
   ]
  },
  {
   "cell_type": "code",
   "execution_count": null,
   "id": "6eadbc11",
   "metadata": {},
   "outputs": [],
   "source": [
    "#Linear regression plots\n",
    "\n",
    "def get_regression_sales(customer_id, year_regression):\n",
    "    \n",
    "    #get the month of each transaction date and store it in new column\n",
    "    hvc_hvvisitresult[\"MONTH\"] = hvc_hvvisitresult[\"DATEONLY\"].apply(lambda x: x.month)\n",
    "\n",
    "    #merge\n",
    "    transactions = hvc_hvvisitresult.merge(hvc_so0,on=\"SO0_NRID\", how =\"inner\")\n",
    "    \n",
    "    #get transactions from desired_year\n",
    "    transactions = transactions[(transactions[\"DATEONLY\"] >= pd.Timestamp(year=year_regression, day=1, month=1)) & (transactions[\"DATEONLY\"] < pd.Timestamp(year=year_regression + 1, month=1, day=1))]\n",
    "\n",
    "    #get transactions with succesfull outcome\n",
    "    transactions = transactions[transactions[\"HVOUTCOME_NRID\"] == 2]\n",
    "    \n",
    "    #get transactions from customer with specific id \n",
    "    transactions_unique_cust = transactions[transactions[\"SO0_NRID\"] == customer_id ]\n",
    "    \n",
    "    # get the total sales for each month for customers\n",
    "    sales_unique_cust = transactions_unique_cust.groupby(\"MONTH\")[\"AMOUNT\"].sum().reset_index() \n",
    "    print(sales_unique_cust)\n",
    "    sales_unique_cust_fixed = sales_unique_cust\n",
    "    sales_unique_cust_fixed[\"MONTH\"] = sales_unique_cust[\"MONTH\"]-1\n",
    "    \n",
    "    \n",
    "    g = sns.lmplot(x=\"MONTH\", y=\"AMOUNT\", data=sales_unique_cust_fixed, fit_reg=True, line_kws={'color': '#ffb923'}, scatter_kws={'color': '#ffb923'})\n",
    "    \n",
    "    g.set(ylim=(0, None))\n",
    "    plt.xlabel(\"Months\")\n",
    "    plt.ylabel(\"Sales\")\n",
    "    plt.title(\"Sales of customer \" + str(customer_id) + \" in \" + str(year_regression))\n",
    "    plt.xticks(range(12), ('JAN', 'FEB', 'MAR', 'APR', 'MAI', 'JUN', 'JUL', 'AUG', 'SEP', 'OCT', 'NOV', 'DEC'))\n",
    "    plt.tight_layout()\n",
    "    plt.savefig('./Graphs/regression.png')\n",
    "    return plt.show()\n"
   ]
  },
  {
   "cell_type": "code",
   "execution_count": null,
   "id": "72127e29",
   "metadata": {
    "scrolled": true
   },
   "outputs": [],
   "source": [
    "# Regression test\n",
    "get_regression_sales(customer_id=721110.0, year_regression=2020)"
   ]
  },
  {
   "cell_type": "code",
   "execution_count": 30,
   "id": "c4313e44",
   "metadata": {},
   "outputs": [
    {
     "data": {
      "text/html": [
       "<div>\n",
       "<style scoped>\n",
       "    .dataframe tbody tr th:only-of-type {\n",
       "        vertical-align: middle;\n",
       "    }\n",
       "\n",
       "    .dataframe tbody tr th {\n",
       "        vertical-align: top;\n",
       "    }\n",
       "\n",
       "    .dataframe thead th {\n",
       "        text-align: right;\n",
       "    }\n",
       "</style>\n",
       "<table border=\"1\" class=\"dataframe\">\n",
       "  <thead>\n",
       "    <tr style=\"text-align: right;\">\n",
       "      <th></th>\n",
       "      <th>HVVISITRESULT_NRID</th>\n",
       "      <th>SO0_NRID</th>\n",
       "      <th>AM0_NRID</th>\n",
       "      <th>HVOUTCOME_NRID</th>\n",
       "      <th>VISITDATE</th>\n",
       "      <th>DATEONLY</th>\n",
       "      <th>AMOUNT</th>\n",
       "      <th>PAYMENTTERM</th>\n",
       "      <th>HVROUTETEMPLATE_NRID</th>\n",
       "      <th>CUST_TYPE</th>\n",
       "      <th>POSTCODE</th>\n",
       "      <th>LANGUAGE</th>\n",
       "      <th>SEASON_TYPE</th>\n",
       "    </tr>\n",
       "  </thead>\n",
       "  <tbody>\n",
       "    <tr>\n",
       "      <th>0</th>\n",
       "      <td>55681456</td>\n",
       "      <td>719952</td>\n",
       "      <td>23186288605042</td>\n",
       "      <td>2</td>\n",
       "      <td>2021-10-24 12:20:01</td>\n",
       "      <td>2019-05-06</td>\n",
       "      <td>16.9</td>\n",
       "      <td>cash</td>\n",
       "      <td>219019962</td>\n",
       "      <td>Private</td>\n",
       "      <td>3950</td>\n",
       "      <td>nl-BE</td>\n",
       "      <td>All time</td>\n",
       "    </tr>\n",
       "    <tr>\n",
       "      <th>1</th>\n",
       "      <td>55248854</td>\n",
       "      <td>719952</td>\n",
       "      <td>23186288605042</td>\n",
       "      <td>2</td>\n",
       "      <td>2021-10-24 12:46:43</td>\n",
       "      <td>2019-04-22</td>\n",
       "      <td>7.4</td>\n",
       "      <td>cash</td>\n",
       "      <td>219019962</td>\n",
       "      <td>Private</td>\n",
       "      <td>3950</td>\n",
       "      <td>nl-BE</td>\n",
       "      <td>All time</td>\n",
       "    </tr>\n",
       "    <tr>\n",
       "      <th>2</th>\n",
       "      <td>54761459</td>\n",
       "      <td>719952</td>\n",
       "      <td>23186288605042</td>\n",
       "      <td>2</td>\n",
       "      <td>2021-10-24 12:32:05</td>\n",
       "      <td>2019-04-08</td>\n",
       "      <td>7.4</td>\n",
       "      <td>cash</td>\n",
       "      <td>219019962</td>\n",
       "      <td>Private</td>\n",
       "      <td>3950</td>\n",
       "      <td>nl-BE</td>\n",
       "      <td>All time</td>\n",
       "    </tr>\n",
       "    <tr>\n",
       "      <th>4</th>\n",
       "      <td>54354469</td>\n",
       "      <td>719952</td>\n",
       "      <td>23186288605042</td>\n",
       "      <td>2</td>\n",
       "      <td>2021-10-24 17:14:48</td>\n",
       "      <td>2019-03-25</td>\n",
       "      <td>16.9</td>\n",
       "      <td>cash</td>\n",
       "      <td>219019962</td>\n",
       "      <td>Private</td>\n",
       "      <td>3950</td>\n",
       "      <td>nl-BE</td>\n",
       "      <td>All time</td>\n",
       "    </tr>\n",
       "    <tr>\n",
       "      <th>7</th>\n",
       "      <td>52658514</td>\n",
       "      <td>719952</td>\n",
       "      <td>23186288605042</td>\n",
       "      <td>2</td>\n",
       "      <td>2021-10-24 11:43:41</td>\n",
       "      <td>2019-01-28</td>\n",
       "      <td>7.4</td>\n",
       "      <td>cash</td>\n",
       "      <td>219019962</td>\n",
       "      <td>Private</td>\n",
       "      <td>3950</td>\n",
       "      <td>nl-BE</td>\n",
       "      <td>All time</td>\n",
       "    </tr>\n",
       "    <tr>\n",
       "      <th>...</th>\n",
       "      <td>...</td>\n",
       "      <td>...</td>\n",
       "      <td>...</td>\n",
       "      <td>...</td>\n",
       "      <td>...</td>\n",
       "      <td>...</td>\n",
       "      <td>...</td>\n",
       "      <td>...</td>\n",
       "      <td>...</td>\n",
       "      <td>...</td>\n",
       "      <td>...</td>\n",
       "      <td>...</td>\n",
       "      <td>...</td>\n",
       "    </tr>\n",
       "    <tr>\n",
       "      <th>178650</th>\n",
       "      <td>73690180</td>\n",
       "      <td>72836526</td>\n",
       "      <td>25146868694050</td>\n",
       "      <td>2</td>\n",
       "      <td>2021-10-24 12:48:34</td>\n",
       "      <td>2020-12-19</td>\n",
       "      <td>12.1</td>\n",
       "      <td>cash</td>\n",
       "      <td>219021882</td>\n",
       "      <td>Private</td>\n",
       "      <td>3930</td>\n",
       "      <td>nl-BE</td>\n",
       "      <td>All time</td>\n",
       "    </tr>\n",
       "    <tr>\n",
       "      <th>178653</th>\n",
       "      <td>73056077</td>\n",
       "      <td>72857601</td>\n",
       "      <td>24034952445848</td>\n",
       "      <td>2</td>\n",
       "      <td>2021-10-24 17:08:19</td>\n",
       "      <td>2020-12-01</td>\n",
       "      <td>3.7</td>\n",
       "      <td>cash</td>\n",
       "      <td>289658600</td>\n",
       "      <td>Private</td>\n",
       "      <td>3500</td>\n",
       "      <td>nl-BE</td>\n",
       "      <td>All time</td>\n",
       "    </tr>\n",
       "    <tr>\n",
       "      <th>178655</th>\n",
       "      <td>73495755</td>\n",
       "      <td>1398687</td>\n",
       "      <td>24034952445848</td>\n",
       "      <td>2</td>\n",
       "      <td>2021-10-24 08:41:10</td>\n",
       "      <td>2020-12-14</td>\n",
       "      <td>9.9</td>\n",
       "      <td>cash</td>\n",
       "      <td>289657598</td>\n",
       "      <td>Private</td>\n",
       "      <td>3500</td>\n",
       "      <td>nl-BE</td>\n",
       "      <td>All time</td>\n",
       "    </tr>\n",
       "    <tr>\n",
       "      <th>178657</th>\n",
       "      <td>73626203</td>\n",
       "      <td>727026</td>\n",
       "      <td>25146868694050</td>\n",
       "      <td>2</td>\n",
       "      <td>2021-10-24 11:32:12</td>\n",
       "      <td>2020-12-16</td>\n",
       "      <td>21.0</td>\n",
       "      <td>cash</td>\n",
       "      <td>219021241</td>\n",
       "      <td>Private</td>\n",
       "      <td>3910</td>\n",
       "      <td>nl-BE</td>\n",
       "      <td>All time</td>\n",
       "    </tr>\n",
       "    <tr>\n",
       "      <th>178660</th>\n",
       "      <td>73751793</td>\n",
       "      <td>73260813</td>\n",
       "      <td>18934048107254</td>\n",
       "      <td>2</td>\n",
       "      <td>2021-10-24 14:17:42</td>\n",
       "      <td>2020-12-20</td>\n",
       "      <td>35.6</td>\n",
       "      <td>cash</td>\n",
       "      <td>289416949</td>\n",
       "      <td>Private</td>\n",
       "      <td>3580</td>\n",
       "      <td>nl-BE</td>\n",
       "      <td>All time</td>\n",
       "    </tr>\n",
       "  </tbody>\n",
       "</table>\n",
       "<p>61247 rows × 13 columns</p>\n",
       "</div>"
      ],
      "text/plain": [
       "        HVVISITRESULT_NRID  SO0_NRID        AM0_NRID  HVOUTCOME_NRID  \\\n",
       "0                 55681456    719952  23186288605042               2   \n",
       "1                 55248854    719952  23186288605042               2   \n",
       "2                 54761459    719952  23186288605042               2   \n",
       "4                 54354469    719952  23186288605042               2   \n",
       "7                 52658514    719952  23186288605042               2   \n",
       "...                    ...       ...             ...             ...   \n",
       "178650            73690180  72836526  25146868694050               2   \n",
       "178653            73056077  72857601  24034952445848               2   \n",
       "178655            73495755   1398687  24034952445848               2   \n",
       "178657            73626203    727026  25146868694050               2   \n",
       "178660            73751793  73260813  18934048107254               2   \n",
       "\n",
       "                 VISITDATE   DATEONLY  AMOUNT PAYMENTTERM  \\\n",
       "0      2021-10-24 12:20:01 2019-05-06    16.9        cash   \n",
       "1      2021-10-24 12:46:43 2019-04-22     7.4        cash   \n",
       "2      2021-10-24 12:32:05 2019-04-08     7.4        cash   \n",
       "4      2021-10-24 17:14:48 2019-03-25    16.9        cash   \n",
       "7      2021-10-24 11:43:41 2019-01-28     7.4        cash   \n",
       "...                    ...        ...     ...         ...   \n",
       "178650 2021-10-24 12:48:34 2020-12-19    12.1        cash   \n",
       "178653 2021-10-24 17:08:19 2020-12-01     3.7        cash   \n",
       "178655 2021-10-24 08:41:10 2020-12-14     9.9        cash   \n",
       "178657 2021-10-24 11:32:12 2020-12-16    21.0        cash   \n",
       "178660 2021-10-24 14:17:42 2020-12-20    35.6        cash   \n",
       "\n",
       "        HVROUTETEMPLATE_NRID CUST_TYPE  POSTCODE LANGUAGE SEASON_TYPE  \n",
       "0                  219019962   Private      3950    nl-BE    All time  \n",
       "1                  219019962   Private      3950    nl-BE    All time  \n",
       "2                  219019962   Private      3950    nl-BE    All time  \n",
       "4                  219019962   Private      3950    nl-BE    All time  \n",
       "7                  219019962   Private      3950    nl-BE    All time  \n",
       "...                      ...       ...       ...      ...         ...  \n",
       "178650             219021882   Private      3930    nl-BE    All time  \n",
       "178653             289658600   Private      3500    nl-BE    All time  \n",
       "178655             289657598   Private      3500    nl-BE    All time  \n",
       "178657             219021241   Private      3910    nl-BE    All time  \n",
       "178660             289416949   Private      3580    nl-BE    All time  \n",
       "\n",
       "[61247 rows x 13 columns]"
      ]
     },
     "execution_count": 30,
     "metadata": {},
     "output_type": "execute_result"
    }
   ],
   "source": [
    "#LINEAR REGRESSION MODEL\n",
    "\n",
    "#merge\n",
    "transactions = hvc_hvvisitresult.merge(hvc_so0,on=\"SO0_NRID\", how =\"inner\")\n",
    "\n",
    "#get transactions with succesfull outcome\n",
    "transactions = transactions[transactions[\"HVOUTCOME_NRID\"] == 2]\n",
    "\n",
    "transactions\n",
    "    "
   ]
  },
  {
   "cell_type": "code",
   "execution_count": null,
   "id": "7f555753",
   "metadata": {},
   "outputs": [],
   "source": [
    "imputing missing vallues \n",
    "for col in transactions.columns:\n",
    "    # get number of missing values for column\n",
    "    num_miss = sum(transactions[col].isnull())\n",
    "    # print\n",
    "    print(col, num_miss)"
   ]
  },
  {
   "cell_type": "code",
   "execution_count": null,
   "id": "21e91920",
   "metadata": {},
   "outputs": [],
   "source": [
    "#Deleting columns with missing values\n",
    "del transactions[\"SEASON_TYPE\"]\n",
    "del transactions[\"PAYMENTTERM\"]\n",
    "transactions"
   ]
  },
  {
   "cell_type": "code",
   "execution_count": 29,
   "id": "c6ed5fdd",
   "metadata": {},
   "outputs": [
    {
     "ename": "NameError",
     "evalue": "name 'transactions' is not defined",
     "output_type": "error",
     "traceback": [
      "\u001b[1;31m---------------------------------------------------------------------------\u001b[0m",
      "\u001b[1;31mNameError\u001b[0m                                 Traceback (most recent call last)",
      "\u001b[1;32m<ipython-input-29-9da1f2e9b88f>\u001b[0m in \u001b[0;36m<module>\u001b[1;34m\u001b[0m\n\u001b[1;32m----> 1\u001b[1;33m \u001b[0mtransactions\u001b[0m\u001b[1;33m\u001b[0m\u001b[1;33m\u001b[0m\u001b[0m\n\u001b[0m",
      "\u001b[1;31mNameError\u001b[0m: name 'transactions' is not defined"
     ]
    }
   ],
   "source": [
    "transactions"
   ]
  },
  {
   "cell_type": "code",
   "execution_count": null,
   "id": "d7545169",
   "metadata": {},
   "outputs": [],
   "source": [
    "def get_regression_sales_info(customer_id):\n",
    "    \n",
    "    info_reg_no_sales = [1.0, 0.0,-1.0]\n",
    "    \n",
    "    try:\n",
    "        #get the month of each transaction date and store it in new column\n",
    "        hvc_hvvisitresult[\"MONTH\"] = hvc_hvvisitresult[\"DATEONLY\"].apply(lambda x: x.month)\n",
    "\n",
    "        #merge\n",
    "        transactions = hvc_hvvisitresult.merge(hvc_so0,on=\"SO0_NRID\", how =\"inner\")\n",
    "    \n",
    "        #get transactions from desired_year\n",
    "        transactions = transactions[(transactions[\"DATEONLY\"] >= pd.Timestamp(year=2020, day=1, month=1)) & (transactions[\"DATEONLY\"] < pd.Timestamp(year=2021, month=1, day=1))]\n",
    "\n",
    "        #get transactions with succesfull outcome\n",
    "        transactions = transactions[transactions[\"HVOUTCOME_NRID\"] == 2]\n",
    "    \n",
    "        #get transactions from customer with specific id \n",
    "        transactions_unique_cust = transactions[transactions[\"SO0_NRID\"] == customer_id ]\n",
    "    \n",
    "        # get the total sales for each month for customers\n",
    "        sales_unique_cust = transactions_unique_cust.groupby(\"MONTH\")[\"AMOUNT\"].sum().reset_index() \n",
    "        print(sales_unique_cust)\n",
    "        sales_unique_cust_fixed = sales_unique_cust\n",
    "        sales_unique_cust_fixed[\"MONTH\"] = sales_unique_cust[\"MONTH\"]-1\n",
    "    \n",
    "        #regression model\n",
    "        x = np.array(sales_unique_cust_fixed[\"MONTH\"]).reshape((-1,1))\n",
    "        y = np.array(sales_unique_cust_fixed[\"AMOUNT\"])\n",
    "        model = LinearRegression()\n",
    "        model.fit(x,y)\n",
    "    \n",
    "        #coefficient of determination\n",
    "        r_sq = model.score(x,y)\n",
    "    \n",
    "        #intercept and slope\n",
    "        intercept = model.intercept_\n",
    "        slope = model.coef_\n",
    "    \n",
    "        info_reg = [r_sq, intercept,slope[0]]\n",
    "    \n",
    "        return info_reg\n",
    "    \n",
    "    except ValueError as v:\n",
    "        return info_reg_no_sales\n",
    "        \n",
    "        "
   ]
  },
  {
   "cell_type": "code",
   "execution_count": null,
   "id": "c49ab2af",
   "metadata": {},
   "outputs": [],
   "source": [
    "#test regression\n",
    "get_regression_sales_info(customer_id=721110.0)"
   ]
  },
  {
   "cell_type": "code",
   "execution_count": null,
   "id": "2abbe50e",
   "metadata": {},
   "outputs": [],
   "source": [
    "#setting thresholds for leaving customers\n",
    "threshold_r_sq = 0.500000000\n",
    "threshold_slope = 0.000"
   ]
  },
  {
   "cell_type": "code",
   "execution_count": null,
   "id": "91a4c32e",
   "metadata": {},
   "outputs": [],
   "source": [
    "#testing with iloc\n",
    "get_regression_sales_info(customer_id=hvc_so0.iloc[5,0])"
   ]
  },
  {
   "cell_type": "code",
   "execution_count": 38,
   "id": "341362e2",
   "metadata": {},
   "outputs": [
    {
     "ename": "NameError",
     "evalue": "name 'get_regression_sales_info' is not defined",
     "output_type": "error",
     "traceback": [
      "\u001b[1;31m---------------------------------------------------------------------------\u001b[0m",
      "\u001b[1;31mNameError\u001b[0m                                 Traceback (most recent call last)",
      "\u001b[1;32m<ipython-input-38-9329f020a5eb>\u001b[0m in \u001b[0;36m<module>\u001b[1;34m\u001b[0m\n\u001b[0;32m      4\u001b[0m \u001b[1;32mfor\u001b[0m \u001b[0mi\u001b[0m \u001b[1;32min\u001b[0m \u001b[0mrange\u001b[0m\u001b[1;33m(\u001b[0m\u001b[0mlen\u001b[0m\u001b[1;33m(\u001b[0m\u001b[0mhvc_so0\u001b[0m\u001b[1;33m)\u001b[0m\u001b[1;33m)\u001b[0m\u001b[1;33m:\u001b[0m\u001b[1;33m\u001b[0m\u001b[1;33m\u001b[0m\u001b[0m\n\u001b[0;32m      5\u001b[0m     \u001b[1;31m#getting the neccesary information\u001b[0m\u001b[1;33m\u001b[0m\u001b[1;33m\u001b[0m\u001b[1;33m\u001b[0m\u001b[0m\n\u001b[1;32m----> 6\u001b[1;33m     \u001b[0minfo_regression\u001b[0m \u001b[1;33m=\u001b[0m \u001b[0mget_regression_sales_info\u001b[0m\u001b[1;33m(\u001b[0m\u001b[0mcustomer_id\u001b[0m\u001b[1;33m=\u001b[0m\u001b[0mhvc_so0\u001b[0m\u001b[1;33m.\u001b[0m\u001b[0miloc\u001b[0m\u001b[1;33m[\u001b[0m\u001b[0mi\u001b[0m\u001b[1;33m,\u001b[0m\u001b[1;36m0\u001b[0m\u001b[1;33m]\u001b[0m\u001b[1;33m)\u001b[0m\u001b[1;33m\u001b[0m\u001b[1;33m\u001b[0m\u001b[0m\n\u001b[0m\u001b[0;32m      7\u001b[0m     \u001b[1;32mtry\u001b[0m\u001b[1;33m:\u001b[0m\u001b[1;33m\u001b[0m\u001b[1;33m\u001b[0m\u001b[0m\n\u001b[0;32m      8\u001b[0m         \u001b[1;31m#checking with thresholds\u001b[0m\u001b[1;33m\u001b[0m\u001b[1;33m\u001b[0m\u001b[1;33m\u001b[0m\u001b[0m\n",
      "\u001b[1;31mNameError\u001b[0m: name 'get_regression_sales_info' is not defined"
     ]
    }
   ],
   "source": [
    "#getting a list of leaving customers\n",
    "leaving_customers = []\n",
    "\n",
    "for i in range(len(hvc_so0)):\n",
    "    #getting the neccesary information \n",
    "    info_regression = get_regression_sales_info(customer_id=hvc_so0.iloc[i,0])\n",
    "    try:\n",
    "        #checking with thresholds\n",
    "        if ((info_regression[0] > threshold_r_sq) and (info_regression[2] < threshold_slope)):\n",
    "            leaving_customers.append(hvc_so0.iloc[i,0])    \n",
    "        #if no sales records in 2020\n",
    "        elif (info_regression == [1.0, 0.0,-1.0]):\n",
    "            leaving_customers.append(hcv_so0.iloc[i,0])\n",
    "        \n",
    "    except TypeError:\n",
    "        print(\"TypeError\")"
   ]
  },
  {
   "cell_type": "code",
   "execution_count": null,
   "id": "ac5f14e2",
   "metadata": {},
   "outputs": [],
   "source": [
    "leaving_customers"
   ]
  },
  {
   "cell_type": "markdown",
   "id": "a19ac75f",
   "metadata": {},
   "source": [
    "## 3.7 Do customers have different buying patterns during the weekend?"
   ]
  },
  {
   "cell_type": "code",
   "execution_count": null,
   "id": "a6a7f6a0",
   "metadata": {},
   "outputs": [],
   "source": [
    "hvc_hvdayofweek"
   ]
  },
  {
   "cell_type": "code",
   "execution_count": 42,
   "id": "73d9408b",
   "metadata": {
    "scrolled": true
   },
   "outputs": [
    {
     "data": {
      "text/html": [
       "<div>\n",
       "<style scoped>\n",
       "    .dataframe tbody tr th:only-of-type {\n",
       "        vertical-align: middle;\n",
       "    }\n",
       "\n",
       "    .dataframe tbody tr th {\n",
       "        vertical-align: top;\n",
       "    }\n",
       "\n",
       "    .dataframe thead th {\n",
       "        text-align: right;\n",
       "    }\n",
       "</style>\n",
       "<table border=\"1\" class=\"dataframe\">\n",
       "  <thead>\n",
       "    <tr style=\"text-align: right;\">\n",
       "      <th></th>\n",
       "      <th>HVVISITRESULT_NRID</th>\n",
       "      <th>SO0_NRID</th>\n",
       "      <th>AM0_NRID</th>\n",
       "      <th>HVOUTCOME_NRID</th>\n",
       "      <th>VISITDATE</th>\n",
       "      <th>DATEONLY</th>\n",
       "      <th>AMOUNT</th>\n",
       "      <th>PAYMENTTERM</th>\n",
       "      <th>HVROUTETEMPLATE_NRID</th>\n",
       "      <th>CUST_TYPE</th>\n",
       "      <th>POSTCODE</th>\n",
       "      <th>LANGUAGE</th>\n",
       "      <th>SEASON_TYPE</th>\n",
       "      <th>REGION</th>\n",
       "      <th>WEEKORDER</th>\n",
       "      <th>HVDAYOFWEEK_NRID</th>\n",
       "    </tr>\n",
       "  </thead>\n",
       "  <tbody>\n",
       "    <tr>\n",
       "      <th>49061</th>\n",
       "      <td>73404793</td>\n",
       "      <td>718700</td>\n",
       "      <td>25146868694050</td>\n",
       "      <td>2</td>\n",
       "      <td>2021-10-24 12:58:56</td>\n",
       "      <td>2020-12-12</td>\n",
       "      <td>8.4</td>\n",
       "      <td>cash</td>\n",
       "      <td>219018687</td>\n",
       "      <td>Private</td>\n",
       "      <td>3950</td>\n",
       "      <td>nl-BE</td>\n",
       "      <td>All time</td>\n",
       "      <td>C04</td>\n",
       "      <td>1</td>\n",
       "      <td>Maandag</td>\n",
       "    </tr>\n",
       "    <tr>\n",
       "      <th>55601</th>\n",
       "      <td>60834005</td>\n",
       "      <td>1399136</td>\n",
       "      <td>24034952445848</td>\n",
       "      <td>2</td>\n",
       "      <td>2021-10-24 16:00:53</td>\n",
       "      <td>2019-10-12</td>\n",
       "      <td>8.0</td>\n",
       "      <td>cash</td>\n",
       "      <td>289660604</td>\n",
       "      <td>Private</td>\n",
       "      <td>3500</td>\n",
       "      <td>nl-BE</td>\n",
       "      <td>All time</td>\n",
       "      <td>C17</td>\n",
       "      <td>2</td>\n",
       "      <td>Maandag</td>\n",
       "    </tr>\n",
       "    <tr>\n",
       "      <th>55600</th>\n",
       "      <td>57898805</td>\n",
       "      <td>1399136</td>\n",
       "      <td>20126680425436</td>\n",
       "      <td>2</td>\n",
       "      <td>2021-10-24 13:42:38</td>\n",
       "      <td>2019-07-06</td>\n",
       "      <td>9.7</td>\n",
       "      <td>cash</td>\n",
       "      <td>289660604</td>\n",
       "      <td>Private</td>\n",
       "      <td>3500</td>\n",
       "      <td>nl-BE</td>\n",
       "      <td>All time</td>\n",
       "      <td>C17</td>\n",
       "      <td>2</td>\n",
       "      <td>Maandag</td>\n",
       "    </tr>\n",
       "    <tr>\n",
       "      <th>55599</th>\n",
       "      <td>57363952</td>\n",
       "      <td>1399136</td>\n",
       "      <td>20126680425436</td>\n",
       "      <td>2</td>\n",
       "      <td>2021-10-24 12:46:30</td>\n",
       "      <td>2019-06-22</td>\n",
       "      <td>19.1</td>\n",
       "      <td>cash</td>\n",
       "      <td>289660604</td>\n",
       "      <td>Private</td>\n",
       "      <td>3500</td>\n",
       "      <td>nl-BE</td>\n",
       "      <td>All time</td>\n",
       "      <td>C17</td>\n",
       "      <td>2</td>\n",
       "      <td>Maandag</td>\n",
       "    </tr>\n",
       "    <tr>\n",
       "      <th>55598</th>\n",
       "      <td>53599196</td>\n",
       "      <td>1399136</td>\n",
       "      <td>20126680425436</td>\n",
       "      <td>2</td>\n",
       "      <td>2021-10-24 16:41:30</td>\n",
       "      <td>2019-03-02</td>\n",
       "      <td>5.3</td>\n",
       "      <td>cash</td>\n",
       "      <td>289660604</td>\n",
       "      <td>Private</td>\n",
       "      <td>3500</td>\n",
       "      <td>nl-BE</td>\n",
       "      <td>All time</td>\n",
       "      <td>C17</td>\n",
       "      <td>2</td>\n",
       "      <td>Maandag</td>\n",
       "    </tr>\n",
       "    <tr>\n",
       "      <th>...</th>\n",
       "      <td>...</td>\n",
       "      <td>...</td>\n",
       "      <td>...</td>\n",
       "      <td>...</td>\n",
       "      <td>...</td>\n",
       "      <td>...</td>\n",
       "      <td>...</td>\n",
       "      <td>...</td>\n",
       "      <td>...</td>\n",
       "      <td>...</td>\n",
       "      <td>...</td>\n",
       "      <td>...</td>\n",
       "      <td>...</td>\n",
       "      <td>...</td>\n",
       "      <td>...</td>\n",
       "      <td>...</td>\n",
       "    </tr>\n",
       "    <tr>\n",
       "      <th>31951</th>\n",
       "      <td>69370261</td>\n",
       "      <td>1455168</td>\n",
       "      <td>19946584592834</td>\n",
       "      <td>2</td>\n",
       "      <td>2021-10-24 14:22:19</td>\n",
       "      <td>2020-07-22</td>\n",
       "      <td>7.3</td>\n",
       "      <td>cash</td>\n",
       "      <td>289764486</td>\n",
       "      <td>Private</td>\n",
       "      <td>3680</td>\n",
       "      <td>nl-BE</td>\n",
       "      <td>All time</td>\n",
       "      <td>B25</td>\n",
       "      <td>2</td>\n",
       "      <td>Vrijdag</td>\n",
       "    </tr>\n",
       "    <tr>\n",
       "      <th>31950</th>\n",
       "      <td>68964787</td>\n",
       "      <td>1455168</td>\n",
       "      <td>19946584592834</td>\n",
       "      <td>2</td>\n",
       "      <td>2021-10-24 14:52:52</td>\n",
       "      <td>2020-07-08</td>\n",
       "      <td>7.3</td>\n",
       "      <td>cash</td>\n",
       "      <td>289764486</td>\n",
       "      <td>Private</td>\n",
       "      <td>3680</td>\n",
       "      <td>nl-BE</td>\n",
       "      <td>All time</td>\n",
       "      <td>B25</td>\n",
       "      <td>2</td>\n",
       "      <td>Vrijdag</td>\n",
       "    </tr>\n",
       "    <tr>\n",
       "      <th>31949</th>\n",
       "      <td>66116592</td>\n",
       "      <td>1455168</td>\n",
       "      <td>24871084536436</td>\n",
       "      <td>2</td>\n",
       "      <td>2021-10-24 14:38:23</td>\n",
       "      <td>2020-04-15</td>\n",
       "      <td>14.8</td>\n",
       "      <td>cash</td>\n",
       "      <td>289764486</td>\n",
       "      <td>Private</td>\n",
       "      <td>3680</td>\n",
       "      <td>nl-BE</td>\n",
       "      <td>All time</td>\n",
       "      <td>B25</td>\n",
       "      <td>2</td>\n",
       "      <td>Vrijdag</td>\n",
       "    </tr>\n",
       "    <tr>\n",
       "      <th>31947</th>\n",
       "      <td>66992177</td>\n",
       "      <td>1455168</td>\n",
       "      <td>19946584592834</td>\n",
       "      <td>2</td>\n",
       "      <td>2021-10-24 15:28:48</td>\n",
       "      <td>2020-05-13</td>\n",
       "      <td>7.4</td>\n",
       "      <td>cash</td>\n",
       "      <td>289764486</td>\n",
       "      <td>Private</td>\n",
       "      <td>3680</td>\n",
       "      <td>nl-BE</td>\n",
       "      <td>All time</td>\n",
       "      <td>B25</td>\n",
       "      <td>2</td>\n",
       "      <td>Vrijdag</td>\n",
       "    </tr>\n",
       "    <tr>\n",
       "      <th>50817</th>\n",
       "      <td>69624168</td>\n",
       "      <td>1247502</td>\n",
       "      <td>18934048107254</td>\n",
       "      <td>2</td>\n",
       "      <td>2021-10-24 20:42:20</td>\n",
       "      <td>2020-07-29</td>\n",
       "      <td>9.5</td>\n",
       "      <td>cash</td>\n",
       "      <td>289414945</td>\n",
       "      <td>Private</td>\n",
       "      <td>3582</td>\n",
       "      <td>nl-BE</td>\n",
       "      <td>All time</td>\n",
       "      <td>B02</td>\n",
       "      <td>1</td>\n",
       "      <td>Vrijdag</td>\n",
       "    </tr>\n",
       "  </tbody>\n",
       "</table>\n",
       "<p>61247 rows × 16 columns</p>\n",
       "</div>"
      ],
      "text/plain": [
       "       HVVISITRESULT_NRID  SO0_NRID        AM0_NRID  HVOUTCOME_NRID  \\\n",
       "49061            73404793    718700  25146868694050               2   \n",
       "55601            60834005   1399136  24034952445848               2   \n",
       "55600            57898805   1399136  20126680425436               2   \n",
       "55599            57363952   1399136  20126680425436               2   \n",
       "55598            53599196   1399136  20126680425436               2   \n",
       "...                   ...       ...             ...             ...   \n",
       "31951            69370261   1455168  19946584592834               2   \n",
       "31950            68964787   1455168  19946584592834               2   \n",
       "31949            66116592   1455168  24871084536436               2   \n",
       "31947            66992177   1455168  19946584592834               2   \n",
       "50817            69624168   1247502  18934048107254               2   \n",
       "\n",
       "                VISITDATE   DATEONLY  AMOUNT PAYMENTTERM  \\\n",
       "49061 2021-10-24 12:58:56 2020-12-12     8.4        cash   \n",
       "55601 2021-10-24 16:00:53 2019-10-12     8.0        cash   \n",
       "55600 2021-10-24 13:42:38 2019-07-06     9.7        cash   \n",
       "55599 2021-10-24 12:46:30 2019-06-22    19.1        cash   \n",
       "55598 2021-10-24 16:41:30 2019-03-02     5.3        cash   \n",
       "...                   ...        ...     ...         ...   \n",
       "31951 2021-10-24 14:22:19 2020-07-22     7.3        cash   \n",
       "31950 2021-10-24 14:52:52 2020-07-08     7.3        cash   \n",
       "31949 2021-10-24 14:38:23 2020-04-15    14.8        cash   \n",
       "31947 2021-10-24 15:28:48 2020-05-13     7.4        cash   \n",
       "50817 2021-10-24 20:42:20 2020-07-29     9.5        cash   \n",
       "\n",
       "       HVROUTETEMPLATE_NRID CUST_TYPE  POSTCODE LANGUAGE SEASON_TYPE REGION  \\\n",
       "49061             219018687   Private      3950    nl-BE    All time    C04   \n",
       "55601             289660604   Private      3500    nl-BE    All time    C17   \n",
       "55600             289660604   Private      3500    nl-BE    All time    C17   \n",
       "55599             289660604   Private      3500    nl-BE    All time    C17   \n",
       "55598             289660604   Private      3500    nl-BE    All time    C17   \n",
       "...                     ...       ...       ...      ...         ...    ...   \n",
       "31951             289764486   Private      3680    nl-BE    All time    B25   \n",
       "31950             289764486   Private      3680    nl-BE    All time    B25   \n",
       "31949             289764486   Private      3680    nl-BE    All time    B25   \n",
       "31947             289764486   Private      3680    nl-BE    All time    B25   \n",
       "50817             289414945   Private      3582    nl-BE    All time    B02   \n",
       "\n",
       "       WEEKORDER HVDAYOFWEEK_NRID  \n",
       "49061          1          Maandag  \n",
       "55601          2          Maandag  \n",
       "55600          2          Maandag  \n",
       "55599          2          Maandag  \n",
       "55598          2          Maandag  \n",
       "...          ...              ...  \n",
       "31951          2          Vrijdag  \n",
       "31950          2          Vrijdag  \n",
       "31949          2          Vrijdag  \n",
       "31947          2          Vrijdag  \n",
       "50817          1          Vrijdag  \n",
       "\n",
       "[61247 rows x 16 columns]"
      ]
     },
     "execution_count": 42,
     "metadata": {},
     "output_type": "execute_result"
    }
   ],
   "source": [
    "#replacing numbers by the days\n",
    "transactions_with_days = transactions.merge(hvc_hvroutetemplate,on=\"HVROUTETEMPLATE_NRID\",how=\"inner\")\n",
    "\n",
    "#sorting transactions\n",
    "transactions_with_days = transactions_with_days.sort_values(by='HVDAYOFWEEK_NRID')\n",
    "\n",
    "#replacing numbers with days\n",
    "transactions_with_days[\"HVDAYOFWEEK_NRID\"].replace({1 : \"Zondag\", 2 : \"Maandag\",  3 : \"Dinsdag\", 4: \"Woensdag\", 5 : \"Donderdag\" , 6: \"Vrijdag\", 7 : \"Zaterdag\" }, inplace=True)\n",
    "\n",
    "transactions_with_days\n",
    "\n",
    "\n"
   ]
  },
  {
   "cell_type": "code",
   "execution_count": 47,
   "id": "badeae78",
   "metadata": {},
   "outputs": [
    {
     "data": {
      "text/plain": [
       "Woensdag     13994\n",
       "Dinsdag      13678\n",
       "Donderdag    12693\n",
       "Vrijdag      11774\n",
       "Maandag       9108\n",
       "Name: HVDAYOFWEEK_NRID, dtype: int64"
      ]
     },
     "execution_count": 47,
     "metadata": {},
     "output_type": "execute_result"
    }
   ],
   "source": [
    "# get the counts for days of week\n",
    "transactions_with_days[\"HVDAYOFWEEK_NRID\"].value_counts()"
   ]
  },
  {
   "cell_type": "code",
   "execution_count": 45,
   "id": "b51aa027",
   "metadata": {},
   "outputs": [
    {
     "data": {
      "image/png": "[encoded data removed]",
      "text/plain": [
       "<Figure size 432x288 with 1 Axes>"
      ]
     },
     "metadata": {},
     "output_type": "display_data"
    }
   ],
   "source": [
    "#Boxplot \n",
    "sns.set_style('darkgrid')\n",
    "sns.set_palette('Set2')\n",
    "plt.title('Sales by Day')\n",
    "sns.boxplot(data=transactions_with_days, x='HVDAYOFWEEK_NRID', y='AMOUNT', hue=\"CUST_TYPE\")\n",
    "plt.xlabel('')\n",
    "plt.ylabel('AMOUNT')\n",
    "plt.show()\n"
   ]
  },
  {
   "cell_type": "markdown",
   "id": "be637cca",
   "metadata": {},
   "source": [
    "## 3.8 Do customer sales differ across different cities? Is there a relationship between customer  sales and average income per inhabitant (and other factors)?"
   ]
  },
  {
   "cell_type": "code",
   "execution_count": null,
   "id": "3e642fbf",
   "metadata": {},
   "outputs": [],
   "source": [
    "## Initialize\n",
    "def change_postcode_customer(cust_id):\n",
    "    # get index of customer\n",
    "    index = cust_pos_postcodes_df[cust_pos_postcodes_df['SO0_NRID']==cust_id].index.values.astype(int)[0]\n",
    "    index_so0 = hvc_so0[hvc_so0['SO0_NRID']==cust_id].index.values.astype(int)[0]\n",
    "    # get long and lat from customer\n",
    "    cust_long = float(cust_pos_postcodes_df[\"LONG_x\"].iloc[index])\n",
    "    cust_lat = float(cust_pos_postcodes_df[\"LAT_x\"].iloc[index])\n",
    "    \n",
    "    closest_city = None\n",
    "    closest_dist = 10000000\n",
    "    \n",
    "    for i in range(len(postcodes_df)):\n",
    "        city_name = postcodes_df[\"LOCATION\"].iloc[i]\n",
    "        city_long = float(postcodes_df[\"LONG\"].iloc[i])\n",
    "        city_lat = float(postcodes_df[\"LAT\"].iloc[i])\n",
    "        \n",
    "        city=(city_lat, city_long)\n",
    "        cust=(cust_lat, cust_long)\n",
    "        \n",
    "        dist = hs.haversine(city,cust)\n",
    "        if dist < closest_dist:\n",
    "            closest_city = city_name\n",
    "            closest_dist = dist\n",
    "    \n",
    "    city_postcode = postcodes_df[postcodes_df[\"LOCATION\"] == closest_city][\"POSTCODE\"]\n",
    "    hvc_so0.at[index_so0, 'POSTCODE'] = city_postcode\n",
    "    \n",
    "    \n"
   ]
  },
  {
   "cell_type": "code",
   "execution_count": null,
   "id": "25f7d818",
   "metadata": {},
   "outputs": [],
   "source": [
    "def change_postcode_customer(cust_id):\n",
    "    # get index of customer\n",
    "    index = cust_pos_postcodes_df[cust_pos_postcodes_df['SO0_NRID']==cust_id].index.values.astype(int)[0]\n",
    "    index_so0 = hvc_so0[hvc_so0['SO0_NRID']==cust_id].index.values.astype(int)[0]\n",
    "    # get long and lat from customer\n",
    "    cust_long = float(cust_pos_postcodes_df[\"LONG_x\"].iloc[index])\n",
    "    cust_lat = float(cust_pos_postcodes_df[\"LAT_x\"].iloc[index])\n",
    "    \n",
    "    closest_city = None\n",
    "    closest_dist = 10000000\n",
    "    \n",
    "    for i in range(len(postcodes_df)):\n",
    "        city_name = postcodes_df[\"LOCATION\"].iloc[i]\n",
    "        city_long = float(postcodes_df[\"LONG\"].iloc[i])\n",
    "        city_lat = float(postcodes_df[\"LAT\"].iloc[i])\n",
    "        \n",
    "        city=(city_lat, city_long)\n",
    "        cust=(cust_lat, cust_long)\n",
    "        \n",
    "        dist = hs.haversine(city,cust)\n",
    "        if dist < closest_dist:\n",
    "            closest_city = city_name\n",
    "            closest_dist = dist\n",
    "    \n",
    "    city_postcode = postcodes_df[postcodes_df[\"LOCATION\"] == closest_city][\"POSTCODE\"]\n",
    "    hvc_so0.at[index_so0, 'POSTCODE'] = city_postcode\n",
    "    "
   ]
  },
  {
   "cell_type": "code",
   "execution_count": null,
   "id": "8a6ae1a5",
   "metadata": {},
   "outputs": [],
   "source": [
    "Regressie model maken"
   ]
  }
 ],
 "metadata": {
  "kernelspec": {
   "display_name": "Python 3 (ipykernel)",
   "language": "python",
   "name": "python3"
  },
  "language_info": {
   "codemirror_mode": {
    "name": "ipython",
    "version": 3
   },
   "file_extension": ".py",
   "mimetype": "text/x-python",
   "name": "python",
   "nbconvert_exporter": "python",
   "pygments_lexer": "ipython3",
   "version": "3.9.7"
  }
 },
 "nbformat": 4,
 "nbformat_minor": 5
}
