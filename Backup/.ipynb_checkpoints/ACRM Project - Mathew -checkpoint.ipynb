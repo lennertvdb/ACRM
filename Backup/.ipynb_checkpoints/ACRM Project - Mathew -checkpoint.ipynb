{
 "cells": [
  {
   "cell_type": "markdown",
   "id": "b0398d9f",
   "metadata": {},
   "source": [
    "# ACRM Project"
   ]
  },
  {
   "cell_type": "code",
   "execution_count": 1,
   "id": "79aa6f12",
   "metadata": {},
   "outputs": [],
   "source": [
    "# import the packages\n",
    "import pandas as pd\n",
    "import numpy as np\n",
    "\n",
    "import datetime\n",
    "import matplotlib.pyplot as plt\n",
    "import geopandas as gpd\n",
    "import math\n",
    "from pyproj import Proj, transform"
   ]
  },
  {
   "cell_type": "markdown",
   "id": "9c7e93a2",
   "metadata": {},
   "source": [
    "# 1. Import Data"
   ]
  },
  {
   "cell_type": "code",
   "execution_count": 2,
   "id": "daab3af0",
   "metadata": {},
   "outputs": [
    {
     "ename": "FileNotFoundError",
     "evalue": "[Errno 2] No such file or directory: '../ACRM-GROUP-13/data/HVC_AM0.csv'",
     "output_type": "error",
     "traceback": [
      "\u001b[0;31m---------------------------------------------------------------------------\u001b[0m",
      "\u001b[0;31mFileNotFoundError\u001b[0m                         Traceback (most recent call last)",
      "\u001b[0;32m<ipython-input-2-3a3bcebad911>\u001b[0m in \u001b[0;36m<module>\u001b[0;34m\u001b[0m\n\u001b[1;32m      1\u001b[0m \u001b[0;31m# import the data into pandas dataframes\u001b[0m\u001b[0;34m\u001b[0m\u001b[0;34m\u001b[0m\u001b[0;34m\u001b[0m\u001b[0m\n\u001b[0;32m----> 2\u001b[0;31m \u001b[0mhvc_am0\u001b[0m \u001b[0;34m=\u001b[0m \u001b[0mpd\u001b[0m\u001b[0;34m.\u001b[0m\u001b[0mread_csv\u001b[0m\u001b[0;34m(\u001b[0m\u001b[0;34m\"../ACRM-GROUP-13/data/HVC_AM0.csv\"\u001b[0m\u001b[0;34m,\u001b[0m \u001b[0msep\u001b[0m\u001b[0;34m=\u001b[0m\u001b[0;34m\";\"\u001b[0m\u001b[0;34m)\u001b[0m\u001b[0;34m\u001b[0m\u001b[0;34m\u001b[0m\u001b[0m\n\u001b[0m\u001b[1;32m      3\u001b[0m \u001b[0mhvc_ar0\u001b[0m \u001b[0;34m=\u001b[0m \u001b[0mpd\u001b[0m\u001b[0;34m.\u001b[0m\u001b[0mread_csv\u001b[0m\u001b[0;34m(\u001b[0m\u001b[0;34m\"../ACRM-GROUP-13/data/HVC_AR0.csv\"\u001b[0m\u001b[0;34m,\u001b[0m \u001b[0msep\u001b[0m\u001b[0;34m=\u001b[0m\u001b[0;34m\";\"\u001b[0m\u001b[0;34m)\u001b[0m\u001b[0;34m\u001b[0m\u001b[0;34m\u001b[0m\u001b[0m\n\u001b[1;32m      4\u001b[0m \u001b[0mhvc_customer_reviews\u001b[0m \u001b[0;34m=\u001b[0m \u001b[0mpd\u001b[0m\u001b[0;34m.\u001b[0m\u001b[0mread_csv\u001b[0m\u001b[0;34m(\u001b[0m\u001b[0;34m\"../ACRM-GROUP-13/data/HVC_CUSTOMER_REVIEWS.csv\"\u001b[0m\u001b[0;34m,\u001b[0m \u001b[0msep\u001b[0m\u001b[0;34m=\u001b[0m\u001b[0;34m\";\"\u001b[0m\u001b[0;34m)\u001b[0m\u001b[0;34m\u001b[0m\u001b[0;34m\u001b[0m\u001b[0m\n\u001b[1;32m      5\u001b[0m \u001b[0mhvc_depot\u001b[0m \u001b[0;34m=\u001b[0m \u001b[0mpd\u001b[0m\u001b[0;34m.\u001b[0m\u001b[0mread_csv\u001b[0m\u001b[0;34m(\u001b[0m\u001b[0;34m\"../ACRM-GROUP-13/data/HVC_DEPOT.csv\"\u001b[0m\u001b[0;34m,\u001b[0m \u001b[0msep\u001b[0m\u001b[0;34m=\u001b[0m\u001b[0;34m\";\"\u001b[0m\u001b[0;34m)\u001b[0m\u001b[0;34m\u001b[0m\u001b[0;34m\u001b[0m\u001b[0m\n",
      "\u001b[0;32m~/opt/anaconda3/lib/python3.8/site-packages/pandas/io/parsers.py\u001b[0m in \u001b[0;36mread_csv\u001b[0;34m(filepath_or_buffer, sep, delimiter, header, names, index_col, usecols, squeeze, prefix, mangle_dupe_cols, dtype, engine, converters, true_values, false_values, skipinitialspace, skiprows, skipfooter, nrows, na_values, keep_default_na, na_filter, verbose, skip_blank_lines, parse_dates, infer_datetime_format, keep_date_col, date_parser, dayfirst, cache_dates, iterator, chunksize, compression, thousands, decimal, lineterminator, quotechar, quoting, doublequote, escapechar, comment, encoding, dialect, error_bad_lines, warn_bad_lines, delim_whitespace, low_memory, memory_map, float_precision, storage_options)\u001b[0m\n\u001b[1;32m    608\u001b[0m     \u001b[0mkwds\u001b[0m\u001b[0;34m.\u001b[0m\u001b[0mupdate\u001b[0m\u001b[0;34m(\u001b[0m\u001b[0mkwds_defaults\u001b[0m\u001b[0;34m)\u001b[0m\u001b[0;34m\u001b[0m\u001b[0;34m\u001b[0m\u001b[0m\n\u001b[1;32m    609\u001b[0m \u001b[0;34m\u001b[0m\u001b[0m\n\u001b[0;32m--> 610\u001b[0;31m     \u001b[0;32mreturn\u001b[0m \u001b[0m_read\u001b[0m\u001b[0;34m(\u001b[0m\u001b[0mfilepath_or_buffer\u001b[0m\u001b[0;34m,\u001b[0m \u001b[0mkwds\u001b[0m\u001b[0;34m)\u001b[0m\u001b[0;34m\u001b[0m\u001b[0;34m\u001b[0m\u001b[0m\n\u001b[0m\u001b[1;32m    611\u001b[0m \u001b[0;34m\u001b[0m\u001b[0m\n\u001b[1;32m    612\u001b[0m \u001b[0;34m\u001b[0m\u001b[0m\n",
      "\u001b[0;32m~/opt/anaconda3/lib/python3.8/site-packages/pandas/io/parsers.py\u001b[0m in \u001b[0;36m_read\u001b[0;34m(filepath_or_buffer, kwds)\u001b[0m\n\u001b[1;32m    460\u001b[0m \u001b[0;34m\u001b[0m\u001b[0m\n\u001b[1;32m    461\u001b[0m     \u001b[0;31m# Create the parser.\u001b[0m\u001b[0;34m\u001b[0m\u001b[0;34m\u001b[0m\u001b[0;34m\u001b[0m\u001b[0m\n\u001b[0;32m--> 462\u001b[0;31m     \u001b[0mparser\u001b[0m \u001b[0;34m=\u001b[0m \u001b[0mTextFileReader\u001b[0m\u001b[0;34m(\u001b[0m\u001b[0mfilepath_or_buffer\u001b[0m\u001b[0;34m,\u001b[0m \u001b[0;34m**\u001b[0m\u001b[0mkwds\u001b[0m\u001b[0;34m)\u001b[0m\u001b[0;34m\u001b[0m\u001b[0;34m\u001b[0m\u001b[0m\n\u001b[0m\u001b[1;32m    463\u001b[0m \u001b[0;34m\u001b[0m\u001b[0m\n\u001b[1;32m    464\u001b[0m     \u001b[0;32mif\u001b[0m \u001b[0mchunksize\u001b[0m \u001b[0;32mor\u001b[0m \u001b[0miterator\u001b[0m\u001b[0;34m:\u001b[0m\u001b[0;34m\u001b[0m\u001b[0;34m\u001b[0m\u001b[0m\n",
      "\u001b[0;32m~/opt/anaconda3/lib/python3.8/site-packages/pandas/io/parsers.py\u001b[0m in \u001b[0;36m__init__\u001b[0;34m(self, f, engine, **kwds)\u001b[0m\n\u001b[1;32m    817\u001b[0m             \u001b[0mself\u001b[0m\u001b[0;34m.\u001b[0m\u001b[0moptions\u001b[0m\u001b[0;34m[\u001b[0m\u001b[0;34m\"has_index_names\"\u001b[0m\u001b[0;34m]\u001b[0m \u001b[0;34m=\u001b[0m \u001b[0mkwds\u001b[0m\u001b[0;34m[\u001b[0m\u001b[0;34m\"has_index_names\"\u001b[0m\u001b[0;34m]\u001b[0m\u001b[0;34m\u001b[0m\u001b[0;34m\u001b[0m\u001b[0m\n\u001b[1;32m    818\u001b[0m \u001b[0;34m\u001b[0m\u001b[0m\n\u001b[0;32m--> 819\u001b[0;31m         \u001b[0mself\u001b[0m\u001b[0;34m.\u001b[0m\u001b[0m_engine\u001b[0m \u001b[0;34m=\u001b[0m \u001b[0mself\u001b[0m\u001b[0;34m.\u001b[0m\u001b[0m_make_engine\u001b[0m\u001b[0;34m(\u001b[0m\u001b[0mself\u001b[0m\u001b[0;34m.\u001b[0m\u001b[0mengine\u001b[0m\u001b[0;34m)\u001b[0m\u001b[0;34m\u001b[0m\u001b[0;34m\u001b[0m\u001b[0m\n\u001b[0m\u001b[1;32m    820\u001b[0m \u001b[0;34m\u001b[0m\u001b[0m\n\u001b[1;32m    821\u001b[0m     \u001b[0;32mdef\u001b[0m \u001b[0mclose\u001b[0m\u001b[0;34m(\u001b[0m\u001b[0mself\u001b[0m\u001b[0;34m)\u001b[0m\u001b[0;34m:\u001b[0m\u001b[0;34m\u001b[0m\u001b[0;34m\u001b[0m\u001b[0m\n",
      "\u001b[0;32m~/opt/anaconda3/lib/python3.8/site-packages/pandas/io/parsers.py\u001b[0m in \u001b[0;36m_make_engine\u001b[0;34m(self, engine)\u001b[0m\n\u001b[1;32m   1048\u001b[0m             )\n\u001b[1;32m   1049\u001b[0m         \u001b[0;31m# error: Too many arguments for \"ParserBase\"\u001b[0m\u001b[0;34m\u001b[0m\u001b[0;34m\u001b[0m\u001b[0;34m\u001b[0m\u001b[0m\n\u001b[0;32m-> 1050\u001b[0;31m         \u001b[0;32mreturn\u001b[0m \u001b[0mmapping\u001b[0m\u001b[0;34m[\u001b[0m\u001b[0mengine\u001b[0m\u001b[0;34m]\u001b[0m\u001b[0;34m(\u001b[0m\u001b[0mself\u001b[0m\u001b[0;34m.\u001b[0m\u001b[0mf\u001b[0m\u001b[0;34m,\u001b[0m \u001b[0;34m**\u001b[0m\u001b[0mself\u001b[0m\u001b[0;34m.\u001b[0m\u001b[0moptions\u001b[0m\u001b[0;34m)\u001b[0m  \u001b[0;31m# type: ignore[call-arg]\u001b[0m\u001b[0;34m\u001b[0m\u001b[0;34m\u001b[0m\u001b[0m\n\u001b[0m\u001b[1;32m   1051\u001b[0m \u001b[0;34m\u001b[0m\u001b[0m\n\u001b[1;32m   1052\u001b[0m     \u001b[0;32mdef\u001b[0m \u001b[0m_failover_to_python\u001b[0m\u001b[0;34m(\u001b[0m\u001b[0mself\u001b[0m\u001b[0;34m)\u001b[0m\u001b[0;34m:\u001b[0m\u001b[0;34m\u001b[0m\u001b[0;34m\u001b[0m\u001b[0m\n",
      "\u001b[0;32m~/opt/anaconda3/lib/python3.8/site-packages/pandas/io/parsers.py\u001b[0m in \u001b[0;36m__init__\u001b[0;34m(self, src, **kwds)\u001b[0m\n\u001b[1;32m   1865\u001b[0m \u001b[0;34m\u001b[0m\u001b[0m\n\u001b[1;32m   1866\u001b[0m         \u001b[0;31m# open handles\u001b[0m\u001b[0;34m\u001b[0m\u001b[0;34m\u001b[0m\u001b[0;34m\u001b[0m\u001b[0m\n\u001b[0;32m-> 1867\u001b[0;31m         \u001b[0mself\u001b[0m\u001b[0;34m.\u001b[0m\u001b[0m_open_handles\u001b[0m\u001b[0;34m(\u001b[0m\u001b[0msrc\u001b[0m\u001b[0;34m,\u001b[0m \u001b[0mkwds\u001b[0m\u001b[0;34m)\u001b[0m\u001b[0;34m\u001b[0m\u001b[0;34m\u001b[0m\u001b[0m\n\u001b[0m\u001b[1;32m   1868\u001b[0m         \u001b[0;32massert\u001b[0m \u001b[0mself\u001b[0m\u001b[0;34m.\u001b[0m\u001b[0mhandles\u001b[0m \u001b[0;32mis\u001b[0m \u001b[0;32mnot\u001b[0m \u001b[0;32mNone\u001b[0m\u001b[0;34m\u001b[0m\u001b[0;34m\u001b[0m\u001b[0m\n\u001b[1;32m   1869\u001b[0m         \u001b[0;32mfor\u001b[0m \u001b[0mkey\u001b[0m \u001b[0;32min\u001b[0m \u001b[0;34m(\u001b[0m\u001b[0;34m\"storage_options\"\u001b[0m\u001b[0;34m,\u001b[0m \u001b[0;34m\"encoding\"\u001b[0m\u001b[0;34m,\u001b[0m \u001b[0;34m\"memory_map\"\u001b[0m\u001b[0;34m,\u001b[0m \u001b[0;34m\"compression\"\u001b[0m\u001b[0;34m)\u001b[0m\u001b[0;34m:\u001b[0m\u001b[0;34m\u001b[0m\u001b[0;34m\u001b[0m\u001b[0m\n",
      "\u001b[0;32m~/opt/anaconda3/lib/python3.8/site-packages/pandas/io/parsers.py\u001b[0m in \u001b[0;36m_open_handles\u001b[0;34m(self, src, kwds)\u001b[0m\n\u001b[1;32m   1360\u001b[0m         \u001b[0mLet\u001b[0m \u001b[0mthe\u001b[0m \u001b[0mreaders\u001b[0m \u001b[0mopen\u001b[0m \u001b[0mIOHanldes\u001b[0m \u001b[0mafter\u001b[0m \u001b[0mthey\u001b[0m \u001b[0mare\u001b[0m \u001b[0mdone\u001b[0m \u001b[0;32mwith\u001b[0m \u001b[0mtheir\u001b[0m \u001b[0mpotential\u001b[0m \u001b[0mraises\u001b[0m\u001b[0;34m.\u001b[0m\u001b[0;34m\u001b[0m\u001b[0;34m\u001b[0m\u001b[0m\n\u001b[1;32m   1361\u001b[0m         \"\"\"\n\u001b[0;32m-> 1362\u001b[0;31m         self.handles = get_handle(\n\u001b[0m\u001b[1;32m   1363\u001b[0m             \u001b[0msrc\u001b[0m\u001b[0;34m,\u001b[0m\u001b[0;34m\u001b[0m\u001b[0;34m\u001b[0m\u001b[0m\n\u001b[1;32m   1364\u001b[0m             \u001b[0;34m\"r\"\u001b[0m\u001b[0;34m,\u001b[0m\u001b[0;34m\u001b[0m\u001b[0;34m\u001b[0m\u001b[0m\n",
      "\u001b[0;32m~/opt/anaconda3/lib/python3.8/site-packages/pandas/io/common.py\u001b[0m in \u001b[0;36mget_handle\u001b[0;34m(path_or_buf, mode, encoding, compression, memory_map, is_text, errors, storage_options)\u001b[0m\n\u001b[1;32m    640\u001b[0m                 \u001b[0merrors\u001b[0m \u001b[0;34m=\u001b[0m \u001b[0;34m\"replace\"\u001b[0m\u001b[0;34m\u001b[0m\u001b[0;34m\u001b[0m\u001b[0m\n\u001b[1;32m    641\u001b[0m             \u001b[0;31m# Encoding\u001b[0m\u001b[0;34m\u001b[0m\u001b[0;34m\u001b[0m\u001b[0;34m\u001b[0m\u001b[0m\n\u001b[0;32m--> 642\u001b[0;31m             handle = open(\n\u001b[0m\u001b[1;32m    643\u001b[0m                 \u001b[0mhandle\u001b[0m\u001b[0;34m,\u001b[0m\u001b[0;34m\u001b[0m\u001b[0;34m\u001b[0m\u001b[0m\n\u001b[1;32m    644\u001b[0m                 \u001b[0mioargs\u001b[0m\u001b[0;34m.\u001b[0m\u001b[0mmode\u001b[0m\u001b[0;34m,\u001b[0m\u001b[0;34m\u001b[0m\u001b[0;34m\u001b[0m\u001b[0m\n",
      "\u001b[0;31mFileNotFoundError\u001b[0m: [Errno 2] No such file or directory: '../ACRM-GROUP-13/data/HVC_AM0.csv'"
     ]
    }
   ],
   "source": [
    "# import the data into pandas dataframes\n",
    "hvc_am0 = pd.read_csv(\"../ACRM-GROUP-13/data/HVC_AM0.csv\", sep=\";\")\n",
    "hvc_ar0 = pd.read_csv(\"../ACRM-GROUP-13/data/HVC_AR0.csv\", sep=\";\")\n",
    "hvc_customer_reviews = pd.read_csv(\"../ACRM-GROUP-13/data/HVC_CUSTOMER_REVIEWS.csv\", sep=\";\")\n",
    "hvc_depot = pd.read_csv(\"../ACRM-GROUP-13/data/HVC_DEPOT.csv\", sep=\";\")\n",
    "hvc_hvdayofweek = pd.read_csv(\"../ACRM-GROUP-13/data/HVC_HVDAYOFWEEK.csv\", sep=\";\")\n",
    "hvc_hvposition = pd.read_csv(\"../ACRM-GROUP-13/data/HVC_HVPOSITION_CORRECT.csv\", sep=\";\")\n",
    "hvc_hvroutetemplate = pd.read_csv(\"../ACRM-GROUP-13/data/HVC_HVROUTETEMPLATE.csv\", sep=\";\")\n",
    "hvc_hvvisitoutcome = pd.read_csv(\"../ACRM-GROUP-13/data/HVC_HVVISITOUTCOME.csv\", sep=\";\")\n",
    "hvc_hvvisitresult = pd.read_csv(\"../ACRM-GROUP-13/data/HVC_HVVISITRESULT.csv\", sep=\";\")\n",
    "hvc_so0 = pd.read_csv(\"../ACRM-GROUP-13/data/HVC_SO0.csv\", sep=\";\")\n",
    "hvc_visitresultdetails = pd.read_csv(\"../ACRM-GROUP-13/data/HVC_VISITRESULTDETAILS.csv\", sep=\";\")"
   ]
  },
  {
   "cell_type": "code",
   "execution_count": 61,
   "id": "10a5ce07",
   "metadata": {},
   "outputs": [
    {
     "data": {
      "text/html": [
       "<div>\n",
       "<style scoped>\n",
       "    .dataframe tbody tr th:only-of-type {\n",
       "        vertical-align: middle;\n",
       "    }\n",
       "\n",
       "    .dataframe tbody tr th {\n",
       "        vertical-align: top;\n",
       "    }\n",
       "\n",
       "    .dataframe thead th {\n",
       "        text-align: right;\n",
       "    }\n",
       "</style>\n",
       "<table border=\"1\" class=\"dataframe\">\n",
       "  <thead>\n",
       "    <tr style=\"text-align: right;\">\n",
       "      <th></th>\n",
       "      <th>SO0_NRID</th>\n",
       "      <th>LAT</th>\n",
       "      <th>LONG</th>\n",
       "    </tr>\n",
       "  </thead>\n",
       "  <tbody>\n",
       "    <tr>\n",
       "      <th>0</th>\n",
       "      <td>724196</td>\n",
       "      <td>3.576301</td>\n",
       "      <td>51.053585</td>\n",
       "    </tr>\n",
       "    <tr>\n",
       "      <th>1</th>\n",
       "      <td>724219</td>\n",
       "      <td>3.572461</td>\n",
       "      <td>51.047222</td>\n",
       "    </tr>\n",
       "    <tr>\n",
       "      <th>2</th>\n",
       "      <td>724231</td>\n",
       "      <td>3.571065</td>\n",
       "      <td>51.044908</td>\n",
       "    </tr>\n",
       "    <tr>\n",
       "      <th>3</th>\n",
       "      <td>724236</td>\n",
       "      <td>3.568838</td>\n",
       "      <td>51.041573</td>\n",
       "    </tr>\n",
       "    <tr>\n",
       "      <th>4</th>\n",
       "      <td>724241</td>\n",
       "      <td>3.567592</td>\n",
       "      <td>51.040040</td>\n",
       "    </tr>\n",
       "    <tr>\n",
       "      <th>...</th>\n",
       "      <td>...</td>\n",
       "      <td>...</td>\n",
       "      <td>...</td>\n",
       "    </tr>\n",
       "    <tr>\n",
       "      <th>5692</th>\n",
       "      <td>25332076406640</td>\n",
       "      <td>4.573422</td>\n",
       "      <td>51.154883</td>\n",
       "    </tr>\n",
       "    <tr>\n",
       "      <th>5693</th>\n",
       "      <td>25335568268048</td>\n",
       "      <td>3.844218</td>\n",
       "      <td>51.119432</td>\n",
       "    </tr>\n",
       "    <tr>\n",
       "      <th>5694</th>\n",
       "      <td>25343276433048</td>\n",
       "      <td>3.867731</td>\n",
       "      <td>51.061335</td>\n",
       "    </tr>\n",
       "    <tr>\n",
       "      <th>5695</th>\n",
       "      <td>25345568238048</td>\n",
       "      <td>3.802616</td>\n",
       "      <td>51.038216</td>\n",
       "    </tr>\n",
       "    <tr>\n",
       "      <th>5696</th>\n",
       "      <td>25356576635852</td>\n",
       "      <td>4.576794</td>\n",
       "      <td>51.165597</td>\n",
       "    </tr>\n",
       "  </tbody>\n",
       "</table>\n",
       "<p>5697 rows × 3 columns</p>\n",
       "</div>"
      ],
      "text/plain": [
       "            SO0_NRID       LAT       LONG\n",
       "0             724196  3.576301  51.053585\n",
       "1             724219  3.572461  51.047222\n",
       "2             724231  3.571065  51.044908\n",
       "3             724236  3.568838  51.041573\n",
       "4             724241  3.567592  51.040040\n",
       "...              ...       ...        ...\n",
       "5692  25332076406640  4.573422  51.154883\n",
       "5693  25335568268048  3.844218  51.119432\n",
       "5694  25343276433048  3.867731  51.061335\n",
       "5695  25345568238048  3.802616  51.038216\n",
       "5696  25356576635852  4.576794  51.165597\n",
       "\n",
       "[5697 rows x 3 columns]"
      ]
     },
     "execution_count": 61,
     "metadata": {},
     "output_type": "execute_result"
    }
   ],
   "source": [
    "hvc_hvposition"
   ]
  },
  {
   "cell_type": "code",
   "execution_count": 62,
   "id": "80582e6a",
   "metadata": {},
   "outputs": [],
   "source": [
    "#Data conversion\n",
    "hvc_hvdayofweek[\"HVDAYOFWEEK_NRID\"] = hvc_hvdayofweek[\"HVDAYOFWEEK_NRID\"].astype(int)\n",
    "hvc_hvroutetemplate[\"HVROUTETEMPLATE_NRID\"] = hvc_hvroutetemplate[\"HVROUTETEMPLATE_NRID\"].astype(int)\n",
    "hvc_hvroutetemplate[\"HVDAYOFWEEK_NRID\"] = hvc_hvroutetemplate[\"HVDAYOFWEEK_NRID\"].astype(int)\n",
    "hvc_hvroutetemplate[\"WEEKORDER\"] = hvc_hvroutetemplate[\"WEEKORDER\"].astype(int)\n",
    "hvc_hvvisitoutcome[\"HVOUTCOME_NRID\"] = hvc_hvvisitoutcome[\"HVOUTCOME_NRID\"].astype(int)\n",
    "hvc_visitresultdetails[\"HVVISITRESULT_NRID\"] = hvc_visitresultdetails[\"HVVISITRESULT_NRID\"].astype(int)\n",
    "hvc_so0[\"SO0_NRID\"] = hvc_so0[\"SO0_NRID\"].astype(int)\n",
    "hvc_so0[\"HVROUTETEMPLATE_NRID\"] = hvc_so0[\"HVROUTETEMPLATE_NRID\"].astype(int)\n",
    "hvc_hvvisitresult[\"DATEONLY\"] = pd.to_datetime(hvc_hvvisitresult[\"DATEONLY\"])\n",
    "hvc_hvvisitresult[\"VISITDATE\"] = pd.to_datetime(hvc_hvvisitresult[\"VISITDATE\"])\n",
    "\n",
    "hvc_hvposition[\"SO0_NRID\"] = hvc_hvposition[\"SO0_NRID\"].astype(int)\n"
   ]
  },
  {
   "cell_type": "markdown",
   "id": "a3a73f36",
   "metadata": {},
   "source": [
    "# 2. Explore the data"
   ]
  },
  {
   "cell_type": "markdown",
   "id": "b1bc5049",
   "metadata": {},
   "source": [
    "## 2.1 Data Set 1 (hvc_am0 + hvc_ar0 + hvc_customer_reviews) -> Wouter"
   ]
  },
  {
   "cell_type": "markdown",
   "id": "466b401e",
   "metadata": {},
   "source": [
    "### 2.1.1 hvc_am0 (employees)"
   ]
  },
  {
   "cell_type": "code",
   "execution_count": null,
   "id": "9340cfb3",
   "metadata": {},
   "outputs": [],
   "source": [
    "# inspect table\n",
    "hvc_am0"
   ]
  },
  {
   "cell_type": "code",
   "execution_count": null,
   "id": "2ef987e5",
   "metadata": {
    "scrolled": false
   },
   "outputs": [],
   "source": [
    "# inspect the first 5 observations of the employees\n",
    "hvc_am0.head(5)"
   ]
  },
  {
   "cell_type": "code",
   "execution_count": null,
   "id": "c95b152d",
   "metadata": {},
   "outputs": [],
   "source": [
    "# inspect the last 5 observations of the employees\n",
    "hvc_am0.tail(5)"
   ]
  },
  {
   "cell_type": "code",
   "execution_count": null,
   "id": "90969892",
   "metadata": {
    "scrolled": true
   },
   "outputs": [],
   "source": [
    "# check dtypes\n",
    "hvc_am0.dtypes"
   ]
  },
  {
   "cell_type": "code",
   "execution_count": null,
   "id": "998e71fb",
   "metadata": {},
   "outputs": [],
   "source": [
    "# check the number of employees \n",
    "len(hvc_am0)"
   ]
  },
  {
   "cell_type": "code",
   "execution_count": null,
   "id": "fb3ea32a",
   "metadata": {},
   "outputs": [],
   "source": [
    "# inspect the total number of missing values for the employeenumber amount\n",
    "sum(hvc_am0[\"EMPLOYEENUMBER\"].isnull())"
   ]
  },
  {
   "cell_type": "code",
   "execution_count": null,
   "id": "9acbf2ea",
   "metadata": {},
   "outputs": [],
   "source": [
    "# inspect some descriptive statistics with respect to the names\n",
    "hvc_am0[\"NAME\"].describe()"
   ]
  },
  {
   "cell_type": "code",
   "execution_count": null,
   "id": "3dd08d08",
   "metadata": {},
   "outputs": [],
   "source": [
    "# inspect some descriptive statistics with respect to the location\n",
    "hvc_am0[\"LOCATION\"].describe()"
   ]
  },
  {
   "cell_type": "code",
   "execution_count": null,
   "id": "7919d502",
   "metadata": {
    "scrolled": true
   },
   "outputs": [],
   "source": [
    "# inspect some descriptive statistics with respect to the language\n",
    "hvc_am0[\"LANGUAGE\"].describe()"
   ]
  },
  {
   "cell_type": "markdown",
   "id": "0ed784d4",
   "metadata": {},
   "source": [
    "### 2.1.2 hvc_ar0 (products)"
   ]
  },
  {
   "cell_type": "code",
   "execution_count": null,
   "id": "15b96789",
   "metadata": {},
   "outputs": [],
   "source": [
    "# inspect table\n",
    "hvc_ar0"
   ]
  },
  {
   "cell_type": "code",
   "execution_count": null,
   "id": "1806ef2e",
   "metadata": {
    "scrolled": true
   },
   "outputs": [],
   "source": [
    "# inspect the first 5 products\n",
    "hvc_ar0.head(5)"
   ]
  },
  {
   "cell_type": "code",
   "execution_count": null,
   "id": "8f40a1aa",
   "metadata": {
    "scrolled": false
   },
   "outputs": [],
   "source": [
    "# check dtypes\n",
    "hvc_ar0.dtypes"
   ]
  },
  {
   "cell_type": "code",
   "execution_count": null,
   "id": "e6966c7f",
   "metadata": {},
   "outputs": [],
   "source": [
    "# inspect some descriptive statistics with respect to the description\n",
    "hvc_ar0[\"DESCRIPTION\"].describe()"
   ]
  },
  {
   "cell_type": "code",
   "execution_count": null,
   "id": "dc5446f4",
   "metadata": {},
   "outputs": [],
   "source": [
    "# inspect some descriptive statistics with respect to the category\n",
    "hvc_ar0[\"CATEGORY\"].describe()"
   ]
  },
  {
   "cell_type": "code",
   "execution_count": null,
   "id": "92300256",
   "metadata": {
    "scrolled": true
   },
   "outputs": [],
   "source": [
    "# inspect some descriptive statistics with respect to the family\n",
    "hvc_ar0[\"FAMILY\"].describe()"
   ]
  },
  {
   "cell_type": "code",
   "execution_count": null,
   "id": "2fef8ed1",
   "metadata": {},
   "outputs": [],
   "source": [
    "# inspect the total number of products \n",
    "len(hvc_ar0[\"AR0_NRID\"].unique())"
   ]
  },
  {
   "cell_type": "code",
   "execution_count": null,
   "id": "b8afe79b",
   "metadata": {},
   "outputs": [],
   "source": [
    "# inspect the proportion of product families\n",
    "hvc_ar0[\"FAMILY\"].value_counts(normalize=True)"
   ]
  },
  {
   "cell_type": "code",
   "execution_count": null,
   "id": "977c869f",
   "metadata": {},
   "outputs": [],
   "source": [
    "# get some descriptive statistics with respect to the price of the products\n",
    "hvc_ar0[\"PRICE\"].describe()"
   ]
  },
  {
   "cell_type": "code",
   "execution_count": null,
   "id": "480ab0ec",
   "metadata": {},
   "outputs": [],
   "source": [
    "# inspect which products had a negative price\n",
    "hvc_ar0[hvc_ar0[\"PRICE\"] < 0]"
   ]
  },
  {
   "cell_type": "markdown",
   "id": "bf38a59d",
   "metadata": {},
   "source": [
    "### 2.1.3 hvc_customer_reviews (reviews)"
   ]
  },
  {
   "cell_type": "code",
   "execution_count": null,
   "id": "0d2d5c05",
   "metadata": {
    "scrolled": true
   },
   "outputs": [],
   "source": [
    "# inspect table\n",
    "hvc_customer_reviews"
   ]
  },
  {
   "cell_type": "code",
   "execution_count": null,
   "id": "39d75176",
   "metadata": {
    "scrolled": true
   },
   "outputs": [],
   "source": [
    "# inspect the first 5 reviews\n",
    "hvc_customer_reviews.head(5)"
   ]
  },
  {
   "cell_type": "code",
   "execution_count": null,
   "id": "3c4de4ee",
   "metadata": {},
   "outputs": [],
   "source": [
    "# inspect the total number of reviews\n",
    "len(hvc_customer_reviews[\"SO0_NRID\"].unique())"
   ]
  },
  {
   "cell_type": "code",
   "execution_count": null,
   "id": "3f9d7237",
   "metadata": {},
   "outputs": [],
   "source": [
    "# checking dtypes\n",
    "hvc_customer_reviews.dtypes"
   ]
  },
  {
   "cell_type": "code",
   "execution_count": null,
   "id": "4230e3e0",
   "metadata": {},
   "outputs": [],
   "source": [
    "# checking kind of reviews\n",
    "pd.unique(hvc_customer_reviews[\"REVIEW\"])"
   ]
  },
  {
   "cell_type": "code",
   "execution_count": null,
   "id": "aa0e8733",
   "metadata": {},
   "outputs": [],
   "source": [
    "# inspect some descriptive statistics with respect to the transaction amount\n",
    "hvc_customer_reviews[\"REVIEW\"].describe()"
   ]
  },
  {
   "cell_type": "code",
   "execution_count": null,
   "id": "f8b164ac",
   "metadata": {},
   "outputs": [],
   "source": [
    "# proportion of good or excellent reviews\n",
    "\n",
    "sum((hvc_customer_reviews[\"REVIEW\"] == \"Good service, satisfied\") + (hvc_customer_reviews[\"REVIEW\"] == \"Excellent service, very satisfied\")) / len(hvc_customer_reviews)\n",
    "    \n",
    "    \n"
   ]
  },
  {
   "cell_type": "code",
   "execution_count": null,
   "id": "59ed4c56",
   "metadata": {},
   "outputs": [],
   "source": [
    "# proportion of excellent reviews\n",
    "sum((hvc_customer_reviews[\"REVIEW\"] == \"Excellent service, very satisfied\")) / len(hvc_customer_reviews)\n",
    "\n"
   ]
  },
  {
   "cell_type": "code",
   "execution_count": null,
   "id": "1934e96b",
   "metadata": {},
   "outputs": [],
   "source": [
    "# proportion of good reviews\n",
    "sum((hvc_customer_reviews[\"REVIEW\"] == \"Good service,  satisfied\")) / len(hvc_customer_reviews)"
   ]
  },
  {
   "cell_type": "code",
   "execution_count": null,
   "id": "5bae74ce",
   "metadata": {},
   "outputs": [],
   "source": [
    "# proportion of bad reviews\n",
    "sum((hvc_customer_reviews[\"REVIEW\"] == \"Not completely satisfied\")) / len(hvc_customer_reviews)"
   ]
  },
  {
   "cell_type": "code",
   "execution_count": null,
   "id": "2de8fa81",
   "metadata": {},
   "outputs": [],
   "source": [
    "# proportion of terrible reviews\n",
    "sum((hvc_customer_reviews[\"REVIEW\"] == \"Very bad service, very unsatisfied\")) / len(hvc_customer_reviews)"
   ]
  },
  {
   "cell_type": "markdown",
   "id": "b3074732",
   "metadata": {},
   "source": [
    "## 2.2 Data Set 2 (hvc_depot + hvc_hvdayoftheweek + hvc_hvposition) -> Guillaume"
   ]
  },
  {
   "cell_type": "markdown",
   "id": "bf39385f",
   "metadata": {},
   "source": [
    "### 2.2.1 hvc_depot"
   ]
  },
  {
   "cell_type": "markdown",
   "id": "7dba374f",
   "metadata": {},
   "source": [
    "Nog tekstje bijtypen"
   ]
  },
  {
   "cell_type": "code",
   "execution_count": null,
   "id": "3c6bf835",
   "metadata": {
    "scrolled": false
   },
   "outputs": [],
   "source": [
    "hvc_depot"
   ]
  },
  {
   "cell_type": "code",
   "execution_count": null,
   "id": "0866888c",
   "metadata": {
    "scrolled": true
   },
   "outputs": [],
   "source": [
    "len(hvc_depot)"
   ]
  },
  {
   "cell_type": "code",
   "execution_count": null,
   "id": "6a3c7ae2",
   "metadata": {},
   "outputs": [],
   "source": [
    "len(hvc_depot[\"HVROUTETEMPLATE_NRID\"].unique())"
   ]
  },
  {
   "cell_type": "code",
   "execution_count": null,
   "id": "ea6591f3",
   "metadata": {
    "scrolled": true
   },
   "outputs": [],
   "source": [
    "hvc_depot[\"HVROUTETEMPLATE_NRID\"].value_counts()"
   ]
  },
  {
   "cell_type": "code",
   "execution_count": null,
   "id": "ed0ffb8a",
   "metadata": {},
   "outputs": [],
   "source": [
    "len(hvc_depot[\"DEPOT\"].unique())"
   ]
  },
  {
   "cell_type": "code",
   "execution_count": null,
   "id": "336ad86a",
   "metadata": {},
   "outputs": [],
   "source": [
    "hvc_depot[\"DEPOT\"].value_counts()"
   ]
  },
  {
   "cell_type": "markdown",
   "id": "1347f6c3",
   "metadata": {},
   "source": [
    "### 2.2.2 hvc_hvdayofweek"
   ]
  },
  {
   "cell_type": "code",
   "execution_count": null,
   "id": "b7d069cd",
   "metadata": {},
   "outputs": [],
   "source": [
    "hvc_hvdayofweek"
   ]
  },
  {
   "cell_type": "markdown",
   "id": "a27c1842",
   "metadata": {},
   "source": [
    "### 2.2.3 hvc_hvposition"
   ]
  },
  {
   "cell_type": "code",
   "execution_count": null,
   "id": "d6f3ddfe",
   "metadata": {
    "scrolled": true
   },
   "outputs": [],
   "source": [
    "hvc_hvposition"
   ]
  },
  {
   "cell_type": "markdown",
   "id": "4fbe1843",
   "metadata": {},
   "source": [
    "## 2.3 Data Set 3 (hvc_hvroutetemplate + hvc_hvvisitoutcome + hvc_visitresultdetails) -> Mathew"
   ]
  },
  {
   "cell_type": "markdown",
   "id": "93e05e79",
   "metadata": {},
   "source": [
    "## 2.3.1 hvc_hvroutetemplate"
   ]
  },
  {
   "cell_type": "markdown",
   "id": "168d84e5",
   "metadata": {},
   "source": [
    "There are 39 different routes that are available. Every route has a unique number. They are available in 4 different regions and are ridden weekly or bi-weekly. \n",
    "The rides are on every day of the week except Sunday. \n",
    "\n",
    "C04 is the region with the most routes (11), followed by C17 (10) and B25(10) and as last B02(8).\n",
    "\n",
    "20 of the 39 routes are ridden weekly and the other 19 weekly. \n",
    "\n",
    "The Wednesday, Thursday, Friday and Saturday are the most popular days to ride on (8 times out 39 times), followed by Tuesday (6) and Monday (1)\n"
   ]
  },
  {
   "cell_type": "code",
   "execution_count": null,
   "id": "69b9fcd6",
   "metadata": {
    "scrolled": true
   },
   "outputs": [],
   "source": [
    "hvc_hvroutetemplate"
   ]
  },
  {
   "cell_type": "code",
   "execution_count": null,
   "id": "21e156f5",
   "metadata": {},
   "outputs": [],
   "source": [
    "len(hvc_hvroutetemplate)"
   ]
  },
  {
   "cell_type": "code",
   "execution_count": null,
   "id": "624dd381",
   "metadata": {
    "scrolled": true
   },
   "outputs": [],
   "source": [
    "hvc_hvroutetemplate[\"HVDAYOFWEEK_NRID\"].describe()\n"
   ]
  },
  {
   "cell_type": "code",
   "execution_count": null,
   "id": "c669207e",
   "metadata": {},
   "outputs": [],
   "source": [
    "hvc_hvroutetemplate[\"WEEKORDER\"].describe()"
   ]
  },
  {
   "cell_type": "code",
   "execution_count": null,
   "id": "156c812d",
   "metadata": {},
   "outputs": [],
   "source": [
    "len(hvc_hvroutetemplate[\"HVROUTETEMPLATE_NRID\"].unique())"
   ]
  },
  {
   "cell_type": "code",
   "execution_count": null,
   "id": "cde29e36",
   "metadata": {},
   "outputs": [],
   "source": [
    "len(hvc_hvroutetemplate[\"REGION\"].unique())"
   ]
  },
  {
   "cell_type": "code",
   "execution_count": null,
   "id": "07d36837",
   "metadata": {},
   "outputs": [],
   "source": [
    "len(hvc_hvroutetemplate[\"WEEKORDER\"].unique())"
   ]
  },
  {
   "cell_type": "code",
   "execution_count": null,
   "id": "f1b32223",
   "metadata": {},
   "outputs": [],
   "source": [
    "len(hvc_hvroutetemplate[\"HVDAYOFWEEK_NRID\"].unique())"
   ]
  },
  {
   "cell_type": "code",
   "execution_count": null,
   "id": "f3ef143d",
   "metadata": {},
   "outputs": [],
   "source": [
    "hvc_hvroutetemplate[\"REGION\"].value_counts()"
   ]
  },
  {
   "cell_type": "code",
   "execution_count": null,
   "id": "2ee1b0b4",
   "metadata": {},
   "outputs": [],
   "source": [
    "hvc_hvroutetemplate[\"WEEKORDER\"].value_counts()"
   ]
  },
  {
   "cell_type": "code",
   "execution_count": null,
   "id": "5998b1d1",
   "metadata": {},
   "outputs": [],
   "source": [
    "hvc_hvroutetemplate[\"HVDAYOFWEEK_NRID\"].value_counts()"
   ]
  },
  {
   "cell_type": "markdown",
   "id": "14a18491",
   "metadata": {},
   "source": [
    "## 2.3.2 hvc_hvvisitoutcome"
   ]
  },
  {
   "cell_type": "code",
   "execution_count": null,
   "id": "bc59a716",
   "metadata": {},
   "outputs": [],
   "source": [
    "    hvc_hvvisitoutcome"
   ]
  },
  {
   "cell_type": "markdown",
   "id": "d220f60b",
   "metadata": {},
   "source": [
    "## 2.3.3 hvc_visitresultdetails"
   ]
  },
  {
   "cell_type": "markdown",
   "id": "e2007f65",
   "metadata": {},
   "source": [
    "There are 126778 unique visits, each with a unique visit ID. \n",
    "\n",
    "The average quantity that has been bought is 1.12 goods. There are 75 visits where the quantity is negative, the reason herefore is until now unclear."
   ]
  },
  {
   "cell_type": "code",
   "execution_count": null,
   "id": "d065ee5d",
   "metadata": {},
   "outputs": [],
   "source": [
    "hvc_visitresultdetails"
   ]
  },
  {
   "cell_type": "code",
   "execution_count": null,
   "id": "6db7b4b5",
   "metadata": {},
   "outputs": [],
   "source": [
    "len(hvc_visitresultdetails[\"VISITRESULTDETAILS_NRID\"].unique())"
   ]
  },
  {
   "cell_type": "code",
   "execution_count": null,
   "id": "ca398399",
   "metadata": {},
   "outputs": [],
   "source": [
    "hvc_visitresultdetails[\"QUANTITY\"].describe()"
   ]
  },
  {
   "cell_type": "code",
   "execution_count": null,
   "id": "9b09754e",
   "metadata": {},
   "outputs": [],
   "source": [
    "hvc_visitresultdetails[\"QUANTITY\"].describe()\n",
    "\n"
   ]
  },
  {
   "cell_type": "code",
   "execution_count": null,
   "id": "4b6076b2",
   "metadata": {
    "scrolled": true
   },
   "outputs": [],
   "source": [
    "visitresultdetails_negative = len(hvc_visitresultdetails[hvc_visitresultdetails[\"QUANTITY\"] < 0])\n",
    "len(visitresultdetails_negative)"
   ]
  },
  {
   "cell_type": "code",
   "execution_count": null,
   "id": "eafab2b3",
   "metadata": {},
   "outputs": [],
   "source": [
    "hvc_visitresultdetails[\"HVVISITRESULT_NRID\"] = hvc_visitresultdetails[\"HVVISITRESULT_NRID\"].astype(int)\n",
    "\n",
    "hvc_visitresultdetails.dtypes"
   ]
  },
  {
   "cell_type": "markdown",
   "id": "28d3a244",
   "metadata": {},
   "source": [
    "## 2.4 Data Set 4 (hvc_so0_nrid + hvc_resultdetails) -> Lennert"
   ]
  },
  {
   "cell_type": "markdown",
   "id": "adacb9ca",
   "metadata": {},
   "source": [
    "## 2.4.1 Customer information"
   ]
  },
  {
   "cell_type": "code",
   "execution_count": null,
   "id": "5dc3c11c",
   "metadata": {
    "scrolled": true
   },
   "outputs": [],
   "source": [
    "# inspect first 5 observations of customers\n",
    "hvc_so0.head(5)\n"
   ]
  },
  {
   "cell_type": "code",
   "execution_count": null,
   "id": "ad0541fc",
   "metadata": {
    "scrolled": true
   },
   "outputs": [],
   "source": [
    "# inspect last 5 observations of customers\n",
    "hvc_so0.tail(5)"
   ]
  },
  {
   "cell_type": "code",
   "execution_count": null,
   "id": "ee96f44c",
   "metadata": {},
   "outputs": [],
   "source": [
    "# inspect total number of unique customers\n",
    "len(hvc_so0[\"SO0_NRID\"].unique())"
   ]
  },
  {
   "cell_type": "code",
   "execution_count": null,
   "id": "c31e43be",
   "metadata": {
    "scrolled": true
   },
   "outputs": [],
   "source": [
    "# get some descriptive statistics with respect to the spoken language as well as the season type of the customers\n",
    "hvc_so0[[\"LANGUAGE\", \"SEASON_TYPE\"]].describe()"
   ]
  },
  {
   "cell_type": "code",
   "execution_count": null,
   "id": "8e33a35d",
   "metadata": {},
   "outputs": [],
   "source": [
    "# get the counts for every season type\n",
    "hvc_so0[\"SEASON_TYPE\"].value_counts()"
   ]
  },
  {
   "cell_type": "code",
   "execution_count": null,
   "id": "e13a9a9f",
   "metadata": {},
   "outputs": [],
   "source": [
    "# get the counts for every spoken language\n",
    "hvc_so0[\"LANGUAGE\"].value_counts()"
   ]
  },
  {
   "cell_type": "markdown",
   "id": "39658309",
   "metadata": {},
   "source": [
    "## 2.4.2 Customer Location"
   ]
  },
  {
   "cell_type": "code",
   "execution_count": null,
   "id": "6e10a231",
   "metadata": {},
   "outputs": [],
   "source": [
    "# inspect first 5 observations of customer location\n",
    "hvc_hvposition.head(5)\n"
   ]
  },
  {
   "cell_type": "code",
   "execution_count": null,
   "id": "6f56ba67",
   "metadata": {},
   "outputs": [],
   "source": [
    "# inspect last 5 observations of customer location\n",
    "hvc_hvposition.tail(5)"
   ]
  },
  {
   "cell_type": "code",
   "execution_count": null,
   "id": "814a5a95",
   "metadata": {},
   "outputs": [],
   "source": [
    "# total number of locations of unique customers\n",
    "len(hvc_hvposition[\"SO0_NRID\"].unique())"
   ]
  },
  {
   "cell_type": "code",
   "execution_count": null,
   "id": "6da3f334",
   "metadata": {},
   "outputs": [],
   "source": [
    "#different customers at the same location? More customers then location\n",
    "len(hvc_hvposition[\"SO0_NRID\"].unique()) == len(hvc_so0[\"SO0_NRID\"].unique())"
   ]
  },
  {
   "cell_type": "markdown",
   "id": "c053763d",
   "metadata": {},
   "source": [
    "## 2.4.3 Result of Visit"
   ]
  },
  {
   "cell_type": "code",
   "execution_count": null,
   "id": "605649ef",
   "metadata": {
    "scrolled": true
   },
   "outputs": [],
   "source": [
    "# inspect first 5 observations of visit results\n",
    "hvc_hvvisitresult.head(5)"
   ]
  },
  {
   "cell_type": "code",
   "execution_count": null,
   "id": "9264030b",
   "metadata": {},
   "outputs": [],
   "source": [
    "# inspect first 5 observations of visit results\n",
    "hvc_hvvisitresult.tail(5)"
   ]
  },
  {
   "cell_type": "code",
   "execution_count": null,
   "id": "e27c07e3",
   "metadata": {
    "scrolled": true
   },
   "outputs": [],
   "source": [
    "#inspect first 5 observations of customers \n",
    "hvc_visitresultdetails.head(5)"
   ]
  },
  {
   "cell_type": "code",
   "execution_count": null,
   "id": "41f0a859",
   "metadata": {
    "scrolled": true
   },
   "outputs": [],
   "source": [
    "#inspect last 5 observations of customers \n",
    "hvc_visitresultdetails.tail(5)"
   ]
  },
  {
   "cell_type": "markdown",
   "id": "ca2f3610",
   "metadata": {},
   "source": [
    "# 3. Answering basic questions"
   ]
  },
  {
   "cell_type": "markdown",
   "id": "d3cf629e",
   "metadata": {},
   "source": [
    "## 3.1 What are the products?"
   ]
  },
  {
   "cell_type": "markdown",
   "id": "ba2376e6",
   "metadata": {},
   "source": [
    "\n",
    "- Does the weather / seasonal changes have an effect on the total revenue?\n"
   ]
  },
  {
   "cell_type": "code",
   "execution_count": null,
   "id": "09b57fb1",
   "metadata": {},
   "outputs": [],
   "source": [
    "# What are the most frequently bought products?\n",
    "# Bedoelen ze hier frequent als in het meest of hoe moet ik dit zien?\n",
    "agg_dict = {\"QUANTITY\": np.sum}\n",
    "hvc_quantity = hvc_visitresultdetails.groupby(\"AR0_NRID\").agg(agg_dict)\n",
    "hvc_quantity_top = hvc_quantity.sort_values(\"QUANTITY\", ascending = False).head(5)\n",
    "hvc_quantity_top\n",
    "#hvc_test.sort_values(by = [\"count\"])"
   ]
  },
  {
   "cell_type": "code",
   "execution_count": null,
   "id": "188efcb7",
   "metadata": {
    "scrolled": true
   },
   "outputs": [],
   "source": [
    "# Which products render the most revenue?\n",
    "hvc_ar0_visitresultdetails = pd.merge(hvc_ar0, hvc_visitresultdetails)\n",
    "hvc_ar0_visitresultdetails\n",
    "\n",
    "revenue = hvc_ar0_visitresultdetails[\"QUANTITY\"] * hvc_ar0_visitresultdetails[\"PRICE\"]\n",
    "hvc_ar0_visitresultdetails[\"REVENUE\"] = revenue\n",
    "agg_dict = {\"REVENUE\": np.sum}\n",
    "hvc_revenue = hvc_ar0_visitresultdetails.groupby(\"AR0_NRID\").agg(agg_dict)\n",
    "hvc_revenue_top = hvc_revenue.sort_values(\"REVENUE\", ascending = False).head(5)\n",
    "hvc_revenue_top"
   ]
  },
  {
   "cell_type": "code",
   "execution_count": null,
   "id": "7c24cf8e",
   "metadata": {
    "scrolled": true
   },
   "outputs": [],
   "source": [
    "# Which products are bought the most in the region of Brussels, Antwerp, ...?\n",
    "\n",
    "hvc_so0_hvroutetemplate = pd.merge(hvc_so0, hvc_hvroutetemplate)\n",
    "\n",
    "hvc_so0_hvroutetemplate"
   ]
  },
  {
   "cell_type": "code",
   "execution_count": null,
   "id": "088df75e",
   "metadata": {
    "scrolled": false
   },
   "outputs": [],
   "source": [
    "# Are product purchases correlated? Are some products often purchased together?\n",
    "\n",
    "# In table VISITRESULTDETAILS_NRID find the products with the same AR0_NRID. \n",
    "# These are the products that are bought in the same visit.\n",
    "\n",
    "agg_dict = {\"AR0_NRID\": np.absolute}\n",
    "hvc_visitresultdetails_correlatedproducts = hvc_visitresultdetails.groupby(\"HVVISITRESULT_NRID\").agg(agg_dict)\n",
    "\n",
    "\n",
    "hvc_visitresultdetails_correlatedproducts"
   ]
  },
  {
   "cell_type": "code",
   "execution_count": null,
   "id": "d81cadb6",
   "metadata": {},
   "outputs": [],
   "source": [
    "len(hvc_visitresultdetails[\"HVVISITRESULT_NRID\"].unique())"
   ]
  },
  {
   "cell_type": "code",
   "execution_count": null,
   "id": "4535c491",
   "metadata": {},
   "outputs": [],
   "source": [
    "# What are the total sales generated for each product family?\n",
    "\n",
    "agg_dict = {\"REVENUE\": np.sum}\n",
    "hvc_revenue_family = hvc_ar0_visitresultdetails.groupby(\"FAMILY\").agg(agg_dict)\n",
    "hvc_revenue_family"
   ]
  },
  {
   "cell_type": "code",
   "execution_count": null,
   "id": "373df2e0",
   "metadata": {},
   "outputs": [],
   "source": [
    "# Does the weather / seasonal changes have an effect on the total revenue?\n",
    "\n",
    "# Merging customer table with visit table on the customer id. \n",
    "# Then merging that table with the visitresultdetails on visitid, \n",
    "# so now we have a table with the customer that bought something.\n",
    "\n",
    "hvc_visitresult_visitresultdetails_so0 = pd.merge(pd.merge(hvc_hvvisitresult, hvc_so0, on = \"SO0_NRID\"), hvc_visitresultdetails, on = \"HVVISITRESULT_NRID\")\n",
    "\n",
    "# Now we add what product was bought during that visit by merging on AR0_NRID\n",
    "\n",
    "hvc_visitresult_visitresultdetails_so0_ar0 = pd.merge(hvc_visitresult_visitresultdetails_so0, hvc_ar0, on = \"AR0_NRID\")\n",
    "\n",
    "revenue = hvc_visitresult_visitresultdetails_so0_ar0[\"QUANTITY\"] * hvc_visitresult_visitresultdetails_so0_ar0[\"PRICE\"]\n",
    "hvc_visitresult_visitresultdetails_so0_ar0[\"REVENUE\"] = revenue\n",
    "\n",
    "hvc_seasons = hvc_visitresult_visitresultdetails_so0_ar0[[\"HVVISITRESULT_NRID\", \"SEASON_TYPE\", \"REVENUE\"]]\n",
    "hvc_seasons[\"SEASON_TYPE\"].value_counts()\n",
    "\n",
    "agg_dict = {\"REVENUE\": np.sum}\n",
    "hvc_revenue_seasons = hvc_seasons.groupby(\"SEASON_TYPE\").agg(agg_dict)\n",
    "hvc_revenue_seasons"
   ]
  },
  {
   "cell_type": "code",
   "execution_count": null,
   "id": "cd758988",
   "metadata": {},
   "outputs": [],
   "source": [
    "# Does the weather / seasonal changes have an effect on the total revenue?\n",
    "\n",
    "# Merging customer table with visit table on the customer id. \n",
    "# Then merging that table with the visitresultdetails on visitid, \n",
    "# so now we have a table with the customer that bought something.\n",
    "\n",
    "hvc_visitresult_visitresultdetails_so0 = pd.merge(pd.merge(hvc_hvvisitresult, hvc_so0, on = \"SO0_NRID\"), hvc_visitresultdetails, on = \"HVVISITRESULT_NRID\")\n",
    "\n",
    "# Now we add what product was bought during that visit by merging on AR0_NRID\n",
    "\n",
    "hvc_visitresult_visitresultdetails_so0_ar0 = pd.merge(hvc_visitresult_visitresultdetails_so0, hvc_ar0, on = \"AR0_NRID\")\n",
    "\n",
    "revenue = hvc_visitresult_visitresultdetails_so0_ar0[\"AMOUNT\"]\n",
    "hvc_visitresult_visitresultdetails_so0_ar0[\"REVENUE\"] = revenue\n",
    "\n",
    "hvc_seasons = hvc_visitresult_visitresultdetails_so0_ar0[[\"HVVISITRESULT_NRID\", \"SEASON_TYPE\", \"REVENUE\"]]\n",
    "\n",
    "agg_dict = {\"REVENUE\": np.sum}\n",
    "hvc_revenue_seasons = hvc_seasons.groupby(\"SEASON_TYPE\").agg(agg_dict)\n",
    "hvc_revenue_seasons"
   ]
  },
  {
   "cell_type": "code",
   "execution_count": null,
   "id": "e98dfd89",
   "metadata": {
    "scrolled": true
   },
   "outputs": [],
   "source": [
    "#Check if the customer is visited at the right moment\n",
    "\n",
    "hvc_hvvisitresult_so0 = pd.merge(hvc_hvvisitresult, hvc_so0)\n",
    "hvc_hvvisitresult_so0[hvc_hvvisitresult_so0[\"SEASON_TYPE\"] == \"Christmas\"]\n"
   ]
  },
  {
   "cell_type": "code",
   "execution_count": null,
   "id": "c5949043",
   "metadata": {
    "scrolled": true
   },
   "outputs": [],
   "source": [
    "### Clustering the customer positions\n",
    "\n",
    "## Clustering the longitude and latitude\n",
    "\n",
    "from sklearn.cluster import KMeans\n",
    "plt.figure(figsize = (10,10))\n",
    "\n",
    "# initialize the cluster algorithm with 4 classes\n",
    "kmeans_model = KMeans(n_clusters=4)\n",
    "\n",
    "# fit the kmeans model onto the data\n",
    "kmeans_model.fit(hvc_hvposition[[\"LONG\",\"LAT\"]])\n",
    "\n",
    "# get all the cluster labels\n",
    "cluster_labels = kmeans_model.labels_\n",
    "\n",
    "# define color map\n",
    "color_map = {0: \"green\", 1: \"red\", 2: \"blue\", 3: \"yellow\"}\n",
    "\n",
    "# get colors for each cluster label\n",
    "cluster_colors = [color_map[label] for label in cluster_labels]\n",
    "\n",
    "# plot data with cluster colors\n",
    "plt.scatter(hvc_hvposition[\"LONG\"], hvc_hvposition[\"LAT\"], color=cluster_colors)\n",
    "plt.show()"
   ]
  },
  {
   "cell_type": "code",
   "execution_count": null,
   "id": "a25d8c48",
   "metadata": {},
   "outputs": [],
   "source": [
    "belgium = gpd.read_file(\"/Users/wouterdewitte/Desktop/Belgium-Map-1/Arrondissementen.json\")\n",
    "crs = 'epsg:4326'\n",
    "base = belgium.plot(color='white', edgecolor='black', figsize = (20,20))\n",
    "gdf = gpd.GeoDataFrame(hvc_hvposition, crs = crs,geometry=gpd.points_from_xy(hvc_hvposition[\"LONG\"], hvc_hvposition[\"LAT\"]))\n",
    "\n",
    "\n",
    "gdf.plot(ax = base, color = \"red\",markersize = 10)\n",
    "\n",
    "plt.show()"
   ]
  },
  {
   "cell_type": "code",
   "execution_count": null,
   "id": "23e35b44",
   "metadata": {},
   "outputs": [],
   "source": [
    "# the map is not precise enough\n",
    "\n",
    "\n",
    "gdf = gpd.GeoDataFrame(hvc_hvposition, geometry=gpd.points_from_xy(hvc_hvposition[\"LONG\"], hvc_hvposition[\"LAT\"]))\n",
    "\n",
    "world = gpd.read_file(gpd.datasets.get_path('naturalearth_lowres'))\n",
    "\n",
    "world.plot()\n",
    "plt.show()"
   ]
  },
  {
   "cell_type": "markdown",
   "id": "6e66372a",
   "metadata": {},
   "source": [
    "## 3.2 Who are the customers?"
   ]
  },
  {
   "cell_type": "markdown",
   "id": "300b2224",
   "metadata": {},
   "source": [
    "### 3.2.1 What do the customers buy?"
   ]
  },
  {
   "cell_type": "code",
   "execution_count": null,
   "id": "c10cd724",
   "metadata": {},
   "outputs": [],
   "source": [
    "customer_id = 721110.0"
   ]
  },
  {
   "cell_type": "code",
   "execution_count": null,
   "id": "3352f1a1",
   "metadata": {},
   "outputs": [],
   "source": [
    "# join transactions with transaction details with products\n",
    "transactions_products = hvc_hvvisitresult.merge(hvc_visitresultdetails, on=\"HVVISITRESULT_NRID\", how=\"inner\")\\\n",
    "                                         .merge(hvc_ar0, on=\"AR0_NRID\", how=\"inner\") "
   ]
  },
  {
   "cell_type": "code",
   "execution_count": null,
   "id": "284459e3",
   "metadata": {
    "scrolled": true
   },
   "outputs": [],
   "source": [
    "# check\n",
    "transactions_products.head(3)"
   ]
  },
  {
   "cell_type": "code",
   "execution_count": null,
   "id": "5a83f406",
   "metadata": {},
   "outputs": [],
   "source": [
    "# get all the transactions for customer\n",
    "transactions_products_customer = transactions_products[transactions_products[\"SO0_NRID\"] == customer_id]\n",
    "\n",
    "# get all transactions with positive outcome\n",
    "transactions_products_customer = transactions_products_customer[transactions_products_customer[\"HVOUTCOME_NRID\"] == 2]"
   ]
  },
  {
   "cell_type": "code",
   "execution_count": null,
   "id": "a6128ec7",
   "metadata": {},
   "outputs": [],
   "source": [
    "# get total number of products bought by the customer\n",
    "transactions_products_customer[\"QUANTITY\"].sum()"
   ]
  },
  {
   "cell_type": "markdown",
   "id": "d731ee00",
   "metadata": {},
   "source": [
    "### 3.2.2 Unique list of unique products a customer bought"
   ]
  },
  {
   "cell_type": "code",
   "execution_count": null,
   "id": "01d9d52f",
   "metadata": {},
   "outputs": [],
   "source": [
    "# define a function that accepts a customer id, the transactions data, transactions details data and product data\n",
    "def get_products(cust_id, transactions, transaction_details, products):\n",
    "    \n",
    "\n",
    "    # join transactions with transaction details with products\n",
    "    transactions_products = transactions.merge(transaction_details, on=\"HVVISITRESULT_NRID\", how=\"inner\") \\\n",
    "                                        .merge(products, on=\"AR0_NRID\", how=\"inner\")\n",
    "    \n",
    "    # get transactions of customer \n",
    "    transactions_products_cust = transactions_products[transactions_products[\"SO0_NRID\"] == cust_id]\n",
    "    \n",
    "    # only get transactions of succesfull visits\n",
    "    transactions_products_cust = transactions_products_cust[transactions_products_cust[\"HVOUTCOME_NRID\"] == 2]\n",
    "    \n",
    "    # get total amount of products bought by the customer\n",
    "    total_products = transactions_products_cust[\"QUANTITY\"].sum()\n",
    "    \n",
    "    # get total number of unique products bought by the customer\n",
    "    total_unique_products = len(transactions_products_cust[\"DESCRIPTION\"].unique())\n",
    "    \n",
    "    # return\n",
    "    return(total_products, total_unique_products)"
   ]
  },
  {
   "cell_type": "code",
   "execution_count": null,
   "id": "6652ff7b",
   "metadata": {},
   "outputs": [],
   "source": [
    "# check\n",
    "get_products(cust_id=721110.0, \n",
    "                  transactions=hvc_hvvisitresult, \n",
    "                  transaction_details=hvc_visitresultdetails, \n",
    "                  products=hvc_ar0)"
   ]
  },
  {
   "cell_type": "markdown",
   "id": "6824a9bb",
   "metadata": {},
   "source": [
    "### 3.2.3 Which customers have the highest CLV?\n",
    "\n"
   ]
  },
  {
   "cell_type": "code",
   "execution_count": null,
   "id": "cd07d07f",
   "metadata": {},
   "outputs": [],
   "source": [
    "# define a function that accepts a customer id and the transactions data as parameters\n",
    "def get_clv(cust_id, transactions):\n",
    "    \n",
    "    # get customer transactions\n",
    "    cust_transactions = transactions[transactions[\"SO0_NRID\"] == cust_id]\n",
    "    # get transactions with positive outcome\n",
    "    cust_transactions_pos = cust_transactions[cust_transactions[\"HVOUTCOME_NRID\"] == 2]\n",
    "    # get clv\n",
    "    clv = np.sum(cust_transactions[\"AMOUNT\"])\n",
    "    # return clv\n",
    "    return(clv)"
   ]
  },
  {
   "cell_type": "code",
   "execution_count": null,
   "id": "ead73717",
   "metadata": {},
   "outputs": [],
   "source": [
    "# check\n",
    "clv = get_clv(cust_id=721110.0, transactions=hvc_hvvisitresult)\n",
    "print(clv)"
   ]
  },
  {
   "cell_type": "markdown",
   "id": "59f5d5a2",
   "metadata": {},
   "source": [
    "### 2.3.4 How often did a customer purchase at the company at different days "
   ]
  },
  {
   "cell_type": "code",
   "execution_count": null,
   "id": "1b4b9918",
   "metadata": {},
   "outputs": [],
   "source": [
    "def get_frequency(cust_id, transactions):\n",
    "    \n",
    "    # get transactions made by customer\n",
    "    transactions_cust = transactions[hvc_hvvisitresult[\"SO0_NRID\"] == cust_id]\n",
    "\n",
    "    # get transactions from succesfull visits\n",
    "    transactions_cust = transactions_cust[transactions_cust[\"HVOUTCOME_NRID\"] == 2]\n",
    "\n",
    "    # get total number of unique days on which customer made a purchase\n",
    "    frequency = len(transactions_cust)\n",
    "    \n",
    "    # return\n",
    "    return(frequency)"
   ]
  },
  {
   "cell_type": "code",
   "execution_count": null,
   "id": "911181f7",
   "metadata": {},
   "outputs": [],
   "source": [
    "# check\n",
    "get_frequency(721110.0, hvc_hvvisitresult)"
   ]
  },
  {
   "cell_type": "markdown",
   "id": "5846e560",
   "metadata": {},
   "source": [
    "### 2.3.5 Which customers left the company?"
   ]
  },
  {
   "cell_type": "code",
   "execution_count": null,
   "id": "6eadbc11",
   "metadata": {},
   "outputs": [],
   "source": []
  },
  {
   "cell_type": "markdown",
   "id": "41b47788",
   "metadata": {},
   "source": [
    "### 2.3.6 Clusters of customers (visualization)\n"
   ]
  },
  {
   "cell_type": "markdown",
   "id": "37f324de",
   "metadata": {},
   "source": [
    "Clustering Multi Vairiable Data  "
   ]
  },
  {
   "cell_type": "code",
   "execution_count": null,
   "id": "6505bc88",
   "metadata": {},
   "outputs": [],
   "source": [
    "#importing the right stuff\n",
    "from pandas.plotting import andrews_curves\n",
    "import matplotlib.pyplot as plt\n",
    "\n",
    "plt.figure()"
   ]
  },
  {
   "cell_type": "markdown",
   "id": "a19ac75f",
   "metadata": {},
   "source": [
    "### 2.3.7 Do customers have different buying patterns during the weekend?"
   ]
  },
  {
   "cell_type": "code",
   "execution_count": null,
   "id": "b51aa027",
   "metadata": {},
   "outputs": [],
   "source": [
    "# average per weekday\n",
    "\n",
    "\n",
    "\n",
    "# average per day in the weekend "
   ]
  },
  {
   "cell_type": "markdown",
   "id": "d4ed54f1",
   "metadata": {},
   "source": [
    "## 3.3 Who are the employees?"
   ]
  },
  {
   "cell_type": "markdown",
   "id": "13979c78",
   "metadata": {},
   "source": [
    "## 3.4 What are the routes?"
   ]
  },
  {
   "cell_type": "markdown",
   "id": "77b9d9bd",
   "metadata": {},
   "source": [
    "Vraag 1: How are customers divided into regions"
   ]
  },
  {
   "cell_type": "code",
   "execution_count": 63,
   "id": "70ea9b23",
   "metadata": {},
   "outputs": [],
   "source": [
    "hvc_customer_regions = pd.merge(hvc_so0,hvc_hvroutetemplate)\n",
    "\n",
    "hvc_customer_regions2 = pd.merge(hvc_customer_regions, hvc_hvposition, on = \"SO0_NRID\")\n",
    "\n",
    "hvc_customer_routes = pd.merge(hvc_hvroutetemplate, hvc_so0)"
   ]
  },
  {
   "cell_type": "code",
   "execution_count": 5,
   "id": "acad01eb",
   "metadata": {},
   "outputs": [],
   "source": [
    "#certain postal codes are unique for a region\n",
    "#function to get all the postcodes of a region\n",
    "\n",
    "def getpostcodes(region):\n",
    "    postcodes = hvc_customer_routes[hvc_customer_routes[\"REGION\"] == region][\"POSTCODE\"].unique() \n",
    "    return postcodes\n"
   ]
  },
  {
   "cell_type": "code",
   "execution_count": null,
   "id": "96124abc",
   "metadata": {},
   "outputs": [],
   "source": [
    "getpostcodes(\"C04\")"
   ]
  },
  {
   "cell_type": "markdown",
   "id": "3ab01644",
   "metadata": {},
   "source": [
    "Vraag 2: Which customer is assigned to which route\n"
   ]
  },
  {
   "cell_type": "code",
   "execution_count": null,
   "id": "2efda37b",
   "metadata": {
    "scrolled": true
   },
   "outputs": [],
   "source": [
    "hvc_customer_routes[[\"SO0_NRID\", \"HVROUTETEMPLATE_NRID\"]]"
   ]
  },
  {
   "cell_type": "code",
   "execution_count": null,
   "id": "76af63fc",
   "metadata": {},
   "outputs": [],
   "source": [
    "def getroutes(customer):\n",
    "    routes = hvc_customer_routes[hvc_customer_routes[\"SO0_NRID\"] == customer][\"HVROUTETEMPLATE_NRID\"].unique()\n",
    "    return routes"
   ]
  },
  {
   "cell_type": "code",
   "execution_count": null,
   "id": "02310dde",
   "metadata": {},
   "outputs": [],
   "source": [
    "getroutes(718257)"
   ]
  },
  {
   "cell_type": "markdown",
   "id": "375c55a2",
   "metadata": {},
   "source": [
    "Vraag 3: Which route is assigned to which depot\n"
   ]
  },
  {
   "cell_type": "code",
   "execution_count": 1,
   "id": "4b7fc7c4",
   "metadata": {},
   "outputs": [
    {
     "ename": "NameError",
     "evalue": "name 'hvc_depot_route' is not defined",
     "output_type": "error",
     "traceback": [
      "\u001b[1;31m---------------------------------------------------------------------------\u001b[0m",
      "\u001b[1;31mNameError\u001b[0m                                 Traceback (most recent call last)",
      "\u001b[1;32m<ipython-input-1-801d3d785e6e>\u001b[0m in \u001b[0;36m<module>\u001b[1;34m\u001b[0m\n\u001b[1;32m----> 1\u001b[1;33m \u001b[0mhvc_depot_route\u001b[0m\u001b[1;33m[\u001b[0m\u001b[1;33m[\u001b[0m\u001b[1;34m\"HVROUTETEMPLATE_NRID\"\u001b[0m\u001b[1;33m,\u001b[0m\u001b[1;34m\"DEPOT\"\u001b[0m\u001b[1;33m]\u001b[0m\u001b[1;33m]\u001b[0m\u001b[1;33m\u001b[0m\u001b[1;33m\u001b[0m\u001b[0m\n\u001b[0m",
      "\u001b[1;31mNameError\u001b[0m: name 'hvc_depot_route' is not defined"
     ]
    }
   ],
   "source": [
    "hvc_depot_route[[\"HVROUTETEMPLATE_NRID\",\"DEPOT\"]]"
   ]
  },
  {
   "cell_type": "code",
   "execution_count": 6,
   "id": "5e5418f9",
   "metadata": {
    "scrolled": true
   },
   "outputs": [
    {
     "data": {
      "text/html": [
       "<div>\n",
       "<style scoped>\n",
       "    .dataframe tbody tr th:only-of-type {\n",
       "        vertical-align: middle;\n",
       "    }\n",
       "\n",
       "    .dataframe tbody tr th {\n",
       "        vertical-align: top;\n",
       "    }\n",
       "\n",
       "    .dataframe thead th {\n",
       "        text-align: right;\n",
       "    }\n",
       "</style>\n",
       "<table border=\"1\" class=\"dataframe\">\n",
       "  <thead>\n",
       "    <tr style=\"text-align: right;\">\n",
       "      <th></th>\n",
       "      <th>REGION</th>\n",
       "    </tr>\n",
       "    <tr>\n",
       "      <th>HVROUTETEMPLATE_NRID</th>\n",
       "      <th></th>\n",
       "    </tr>\n",
       "  </thead>\n",
       "  <tbody>\n",
       "    <tr>\n",
       "      <th>70671404</th>\n",
       "      <td>C04</td>\n",
       "    </tr>\n",
       "    <tr>\n",
       "      <th>219018687</th>\n",
       "      <td>C04</td>\n",
       "    </tr>\n",
       "    <tr>\n",
       "      <th>219019324</th>\n",
       "      <td>C04</td>\n",
       "    </tr>\n",
       "    <tr>\n",
       "      <th>219019962</th>\n",
       "      <td>C04</td>\n",
       "    </tr>\n",
       "    <tr>\n",
       "      <th>219020601</th>\n",
       "      <td>C04</td>\n",
       "    </tr>\n",
       "    <tr>\n",
       "      <th>219021241</th>\n",
       "      <td>C04</td>\n",
       "    </tr>\n",
       "    <tr>\n",
       "      <th>219021882</th>\n",
       "      <td>C04</td>\n",
       "    </tr>\n",
       "    <tr>\n",
       "      <th>219022524</th>\n",
       "      <td>C04</td>\n",
       "    </tr>\n",
       "    <tr>\n",
       "      <th>219023167</th>\n",
       "      <td>C04</td>\n",
       "    </tr>\n",
       "    <tr>\n",
       "      <th>219023811</th>\n",
       "      <td>C04</td>\n",
       "    </tr>\n",
       "    <tr>\n",
       "      <th>219024456</th>\n",
       "      <td>C04</td>\n",
       "    </tr>\n",
       "    <tr>\n",
       "      <th>289411939</th>\n",
       "      <td>B02</td>\n",
       "    </tr>\n",
       "    <tr>\n",
       "      <th>289412941</th>\n",
       "      <td>B02</td>\n",
       "    </tr>\n",
       "    <tr>\n",
       "      <th>289413943</th>\n",
       "      <td>B02</td>\n",
       "    </tr>\n",
       "    <tr>\n",
       "      <th>289414945</th>\n",
       "      <td>B02</td>\n",
       "    </tr>\n",
       "    <tr>\n",
       "      <th>289416949</th>\n",
       "      <td>B02</td>\n",
       "    </tr>\n",
       "    <tr>\n",
       "      <th>289417951</th>\n",
       "      <td>B02</td>\n",
       "    </tr>\n",
       "    <tr>\n",
       "      <th>289418953</th>\n",
       "      <td>B02</td>\n",
       "    </tr>\n",
       "    <tr>\n",
       "      <th>289419955</th>\n",
       "      <td>B02</td>\n",
       "    </tr>\n",
       "    <tr>\n",
       "      <th>289655594</th>\n",
       "      <td>C17</td>\n",
       "    </tr>\n",
       "    <tr>\n",
       "      <th>289656596</th>\n",
       "      <td>C17</td>\n",
       "    </tr>\n",
       "    <tr>\n",
       "      <th>289657598</th>\n",
       "      <td>C17</td>\n",
       "    </tr>\n",
       "    <tr>\n",
       "      <th>289658600</th>\n",
       "      <td>C17</td>\n",
       "    </tr>\n",
       "    <tr>\n",
       "      <th>289659602</th>\n",
       "      <td>C17</td>\n",
       "    </tr>\n",
       "    <tr>\n",
       "      <th>289660604</th>\n",
       "      <td>C17</td>\n",
       "    </tr>\n",
       "    <tr>\n",
       "      <th>289661606</th>\n",
       "      <td>C17</td>\n",
       "    </tr>\n",
       "    <tr>\n",
       "      <th>289662608</th>\n",
       "      <td>C17</td>\n",
       "    </tr>\n",
       "    <tr>\n",
       "      <th>289663610</th>\n",
       "      <td>C17</td>\n",
       "    </tr>\n",
       "    <tr>\n",
       "      <th>289664612</th>\n",
       "      <td>C17</td>\n",
       "    </tr>\n",
       "    <tr>\n",
       "      <th>289755468</th>\n",
       "      <td>B25</td>\n",
       "    </tr>\n",
       "    <tr>\n",
       "      <th>289756470</th>\n",
       "      <td>B25</td>\n",
       "    </tr>\n",
       "    <tr>\n",
       "      <th>289757472</th>\n",
       "      <td>B25</td>\n",
       "    </tr>\n",
       "    <tr>\n",
       "      <th>289758474</th>\n",
       "      <td>B25</td>\n",
       "    </tr>\n",
       "    <tr>\n",
       "      <th>289759476</th>\n",
       "      <td>B25</td>\n",
       "    </tr>\n",
       "    <tr>\n",
       "      <th>289760478</th>\n",
       "      <td>B25</td>\n",
       "    </tr>\n",
       "    <tr>\n",
       "      <th>289761480</th>\n",
       "      <td>B25</td>\n",
       "    </tr>\n",
       "    <tr>\n",
       "      <th>289762482</th>\n",
       "      <td>B25</td>\n",
       "    </tr>\n",
       "    <tr>\n",
       "      <th>289763484</th>\n",
       "      <td>B25</td>\n",
       "    </tr>\n",
       "    <tr>\n",
       "      <th>289764486</th>\n",
       "      <td>B25</td>\n",
       "    </tr>\n",
       "  </tbody>\n",
       "</table>\n",
       "</div>"
      ],
      "text/plain": [
       "                     REGION\n",
       "HVROUTETEMPLATE_NRID       \n",
       "70671404                C04\n",
       "219018687               C04\n",
       "219019324               C04\n",
       "219019962               C04\n",
       "219020601               C04\n",
       "219021241               C04\n",
       "219021882               C04\n",
       "219022524               C04\n",
       "219023167               C04\n",
       "219023811               C04\n",
       "219024456               C04\n",
       "289411939               B02\n",
       "289412941               B02\n",
       "289413943               B02\n",
       "289414945               B02\n",
       "289416949               B02\n",
       "289417951               B02\n",
       "289418953               B02\n",
       "289419955               B02\n",
       "289655594               C17\n",
       "289656596               C17\n",
       "289657598               C17\n",
       "289658600               C17\n",
       "289659602               C17\n",
       "289660604               C17\n",
       "289661606               C17\n",
       "289662608               C17\n",
       "289663610               C17\n",
       "289664612               C17\n",
       "289755468               B25\n",
       "289756470               B25\n",
       "289757472               B25\n",
       "289758474               B25\n",
       "289759476               B25\n",
       "289760478               B25\n",
       "289761480               B25\n",
       "289762482               B25\n",
       "289763484               B25\n",
       "289764486               B25"
      ]
     },
     "execution_count": 6,
     "metadata": {},
     "output_type": "execute_result"
    }
   ],
   "source": [
    "#Which routes belong to which region\n",
    "    \n",
    "\n",
    "agg_dict = {\"REGION\": np.unique}\n",
    "hvc_customer_regions3_grouped = hvc_customer_routes.groupby(\"HVROUTETEMPLATE_NRID\").agg(agg_dict)\n",
    "\n",
    "hvc_customer_regions3_grouped\n"
   ]
  },
  {
   "cell_type": "code",
   "execution_count": null,
   "id": "5b152312",
   "metadata": {},
   "outputs": [],
   "source": [
    "hvc_customer_routes"
   ]
  },
  {
   "cell_type": "code",
   "execution_count": 7,
   "id": "4b4732ed",
   "metadata": {},
   "outputs": [
    {
     "data": {
      "text/plain": [
       "C17    11\n",
       "C04    11\n",
       "B25    10\n",
       "B02     8\n",
       "Name: REGION, dtype: int64"
      ]
     },
     "execution_count": 7,
     "metadata": {},
     "output_type": "execute_result"
    }
   ],
   "source": [
    "#how many routes per region\n",
    "hvc_routes_depot = pd.merge(hvc_depot, hvc_hvroutetemplate)\n",
    "\n",
    "hvc_routes_depot[\"REGION\"].value_counts()"
   ]
  },
  {
   "cell_type": "markdown",
   "id": "96866461",
   "metadata": {},
   "source": [
    "Vraag 4: Which employees should be assigned to a different route?"
   ]
  },
  {
   "cell_type": "code",
   "execution_count": 8,
   "id": "42f655bb",
   "metadata": {
    "scrolled": true
   },
   "outputs": [
    {
     "data": {
      "text/html": [
       "<div>\n",
       "<style scoped>\n",
       "    .dataframe tbody tr th:only-of-type {\n",
       "        vertical-align: middle;\n",
       "    }\n",
       "\n",
       "    .dataframe tbody tr th {\n",
       "        vertical-align: top;\n",
       "    }\n",
       "\n",
       "    .dataframe thead th {\n",
       "        text-align: right;\n",
       "    }\n",
       "</style>\n",
       "<table border=\"1\" class=\"dataframe\">\n",
       "  <thead>\n",
       "    <tr style=\"text-align: right;\">\n",
       "      <th></th>\n",
       "      <th>NAME</th>\n",
       "      <th>REGION</th>\n",
       "    </tr>\n",
       "  </thead>\n",
       "  <tbody>\n",
       "    <tr>\n",
       "      <th>0</th>\n",
       "      <td>QUINTEN Patrick</td>\n",
       "      <td>C17</td>\n",
       "    </tr>\n",
       "    <tr>\n",
       "      <th>1</th>\n",
       "      <td>DE MILT Tomas</td>\n",
       "      <td>C04</td>\n",
       "    </tr>\n",
       "    <tr>\n",
       "      <th>2</th>\n",
       "      <td>VAN HECKE jan</td>\n",
       "      <td>[B02, C17]</td>\n",
       "    </tr>\n",
       "    <tr>\n",
       "      <th>3</th>\n",
       "      <td>DE SANTE tom</td>\n",
       "      <td>B02</td>\n",
       "    </tr>\n",
       "    <tr>\n",
       "      <th>4</th>\n",
       "      <td>PEETERS michel</td>\n",
       "      <td>B25</td>\n",
       "    </tr>\n",
       "    <tr>\n",
       "      <th>5</th>\n",
       "      <td>BALLINGS Hendrik</td>\n",
       "      <td>[C04, C17]</td>\n",
       "    </tr>\n",
       "    <tr>\n",
       "      <th>6</th>\n",
       "      <td>MATTIJS stijn</td>\n",
       "      <td>C17</td>\n",
       "    </tr>\n",
       "    <tr>\n",
       "      <th>7</th>\n",
       "      <td>DE BAERE Sonja</td>\n",
       "      <td>B25</td>\n",
       "    </tr>\n",
       "    <tr>\n",
       "      <th>8</th>\n",
       "      <td>VAN AALST Sofie</td>\n",
       "      <td>C04</td>\n",
       "    </tr>\n",
       "    <tr>\n",
       "      <th>9</th>\n",
       "      <td>VAN HUFFEL Jan</td>\n",
       "      <td>[C04, C17]</td>\n",
       "    </tr>\n",
       "    <tr>\n",
       "      <th>10</th>\n",
       "      <td>DESTORME Frederik</td>\n",
       "      <td>C17</td>\n",
       "    </tr>\n",
       "    <tr>\n",
       "      <th>11</th>\n",
       "      <td>VERLINDEN Elke</td>\n",
       "      <td>B25</td>\n",
       "    </tr>\n",
       "    <tr>\n",
       "      <th>12</th>\n",
       "      <td>VERRESEN Dirk</td>\n",
       "      <td>[C04, C17]</td>\n",
       "    </tr>\n",
       "    <tr>\n",
       "      <th>13</th>\n",
       "      <td>DE BRUYNE Charlotte</td>\n",
       "      <td>[B25, C17]</td>\n",
       "    </tr>\n",
       "    <tr>\n",
       "      <th>14</th>\n",
       "      <td>HEYNDRICKX Wim</td>\n",
       "      <td>[B25, C17]</td>\n",
       "    </tr>\n",
       "    <tr>\n",
       "      <th>15</th>\n",
       "      <td>KERCKAERT Pieter</td>\n",
       "      <td>[B02, B25, C04, C17]</td>\n",
       "    </tr>\n",
       "    <tr>\n",
       "      <th>16</th>\n",
       "      <td>BUFFEL Sandy</td>\n",
       "      <td>[B25, C17]</td>\n",
       "    </tr>\n",
       "    <tr>\n",
       "      <th>17</th>\n",
       "      <td>JANNSENS Eddy</td>\n",
       "      <td>[B25, C04]</td>\n",
       "    </tr>\n",
       "    <tr>\n",
       "      <th>18</th>\n",
       "      <td>DE TREMERIE Dimitri</td>\n",
       "      <td>C17</td>\n",
       "    </tr>\n",
       "    <tr>\n",
       "      <th>19</th>\n",
       "      <td>MORTIER Magda</td>\n",
       "      <td>C17</td>\n",
       "    </tr>\n",
       "    <tr>\n",
       "      <th>20</th>\n",
       "      <td>DE BRUYNE Chris</td>\n",
       "      <td>[C04, C17]</td>\n",
       "    </tr>\n",
       "    <tr>\n",
       "      <th>21</th>\n",
       "      <td>DE SMET Stijn</td>\n",
       "      <td>[B25, C04, C17]</td>\n",
       "    </tr>\n",
       "    <tr>\n",
       "      <th>22</th>\n",
       "      <td>DE CONINCK Marnik</td>\n",
       "      <td>[B25, C04, C17]</td>\n",
       "    </tr>\n",
       "    <tr>\n",
       "      <th>23</th>\n",
       "      <td>DE PAUW Kim</td>\n",
       "      <td>C04</td>\n",
       "    </tr>\n",
       "    <tr>\n",
       "      <th>24</th>\n",
       "      <td>STEEMAN Evy</td>\n",
       "      <td>[B25, C04, C17]</td>\n",
       "    </tr>\n",
       "    <tr>\n",
       "      <th>25</th>\n",
       "      <td>CLAEYS Liebeth</td>\n",
       "      <td>[C04, C17]</td>\n",
       "    </tr>\n",
       "    <tr>\n",
       "      <th>26</th>\n",
       "      <td>CLAUS David</td>\n",
       "      <td>[B02, B25, C04, C17]</td>\n",
       "    </tr>\n",
       "    <tr>\n",
       "      <th>27</th>\n",
       "      <td>CABOOTER Dries</td>\n",
       "      <td>B25</td>\n",
       "    </tr>\n",
       "    <tr>\n",
       "      <th>28</th>\n",
       "      <td>VERSTRAETE Erik</td>\n",
       "      <td>C04</td>\n",
       "    </tr>\n",
       "    <tr>\n",
       "      <th>29</th>\n",
       "      <td>TACK Hann</td>\n",
       "      <td>[B02, B25, C04, C17]</td>\n",
       "    </tr>\n",
       "    <tr>\n",
       "      <th>30</th>\n",
       "      <td>PAUWELS Jeffrey</td>\n",
       "      <td>[B02, B25, C04, C17]</td>\n",
       "    </tr>\n",
       "    <tr>\n",
       "      <th>31</th>\n",
       "      <td>JACOBS Michel</td>\n",
       "      <td>C17</td>\n",
       "    </tr>\n",
       "  </tbody>\n",
       "</table>\n",
       "</div>"
      ],
      "text/plain": [
       "                   NAME                REGION\n",
       "0       QUINTEN Patrick                   C17\n",
       "1         DE MILT Tomas                   C04\n",
       "2         VAN HECKE jan            [B02, C17]\n",
       "3          DE SANTE tom                   B02\n",
       "4        PEETERS michel                   B25\n",
       "5      BALLINGS Hendrik            [C04, C17]\n",
       "6         MATTIJS stijn                   C17\n",
       "7        DE BAERE Sonja                   B25\n",
       "8       VAN AALST Sofie                   C04\n",
       "9        VAN HUFFEL Jan            [C04, C17]\n",
       "10    DESTORME Frederik                   C17\n",
       "11       VERLINDEN Elke                   B25\n",
       "12        VERRESEN Dirk            [C04, C17]\n",
       "13  DE BRUYNE Charlotte            [B25, C17]\n",
       "14       HEYNDRICKX Wim            [B25, C17]\n",
       "15     KERCKAERT Pieter  [B02, B25, C04, C17]\n",
       "16         BUFFEL Sandy            [B25, C17]\n",
       "17        JANNSENS Eddy            [B25, C04]\n",
       "18  DE TREMERIE Dimitri                   C17\n",
       "19        MORTIER Magda                   C17\n",
       "20      DE BRUYNE Chris            [C04, C17]\n",
       "21        DE SMET Stijn       [B25, C04, C17]\n",
       "22    DE CONINCK Marnik       [B25, C04, C17]\n",
       "23          DE PAUW Kim                   C04\n",
       "24          STEEMAN Evy       [B25, C04, C17]\n",
       "25       CLAEYS Liebeth            [C04, C17]\n",
       "26          CLAUS David  [B02, B25, C04, C17]\n",
       "27       CABOOTER Dries                   B25\n",
       "28      VERSTRAETE Erik                   C04\n",
       "29            TACK Hann  [B02, B25, C04, C17]\n",
       "30      PAUWELS Jeffrey  [B02, B25, C04, C17]\n",
       "31        JACOBS Michel                   C17"
      ]
     },
     "execution_count": 8,
     "metadata": {},
     "output_type": "execute_result"
    }
   ],
   "source": [
    "hvc_employee_route_region = pd.merge(pd.merge(hvc_so0, hvc_hvroutetemplate, on = \"HVROUTETEMPLATE_NRID\"), hvc_hvvisitresult)\n",
    "\n",
    "agg_dict = {\"REGION\": np.unique}\n",
    "hvc_employee_route_region_grouped = hvc_employee_route_region.groupby(\"AM0_NRID\").agg(agg_dict)\n",
    "hvc_employee_region_name = pd.merge(hvc_employee_route_region_grouped, hvc_am0, on = \"AM0_NRID\")\n",
    "\n",
    "hvc_employee_region_name[[\"NAME\", \"REGION\"]]\n"
   ]
  },
  {
   "cell_type": "code",
   "execution_count": 9,
   "id": "d7843edc",
   "metadata": {},
   "outputs": [
    {
     "data": {
      "text/html": [
       "<div>\n",
       "<style scoped>\n",
       "    .dataframe tbody tr th:only-of-type {\n",
       "        vertical-align: middle;\n",
       "    }\n",
       "\n",
       "    .dataframe tbody tr th {\n",
       "        vertical-align: top;\n",
       "    }\n",
       "\n",
       "    .dataframe thead th {\n",
       "        text-align: right;\n",
       "    }\n",
       "</style>\n",
       "<table border=\"1\" class=\"dataframe\">\n",
       "  <thead>\n",
       "    <tr style=\"text-align: right;\">\n",
       "      <th></th>\n",
       "      <th>SO0_NRID</th>\n",
       "      <th>HVROUTETEMPLATE_NRID</th>\n",
       "      <th>CUST_TYPE</th>\n",
       "      <th>POSTCODE</th>\n",
       "      <th>LANGUAGE</th>\n",
       "      <th>SEASON_TYPE</th>\n",
       "      <th>REGION</th>\n",
       "      <th>WEEKORDER</th>\n",
       "      <th>HVDAYOFWEEK_NRID</th>\n",
       "      <th>HVVISITRESULT_NRID</th>\n",
       "      <th>AM0_NRID</th>\n",
       "      <th>HVOUTCOME_NRID</th>\n",
       "      <th>VISITDATE</th>\n",
       "      <th>DATEONLY</th>\n",
       "      <th>AMOUNT</th>\n",
       "      <th>PAYMENTTERM</th>\n",
       "    </tr>\n",
       "  </thead>\n",
       "  <tbody>\n",
       "    <tr>\n",
       "      <th>0</th>\n",
       "      <td>721104</td>\n",
       "      <td>219020601</td>\n",
       "      <td>Private</td>\n",
       "      <td>3930</td>\n",
       "      <td>nl-BE</td>\n",
       "      <td>All time</td>\n",
       "      <td>C04</td>\n",
       "      <td>1</td>\n",
       "      <td>5</td>\n",
       "      <td>55316941</td>\n",
       "      <td>23186288605042</td>\n",
       "      <td>0</td>\n",
       "      <td>2021-10-21 15:40:11</td>\n",
       "      <td>2019-04-23</td>\n",
       "      <td>0.0</td>\n",
       "      <td>NaN</td>\n",
       "    </tr>\n",
       "    <tr>\n",
       "      <th>1</th>\n",
       "      <td>721104</td>\n",
       "      <td>219020601</td>\n",
       "      <td>Private</td>\n",
       "      <td>3930</td>\n",
       "      <td>nl-BE</td>\n",
       "      <td>All time</td>\n",
       "      <td>C04</td>\n",
       "      <td>1</td>\n",
       "      <td>5</td>\n",
       "      <td>54812545</td>\n",
       "      <td>23186288605042</td>\n",
       "      <td>0</td>\n",
       "      <td>2021-10-21 13:50:16</td>\n",
       "      <td>2019-04-09</td>\n",
       "      <td>0.0</td>\n",
       "      <td>NaN</td>\n",
       "    </tr>\n",
       "    <tr>\n",
       "      <th>2</th>\n",
       "      <td>721104</td>\n",
       "      <td>219020601</td>\n",
       "      <td>Private</td>\n",
       "      <td>3930</td>\n",
       "      <td>nl-BE</td>\n",
       "      <td>All time</td>\n",
       "      <td>C04</td>\n",
       "      <td>1</td>\n",
       "      <td>5</td>\n",
       "      <td>53951776</td>\n",
       "      <td>23186288605042</td>\n",
       "      <td>0</td>\n",
       "      <td>2021-10-21 16:37:35</td>\n",
       "      <td>2019-03-12</td>\n",
       "      <td>0.0</td>\n",
       "      <td>NaN</td>\n",
       "    </tr>\n",
       "    <tr>\n",
       "      <th>3</th>\n",
       "      <td>721104</td>\n",
       "      <td>219020601</td>\n",
       "      <td>Private</td>\n",
       "      <td>3930</td>\n",
       "      <td>nl-BE</td>\n",
       "      <td>All time</td>\n",
       "      <td>C04</td>\n",
       "      <td>1</td>\n",
       "      <td>5</td>\n",
       "      <td>52720761</td>\n",
       "      <td>23186288605042</td>\n",
       "      <td>0</td>\n",
       "      <td>2021-10-21 16:07:27</td>\n",
       "      <td>2019-01-29</td>\n",
       "      <td>0.0</td>\n",
       "      <td>NaN</td>\n",
       "    </tr>\n",
       "    <tr>\n",
       "      <th>4</th>\n",
       "      <td>721104</td>\n",
       "      <td>219020601</td>\n",
       "      <td>Private</td>\n",
       "      <td>3930</td>\n",
       "      <td>nl-BE</td>\n",
       "      <td>All time</td>\n",
       "      <td>C04</td>\n",
       "      <td>1</td>\n",
       "      <td>5</td>\n",
       "      <td>52316519</td>\n",
       "      <td>23186288605042</td>\n",
       "      <td>0</td>\n",
       "      <td>2021-10-21 16:50:39</td>\n",
       "      <td>2019-01-15</td>\n",
       "      <td>0.0</td>\n",
       "      <td>NaN</td>\n",
       "    </tr>\n",
       "    <tr>\n",
       "      <th>...</th>\n",
       "      <td>...</td>\n",
       "      <td>...</td>\n",
       "      <td>...</td>\n",
       "      <td>...</td>\n",
       "      <td>...</td>\n",
       "      <td>...</td>\n",
       "      <td>...</td>\n",
       "      <td>...</td>\n",
       "      <td>...</td>\n",
       "      <td>...</td>\n",
       "      <td>...</td>\n",
       "      <td>...</td>\n",
       "      <td>...</td>\n",
       "      <td>...</td>\n",
       "      <td>...</td>\n",
       "      <td>...</td>\n",
       "    </tr>\n",
       "    <tr>\n",
       "      <th>240410</th>\n",
       "      <td>25985676253650</td>\n",
       "      <td>289757472</td>\n",
       "      <td>Private</td>\n",
       "      <td>3960</td>\n",
       "      <td>nl-BE</td>\n",
       "      <td>All time</td>\n",
       "      <td>B25</td>\n",
       "      <td>1</td>\n",
       "      <td>4</td>\n",
       "      <td>71543400</td>\n",
       "      <td>19946584592834</td>\n",
       "      <td>1</td>\n",
       "      <td>2021-10-21 14:33:47</td>\n",
       "      <td>2020-10-05</td>\n",
       "      <td>0.0</td>\n",
       "      <td>NaN</td>\n",
       "    </tr>\n",
       "    <tr>\n",
       "      <th>240411</th>\n",
       "      <td>25985676253650</td>\n",
       "      <td>289757472</td>\n",
       "      <td>Private</td>\n",
       "      <td>3960</td>\n",
       "      <td>nl-BE</td>\n",
       "      <td>All time</td>\n",
       "      <td>B25</td>\n",
       "      <td>1</td>\n",
       "      <td>4</td>\n",
       "      <td>73525869</td>\n",
       "      <td>19946584592834</td>\n",
       "      <td>1</td>\n",
       "      <td>2021-10-21 14:32:14</td>\n",
       "      <td>2020-12-14</td>\n",
       "      <td>0.0</td>\n",
       "      <td>NaN</td>\n",
       "    </tr>\n",
       "    <tr>\n",
       "      <th>240412</th>\n",
       "      <td>25985676253650</td>\n",
       "      <td>289757472</td>\n",
       "      <td>Private</td>\n",
       "      <td>3960</td>\n",
       "      <td>nl-BE</td>\n",
       "      <td>All time</td>\n",
       "      <td>B25</td>\n",
       "      <td>1</td>\n",
       "      <td>4</td>\n",
       "      <td>72988009</td>\n",
       "      <td>19946584592834</td>\n",
       "      <td>1</td>\n",
       "      <td>2021-10-21 14:25:03</td>\n",
       "      <td>2020-11-30</td>\n",
       "      <td>0.0</td>\n",
       "      <td>NaN</td>\n",
       "    </tr>\n",
       "    <tr>\n",
       "      <th>240413</th>\n",
       "      <td>25985676253650</td>\n",
       "      <td>289757472</td>\n",
       "      <td>Private</td>\n",
       "      <td>3960</td>\n",
       "      <td>nl-BE</td>\n",
       "      <td>All time</td>\n",
       "      <td>B25</td>\n",
       "      <td>1</td>\n",
       "      <td>4</td>\n",
       "      <td>72543532</td>\n",
       "      <td>19946584592834</td>\n",
       "      <td>1</td>\n",
       "      <td>2021-10-21 14:15:35</td>\n",
       "      <td>2020-11-16</td>\n",
       "      <td>0.0</td>\n",
       "      <td>NaN</td>\n",
       "    </tr>\n",
       "    <tr>\n",
       "      <th>240414</th>\n",
       "      <td>19672260568052</td>\n",
       "      <td>70671404</td>\n",
       "      <td>Catering</td>\n",
       "      <td>3950</td>\n",
       "      <td>nl-BE</td>\n",
       "      <td>All time</td>\n",
       "      <td>C04</td>\n",
       "      <td>1</td>\n",
       "      <td>1</td>\n",
       "      <td>57785797</td>\n",
       "      <td>24226444135852</td>\n",
       "      <td>2</td>\n",
       "      <td>2021-10-21 09:27:39</td>\n",
       "      <td>2019-07-02</td>\n",
       "      <td>95.9</td>\n",
       "      <td>tbp</td>\n",
       "    </tr>\n",
       "  </tbody>\n",
       "</table>\n",
       "<p>240415 rows × 16 columns</p>\n",
       "</div>"
      ],
      "text/plain": [
       "              SO0_NRID  HVROUTETEMPLATE_NRID CUST_TYPE  POSTCODE LANGUAGE  \\\n",
       "0               721104             219020601   Private      3930    nl-BE   \n",
       "1               721104             219020601   Private      3930    nl-BE   \n",
       "2               721104             219020601   Private      3930    nl-BE   \n",
       "3               721104             219020601   Private      3930    nl-BE   \n",
       "4               721104             219020601   Private      3930    nl-BE   \n",
       "...                ...                   ...       ...       ...      ...   \n",
       "240410  25985676253650             289757472   Private      3960    nl-BE   \n",
       "240411  25985676253650             289757472   Private      3960    nl-BE   \n",
       "240412  25985676253650             289757472   Private      3960    nl-BE   \n",
       "240413  25985676253650             289757472   Private      3960    nl-BE   \n",
       "240414  19672260568052              70671404  Catering      3950    nl-BE   \n",
       "\n",
       "       SEASON_TYPE REGION  WEEKORDER  HVDAYOFWEEK_NRID  HVVISITRESULT_NRID  \\\n",
       "0         All time    C04          1                 5            55316941   \n",
       "1         All time    C04          1                 5            54812545   \n",
       "2         All time    C04          1                 5            53951776   \n",
       "3         All time    C04          1                 5            52720761   \n",
       "4         All time    C04          1                 5            52316519   \n",
       "...            ...    ...        ...               ...                 ...   \n",
       "240410    All time    B25          1                 4            71543400   \n",
       "240411    All time    B25          1                 4            73525869   \n",
       "240412    All time    B25          1                 4            72988009   \n",
       "240413    All time    B25          1                 4            72543532   \n",
       "240414    All time    C04          1                 1            57785797   \n",
       "\n",
       "              AM0_NRID  HVOUTCOME_NRID           VISITDATE   DATEONLY  AMOUNT  \\\n",
       "0       23186288605042               0 2021-10-21 15:40:11 2019-04-23     0.0   \n",
       "1       23186288605042               0 2021-10-21 13:50:16 2019-04-09     0.0   \n",
       "2       23186288605042               0 2021-10-21 16:37:35 2019-03-12     0.0   \n",
       "3       23186288605042               0 2021-10-21 16:07:27 2019-01-29     0.0   \n",
       "4       23186288605042               0 2021-10-21 16:50:39 2019-01-15     0.0   \n",
       "...                ...             ...                 ...        ...     ...   \n",
       "240410  19946584592834               1 2021-10-21 14:33:47 2020-10-05     0.0   \n",
       "240411  19946584592834               1 2021-10-21 14:32:14 2020-12-14     0.0   \n",
       "240412  19946584592834               1 2021-10-21 14:25:03 2020-11-30     0.0   \n",
       "240413  19946584592834               1 2021-10-21 14:15:35 2020-11-16     0.0   \n",
       "240414  24226444135852               2 2021-10-21 09:27:39 2019-07-02    95.9   \n",
       "\n",
       "       PAYMENTTERM  \n",
       "0              NaN  \n",
       "1              NaN  \n",
       "2              NaN  \n",
       "3              NaN  \n",
       "4              NaN  \n",
       "...            ...  \n",
       "240410         NaN  \n",
       "240411         NaN  \n",
       "240412         NaN  \n",
       "240413         NaN  \n",
       "240414         tbp  \n",
       "\n",
       "[240415 rows x 16 columns]"
      ]
     },
     "execution_count": 9,
     "metadata": {},
     "output_type": "execute_result"
    }
   ],
   "source": [
    "hvc_routes_per_employeename = pd.merge(hvc_employee_route_region, hvc_am0)\n",
    "\n",
    "#hvc_routes_per_employeename[\"NAME\"].nunique()\n",
    "\n",
    "#hvc_employee_route_region[\"AM0_NRID\"].nunique()\n",
    "\n",
    "\n",
    "hvc_employee_route_region\n",
    "\n",
    " \n"
   ]
  },
  {
   "cell_type": "code",
   "execution_count": 10,
   "id": "930866ca",
   "metadata": {},
   "outputs": [],
   "source": [
    "#employee x has route x that is in region x\n",
    "hvc_employee_routeinregion_onname= pd.merge(hvc_employee_route_region, hvc_am0, on = \"AM0_NRID\")#[\"REGION\"].value_counts()\n",
    "\n",
    "def getroutesofemployee(employee):\n",
    "    routes_of_employee = hvc_employee_routeinregion_onname[hvc_employee_routeinregion_onname[\"NAME\"] == employee][[\"HVROUTETEMPLATE_NRID\",\"REGION\"]][\"REGION\"].value_counts()\n",
    "    return routes_of_employee"
   ]
  },
  {
   "cell_type": "code",
   "execution_count": null,
   "id": "12a34dfe",
   "metadata": {},
   "outputs": [],
   "source": [
    "getroutesofemployee(\"VAN HUFFEL Jan\")"
   ]
  },
  {
   "cell_type": "code",
   "execution_count": 11,
   "id": "0fec13d4",
   "metadata": {},
   "outputs": [
    {
     "data": {
      "text/plain": [
       "NAME\n",
       "BALLINGS Hendrik       [219021241, 219024456, 219023167, 219023811, 2...\n",
       "BUFFEL Sandy           [289663610, 289756470, 289761480, 289755468, 2...\n",
       "CABOOTER Dries                                               [289762482]\n",
       "CLAEYS Liebeth              [219021241, 219024456, 219021882, 289655594]\n",
       "CLAUS David            [219020601, 219021241, 219024456, 219021882, 2...\n",
       "DE BAERE Sonja                                               [289758474]\n",
       "DE BRUYNE Charlotte    [289663610, 289763484, 289758474, 289661606, 2...\n",
       "DE BRUYNE Chris             [219021241, 219024456, 219021882, 289661606]\n",
       "DE CONINCK Marnik      [219021241, 219024456, 289761480, 289755468, 2...\n",
       "DE MILT Tomas                                                [219019324]\n",
       "DE PAUW Kim            [219020601, 219021241, 219024456, 219021882, 2...\n",
       "DE SANTE tom                                                 [289413943]\n",
       "DE SMET Stijn          [219020601, 219021882, 289756470, 289761480, 2...\n",
       "DE TREMERIE Dimitri                                          [289655594]\n",
       "DESTORME Frederik                                            [289655594]\n",
       "HEYNDRICKX Wim                                    [289755468, 289661606]\n",
       "JACOBS Michel                                                [289655594]\n",
       "JANNSENS Eddy          [219024456, 219022524, 219018687, 289756470, 2...\n",
       "KERCKAERT Pieter       [219020601, 219021241, 219024456, 219021882, 2...\n",
       "MATTIJS stijn          [289663610, 289661606, 289662608, 289658600, 2...\n",
       "MORTIER Magda                                                [289655594]\n",
       "PAUWELS Jeffrey        [219024456, 219021882, 219023167, 289416949, 2...\n",
       "PEETERS michel         [289756470, 289761480, 289755468, 289759476, 2...\n",
       "QUINTEN Patrick                                              [289661606]\n",
       "STEEMAN Evy            [219018687, 219019962, 289756470, 289755468, 2...\n",
       "TACK Hann              [219020601, 219021241, 219024456, 219021882, 2...\n",
       "VAN AALST Sofie                                              [219019962]\n",
       "VAN HECKE jan          [289416949, 289419955, 289417951, 289418953, 2...\n",
       "VAN HUFFEL Jan         [219020601, 219021241, 219024456, 219021882, 2...\n",
       "VERLINDEN Elke                                               [289756470]\n",
       "VERRESEN Dirk          [219020601, 219021241, 219024456, 219021882, 2...\n",
       "VERSTRAETE Erik        [219020601, 219021241, 219024456, 219021882, 2...\n",
       "Name: HVROUTETEMPLATE_NRID, dtype: object"
      ]
     },
     "execution_count": 11,
     "metadata": {},
     "output_type": "execute_result"
    }
   ],
   "source": [
    "hvc_employee_routeinregion_onname_grouped = hvc_employee_routeinregion_onname.groupby(\"NAME\")[\"HVROUTETEMPLATE_NRID\"].unique()\n",
    "hvc_employee_routeinregion_onname_grouped"
   ]
  },
  {
   "cell_type": "code",
   "execution_count": 12,
   "id": "b8ca8047",
   "metadata": {},
   "outputs": [
    {
     "data": {
      "text/plain": [
       "<matplotlib.collections.PathCollection at 0x7fc5c51c3e50>"
      ]
     },
     "execution_count": 12,
     "metadata": {},
     "output_type": "execute_result"
    },
    {
     "data": {
      "image/png": "[encoded data removed]",
      "text/plain": [
       "<Figure size 720x720 with 1 Axes>"
      ]
     },
     "metadata": {
      "needs_background": "light"
     },
     "output_type": "display_data"
    }
   ],
   "source": [
    "data_employees = {'EMPLOYEES': ['Tielen','Mol', 'Hasselt', 'Overpelt', 'Lommel', 'Stevoort', 'Zutendaal', 'Koersel', 'Peer', 'Borgloon', 'Waterschei - Zwartberg', 'As', 'Bonsin', 'Diepenbeek', 'Mechelen-Aan-De-Maas', 'Hamont', 'Gingelom', 'Neerpelt', 'Valmeer', 'Herk-de-Stad'], 'Long': [4.53, 5.07, 5.20, 5.26, 5.19, 5.15, 5.34, 5.18, 5.27, 5.21, 5.31, 5.57, 5.37, 5.25, 5.64, 5.32, 5.08, 5.26, 5.36, 5.22], 'Lat' :[51.14,51.11, 50.56, 51.13, 51.14, 50.54, 50.56, 50.56, 51.08, 50.48, 51.00, 51.00, 50.37, 50.54, 50.97, 51.15, 50.45, 51.14, 50.47, 50.91]}  \n",
    "  \n",
    "data_employees_dataframe = pd.DataFrame(data_employees)  \n",
    "\n",
    "data_employees_dataframe\n",
    "\n",
    "plt.figure(figsize=(10,10))\n",
    "plt.scatter(data_employees_dataframe[\"Long\"],data_employees_dataframe[\"Lat\"])"
   ]
  },
  {
   "cell_type": "code",
   "execution_count": 15,
   "id": "4bda48e9",
   "metadata": {},
   "outputs": [
    {
     "data": {
      "text/plain": [
       "<function matplotlib.pyplot.show(close=None, block=None)>"
      ]
     },
     "execution_count": 15,
     "metadata": {},
     "output_type": "execute_result"
    },
    {
     "data": {
      "image/png": "[encoded data removed]",
      "text/plain": [
       "<Figure size 432x288 with 1 Axes>"
      ]
     },
     "metadata": {
      "needs_background": "light"
     },
     "output_type": "display_data"
    }
   ],
   "source": [
    "#How many times a region has been served\n",
    "regions= [\"CO4\", \"BO2\", \"B25\", \"C17\"]\n",
    "count = [11,6, 10, 22]\n",
    "\n",
    "plt.bar(regions, count, color = \"#ffb923\")\n",
    "plt.title('How many employees are active per region')\n",
    "plt.xlabel(\"Region\")\n",
    "plt.ylabel(\"Count\")\n",
    "plt.show"
   ]
  },
  {
   "cell_type": "code",
   "execution_count": null,
   "id": "fa9da4c9",
   "metadata": {},
   "outputs": [],
   "source": [
    "#How many routes there are per region\n",
    "regions= [\"CO4\", \"BO2\", \"B25\", \"C17\"]\n",
    "routes = [11,8, 10, 11]\n",
    "\n",
    "plt.bar(regions, routes, color = \"#ffb923\")\n",
    "plt.title('How many routes there are per region')\n",
    "plt.xlabel(\"Region\")\n",
    "plt.ylabel(\"Number of routes\")\n",
    "plt.show"
   ]
  },
  {
   "cell_type": "code",
   "execution_count": 49,
   "id": "d0439acd",
   "metadata": {},
   "outputs": [
    {
     "data": {
      "text/plain": [
       "<BarContainer object of 4 artists>"
      ]
     },
     "execution_count": 49,
     "metadata": {},
     "output_type": "execute_result"
    },
    {
     "data": {
      "image/png": "[encoded data removed]",
      "text/plain": [
       "<Figure size 432x288 with 1 Axes>"
      ]
     },
     "metadata": {
      "needs_background": "light"
     },
     "output_type": "display_data"
    }
   ],
   "source": [
    "#Are there more customers to visite in a region?\n",
    "plt.title(\"How many customers to visite per region\")\n",
    "plt.bar([\"C04\", \"B02\",\"B25\", \"C17\"] ,[1433,1199,1747,1318], color = \"#ffb923\")\n"
   ]
  },
  {
   "cell_type": "markdown",
   "id": "11f651ca",
   "metadata": {},
   "source": [
    "Vraag 5: Which routes should be reassigned to different depots?\n",
    "\n",
    "Vraag 7: Which depots should be removed? Where should the company create new depots?"
   ]
  },
  {
   "cell_type": "code",
   "execution_count": 67,
   "id": "09ad31e2",
   "metadata": {},
   "outputs": [
    {
     "data": {
      "text/html": [
       "<div>\n",
       "<style scoped>\n",
       "    .dataframe tbody tr th:only-of-type {\n",
       "        vertical-align: middle;\n",
       "    }\n",
       "\n",
       "    .dataframe tbody tr th {\n",
       "        vertical-align: top;\n",
       "    }\n",
       "\n",
       "    .dataframe thead th {\n",
       "        text-align: right;\n",
       "    }\n",
       "</style>\n",
       "<table border=\"1\" class=\"dataframe\">\n",
       "  <thead>\n",
       "    <tr style=\"text-align: right;\">\n",
       "      <th></th>\n",
       "      <th>DEPOT</th>\n",
       "      <th>Long</th>\n",
       "      <th>Lat</th>\n",
       "    </tr>\n",
       "  </thead>\n",
       "  <tbody>\n",
       "    <tr>\n",
       "      <th>0</th>\n",
       "      <td>Deinze</td>\n",
       "      <td>3.523586</td>\n",
       "      <td>50.987541</td>\n",
       "    </tr>\n",
       "    <tr>\n",
       "      <th>1</th>\n",
       "      <td>Antwerpen</td>\n",
       "      <td>4.402464</td>\n",
       "      <td>51.219448</td>\n",
       "    </tr>\n",
       "    <tr>\n",
       "      <th>2</th>\n",
       "      <td>Vilvoorde</td>\n",
       "      <td>4.425787</td>\n",
       "      <td>50.927251</td>\n",
       "    </tr>\n",
       "    <tr>\n",
       "      <th>3</th>\n",
       "      <td>Aarschot</td>\n",
       "      <td>4.836522</td>\n",
       "      <td>50.985996</td>\n",
       "    </tr>\n",
       "  </tbody>\n",
       "</table>\n",
       "</div>"
      ],
      "text/plain": [
       "       DEPOT      Long        Lat\n",
       "0     Deinze  3.523586  50.987541\n",
       "1  Antwerpen  4.402464  51.219448\n",
       "2  Vilvoorde  4.425787  50.927251\n",
       "3   Aarschot  4.836522  50.985996"
      ]
     },
     "execution_count": 67,
     "metadata": {},
     "output_type": "execute_result"
    }
   ],
   "source": [
    "data = {'DEPOT': ['Deinze', 'Antwerpen', 'Vilvoorde', 'Aarschot'], 'Long': [3.5235857, 4.4024643, 4.4257868,4.8365218], 'Lat' :[50.9875406,51.2194475,50.9272511,50.9859959]}  \n",
    "  \n",
    "data_depot = pd.DataFrame(data)  \n",
    " \n",
    "data_depot  \n"
   ]
  },
  {
   "cell_type": "code",
   "execution_count": 13,
   "id": "92ffa546",
   "metadata": {},
   "outputs": [
    {
     "ename": "NameError",
     "evalue": "name 'hvc_depot_route' is not defined",
     "output_type": "error",
     "traceback": [
      "\u001b[0;31m---------------------------------------------------------------------------\u001b[0m",
      "\u001b[0;31mNameError\u001b[0m                                 Traceback (most recent call last)",
      "\u001b[0;32m<ipython-input-13-086d70d65701>\u001b[0m in \u001b[0;36m<module>\u001b[0;34m\u001b[0m\n\u001b[1;32m      1\u001b[0m \u001b[0;31m#group the depot to see which regions are present in a depot\u001b[0m\u001b[0;34m\u001b[0m\u001b[0;34m\u001b[0m\u001b[0;34m\u001b[0m\u001b[0m\n\u001b[1;32m      2\u001b[0m \u001b[0magg_dict_depot\u001b[0m \u001b[0;34m=\u001b[0m \u001b[0;34m{\u001b[0m\u001b[0;34m\"REGION\"\u001b[0m\u001b[0;34m:\u001b[0m \u001b[0mnp\u001b[0m\u001b[0;34m.\u001b[0m\u001b[0munique\u001b[0m\u001b[0;34m}\u001b[0m\u001b[0;34m\u001b[0m\u001b[0;34m\u001b[0m\u001b[0m\n\u001b[0;32m----> 3\u001b[0;31m \u001b[0mhvc_depot_route_grouped\u001b[0m \u001b[0;34m=\u001b[0m \u001b[0mhvc_depot_route\u001b[0m\u001b[0;34m.\u001b[0m\u001b[0mgroupby\u001b[0m\u001b[0;34m(\u001b[0m\u001b[0;34m\"DEPOT\"\u001b[0m\u001b[0;34m)\u001b[0m\u001b[0;34m.\u001b[0m\u001b[0magg\u001b[0m\u001b[0;34m(\u001b[0m\u001b[0magg_dict\u001b[0m\u001b[0;34m)\u001b[0m\u001b[0;34m\u001b[0m\u001b[0;34m\u001b[0m\u001b[0m\n\u001b[0m\u001b[1;32m      4\u001b[0m \u001b[0;34m\u001b[0m\u001b[0m\n\u001b[1;32m      5\u001b[0m \u001b[0mhvc_depot_route_grouped\u001b[0m\u001b[0;34m\u001b[0m\u001b[0;34m\u001b[0m\u001b[0m\n",
      "\u001b[0;31mNameError\u001b[0m: name 'hvc_depot_route' is not defined"
     ]
    }
   ],
   "source": [
    "#group the depot to see which regions are present in a depot\n",
    "agg_dict_depot = {\"REGION\": np.unique}\n",
    "hvc_depot_route_grouped = hvc_depot_route.groupby(\"DEPOT\").agg(agg_dict)\n",
    "\n",
    "hvc_depot_route_grouped\n"
   ]
  },
  {
   "cell_type": "code",
   "execution_count": null,
   "id": "34894d6e",
   "metadata": {},
   "outputs": [],
   "source": [
    "#to see in which regions certain depots are active\n",
    "#hvc_depot_route[hvc_depot_route[\"DEPOT\"] == 'Deinze'][\"REGION\"].value_counts()\n",
    "\n",
    "plt.figure(figsize=(10,10))\n",
    "new_list = range(0, 4)\n",
    "\n",
    "plt.yticks(new_list)\n",
    "\n",
    "plt.xlabel(\"Depots\")\n",
    "plt.ylabel(\"Number of regions\")\n",
    "for depot in hvc_depot_route[\"DEPOT\"]:\n",
    "    plt.bar(depot, len(hvc_depot_route[hvc_depot_route[\"DEPOT\"] == depot][\"REGION\"].unique()), color = \"#ffb923\")\n",
    "    #different colors for the bars or not?\n",
    "\n",
    "plt.savefig(\"./data/fig_depots_serving_regions.jpeg\")"
   ]
  },
  {
   "cell_type": "code",
   "execution_count": 15,
   "id": "7c53935c",
   "metadata": {},
   "outputs": [
    {
     "data": {
      "text/plain": [
       "<matplotlib.collections.PathCollection at 0x7fc5c3c85700>"
      ]
     },
     "execution_count": 15,
     "metadata": {},
     "output_type": "execute_result"
    },
    {
     "data": {
      "image/png": "[encoded data removed]",
      "text/plain": [
       "<Figure size 720x720 with 1 Axes>"
      ]
     },
     "metadata": {
      "needs_background": "light"
     },
     "output_type": "display_data"
    }
   ],
   "source": [
    "belgium_df = pd.read_csv(\"./data/zipcode-belgium.csv\", header = None)\n",
    "\n",
    "belgium_df\n",
    "\n",
    "plt.figure(figsize=(10,10))\n",
    "plt.scatter(belgium_df[3], belgium_df[2], s = 5)"
   ]
  },
  {
   "cell_type": "code",
   "execution_count": 16,
   "id": "dcc1aa01",
   "metadata": {},
   "outputs": [],
   "source": [
    "belgium_df.columns = [\"POSTCODE\", \"LOCATION\", \"LONG\", \"LAT\"]"
   ]
  },
  {
   "cell_type": "code",
   "execution_count": 47,
   "id": "ca4ebe78",
   "metadata": {
    "scrolled": false
   },
   "outputs": [
    {
     "data": {
      "image/png": "[encoded data removed]",
      "text/plain": [
       "<Figure size 720x720 with 1 Axes>"
      ]
     },
     "metadata": {
      "needs_background": "light"
     },
     "output_type": "display_data"
    }
   ],
   "source": [
    "#juiste locaties geven aan de customers\n",
    "hvc_customer_belgium = pd.merge(hvc_customer_regions,belgium_df, on = \"POSTCODE\")\n",
    "hvc_customer_belgium\n",
    "\n",
    "plt.figure(figsize=(10,10))\n",
    "plt.scatter(belgium_df[\"LONG\"], belgium_df[\"LAT\"], s= 5, color = \"orange\")\n",
    "plt.scatter(hvc_customer_belgium[\"LONG\"],hvc_customer_belgium[\"LAT\"], s = 5, color = \"blue\")\n",
    "\n",
    "plt.show()"
   ]
  },
  {
   "cell_type": "code",
   "execution_count": 82,
   "id": "2c944fec",
   "metadata": {},
   "outputs": [
    {
     "data": {
      "image/png": "[encoded data removed]",
      "text/plain": [
       "<Figure size 720x576 with 1 Axes>"
      ]
     },
     "metadata": {
      "needs_background": "light"
     },
     "output_type": "display_data"
    }
   ],
   "source": [
    "#Scatterplot with the regions and the depots\n",
    "\n",
    "#long and lat\n",
    "#Deinze: 50.590 , 3.3138\n",
    "#Antwerpen: 51.13, 4.24\n",
    "#Vilvoorde : 50.56, 4,25\n",
    "#Aarschot: 50.59, 4.50\n",
    "\n",
    "#Show the 4 regions in a scatterplotx\n",
    "plt.figure(figsize = (10,8))\n",
    "plt.scatter(belgium_df[\"LONG\"], belgium_df[\"LAT\"], s= 10, color = \"darkturquoise\")\n",
    "# define color map\n",
    "color_region = {\"C04\": \"green\", \"B25\": \"red\", \"B02\": \"blue\", \"C17\":  \"yellow\"}\n",
    "\n",
    "# get colors for each cluster label\n",
    "cluster_region = [color_region[label] for label in hvc_customer_regions2[\"REGION\"]]\n",
    "\n",
    "# plot data with cluster colors\n",
    "plt.scatter(hvc_customer_regions2[\"LAT\"], hvc_customer_regions2[\"LONG\"], color=cluster_region, s = 7)\n",
    "#plt.savefig(\"./data/fig_region.pdf\")\n",
    "\n",
    "# define color map\n",
    "color_depot = {\"Deinze\": \"black\", \"Antwerpen\": \"black\", \"Vilvoorde\": \"black\", \"Aarschot\":  \"black\"}\n",
    "\n",
    "# get colors for each cluster label\n",
    "cluster_depot = [color_depot[label] for label in data_depot[\"DEPOT\"]]#in de juiste dataframe kijken om het depot te vinden\n",
    "\n",
    "\n",
    "# plot data with cluster colors\n",
    "plt.scatter(data_depot[\"Long\"], data_depot[\"Lat\"], color=cluster_depot, s = 100)\n",
    "\n",
    "#Wil hier nog een legende bijplaatsen maar weet niet hoe\n",
    "#plt.legend([\"green\",\"blue\", \"red\", \"yellow\"])\n",
    "\n",
    "plt.show()\n"
   ]
  },
  {
   "cell_type": "markdown",
   "id": "3374b296",
   "metadata": {},
   "source": [
    "Vraag 6: Which customers should be reassigned to different routes?"
   ]
  },
  {
   "cell_type": "code",
   "execution_count": null,
   "id": "e42ca791",
   "metadata": {
    "scrolled": true
   },
   "outputs": [],
   "source": [
    "#Scatterplot where you can see the routes\n",
    "\n",
    "hvc_depot_route = pd.merge(hvc_depot, hvc_hvroutetemplate)\n",
    "cust_pos_region = pd.merge(hvc_hvroutetemplate,hvc_customer_regions2)\n",
    "\n",
    "# join customer info with customer positions\n",
    "\n",
    "dict_mean = {}\n",
    "\n",
    "for routeid in hvc_depot_route[\"HVROUTETEMPLATE_NRID\"]:\n",
    "    all_cust_route = cust_pos_region[cust_pos_region[\"HVROUTETEMPLATE_NRID\"] == routeid]\n",
    "    plt.figure(figsize=(10, 10))\n",
    "    plt.scatter(hvc_hvposition[\"LONG\"], hvc_hvposition[\"LAT\"], color=\"black\", s = 7)\n",
    "    plt.scatter(all_cust_route[\"LONG\"], all_cust_route[\"LAT\"], color=\"red\", label=\"Route %s\" %routeid + \" in region %s\" %cust_pos_region[cust_pos_region[\"HVROUTETEMPLATE_NRID\"] == routeid][\"REGION\"].unique()[0],s = 10)\n",
    "    \n",
    "    plt.scatter(np.mean(all_cust_route[\"LONG\"]), np.mean(all_cust_route[\"LAT\"]), color =\"yellow\")\n",
    "    \n",
    "    dict_mean[routeid] = {np.mean(all_cust_route[\"LONG\"]), np.mean(all_cust_route[\"LAT\"])}\n",
    "                \n",
    "    \n",
    "    plt.legend(loc=\"lower center\")\n",
    "\n",
    "plt.savefig(\"./data/routes.jpeg\")\n",
    "plt.show()\n",
    "\n"
   ]
  },
  {
   "cell_type": "code",
   "execution_count": null,
   "id": "b149420b",
   "metadata": {},
   "outputs": [],
   "source": [
    "b"
   ]
  },
  {
   "cell_type": "code",
   "execution_count": null,
   "id": "5d8aaa21",
   "metadata": {
    "scrolled": true
   },
   "outputs": [],
   "source": [
    "# define the colors for each cluster\n",
    "color_dict = {0: \"red\", 1: \"blue\", 2: \"green\"}\n",
    "\n",
    "# get the cluster color for each customer\n",
    "cluster_colors = [color_dict[label] for label in cluster_labels]\n",
    "\n",
    "# plot the customer locations with the corresponding colors\n",
    "plt.figure(figsize=(8, 8))\n",
    "plt.scatter(hvc_hvposition[\"LONG\"], hvc_hvposition[\"LAT\"], color=cluster_colors, s=6)\n",
    "plt.show()"
   ]
  },
  {
   "cell_type": "code",
   "execution_count": 53,
   "id": "69f5753d",
   "metadata": {},
   "outputs": [
    {
     "ename": "SyntaxError",
     "evalue": "invalid syntax (<ipython-input-53-b46287bc3a26>, line 2)",
     "output_type": "error",
     "traceback": [
      "\u001b[0;36m  File \u001b[0;32m\"<ipython-input-53-b46287bc3a26>\"\u001b[0;36m, line \u001b[0;32m2\u001b[0m\n\u001b[0;31m    import 'ol/Map';\u001b[0m\n\u001b[0m           ^\u001b[0m\n\u001b[0;31mSyntaxError\u001b[0m\u001b[0;31m:\u001b[0m invalid syntax\n"
     ]
    }
   ],
   "source": [
    "#OpenLayers\n",
    "import Map from 'ol/Map';\n",
    "import View from 'ol/View';\n",
    "import TileLayer from 'ol/layer/Tile';\n",
    "import XYZ from 'ol/source/XYZ';\n",
    "\n",
    "new Map({\n",
    "  target: 'map',\n",
    "  layers: [\n",
    "    new TileLayer({\n",
    "      source: new XYZ({\n",
    "        url: 'https://{a-c}.tile.openstreetmap.org/{z}/{x}/{y}.png'\n",
    "      })\n",
    "    })\n",
    "  ],\n",
    "  view: new View({\n",
    "    center: [0, 0],\n",
    "    zoom: 2\n",
    "  })\n",
    "});"
   ]
  }
 ],
 "metadata": {
  "kernelspec": {
   "display_name": "Python 3",
   "language": "python",
   "name": "python3"
  },
  "language_info": {
   "codemirror_mode": {
    "name": "ipython",
    "version": 3
   },
   "file_extension": ".py",
   "mimetype": "text/x-python",
   "name": "python",
   "nbconvert_exporter": "python",
   "pygments_lexer": "ipython3",
   "version": "3.8.8"
  }
 },
 "nbformat": 4,
 "nbformat_minor": 5
}
