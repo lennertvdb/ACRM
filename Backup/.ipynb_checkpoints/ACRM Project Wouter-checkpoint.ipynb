{
 "cells": [
  {
   "cell_type": "markdown",
   "id": "b0398d9f",
   "metadata": {},
   "source": [
    "# ACRM Project"
   ]
  },
  {
   "cell_type": "code",
   "execution_count": 49,
   "id": "79aa6f12",
   "metadata": {},
   "outputs": [],
   "source": [
    "# import the packages\n",
    "import pandas as pd\n",
    "import numpy as np\n",
    "\n",
    "import datetime\n",
    "import matplotlib.pyplot as plt\n",
    "import geopandas as gpd\n",
    "import seaborn as sns\n",
    "from collections import Counter\n",
    "from statistics import mode\n",
    "from datetime import datetime\n",
    "from sklearn.metrics.pairwise import cosine_similarity"
   ]
  },
  {
   "cell_type": "markdown",
   "id": "9c7e93a2",
   "metadata": {},
   "source": [
    "# 1. Import Data"
   ]
  },
  {
   "cell_type": "code",
   "execution_count": 19,
   "id": "daab3af0",
   "metadata": {},
   "outputs": [],
   "source": [
    "# import the data into pandas dataframes\n",
    "hvc_am0 = pd.read_csv(\"../ACRM-GROUP-13/data/HVC_AM0.csv\", sep=\";\")\n",
    "hvc_ar0 = pd.read_csv(\"../ACRM-GROUP-13/data/HVC_AR0.csv\", sep=\";\")\n",
    "hvc_customer_reviews = pd.read_csv(\"../ACRM-GROUP-13/data/HVC_CUSTOMER_REVIEWS.csv\", sep=\";\")\n",
    "hvc_depot = pd.read_csv(\"../ACRM-GROUP-13/data/HVC_DEPOT.csv\", sep=\";\")\n",
    "hvc_hvdayofweek = pd.read_csv(\"../ACRM-GROUP-13/data/HVC_HVDAYOFWEEK.csv\", sep=\";\")\n",
    "hvc_hvposition = pd.read_csv(\"../ACRM-GROUP-13/data/HVC_HVPOSITION.csv\", sep=\";\")\n",
    "hvc_hvroutetemplate = pd.read_csv(\"../ACRM-GROUP-13/data/HVC_HVROUTETEMPLATE.csv\", sep=\";\")\n",
    "hvc_hvvisitoutcome = pd.read_csv(\"../ACRM-GROUP-13/data/HVC_HVVISITOUTCOME.csv\", sep=\";\")\n",
    "hvc_hvvisitresult = pd.read_csv(\"../ACRM-GROUP-13/data/HVC_HVVISITRESULT.csv\", sep=\";\")\n",
    "hvc_so0 = pd.read_csv(\"../ACRM-GROUP-13/data/HVC_SO0.csv\", sep=\";\")\n",
    "hvc_visitresultdetails = pd.read_csv(\"../ACRM-GROUP-13/data/HVC_VISITRESULTDETAILS.csv\", sep=\";\")"
   ]
  },
  {
   "cell_type": "code",
   "execution_count": 68,
   "id": "80582e6a",
   "metadata": {},
   "outputs": [
    {
     "data": {
      "text/plain": [
       "HVVISITRESULT_NRID             int64\n",
       "SO0_NRID                       int64\n",
       "AM0_NRID                       int64\n",
       "HVOUTCOME_NRID                 int64\n",
       "VISITDATE             datetime64[ns]\n",
       "DATEONLY              datetime64[ns]\n",
       "AMOUNT                       float64\n",
       "PAYMENTTERM                   object\n",
       "dtype: object"
      ]
     },
     "execution_count": 68,
     "metadata": {},
     "output_type": "execute_result"
    }
   ],
   "source": [
    "#Data conversion\n",
    "hvc_hvdayofweek[\"HVDAYOFWEEK_NRID\"] = hvc_hvdayofweek[\"HVDAYOFWEEK_NRID\"].astype(int)\n",
    "hvc_hvroutetemplate[\"HVROUTETEMPLATE_NRID\"] = hvc_hvroutetemplate[\"HVROUTETEMPLATE_NRID\"].astype(int)\n",
    "hvc_hvroutetemplate[\"HVDAYOFWEEK_NRID\"] = hvc_hvroutetemplate[\"HVDAYOFWEEK_NRID\"].astype(int)\n",
    "hvc_hvroutetemplate[\"WEEKORDER\"] = hvc_hvroutetemplate[\"WEEKORDER\"].astype(int)\n",
    "hvc_hvvisitoutcome[\"HVOUTCOME_NRID\"] = hvc_hvvisitoutcome[\"HVOUTCOME_NRID\"].astype(int)\n",
    "hvc_visitresultdetails[\"HVVISITRESULT_NRID\"] = hvc_visitresultdetails[\"HVVISITRESULT_NRID\"].astype(int)\n",
    "hvc_so0[\"SO0_NRID\"] = hvc_so0[\"SO0_NRID\"].astype(int)\n",
    "hvc_so0[\"HVROUTETEMPLATE_NRID\"] = hvc_so0[\"HVROUTETEMPLATE_NRID\"].astype(int)\n",
    "hvc_hvvisitresult[\"VISITDATE\"] = pd.to_datetime(hvc_hvvisitresult[\"VISITDATE\"])\n",
    "hvc_hvvisitresult[\"DATEONLY\"] = pd.to_datetime(hvc_hvvisitresult[\"DATEONLY\"])"
   ]
  },
  {
   "cell_type": "markdown",
   "id": "a3a73f36",
   "metadata": {},
   "source": [
    "# 2. Explore the data"
   ]
  },
  {
   "cell_type": "markdown",
   "id": "b1bc5049",
   "metadata": {},
   "source": [
    "## 2.1 Data Set 1 (hvc_am0 + hvc_ar0 + hvc_customer_reviews) -> Wouter"
   ]
  },
  {
   "cell_type": "markdown",
   "id": "466b401e",
   "metadata": {},
   "source": [
    "### 2.1.1 hvc_am0 (employees)"
   ]
  },
  {
   "cell_type": "code",
   "execution_count": 74,
   "id": "9340cfb3",
   "metadata": {},
   "outputs": [
    {
     "data": {
      "text/html": [
       "<div>\n",
       "<style scoped>\n",
       "    .dataframe tbody tr th:only-of-type {\n",
       "        vertical-align: middle;\n",
       "    }\n",
       "\n",
       "    .dataframe tbody tr th {\n",
       "        vertical-align: top;\n",
       "    }\n",
       "\n",
       "    .dataframe thead th {\n",
       "        text-align: right;\n",
       "    }\n",
       "</style>\n",
       "<table border=\"1\" class=\"dataframe\">\n",
       "  <thead>\n",
       "    <tr style=\"text-align: right;\">\n",
       "      <th></th>\n",
       "      <th>AM0_NRID</th>\n",
       "      <th>EMPLOYEENUMBER</th>\n",
       "      <th>NAME</th>\n",
       "      <th>POSTCODE</th>\n",
       "      <th>LOCATION</th>\n",
       "      <th>LANGUAGE</th>\n",
       "    </tr>\n",
       "  </thead>\n",
       "  <tbody>\n",
       "    <tr>\n",
       "      <th>0</th>\n",
       "      <td>18503611215721</td>\n",
       "      <td>1001.0</td>\n",
       "      <td>BOONE Frederik</td>\n",
       "      <td>2460</td>\n",
       "      <td>Tielen</td>\n",
       "      <td>nl-BE</td>\n",
       "    </tr>\n",
       "    <tr>\n",
       "      <th>1</th>\n",
       "      <td>18503612347289</td>\n",
       "      <td>1021.0</td>\n",
       "      <td>JANSSENS Jos</td>\n",
       "      <td>2400</td>\n",
       "      <td>Mol</td>\n",
       "      <td>nl-BE</td>\n",
       "    </tr>\n",
       "    <tr>\n",
       "      <th>2</th>\n",
       "      <td>18503612452173</td>\n",
       "      <td>1022.0</td>\n",
       "      <td>LEYSEN Michiel</td>\n",
       "      <td>3500</td>\n",
       "      <td>Hasselt</td>\n",
       "      <td>nl-BE</td>\n",
       "    </tr>\n",
       "    <tr>\n",
       "      <th>3</th>\n",
       "      <td>18503621528962</td>\n",
       "      <td>1122.0</td>\n",
       "      <td>ALLEMAN Benny</td>\n",
       "      <td>3900</td>\n",
       "      <td>Overpelt</td>\n",
       "      <td>nl-BE</td>\n",
       "    </tr>\n",
       "    <tr>\n",
       "      <th>4</th>\n",
       "      <td>18503622652855</td>\n",
       "      <td>1135.0</td>\n",
       "      <td>GOOVAERTS Jef</td>\n",
       "      <td>3920</td>\n",
       "      <td>Lommel</td>\n",
       "      <td>nl-BE</td>\n",
       "    </tr>\n",
       "    <tr>\n",
       "      <th>5</th>\n",
       "      <td>18503623836544</td>\n",
       "      <td>1149.0</td>\n",
       "      <td>BOCKY Rudi</td>\n",
       "      <td>3512</td>\n",
       "      <td>Stevoort</td>\n",
       "      <td>nl-BE</td>\n",
       "    </tr>\n",
       "    <tr>\n",
       "      <th>6</th>\n",
       "      <td>18503624256831</td>\n",
       "      <td>1158.0</td>\n",
       "      <td>BENOIT Benny</td>\n",
       "      <td>3500</td>\n",
       "      <td>Hasselt</td>\n",
       "      <td>nl-BE</td>\n",
       "    </tr>\n",
       "    <tr>\n",
       "      <th>7</th>\n",
       "      <td>18503648417252</td>\n",
       "      <td>507.0</td>\n",
       "      <td>QUINTEN Patrick</td>\n",
       "      <td>3690</td>\n",
       "      <td>Zutendaal</td>\n",
       "      <td>nl-BE</td>\n",
       "    </tr>\n",
       "    <tr>\n",
       "      <th>8</th>\n",
       "      <td>18821748667448</td>\n",
       "      <td>2903.0</td>\n",
       "      <td>DE MILT Tomas</td>\n",
       "      <td>2460</td>\n",
       "      <td>Tielen</td>\n",
       "      <td>nl-BE</td>\n",
       "    </tr>\n",
       "    <tr>\n",
       "      <th>9</th>\n",
       "      <td>18934048107254</td>\n",
       "      <td>1015.0</td>\n",
       "      <td>VAN HECKE jan</td>\n",
       "      <td>3582</td>\n",
       "      <td>Koersel</td>\n",
       "      <td>nl-BE</td>\n",
       "    </tr>\n",
       "    <tr>\n",
       "      <th>10</th>\n",
       "      <td>19902260358040</td>\n",
       "      <td>2720.0</td>\n",
       "      <td>DE SANTE tom</td>\n",
       "      <td>2400</td>\n",
       "      <td>Mol</td>\n",
       "      <td>nl-BE</td>\n",
       "    </tr>\n",
       "    <tr>\n",
       "      <th>11</th>\n",
       "      <td>19946584592834</td>\n",
       "      <td>3154.0</td>\n",
       "      <td>PEETERS michel</td>\n",
       "      <td>3511</td>\n",
       "      <td>Kuringen</td>\n",
       "      <td>nl-BE</td>\n",
       "    </tr>\n",
       "    <tr>\n",
       "      <th>12</th>\n",
       "      <td>20023764336850</td>\n",
       "      <td>5091.0</td>\n",
       "      <td>BALLINGS Hendrik</td>\n",
       "      <td>2460</td>\n",
       "      <td>Tielen</td>\n",
       "      <td>nl-BE</td>\n",
       "    </tr>\n",
       "    <tr>\n",
       "      <th>13</th>\n",
       "      <td>20024664416850</td>\n",
       "      <td>5099.0</td>\n",
       "      <td>MARTENS  Sammy</td>\n",
       "      <td>2460</td>\n",
       "      <td>Tielen</td>\n",
       "      <td>nl-BE</td>\n",
       "    </tr>\n",
       "    <tr>\n",
       "      <th>14</th>\n",
       "      <td>20126680425436</td>\n",
       "      <td>3219.0</td>\n",
       "      <td>MATTIJS stijn</td>\n",
       "      <td>3500</td>\n",
       "      <td>Hasselt</td>\n",
       "      <td>nl-BE</td>\n",
       "    </tr>\n",
       "    <tr>\n",
       "      <th>15</th>\n",
       "      <td>20453668576644</td>\n",
       "      <td>3201.0</td>\n",
       "      <td>DE BAERE Sonja</td>\n",
       "      <td>3512</td>\n",
       "      <td>Stevoort</td>\n",
       "      <td>nl-BE</td>\n",
       "    </tr>\n",
       "    <tr>\n",
       "      <th>16</th>\n",
       "      <td>20603184382848</td>\n",
       "      <td>3220.0</td>\n",
       "      <td>VAN AALST Sofie</td>\n",
       "      <td>3990</td>\n",
       "      <td>Peer</td>\n",
       "      <td>nl-BE</td>\n",
       "    </tr>\n",
       "    <tr>\n",
       "      <th>17</th>\n",
       "      <td>20624864486850</td>\n",
       "      <td>5094.0</td>\n",
       "      <td>VAN HUFFEL Jan</td>\n",
       "      <td>2460</td>\n",
       "      <td>Tielen</td>\n",
       "      <td>nl-BE</td>\n",
       "    </tr>\n",
       "    <tr>\n",
       "      <th>18</th>\n",
       "      <td>20794764386850</td>\n",
       "      <td>5092.0</td>\n",
       "      <td>BUFFEL Peter</td>\n",
       "      <td>2460</td>\n",
       "      <td>Tielen</td>\n",
       "      <td>nl-BE</td>\n",
       "    </tr>\n",
       "    <tr>\n",
       "      <th>19</th>\n",
       "      <td>21373672376852</td>\n",
       "      <td>3249.0</td>\n",
       "      <td>DESTORME Frederik</td>\n",
       "      <td>3840</td>\n",
       "      <td>Borgloon</td>\n",
       "      <td>nl-BE</td>\n",
       "    </tr>\n",
       "    <tr>\n",
       "      <th>20</th>\n",
       "      <td>22236576303840</td>\n",
       "      <td>NaN</td>\n",
       "      <td>PEETERS David</td>\n",
       "      <td>3600</td>\n",
       "      <td>Waterschei - Zwartberg</td>\n",
       "      <td>nl-BE</td>\n",
       "    </tr>\n",
       "    <tr>\n",
       "      <th>21</th>\n",
       "      <td>22296984545252</td>\n",
       "      <td>3299.0</td>\n",
       "      <td>DE SMET Wesley</td>\n",
       "      <td>3500</td>\n",
       "      <td>Hasselt</td>\n",
       "      <td>nl-BE</td>\n",
       "    </tr>\n",
       "    <tr>\n",
       "      <th>22</th>\n",
       "      <td>22316764206042</td>\n",
       "      <td>3279.0</td>\n",
       "      <td>VERLINDEN Elke</td>\n",
       "      <td>3900</td>\n",
       "      <td>Overpelt</td>\n",
       "      <td>nl-BE</td>\n",
       "    </tr>\n",
       "    <tr>\n",
       "      <th>23</th>\n",
       "      <td>23124856135652</td>\n",
       "      <td>3320.0</td>\n",
       "      <td>LAMPAERT Sara</td>\n",
       "      <td>2460</td>\n",
       "      <td>Tielen</td>\n",
       "      <td>nl-BE</td>\n",
       "    </tr>\n",
       "    <tr>\n",
       "      <th>24</th>\n",
       "      <td>23186288605042</td>\n",
       "      <td>3353.0</td>\n",
       "      <td>VERRESEN Dirk</td>\n",
       "      <td>3665</td>\n",
       "      <td>As</td>\n",
       "      <td>nl-BE</td>\n",
       "    </tr>\n",
       "    <tr>\n",
       "      <th>25</th>\n",
       "      <td>23254880377036</td>\n",
       "      <td>3346.0</td>\n",
       "      <td>DE BRUYNE Charlotte</td>\n",
       "      <td>5377</td>\n",
       "      <td>Bonsin</td>\n",
       "      <td>fr-BE</td>\n",
       "    </tr>\n",
       "    <tr>\n",
       "      <th>26</th>\n",
       "      <td>23503384463446</td>\n",
       "      <td>3350.0</td>\n",
       "      <td>HEYNDRICKX Wim</td>\n",
       "      <td>3590</td>\n",
       "      <td>Diepenbeek</td>\n",
       "      <td>nl-BE</td>\n",
       "    </tr>\n",
       "    <tr>\n",
       "      <th>27</th>\n",
       "      <td>23644844294638</td>\n",
       "      <td>NaN</td>\n",
       "      <td>DE DECKER An</td>\n",
       "      <td>2460</td>\n",
       "      <td>Tielen</td>\n",
       "      <td>nl-BE</td>\n",
       "    </tr>\n",
       "    <tr>\n",
       "      <th>28</th>\n",
       "      <td>23844052246844</td>\n",
       "      <td>NaN</td>\n",
       "      <td>VEREECKE Filip</td>\n",
       "      <td>3583</td>\n",
       "      <td>Paal</td>\n",
       "      <td>nl-BE</td>\n",
       "    </tr>\n",
       "    <tr>\n",
       "      <th>29</th>\n",
       "      <td>23845760556442</td>\n",
       "      <td>3325.0</td>\n",
       "      <td>KERCKAERT Pieter</td>\n",
       "      <td>2460</td>\n",
       "      <td>Tielen</td>\n",
       "      <td>nl-BE</td>\n",
       "    </tr>\n",
       "    <tr>\n",
       "      <th>30</th>\n",
       "      <td>24034952445848</td>\n",
       "      <td>3367.0</td>\n",
       "      <td>BUFFEL Sandy</td>\n",
       "      <td>3630</td>\n",
       "      <td>Mechelen-Aan-De-Maas</td>\n",
       "      <td>nl-BE</td>\n",
       "    </tr>\n",
       "    <tr>\n",
       "      <th>31</th>\n",
       "      <td>24226444135852</td>\n",
       "      <td>3357.0</td>\n",
       "      <td>JANNSENS Eddy</td>\n",
       "      <td>3930</td>\n",
       "      <td>Hamont</td>\n",
       "      <td>nl-BE</td>\n",
       "    </tr>\n",
       "    <tr>\n",
       "      <th>32</th>\n",
       "      <td>24306964317638</td>\n",
       "      <td>3379.0</td>\n",
       "      <td>DE TREMERIE Dimitri</td>\n",
       "      <td>3890</td>\n",
       "      <td>Gingelom</td>\n",
       "      <td>nl-BE</td>\n",
       "    </tr>\n",
       "    <tr>\n",
       "      <th>33</th>\n",
       "      <td>24326580665436</td>\n",
       "      <td>3396.0</td>\n",
       "      <td>MORTIER Magda</td>\n",
       "      <td>2460</td>\n",
       "      <td>Tielen</td>\n",
       "      <td>nl-BE</td>\n",
       "    </tr>\n",
       "    <tr>\n",
       "      <th>34</th>\n",
       "      <td>24332872185240</td>\n",
       "      <td>NaN</td>\n",
       "      <td>DE BRUYNE Chris</td>\n",
       "      <td>2460</td>\n",
       "      <td>Tielen</td>\n",
       "      <td>nl-BE</td>\n",
       "    </tr>\n",
       "    <tr>\n",
       "      <th>35</th>\n",
       "      <td>24365344207252</td>\n",
       "      <td>3359.0</td>\n",
       "      <td>DE SMET Stijn</td>\n",
       "      <td>2460</td>\n",
       "      <td>Tielen</td>\n",
       "      <td>nl-BE</td>\n",
       "    </tr>\n",
       "    <tr>\n",
       "      <th>36</th>\n",
       "      <td>24545048153850</td>\n",
       "      <td>3362.0</td>\n",
       "      <td>DE CONINCK Marnik</td>\n",
       "      <td>2460</td>\n",
       "      <td>Tielen</td>\n",
       "      <td>nl-BE</td>\n",
       "    </tr>\n",
       "    <tr>\n",
       "      <th>37</th>\n",
       "      <td>24705284396450</td>\n",
       "      <td>3410.0</td>\n",
       "      <td>DE PAUW Kim</td>\n",
       "      <td>3900</td>\n",
       "      <td>Overpelt</td>\n",
       "      <td>nl-BE</td>\n",
       "    </tr>\n",
       "    <tr>\n",
       "      <th>38</th>\n",
       "      <td>24775352442450</td>\n",
       "      <td>3363.0</td>\n",
       "      <td>STEEMAN Evy</td>\n",
       "      <td>3910</td>\n",
       "      <td>Neerpelt</td>\n",
       "      <td>nl-BE</td>\n",
       "    </tr>\n",
       "    <tr>\n",
       "      <th>39</th>\n",
       "      <td>24785968227246</td>\n",
       "      <td>3387.0</td>\n",
       "      <td>CLAEYS Liebeth</td>\n",
       "      <td>2460</td>\n",
       "      <td>Tielen</td>\n",
       "      <td>nl-BE</td>\n",
       "    </tr>\n",
       "    <tr>\n",
       "      <th>40</th>\n",
       "      <td>24871084536436</td>\n",
       "      <td>NaN</td>\n",
       "      <td>CLAUS David</td>\n",
       "      <td>3770</td>\n",
       "      <td>Valmeer</td>\n",
       "      <td>nl-BE</td>\n",
       "    </tr>\n",
       "    <tr>\n",
       "      <th>41</th>\n",
       "      <td>24965472608036</td>\n",
       "      <td>NaN</td>\n",
       "      <td>CABOOTER Dries</td>\n",
       "      <td>2460</td>\n",
       "      <td>Tielen</td>\n",
       "      <td>nl-BE</td>\n",
       "    </tr>\n",
       "    <tr>\n",
       "      <th>42</th>\n",
       "      <td>25146868694050</td>\n",
       "      <td>3442.0</td>\n",
       "      <td>VERSTRAETE Erik</td>\n",
       "      <td>3920</td>\n",
       "      <td>Lommel</td>\n",
       "      <td>nl-BE</td>\n",
       "    </tr>\n",
       "    <tr>\n",
       "      <th>43</th>\n",
       "      <td>25454644465046</td>\n",
       "      <td>3421.0</td>\n",
       "      <td>TACK Hann</td>\n",
       "      <td>2460</td>\n",
       "      <td>Tielen</td>\n",
       "      <td>nl-BE</td>\n",
       "    </tr>\n",
       "    <tr>\n",
       "      <th>44</th>\n",
       "      <td>25532744515046</td>\n",
       "      <td>3422.0</td>\n",
       "      <td>PAUWELS Jeffrey</td>\n",
       "      <td>2460</td>\n",
       "      <td>Tielen</td>\n",
       "      <td>nl-BE</td>\n",
       "    </tr>\n",
       "    <tr>\n",
       "      <th>45</th>\n",
       "      <td>25712048274438</td>\n",
       "      <td>3426.0</td>\n",
       "      <td>JACOBS Michel</td>\n",
       "      <td>3540</td>\n",
       "      <td>Herk-de-Stad</td>\n",
       "      <td>nl-BE</td>\n",
       "    </tr>\n",
       "  </tbody>\n",
       "</table>\n",
       "</div>"
      ],
      "text/plain": [
       "          AM0_NRID  EMPLOYEENUMBER                 NAME  POSTCODE  \\\n",
       "0   18503611215721          1001.0       BOONE Frederik      2460   \n",
       "1   18503612347289          1021.0         JANSSENS Jos      2400   \n",
       "2   18503612452173          1022.0       LEYSEN Michiel      3500   \n",
       "3   18503621528962          1122.0        ALLEMAN Benny      3900   \n",
       "4   18503622652855          1135.0        GOOVAERTS Jef      3920   \n",
       "5   18503623836544          1149.0           BOCKY Rudi      3512   \n",
       "6   18503624256831          1158.0         BENOIT Benny      3500   \n",
       "7   18503648417252           507.0      QUINTEN Patrick      3690   \n",
       "8   18821748667448          2903.0        DE MILT Tomas      2460   \n",
       "9   18934048107254          1015.0        VAN HECKE jan      3582   \n",
       "10  19902260358040          2720.0         DE SANTE tom      2400   \n",
       "11  19946584592834          3154.0       PEETERS michel      3511   \n",
       "12  20023764336850          5091.0     BALLINGS Hendrik      2460   \n",
       "13  20024664416850          5099.0       MARTENS  Sammy      2460   \n",
       "14  20126680425436          3219.0        MATTIJS stijn      3500   \n",
       "15  20453668576644          3201.0       DE BAERE Sonja      3512   \n",
       "16  20603184382848          3220.0      VAN AALST Sofie      3990   \n",
       "17  20624864486850          5094.0       VAN HUFFEL Jan      2460   \n",
       "18  20794764386850          5092.0         BUFFEL Peter      2460   \n",
       "19  21373672376852          3249.0    DESTORME Frederik      3840   \n",
       "20  22236576303840             NaN        PEETERS David      3600   \n",
       "21  22296984545252          3299.0       DE SMET Wesley      3500   \n",
       "22  22316764206042          3279.0       VERLINDEN Elke      3900   \n",
       "23  23124856135652          3320.0        LAMPAERT Sara      2460   \n",
       "24  23186288605042          3353.0        VERRESEN Dirk      3665   \n",
       "25  23254880377036          3346.0  DE BRUYNE Charlotte      5377   \n",
       "26  23503384463446          3350.0       HEYNDRICKX Wim      3590   \n",
       "27  23644844294638             NaN         DE DECKER An      2460   \n",
       "28  23844052246844             NaN       VEREECKE Filip      3583   \n",
       "29  23845760556442          3325.0     KERCKAERT Pieter      2460   \n",
       "30  24034952445848          3367.0         BUFFEL Sandy      3630   \n",
       "31  24226444135852          3357.0        JANNSENS Eddy      3930   \n",
       "32  24306964317638          3379.0  DE TREMERIE Dimitri      3890   \n",
       "33  24326580665436          3396.0        MORTIER Magda      2460   \n",
       "34  24332872185240             NaN      DE BRUYNE Chris      2460   \n",
       "35  24365344207252          3359.0        DE SMET Stijn      2460   \n",
       "36  24545048153850          3362.0    DE CONINCK Marnik      2460   \n",
       "37  24705284396450          3410.0          DE PAUW Kim      3900   \n",
       "38  24775352442450          3363.0          STEEMAN Evy      3910   \n",
       "39  24785968227246          3387.0       CLAEYS Liebeth      2460   \n",
       "40  24871084536436             NaN          CLAUS David      3770   \n",
       "41  24965472608036             NaN       CABOOTER Dries      2460   \n",
       "42  25146868694050          3442.0      VERSTRAETE Erik      3920   \n",
       "43  25454644465046          3421.0            TACK Hann      2460   \n",
       "44  25532744515046          3422.0      PAUWELS Jeffrey      2460   \n",
       "45  25712048274438          3426.0        JACOBS Michel      3540   \n",
       "\n",
       "                  LOCATION LANGUAGE  \n",
       "0                   Tielen    nl-BE  \n",
       "1                      Mol    nl-BE  \n",
       "2                  Hasselt    nl-BE  \n",
       "3                 Overpelt    nl-BE  \n",
       "4                   Lommel    nl-BE  \n",
       "5                 Stevoort    nl-BE  \n",
       "6                  Hasselt    nl-BE  \n",
       "7                Zutendaal    nl-BE  \n",
       "8                   Tielen    nl-BE  \n",
       "9                  Koersel    nl-BE  \n",
       "10                     Mol    nl-BE  \n",
       "11                Kuringen    nl-BE  \n",
       "12                  Tielen    nl-BE  \n",
       "13                  Tielen    nl-BE  \n",
       "14                 Hasselt    nl-BE  \n",
       "15                Stevoort    nl-BE  \n",
       "16                    Peer    nl-BE  \n",
       "17                  Tielen    nl-BE  \n",
       "18                  Tielen    nl-BE  \n",
       "19                Borgloon    nl-BE  \n",
       "20  Waterschei - Zwartberg    nl-BE  \n",
       "21                 Hasselt    nl-BE  \n",
       "22                Overpelt    nl-BE  \n",
       "23                  Tielen    nl-BE  \n",
       "24                      As    nl-BE  \n",
       "25                  Bonsin    fr-BE  \n",
       "26              Diepenbeek    nl-BE  \n",
       "27                  Tielen    nl-BE  \n",
       "28                    Paal    nl-BE  \n",
       "29                  Tielen    nl-BE  \n",
       "30    Mechelen-Aan-De-Maas    nl-BE  \n",
       "31                  Hamont    nl-BE  \n",
       "32                Gingelom    nl-BE  \n",
       "33                  Tielen    nl-BE  \n",
       "34                  Tielen    nl-BE  \n",
       "35                  Tielen    nl-BE  \n",
       "36                  Tielen    nl-BE  \n",
       "37                Overpelt    nl-BE  \n",
       "38                Neerpelt    nl-BE  \n",
       "39                  Tielen    nl-BE  \n",
       "40                 Valmeer    nl-BE  \n",
       "41                  Tielen    nl-BE  \n",
       "42                  Lommel    nl-BE  \n",
       "43                  Tielen    nl-BE  \n",
       "44                  Tielen    nl-BE  \n",
       "45            Herk-de-Stad    nl-BE  "
      ]
     },
     "execution_count": 74,
     "metadata": {},
     "output_type": "execute_result"
    }
   ],
   "source": [
    "# inspect table\n",
    "hvc_am0"
   ]
  },
  {
   "cell_type": "code",
   "execution_count": 75,
   "id": "2ef987e5",
   "metadata": {
    "scrolled": false
   },
   "outputs": [
    {
     "data": {
      "text/html": [
       "<div>\n",
       "<style scoped>\n",
       "    .dataframe tbody tr th:only-of-type {\n",
       "        vertical-align: middle;\n",
       "    }\n",
       "\n",
       "    .dataframe tbody tr th {\n",
       "        vertical-align: top;\n",
       "    }\n",
       "\n",
       "    .dataframe thead th {\n",
       "        text-align: right;\n",
       "    }\n",
       "</style>\n",
       "<table border=\"1\" class=\"dataframe\">\n",
       "  <thead>\n",
       "    <tr style=\"text-align: right;\">\n",
       "      <th></th>\n",
       "      <th>AM0_NRID</th>\n",
       "      <th>EMPLOYEENUMBER</th>\n",
       "      <th>NAME</th>\n",
       "      <th>POSTCODE</th>\n",
       "      <th>LOCATION</th>\n",
       "      <th>LANGUAGE</th>\n",
       "    </tr>\n",
       "  </thead>\n",
       "  <tbody>\n",
       "    <tr>\n",
       "      <th>0</th>\n",
       "      <td>18503611215721</td>\n",
       "      <td>1001.0</td>\n",
       "      <td>BOONE Frederik</td>\n",
       "      <td>2460</td>\n",
       "      <td>Tielen</td>\n",
       "      <td>nl-BE</td>\n",
       "    </tr>\n",
       "    <tr>\n",
       "      <th>1</th>\n",
       "      <td>18503612347289</td>\n",
       "      <td>1021.0</td>\n",
       "      <td>JANSSENS Jos</td>\n",
       "      <td>2400</td>\n",
       "      <td>Mol</td>\n",
       "      <td>nl-BE</td>\n",
       "    </tr>\n",
       "    <tr>\n",
       "      <th>2</th>\n",
       "      <td>18503612452173</td>\n",
       "      <td>1022.0</td>\n",
       "      <td>LEYSEN Michiel</td>\n",
       "      <td>3500</td>\n",
       "      <td>Hasselt</td>\n",
       "      <td>nl-BE</td>\n",
       "    </tr>\n",
       "    <tr>\n",
       "      <th>3</th>\n",
       "      <td>18503621528962</td>\n",
       "      <td>1122.0</td>\n",
       "      <td>ALLEMAN Benny</td>\n",
       "      <td>3900</td>\n",
       "      <td>Overpelt</td>\n",
       "      <td>nl-BE</td>\n",
       "    </tr>\n",
       "    <tr>\n",
       "      <th>4</th>\n",
       "      <td>18503622652855</td>\n",
       "      <td>1135.0</td>\n",
       "      <td>GOOVAERTS Jef</td>\n",
       "      <td>3920</td>\n",
       "      <td>Lommel</td>\n",
       "      <td>nl-BE</td>\n",
       "    </tr>\n",
       "  </tbody>\n",
       "</table>\n",
       "</div>"
      ],
      "text/plain": [
       "         AM0_NRID  EMPLOYEENUMBER            NAME  POSTCODE  LOCATION LANGUAGE\n",
       "0  18503611215721          1001.0  BOONE Frederik      2460    Tielen    nl-BE\n",
       "1  18503612347289          1021.0    JANSSENS Jos      2400       Mol    nl-BE\n",
       "2  18503612452173          1022.0  LEYSEN Michiel      3500   Hasselt    nl-BE\n",
       "3  18503621528962          1122.0   ALLEMAN Benny      3900  Overpelt    nl-BE\n",
       "4  18503622652855          1135.0   GOOVAERTS Jef      3920    Lommel    nl-BE"
      ]
     },
     "execution_count": 75,
     "metadata": {},
     "output_type": "execute_result"
    }
   ],
   "source": [
    "# inspect the first 5 observations of the employees\n",
    "hvc_am0.head(5)"
   ]
  },
  {
   "cell_type": "code",
   "execution_count": 76,
   "id": "c95b152d",
   "metadata": {},
   "outputs": [
    {
     "data": {
      "text/html": [
       "<div>\n",
       "<style scoped>\n",
       "    .dataframe tbody tr th:only-of-type {\n",
       "        vertical-align: middle;\n",
       "    }\n",
       "\n",
       "    .dataframe tbody tr th {\n",
       "        vertical-align: top;\n",
       "    }\n",
       "\n",
       "    .dataframe thead th {\n",
       "        text-align: right;\n",
       "    }\n",
       "</style>\n",
       "<table border=\"1\" class=\"dataframe\">\n",
       "  <thead>\n",
       "    <tr style=\"text-align: right;\">\n",
       "      <th></th>\n",
       "      <th>AM0_NRID</th>\n",
       "      <th>EMPLOYEENUMBER</th>\n",
       "      <th>NAME</th>\n",
       "      <th>POSTCODE</th>\n",
       "      <th>LOCATION</th>\n",
       "      <th>LANGUAGE</th>\n",
       "    </tr>\n",
       "  </thead>\n",
       "  <tbody>\n",
       "    <tr>\n",
       "      <th>41</th>\n",
       "      <td>24965472608036</td>\n",
       "      <td>NaN</td>\n",
       "      <td>CABOOTER Dries</td>\n",
       "      <td>2460</td>\n",
       "      <td>Tielen</td>\n",
       "      <td>nl-BE</td>\n",
       "    </tr>\n",
       "    <tr>\n",
       "      <th>42</th>\n",
       "      <td>25146868694050</td>\n",
       "      <td>3442.0</td>\n",
       "      <td>VERSTRAETE Erik</td>\n",
       "      <td>3920</td>\n",
       "      <td>Lommel</td>\n",
       "      <td>nl-BE</td>\n",
       "    </tr>\n",
       "    <tr>\n",
       "      <th>43</th>\n",
       "      <td>25454644465046</td>\n",
       "      <td>3421.0</td>\n",
       "      <td>TACK Hann</td>\n",
       "      <td>2460</td>\n",
       "      <td>Tielen</td>\n",
       "      <td>nl-BE</td>\n",
       "    </tr>\n",
       "    <tr>\n",
       "      <th>44</th>\n",
       "      <td>25532744515046</td>\n",
       "      <td>3422.0</td>\n",
       "      <td>PAUWELS Jeffrey</td>\n",
       "      <td>2460</td>\n",
       "      <td>Tielen</td>\n",
       "      <td>nl-BE</td>\n",
       "    </tr>\n",
       "    <tr>\n",
       "      <th>45</th>\n",
       "      <td>25712048274438</td>\n",
       "      <td>3426.0</td>\n",
       "      <td>JACOBS Michel</td>\n",
       "      <td>3540</td>\n",
       "      <td>Herk-de-Stad</td>\n",
       "      <td>nl-BE</td>\n",
       "    </tr>\n",
       "  </tbody>\n",
       "</table>\n",
       "</div>"
      ],
      "text/plain": [
       "          AM0_NRID  EMPLOYEENUMBER             NAME  POSTCODE      LOCATION  \\\n",
       "41  24965472608036             NaN   CABOOTER Dries      2460        Tielen   \n",
       "42  25146868694050          3442.0  VERSTRAETE Erik      3920        Lommel   \n",
       "43  25454644465046          3421.0        TACK Hann      2460        Tielen   \n",
       "44  25532744515046          3422.0  PAUWELS Jeffrey      2460        Tielen   \n",
       "45  25712048274438          3426.0    JACOBS Michel      3540  Herk-de-Stad   \n",
       "\n",
       "   LANGUAGE  \n",
       "41    nl-BE  \n",
       "42    nl-BE  \n",
       "43    nl-BE  \n",
       "44    nl-BE  \n",
       "45    nl-BE  "
      ]
     },
     "execution_count": 76,
     "metadata": {},
     "output_type": "execute_result"
    }
   ],
   "source": [
    "# inspect the last 5 observations of the employees\n",
    "hvc_am0.tail(5)"
   ]
  },
  {
   "cell_type": "code",
   "execution_count": 77,
   "id": "90969892",
   "metadata": {
    "scrolled": true
   },
   "outputs": [
    {
     "data": {
      "text/plain": [
       "AM0_NRID            int64\n",
       "EMPLOYEENUMBER    float64\n",
       "NAME               object\n",
       "POSTCODE            int64\n",
       "LOCATION           object\n",
       "LANGUAGE           object\n",
       "dtype: object"
      ]
     },
     "execution_count": 77,
     "metadata": {},
     "output_type": "execute_result"
    }
   ],
   "source": [
    "# check dtypes\n",
    "hvc_am0.dtypes"
   ]
  },
  {
   "cell_type": "code",
   "execution_count": 78,
   "id": "998e71fb",
   "metadata": {},
   "outputs": [
    {
     "data": {
      "text/plain": [
       "46"
      ]
     },
     "execution_count": 78,
     "metadata": {},
     "output_type": "execute_result"
    }
   ],
   "source": [
    "# check the number of employees \n",
    "len(hvc_am0)"
   ]
  },
  {
   "cell_type": "code",
   "execution_count": 79,
   "id": "fb3ea32a",
   "metadata": {},
   "outputs": [
    {
     "data": {
      "text/plain": [
       "6"
      ]
     },
     "execution_count": 79,
     "metadata": {},
     "output_type": "execute_result"
    }
   ],
   "source": [
    "# inspect the total number of missing values for the employeenumber amount\n",
    "sum(hvc_am0[\"EMPLOYEENUMBER\"].isnull())"
   ]
  },
  {
   "cell_type": "code",
   "execution_count": 80,
   "id": "9acbf2ea",
   "metadata": {},
   "outputs": [
    {
     "data": {
      "text/plain": [
       "count                 46\n",
       "unique                46\n",
       "top       BOONE Frederik\n",
       "freq                   1\n",
       "Name: NAME, dtype: object"
      ]
     },
     "execution_count": 80,
     "metadata": {},
     "output_type": "execute_result"
    }
   ],
   "source": [
    "# inspect some descriptive statistics with respect to the names\n",
    "hvc_am0[\"NAME\"].describe()"
   ]
  },
  {
   "cell_type": "code",
   "execution_count": 81,
   "id": "3dd08d08",
   "metadata": {},
   "outputs": [
    {
     "data": {
      "text/plain": [
       "count         46\n",
       "unique        22\n",
       "top       Tielen\n",
       "freq          17\n",
       "Name: LOCATION, dtype: object"
      ]
     },
     "execution_count": 81,
     "metadata": {},
     "output_type": "execute_result"
    }
   ],
   "source": [
    "# inspect some descriptive statistics with respect to the location\n",
    "hvc_am0[\"LOCATION\"].describe()"
   ]
  },
  {
   "cell_type": "code",
   "execution_count": 82,
   "id": "7919d502",
   "metadata": {
    "scrolled": true
   },
   "outputs": [
    {
     "data": {
      "text/plain": [
       "count        46\n",
       "unique        2\n",
       "top       nl-BE\n",
       "freq         45\n",
       "Name: LANGUAGE, dtype: object"
      ]
     },
     "execution_count": 82,
     "metadata": {},
     "output_type": "execute_result"
    }
   ],
   "source": [
    "# inspect some descriptive statistics with respect to the language\n",
    "hvc_am0[\"LANGUAGE\"].describe()"
   ]
  },
  {
   "cell_type": "markdown",
   "id": "0ed784d4",
   "metadata": {},
   "source": [
    "### 2.1.2 hvc_ar0 (products)"
   ]
  },
  {
   "cell_type": "code",
   "execution_count": 83,
   "id": "15b96789",
   "metadata": {},
   "outputs": [
    {
     "data": {
      "text/html": [
       "<div>\n",
       "<style scoped>\n",
       "    .dataframe tbody tr th:only-of-type {\n",
       "        vertical-align: middle;\n",
       "    }\n",
       "\n",
       "    .dataframe tbody tr th {\n",
       "        vertical-align: top;\n",
       "    }\n",
       "\n",
       "    .dataframe thead th {\n",
       "        text-align: right;\n",
       "    }\n",
       "</style>\n",
       "<table border=\"1\" class=\"dataframe\">\n",
       "  <thead>\n",
       "    <tr style=\"text-align: right;\">\n",
       "      <th></th>\n",
       "      <th>AR0_NRID</th>\n",
       "      <th>DESCRIPTION</th>\n",
       "      <th>CATEGORY</th>\n",
       "      <th>FAMILY</th>\n",
       "      <th>PRICE</th>\n",
       "    </tr>\n",
       "  </thead>\n",
       "  <tbody>\n",
       "    <tr>\n",
       "      <th>0</th>\n",
       "      <td>20742288286838</td>\n",
       "      <td>Dessert Caramel/14</td>\n",
       "      <td>Verkoopsartikel</td>\n",
       "      <td>Cups</td>\n",
       "      <td>10.9</td>\n",
       "    </tr>\n",
       "    <tr>\n",
       "      <th>1</th>\n",
       "      <td>20413488326838</td>\n",
       "      <td>Penalty/16</td>\n",
       "      <td>Verkoopsartikel</td>\n",
       "      <td>Hand Ice</td>\n",
       "      <td>6.5</td>\n",
       "    </tr>\n",
       "    <tr>\n",
       "      <th>2</th>\n",
       "      <td>21515648414638</td>\n",
       "      <td>Kriekentaart</td>\n",
       "      <td>Verkoopsartikel</td>\n",
       "      <td>Coffee</td>\n",
       "      <td>7.9</td>\n",
       "    </tr>\n",
       "    <tr>\n",
       "      <th>3</th>\n",
       "      <td>20296288686840</td>\n",
       "      <td>Expo met zachte wafel/12</td>\n",
       "      <td>Verkoopsartikel</td>\n",
       "      <td>Individual Dessert</td>\n",
       "      <td>7.3</td>\n",
       "    </tr>\n",
       "    <tr>\n",
       "      <th>4</th>\n",
       "      <td>21844652504048</td>\n",
       "      <td>Paaseitjes</td>\n",
       "      <td>Verkoopsartikel</td>\n",
       "      <td>Individual Dessert</td>\n",
       "      <td>7.5</td>\n",
       "    </tr>\n",
       "    <tr>\n",
       "      <th>...</th>\n",
       "      <td>...</td>\n",
       "      <td>...</td>\n",
       "      <td>...</td>\n",
       "      <td>...</td>\n",
       "      <td>...</td>\n",
       "    </tr>\n",
       "    <tr>\n",
       "      <th>312</th>\n",
       "      <td>23731</td>\n",
       "      <td>Subimba 100 cc.Choc/24</td>\n",
       "      <td>Verkoopsartikel</td>\n",
       "      <td>Cups</td>\n",
       "      <td>9.6</td>\n",
       "    </tr>\n",
       "    <tr>\n",
       "      <th>313</th>\n",
       "      <td>23735</td>\n",
       "      <td>Super Krokant/24</td>\n",
       "      <td>Verkoopsartikel</td>\n",
       "      <td>Hand Ice</td>\n",
       "      <td>9.7</td>\n",
       "    </tr>\n",
       "    <tr>\n",
       "      <th>314</th>\n",
       "      <td>23739</td>\n",
       "      <td>Maxi Banana/12</td>\n",
       "      <td>Verkoopsartikel</td>\n",
       "      <td>Hand Ice</td>\n",
       "      <td>5.5</td>\n",
       "    </tr>\n",
       "    <tr>\n",
       "      <th>315</th>\n",
       "      <td>17492188344852</td>\n",
       "      <td>SoufflÃ© Cointreau/4</td>\n",
       "      <td>Verkoopsartikel</td>\n",
       "      <td>Individual Dessert</td>\n",
       "      <td>8.9</td>\n",
       "    </tr>\n",
       "    <tr>\n",
       "      <th>316</th>\n",
       "      <td>20985584414848</td>\n",
       "      <td>Bon 1L roomijs naar keuze</td>\n",
       "      <td>Kortingsbon</td>\n",
       "      <td>NaN</td>\n",
       "      <td>-3.9</td>\n",
       "    </tr>\n",
       "  </tbody>\n",
       "</table>\n",
       "<p>317 rows × 5 columns</p>\n",
       "</div>"
      ],
      "text/plain": [
       "           AR0_NRID                DESCRIPTION         CATEGORY  \\\n",
       "0    20742288286838         Dessert Caramel/14  Verkoopsartikel   \n",
       "1    20413488326838                 Penalty/16  Verkoopsartikel   \n",
       "2    21515648414638               Kriekentaart  Verkoopsartikel   \n",
       "3    20296288686840   Expo met zachte wafel/12  Verkoopsartikel   \n",
       "4    21844652504048                 Paaseitjes  Verkoopsartikel   \n",
       "..              ...                        ...              ...   \n",
       "312           23731     Subimba 100 cc.Choc/24  Verkoopsartikel   \n",
       "313           23735           Super Krokant/24  Verkoopsartikel   \n",
       "314           23739             Maxi Banana/12  Verkoopsartikel   \n",
       "315  17492188344852       SoufflÃ© Cointreau/4  Verkoopsartikel   \n",
       "316  20985584414848  Bon 1L roomijs naar keuze      Kortingsbon   \n",
       "\n",
       "                 FAMILY  PRICE  \n",
       "0                  Cups   10.9  \n",
       "1              Hand Ice    6.5  \n",
       "2                Coffee    7.9  \n",
       "3    Individual Dessert    7.3  \n",
       "4    Individual Dessert    7.5  \n",
       "..                  ...    ...  \n",
       "312                Cups    9.6  \n",
       "313            Hand Ice    9.7  \n",
       "314            Hand Ice    5.5  \n",
       "315  Individual Dessert    8.9  \n",
       "316                 NaN   -3.9  \n",
       "\n",
       "[317 rows x 5 columns]"
      ]
     },
     "execution_count": 83,
     "metadata": {},
     "output_type": "execute_result"
    }
   ],
   "source": [
    "# inspect table\n",
    "hvc_ar0"
   ]
  },
  {
   "cell_type": "code",
   "execution_count": 84,
   "id": "1806ef2e",
   "metadata": {
    "scrolled": true
   },
   "outputs": [
    {
     "data": {
      "text/html": [
       "<div>\n",
       "<style scoped>\n",
       "    .dataframe tbody tr th:only-of-type {\n",
       "        vertical-align: middle;\n",
       "    }\n",
       "\n",
       "    .dataframe tbody tr th {\n",
       "        vertical-align: top;\n",
       "    }\n",
       "\n",
       "    .dataframe thead th {\n",
       "        text-align: right;\n",
       "    }\n",
       "</style>\n",
       "<table border=\"1\" class=\"dataframe\">\n",
       "  <thead>\n",
       "    <tr style=\"text-align: right;\">\n",
       "      <th></th>\n",
       "      <th>AR0_NRID</th>\n",
       "      <th>DESCRIPTION</th>\n",
       "      <th>CATEGORY</th>\n",
       "      <th>FAMILY</th>\n",
       "      <th>PRICE</th>\n",
       "    </tr>\n",
       "  </thead>\n",
       "  <tbody>\n",
       "    <tr>\n",
       "      <th>0</th>\n",
       "      <td>20742288286838</td>\n",
       "      <td>Dessert Caramel/14</td>\n",
       "      <td>Verkoopsartikel</td>\n",
       "      <td>Cups</td>\n",
       "      <td>10.9</td>\n",
       "    </tr>\n",
       "    <tr>\n",
       "      <th>1</th>\n",
       "      <td>20413488326838</td>\n",
       "      <td>Penalty/16</td>\n",
       "      <td>Verkoopsartikel</td>\n",
       "      <td>Hand Ice</td>\n",
       "      <td>6.5</td>\n",
       "    </tr>\n",
       "    <tr>\n",
       "      <th>2</th>\n",
       "      <td>21515648414638</td>\n",
       "      <td>Kriekentaart</td>\n",
       "      <td>Verkoopsartikel</td>\n",
       "      <td>Coffee</td>\n",
       "      <td>7.9</td>\n",
       "    </tr>\n",
       "    <tr>\n",
       "      <th>3</th>\n",
       "      <td>20296288686840</td>\n",
       "      <td>Expo met zachte wafel/12</td>\n",
       "      <td>Verkoopsartikel</td>\n",
       "      <td>Individual Dessert</td>\n",
       "      <td>7.3</td>\n",
       "    </tr>\n",
       "    <tr>\n",
       "      <th>4</th>\n",
       "      <td>21844652504048</td>\n",
       "      <td>Paaseitjes</td>\n",
       "      <td>Verkoopsartikel</td>\n",
       "      <td>Individual Dessert</td>\n",
       "      <td>7.5</td>\n",
       "    </tr>\n",
       "  </tbody>\n",
       "</table>\n",
       "</div>"
      ],
      "text/plain": [
       "         AR0_NRID               DESCRIPTION         CATEGORY  \\\n",
       "0  20742288286838        Dessert Caramel/14  Verkoopsartikel   \n",
       "1  20413488326838                Penalty/16  Verkoopsartikel   \n",
       "2  21515648414638              Kriekentaart  Verkoopsartikel   \n",
       "3  20296288686840  Expo met zachte wafel/12  Verkoopsartikel   \n",
       "4  21844652504048                Paaseitjes  Verkoopsartikel   \n",
       "\n",
       "               FAMILY  PRICE  \n",
       "0                Cups   10.9  \n",
       "1            Hand Ice    6.5  \n",
       "2              Coffee    7.9  \n",
       "3  Individual Dessert    7.3  \n",
       "4  Individual Dessert    7.5  "
      ]
     },
     "execution_count": 84,
     "metadata": {},
     "output_type": "execute_result"
    }
   ],
   "source": [
    "# inspect the first 5 products\n",
    "hvc_ar0.head(5)"
   ]
  },
  {
   "cell_type": "code",
   "execution_count": 85,
   "id": "8f40a1aa",
   "metadata": {
    "scrolled": false
   },
   "outputs": [
    {
     "data": {
      "text/plain": [
       "AR0_NRID         int64\n",
       "DESCRIPTION     object\n",
       "CATEGORY        object\n",
       "FAMILY          object\n",
       "PRICE          float64\n",
       "dtype: object"
      ]
     },
     "execution_count": 85,
     "metadata": {},
     "output_type": "execute_result"
    }
   ],
   "source": [
    "# check dtypes\n",
    "hvc_ar0.dtypes"
   ]
  },
  {
   "cell_type": "code",
   "execution_count": 86,
   "id": "e6966c7f",
   "metadata": {},
   "outputs": [
    {
     "data": {
      "text/plain": [
       "count                 317\n",
       "unique                314\n",
       "top       Aardbeien vlaai\n",
       "freq                    2\n",
       "Name: DESCRIPTION, dtype: object"
      ]
     },
     "execution_count": 86,
     "metadata": {},
     "output_type": "execute_result"
    }
   ],
   "source": [
    "# inspect some descriptive statistics with respect to the description\n",
    "hvc_ar0[\"DESCRIPTION\"].describe()"
   ]
  },
  {
   "cell_type": "code",
   "execution_count": 87,
   "id": "dc5446f4",
   "metadata": {},
   "outputs": [
    {
     "data": {
      "text/plain": [
       "count                 317\n",
       "unique                  3\n",
       "top       Verkoopsartikel\n",
       "freq                  287\n",
       "Name: CATEGORY, dtype: object"
      ]
     },
     "execution_count": 87,
     "metadata": {},
     "output_type": "execute_result"
    }
   ],
   "source": [
    "# inspect some descriptive statistics with respect to the category\n",
    "hvc_ar0[\"CATEGORY\"].describe()"
   ]
  },
  {
   "cell_type": "code",
   "execution_count": 88,
   "id": "92300256",
   "metadata": {
    "scrolled": true
   },
   "outputs": [
    {
     "data": {
      "text/plain": [
       "count           275\n",
       "unique           11\n",
       "top       Scoop Ice\n",
       "freq             64\n",
       "Name: FAMILY, dtype: object"
      ]
     },
     "execution_count": 88,
     "metadata": {},
     "output_type": "execute_result"
    }
   ],
   "source": [
    "# inspect some descriptive statistics with respect to the family\n",
    "hvc_ar0[\"FAMILY\"].describe()"
   ]
  },
  {
   "cell_type": "code",
   "execution_count": 89,
   "id": "2fef8ed1",
   "metadata": {},
   "outputs": [
    {
     "data": {
      "text/plain": [
       "317"
      ]
     },
     "execution_count": 89,
     "metadata": {},
     "output_type": "execute_result"
    }
   ],
   "source": [
    "# inspect the total number of products \n",
    "len(hvc_ar0[\"AR0_NRID\"].unique())"
   ]
  },
  {
   "cell_type": "code",
   "execution_count": 90,
   "id": "b8afe79b",
   "metadata": {},
   "outputs": [
    {
     "data": {
      "text/plain": [
       "Scoop Ice             0.232727\n",
       "Hand Ice              0.167273\n",
       "Cups                  0.134545\n",
       "Meals                 0.130909\n",
       "Coffee                0.083636\n",
       "Ice Cakes             0.083636\n",
       "Individual Dessert    0.080000\n",
       "Garniture             0.043636\n",
       "Assortments           0.029091\n",
       "BIG                   0.007273\n",
       "POS inside            0.007273\n",
       "Name: FAMILY, dtype: float64"
      ]
     },
     "execution_count": 90,
     "metadata": {},
     "output_type": "execute_result"
    }
   ],
   "source": [
    "# inspect the proportion of product families\n",
    "hvc_ar0[\"FAMILY\"].value_counts(normalize=True)"
   ]
  },
  {
   "cell_type": "code",
   "execution_count": 91,
   "id": "977c869f",
   "metadata": {},
   "outputs": [
    {
     "data": {
      "text/plain": [
       "count    286.000000\n",
       "mean       7.763112\n",
       "std        5.948013\n",
       "min      -25.000000\n",
       "25%        5.125000\n",
       "50%        7.600000\n",
       "75%        9.600000\n",
       "max       37.000000\n",
       "Name: PRICE, dtype: float64"
      ]
     },
     "execution_count": 91,
     "metadata": {},
     "output_type": "execute_result"
    }
   ],
   "source": [
    "# get some descriptive statistics with respect to the price of the products\n",
    "hvc_ar0[\"PRICE\"].describe()"
   ]
  },
  {
   "cell_type": "code",
   "execution_count": 92,
   "id": "480ab0ec",
   "metadata": {},
   "outputs": [
    {
     "data": {
      "text/html": [
       "<div>\n",
       "<style scoped>\n",
       "    .dataframe tbody tr th:only-of-type {\n",
       "        vertical-align: middle;\n",
       "    }\n",
       "\n",
       "    .dataframe tbody tr th {\n",
       "        vertical-align: top;\n",
       "    }\n",
       "\n",
       "    .dataframe thead th {\n",
       "        text-align: right;\n",
       "    }\n",
       "</style>\n",
       "<table border=\"1\" class=\"dataframe\">\n",
       "  <thead>\n",
       "    <tr style=\"text-align: right;\">\n",
       "      <th></th>\n",
       "      <th>AR0_NRID</th>\n",
       "      <th>DESCRIPTION</th>\n",
       "      <th>CATEGORY</th>\n",
       "      <th>FAMILY</th>\n",
       "      <th>PRICE</th>\n",
       "    </tr>\n",
       "  </thead>\n",
       "  <tbody>\n",
       "    <tr>\n",
       "      <th>21</th>\n",
       "      <td>57367272</td>\n",
       "      <td>Bon -2,5euro zomermailing07</td>\n",
       "      <td>Kortingsbon</td>\n",
       "      <td>NaN</td>\n",
       "      <td>-2.5</td>\n",
       "    </tr>\n",
       "    <tr>\n",
       "      <th>54</th>\n",
       "      <td>54251376</td>\n",
       "      <td>Bon chocolate surprise Utopoli</td>\n",
       "      <td>Kortingsbon</td>\n",
       "      <td>NaN</td>\n",
       "      <td>-5.2</td>\n",
       "    </tr>\n",
       "    <tr>\n",
       "      <th>63</th>\n",
       "      <td>62157503</td>\n",
       "      <td>Bon -7,40 euro</td>\n",
       "      <td>Kortingsbon</td>\n",
       "      <td>NaN</td>\n",
       "      <td>-7.4</td>\n",
       "    </tr>\n",
       "    <tr>\n",
       "      <th>64</th>\n",
       "      <td>62315111</td>\n",
       "      <td>Bon duette deluxe/6 bij AK min</td>\n",
       "      <td>Kortingsbon</td>\n",
       "      <td>NaN</td>\n",
       "      <td>-4.2</td>\n",
       "    </tr>\n",
       "    <tr>\n",
       "      <th>71</th>\n",
       "      <td>55360457</td>\n",
       "      <td>Bon gratis deco Nieuwsblad/Ver</td>\n",
       "      <td>Kortingsbon</td>\n",
       "      <td>NaN</td>\n",
       "      <td>-4.1</td>\n",
       "    </tr>\n",
       "    <tr>\n",
       "      <th>186</th>\n",
       "      <td>21454356698044</td>\n",
       "      <td>Bon -1,9 euro bij AK 15 euro</td>\n",
       "      <td>Kortingsbon</td>\n",
       "      <td>NaN</td>\n",
       "      <td>-1.9</td>\n",
       "    </tr>\n",
       "    <tr>\n",
       "      <th>187</th>\n",
       "      <td>21142456138046</td>\n",
       "      <td>Bon -4,10euro bij AK van min 2</td>\n",
       "      <td>Kortingsbon</td>\n",
       "      <td>NaN</td>\n",
       "      <td>-4.1</td>\n",
       "    </tr>\n",
       "    <tr>\n",
       "      <th>218</th>\n",
       "      <td>52529668</td>\n",
       "      <td>Bon-6,90euro bij AK van min 35</td>\n",
       "      <td>Kortingsbon</td>\n",
       "      <td>NaN</td>\n",
       "      <td>-7.4</td>\n",
       "    </tr>\n",
       "    <tr>\n",
       "      <th>230</th>\n",
       "      <td>53569504</td>\n",
       "      <td>Bon-3,90euro KVLV 2007</td>\n",
       "      <td>Kortingsbon</td>\n",
       "      <td>NaN</td>\n",
       "      <td>-4.1</td>\n",
       "    </tr>\n",
       "    <tr>\n",
       "      <th>231</th>\n",
       "      <td>53614655</td>\n",
       "      <td>Bon -10euro Exellent</td>\n",
       "      <td>Kortingsbon</td>\n",
       "      <td>NaN</td>\n",
       "      <td>-10.0</td>\n",
       "    </tr>\n",
       "    <tr>\n",
       "      <th>237</th>\n",
       "      <td>47703913</td>\n",
       "      <td>Bon 25 euro Brebos</td>\n",
       "      <td>Kortingsbon</td>\n",
       "      <td>NaN</td>\n",
       "      <td>-25.0</td>\n",
       "    </tr>\n",
       "    <tr>\n",
       "      <th>255</th>\n",
       "      <td>681916</td>\n",
       "      <td>Cadeaubon 10 euro</td>\n",
       "      <td>Kortingsbon</td>\n",
       "      <td>NaN</td>\n",
       "      <td>-10.0</td>\n",
       "    </tr>\n",
       "    <tr>\n",
       "      <th>286</th>\n",
       "      <td>61239668</td>\n",
       "      <td>Bon kerstmailing â¿¬2,5</td>\n",
       "      <td>Kortingsbon</td>\n",
       "      <td>NaN</td>\n",
       "      <td>-2.5</td>\n",
       "    </tr>\n",
       "    <tr>\n",
       "      <th>288</th>\n",
       "      <td>22611748246244</td>\n",
       "      <td>Bon -1 euro bij AK 10 euro icy</td>\n",
       "      <td>Kortingsbon</td>\n",
       "      <td>NaN</td>\n",
       "      <td>-1.0</td>\n",
       "    </tr>\n",
       "    <tr>\n",
       "      <th>289</th>\n",
       "      <td>22092648256244</td>\n",
       "      <td>Bon -6,7euro</td>\n",
       "      <td>Kortingsbon</td>\n",
       "      <td>NaN</td>\n",
       "      <td>-7.4</td>\n",
       "    </tr>\n",
       "    <tr>\n",
       "      <th>316</th>\n",
       "      <td>20985584414848</td>\n",
       "      <td>Bon 1L roomijs naar keuze</td>\n",
       "      <td>Kortingsbon</td>\n",
       "      <td>NaN</td>\n",
       "      <td>-3.9</td>\n",
       "    </tr>\n",
       "  </tbody>\n",
       "</table>\n",
       "</div>"
      ],
      "text/plain": [
       "           AR0_NRID                     DESCRIPTION     CATEGORY FAMILY  PRICE\n",
       "21         57367272     Bon -2,5euro zomermailing07  Kortingsbon    NaN   -2.5\n",
       "54         54251376  Bon chocolate surprise Utopoli  Kortingsbon    NaN   -5.2\n",
       "63         62157503                  Bon -7,40 euro  Kortingsbon    NaN   -7.4\n",
       "64         62315111  Bon duette deluxe/6 bij AK min  Kortingsbon    NaN   -4.2\n",
       "71         55360457  Bon gratis deco Nieuwsblad/Ver  Kortingsbon    NaN   -4.1\n",
       "186  21454356698044    Bon -1,9 euro bij AK 15 euro  Kortingsbon    NaN   -1.9\n",
       "187  21142456138046  Bon -4,10euro bij AK van min 2  Kortingsbon    NaN   -4.1\n",
       "218        52529668  Bon-6,90euro bij AK van min 35  Kortingsbon    NaN   -7.4\n",
       "230        53569504          Bon-3,90euro KVLV 2007  Kortingsbon    NaN   -4.1\n",
       "231        53614655            Bon -10euro Exellent  Kortingsbon    NaN  -10.0\n",
       "237        47703913              Bon 25 euro Brebos  Kortingsbon    NaN  -25.0\n",
       "255          681916               Cadeaubon 10 euro  Kortingsbon    NaN  -10.0\n",
       "286        61239668         Bon kerstmailing â¿¬2,5  Kortingsbon    NaN   -2.5\n",
       "288  22611748246244  Bon -1 euro bij AK 10 euro icy  Kortingsbon    NaN   -1.0\n",
       "289  22092648256244                    Bon -6,7euro  Kortingsbon    NaN   -7.4\n",
       "316  20985584414848       Bon 1L roomijs naar keuze  Kortingsbon    NaN   -3.9"
      ]
     },
     "execution_count": 92,
     "metadata": {},
     "output_type": "execute_result"
    }
   ],
   "source": [
    "# inspect which products had a negative price\n",
    "hvc_ar0[hvc_ar0[\"PRICE\"] < 0]"
   ]
  },
  {
   "cell_type": "markdown",
   "id": "bf38a59d",
   "metadata": {},
   "source": [
    "### 2.1.3 hvc_customer_reviews (reviews)"
   ]
  },
  {
   "cell_type": "code",
   "execution_count": 93,
   "id": "0d2d5c05",
   "metadata": {
    "scrolled": true
   },
   "outputs": [
    {
     "data": {
      "text/html": [
       "<div>\n",
       "<style scoped>\n",
       "    .dataframe tbody tr th:only-of-type {\n",
       "        vertical-align: middle;\n",
       "    }\n",
       "\n",
       "    .dataframe tbody tr th {\n",
       "        vertical-align: top;\n",
       "    }\n",
       "\n",
       "    .dataframe thead th {\n",
       "        text-align: right;\n",
       "    }\n",
       "</style>\n",
       "<table border=\"1\" class=\"dataframe\">\n",
       "  <thead>\n",
       "    <tr style=\"text-align: right;\">\n",
       "      <th></th>\n",
       "      <th>SO0_NRID</th>\n",
       "      <th>REVIEW</th>\n",
       "    </tr>\n",
       "  </thead>\n",
       "  <tbody>\n",
       "    <tr>\n",
       "      <th>0</th>\n",
       "      <td>719952</td>\n",
       "      <td>Good service, satisfied</td>\n",
       "    </tr>\n",
       "    <tr>\n",
       "      <th>1</th>\n",
       "      <td>1453609</td>\n",
       "      <td>No opinion</td>\n",
       "    </tr>\n",
       "    <tr>\n",
       "      <th>2</th>\n",
       "      <td>1453614</td>\n",
       "      <td>No opinion</td>\n",
       "    </tr>\n",
       "    <tr>\n",
       "      <th>3</th>\n",
       "      <td>1453602</td>\n",
       "      <td>Excellent service, very satisfied</td>\n",
       "    </tr>\n",
       "    <tr>\n",
       "      <th>4</th>\n",
       "      <td>1252497</td>\n",
       "      <td>No opinion</td>\n",
       "    </tr>\n",
       "    <tr>\n",
       "      <th>...</th>\n",
       "      <td>...</td>\n",
       "      <td>...</td>\n",
       "    </tr>\n",
       "    <tr>\n",
       "      <th>5107</th>\n",
       "      <td>25528089708344</td>\n",
       "      <td>No opinion</td>\n",
       "    </tr>\n",
       "    <tr>\n",
       "      <th>5108</th>\n",
       "      <td>25624580427646</td>\n",
       "      <td>No opinion</td>\n",
       "    </tr>\n",
       "    <tr>\n",
       "      <th>5109</th>\n",
       "      <td>25616776446438</td>\n",
       "      <td>Good service, satisfied</td>\n",
       "    </tr>\n",
       "    <tr>\n",
       "      <th>5110</th>\n",
       "      <td>73260813</td>\n",
       "      <td>Excellent service, very satisfied</td>\n",
       "    </tr>\n",
       "    <tr>\n",
       "      <th>5111</th>\n",
       "      <td>25321593368148</td>\n",
       "      <td>No opinion</td>\n",
       "    </tr>\n",
       "  </tbody>\n",
       "</table>\n",
       "<p>5112 rows × 2 columns</p>\n",
       "</div>"
      ],
      "text/plain": [
       "            SO0_NRID                             REVIEW\n",
       "0             719952            Good service, satisfied\n",
       "1            1453609                         No opinion\n",
       "2            1453614                         No opinion\n",
       "3            1453602  Excellent service, very satisfied\n",
       "4            1252497                         No opinion\n",
       "...              ...                                ...\n",
       "5107  25528089708344                         No opinion\n",
       "5108  25624580427646                         No opinion\n",
       "5109  25616776446438            Good service, satisfied\n",
       "5110        73260813  Excellent service, very satisfied\n",
       "5111  25321593368148                         No opinion\n",
       "\n",
       "[5112 rows x 2 columns]"
      ]
     },
     "execution_count": 93,
     "metadata": {},
     "output_type": "execute_result"
    }
   ],
   "source": [
    "# inspect table\n",
    "hvc_customer_reviews"
   ]
  },
  {
   "cell_type": "code",
   "execution_count": 94,
   "id": "39d75176",
   "metadata": {
    "scrolled": true
   },
   "outputs": [
    {
     "data": {
      "text/html": [
       "<div>\n",
       "<style scoped>\n",
       "    .dataframe tbody tr th:only-of-type {\n",
       "        vertical-align: middle;\n",
       "    }\n",
       "\n",
       "    .dataframe tbody tr th {\n",
       "        vertical-align: top;\n",
       "    }\n",
       "\n",
       "    .dataframe thead th {\n",
       "        text-align: right;\n",
       "    }\n",
       "</style>\n",
       "<table border=\"1\" class=\"dataframe\">\n",
       "  <thead>\n",
       "    <tr style=\"text-align: right;\">\n",
       "      <th></th>\n",
       "      <th>SO0_NRID</th>\n",
       "      <th>REVIEW</th>\n",
       "    </tr>\n",
       "  </thead>\n",
       "  <tbody>\n",
       "    <tr>\n",
       "      <th>0</th>\n",
       "      <td>719952</td>\n",
       "      <td>Good service, satisfied</td>\n",
       "    </tr>\n",
       "    <tr>\n",
       "      <th>1</th>\n",
       "      <td>1453609</td>\n",
       "      <td>No opinion</td>\n",
       "    </tr>\n",
       "    <tr>\n",
       "      <th>2</th>\n",
       "      <td>1453614</td>\n",
       "      <td>No opinion</td>\n",
       "    </tr>\n",
       "    <tr>\n",
       "      <th>3</th>\n",
       "      <td>1453602</td>\n",
       "      <td>Excellent service, very satisfied</td>\n",
       "    </tr>\n",
       "    <tr>\n",
       "      <th>4</th>\n",
       "      <td>1252497</td>\n",
       "      <td>No opinion</td>\n",
       "    </tr>\n",
       "  </tbody>\n",
       "</table>\n",
       "</div>"
      ],
      "text/plain": [
       "   SO0_NRID                             REVIEW\n",
       "0    719952            Good service, satisfied\n",
       "1   1453609                         No opinion\n",
       "2   1453614                         No opinion\n",
       "3   1453602  Excellent service, very satisfied\n",
       "4   1252497                         No opinion"
      ]
     },
     "execution_count": 94,
     "metadata": {},
     "output_type": "execute_result"
    }
   ],
   "source": [
    "# inspect the first 5 reviews\n",
    "hvc_customer_reviews.head(5)"
   ]
  },
  {
   "cell_type": "code",
   "execution_count": 95,
   "id": "3c4de4ee",
   "metadata": {},
   "outputs": [
    {
     "data": {
      "text/plain": [
       "5112"
      ]
     },
     "execution_count": 95,
     "metadata": {},
     "output_type": "execute_result"
    }
   ],
   "source": [
    "# inspect the total number of reviews\n",
    "len(hvc_customer_reviews[\"SO0_NRID\"].unique())"
   ]
  },
  {
   "cell_type": "code",
   "execution_count": 96,
   "id": "3f9d7237",
   "metadata": {},
   "outputs": [
    {
     "data": {
      "text/plain": [
       "SO0_NRID     int64\n",
       "REVIEW      object\n",
       "dtype: object"
      ]
     },
     "execution_count": 96,
     "metadata": {},
     "output_type": "execute_result"
    }
   ],
   "source": [
    "# checking dtypes\n",
    "hvc_customer_reviews.dtypes"
   ]
  },
  {
   "cell_type": "code",
   "execution_count": 97,
   "id": "4230e3e0",
   "metadata": {},
   "outputs": [
    {
     "data": {
      "text/plain": [
       "array(['Good service, satisfied', 'No opinion',\n",
       "       'Excellent service, very satisfied', 'Not completely satisfied',\n",
       "       'Very bad service, very unsatisfied'], dtype=object)"
      ]
     },
     "execution_count": 97,
     "metadata": {},
     "output_type": "execute_result"
    }
   ],
   "source": [
    "# checking kind of reviews\n",
    "pd.unique(hvc_customer_reviews[\"REVIEW\"])"
   ]
  },
  {
   "cell_type": "code",
   "execution_count": 98,
   "id": "aa0e8733",
   "metadata": {},
   "outputs": [
    {
     "data": {
      "text/plain": [
       "count                        5112\n",
       "unique                          5\n",
       "top       Good service, satisfied\n",
       "freq                         2177\n",
       "Name: REVIEW, dtype: object"
      ]
     },
     "execution_count": 98,
     "metadata": {},
     "output_type": "execute_result"
    }
   ],
   "source": [
    "# inspect some descriptive statistics with respect to the transaction amount\n",
    "hvc_customer_reviews[\"REVIEW\"].describe()"
   ]
  },
  {
   "cell_type": "code",
   "execution_count": 99,
   "id": "f8b164ac",
   "metadata": {},
   "outputs": [
    {
     "data": {
      "text/plain": [
       "0.5185837245696401"
      ]
     },
     "execution_count": 99,
     "metadata": {},
     "output_type": "execute_result"
    }
   ],
   "source": [
    "# proportion of good or excellent reviews\n",
    "\n",
    "sum((hvc_customer_reviews[\"REVIEW\"] == \"Good service, satisfied\") + (hvc_customer_reviews[\"REVIEW\"] == \"Excellent service, very satisfied\")) / len(hvc_customer_reviews)\n",
    "    \n",
    "    \n"
   ]
  },
  {
   "cell_type": "code",
   "execution_count": 100,
   "id": "59ed4c56",
   "metadata": {},
   "outputs": [
    {
     "data": {
      "text/plain": [
       "0.09272300469483569"
      ]
     },
     "execution_count": 100,
     "metadata": {},
     "output_type": "execute_result"
    }
   ],
   "source": [
    "# proportion of excellent reviews\n",
    "sum((hvc_customer_reviews[\"REVIEW\"] == \"Excellent service, very satisfied\")) / len(hvc_customer_reviews)\n",
    "\n"
   ]
  },
  {
   "cell_type": "code",
   "execution_count": 101,
   "id": "1934e96b",
   "metadata": {},
   "outputs": [
    {
     "data": {
      "text/plain": [
       "0.0"
      ]
     },
     "execution_count": 101,
     "metadata": {},
     "output_type": "execute_result"
    }
   ],
   "source": [
    "# proportion of good reviews\n",
    "sum((hvc_customer_reviews[\"REVIEW\"] == \"Good service,  satisfied\")) / len(hvc_customer_reviews)"
   ]
  },
  {
   "cell_type": "code",
   "execution_count": 102,
   "id": "5bae74ce",
   "metadata": {},
   "outputs": [
    {
     "data": {
      "text/plain": [
       "0.08392018779342723"
      ]
     },
     "execution_count": 102,
     "metadata": {},
     "output_type": "execute_result"
    }
   ],
   "source": [
    "# proportion of bad reviews\n",
    "sum((hvc_customer_reviews[\"REVIEW\"] == \"Not completely satisfied\")) / len(hvc_customer_reviews)"
   ]
  },
  {
   "cell_type": "code",
   "execution_count": 103,
   "id": "2de8fa81",
   "metadata": {},
   "outputs": [
    {
     "data": {
      "text/plain": [
       "0.009780907668231613"
      ]
     },
     "execution_count": 103,
     "metadata": {},
     "output_type": "execute_result"
    }
   ],
   "source": [
    "# proportion of terrible reviews\n",
    "sum((hvc_customer_reviews[\"REVIEW\"] == \"Very bad service, very unsatisfied\")) / len(hvc_customer_reviews)"
   ]
  },
  {
   "cell_type": "code",
   "execution_count": 104,
   "id": "9a229ef2",
   "metadata": {},
   "outputs": [
    {
     "data": {
      "text/plain": [
       "9"
      ]
     },
     "execution_count": 104,
     "metadata": {},
     "output_type": "execute_result"
    }
   ],
   "source": [
    "# proportion of all bad reviews\n",
    "\n",
    "proportion_badreviews = int(sum((hvc_customer_reviews[\"REVIEW\"] == \"Not completely satisfied\") | (hvc_customer_reviews[\"REVIEW\"] == \"Very bad service, very unsatisfied\"))*100 / len(hvc_customer_reviews))\n",
    "\n",
    "proportion_badreviews\n",
    "\n"
   ]
  },
  {
   "cell_type": "code",
   "execution_count": 105,
   "id": "1b9ddc06",
   "metadata": {},
   "outputs": [
    {
     "data": {
      "text/plain": [
       "50"
      ]
     },
     "execution_count": 105,
     "metadata": {},
     "output_type": "execute_result"
    }
   ],
   "source": [
    "len(hvc_customer_reviews[hvc_customer_reviews[\"REVIEW\"] == \"Very bad service, very unsatisfied\"])"
   ]
  },
  {
   "cell_type": "code",
   "execution_count": 106,
   "id": "36037229",
   "metadata": {},
   "outputs": [
    {
     "data": {
      "text/plain": [
       "429"
      ]
     },
     "execution_count": 106,
     "metadata": {},
     "output_type": "execute_result"
    }
   ],
   "source": [
    "len(hvc_customer_reviews[hvc_customer_reviews[\"REVIEW\"] == \"Not completely satisfied\"])"
   ]
  },
  {
   "cell_type": "code",
   "execution_count": 107,
   "id": "c01e1be3",
   "metadata": {},
   "outputs": [
    {
     "name": "stdout",
     "output_type": "stream",
     "text": [
      "479\n"
     ]
    }
   ],
   "source": [
    "#Amount of customers that give a bad review and that need a coupon to win them back.\n",
    "\n",
    "amount_bad_reviews = len(hvc_customer_reviews[hvc_customer_reviews[\"REVIEW\"] == \"Very bad service, very unsatisfied\"]) + len(hvc_customer_reviews[hvc_customer_reviews[\"REVIEW\"] == \"Not completely satisfied\"])\n",
    "\n",
    "print(amount_bad_reviews)\n"
   ]
  },
  {
   "cell_type": "markdown",
   "id": "b3074732",
   "metadata": {},
   "source": [
    "## 2.2 Data Set 2 (hvc_depot + hvc_hvdayoftheweek + hvc_hvposition) -> Guillaume"
   ]
  },
  {
   "cell_type": "markdown",
   "id": "bf39385f",
   "metadata": {},
   "source": [
    "### 2.2.1 hvc_depot"
   ]
  },
  {
   "cell_type": "markdown",
   "id": "7dba374f",
   "metadata": {},
   "source": [
    "Nog tekstje bijtypen"
   ]
  },
  {
   "cell_type": "code",
   "execution_count": 108,
   "id": "3c6bf835",
   "metadata": {
    "scrolled": false
   },
   "outputs": [
    {
     "data": {
      "text/html": [
       "<div>\n",
       "<style scoped>\n",
       "    .dataframe tbody tr th:only-of-type {\n",
       "        vertical-align: middle;\n",
       "    }\n",
       "\n",
       "    .dataframe tbody tr th {\n",
       "        vertical-align: top;\n",
       "    }\n",
       "\n",
       "    .dataframe thead th {\n",
       "        text-align: right;\n",
       "    }\n",
       "</style>\n",
       "<table border=\"1\" class=\"dataframe\">\n",
       "  <thead>\n",
       "    <tr style=\"text-align: right;\">\n",
       "      <th></th>\n",
       "      <th>DEPOT_ID</th>\n",
       "      <th>DEPOT</th>\n",
       "      <th>HVROUTETEMPLATE_NRID</th>\n",
       "    </tr>\n",
       "  </thead>\n",
       "  <tbody>\n",
       "    <tr>\n",
       "      <th>0</th>\n",
       "      <td>0</td>\n",
       "      <td>Deinze</td>\n",
       "      <td>219020601</td>\n",
       "    </tr>\n",
       "    <tr>\n",
       "      <th>1</th>\n",
       "      <td>1</td>\n",
       "      <td>Deinze</td>\n",
       "      <td>219021241</td>\n",
       "    </tr>\n",
       "    <tr>\n",
       "      <th>2</th>\n",
       "      <td>2</td>\n",
       "      <td>Deinze</td>\n",
       "      <td>219024456</td>\n",
       "    </tr>\n",
       "    <tr>\n",
       "      <th>3</th>\n",
       "      <td>3</td>\n",
       "      <td>Deinze</td>\n",
       "      <td>219021882</td>\n",
       "    </tr>\n",
       "    <tr>\n",
       "      <th>4</th>\n",
       "      <td>4</td>\n",
       "      <td>Deinze</td>\n",
       "      <td>219022524</td>\n",
       "    </tr>\n",
       "    <tr>\n",
       "      <th>5</th>\n",
       "      <td>5</td>\n",
       "      <td>Deinze</td>\n",
       "      <td>219023167</td>\n",
       "    </tr>\n",
       "    <tr>\n",
       "      <th>6</th>\n",
       "      <td>6</td>\n",
       "      <td>Deinze</td>\n",
       "      <td>219023811</td>\n",
       "    </tr>\n",
       "    <tr>\n",
       "      <th>7</th>\n",
       "      <td>7</td>\n",
       "      <td>Deinze</td>\n",
       "      <td>219019324</td>\n",
       "    </tr>\n",
       "    <tr>\n",
       "      <th>8</th>\n",
       "      <td>8</td>\n",
       "      <td>Deinze</td>\n",
       "      <td>219019962</td>\n",
       "    </tr>\n",
       "    <tr>\n",
       "      <th>9</th>\n",
       "      <td>9</td>\n",
       "      <td>Deinze</td>\n",
       "      <td>289414945</td>\n",
       "    </tr>\n",
       "    <tr>\n",
       "      <th>10</th>\n",
       "      <td>10</td>\n",
       "      <td>Deinze</td>\n",
       "      <td>289757472</td>\n",
       "    </tr>\n",
       "    <tr>\n",
       "      <th>11</th>\n",
       "      <td>11</td>\n",
       "      <td>Deinze</td>\n",
       "      <td>70671404</td>\n",
       "    </tr>\n",
       "    <tr>\n",
       "      <th>12</th>\n",
       "      <td>12</td>\n",
       "      <td>Antwerpen</td>\n",
       "      <td>219018687</td>\n",
       "    </tr>\n",
       "    <tr>\n",
       "      <th>13</th>\n",
       "      <td>13</td>\n",
       "      <td>Antwerpen</td>\n",
       "      <td>289756470</td>\n",
       "    </tr>\n",
       "    <tr>\n",
       "      <th>14</th>\n",
       "      <td>14</td>\n",
       "      <td>Antwerpen</td>\n",
       "      <td>289755468</td>\n",
       "    </tr>\n",
       "    <tr>\n",
       "      <th>15</th>\n",
       "      <td>15</td>\n",
       "      <td>Antwerpen</td>\n",
       "      <td>289759476</td>\n",
       "    </tr>\n",
       "    <tr>\n",
       "      <th>16</th>\n",
       "      <td>16</td>\n",
       "      <td>Antwerpen</td>\n",
       "      <td>289763484</td>\n",
       "    </tr>\n",
       "    <tr>\n",
       "      <th>17</th>\n",
       "      <td>17</td>\n",
       "      <td>Antwerpen</td>\n",
       "      <td>289758474</td>\n",
       "    </tr>\n",
       "    <tr>\n",
       "      <th>18</th>\n",
       "      <td>18</td>\n",
       "      <td>Antwerpen</td>\n",
       "      <td>289762482</td>\n",
       "    </tr>\n",
       "    <tr>\n",
       "      <th>19</th>\n",
       "      <td>19</td>\n",
       "      <td>Antwerpen</td>\n",
       "      <td>289764486</td>\n",
       "    </tr>\n",
       "    <tr>\n",
       "      <th>20</th>\n",
       "      <td>20</td>\n",
       "      <td>Antwerpen</td>\n",
       "      <td>289760478</td>\n",
       "    </tr>\n",
       "    <tr>\n",
       "      <th>21</th>\n",
       "      <td>21</td>\n",
       "      <td>Vilvoorde</td>\n",
       "      <td>289416949</td>\n",
       "    </tr>\n",
       "    <tr>\n",
       "      <th>22</th>\n",
       "      <td>22</td>\n",
       "      <td>Vilvoorde</td>\n",
       "      <td>289761480</td>\n",
       "    </tr>\n",
       "    <tr>\n",
       "      <th>23</th>\n",
       "      <td>23</td>\n",
       "      <td>Vilvoorde</td>\n",
       "      <td>289419955</td>\n",
       "    </tr>\n",
       "    <tr>\n",
       "      <th>24</th>\n",
       "      <td>24</td>\n",
       "      <td>Vilvoorde</td>\n",
       "      <td>289417951</td>\n",
       "    </tr>\n",
       "    <tr>\n",
       "      <th>25</th>\n",
       "      <td>25</td>\n",
       "      <td>Vilvoorde</td>\n",
       "      <td>289418953</td>\n",
       "    </tr>\n",
       "    <tr>\n",
       "      <th>26</th>\n",
       "      <td>26</td>\n",
       "      <td>Vilvoorde</td>\n",
       "      <td>289411939</td>\n",
       "    </tr>\n",
       "    <tr>\n",
       "      <th>27</th>\n",
       "      <td>27</td>\n",
       "      <td>Vilvoorde</td>\n",
       "      <td>289412941</td>\n",
       "    </tr>\n",
       "    <tr>\n",
       "      <th>28</th>\n",
       "      <td>28</td>\n",
       "      <td>Vilvoorde</td>\n",
       "      <td>289661606</td>\n",
       "    </tr>\n",
       "    <tr>\n",
       "      <th>29</th>\n",
       "      <td>29</td>\n",
       "      <td>Vilvoorde</td>\n",
       "      <td>289413943</td>\n",
       "    </tr>\n",
       "    <tr>\n",
       "      <th>30</th>\n",
       "      <td>30</td>\n",
       "      <td>Vilvoorde</td>\n",
       "      <td>289655594</td>\n",
       "    </tr>\n",
       "    <tr>\n",
       "      <th>31</th>\n",
       "      <td>31</td>\n",
       "      <td>Vilvoorde</td>\n",
       "      <td>289659602</td>\n",
       "    </tr>\n",
       "    <tr>\n",
       "      <th>32</th>\n",
       "      <td>32</td>\n",
       "      <td>Vilvoorde</td>\n",
       "      <td>289660604</td>\n",
       "    </tr>\n",
       "    <tr>\n",
       "      <th>33</th>\n",
       "      <td>33</td>\n",
       "      <td>Vilvoorde</td>\n",
       "      <td>289656596</td>\n",
       "    </tr>\n",
       "    <tr>\n",
       "      <th>34</th>\n",
       "      <td>34</td>\n",
       "      <td>Vilvoorde</td>\n",
       "      <td>289656596</td>\n",
       "    </tr>\n",
       "    <tr>\n",
       "      <th>35</th>\n",
       "      <td>35</td>\n",
       "      <td>Vilvoorde</td>\n",
       "      <td>289664612</td>\n",
       "    </tr>\n",
       "    <tr>\n",
       "      <th>36</th>\n",
       "      <td>36</td>\n",
       "      <td>Aarschot</td>\n",
       "      <td>289663610</td>\n",
       "    </tr>\n",
       "    <tr>\n",
       "      <th>37</th>\n",
       "      <td>37</td>\n",
       "      <td>Aarschot</td>\n",
       "      <td>289662608</td>\n",
       "    </tr>\n",
       "    <tr>\n",
       "      <th>38</th>\n",
       "      <td>38</td>\n",
       "      <td>Aarschot</td>\n",
       "      <td>289658600</td>\n",
       "    </tr>\n",
       "    <tr>\n",
       "      <th>39</th>\n",
       "      <td>39</td>\n",
       "      <td>Aarschot</td>\n",
       "      <td>289657598</td>\n",
       "    </tr>\n",
       "  </tbody>\n",
       "</table>\n",
       "</div>"
      ],
      "text/plain": [
       "    DEPOT_ID      DEPOT  HVROUTETEMPLATE_NRID\n",
       "0          0     Deinze             219020601\n",
       "1          1     Deinze             219021241\n",
       "2          2     Deinze             219024456\n",
       "3          3     Deinze             219021882\n",
       "4          4     Deinze             219022524\n",
       "5          5     Deinze             219023167\n",
       "6          6     Deinze             219023811\n",
       "7          7     Deinze             219019324\n",
       "8          8     Deinze             219019962\n",
       "9          9     Deinze             289414945\n",
       "10        10     Deinze             289757472\n",
       "11        11     Deinze              70671404\n",
       "12        12  Antwerpen             219018687\n",
       "13        13  Antwerpen             289756470\n",
       "14        14  Antwerpen             289755468\n",
       "15        15  Antwerpen             289759476\n",
       "16        16  Antwerpen             289763484\n",
       "17        17  Antwerpen             289758474\n",
       "18        18  Antwerpen             289762482\n",
       "19        19  Antwerpen             289764486\n",
       "20        20  Antwerpen             289760478\n",
       "21        21  Vilvoorde             289416949\n",
       "22        22  Vilvoorde             289761480\n",
       "23        23  Vilvoorde             289419955\n",
       "24        24  Vilvoorde             289417951\n",
       "25        25  Vilvoorde             289418953\n",
       "26        26  Vilvoorde             289411939\n",
       "27        27  Vilvoorde             289412941\n",
       "28        28  Vilvoorde             289661606\n",
       "29        29  Vilvoorde             289413943\n",
       "30        30  Vilvoorde             289655594\n",
       "31        31  Vilvoorde             289659602\n",
       "32        32  Vilvoorde             289660604\n",
       "33        33  Vilvoorde             289656596\n",
       "34        34  Vilvoorde             289656596\n",
       "35        35  Vilvoorde             289664612\n",
       "36        36   Aarschot             289663610\n",
       "37        37   Aarschot             289662608\n",
       "38        38   Aarschot             289658600\n",
       "39        39   Aarschot             289657598"
      ]
     },
     "execution_count": 108,
     "metadata": {},
     "output_type": "execute_result"
    }
   ],
   "source": [
    "hvc_depot"
   ]
  },
  {
   "cell_type": "code",
   "execution_count": 109,
   "id": "0866888c",
   "metadata": {
    "scrolled": true
   },
   "outputs": [
    {
     "data": {
      "text/plain": [
       "40"
      ]
     },
     "execution_count": 109,
     "metadata": {},
     "output_type": "execute_result"
    }
   ],
   "source": [
    "len(hvc_depot)"
   ]
  },
  {
   "cell_type": "code",
   "execution_count": 110,
   "id": "6a3c7ae2",
   "metadata": {},
   "outputs": [
    {
     "data": {
      "text/plain": [
       "39"
      ]
     },
     "execution_count": 110,
     "metadata": {},
     "output_type": "execute_result"
    }
   ],
   "source": [
    "len(hvc_depot[\"HVROUTETEMPLATE_NRID\"].unique())"
   ]
  },
  {
   "cell_type": "code",
   "execution_count": 111,
   "id": "ea6591f3",
   "metadata": {
    "scrolled": true
   },
   "outputs": [
    {
     "data": {
      "text/plain": [
       "289656596    2\n",
       "219020601    1\n",
       "289413943    1\n",
       "289761480    1\n",
       "289419955    1\n",
       "289417951    1\n",
       "289418953    1\n",
       "289411939    1\n",
       "289412941    1\n",
       "289661606    1\n",
       "289655594    1\n",
       "289760478    1\n",
       "289659602    1\n",
       "289660604    1\n",
       "289664612    1\n",
       "289663610    1\n",
       "289662608    1\n",
       "289658600    1\n",
       "289416949    1\n",
       "289764486    1\n",
       "219021241    1\n",
       "289414945    1\n",
       "219024456    1\n",
       "219021882    1\n",
       "219022524    1\n",
       "219023167    1\n",
       "219023811    1\n",
       "219019324    1\n",
       "219019962    1\n",
       "289757472    1\n",
       "289762482    1\n",
       "70671404     1\n",
       "219018687    1\n",
       "289756470    1\n",
       "289755468    1\n",
       "289759476    1\n",
       "289763484    1\n",
       "289758474    1\n",
       "289657598    1\n",
       "Name: HVROUTETEMPLATE_NRID, dtype: int64"
      ]
     },
     "execution_count": 111,
     "metadata": {},
     "output_type": "execute_result"
    }
   ],
   "source": [
    "hvc_depot[\"HVROUTETEMPLATE_NRID\"].value_counts()"
   ]
  },
  {
   "cell_type": "code",
   "execution_count": 112,
   "id": "ed0ffb8a",
   "metadata": {},
   "outputs": [
    {
     "data": {
      "text/plain": [
       "4"
      ]
     },
     "execution_count": 112,
     "metadata": {},
     "output_type": "execute_result"
    }
   ],
   "source": [
    "len(hvc_depot[\"DEPOT\"].unique())"
   ]
  },
  {
   "cell_type": "code",
   "execution_count": 113,
   "id": "336ad86a",
   "metadata": {},
   "outputs": [
    {
     "data": {
      "text/plain": [
       "Vilvoorde    15\n",
       "Deinze       12\n",
       "Antwerpen     9\n",
       "Aarschot      4\n",
       "Name: DEPOT, dtype: int64"
      ]
     },
     "execution_count": 113,
     "metadata": {},
     "output_type": "execute_result"
    }
   ],
   "source": [
    "hvc_depot[\"DEPOT\"].value_counts()"
   ]
  },
  {
   "cell_type": "markdown",
   "id": "1347f6c3",
   "metadata": {},
   "source": [
    "### 2.2.2 hvc_hvdayofweek"
   ]
  },
  {
   "cell_type": "code",
   "execution_count": 114,
   "id": "b7d069cd",
   "metadata": {},
   "outputs": [
    {
     "data": {
      "text/html": [
       "<div>\n",
       "<style scoped>\n",
       "    .dataframe tbody tr th:only-of-type {\n",
       "        vertical-align: middle;\n",
       "    }\n",
       "\n",
       "    .dataframe tbody tr th {\n",
       "        vertical-align: top;\n",
       "    }\n",
       "\n",
       "    .dataframe thead th {\n",
       "        text-align: right;\n",
       "    }\n",
       "</style>\n",
       "<table border=\"1\" class=\"dataframe\">\n",
       "  <thead>\n",
       "    <tr style=\"text-align: right;\">\n",
       "      <th></th>\n",
       "      <th>HVDAYOFWEEK_NRID</th>\n",
       "      <th>DAY</th>\n",
       "    </tr>\n",
       "  </thead>\n",
       "  <tbody>\n",
       "    <tr>\n",
       "      <th>0</th>\n",
       "      <td>1</td>\n",
       "      <td>Sunday</td>\n",
       "    </tr>\n",
       "    <tr>\n",
       "      <th>1</th>\n",
       "      <td>2</td>\n",
       "      <td>Monday</td>\n",
       "    </tr>\n",
       "    <tr>\n",
       "      <th>2</th>\n",
       "      <td>3</td>\n",
       "      <td>Tuesday</td>\n",
       "    </tr>\n",
       "    <tr>\n",
       "      <th>3</th>\n",
       "      <td>4</td>\n",
       "      <td>Wednesday</td>\n",
       "    </tr>\n",
       "    <tr>\n",
       "      <th>4</th>\n",
       "      <td>5</td>\n",
       "      <td>Thursday</td>\n",
       "    </tr>\n",
       "    <tr>\n",
       "      <th>5</th>\n",
       "      <td>6</td>\n",
       "      <td>Friday</td>\n",
       "    </tr>\n",
       "    <tr>\n",
       "      <th>6</th>\n",
       "      <td>7</td>\n",
       "      <td>Saturday</td>\n",
       "    </tr>\n",
       "  </tbody>\n",
       "</table>\n",
       "</div>"
      ],
      "text/plain": [
       "   HVDAYOFWEEK_NRID        DAY\n",
       "0                 1     Sunday\n",
       "1                 2     Monday\n",
       "2                 3    Tuesday\n",
       "3                 4  Wednesday\n",
       "4                 5   Thursday\n",
       "5                 6     Friday\n",
       "6                 7   Saturday"
      ]
     },
     "execution_count": 114,
     "metadata": {},
     "output_type": "execute_result"
    }
   ],
   "source": [
    "hvc_hvdayofweek"
   ]
  },
  {
   "cell_type": "markdown",
   "id": "a27c1842",
   "metadata": {},
   "source": [
    "### 2.2.3 hvc_hvposition"
   ]
  },
  {
   "cell_type": "code",
   "execution_count": 115,
   "id": "d6f3ddfe",
   "metadata": {
    "scrolled": true
   },
   "outputs": [
    {
     "data": {
      "text/html": [
       "<div>\n",
       "<style scoped>\n",
       "    .dataframe tbody tr th:only-of-type {\n",
       "        vertical-align: middle;\n",
       "    }\n",
       "\n",
       "    .dataframe tbody tr th {\n",
       "        vertical-align: top;\n",
       "    }\n",
       "\n",
       "    .dataframe thead th {\n",
       "        text-align: right;\n",
       "    }\n",
       "</style>\n",
       "<table border=\"1\" class=\"dataframe\">\n",
       "  <thead>\n",
       "    <tr style=\"text-align: right;\">\n",
       "      <th></th>\n",
       "      <th>SO0_NRID</th>\n",
       "      <th>LONG</th>\n",
       "      <th>LAT</th>\n",
       "    </tr>\n",
       "  </thead>\n",
       "  <tbody>\n",
       "    <tr>\n",
       "      <th>0</th>\n",
       "      <td>724196</td>\n",
       "      <td>3.412928</td>\n",
       "      <td>50.910235</td>\n",
       "    </tr>\n",
       "    <tr>\n",
       "      <th>1</th>\n",
       "      <td>724219</td>\n",
       "      <td>3.409088</td>\n",
       "      <td>50.903873</td>\n",
       "    </tr>\n",
       "    <tr>\n",
       "      <th>2</th>\n",
       "      <td>724231</td>\n",
       "      <td>3.407691</td>\n",
       "      <td>50.901559</td>\n",
       "    </tr>\n",
       "    <tr>\n",
       "      <th>3</th>\n",
       "      <td>724236</td>\n",
       "      <td>3.405464</td>\n",
       "      <td>50.898224</td>\n",
       "    </tr>\n",
       "    <tr>\n",
       "      <th>4</th>\n",
       "      <td>724241</td>\n",
       "      <td>3.404218</td>\n",
       "      <td>50.896691</td>\n",
       "    </tr>\n",
       "    <tr>\n",
       "      <th>...</th>\n",
       "      <td>...</td>\n",
       "      <td>...</td>\n",
       "      <td>...</td>\n",
       "    </tr>\n",
       "    <tr>\n",
       "      <th>5692</th>\n",
       "      <td>25332076406640</td>\n",
       "      <td>3.999738</td>\n",
       "      <td>51.151308</td>\n",
       "    </tr>\n",
       "    <tr>\n",
       "      <th>5693</th>\n",
       "      <td>25335568268048</td>\n",
       "      <td>3.680845</td>\n",
       "      <td>50.976083</td>\n",
       "    </tr>\n",
       "    <tr>\n",
       "      <th>5694</th>\n",
       "      <td>25343276433048</td>\n",
       "      <td>3.704357</td>\n",
       "      <td>50.917986</td>\n",
       "    </tr>\n",
       "    <tr>\n",
       "      <th>5695</th>\n",
       "      <td>25345568238048</td>\n",
       "      <td>3.639243</td>\n",
       "      <td>50.894867</td>\n",
       "    </tr>\n",
       "    <tr>\n",
       "      <th>5696</th>\n",
       "      <td>25356576635852</td>\n",
       "      <td>4.003110</td>\n",
       "      <td>51.162021</td>\n",
       "    </tr>\n",
       "  </tbody>\n",
       "</table>\n",
       "<p>5697 rows × 3 columns</p>\n",
       "</div>"
      ],
      "text/plain": [
       "            SO0_NRID      LONG        LAT\n",
       "0             724196  3.412928  50.910235\n",
       "1             724219  3.409088  50.903873\n",
       "2             724231  3.407691  50.901559\n",
       "3             724236  3.405464  50.898224\n",
       "4             724241  3.404218  50.896691\n",
       "...              ...       ...        ...\n",
       "5692  25332076406640  3.999738  51.151308\n",
       "5693  25335568268048  3.680845  50.976083\n",
       "5694  25343276433048  3.704357  50.917986\n",
       "5695  25345568238048  3.639243  50.894867\n",
       "5696  25356576635852  4.003110  51.162021\n",
       "\n",
       "[5697 rows x 3 columns]"
      ]
     },
     "execution_count": 115,
     "metadata": {},
     "output_type": "execute_result"
    }
   ],
   "source": [
    "hvc_hvposition"
   ]
  },
  {
   "cell_type": "markdown",
   "id": "4fbe1843",
   "metadata": {},
   "source": [
    "## 2.3 Data Set 3 (hvc_hvroutetemplate + hvc_hvvisitoutcome + hvc_visitresultdetails) -> Mathew"
   ]
  },
  {
   "cell_type": "markdown",
   "id": "93e05e79",
   "metadata": {},
   "source": [
    "## 2.3.1 hvc_hvroutetemplate"
   ]
  },
  {
   "cell_type": "markdown",
   "id": "168d84e5",
   "metadata": {},
   "source": [
    "There are 39 different routes that are available. Every route has a unique number. They are available in 4 different regions and are ridden weekly or bi-weekly. \n",
    "The rides are on every day of the week except Sunday. \n",
    "\n",
    "C04 is the region with the most routes (11), followed by C17 (10) and B25(10) and as last B02(8).\n",
    "\n",
    "20 of the 39 routes are ridden weekly and the other 19 weekly. \n",
    "\n",
    "The Wednesday, Thursday, Friday and Saturday are the most popular days to ride on (8 times out 39 times), followed by Tuesday (6) and Monday (1)\n"
   ]
  },
  {
   "cell_type": "code",
   "execution_count": 116,
   "id": "69b9fcd6",
   "metadata": {
    "scrolled": true
   },
   "outputs": [
    {
     "data": {
      "text/html": [
       "<div>\n",
       "<style scoped>\n",
       "    .dataframe tbody tr th:only-of-type {\n",
       "        vertical-align: middle;\n",
       "    }\n",
       "\n",
       "    .dataframe tbody tr th {\n",
       "        vertical-align: top;\n",
       "    }\n",
       "\n",
       "    .dataframe thead th {\n",
       "        text-align: right;\n",
       "    }\n",
       "</style>\n",
       "<table border=\"1\" class=\"dataframe\">\n",
       "  <thead>\n",
       "    <tr style=\"text-align: right;\">\n",
       "      <th></th>\n",
       "      <th>HVROUTETEMPLATE_NRID</th>\n",
       "      <th>REGION</th>\n",
       "      <th>WEEKORDER</th>\n",
       "      <th>HVDAYOFWEEK_NRID</th>\n",
       "    </tr>\n",
       "  </thead>\n",
       "  <tbody>\n",
       "    <tr>\n",
       "      <th>0</th>\n",
       "      <td>70671404</td>\n",
       "      <td>C04</td>\n",
       "      <td>1</td>\n",
       "      <td>1</td>\n",
       "    </tr>\n",
       "    <tr>\n",
       "      <th>1</th>\n",
       "      <td>219018687</td>\n",
       "      <td>C04</td>\n",
       "      <td>1</td>\n",
       "      <td>2</td>\n",
       "    </tr>\n",
       "    <tr>\n",
       "      <th>2</th>\n",
       "      <td>219019324</td>\n",
       "      <td>C04</td>\n",
       "      <td>1</td>\n",
       "      <td>3</td>\n",
       "    </tr>\n",
       "    <tr>\n",
       "      <th>3</th>\n",
       "      <td>219019962</td>\n",
       "      <td>C04</td>\n",
       "      <td>1</td>\n",
       "      <td>4</td>\n",
       "    </tr>\n",
       "    <tr>\n",
       "      <th>4</th>\n",
       "      <td>219020601</td>\n",
       "      <td>C04</td>\n",
       "      <td>1</td>\n",
       "      <td>5</td>\n",
       "    </tr>\n",
       "    <tr>\n",
       "      <th>5</th>\n",
       "      <td>219021241</td>\n",
       "      <td>C04</td>\n",
       "      <td>1</td>\n",
       "      <td>6</td>\n",
       "    </tr>\n",
       "    <tr>\n",
       "      <th>6</th>\n",
       "      <td>219021882</td>\n",
       "      <td>C04</td>\n",
       "      <td>2</td>\n",
       "      <td>2</td>\n",
       "    </tr>\n",
       "    <tr>\n",
       "      <th>7</th>\n",
       "      <td>219022524</td>\n",
       "      <td>C04</td>\n",
       "      <td>2</td>\n",
       "      <td>3</td>\n",
       "    </tr>\n",
       "    <tr>\n",
       "      <th>8</th>\n",
       "      <td>219023167</td>\n",
       "      <td>C04</td>\n",
       "      <td>2</td>\n",
       "      <td>4</td>\n",
       "    </tr>\n",
       "    <tr>\n",
       "      <th>9</th>\n",
       "      <td>219023811</td>\n",
       "      <td>C04</td>\n",
       "      <td>2</td>\n",
       "      <td>5</td>\n",
       "    </tr>\n",
       "    <tr>\n",
       "      <th>10</th>\n",
       "      <td>219024456</td>\n",
       "      <td>C04</td>\n",
       "      <td>2</td>\n",
       "      <td>6</td>\n",
       "    </tr>\n",
       "    <tr>\n",
       "      <th>11</th>\n",
       "      <td>289411939</td>\n",
       "      <td>B02</td>\n",
       "      <td>1</td>\n",
       "      <td>3</td>\n",
       "    </tr>\n",
       "    <tr>\n",
       "      <th>12</th>\n",
       "      <td>289412941</td>\n",
       "      <td>B02</td>\n",
       "      <td>1</td>\n",
       "      <td>4</td>\n",
       "    </tr>\n",
       "    <tr>\n",
       "      <th>13</th>\n",
       "      <td>289413943</td>\n",
       "      <td>B02</td>\n",
       "      <td>1</td>\n",
       "      <td>5</td>\n",
       "    </tr>\n",
       "    <tr>\n",
       "      <th>14</th>\n",
       "      <td>289414945</td>\n",
       "      <td>B02</td>\n",
       "      <td>1</td>\n",
       "      <td>6</td>\n",
       "    </tr>\n",
       "    <tr>\n",
       "      <th>15</th>\n",
       "      <td>289416949</td>\n",
       "      <td>B02</td>\n",
       "      <td>2</td>\n",
       "      <td>3</td>\n",
       "    </tr>\n",
       "    <tr>\n",
       "      <th>16</th>\n",
       "      <td>289417951</td>\n",
       "      <td>B02</td>\n",
       "      <td>2</td>\n",
       "      <td>4</td>\n",
       "    </tr>\n",
       "    <tr>\n",
       "      <th>17</th>\n",
       "      <td>289418953</td>\n",
       "      <td>B02</td>\n",
       "      <td>2</td>\n",
       "      <td>5</td>\n",
       "    </tr>\n",
       "    <tr>\n",
       "      <th>18</th>\n",
       "      <td>289419955</td>\n",
       "      <td>B02</td>\n",
       "      <td>2</td>\n",
       "      <td>6</td>\n",
       "    </tr>\n",
       "    <tr>\n",
       "      <th>19</th>\n",
       "      <td>289655594</td>\n",
       "      <td>C17</td>\n",
       "      <td>1</td>\n",
       "      <td>2</td>\n",
       "    </tr>\n",
       "    <tr>\n",
       "      <th>20</th>\n",
       "      <td>289656596</td>\n",
       "      <td>C17</td>\n",
       "      <td>1</td>\n",
       "      <td>3</td>\n",
       "    </tr>\n",
       "    <tr>\n",
       "      <th>21</th>\n",
       "      <td>289657598</td>\n",
       "      <td>C17</td>\n",
       "      <td>1</td>\n",
       "      <td>4</td>\n",
       "    </tr>\n",
       "    <tr>\n",
       "      <th>22</th>\n",
       "      <td>289658600</td>\n",
       "      <td>C17</td>\n",
       "      <td>1</td>\n",
       "      <td>5</td>\n",
       "    </tr>\n",
       "    <tr>\n",
       "      <th>23</th>\n",
       "      <td>289659602</td>\n",
       "      <td>C17</td>\n",
       "      <td>1</td>\n",
       "      <td>6</td>\n",
       "    </tr>\n",
       "    <tr>\n",
       "      <th>24</th>\n",
       "      <td>289660604</td>\n",
       "      <td>C17</td>\n",
       "      <td>2</td>\n",
       "      <td>2</td>\n",
       "    </tr>\n",
       "    <tr>\n",
       "      <th>25</th>\n",
       "      <td>289661606</td>\n",
       "      <td>C17</td>\n",
       "      <td>2</td>\n",
       "      <td>3</td>\n",
       "    </tr>\n",
       "    <tr>\n",
       "      <th>26</th>\n",
       "      <td>289662608</td>\n",
       "      <td>C17</td>\n",
       "      <td>2</td>\n",
       "      <td>4</td>\n",
       "    </tr>\n",
       "    <tr>\n",
       "      <th>27</th>\n",
       "      <td>289663610</td>\n",
       "      <td>C17</td>\n",
       "      <td>2</td>\n",
       "      <td>5</td>\n",
       "    </tr>\n",
       "    <tr>\n",
       "      <th>28</th>\n",
       "      <td>289664612</td>\n",
       "      <td>C17</td>\n",
       "      <td>2</td>\n",
       "      <td>6</td>\n",
       "    </tr>\n",
       "    <tr>\n",
       "      <th>29</th>\n",
       "      <td>289755468</td>\n",
       "      <td>B25</td>\n",
       "      <td>1</td>\n",
       "      <td>2</td>\n",
       "    </tr>\n",
       "    <tr>\n",
       "      <th>30</th>\n",
       "      <td>289756470</td>\n",
       "      <td>B25</td>\n",
       "      <td>1</td>\n",
       "      <td>3</td>\n",
       "    </tr>\n",
       "    <tr>\n",
       "      <th>31</th>\n",
       "      <td>289757472</td>\n",
       "      <td>B25</td>\n",
       "      <td>1</td>\n",
       "      <td>4</td>\n",
       "    </tr>\n",
       "    <tr>\n",
       "      <th>32</th>\n",
       "      <td>289758474</td>\n",
       "      <td>B25</td>\n",
       "      <td>1</td>\n",
       "      <td>5</td>\n",
       "    </tr>\n",
       "    <tr>\n",
       "      <th>33</th>\n",
       "      <td>289759476</td>\n",
       "      <td>B25</td>\n",
       "      <td>1</td>\n",
       "      <td>6</td>\n",
       "    </tr>\n",
       "    <tr>\n",
       "      <th>34</th>\n",
       "      <td>289760478</td>\n",
       "      <td>B25</td>\n",
       "      <td>2</td>\n",
       "      <td>2</td>\n",
       "    </tr>\n",
       "    <tr>\n",
       "      <th>35</th>\n",
       "      <td>289761480</td>\n",
       "      <td>B25</td>\n",
       "      <td>2</td>\n",
       "      <td>3</td>\n",
       "    </tr>\n",
       "    <tr>\n",
       "      <th>36</th>\n",
       "      <td>289762482</td>\n",
       "      <td>B25</td>\n",
       "      <td>2</td>\n",
       "      <td>4</td>\n",
       "    </tr>\n",
       "    <tr>\n",
       "      <th>37</th>\n",
       "      <td>289763484</td>\n",
       "      <td>B25</td>\n",
       "      <td>2</td>\n",
       "      <td>5</td>\n",
       "    </tr>\n",
       "    <tr>\n",
       "      <th>38</th>\n",
       "      <td>289764486</td>\n",
       "      <td>B25</td>\n",
       "      <td>2</td>\n",
       "      <td>6</td>\n",
       "    </tr>\n",
       "  </tbody>\n",
       "</table>\n",
       "</div>"
      ],
      "text/plain": [
       "    HVROUTETEMPLATE_NRID REGION  WEEKORDER  HVDAYOFWEEK_NRID\n",
       "0               70671404    C04          1                 1\n",
       "1              219018687    C04          1                 2\n",
       "2              219019324    C04          1                 3\n",
       "3              219019962    C04          1                 4\n",
       "4              219020601    C04          1                 5\n",
       "5              219021241    C04          1                 6\n",
       "6              219021882    C04          2                 2\n",
       "7              219022524    C04          2                 3\n",
       "8              219023167    C04          2                 4\n",
       "9              219023811    C04          2                 5\n",
       "10             219024456    C04          2                 6\n",
       "11             289411939    B02          1                 3\n",
       "12             289412941    B02          1                 4\n",
       "13             289413943    B02          1                 5\n",
       "14             289414945    B02          1                 6\n",
       "15             289416949    B02          2                 3\n",
       "16             289417951    B02          2                 4\n",
       "17             289418953    B02          2                 5\n",
       "18             289419955    B02          2                 6\n",
       "19             289655594    C17          1                 2\n",
       "20             289656596    C17          1                 3\n",
       "21             289657598    C17          1                 4\n",
       "22             289658600    C17          1                 5\n",
       "23             289659602    C17          1                 6\n",
       "24             289660604    C17          2                 2\n",
       "25             289661606    C17          2                 3\n",
       "26             289662608    C17          2                 4\n",
       "27             289663610    C17          2                 5\n",
       "28             289664612    C17          2                 6\n",
       "29             289755468    B25          1                 2\n",
       "30             289756470    B25          1                 3\n",
       "31             289757472    B25          1                 4\n",
       "32             289758474    B25          1                 5\n",
       "33             289759476    B25          1                 6\n",
       "34             289760478    B25          2                 2\n",
       "35             289761480    B25          2                 3\n",
       "36             289762482    B25          2                 4\n",
       "37             289763484    B25          2                 5\n",
       "38             289764486    B25          2                 6"
      ]
     },
     "execution_count": 116,
     "metadata": {},
     "output_type": "execute_result"
    }
   ],
   "source": [
    "hvc_hvroutetemplate"
   ]
  },
  {
   "cell_type": "code",
   "execution_count": 117,
   "id": "21e156f5",
   "metadata": {},
   "outputs": [
    {
     "data": {
      "text/plain": [
       "39"
      ]
     },
     "execution_count": 117,
     "metadata": {},
     "output_type": "execute_result"
    }
   ],
   "source": [
    "len(hvc_hvroutetemplate)"
   ]
  },
  {
   "cell_type": "code",
   "execution_count": 118,
   "id": "624dd381",
   "metadata": {
    "scrolled": true
   },
   "outputs": [
    {
     "data": {
      "text/plain": [
       "count    39.000000\n",
       "mean      4.025641\n",
       "std       1.459762\n",
       "min       1.000000\n",
       "25%       3.000000\n",
       "50%       4.000000\n",
       "75%       5.000000\n",
       "max       6.000000\n",
       "Name: HVDAYOFWEEK_NRID, dtype: float64"
      ]
     },
     "execution_count": 118,
     "metadata": {},
     "output_type": "execute_result"
    }
   ],
   "source": [
    "hvc_hvroutetemplate[\"HVDAYOFWEEK_NRID\"].describe()\n"
   ]
  },
  {
   "cell_type": "code",
   "execution_count": 119,
   "id": "c669207e",
   "metadata": {},
   "outputs": [
    {
     "data": {
      "text/plain": [
       "count    39.000000\n",
       "mean      1.487179\n",
       "std       0.506370\n",
       "min       1.000000\n",
       "25%       1.000000\n",
       "50%       1.000000\n",
       "75%       2.000000\n",
       "max       2.000000\n",
       "Name: WEEKORDER, dtype: float64"
      ]
     },
     "execution_count": 119,
     "metadata": {},
     "output_type": "execute_result"
    }
   ],
   "source": [
    "hvc_hvroutetemplate[\"WEEKORDER\"].describe()"
   ]
  },
  {
   "cell_type": "code",
   "execution_count": 120,
   "id": "156c812d",
   "metadata": {},
   "outputs": [
    {
     "data": {
      "text/plain": [
       "39"
      ]
     },
     "execution_count": 120,
     "metadata": {},
     "output_type": "execute_result"
    }
   ],
   "source": [
    "len(hvc_hvroutetemplate[\"HVROUTETEMPLATE_NRID\"].unique())"
   ]
  },
  {
   "cell_type": "code",
   "execution_count": 121,
   "id": "cde29e36",
   "metadata": {},
   "outputs": [
    {
     "data": {
      "text/plain": [
       "4"
      ]
     },
     "execution_count": 121,
     "metadata": {},
     "output_type": "execute_result"
    }
   ],
   "source": [
    "len(hvc_hvroutetemplate[\"REGION\"].unique())"
   ]
  },
  {
   "cell_type": "code",
   "execution_count": 122,
   "id": "07d36837",
   "metadata": {},
   "outputs": [
    {
     "data": {
      "text/plain": [
       "2"
      ]
     },
     "execution_count": 122,
     "metadata": {},
     "output_type": "execute_result"
    }
   ],
   "source": [
    "len(hvc_hvroutetemplate[\"WEEKORDER\"].unique())"
   ]
  },
  {
   "cell_type": "code",
   "execution_count": 123,
   "id": "f1b32223",
   "metadata": {},
   "outputs": [
    {
     "data": {
      "text/plain": [
       "6"
      ]
     },
     "execution_count": 123,
     "metadata": {},
     "output_type": "execute_result"
    }
   ],
   "source": [
    "len(hvc_hvroutetemplate[\"HVDAYOFWEEK_NRID\"].unique())"
   ]
  },
  {
   "cell_type": "code",
   "execution_count": 124,
   "id": "f3ef143d",
   "metadata": {},
   "outputs": [
    {
     "data": {
      "text/plain": [
       "C04    11\n",
       "C17    10\n",
       "B25    10\n",
       "B02     8\n",
       "Name: REGION, dtype: int64"
      ]
     },
     "execution_count": 124,
     "metadata": {},
     "output_type": "execute_result"
    }
   ],
   "source": [
    "hvc_hvroutetemplate[\"REGION\"].value_counts()"
   ]
  },
  {
   "cell_type": "code",
   "execution_count": 125,
   "id": "2ee1b0b4",
   "metadata": {},
   "outputs": [
    {
     "data": {
      "text/plain": [
       "1    20\n",
       "2    19\n",
       "Name: WEEKORDER, dtype: int64"
      ]
     },
     "execution_count": 125,
     "metadata": {},
     "output_type": "execute_result"
    }
   ],
   "source": [
    "hvc_hvroutetemplate[\"WEEKORDER\"].value_counts()"
   ]
  },
  {
   "cell_type": "code",
   "execution_count": 126,
   "id": "5998b1d1",
   "metadata": {},
   "outputs": [
    {
     "data": {
      "text/plain": [
       "3    8\n",
       "4    8\n",
       "5    8\n",
       "6    8\n",
       "2    6\n",
       "1    1\n",
       "Name: HVDAYOFWEEK_NRID, dtype: int64"
      ]
     },
     "execution_count": 126,
     "metadata": {},
     "output_type": "execute_result"
    }
   ],
   "source": [
    "hvc_hvroutetemplate[\"HVDAYOFWEEK_NRID\"].value_counts()"
   ]
  },
  {
   "cell_type": "markdown",
   "id": "14a18491",
   "metadata": {},
   "source": [
    "## 2.3.2 hvc_hvvisitoutcome"
   ]
  },
  {
   "cell_type": "code",
   "execution_count": 127,
   "id": "bc59a716",
   "metadata": {},
   "outputs": [
    {
     "data": {
      "text/html": [
       "<div>\n",
       "<style scoped>\n",
       "    .dataframe tbody tr th:only-of-type {\n",
       "        vertical-align: middle;\n",
       "    }\n",
       "\n",
       "    .dataframe tbody tr th {\n",
       "        vertical-align: top;\n",
       "    }\n",
       "\n",
       "    .dataframe thead th {\n",
       "        text-align: right;\n",
       "    }\n",
       "</style>\n",
       "<table border=\"1\" class=\"dataframe\">\n",
       "  <thead>\n",
       "    <tr style=\"text-align: right;\">\n",
       "      <th></th>\n",
       "      <th>HVOUTCOME_NRID</th>\n",
       "      <th>DESCRIPTION</th>\n",
       "    </tr>\n",
       "  </thead>\n",
       "  <tbody>\n",
       "    <tr>\n",
       "      <th>0</th>\n",
       "      <td>0</td>\n",
       "      <td>NOTHING NEEDED</td>\n",
       "    </tr>\n",
       "    <tr>\n",
       "      <th>1</th>\n",
       "      <td>1</td>\n",
       "      <td>NOT HOME</td>\n",
       "    </tr>\n",
       "    <tr>\n",
       "      <th>2</th>\n",
       "      <td>2</td>\n",
       "      <td>SALES</td>\n",
       "    </tr>\n",
       "  </tbody>\n",
       "</table>\n",
       "</div>"
      ],
      "text/plain": [
       "   HVOUTCOME_NRID     DESCRIPTION\n",
       "0               0  NOTHING NEEDED\n",
       "1               1        NOT HOME\n",
       "2               2           SALES"
      ]
     },
     "execution_count": 127,
     "metadata": {},
     "output_type": "execute_result"
    }
   ],
   "source": [
    "    hvc_hvvisitoutcome"
   ]
  },
  {
   "cell_type": "markdown",
   "id": "d220f60b",
   "metadata": {},
   "source": [
    "## 2.3.3 hvc_visitresultdetails"
   ]
  },
  {
   "cell_type": "markdown",
   "id": "e2007f65",
   "metadata": {},
   "source": [
    "There are 126778 unique visits, each with a unique visit ID. \n",
    "\n",
    "The average quantity that has been bought is 1.12 goods. There are 75 visits where the quantity is negative, the reason herefore is until now unclear."
   ]
  },
  {
   "cell_type": "code",
   "execution_count": 128,
   "id": "d065ee5d",
   "metadata": {},
   "outputs": [
    {
     "data": {
      "text/html": [
       "<div>\n",
       "<style scoped>\n",
       "    .dataframe tbody tr th:only-of-type {\n",
       "        vertical-align: middle;\n",
       "    }\n",
       "\n",
       "    .dataframe tbody tr th {\n",
       "        vertical-align: top;\n",
       "    }\n",
       "\n",
       "    .dataframe thead th {\n",
       "        text-align: right;\n",
       "    }\n",
       "</style>\n",
       "<table border=\"1\" class=\"dataframe\">\n",
       "  <thead>\n",
       "    <tr style=\"text-align: right;\">\n",
       "      <th></th>\n",
       "      <th>VISITRESULTDETAILS_NRID</th>\n",
       "      <th>AR0_NRID</th>\n",
       "      <th>QUANTITY</th>\n",
       "      <th>HVVISITRESULT_NRID</th>\n",
       "    </tr>\n",
       "  </thead>\n",
       "  <tbody>\n",
       "    <tr>\n",
       "      <th>0</th>\n",
       "      <td>56055671</td>\n",
       "      <td>17545160268040</td>\n",
       "      <td>1.0</td>\n",
       "      <td>56055665</td>\n",
       "    </tr>\n",
       "    <tr>\n",
       "      <th>1</th>\n",
       "      <td>56055672</td>\n",
       "      <td>23699</td>\n",
       "      <td>2.0</td>\n",
       "      <td>56055665</td>\n",
       "    </tr>\n",
       "    <tr>\n",
       "      <th>2</th>\n",
       "      <td>56055675</td>\n",
       "      <td>23721</td>\n",
       "      <td>1.0</td>\n",
       "      <td>56055674</td>\n",
       "    </tr>\n",
       "    <tr>\n",
       "      <th>3</th>\n",
       "      <td>56010656</td>\n",
       "      <td>23714</td>\n",
       "      <td>1.0</td>\n",
       "      <td>56010655</td>\n",
       "    </tr>\n",
       "    <tr>\n",
       "      <th>4</th>\n",
       "      <td>56009821</td>\n",
       "      <td>23716</td>\n",
       "      <td>1.0</td>\n",
       "      <td>56009820</td>\n",
       "    </tr>\n",
       "    <tr>\n",
       "      <th>...</th>\n",
       "      <td>...</td>\n",
       "      <td>...</td>\n",
       "      <td>...</td>\n",
       "      <td>...</td>\n",
       "    </tr>\n",
       "    <tr>\n",
       "      <th>126773</th>\n",
       "      <td>73711114</td>\n",
       "      <td>23782</td>\n",
       "      <td>1.0</td>\n",
       "      <td>73711112</td>\n",
       "    </tr>\n",
       "    <tr>\n",
       "      <th>126774</th>\n",
       "      <td>73711115</td>\n",
       "      <td>23761</td>\n",
       "      <td>1.0</td>\n",
       "      <td>73711112</td>\n",
       "    </tr>\n",
       "    <tr>\n",
       "      <th>126775</th>\n",
       "      <td>73711116</td>\n",
       "      <td>23816</td>\n",
       "      <td>2.0</td>\n",
       "      <td>73711112</td>\n",
       "    </tr>\n",
       "    <tr>\n",
       "      <th>126776</th>\n",
       "      <td>73711554</td>\n",
       "      <td>847901</td>\n",
       "      <td>1.0</td>\n",
       "      <td>73711553</td>\n",
       "    </tr>\n",
       "    <tr>\n",
       "      <th>126777</th>\n",
       "      <td>73711566</td>\n",
       "      <td>23781</td>\n",
       "      <td>1.0</td>\n",
       "      <td>73711565</td>\n",
       "    </tr>\n",
       "  </tbody>\n",
       "</table>\n",
       "<p>126778 rows × 4 columns</p>\n",
       "</div>"
      ],
      "text/plain": [
       "        VISITRESULTDETAILS_NRID        AR0_NRID  QUANTITY  HVVISITRESULT_NRID\n",
       "0                      56055671  17545160268040       1.0            56055665\n",
       "1                      56055672           23699       2.0            56055665\n",
       "2                      56055675           23721       1.0            56055674\n",
       "3                      56010656           23714       1.0            56010655\n",
       "4                      56009821           23716       1.0            56009820\n",
       "...                         ...             ...       ...                 ...\n",
       "126773                 73711114           23782       1.0            73711112\n",
       "126774                 73711115           23761       1.0            73711112\n",
       "126775                 73711116           23816       2.0            73711112\n",
       "126776                 73711554          847901       1.0            73711553\n",
       "126777                 73711566           23781       1.0            73711565\n",
       "\n",
       "[126778 rows x 4 columns]"
      ]
     },
     "execution_count": 128,
     "metadata": {},
     "output_type": "execute_result"
    }
   ],
   "source": [
    "hvc_visitresultdetails"
   ]
  },
  {
   "cell_type": "code",
   "execution_count": 129,
   "id": "6db7b4b5",
   "metadata": {},
   "outputs": [
    {
     "data": {
      "text/plain": [
       "126778"
      ]
     },
     "execution_count": 129,
     "metadata": {},
     "output_type": "execute_result"
    }
   ],
   "source": [
    "len(hvc_visitresultdetails[\"VISITRESULTDETAILS_NRID\"].unique())"
   ]
  },
  {
   "cell_type": "code",
   "execution_count": 130,
   "id": "ca398399",
   "metadata": {},
   "outputs": [
    {
     "data": {
      "text/plain": [
       "count    126778.000000\n",
       "mean          1.124335\n",
       "std           0.689855\n",
       "min          -6.000000\n",
       "25%           1.000000\n",
       "50%           1.000000\n",
       "75%           1.000000\n",
       "max          61.000000\n",
       "Name: QUANTITY, dtype: float64"
      ]
     },
     "execution_count": 130,
     "metadata": {},
     "output_type": "execute_result"
    }
   ],
   "source": [
    "hvc_visitresultdetails[\"QUANTITY\"].describe()"
   ]
  },
  {
   "cell_type": "code",
   "execution_count": 131,
   "id": "9b09754e",
   "metadata": {},
   "outputs": [
    {
     "data": {
      "text/plain": [
       "count    126778.000000\n",
       "mean          1.124335\n",
       "std           0.689855\n",
       "min          -6.000000\n",
       "25%           1.000000\n",
       "50%           1.000000\n",
       "75%           1.000000\n",
       "max          61.000000\n",
       "Name: QUANTITY, dtype: float64"
      ]
     },
     "execution_count": 131,
     "metadata": {},
     "output_type": "execute_result"
    }
   ],
   "source": [
    "hvc_visitresultdetails[\"QUANTITY\"].describe()\n",
    "\n"
   ]
  },
  {
   "cell_type": "code",
   "execution_count": 132,
   "id": "4b6076b2",
   "metadata": {
    "scrolled": true
   },
   "outputs": [
    {
     "ename": "TypeError",
     "evalue": "object of type 'int' has no len()",
     "output_type": "error",
     "traceback": [
      "\u001b[0;31m---------------------------------------------------------------------------\u001b[0m",
      "\u001b[0;31mTypeError\u001b[0m                                 Traceback (most recent call last)",
      "\u001b[0;32m/var/folders/x2/hymzscwj7pg_t42hpfwjm20m0000gn/T/ipykernel_92398/1884055175.py\u001b[0m in \u001b[0;36m<module>\u001b[0;34m\u001b[0m\n\u001b[1;32m      1\u001b[0m \u001b[0mvisitresultdetails_negative\u001b[0m \u001b[0;34m=\u001b[0m \u001b[0mlen\u001b[0m\u001b[0;34m(\u001b[0m\u001b[0mhvc_visitresultdetails\u001b[0m\u001b[0;34m[\u001b[0m\u001b[0mhvc_visitresultdetails\u001b[0m\u001b[0;34m[\u001b[0m\u001b[0;34m\"QUANTITY\"\u001b[0m\u001b[0;34m]\u001b[0m \u001b[0;34m<\u001b[0m \u001b[0;36m0\u001b[0m\u001b[0;34m]\u001b[0m\u001b[0;34m)\u001b[0m\u001b[0;34m\u001b[0m\u001b[0;34m\u001b[0m\u001b[0m\n\u001b[0;32m----> 2\u001b[0;31m \u001b[0mlen\u001b[0m\u001b[0;34m(\u001b[0m\u001b[0mvisitresultdetails_negative\u001b[0m\u001b[0;34m)\u001b[0m\u001b[0;34m\u001b[0m\u001b[0;34m\u001b[0m\u001b[0m\n\u001b[0m",
      "\u001b[0;31mTypeError\u001b[0m: object of type 'int' has no len()"
     ]
    }
   ],
   "source": [
    "visitresultdetails_negative = len(hvc_visitresultdetails[hvc_visitresultdetails[\"QUANTITY\"] < 0])\n",
    "len(visitresultdetails_negative)"
   ]
  },
  {
   "cell_type": "code",
   "execution_count": null,
   "id": "eafab2b3",
   "metadata": {},
   "outputs": [],
   "source": [
    "hvc_visitresultdetails[\"HVVISITRESULT_NRID\"] = hvc_visitresultdetails[\"HVVISITRESULT_NRID\"].astype(int)\n",
    "\n",
    "hvc_visitresultdetails.dtypes"
   ]
  },
  {
   "cell_type": "markdown",
   "id": "28d3a244",
   "metadata": {},
   "source": [
    "## 2.4 Data Set 4 (hvc_so0_nrid + hvc_resultdetails) -> Lennert"
   ]
  },
  {
   "cell_type": "markdown",
   "id": "adacb9ca",
   "metadata": {},
   "source": [
    "## 2.4.1 Customer information"
   ]
  },
  {
   "cell_type": "code",
   "execution_count": null,
   "id": "5dc3c11c",
   "metadata": {
    "scrolled": true
   },
   "outputs": [],
   "source": [
    "# inspect first 5 observations of customers\n",
    "hvc_so0.head(5)\n"
   ]
  },
  {
   "cell_type": "code",
   "execution_count": null,
   "id": "ad0541fc",
   "metadata": {
    "scrolled": true
   },
   "outputs": [],
   "source": [
    "# inspect last 5 observations of customers\n",
    "hvc_so0.tail(5)"
   ]
  },
  {
   "cell_type": "code",
   "execution_count": null,
   "id": "ee96f44c",
   "metadata": {},
   "outputs": [],
   "source": [
    "# inspect total number of unique customers\n",
    "len(hvc_so0[\"SO0_NRID\"].unique())"
   ]
  },
  {
   "cell_type": "code",
   "execution_count": null,
   "id": "c31e43be",
   "metadata": {
    "scrolled": true
   },
   "outputs": [],
   "source": [
    "# get some descriptive statistics with respect to the spoken language as well as the season type of the customers\n",
    "hvc_so0[[\"LANGUAGE\", \"SEASON_TYPE\"]].describe()"
   ]
  },
  {
   "cell_type": "code",
   "execution_count": null,
   "id": "8e33a35d",
   "metadata": {},
   "outputs": [],
   "source": [
    "# get the counts for every season type\n",
    "hvc_so0[\"SEASON_TYPE\"].value_counts()"
   ]
  },
  {
   "cell_type": "code",
   "execution_count": null,
   "id": "e13a9a9f",
   "metadata": {},
   "outputs": [],
   "source": [
    "# get the counts for every spoken language\n",
    "hvc_so0[\"LANGUAGE\"].value_counts()"
   ]
  },
  {
   "cell_type": "markdown",
   "id": "39658309",
   "metadata": {},
   "source": [
    "## 2.4.2 Customer Location"
   ]
  },
  {
   "cell_type": "code",
   "execution_count": null,
   "id": "6e10a231",
   "metadata": {},
   "outputs": [],
   "source": [
    "# inspect first 5 observations of customer location\n",
    "hvc_hvposition.head(5)\n"
   ]
  },
  {
   "cell_type": "code",
   "execution_count": null,
   "id": "6f56ba67",
   "metadata": {},
   "outputs": [],
   "source": [
    "# inspect last 5 observations of customer location\n",
    "hvc_hvposition.tail(5)"
   ]
  },
  {
   "cell_type": "code",
   "execution_count": null,
   "id": "814a5a95",
   "metadata": {},
   "outputs": [],
   "source": [
    "# total number of locations of unique customers\n",
    "len(hvc_hvposition[\"SO0_NRID\"].unique())"
   ]
  },
  {
   "cell_type": "code",
   "execution_count": null,
   "id": "6da3f334",
   "metadata": {},
   "outputs": [],
   "source": [
    "#different customers at the same location? More customers then location\n",
    "len(hvc_hvposition[\"SO0_NRID\"].unique()) == len(hvc_so0[\"SO0_NRID\"].unique())"
   ]
  },
  {
   "cell_type": "markdown",
   "id": "c053763d",
   "metadata": {},
   "source": [
    "## 2.4.3 Result of Visit"
   ]
  },
  {
   "cell_type": "code",
   "execution_count": null,
   "id": "605649ef",
   "metadata": {
    "scrolled": true
   },
   "outputs": [],
   "source": [
    "# inspect first 5 observations of visit results\n",
    "hvc_hvvisitresult.head(5)"
   ]
  },
  {
   "cell_type": "code",
   "execution_count": null,
   "id": "9264030b",
   "metadata": {},
   "outputs": [],
   "source": [
    "# inspect first 5 observations of visit results\n",
    "hvc_hvvisitresult.tail(5)"
   ]
  },
  {
   "cell_type": "code",
   "execution_count": null,
   "id": "e27c07e3",
   "metadata": {
    "scrolled": true
   },
   "outputs": [],
   "source": [
    "#inspect first 5 observations of customers \n",
    "hvc_visitresultdetails.head(5)"
   ]
  },
  {
   "cell_type": "code",
   "execution_count": null,
   "id": "41f0a859",
   "metadata": {
    "scrolled": true
   },
   "outputs": [],
   "source": [
    "#inspect last 5 observations of customers \n",
    "hvc_visitresultdetails.tail(5)"
   ]
  },
  {
   "cell_type": "markdown",
   "id": "ca2f3610",
   "metadata": {},
   "source": [
    "# 3. Answering basic questions"
   ]
  },
  {
   "cell_type": "markdown",
   "id": "d3cf629e",
   "metadata": {},
   "source": [
    "## 3.1 What are the products?"
   ]
  },
  {
   "cell_type": "markdown",
   "id": "4341a334",
   "metadata": {},
   "source": [
    "### 3.1.1 What are the most frequently bought products?"
   ]
  },
  {
   "cell_type": "code",
   "execution_count": 139,
   "id": "09b57fb1",
   "metadata": {},
   "outputs": [
    {
     "data": {
      "text/html": [
       "<div>\n",
       "<style scoped>\n",
       "    .dataframe tbody tr th:only-of-type {\n",
       "        vertical-align: middle;\n",
       "    }\n",
       "\n",
       "    .dataframe tbody tr th {\n",
       "        vertical-align: top;\n",
       "    }\n",
       "\n",
       "    .dataframe thead th {\n",
       "        text-align: right;\n",
       "    }\n",
       "</style>\n",
       "<table border=\"1\" class=\"dataframe\">\n",
       "  <thead>\n",
       "    <tr style=\"text-align: right;\">\n",
       "      <th></th>\n",
       "      <th>QUANTITY</th>\n",
       "    </tr>\n",
       "    <tr>\n",
       "      <th>AR0_NRID</th>\n",
       "      <th></th>\n",
       "    </tr>\n",
       "  </thead>\n",
       "  <tbody>\n",
       "    <tr>\n",
       "      <th>23678</th>\n",
       "      <td>12051.0</td>\n",
       "    </tr>\n",
       "    <tr>\n",
       "      <th>23716</th>\n",
       "      <td>8725.0</td>\n",
       "    </tr>\n",
       "    <tr>\n",
       "      <th>23685</th>\n",
       "      <td>7661.0</td>\n",
       "    </tr>\n",
       "    <tr>\n",
       "      <th>23734</th>\n",
       "      <td>4345.0</td>\n",
       "    </tr>\n",
       "    <tr>\n",
       "      <th>8609011</th>\n",
       "      <td>3210.0</td>\n",
       "    </tr>\n",
       "  </tbody>\n",
       "</table>\n",
       "</div>"
      ],
      "text/plain": [
       "          QUANTITY\n",
       "AR0_NRID          \n",
       "23678      12051.0\n",
       "23716       8725.0\n",
       "23685       7661.0\n",
       "23734       4345.0\n",
       "8609011     3210.0"
      ]
     },
     "execution_count": 139,
     "metadata": {},
     "output_type": "execute_result"
    }
   ],
   "source": [
    "agg_dict = {\"QUANTITY\": np.sum}\n",
    "hvc_quantity = hvc_visitresultdetails.groupby(\"AR0_NRID\").agg(agg_dict)\n",
    "hvc_quantity_top = hvc_quantity.sort_values(\"QUANTITY\", ascending = False).head(5)\n",
    "hvc_quantity_top"
   ]
  },
  {
   "cell_type": "markdown",
   "id": "4944052f",
   "metadata": {},
   "source": [
    "### 3.1.2 Which products render the most revenue?"
   ]
  },
  {
   "cell_type": "code",
   "execution_count": 140,
   "id": "188efcb7",
   "metadata": {
    "scrolled": true
   },
   "outputs": [
    {
     "data": {
      "text/html": [
       "<div>\n",
       "<style scoped>\n",
       "    .dataframe tbody tr th:only-of-type {\n",
       "        vertical-align: middle;\n",
       "    }\n",
       "\n",
       "    .dataframe tbody tr th {\n",
       "        vertical-align: top;\n",
       "    }\n",
       "\n",
       "    .dataframe thead th {\n",
       "        text-align: right;\n",
       "    }\n",
       "</style>\n",
       "<table border=\"1\" class=\"dataframe\">\n",
       "  <thead>\n",
       "    <tr style=\"text-align: right;\">\n",
       "      <th></th>\n",
       "      <th>REVENUE</th>\n",
       "    </tr>\n",
       "    <tr>\n",
       "      <th>AR0_NRID</th>\n",
       "      <th></th>\n",
       "    </tr>\n",
       "  </thead>\n",
       "  <tbody>\n",
       "    <tr>\n",
       "      <th>23678</th>\n",
       "      <td>89177.4</td>\n",
       "    </tr>\n",
       "    <tr>\n",
       "      <th>23716</th>\n",
       "      <td>82887.5</td>\n",
       "    </tr>\n",
       "    <tr>\n",
       "      <th>21792988536842</th>\n",
       "      <td>39619.1</td>\n",
       "    </tr>\n",
       "    <tr>\n",
       "      <th>23734</th>\n",
       "      <td>36932.5</td>\n",
       "    </tr>\n",
       "    <tr>\n",
       "      <th>23742</th>\n",
       "      <td>29991.0</td>\n",
       "    </tr>\n",
       "  </tbody>\n",
       "</table>\n",
       "</div>"
      ],
      "text/plain": [
       "                REVENUE\n",
       "AR0_NRID               \n",
       "23678           89177.4\n",
       "23716           82887.5\n",
       "21792988536842  39619.1\n",
       "23734           36932.5\n",
       "23742           29991.0"
      ]
     },
     "execution_count": 140,
     "metadata": {},
     "output_type": "execute_result"
    }
   ],
   "source": [
    "#making the correct table\n",
    "hvc_ar0_visitresultdetails = pd.merge(hvc_ar0, hvc_visitresultdetails)\n",
    "hvc_ar0_visitresultdetails\n",
    "\n",
    "#calculating the revenue\n",
    "revenue = hvc_ar0_visitresultdetails[\"QUANTITY\"] * hvc_ar0_visitresultdetails[\"PRICE\"]\n",
    "hvc_ar0_visitresultdetails[\"REVENUE\"] = revenue\n",
    "agg_dict = {\"REVENUE\": np.sum}\n",
    "hvc_revenue = hvc_ar0_visitresultdetails.groupby(\"AR0_NRID\").agg(agg_dict)\n",
    "hvc_revenue_top = hvc_revenue.sort_values(\"REVENUE\", ascending = False).head(5)\n",
    "hvc_revenue_top"
   ]
  },
  {
   "cell_type": "markdown",
   "id": "b829a356",
   "metadata": {},
   "source": [
    "### 3.1.3 Which products are bought the most in the region of Brussels, Antwerp, ...?"
   ]
  },
  {
   "cell_type": "code",
   "execution_count": 21,
   "id": "7c24cf8e",
   "metadata": {
    "scrolled": true
   },
   "outputs": [
    {
     "data": {
      "text/html": [
       "<div>\n",
       "<style scoped>\n",
       "    .dataframe tbody tr th:only-of-type {\n",
       "        vertical-align: middle;\n",
       "    }\n",
       "\n",
       "    .dataframe tbody tr th {\n",
       "        vertical-align: top;\n",
       "    }\n",
       "\n",
       "    .dataframe thead th {\n",
       "        text-align: right;\n",
       "    }\n",
       "</style>\n",
       "<table border=\"1\" class=\"dataframe\">\n",
       "  <thead>\n",
       "    <tr style=\"text-align: right;\">\n",
       "      <th></th>\n",
       "      <th>HVVISITRESULT_NRID</th>\n",
       "      <th>SO0_NRID</th>\n",
       "      <th>AM0_NRID</th>\n",
       "      <th>HVOUTCOME_NRID</th>\n",
       "      <th>VISITDATE</th>\n",
       "      <th>DATEONLY</th>\n",
       "      <th>AMOUNT</th>\n",
       "      <th>PAYMENTTERM</th>\n",
       "      <th>HVROUTETEMPLATE_NRID</th>\n",
       "      <th>CUST_TYPE</th>\n",
       "      <th>...</th>\n",
       "      <th>VISITRESULTDETAILS_NRID</th>\n",
       "      <th>AR0_NRID</th>\n",
       "      <th>QUANTITY</th>\n",
       "      <th>DESCRIPTION</th>\n",
       "      <th>CATEGORY</th>\n",
       "      <th>FAMILY</th>\n",
       "      <th>PRICE</th>\n",
       "      <th>REGION</th>\n",
       "      <th>WEEKORDER</th>\n",
       "      <th>HVDAYOFWEEK_NRID</th>\n",
       "    </tr>\n",
       "  </thead>\n",
       "  <tbody>\n",
       "    <tr>\n",
       "      <th>0</th>\n",
       "      <td>55681456</td>\n",
       "      <td>719952</td>\n",
       "      <td>23186288605042</td>\n",
       "      <td>2</td>\n",
       "      <td>12:20:01,000000000</td>\n",
       "      <td>2019-05-06</td>\n",
       "      <td>16.90</td>\n",
       "      <td>cash</td>\n",
       "      <td>219019962.0</td>\n",
       "      <td>Private</td>\n",
       "      <td>...</td>\n",
       "      <td>55681457</td>\n",
       "      <td>23678</td>\n",
       "      <td>1.0</td>\n",
       "      <td>2,5 L.Vanille</td>\n",
       "      <td>Verkoopsartikel</td>\n",
       "      <td>Scoop Ice</td>\n",
       "      <td>7.4</td>\n",
       "      <td>C04</td>\n",
       "      <td>1.0</td>\n",
       "      <td>4.0</td>\n",
       "    </tr>\n",
       "    <tr>\n",
       "      <th>1</th>\n",
       "      <td>55248854</td>\n",
       "      <td>719952</td>\n",
       "      <td>23186288605042</td>\n",
       "      <td>2</td>\n",
       "      <td>12:46:43,000000000</td>\n",
       "      <td>2019-04-22</td>\n",
       "      <td>7.40</td>\n",
       "      <td>cash</td>\n",
       "      <td>219019962.0</td>\n",
       "      <td>Private</td>\n",
       "      <td>...</td>\n",
       "      <td>55248855</td>\n",
       "      <td>23678</td>\n",
       "      <td>1.0</td>\n",
       "      <td>2,5 L.Vanille</td>\n",
       "      <td>Verkoopsartikel</td>\n",
       "      <td>Scoop Ice</td>\n",
       "      <td>7.4</td>\n",
       "      <td>C04</td>\n",
       "      <td>1.0</td>\n",
       "      <td>4.0</td>\n",
       "    </tr>\n",
       "    <tr>\n",
       "      <th>2</th>\n",
       "      <td>54761459</td>\n",
       "      <td>719952</td>\n",
       "      <td>23186288605042</td>\n",
       "      <td>2</td>\n",
       "      <td>12:32:05,000000000</td>\n",
       "      <td>2019-04-08</td>\n",
       "      <td>7.40</td>\n",
       "      <td>cash</td>\n",
       "      <td>219019962.0</td>\n",
       "      <td>Private</td>\n",
       "      <td>...</td>\n",
       "      <td>54761460</td>\n",
       "      <td>23678</td>\n",
       "      <td>1.0</td>\n",
       "      <td>2,5 L.Vanille</td>\n",
       "      <td>Verkoopsartikel</td>\n",
       "      <td>Scoop Ice</td>\n",
       "      <td>7.4</td>\n",
       "      <td>C04</td>\n",
       "      <td>1.0</td>\n",
       "      <td>4.0</td>\n",
       "    </tr>\n",
       "    <tr>\n",
       "      <th>3</th>\n",
       "      <td>54354469</td>\n",
       "      <td>719952</td>\n",
       "      <td>23186288605042</td>\n",
       "      <td>2</td>\n",
       "      <td>17:14:48,000000000</td>\n",
       "      <td>2019-03-25</td>\n",
       "      <td>16.90</td>\n",
       "      <td>cash</td>\n",
       "      <td>219019962.0</td>\n",
       "      <td>Private</td>\n",
       "      <td>...</td>\n",
       "      <td>54354470</td>\n",
       "      <td>23678</td>\n",
       "      <td>1.0</td>\n",
       "      <td>2,5 L.Vanille</td>\n",
       "      <td>Verkoopsartikel</td>\n",
       "      <td>Scoop Ice</td>\n",
       "      <td>7.4</td>\n",
       "      <td>C04</td>\n",
       "      <td>1.0</td>\n",
       "      <td>4.0</td>\n",
       "    </tr>\n",
       "    <tr>\n",
       "      <th>4</th>\n",
       "      <td>52658514</td>\n",
       "      <td>719952</td>\n",
       "      <td>23186288605042</td>\n",
       "      <td>2</td>\n",
       "      <td>11:43:41,000000000</td>\n",
       "      <td>2019-01-28</td>\n",
       "      <td>7.40</td>\n",
       "      <td>cash</td>\n",
       "      <td>219019962.0</td>\n",
       "      <td>Private</td>\n",
       "      <td>...</td>\n",
       "      <td>52658515</td>\n",
       "      <td>23678</td>\n",
       "      <td>1.0</td>\n",
       "      <td>2,5 L.Vanille</td>\n",
       "      <td>Verkoopsartikel</td>\n",
       "      <td>Scoop Ice</td>\n",
       "      <td>7.4</td>\n",
       "      <td>C04</td>\n",
       "      <td>1.0</td>\n",
       "      <td>4.0</td>\n",
       "    </tr>\n",
       "    <tr>\n",
       "      <th>...</th>\n",
       "      <td>...</td>\n",
       "      <td>...</td>\n",
       "      <td>...</td>\n",
       "      <td>...</td>\n",
       "      <td>...</td>\n",
       "      <td>...</td>\n",
       "      <td>...</td>\n",
       "      <td>...</td>\n",
       "      <td>...</td>\n",
       "      <td>...</td>\n",
       "      <td>...</td>\n",
       "      <td>...</td>\n",
       "      <td>...</td>\n",
       "      <td>...</td>\n",
       "      <td>...</td>\n",
       "      <td>...</td>\n",
       "      <td>...</td>\n",
       "      <td>...</td>\n",
       "      <td>...</td>\n",
       "      <td>...</td>\n",
       "      <td>...</td>\n",
       "    </tr>\n",
       "    <tr>\n",
       "      <th>126773</th>\n",
       "      <td>57628579</td>\n",
       "      <td>56303143</td>\n",
       "      <td>18934048107254</td>\n",
       "      <td>2</td>\n",
       "      <td>16:23:39,000000000</td>\n",
       "      <td>2019-06-26</td>\n",
       "      <td>25.95</td>\n",
       "      <td>cash</td>\n",
       "      <td>289416949.0</td>\n",
       "      <td>Private</td>\n",
       "      <td>...</td>\n",
       "      <td>57628585</td>\n",
       "      <td>55360457</td>\n",
       "      <td>1.0</td>\n",
       "      <td>Bon gratis deco Nieuwsblad/Ver</td>\n",
       "      <td>Kortingsbon</td>\n",
       "      <td>NaN</td>\n",
       "      <td>-4.1</td>\n",
       "      <td>B02</td>\n",
       "      <td>2.0</td>\n",
       "      <td>3.0</td>\n",
       "    </tr>\n",
       "    <tr>\n",
       "      <th>126774</th>\n",
       "      <td>57960643</td>\n",
       "      <td>23406672553846</td>\n",
       "      <td>18934048107254</td>\n",
       "      <td>2</td>\n",
       "      <td>17:35:58,000000000</td>\n",
       "      <td>2019-07-07</td>\n",
       "      <td>8.30</td>\n",
       "      <td>cash</td>\n",
       "      <td>289416949.0</td>\n",
       "      <td>Private</td>\n",
       "      <td>...</td>\n",
       "      <td>57960644</td>\n",
       "      <td>17811288175050</td>\n",
       "      <td>1.0</td>\n",
       "      <td>2,5 L.Caramelo Crunch (Caddy)</td>\n",
       "      <td>Verkoopsartikel</td>\n",
       "      <td>Scoop Ice</td>\n",
       "      <td>8.3</td>\n",
       "      <td>B02</td>\n",
       "      <td>2.0</td>\n",
       "      <td>3.0</td>\n",
       "    </tr>\n",
       "    <tr>\n",
       "      <th>126775</th>\n",
       "      <td>60878229</td>\n",
       "      <td>23406672553846</td>\n",
       "      <td>18934048107254</td>\n",
       "      <td>2</td>\n",
       "      <td>17:48:13,000000000</td>\n",
       "      <td>2019-10-13</td>\n",
       "      <td>14.80</td>\n",
       "      <td>cash</td>\n",
       "      <td>289416949.0</td>\n",
       "      <td>Private</td>\n",
       "      <td>...</td>\n",
       "      <td>60878231</td>\n",
       "      <td>17811288175050</td>\n",
       "      <td>1.0</td>\n",
       "      <td>2,5 L.Caramelo Crunch (Caddy)</td>\n",
       "      <td>Verkoopsartikel</td>\n",
       "      <td>Scoop Ice</td>\n",
       "      <td>8.3</td>\n",
       "      <td>B02</td>\n",
       "      <td>2.0</td>\n",
       "      <td>3.0</td>\n",
       "    </tr>\n",
       "    <tr>\n",
       "      <th>126776</th>\n",
       "      <td>57785797</td>\n",
       "      <td>19672260568052</td>\n",
       "      <td>24226444135852</td>\n",
       "      <td>2</td>\n",
       "      <td>09:27:39,000000000</td>\n",
       "      <td>2019-07-02</td>\n",
       "      <td>95.90</td>\n",
       "      <td>tbp</td>\n",
       "      <td>70671404.0</td>\n",
       "      <td>Catering</td>\n",
       "      <td>...</td>\n",
       "      <td>57785798</td>\n",
       "      <td>18296144533640</td>\n",
       "      <td>4.0</td>\n",
       "      <td>Dessert Vanille/14</td>\n",
       "      <td>Verkoopsartikel</td>\n",
       "      <td>Cups</td>\n",
       "      <td>8.4</td>\n",
       "      <td>C04</td>\n",
       "      <td>1.0</td>\n",
       "      <td>1.0</td>\n",
       "    </tr>\n",
       "    <tr>\n",
       "      <th>126777</th>\n",
       "      <td>57785797</td>\n",
       "      <td>19672260568052</td>\n",
       "      <td>24226444135852</td>\n",
       "      <td>2</td>\n",
       "      <td>09:27:39,000000000</td>\n",
       "      <td>2019-07-02</td>\n",
       "      <td>95.90</td>\n",
       "      <td>tbp</td>\n",
       "      <td>70671404.0</td>\n",
       "      <td>Catering</td>\n",
       "      <td>...</td>\n",
       "      <td>57785799</td>\n",
       "      <td>23721</td>\n",
       "      <td>7.0</td>\n",
       "      <td>Dessert Dame Blanche/14</td>\n",
       "      <td>Verkoopsartikel</td>\n",
       "      <td>Cups</td>\n",
       "      <td>8.9</td>\n",
       "      <td>C04</td>\n",
       "      <td>1.0</td>\n",
       "      <td>1.0</td>\n",
       "    </tr>\n",
       "  </tbody>\n",
       "</table>\n",
       "<p>126778 rows × 23 columns</p>\n",
       "</div>"
      ],
      "text/plain": [
       "        HVVISITRESULT_NRID        SO0_NRID        AM0_NRID  HVOUTCOME_NRID  \\\n",
       "0                 55681456          719952  23186288605042               2   \n",
       "1                 55248854          719952  23186288605042               2   \n",
       "2                 54761459          719952  23186288605042               2   \n",
       "3                 54354469          719952  23186288605042               2   \n",
       "4                 52658514          719952  23186288605042               2   \n",
       "...                    ...             ...             ...             ...   \n",
       "126773            57628579        56303143  18934048107254               2   \n",
       "126774            57960643  23406672553846  18934048107254               2   \n",
       "126775            60878229  23406672553846  18934048107254               2   \n",
       "126776            57785797  19672260568052  24226444135852               2   \n",
       "126777            57785797  19672260568052  24226444135852               2   \n",
       "\n",
       "                 VISITDATE    DATEONLY  AMOUNT PAYMENTTERM  \\\n",
       "0       12:20:01,000000000  2019-05-06   16.90        cash   \n",
       "1       12:46:43,000000000  2019-04-22    7.40        cash   \n",
       "2       12:32:05,000000000  2019-04-08    7.40        cash   \n",
       "3       17:14:48,000000000  2019-03-25   16.90        cash   \n",
       "4       11:43:41,000000000  2019-01-28    7.40        cash   \n",
       "...                    ...         ...     ...         ...   \n",
       "126773  16:23:39,000000000  2019-06-26   25.95        cash   \n",
       "126774  17:35:58,000000000  2019-07-07    8.30        cash   \n",
       "126775  17:48:13,000000000  2019-10-13   14.80        cash   \n",
       "126776  09:27:39,000000000  2019-07-02   95.90         tbp   \n",
       "126777  09:27:39,000000000  2019-07-02   95.90         tbp   \n",
       "\n",
       "        HVROUTETEMPLATE_NRID CUST_TYPE  ...  VISITRESULTDETAILS_NRID  \\\n",
       "0                219019962.0   Private  ...                 55681457   \n",
       "1                219019962.0   Private  ...                 55248855   \n",
       "2                219019962.0   Private  ...                 54761460   \n",
       "3                219019962.0   Private  ...                 54354470   \n",
       "4                219019962.0   Private  ...                 52658515   \n",
       "...                      ...       ...  ...                      ...   \n",
       "126773           289416949.0   Private  ...                 57628585   \n",
       "126774           289416949.0   Private  ...                 57960644   \n",
       "126775           289416949.0   Private  ...                 60878231   \n",
       "126776            70671404.0  Catering  ...                 57785798   \n",
       "126777            70671404.0  Catering  ...                 57785799   \n",
       "\n",
       "              AR0_NRID QUANTITY                     DESCRIPTION  \\\n",
       "0                23678      1.0                   2,5 L.Vanille   \n",
       "1                23678      1.0                   2,5 L.Vanille   \n",
       "2                23678      1.0                   2,5 L.Vanille   \n",
       "3                23678      1.0                   2,5 L.Vanille   \n",
       "4                23678      1.0                   2,5 L.Vanille   \n",
       "...                ...      ...                             ...   \n",
       "126773        55360457      1.0  Bon gratis deco Nieuwsblad/Ver   \n",
       "126774  17811288175050      1.0   2,5 L.Caramelo Crunch (Caddy)   \n",
       "126775  17811288175050      1.0   2,5 L.Caramelo Crunch (Caddy)   \n",
       "126776  18296144533640      4.0              Dessert Vanille/14   \n",
       "126777           23721      7.0         Dessert Dame Blanche/14   \n",
       "\n",
       "               CATEGORY     FAMILY PRICE REGION WEEKORDER  HVDAYOFWEEK_NRID  \n",
       "0       Verkoopsartikel  Scoop Ice   7.4    C04       1.0               4.0  \n",
       "1       Verkoopsartikel  Scoop Ice   7.4    C04       1.0               4.0  \n",
       "2       Verkoopsartikel  Scoop Ice   7.4    C04       1.0               4.0  \n",
       "3       Verkoopsartikel  Scoop Ice   7.4    C04       1.0               4.0  \n",
       "4       Verkoopsartikel  Scoop Ice   7.4    C04       1.0               4.0  \n",
       "...                 ...        ...   ...    ...       ...               ...  \n",
       "126773      Kortingsbon        NaN  -4.1    B02       2.0               3.0  \n",
       "126774  Verkoopsartikel  Scoop Ice   8.3    B02       2.0               3.0  \n",
       "126775  Verkoopsartikel  Scoop Ice   8.3    B02       2.0               3.0  \n",
       "126776  Verkoopsartikel       Cups   8.4    C04       1.0               1.0  \n",
       "126777  Verkoopsartikel       Cups   8.9    C04       1.0               1.0  \n",
       "\n",
       "[126778 rows x 23 columns]"
      ]
     },
     "execution_count": 21,
     "metadata": {},
     "output_type": "execute_result"
    }
   ],
   "source": [
    "#making the necessary tables\n",
    "hvc_visitresult_visitresultdetails_so0 = pd.merge(pd.merge(hvc_hvvisitresult, hvc_so0, on = \"SO0_NRID\"), hvc_visitresultdetails, on = \"HVVISITRESULT_NRID\")\n",
    "hvc_visitresult_visitresultdetails_so0_ar0 = pd.merge(hvc_visitresult_visitresultdetails_so0, hvc_ar0, on = \"AR0_NRID\")\n",
    "hvc_visitresult_visitresultdetails_so0_ar0_routetemplate = pd.merge(hvc_visitresult_visitresultdetails_so0_ar0, hvc_hvroutetemplate)\n",
    "hvc_visitresult_visitresultdetails_so0_ar0_routetemplate"
   ]
  },
  {
   "cell_type": "code",
   "execution_count": 22,
   "id": "051b6eb9",
   "metadata": {},
   "outputs": [
    {
     "name": "stdout",
     "output_type": "stream",
     "text": [
      "[23678, 23716, 23685, 23734, 23714]\n",
      "[23678, 23685, 23716, 23721, 23734]\n",
      "[23678, 23716, 23685, 23734, 23823]\n",
      "[23678, 23716, 23685, 8609011, 23734]\n"
     ]
    }
   ],
   "source": [
    "#making the function to return the most bought products with the region as input\n",
    "def productsregionfct(region):\n",
    "    hvc_visitresult_visitresultdetails_so0_ar0_routetemplate_sortedquantity = hvc_visitresult_visitresultdetails_so0_ar0_routetemplate[hvc_visitresult_visitresultdetails_so0_ar0_routetemplate[\"REGION\"] == region].sort_values(by = \"QUANTITY\")\n",
    "    quantity_act= {\"QUANTITY\" : np.sum}\n",
    "    quantity_grouped = hvc_visitresult_visitresultdetails_so0_ar0_routetemplate_sortedquantity.groupby(\"AR0_NRID\").agg(quantity_act)\n",
    "    quantity_grouped_top = quantity_grouped.sort_values(by = \"QUANTITY\", ascending = False).head(5)\n",
    "    regionlist = []\n",
    "    for index in quantity_grouped_top.index:\n",
    "        regionlist.append(index)\n",
    "    return regionlist\n",
    "\n",
    "\n",
    "print(productsregionfct(\"C04\"))\n",
    "print(productsregionfct(\"B02\"))\n",
    "print(productsregionfct(\"C17\"))\n",
    "print(productsregionfct(\"B25\"))\n",
    "      \n",
    "      \n",
    "      "
   ]
  },
  {
   "cell_type": "code",
   "execution_count": 144,
   "id": "db29cf5e",
   "metadata": {},
   "outputs": [
    {
     "name": "stdout",
     "output_type": "stream",
     "text": [
      "{'C04': [23678, 23716, 23685, 23734, 23714], 'B02': [23678, 23685, 23716, 23721, 23734], 'C17': [23678, 23716, 23685, 23734, 23823], 'B25': [23678, 23716, 23685, 8609011, 23734]}\n"
     ]
    }
   ],
   "source": [
    "#using the created function\n",
    "topproductsperregion = {}\n",
    "\n",
    "topproductsperregion[\"C04\"] = productsregionfct(\"C04\")\n",
    "topproductsperregion[\"B02\"] = productsregionfct(\"B02\")\n",
    "topproductsperregion[\"C17\"] = productsregionfct(\"C17\")\n",
    "topproductsperregion[\"B25\"] = productsregionfct(\"B25\")\n",
    "\n",
    "print(topproductsperregion)"
   ]
  },
  {
   "cell_type": "markdown",
   "id": "e447d908",
   "metadata": {},
   "source": [
    "### 3.1.4 Are product purchases correlated? Are some products often purchased together?"
   ]
  },
  {
   "cell_type": "code",
   "execution_count": 145,
   "id": "088df75e",
   "metadata": {
    "scrolled": false
   },
   "outputs": [
    {
     "data": {
      "text/html": [
       "<div>\n",
       "<style scoped>\n",
       "    .dataframe tbody tr th:only-of-type {\n",
       "        vertical-align: middle;\n",
       "    }\n",
       "\n",
       "    .dataframe tbody tr th {\n",
       "        vertical-align: top;\n",
       "    }\n",
       "\n",
       "    .dataframe thead th {\n",
       "        text-align: right;\n",
       "    }\n",
       "</style>\n",
       "<table border=\"1\" class=\"dataframe\">\n",
       "  <thead>\n",
       "    <tr style=\"text-align: right;\">\n",
       "      <th></th>\n",
       "      <th>AR0_NRID</th>\n",
       "    </tr>\n",
       "    <tr>\n",
       "      <th>HVVISITRESULT_NRID</th>\n",
       "      <th></th>\n",
       "    </tr>\n",
       "  </thead>\n",
       "  <tbody>\n",
       "    <tr>\n",
       "      <th>51973580</th>\n",
       "      <td>23678</td>\n",
       "    </tr>\n",
       "    <tr>\n",
       "      <th>51973994</th>\n",
       "      <td>23716</td>\n",
       "    </tr>\n",
       "    <tr>\n",
       "      <th>51974162</th>\n",
       "      <td>23782</td>\n",
       "    </tr>\n",
       "    <tr>\n",
       "      <th>51974372</th>\n",
       "      <td>23678</td>\n",
       "    </tr>\n",
       "    <tr>\n",
       "      <th>51974374</th>\n",
       "      <td>23678</td>\n",
       "    </tr>\n",
       "    <tr>\n",
       "      <th>...</th>\n",
       "      <td>...</td>\n",
       "    </tr>\n",
       "    <tr>\n",
       "      <th>73924050</th>\n",
       "      <td>23677</td>\n",
       "    </tr>\n",
       "    <tr>\n",
       "      <th>73924133</th>\n",
       "      <td>[46264006, 23734]</td>\n",
       "    </tr>\n",
       "    <tr>\n",
       "      <th>73924150</th>\n",
       "      <td>[23685, 23693, 23816, 23825, 18224652536642]</td>\n",
       "    </tr>\n",
       "    <tr>\n",
       "      <th>73924160</th>\n",
       "      <td>[23678, 8601503]</td>\n",
       "    </tr>\n",
       "    <tr>\n",
       "      <th>73924170</th>\n",
       "      <td>23698</td>\n",
       "    </tr>\n",
       "  </tbody>\n",
       "</table>\n",
       "<p>78869 rows × 1 columns</p>\n",
       "</div>"
      ],
      "text/plain": [
       "                                                        AR0_NRID\n",
       "HVVISITRESULT_NRID                                              \n",
       "51973580                                                   23678\n",
       "51973994                                                   23716\n",
       "51974162                                                   23782\n",
       "51974372                                                   23678\n",
       "51974374                                                   23678\n",
       "...                                                          ...\n",
       "73924050                                                   23677\n",
       "73924133                                       [46264006, 23734]\n",
       "73924150            [23685, 23693, 23816, 23825, 18224652536642]\n",
       "73924160                                        [23678, 8601503]\n",
       "73924170                                                   23698\n",
       "\n",
       "[78869 rows x 1 columns]"
      ]
     },
     "execution_count": 145,
     "metadata": {},
     "output_type": "execute_result"
    }
   ],
   "source": [
    "# In table VISITRESULTDETAILS_NRID find the products with the same AR0_NRID. \n",
    "# These are the products that are bought in the same visit.\n",
    "\n",
    "agg_dict = {\"AR0_NRID\": np.absolute}\n",
    "hvc_visitresultdetails_correlatedproducts = hvc_visitresultdetails.groupby(\"HVVISITRESULT_NRID\").agg(agg_dict)\n",
    "\n",
    "\n",
    "hvc_visitresultdetails_correlatedproducts"
   ]
  },
  {
   "cell_type": "markdown",
   "id": "7e9be928",
   "metadata": {},
   "source": [
    "### 3.1.5 What are the total sales generated for each product family?"
   ]
  },
  {
   "cell_type": "code",
   "execution_count": 146,
   "id": "4535c491",
   "metadata": {},
   "outputs": [
    {
     "data": {
      "text/html": [
       "<div>\n",
       "<style scoped>\n",
       "    .dataframe tbody tr th:only-of-type {\n",
       "        vertical-align: middle;\n",
       "    }\n",
       "\n",
       "    .dataframe tbody tr th {\n",
       "        vertical-align: top;\n",
       "    }\n",
       "\n",
       "    .dataframe thead th {\n",
       "        text-align: right;\n",
       "    }\n",
       "</style>\n",
       "<table border=\"1\" class=\"dataframe\">\n",
       "  <thead>\n",
       "    <tr style=\"text-align: right;\">\n",
       "      <th></th>\n",
       "      <th>REVENUE</th>\n",
       "    </tr>\n",
       "    <tr>\n",
       "      <th>FAMILY</th>\n",
       "      <th></th>\n",
       "    </tr>\n",
       "  </thead>\n",
       "  <tbody>\n",
       "    <tr>\n",
       "      <th>Hand Ice</th>\n",
       "      <td>399042.2</td>\n",
       "    </tr>\n",
       "    <tr>\n",
       "      <th>Scoop Ice</th>\n",
       "      <td>279254.7</td>\n",
       "    </tr>\n",
       "    <tr>\n",
       "      <th>Cups</th>\n",
       "      <td>110634.7</td>\n",
       "    </tr>\n",
       "    <tr>\n",
       "      <th>Ice Cakes</th>\n",
       "      <td>62868.9</td>\n",
       "    </tr>\n",
       "    <tr>\n",
       "      <th>Assortments</th>\n",
       "      <td>61107.9</td>\n",
       "    </tr>\n",
       "    <tr>\n",
       "      <th>Individual Dessert</th>\n",
       "      <td>54172.2</td>\n",
       "    </tr>\n",
       "    <tr>\n",
       "      <th>Meals</th>\n",
       "      <td>39075.6</td>\n",
       "    </tr>\n",
       "    <tr>\n",
       "      <th>Coffee</th>\n",
       "      <td>31738.7</td>\n",
       "    </tr>\n",
       "    <tr>\n",
       "      <th>Garniture</th>\n",
       "      <td>13203.1</td>\n",
       "    </tr>\n",
       "    <tr>\n",
       "      <th>BIG</th>\n",
       "      <td>10240.0</td>\n",
       "    </tr>\n",
       "    <tr>\n",
       "      <th>POS inside</th>\n",
       "      <td>708.1</td>\n",
       "    </tr>\n",
       "  </tbody>\n",
       "</table>\n",
       "</div>"
      ],
      "text/plain": [
       "                     REVENUE\n",
       "FAMILY                      \n",
       "Hand Ice            399042.2\n",
       "Scoop Ice           279254.7\n",
       "Cups                110634.7\n",
       "Ice Cakes            62868.9\n",
       "Assortments          61107.9\n",
       "Individual Dessert   54172.2\n",
       "Meals                39075.6\n",
       "Coffee               31738.7\n",
       "Garniture            13203.1\n",
       "BIG                  10240.0\n",
       "POS inside             708.1"
      ]
     },
     "execution_count": 146,
     "metadata": {},
     "output_type": "execute_result"
    }
   ],
   "source": [
    "agg_dict = {\"REVENUE\": np.sum}\n",
    "hvc_revenue_family = hvc_ar0_visitresultdetails.groupby(\"FAMILY\").agg(agg_dict)\n",
    "hvc_revenue_sorted = hvc_revenue_family.sort_values(\"REVENUE\", ascending = False)\n",
    "hvc_revenue_sorted"
   ]
  },
  {
   "cell_type": "markdown",
   "id": "17c9c937",
   "metadata": {},
   "source": [
    "### Does the weather / seasonal changes have an effect on the total revenue?"
   ]
  },
  {
   "cell_type": "code",
   "execution_count": 147,
   "id": "545cb51e",
   "metadata": {},
   "outputs": [
    {
     "data": {
      "image/png": "[encoded data removed]",
      "text/plain": [
       "<Figure size 576x360 with 1 Axes>"
      ]
     },
     "metadata": {
      "needs_background": "light"
     },
     "output_type": "display_data"
    }
   ],
   "source": [
    "# get the month of each transaction date and store it in new column\n",
    "hvc_hvvisitresult[\"MONTH\"] = hvc_hvvisitresult[\"DATEONLY\"].apply(lambda x: x.month)\n",
    "\n",
    "# get transactions from 2020 only\n",
    "transactions_2019 = hvc_hvvisitresult[(hvc_hvvisitresult[\"DATEONLY\"] >= pd.Timestamp(year=2019, day=1, month=1)) & (hvc_hvvisitresult[\"DATEONLY\"] < pd.Timestamp(year=2020, month=1, day=1))]\n",
    "\n",
    "# get transactions with succesfull outcome\n",
    "transactions_2019 = transactions_2019[transactions_2019[\"HVOUTCOME_NRID\"] == 2]\n",
    "\n",
    "# get the total sales for each month\n",
    "monthly_sales = transactions_2019.groupby(\"MONTH\")[\"AMOUNT\"].sum().reset_index()\n",
    "\n",
    "# plot barplot\n",
    "\n",
    "# define figure canvas\n",
    "plt.figure(figsize=(8, 5))\n",
    "# plot barplot\n",
    "plt.bar(x=range(12), height=monthly_sales[\"AMOUNT\"])\n",
    "# set xticks as the first three letters of the name of each month\n",
    "month_names = [\"JAN\", \"FEB\", \"MAR\", \"APR\", \"MAY\", \"JUN\", \"JUL\", \"AUG\", \"SEP\", \"OCT\", \"NOV\", \"DEC\"]\n",
    "plt.xticks(range(12), month_names)\n",
    "# define title\n",
    "plt.title(\"Monthly Sales of 2019\")\n",
    "plt.show()"
   ]
  },
  {
   "cell_type": "code",
   "execution_count": 148,
   "id": "c5949043",
   "metadata": {
    "scrolled": true
   },
   "outputs": [
    {
     "data": {
      "image/png": "[encoded data removed]",
      "text/plain": [
       "<Figure size 720x720 with 1 Axes>"
      ]
     },
     "metadata": {
      "needs_background": "light"
     },
     "output_type": "display_data"
    }
   ],
   "source": [
    "### Clustering the customer positions\n",
    "\n",
    "## Clustering the longitude and latitude\n",
    "\n",
    "from sklearn.cluster import KMeans\n",
    "plt.figure(figsize = (10,10))\n",
    "\n",
    "# initialize the cluster algorithm with 4 classes\n",
    "kmeans_model = KMeans(n_clusters=4)\n",
    "\n",
    "# fit the kmeans model onto the data\n",
    "kmeans_model.fit(hvc_hvposition[[\"LONG\",\"LAT\"]])\n",
    "\n",
    "# get all the cluster labels\n",
    "cluster_labels = kmeans_model.labels_\n",
    "\n",
    "# define color map\n",
    "color_map = {0: \"green\", 1: \"red\", 2: \"blue\", 3: \"yellow\"}\n",
    "\n",
    "# get colors for each cluster label\n",
    "cluster_colors = [color_map[label] for label in cluster_labels]\n",
    "\n",
    "# plot data with cluster colors\n",
    "plt.scatter(hvc_hvposition[\"LONG\"], hvc_hvposition[\"LAT\"], color=cluster_colors)\n",
    "plt.show()"
   ]
  },
  {
   "cell_type": "code",
   "execution_count": 149,
   "id": "a25d8c48",
   "metadata": {},
   "outputs": [
    {
     "data": {
      "image/png": "[encoded data removed]",
      "text/plain": [
       "<Figure size 1440x1440 with 1 Axes>"
      ]
     },
     "metadata": {
      "needs_background": "light"
     },
     "output_type": "display_data"
    }
   ],
   "source": [
    "belgium = gpd.read_file(\"./data/Arrondissementen.json\")\n",
    "crs = 'epsg:4326'\n",
    "base = belgium.plot(color='white', edgecolor='black', figsize = (20,20))\n",
    "gdf = gpd.GeoDataFrame(hvc_hvposition, crs = crs,geometry=gpd.points_from_xy(hvc_hvposition[\"LONG\"], hvc_hvposition[\"LAT\"]))\n",
    "\n",
    "\n",
    "gdf.plot(ax = base, color = \"red\",markersize = 10)\n",
    "\n",
    "plt.show()"
   ]
  },
  {
   "cell_type": "markdown",
   "id": "6e66372a",
   "metadata": {},
   "source": [
    "## 3.2 Who are the customers?"
   ]
  },
  {
   "cell_type": "markdown",
   "id": "300b2224",
   "metadata": {},
   "source": [
    "### 3.2.1 What do the customers buy?"
   ]
  },
  {
   "cell_type": "code",
   "execution_count": 201,
   "id": "c10cd724",
   "metadata": {},
   "outputs": [],
   "source": [
    "customer_id = 721110.0"
   ]
  },
  {
   "cell_type": "code",
   "execution_count": 202,
   "id": "3352f1a1",
   "metadata": {},
   "outputs": [],
   "source": [
    "# join transactions with transaction details with products\n",
    "transactions_products = hvc_hvvisitresult.merge(hvc_visitresultdetails, on=\"HVVISITRESULT_NRID\", how=\"inner\")\\\n",
    "                                         .merge(hvc_ar0, on=\"AR0_NRID\", how=\"inner\") "
   ]
  },
  {
   "cell_type": "code",
   "execution_count": 199,
   "id": "284459e3",
   "metadata": {
    "scrolled": true
   },
   "outputs": [
    {
     "data": {
      "text/html": [
       "<div>\n",
       "<style scoped>\n",
       "    .dataframe tbody tr th:only-of-type {\n",
       "        vertical-align: middle;\n",
       "    }\n",
       "\n",
       "    .dataframe tbody tr th {\n",
       "        vertical-align: top;\n",
       "    }\n",
       "\n",
       "    .dataframe thead th {\n",
       "        text-align: right;\n",
       "    }\n",
       "</style>\n",
       "<table border=\"1\" class=\"dataframe\">\n",
       "  <thead>\n",
       "    <tr style=\"text-align: right;\">\n",
       "      <th></th>\n",
       "      <th>HVVISITRESULT_NRID</th>\n",
       "      <th>SO0_NRID</th>\n",
       "      <th>AM0_NRID</th>\n",
       "      <th>HVOUTCOME_NRID</th>\n",
       "      <th>VISITDATE</th>\n",
       "      <th>DATEONLY</th>\n",
       "      <th>AMOUNT</th>\n",
       "      <th>PAYMENTTERM</th>\n",
       "      <th>MONTH</th>\n",
       "      <th>VISITRESULTDETAILS_NRID</th>\n",
       "      <th>AR0_NRID</th>\n",
       "      <th>QUANTITY</th>\n",
       "      <th>DESCRIPTION</th>\n",
       "      <th>CATEGORY</th>\n",
       "      <th>FAMILY</th>\n",
       "      <th>PRICE</th>\n",
       "    </tr>\n",
       "  </thead>\n",
       "  <tbody>\n",
       "    <tr>\n",
       "      <th>0</th>\n",
       "      <td>55681456</td>\n",
       "      <td>719952</td>\n",
       "      <td>23186288605042</td>\n",
       "      <td>2</td>\n",
       "      <td>2021-10-20 12:20:01</td>\n",
       "      <td>2019-05-06</td>\n",
       "      <td>16.9</td>\n",
       "      <td>cash</td>\n",
       "      <td>5</td>\n",
       "      <td>55681457</td>\n",
       "      <td>23678</td>\n",
       "      <td>1.0</td>\n",
       "      <td>2,5 L.Vanille</td>\n",
       "      <td>Verkoopsartikel</td>\n",
       "      <td>Scoop Ice</td>\n",
       "      <td>7.4</td>\n",
       "    </tr>\n",
       "    <tr>\n",
       "      <th>1</th>\n",
       "      <td>55681507</td>\n",
       "      <td>1453609</td>\n",
       "      <td>19946584592834</td>\n",
       "      <td>2</td>\n",
       "      <td>2021-10-20 12:13:50</td>\n",
       "      <td>2019-05-06</td>\n",
       "      <td>7.4</td>\n",
       "      <td>cash</td>\n",
       "      <td>5</td>\n",
       "      <td>55681508</td>\n",
       "      <td>23678</td>\n",
       "      <td>1.0</td>\n",
       "      <td>2,5 L.Vanille</td>\n",
       "      <td>Verkoopsartikel</td>\n",
       "      <td>Scoop Ice</td>\n",
       "      <td>7.4</td>\n",
       "    </tr>\n",
       "    <tr>\n",
       "      <th>2</th>\n",
       "      <td>55714770</td>\n",
       "      <td>1246568</td>\n",
       "      <td>18934048107254</td>\n",
       "      <td>2</td>\n",
       "      <td>2021-10-20 22:08:39</td>\n",
       "      <td>2019-05-06</td>\n",
       "      <td>11.1</td>\n",
       "      <td>cash</td>\n",
       "      <td>5</td>\n",
       "      <td>55714771</td>\n",
       "      <td>23678</td>\n",
       "      <td>1.0</td>\n",
       "      <td>2,5 L.Vanille</td>\n",
       "      <td>Verkoopsartikel</td>\n",
       "      <td>Scoop Ice</td>\n",
       "      <td>7.4</td>\n",
       "    </tr>\n",
       "  </tbody>\n",
       "</table>\n",
       "</div>"
      ],
      "text/plain": [
       "   HVVISITRESULT_NRID  SO0_NRID        AM0_NRID  HVOUTCOME_NRID  \\\n",
       "0            55681456    719952  23186288605042               2   \n",
       "1            55681507   1453609  19946584592834               2   \n",
       "2            55714770   1246568  18934048107254               2   \n",
       "\n",
       "            VISITDATE   DATEONLY  AMOUNT PAYMENTTERM  MONTH  \\\n",
       "0 2021-10-20 12:20:01 2019-05-06    16.9        cash      5   \n",
       "1 2021-10-20 12:13:50 2019-05-06     7.4        cash      5   \n",
       "2 2021-10-20 22:08:39 2019-05-06    11.1        cash      5   \n",
       "\n",
       "   VISITRESULTDETAILS_NRID  AR0_NRID  QUANTITY    DESCRIPTION  \\\n",
       "0                 55681457     23678       1.0  2,5 L.Vanille   \n",
       "1                 55681508     23678       1.0  2,5 L.Vanille   \n",
       "2                 55714771     23678       1.0  2,5 L.Vanille   \n",
       "\n",
       "          CATEGORY     FAMILY  PRICE  \n",
       "0  Verkoopsartikel  Scoop Ice    7.4  \n",
       "1  Verkoopsartikel  Scoop Ice    7.4  \n",
       "2  Verkoopsartikel  Scoop Ice    7.4  "
      ]
     },
     "execution_count": 199,
     "metadata": {},
     "output_type": "execute_result"
    }
   ],
   "source": [
    "# check\n",
    "transactions_products.head(3)"
   ]
  },
  {
   "cell_type": "code",
   "execution_count": 204,
   "id": "5a83f406",
   "metadata": {},
   "outputs": [],
   "source": [
    "# get all the transactions for customer\n",
    "transactions_products_customer = transactions_products[transactions_products[\"SO0_NRID\"] == customer_id]\n",
    "\n",
    "# get all transactions with positive outcome\n",
    "transactions_products_customer = transactions_products_customer[transactions_products_customer[\"HVOUTCOME_NRID\"] == 2]"
   ]
  },
  {
   "cell_type": "code",
   "execution_count": 205,
   "id": "a6128ec7",
   "metadata": {},
   "outputs": [
    {
     "data": {
      "text/plain": [
       "22.0"
      ]
     },
     "execution_count": 205,
     "metadata": {},
     "output_type": "execute_result"
    }
   ],
   "source": [
    "# get total number of products bought by the customer\n",
    "transactions_products_customer[\"QUANTITY\"].sum()"
   ]
  },
  {
   "cell_type": "markdown",
   "id": "d731ee00",
   "metadata": {},
   "source": [
    "### 3.2.2 Unique list of unique products a customer bought"
   ]
  },
  {
   "cell_type": "code",
   "execution_count": 4,
   "id": "01d9d52f",
   "metadata": {},
   "outputs": [],
   "source": [
    "# define a function that accepts a customer id, the transactions data, transactions details data and product data\n",
    "def get_products(cust_id, transactions, transaction_details, products):\n",
    "    \n",
    "\n",
    "    # join transactions with transaction details with products\n",
    "    transactions_products = transactions.merge(transaction_details, on=\"HVVISITRESULT_NRID\", how=\"inner\") \\\n",
    "                                        .merge(products, on=\"AR0_NRID\", how=\"inner\")\n",
    "    \n",
    "    # get transactions of customer \n",
    "    transactions_products_cust = transactions_products[transactions_products[\"SO0_NRID\"] == cust_id]\n",
    "    \n",
    "    # only get transactions of succesfull visits\n",
    "    transactions_products_cust = transactions_products_cust[transactions_products_cust[\"HVOUTCOME_NRID\"] == 2]\n",
    "    \n",
    "    # get total amount of products bought by the customer\n",
    "    total_products = transactions_products_cust[\"QUANTITY\"].sum()\n",
    "    \n",
    "    # get total number of unique products bought by the customer\n",
    "    total_unique_products = len(transactions_products_cust[\"DESCRIPTION\"].unique())\n",
    "    \n",
    "    # return\n",
    "    return(total_products, total_unique_products)"
   ]
  },
  {
   "cell_type": "code",
   "execution_count": null,
   "id": "af15d926",
   "metadata": {},
   "outputs": [],
   "source": []
  },
  {
   "cell_type": "code",
   "execution_count": 196,
   "id": "6652ff7b",
   "metadata": {},
   "outputs": [
    {
     "data": {
      "text/plain": [
       "(22.0, 10)"
      ]
     },
     "execution_count": 196,
     "metadata": {},
     "output_type": "execute_result"
    }
   ],
   "source": [
    "# check\n",
    "get_products(cust_id=721110.0, \n",
    "                  transactions=hvc_hvvisitresult, \n",
    "                  transaction_details=hvc_visitresultdetails, \n",
    "                  products=hvc_ar0)"
   ]
  },
  {
   "cell_type": "markdown",
   "id": "6824a9bb",
   "metadata": {},
   "source": [
    "### 3.2.3 Which customers have the highest CLV?\n",
    "\n"
   ]
  },
  {
   "cell_type": "code",
   "execution_count": null,
   "id": "cd07d07f",
   "metadata": {},
   "outputs": [],
   "source": [
    "# define a function that accepts a customer id and the transactions data as parameters\n",
    "def get_clv(cust_id, transactions):\n",
    "    \n",
    "    # get customer transactions\n",
    "    cust_transactions = transactions[transactions[\"SO0_NRID\"] == cust_id]\n",
    "    # get transactions with positive outcome\n",
    "    cust_transactions_pos = cust_transactions[cust_transactions[\"HVOUTCOME_NRID\"] == 2]\n",
    "    # get clv\n",
    "    clv = np.sum(cust_transactions[\"AMOUNT\"])\n",
    "    # return clv\n",
    "    return(clv)\n"
   ]
  },
  {
   "cell_type": "code",
   "execution_count": null,
   "id": "ead73717",
   "metadata": {},
   "outputs": [],
   "source": [
    "# check\n",
    "clv = get_clv(cust_id=721110.0, transactions=hvc_hvvisitresult)\n",
    "print(clv)"
   ]
  },
  {
   "cell_type": "markdown",
   "id": "59f5d5a2",
   "metadata": {},
   "source": [
    "### 3.2.4 How often did a customer purchase at the company at different days "
   ]
  },
  {
   "cell_type": "code",
   "execution_count": 5,
   "id": "1b4b9918",
   "metadata": {},
   "outputs": [],
   "source": [
    "def get_frequency(cust_id, transactions):\n",
    "    \n",
    "    # get transactions made by customer\n",
    "    transactions_cust = transactions[hvc_hvvisitresult[\"SO0_NRID\"] == cust_id]\n",
    "\n",
    "    # get transactions from succesfull visits\n",
    "    transactions_cust = transactions_cust[transactions_cust[\"HVOUTCOME_NRID\"] == 2]\n",
    "\n",
    "    # get total number of unique days on which customer made a purchase\n",
    "    frequency = len(transactions_cust)\n",
    "    \n",
    "    # return\n",
    "    return(frequency)"
   ]
  },
  {
   "cell_type": "code",
   "execution_count": null,
   "id": "911181f7",
   "metadata": {},
   "outputs": [],
   "source": [
    "# check\n",
    "get_frequency(721110.0, hvc_hvvisitresult)"
   ]
  },
  {
   "cell_type": "markdown",
   "id": "5846e560",
   "metadata": {},
   "source": [
    "### 3.2.5 Which customers left the company?"
   ]
  },
  {
   "cell_type": "code",
   "execution_count": null,
   "id": "6eadbc11",
   "metadata": {},
   "outputs": [],
   "source": []
  },
  {
   "cell_type": "markdown",
   "id": "41b47788",
   "metadata": {},
   "source": [
    "### 3.2.6 Clusters of customers (visualization)\n"
   ]
  },
  {
   "cell_type": "markdown",
   "id": "37f324de",
   "metadata": {},
   "source": [
    "Clustering Multi Vairiable Data  "
   ]
  },
  {
   "cell_type": "code",
   "execution_count": null,
   "id": "6505bc88",
   "metadata": {},
   "outputs": [],
   "source": [
    "#importing the right stuff\n",
    "from pandas.plotting import andrews_curves\n",
    "import matplotlib.pyplot as plt\n",
    "\n",
    "plt.figure()"
   ]
  },
  {
   "cell_type": "markdown",
   "id": "a19ac75f",
   "metadata": {},
   "source": [
    "### 3.2.7 Do customers have different buying patterns during the weekend?"
   ]
  },
  {
   "cell_type": "code",
   "execution_count": null,
   "id": "b51aa027",
   "metadata": {},
   "outputs": [],
   "source": [
    "# average per weekday\n",
    "\n",
    "\n",
    "\n",
    "# average per day in the weekend "
   ]
  },
  {
   "cell_type": "markdown",
   "id": "d4ed54f1",
   "metadata": {},
   "source": [
    "## 3.3 Who are the employees?"
   ]
  },
  {
   "cell_type": "markdown",
   "id": "13979c78",
   "metadata": {},
   "source": [
    "## 3.4 What are the routes?"
   ]
  },
  {
   "cell_type": "markdown",
   "id": "77b9d9bd",
   "metadata": {},
   "source": [
    "Vraag 1"
   ]
  },
  {
   "cell_type": "code",
   "execution_count": null,
   "id": "f8f0aa8f",
   "metadata": {
    "scrolled": true
   },
   "outputs": [],
   "source": [
    "hvc_customer_regions = pd.merge(hvc_so0,hvc_hvroutetemplate)\n",
    "\n",
    "hvc_customer_regions2 = pd.merge(hvc_customer_regions, hvc_hvposition)\n",
    "\n",
    "hvc_customer_regions2[hvc_customer_regions2[\"REGION\"] == \"B02\"].describe()\n",
    "\n",
    "#insert all the different kinds of regions to see the mean and sd\n"
   ]
  },
  {
   "cell_type": "code",
   "execution_count": null,
   "id": "16d892e6",
   "metadata": {},
   "outputs": [],
   "source": []
  },
  {
   "cell_type": "markdown",
   "id": "375c55a2",
   "metadata": {},
   "source": [
    "Vraag 2"
   ]
  },
  {
   "cell_type": "code",
   "execution_count": null,
   "id": "acad01eb",
   "metadata": {},
   "outputs": [],
   "source": [
    "#hvc_customer_routes\n",
    "hvc_customer_routes = pd.merge(hvc_hvroutetemplate, hvc_so0)\n",
    "hvc_customer_routes[hvc_customer_routes[\"REGION\"] == \"C17\"][\"POSTCODE\"].unique()\n",
    "\n",
    "#certain postal codes are unique for a region\n"
   ]
  },
  {
   "cell_type": "code",
   "execution_count": null,
   "id": "714e4c7e",
   "metadata": {},
   "outputs": [],
   "source": [
    "hvc_customer_regions2[hvc_customer_regions2[\"REGION\"] == \"C17\"][\"POSTCODE\"].unique()"
   ]
  },
  {
   "cell_type": "code",
   "execution_count": null,
   "id": "5e5418f9",
   "metadata": {
    "scrolled": true
   },
   "outputs": [],
   "source": [
    "#Which routes belong to which region\n",
    "    \n",
    "\n",
    "agg_dict = {\"REGION\": np.unique}\n",
    "hvc_customer_regions3_grouped = hvc_customer_routes.groupby(\"HVROUTETEMPLATE_NRID\").agg(agg_dict)\n",
    "\n",
    "hvc_customer_regions3_grouped\n"
   ]
  },
  {
   "cell_type": "code",
   "execution_count": null,
   "id": "5b152312",
   "metadata": {},
   "outputs": [],
   "source": [
    "hvc_customer_routes"
   ]
  },
  {
   "cell_type": "markdown",
   "id": "3ab01644",
   "metadata": {},
   "source": [
    "Vraag 3"
   ]
  },
  {
   "cell_type": "code",
   "execution_count": null,
   "id": "4b4732ed",
   "metadata": {},
   "outputs": [],
   "source": [
    "hvc_routes_depot = pd.merge(hvc_depot, hvc_hvroutetemplate)\n",
    "\n",
    "hvc_routes_depot"
   ]
  },
  {
   "cell_type": "code",
   "execution_count": null,
   "id": "57e85244",
   "metadata": {
    "scrolled": true
   },
   "outputs": [],
   "source": [
    "grouped_routes = hvc_routes_depot.groupby(\"DEPOT\")\n",
    "\n",
    "for key, item in grouped_routes:\n",
    "    print(grouped_routes.get_group(key), \"\\n\\n\")"
   ]
  },
  {
   "cell_type": "markdown",
   "id": "96866461",
   "metadata": {},
   "source": [
    "Vraag 4"
   ]
  },
  {
   "cell_type": "code",
   "execution_count": null,
   "id": "42f655bb",
   "metadata": {
    "scrolled": true
   },
   "outputs": [],
   "source": [
    "hvc_employee_route_region = pd.merge(pd.merge(hvc_so0, hvc_hvroutetemplate, on = \"HVROUTETEMPLATE_NRID\"), hvc_hvvisitresult)\n",
    "\n",
    "\n",
    "\n",
    "#hvc_employee_route_region[hvc_employee_route_region[\"AM0_NRID\"] == 23186288605042][\"REGION\"].unique()\n",
    "\n",
    "\n",
    "agg_dict = {\"REGION\": np.unique}\n",
    "hvc_employee_route_region_grouped = hvc_employee_route_region.groupby(\"AM0_NRID\").agg(agg_dict)\n",
    "hvc_employee_region_name = pd.merge(hvc_employee_route_region_grouped, hvc_am0, on = \"AM0_NRID\")\n",
    "\n",
    "hvc_employee_region_name[[\"NAME\", \"REGION\"]]\n",
    "\n"
   ]
  },
  {
   "cell_type": "markdown",
   "id": "11f651ca",
   "metadata": {},
   "source": [
    "Vraag 5"
   ]
  },
  {
   "cell_type": "code",
   "execution_count": null,
   "id": "820adb64",
   "metadata": {},
   "outputs": [],
   "source": [
    "## Clustering the longitude and latitude\n",
    "\n",
    "from sklearn.cluster import KMeans\n",
    "plt.figure(figsize = (10,10))\n",
    "\n",
    "# initialize the cluster algorithm with 4 classes\n",
    "kmeans_model = KMeans(n_clusters=4)\n",
    "\n",
    "# fit the kmeans model onto the data\n",
    "kmeans_model.fit(hvc_hvposition[[\"LONG\",\"LAT\"]])\n",
    "\n",
    "# get all the cluster labels\n",
    "cluster_labels = kmeans_model.labels_\n",
    "\n",
    "# define color map\n",
    "color_map = {0: \"green\", 1: \"red\", 2: \"blue\", 3: \"yellow\"}\n",
    "\n",
    "# get colors for each cluster label\n",
    "cluster_colors = [color_map[label] for label in cluster_labels]\n",
    "\n",
    "# plot data with cluster colors\n",
    "plt.scatter(hvc_hvposition[\"LONG\"], hvc_hvposition[\"LAT\"], color=cluster_colors)\n",
    "plt.show()"
   ]
  },
  {
   "cell_type": "code",
   "execution_count": null,
   "id": "2c944fec",
   "metadata": {},
   "outputs": [],
   "source": [
    "#long and lat\n",
    "#Deinze: 50.590 , 3.3138\n",
    "#Antwerpen: 51.13, 4.24\n",
    "#Vilvoorde : 50.56, 4,25\n",
    "#Aarschot: 50.59, 4.50\n",
    "\n",
    "#Show the 4 regions in a scatterplotx\n",
    "plt.figure(figsize = (10,10))\n",
    "\n",
    "# define color map\n",
    "color_region = {\"C04\": \"green\", \"B25\": \"red\", \"B02\": \"blue\", \"C17\":  \"yellow\"}\n",
    "\n",
    "# get colors for each cluster label\n",
    "cluster_region = [color_region[label] for label in hvc_customer_regions2[\"REGION\"]]\n",
    "\n",
    "# plot data with cluster colors\n",
    "plt.scatter(hvc_customer_regions2[\"LONG\"], hvc_customer_regions2[\"LAT\"], color=cluster_region, s = 7)\n",
    "#plt.savefig(\"./data/fig_region.pdf\")\n",
    "\n",
    "\n",
    "# define color map\n",
    "color_depot = {\"Deinze\": \"black\", \"Antwerpen\": \"black\", \"Vilvoorde\": \"black\", \"Aarschot\":  \"black\"}\n",
    "\n",
    "# get colors for each cluster label\n",
    "cluster_depot = [color_depot[label] for label in data_depot[\"DEPOT\"]] #in de juiste dataframe kijken om het depot te vinden\n",
    "\n",
    "# plot data with cluster colors\n",
    "plt.scatter(data_depot[\"Long\"], data_depot[\"Lat\"], color=cluster_depot, s = 100)\n",
    "plt.savefig(\"./data/fig_depot.pdf\")\n",
    "plt.show()"
   ]
  },
  {
   "cell_type": "code",
   "execution_count": null,
   "id": "88077616",
   "metadata": {
    "scrolled": true
   },
   "outputs": [],
   "source": [
    "hvc_customer_regions2"
   ]
  },
  {
   "cell_type": "code",
   "execution_count": null,
   "id": "a29c9c43",
   "metadata": {
    "scrolled": true
   },
   "outputs": [],
   "source": [
    "hvc_depot_route = pd.merge(hvc_depot, hvc_hvroutetemplate)\n",
    "hvc_depot_route"
   ]
  },
  {
   "cell_type": "code",
   "execution_count": null,
   "id": "92ffa546",
   "metadata": {},
   "outputs": [],
   "source": [
    "#group the depot to see which regions are present in a depot\n",
    "\n",
    "agg_dict_depot = {\"REGION\": np.unique}\n",
    "hvc_depot_route_grouped = hvc_depot_route.groupby(\"DEPOT\").agg(agg_dict)\n",
    "\n",
    "hvc_depot_route_grouped#[[\"NAME\", \"REGION\"]]\n"
   ]
  },
  {
   "cell_type": "code",
   "execution_count": null,
   "id": "09ad31e2",
   "metadata": {},
   "outputs": [],
   "source": [
    "\n",
    "\n",
    "# assign data of lists.  \n",
    "data = {'DEPOT': ['Deinze', 'Antwerpen', 'Vilvoorde', 'Aarschot'], 'Long': [3.3138, 4.24, 4.25, 4.50], 'Lat' :[50.590,51.13,50.56,50.59]}  \n",
    "  \n",
    "# Create DataFrame  \n",
    "data_depot = pd.DataFrame(data)  \n",
    "  \n",
    "# Print the output.  \n",
    "print(data_depot)  \n",
    "\n",
    "#dataframe_depots = pd.DataFrame[\"Deinze\" : \"\"]"
   ]
  },
  {
   "cell_type": "code",
   "execution_count": null,
   "id": "e42ca791",
   "metadata": {},
   "outputs": [],
   "source": [
    "# define a route id\n",
    "route_id = 219020601.0\n",
    "\n",
    "for routeid in cust_pos[\"HVROUTETEMPLATE_NRID\"]\n",
    "# join customer info with customer positions\n",
    "cust_pos = pd.merge(hvc_so0, hvc_hvposition, on=\"SO0_NRID\", how=\"inner\")\n",
    "for routeid in cust_pos[\"HVROUTETEMPLATE_NRID\"]\n",
    "\n",
    "# get all the customers belonging to that route\n",
    "all_cust_route = cust_pos[cust_pos[\"HVROUTETEMPLATE_NRID\"] == 219020601.0]\n",
    "\n",
    "# plot the positions of all customers \n",
    "plt.figure(figsize=(10, 10))\n",
    "plt.scatter(hvc_hvposition[\"LONG\"], hvc_hvposition[\"LAT\"], color=\"blue\", s = 7)\n",
    "# plot the positions of the customers belonging to the specified route\n",
    "plt.scatter(all_cust_route[\"LONG\"], all_cust_route[\"LAT\"], color=\"orange\", label=\"customer of route %s\" %route_id, s = 7)\n",
    "# define legend to add label to figure\n",
    "plt.legend(loc=\"lower left\")\n",
    "plt.show()\n",
    "\n"
   ]
  },
  {
   "cell_type": "markdown",
   "id": "6ac3bb5a",
   "metadata": {},
   "source": [
    "## 3.5 How can the company improve its service?"
   ]
  },
  {
   "cell_type": "markdown",
   "id": "8d754dee",
   "metadata": {},
   "source": [
    "### 3.5.1 Which customers should be rewarded?"
   ]
  },
  {
   "cell_type": "markdown",
   "id": "b82ba6da",
   "metadata": {},
   "source": [
    "### 3.5.2 Which employees should be rewarded?"
   ]
  },
  {
   "cell_type": "markdown",
   "id": "81d92fdd",
   "metadata": {},
   "source": [
    "### 3.5.3 To which customers should the company send coupons in order to win them back?"
   ]
  },
  {
   "cell_type": "code",
   "execution_count": null,
   "id": "8f825fea",
   "metadata": {},
   "outputs": [],
   "source": [
    "hvc_customer_reviews[\"REVIEW\"].unique()"
   ]
  },
  {
   "cell_type": "code",
   "execution_count": null,
   "id": "ab803b34",
   "metadata": {
    "scrolled": true
   },
   "outputs": [],
   "source": [
    "hvc_customer_reviews[\"SO0_NRID\"].nunique()"
   ]
  },
  {
   "cell_type": "code",
   "execution_count": null,
   "id": "4b54d81a",
   "metadata": {},
   "outputs": [],
   "source": [
    "hvc_customer_reviews"
   ]
  },
  {
   "cell_type": "code",
   "execution_count": 1,
   "id": "551ffbc7",
   "metadata": {},
   "outputs": [
    {
     "ename": "NameError",
     "evalue": "name 'amount_bad_reviews' is not defined",
     "output_type": "error",
     "traceback": [
      "\u001b[1;31m---------------------------------------------------------------------------\u001b[0m",
      "\u001b[1;31mNameError\u001b[0m                                 Traceback (most recent call last)",
      "\u001b[1;32m<ipython-input-1-3bee5430eb86>\u001b[0m in \u001b[0;36m<module>\u001b[1;34m\u001b[0m\n\u001b[0;32m      1\u001b[0m \u001b[1;31m#customers that give bad reviews\u001b[0m\u001b[1;33m\u001b[0m\u001b[1;33m\u001b[0m\u001b[1;33m\u001b[0m\u001b[0m\n\u001b[0;32m      2\u001b[0m \u001b[1;33m\u001b[0m\u001b[0m\n\u001b[1;32m----> 3\u001b[1;33m \u001b[0mamount_bad_reviews\u001b[0m\u001b[1;33m\u001b[0m\u001b[1;33m\u001b[0m\u001b[0m\n\u001b[0m",
      "\u001b[1;31mNameError\u001b[0m: name 'amount_bad_reviews' is not defined"
     ]
    }
   ],
   "source": [
    "#customers that give bad reviews\n",
    "\n",
    "amount_bad_reviews"
   ]
  },
  {
   "cell_type": "code",
   "execution_count": null,
   "id": "9b1ff780",
   "metadata": {
    "scrolled": true
   },
   "outputs": [],
   "source": [
    "#customers that are visited but don’t buy anything\n",
    "hvc_hvvisitresult_nothingneeded = hvc_hvvisitresult[hvc_hvvisitresult[\"HVOUTCOME_NRID\"] == 0]\n",
    "hvc_hvvisitresult_nothingneeded[\"SO0_NRID\"].nunique()"
   ]
  },
  {
   "cell_type": "code",
   "execution_count": null,
   "id": "16a1631c",
   "metadata": {
    "scrolled": true
   },
   "outputs": [],
   "source": [
    "hvc_hvvisitresult_nothingneeded"
   ]
  },
  {
   "cell_type": "code",
   "execution_count": null,
   "id": "34b62180",
   "metadata": {},
   "outputs": [],
   "source": [
    "print(hvc_hvvisitresult_nothingneeded.groupby(\"SO0_NRID\").agg({\"HVVISITRESULT_NRID\": np.absolute}))\n",
    "\n",
    "\n",
    "\n",
    "\n",
    "#agg_dict = {\"AR0_NRID\": np.absolute}\n",
    "#hvc_visitresultdetails_correlatedproducts = hvc_visitresultdetails.groupby(\"HVVISITRESULT_NRID\").agg(agg_dict)"
   ]
  },
  {
   "cell_type": "markdown",
   "id": "71bc54de",
   "metadata": {},
   "source": [
    "### 3.5.4 Are there factors that the company can change in order to decrease the churning rate?"
   ]
  },
  {
   "cell_type": "code",
   "execution_count": null,
   "id": "c661ae12",
   "metadata": {},
   "outputs": [],
   "source": [
    "def season_of_date(date):\n",
    "    year = str(date.year)\n",
    "    seasons = {'Spring': pd.date_range(start='21/03/'+year, end='20/06/'+year),\n",
    "               'Summer': pd.date_range(start='21/06/'+year, end='20/09/'+year),\n",
    "               'Autumn': pd.date_range(start='21/09/'+year, end='20/12/'+year)}\n",
    "    if date in seasons['Spring']:\n",
    "        return 'Spring'\n",
    "    if date in seasons['Summer']:\n",
    "        return 'Summer'\n",
    "    if date in seasons['Autumn']:\n",
    "        return 'Autumn'\n",
    "    else:\n",
    "        return 'Winter'"
   ]
  },
  {
   "cell_type": "code",
   "execution_count": 1,
   "id": "77f93e4f",
   "metadata": {
    "scrolled": true
   },
   "outputs": [
    {
     "ename": "NameError",
     "evalue": "name 'hvc_hvvisitresult_nothingneeded' is not defined",
     "output_type": "error",
     "traceback": [
      "\u001b[0;31m---------------------------------------------------------------------------\u001b[0m",
      "\u001b[0;31mNameError\u001b[0m                                 Traceback (most recent call last)",
      "\u001b[0;32m/var/folders/x2/hymzscwj7pg_t42hpfwjm20m0000gn/T/ipykernel_3977/1259527475.py\u001b[0m in \u001b[0;36m<module>\u001b[0;34m\u001b[0m\n\u001b[1;32m      2\u001b[0m \u001b[0;31m#comparing amounts of open door but no purchase on a certain date with the preferred time for visits\u001b[0m\u001b[0;34m\u001b[0m\u001b[0;34m\u001b[0m\u001b[0m\n\u001b[1;32m      3\u001b[0m \u001b[0;34m\u001b[0m\u001b[0m\n\u001b[0;32m----> 4\u001b[0;31m \u001b[0mhvc_hvvisitresult_nothingneeded\u001b[0m\u001b[0;34m.\u001b[0m\u001b[0mdrop\u001b[0m\u001b[0;34m(\u001b[0m\u001b[0maxis\u001b[0m \u001b[0;34m=\u001b[0m \u001b[0;36m1\u001b[0m\u001b[0;34m,\u001b[0m\u001b[0mlabels\u001b[0m \u001b[0;34m=\u001b[0m \u001b[0;34m\"PAYMENTTERM\"\u001b[0m\u001b[0;34m)\u001b[0m\u001b[0;34m\u001b[0m\u001b[0;34m\u001b[0m\u001b[0m\n\u001b[0m\u001b[1;32m      5\u001b[0m \u001b[0;34m\u001b[0m\u001b[0m\n\u001b[1;32m      6\u001b[0m \u001b[0mhvc_hvvisitresult_nothingneeded_so0\u001b[0m \u001b[0;34m=\u001b[0m \u001b[0mpd\u001b[0m\u001b[0;34m.\u001b[0m\u001b[0mmerge\u001b[0m\u001b[0;34m(\u001b[0m\u001b[0mhvc_hvvisitresult_nothingneeded\u001b[0m\u001b[0;34m,\u001b[0m \u001b[0mhvc_so0\u001b[0m\u001b[0;34m,\u001b[0m \u001b[0mon\u001b[0m \u001b[0;34m=\u001b[0m \u001b[0;34m\"SO0_NRID\"\u001b[0m\u001b[0;34m)\u001b[0m\u001b[0;34m\u001b[0m\u001b[0;34m\u001b[0m\u001b[0m\n",
      "\u001b[0;31mNameError\u001b[0m: name 'hvc_hvvisitresult_nothingneeded' is not defined"
     ]
    }
   ],
   "source": [
    "#Check if the customer is visited at the right moment\n",
    "#comparing amounts of open door but no purchase on a certain date with the preferred time for visits\n",
    "\n",
    "hvc_hvvisitresult_nothingneeded.drop(axis = 1,labels = \"PAYMENTTERM\")\n",
    "\n",
    "hvc_hvvisitresult_nothingneeded_so0 = pd.merge(hvc_hvvisitresult_nothingneeded, hvc_so0, on = \"SO0_NRID\")\n",
    "\n",
    "hvc_hvvisitresult_nothingneeded_so0.drop(axis = 1, labels = \"PAYMENTTERM\")\n",
    "\n",
    "#Christmas\n",
    "hvc_hvvisitresult_nothingneeded_so0_christmas = hvc_hvvisitresult_nothingneeded_so0[hvc_hvvisitresult_nothingneeded_so0[\"SEASON_TYPE\"] == \"Christmas\"]\n",
    "\n",
    "christmas_false = []\n",
    "for index, row in hvc_hvvisitresult_nothingneeded_so0_christmas.iterrows():\n",
    "    if(row.DATEONLY.month != 12):\n",
    "        christmas_false.append(index)\n",
    "christmas_wrongproportion = int((len(christmas_false)/len(hvc_hvvisitresult_nothingneeded_so0_christmas)*100))\n",
    "print(\"Christmas: \", christmas_wrongproportion)\n",
    "\n",
    "#Function\n",
    "def season_proportion(season):\n",
    "    hvc_hvvisitresult_nothingneeded_so0_Season = hvc_hvvisitresult_nothingneeded_so0[hvc_hvvisitresult_nothingneeded_so0[\"SEASON_TYPE\"] == season]\n",
    "\n",
    "    Season_false = []\n",
    "    for index, row in hvc_hvvisitresult_nothingneeded_so0_Season.iterrows():\n",
    "        if(season_of_date(row.DATEONLY) == season):\n",
    "            Season_false.append(index)\n",
    "    Season_wrongproportion = int((len(Season_false)/len(hvc_hvvisitresult_nothingneeded_so0_Season)*100))\n",
    "    print(season + \": \", Season_wrongproportion)\n",
    "    \n",
    "    \n",
    "season_proportion(\"Summer\")\n",
    "season_proportion(\"Winter\")"
   ]
  },
  {
   "cell_type": "code",
   "execution_count": 2,
   "id": "a024fb56",
   "metadata": {},
   "outputs": [
    {
     "ename": "NameError",
     "evalue": "name 'christmas_wrongproportion' is not defined",
     "output_type": "error",
     "traceback": [
      "\u001b[0;31m---------------------------------------------------------------------------\u001b[0m",
      "\u001b[0;31mNameError\u001b[0m                                 Traceback (most recent call last)",
      "\u001b[0;32m/var/folders/x2/hymzscwj7pg_t42hpfwjm20m0000gn/T/ipykernel_3977/3720378454.py\u001b[0m in \u001b[0;36m<module>\u001b[0;34m\u001b[0m\n\u001b[1;32m      3\u001b[0m \u001b[0;34m\u001b[0m\u001b[0m\n\u001b[1;32m      4\u001b[0m \u001b[0;31m#making a df\u001b[0m\u001b[0;34m\u001b[0m\u001b[0;34m\u001b[0m\u001b[0m\n\u001b[0;32m----> 5\u001b[0;31m \u001b[0mdata\u001b[0m \u001b[0;34m=\u001b[0m \u001b[0;34m[\u001b[0m\u001b[0;34m[\u001b[0m\u001b[0;34m'Christmas'\u001b[0m\u001b[0;34m,\u001b[0m \u001b[0;36m100\u001b[0m \u001b[0;34m-\u001b[0m \u001b[0mchristmas_wrongproportion\u001b[0m\u001b[0;34m,\u001b[0m \u001b[0mchristmas_wrongproportion\u001b[0m\u001b[0;34m]\u001b[0m\u001b[0;34m,\u001b[0m \u001b[0;34m[\u001b[0m\u001b[0;34m'Winter'\u001b[0m\u001b[0;34m,\u001b[0m \u001b[0;36m100\u001b[0m \u001b[0;34m-\u001b[0m \u001b[0mwinter_wrongproportion\u001b[0m\u001b[0;34m,\u001b[0m \u001b[0mwinter_wrongproportion\u001b[0m\u001b[0;34m]\u001b[0m\u001b[0;34m,\u001b[0m \u001b[0;34m[\u001b[0m\u001b[0;34m'Summer'\u001b[0m\u001b[0;34m,\u001b[0m \u001b[0;36m100\u001b[0m \u001b[0;34m-\u001b[0m \u001b[0msummer_wrongproportion\u001b[0m\u001b[0;34m,\u001b[0m \u001b[0msummer_wrongproportion\u001b[0m\u001b[0;34m]\u001b[0m\u001b[0;34m]\u001b[0m\u001b[0;34m\u001b[0m\u001b[0;34m\u001b[0m\u001b[0m\n\u001b[0m\u001b[1;32m      6\u001b[0m \u001b[0mdf\u001b[0m \u001b[0;34m=\u001b[0m \u001b[0mpd\u001b[0m\u001b[0;34m.\u001b[0m\u001b[0mDataFrame\u001b[0m\u001b[0;34m(\u001b[0m\u001b[0mdata\u001b[0m\u001b[0;34m,\u001b[0m \u001b[0mcolumns\u001b[0m \u001b[0;34m=\u001b[0m \u001b[0;34m[\u001b[0m\u001b[0;34m'Season_Types'\u001b[0m\u001b[0;34m,\u001b[0m \u001b[0;34m'Wrong_Period'\u001b[0m\u001b[0;34m,\u001b[0m\u001b[0;34m\"Correct_Period\"\u001b[0m\u001b[0;34m]\u001b[0m\u001b[0;34m)\u001b[0m\u001b[0;34m\u001b[0m\u001b[0;34m\u001b[0m\u001b[0m\n\u001b[1;32m      7\u001b[0m \u001b[0;34m\u001b[0m\u001b[0m\n",
      "\u001b[0;31mNameError\u001b[0m: name 'christmas_wrongproportion' is not defined"
     ]
    }
   ],
   "source": [
    "## Making a horizontal stacked bar chart\n",
    "from matplotlib.colors import LinearSegmentedColormap\n",
    "\n",
    "#making a df\n",
    "data = [['Christmas', 100 - christmas_wrongproportion, christmas_wrongproportion], ['Winter', 100 - winter_wrongproportion, winter_wrongproportion], ['Summer', 100 - summer_wrongproportion, summer_wrongproportion]]\n",
    "df = pd.DataFrame(data, columns = ['Season_Types', 'Wrong_Period',\"Correct_Period\"])\n",
    "\n",
    "## making plot\n",
    "ax = df.plot(kind='barh', stacked=True, figsize=(10, 10), color = [\"green\",\"red\"])\n",
    "\n",
    "for c in ax.containers:\n",
    "    \n",
    "    # customize the label to account for cases when there might not be a bar section\n",
    "    labels = [f'{w:.0f}%' if (w := v.get_width()) > 0 else '' for v in c ]\n",
    "    \n",
    "    # set the bar label\n",
    "    ax.bar_label(c, labels=labels, label_type='center', fontsize = 16)\n",
    "    \n",
    "    \n",
    "ax.legend([\"Correct Period\", \"Wrong Period\"],loc=\"upper left\", fontsize = 11)\n",
    "plt.xticks([0,20,40,60,80,100], fontsize = 16)\n",
    "plt.yticks(np.arange(3), df[\"Season_Types\"], fontsize = 16)\n",
    "plt.savefig('./data/Correct_Visit_Period.png')\n",
    "plt.show()"
   ]
  },
  {
   "cell_type": "code",
   "execution_count": null,
   "id": "26a991e2",
   "metadata": {},
   "outputs": [],
   "source": [
    "## Turnover customers\n",
    "hvc_hvvisitresult_nothingneeded = hvc_hvvisitresult[hvc_hvvisitresult[\"HVOUTCOME_NRID\"] == 0]\n",
    "visit_turnover = (len(hvc_hvvisitresult_nothingneeded)/len(hvc_hvvisitresult))*100\n",
    "visit_turnover"
   ]
  },
  {
   "cell_type": "code",
   "execution_count": null,
   "id": "709bf683",
   "metadata": {},
   "outputs": [],
   "source": [
    "#check if the customer closed door is visited between 9 and 17\n",
    "\n",
    "hvc_hvvisitresult_nothome = hvc_hvvisitresult[hvc_hvvisitresult[\"HVOUTCOME_NRID\"] == 1]\n",
    "hvc_hvvisitresult_nothome.drop(axis = 1,labels = \"PAYMENTTERM\")\n",
    "\n",
    "Correct_Time = []\n",
    "Wrong_Time = []\n",
    "\n",
    "starttime= datetime.time(9,0,0)\n",
    "endtime = datetime.time(17,0,0)\n",
    "\n",
    "for index, row in hvc_hvvisitresult_nothome.iterrows():\n",
    "    if(row.VISITDATE.time() > starttime and row.VISITDATE.time() < endtime):\n",
    "        Wrong_Time.append(index)\n",
    "Wrong_Time_proportion = int(100*(len(Wrong_Time)/len(hvc_hvvisitresult_nothome)))\n",
    "print(Wrong_Time_proportion)"
   ]
  },
  {
   "cell_type": "markdown",
   "id": "cc9886db",
   "metadata": {},
   "source": [
    "### 3.5.5 Would it be valuable to recommend (upsell / cross sell) products to a customer?"
   ]
  },
  {
   "cell_type": "markdown",
   "id": "76a4bc18",
   "metadata": {},
   "source": [
    "### 3.5.6 Which employees should be assigned to different routes?"
   ]
  },
  {
   "cell_type": "markdown",
   "id": "8367f736",
   "metadata": {},
   "source": [
    "### 3.5.7 Which routes should be reassigned to different depots?"
   ]
  },
  {
   "cell_type": "markdown",
   "id": "cd922ed0",
   "metadata": {},
   "source": [
    "### 3.5.8 Which customers should be reassigned to different routes?"
   ]
  },
  {
   "cell_type": "markdown",
   "id": "4ac06ca0",
   "metadata": {},
   "source": [
    "### 3.5.9 Which depots should be removed? Where should the company create new depots?"
   ]
  },
  {
   "cell_type": "markdown",
   "id": "65648abd",
   "metadata": {},
   "source": [
    "### 3.5.10 Which products should be added / removed from depots?"
   ]
  },
  {
   "cell_type": "markdown",
   "id": "c8971051",
   "metadata": {},
   "source": [
    "### 3.5.11 Does customer satisfaction relate to different factors? Can the company respond to these factors?"
   ]
  },
  {
   "cell_type": "markdown",
   "id": "f2021ea7",
   "metadata": {},
   "source": [
    "### 3.5.11 Does customer satisfaction relate to different factors? Can the company respond to these factors?"
   ]
  },
  {
   "cell_type": "markdown",
   "id": "821a91d3",
   "metadata": {},
   "source": [
    "# 4. Extra code"
   ]
  },
  {
   "cell_type": "code",
   "execution_count": 150,
   "id": "f3f0787b",
   "metadata": {},
   "outputs": [],
   "source": [
    "# get the number of products in each product family\n",
    "products_per_family = hvc_ar0.groupby(\"FAMILY\")[\"AR0_NRID\"].count().reset_index()"
   ]
  },
  {
   "cell_type": "code",
   "execution_count": 152,
   "id": "db3d8dca",
   "metadata": {},
   "outputs": [],
   "source": [
    "products_per_family.sort_values(\"AR0_NRID\")\n",
    "products_per_family_index = products_per_family.set_index(\"FAMILY\").reindex(hvc_revenue_sorted.index)"
   ]
  },
  {
   "cell_type": "code",
   "execution_count": 153,
   "id": "77026975",
   "metadata": {},
   "outputs": [
    {
     "data": {
      "image/png": "[encoded data removed]",
      "text/plain": [
       "<Figure size 1440x720 with 2 Axes>"
      ]
     },
     "metadata": {
      "needs_background": "light"
     },
     "output_type": "display_data"
    }
   ],
   "source": [
    "# create subplot\n",
    "plt.figure(figsize = (20,10))\n",
    "plt.subplot(2,1,1)\n",
    "# plot barplot\n",
    "plt.bar(x=range(11), height=hvc_revenue_sorted[\"REVENUE\"], label = \"Revenue\", color = '#ffb923')\n",
    "plt.set_color = (\"#ffb923\")\n",
    "# set xticks\n",
    "family_names = []\n",
    "for index in hvc_revenue_sorted.index:\n",
    "    family_names.append(index)\n",
    "plt.xticks(range(11), family_names, fontsize = 10)\n",
    "plt.yticks(fontsize = 15)\n",
    "# define title\n",
    "plt.title(\"Sales per Product Family\", fontsize = 20)\n",
    "\n",
    "plt.subplot(2,1,2)\n",
    "# plot barplot\n",
    "plt.bar(x=range(11), height=products_per_family_index[\"AR0_NRID\"], label = \"Products per family\", color = '#ffb923')\n",
    "plt.set_color = (\"#ffb923\")\n",
    "# set xticks\n",
    "plt.xticks(range(11), family_names, fontsize = 10)\n",
    "plt.yticks(fontsize = 15)\n",
    "# define title\n",
    "plt.title(\"Amount of Products per Product Family\", fontsize = 20)\n",
    "plt.savefig('./data/productfamily.png')\n",
    "plt.show()\n",
    "\n"
   ]
  },
  {
   "cell_type": "code",
   "execution_count": 154,
   "id": "d0edd05d",
   "metadata": {
    "scrolled": true
   },
   "outputs": [
    {
     "data": {
      "text/html": [
       "<div>\n",
       "<style scoped>\n",
       "    .dataframe tbody tr th:only-of-type {\n",
       "        vertical-align: middle;\n",
       "    }\n",
       "\n",
       "    .dataframe tbody tr th {\n",
       "        vertical-align: top;\n",
       "    }\n",
       "\n",
       "    .dataframe thead th {\n",
       "        text-align: right;\n",
       "    }\n",
       "</style>\n",
       "<table border=\"1\" class=\"dataframe\">\n",
       "  <thead>\n",
       "    <tr style=\"text-align: right;\">\n",
       "      <th></th>\n",
       "      <th>REVENUE</th>\n",
       "    </tr>\n",
       "    <tr>\n",
       "      <th>FAMILY</th>\n",
       "      <th></th>\n",
       "    </tr>\n",
       "  </thead>\n",
       "  <tbody>\n",
       "    <tr>\n",
       "      <th>Assortments</th>\n",
       "      <td>61107.9</td>\n",
       "    </tr>\n",
       "    <tr>\n",
       "      <th>BIG</th>\n",
       "      <td>10240.0</td>\n",
       "    </tr>\n",
       "    <tr>\n",
       "      <th>Coffee</th>\n",
       "      <td>31738.7</td>\n",
       "    </tr>\n",
       "    <tr>\n",
       "      <th>Cups</th>\n",
       "      <td>110634.7</td>\n",
       "    </tr>\n",
       "    <tr>\n",
       "      <th>Garniture</th>\n",
       "      <td>13203.1</td>\n",
       "    </tr>\n",
       "    <tr>\n",
       "      <th>Hand Ice</th>\n",
       "      <td>399042.2</td>\n",
       "    </tr>\n",
       "    <tr>\n",
       "      <th>Ice Cakes</th>\n",
       "      <td>62868.9</td>\n",
       "    </tr>\n",
       "    <tr>\n",
       "      <th>Individual Dessert</th>\n",
       "      <td>54172.2</td>\n",
       "    </tr>\n",
       "    <tr>\n",
       "      <th>Meals</th>\n",
       "      <td>39075.6</td>\n",
       "    </tr>\n",
       "    <tr>\n",
       "      <th>POS inside</th>\n",
       "      <td>708.1</td>\n",
       "    </tr>\n",
       "    <tr>\n",
       "      <th>Scoop Ice</th>\n",
       "      <td>279254.7</td>\n",
       "    </tr>\n",
       "  </tbody>\n",
       "</table>\n",
       "</div>"
      ],
      "text/plain": [
       "                     REVENUE\n",
       "FAMILY                      \n",
       "Assortments          61107.9\n",
       "BIG                  10240.0\n",
       "Coffee               31738.7\n",
       "Cups                110634.7\n",
       "Garniture            13203.1\n",
       "Hand Ice            399042.2\n",
       "Ice Cakes            62868.9\n",
       "Individual Dessert   54172.2\n",
       "Meals                39075.6\n",
       "POS inside             708.1\n",
       "Scoop Ice           279254.7"
      ]
     },
     "execution_count": 154,
     "metadata": {},
     "output_type": "execute_result"
    }
   ],
   "source": [
    "# check the proportion of sold products\n",
    "\n",
    "hvc_revenue_family"
   ]
  },
  {
   "cell_type": "code",
   "execution_count": 155,
   "id": "d4c903b3",
   "metadata": {
    "scrolled": true
   },
   "outputs": [
    {
     "data": {
      "text/html": [
       "<div>\n",
       "<style scoped>\n",
       "    .dataframe tbody tr th:only-of-type {\n",
       "        vertical-align: middle;\n",
       "    }\n",
       "\n",
       "    .dataframe tbody tr th {\n",
       "        vertical-align: top;\n",
       "    }\n",
       "\n",
       "    .dataframe thead th {\n",
       "        text-align: right;\n",
       "    }\n",
       "</style>\n",
       "<table border=\"1\" class=\"dataframe\">\n",
       "  <thead>\n",
       "    <tr style=\"text-align: right;\">\n",
       "      <th></th>\n",
       "      <th>REVENUE</th>\n",
       "      <th>FREQUENCY_OF_REVENUE</th>\n",
       "    </tr>\n",
       "    <tr>\n",
       "      <th>AR0_NRID</th>\n",
       "      <th></th>\n",
       "      <th></th>\n",
       "    </tr>\n",
       "  </thead>\n",
       "  <tbody>\n",
       "    <tr>\n",
       "      <th>290318679</th>\n",
       "      <td>258.3</td>\n",
       "      <td>0.09</td>\n",
       "    </tr>\n",
       "    <tr>\n",
       "      <th>23702</th>\n",
       "      <td>257.3</td>\n",
       "      <td>0.09</td>\n",
       "    </tr>\n",
       "    <tr>\n",
       "      <th>23704</th>\n",
       "      <td>166.0</td>\n",
       "      <td>0.06</td>\n",
       "    </tr>\n",
       "    <tr>\n",
       "      <th>23701</th>\n",
       "      <td>141.1</td>\n",
       "      <td>0.05</td>\n",
       "    </tr>\n",
       "    <tr>\n",
       "      <th>23703</th>\n",
       "      <td>107.9</td>\n",
       "      <td>0.04</td>\n",
       "    </tr>\n",
       "    <tr>\n",
       "      <th>17811288175050</th>\n",
       "      <td>49.8</td>\n",
       "      <td>0.02</td>\n",
       "    </tr>\n",
       "    <tr>\n",
       "      <th>18424244393052</th>\n",
       "      <td>33.2</td>\n",
       "      <td>0.01</td>\n",
       "    </tr>\n",
       "    <tr>\n",
       "      <th>23712</th>\n",
       "      <td>33.2</td>\n",
       "      <td>0.01</td>\n",
       "    </tr>\n",
       "    <tr>\n",
       "      <th>19864988676644</th>\n",
       "      <td>32.4</td>\n",
       "      <td>0.01</td>\n",
       "    </tr>\n",
       "    <tr>\n",
       "      <th>23794</th>\n",
       "      <td>18.8</td>\n",
       "      <td>0.01</td>\n",
       "    </tr>\n",
       "    <tr>\n",
       "      <th>23797</th>\n",
       "      <td>9.4</td>\n",
       "      <td>0.00</td>\n",
       "    </tr>\n",
       "    <tr>\n",
       "      <th>23796</th>\n",
       "      <td>9.4</td>\n",
       "      <td>0.00</td>\n",
       "    </tr>\n",
       "    <tr>\n",
       "      <th>23705</th>\n",
       "      <td>8.3</td>\n",
       "      <td>0.00</td>\n",
       "    </tr>\n",
       "    <tr>\n",
       "      <th>64412289</th>\n",
       "      <td>0.0</td>\n",
       "      <td>0.00</td>\n",
       "    </tr>\n",
       "    <tr>\n",
       "      <th>64270183</th>\n",
       "      <td>0.0</td>\n",
       "      <td>0.00</td>\n",
       "    </tr>\n",
       "    <tr>\n",
       "      <th>52595603</th>\n",
       "      <td>0.0</td>\n",
       "      <td>0.00</td>\n",
       "    </tr>\n",
       "  </tbody>\n",
       "</table>\n",
       "</div>"
      ],
      "text/plain": [
       "                REVENUE  FREQUENCY_OF_REVENUE\n",
       "AR0_NRID                                     \n",
       "290318679         258.3                  0.09\n",
       "23702             257.3                  0.09\n",
       "23704             166.0                  0.06\n",
       "23701             141.1                  0.05\n",
       "23703             107.9                  0.04\n",
       "17811288175050     49.8                  0.02\n",
       "18424244393052     33.2                  0.01\n",
       "23712              33.2                  0.01\n",
       "19864988676644     32.4                  0.01\n",
       "23794              18.8                  0.01\n",
       "23797               9.4                  0.00\n",
       "23796               9.4                  0.00\n",
       "23705               8.3                  0.00\n",
       "64412289            0.0                  0.00\n",
       "64270183            0.0                  0.00\n",
       "52595603            0.0                  0.00"
      ]
     },
     "execution_count": 155,
     "metadata": {},
     "output_type": "execute_result"
    }
   ],
   "source": [
    "#check the top products per family so we can drop certain products that do not generate enough\n",
    "# sidenote with the graph about products per family and revenue per family\n",
    "\n",
    "agg_dict = {'REVENUE': np.sum}\n",
    "hvc_revenue_product = hvc_ar0_visitresultdetails.groupby('AR0_NRID').agg(agg_dict)\n",
    "\n",
    "hvc_revenue_product_family = pd.merge(hvc_revenue_product,hvc_ar0, on = \"AR0_NRID\")\n",
    "hvc_revenue_product_family = hvc_revenue_product_family[hvc_revenue_product_family['FAMILY'].notna()]\n",
    "\n",
    "def topproductsperfamily(specificfamily):\n",
    "    hvc_revenue_product_family_Specificfamily = hvc_revenue_product_family[hvc_revenue_product_family[\"FAMILY\"] == specificfamily].sort_values(\"REVENUE\", ascending = False)\n",
    "    total_revenue_family = hvc_revenue_product_family[hvc_revenue_product_family[\"FAMILY\"] == specificfamily][\"REVENUE\"].sum()\n",
    "    frequency_family = []\n",
    "    for index, row in hvc_revenue_product_family_Specificfamily.iterrows():\n",
    "        frequency_family.append(round((100 * row.REVENUE)/total_revenue_family,2))\n",
    "    hvc_revenue_product_family_Specificfamily[\"FREQUENCY_OF_REVENUE\"] = frequency_family\n",
    "    hvc_revenue_product_family_Specificfamily.set_index(\"AR0_NRID\", inplace = True)\n",
    "    return hvc_revenue_product_family_Specificfamily[[\"REVENUE\", \"FREQUENCY_OF_REVENUE\"]]\n",
    "scoop_ice = topproductsperfamily(\"Scoop Ice\")\n",
    "scoop_ice[scoop_ice[\"FREQUENCY_OF_REVENUE\"] < 0.1]\n"
   ]
  },
  {
   "cell_type": "markdown",
   "id": "57a389ab",
   "metadata": {},
   "source": [
    "### Making a recommendation engine"
   ]
  },
  {
   "cell_type": "markdown",
   "id": "df7151b7",
   "metadata": {},
   "source": [
    "#### Preparations"
   ]
  },
  {
   "cell_type": "code",
   "execution_count": 33,
   "id": "ea958332",
   "metadata": {},
   "outputs": [],
   "source": [
    "transactions_details_df = pd.merge(left=hvc_hvvisitresult, right=hvc_visitresultdetails, on=\"HVVISITRESULT_NRID\", how=\"inner\")"
   ]
  },
  {
   "cell_type": "code",
   "execution_count": 34,
   "id": "eec7d664",
   "metadata": {},
   "outputs": [],
   "source": [
    "# put the column \"AR0_NRID\" of hvc_visitresultdetails_correlatedproducts in a list \n",
    "# so that it is easier to work with\n",
    "\n",
    "# get unique transactions\n",
    "trans_ids = transactions_details_df[\"HVVISITRESULT_NRID\"].unique().tolist()\n",
    "\n",
    "# initialize container\n",
    "trans_products = []\n",
    "\n",
    "# loop through all the transactions\n",
    "for trans_id in trans_ids:\n",
    "    # get unique products that were bought during transaction\n",
    "    products = transactions_details_df[transactions_details_df[\"HVVISITRESULT_NRID\"] == trans_id][\"AR0_NRID\"].unique().tolist()\n",
    "    # add to container\n",
    "    trans_products.append(products)"
   ]
  },
  {
   "cell_type": "code",
   "execution_count": 35,
   "id": "e0a6513a",
   "metadata": {},
   "outputs": [],
   "source": [
    "#function to get the most correlated product of a product\n",
    "def get_correlated_product(product_id):    \n",
    "    # initialize empty container\n",
    "    other_products = []\n",
    "    # loop through the transactions\n",
    "    for products in trans_products:\n",
    "        # check if product_id was bought in transaction\n",
    "            if product_id in products:\n",
    "            # loop through the products that were bought in that transaction\n",
    "                for product in products:\n",
    "                    if product != product_id:\n",
    "                        # add product to container\n",
    "                        other_products.append(product)\n",
    "    \n",
    "    return mode(other_products)"
   ]
  },
  {
   "cell_type": "code",
   "execution_count": 36,
   "id": "b72b3433",
   "metadata": {},
   "outputs": [],
   "source": [
    "# define a function that accepts a customer id, the transactions data, transactions details data and product data\n",
    "def get_products_customer(cust_id):\n",
    "    # join transactions with transaction details with products\n",
    "    transactions_products = hvc_hvvisitresult.merge(hvc_visitresultdetails, on=\"HVVISITRESULT_NRID\", how=\"inner\") \\\n",
    "                                        .merge(hvc_ar0, on=\"AR0_NRID\", how=\"inner\")\n",
    "    # get transactions of customer \n",
    "    transactions_products_cust = transactions_products[transactions_products[\"SO0_NRID\"] == cust_id]\n",
    "    # only get transactions of succesfull visits\n",
    "    transactions_products_cust = transactions_products_cust[transactions_products_cust[\"HVOUTCOME_NRID\"] == 2]\n",
    "    # return\n",
    "    return transactions_products_cust[\"AR0_NRID\"].unique()"
   ]
  },
  {
   "cell_type": "code",
   "execution_count": 37,
   "id": "97d4f4d3",
   "metadata": {},
   "outputs": [],
   "source": [
    "#function to get the region of a customer based on the route he is in\n",
    "def get_region_customer(customerid):\n",
    "    #merge the correct df\n",
    "    hvc_so0_routetemplate = pd.merge(hvc_so0, hvc_hvroutetemplate, on = \"HVROUTETEMPLATE_NRID\", how = \"inner\")\n",
    "    #set the index for loc\n",
    "    hvc_so0_routetemplate = hvc_so0_routetemplate.set_index(\"SO0_NRID\")\n",
    "    #get the region out of the df\n",
    "    region = hvc_so0_routetemplate.loc[customerid][\"REGION\"]\n",
    "    return region"
   ]
  },
  {
   "cell_type": "code",
   "execution_count": 46,
   "id": "d11ff35d",
   "metadata": {},
   "outputs": [],
   "source": [
    "#function to get correlated products of customer based on previous product purchases\n",
    "def get_top_correlated_products(cust_id):\n",
    "    #initialize local variables\n",
    "    products = get_products_customer(cust_id)\n",
    "    correlated_products = []\n",
    "    #get correlated products out of function and list of bought products\n",
    "    for product in products:\n",
    "            correlated_products.append(get_correlated_product(product))\n",
    "    correlated_products = np.unique(correlated_products)\n",
    "    return correlated_products"
   ]
  },
  {
   "cell_type": "code",
   "execution_count": 77,
   "id": "70d9ab64",
   "metadata": {},
   "outputs": [],
   "source": [
    "#Make recency, freq and monetary value table of all customers\n",
    "#Recency\n",
    "rec = hvc_hvvisitresult[hvc_hvvisitresult[\"HVOUTCOME_NRID\"] == 2].groupby(\"SO0_NRID\")[\"DATEONLY\"].max().reset_index()\n",
    "rec[\"REC\"] = rec[\"DATEONLY\"].apply(lambda x: (datetime.now() - x).days)\n",
    "rec = rec.drop(\"DATEONLY\", axis = 1)\n",
    "\n",
    "#Frequency\n",
    "freq = hvc_hvvisitresult[hvc_hvvisitresult[\"HVOUTCOME_NRID\"] == 2].groupby(\"SO0_NRID\")[\"HVVISITRESULT_NRID\"].count().reset_index()\n",
    "freq = freq.rename(columns = {\"HVVISITRESULT_NRID\": \"FREQ\"})\n",
    "\n",
    "#Monetary Value\n",
    "mon = hvc_hvvisitresult[hvc_hvvisitresult[\"HVOUTCOME_NRID\"] == 2].groupby(\"SO0_NRID\")[\"AMOUNT\"].sum().reset_index()\n",
    "mon = mon.rename(columns = {\"AMOUNT\": \"MON\"})\n",
    "\n",
    "#Join all the tables\n",
    "cust_info = rec.merge(freq, on = \"SO0_NRID\", how = \"inner\").merge(mon, on = \"SO0_NRID\", how = \"inner\")"
   ]
  },
  {
   "cell_type": "code",
   "execution_count": 111,
   "id": "8a29a01d",
   "metadata": {},
   "outputs": [],
   "source": [
    "# define function to get most similar customer\n",
    "def get_most_similar_cust(cust_id):\n",
    "    try:\n",
    "        # initialize cosine dist\n",
    "        best_cos_sim = 0\n",
    "        # initialize most similar cust\n",
    "        sim_cust= None\n",
    "\n",
    "        # get feature vector of customer\n",
    "        feature_vector_x = np.array(cust_info[cust_info[\"SO0_NRID\"] == cust_id][[\"MON\", \"FREQ\", \"REC\"]])\n",
    "\n",
    "        # loop through other customers \n",
    "        for i in range(len(cust_info)):\n",
    "\n",
    "            # get cust id\n",
    "            other_cust_id =int(cust_info[\"SO0_NRID\"].iloc[i])\n",
    "\n",
    "            # make sure we only get other customers\n",
    "            if other_cust_id != cust_id:\n",
    "\n",
    "                # get feature vector from other customer\n",
    "                feature_vector_y = np.array(cust_info[cust_info[\"SO0_NRID\"] == other_cust_id][[\"MON\",\"FREQ\",\"REC\"]])\n",
    "                # get cosine similarity\n",
    "                cos_sim = cosine_similarity(feature_vector_x,feature_vector_y)[0][0]\n",
    "                # check if similarity is higher than current highest similarity and update sim_cust and best_cost_sim\n",
    "                if cos_sim > best_cos_sim:\n",
    "                    best_cos_sim = cos_sim\n",
    "                    sim_cust = other_cust_id\n",
    "\n",
    "        # return cosine similarity and customer id\n",
    "        return sim_cust\n",
    "    except:\n",
    "        return cust_id"
   ]
  },
  {
   "cell_type": "code",
   "execution_count": 117,
   "id": "c8f9bcea",
   "metadata": {},
   "outputs": [],
   "source": [
    "def get_recommendedproducts_similarcust(cust_id):\n",
    "    transactions_details_df = pd.merge(left=hvc_hvvisitresult, right=hvc_visitresultdetails, on=\"HVVISITRESULT_NRID\", how=\"inner\")\n",
    "    #get most similar customer\n",
    "    similar_cust = get_most_similar_cust(cust_id)\n",
    "    if(similar_cust != cust_id):\n",
    "        # get all products bought by customer\n",
    "        products_cust = set(transactions_details_df[transactions_details_df[\"SO0_NRID\"] == cust_id][\"AR0_NRID\"])\n",
    "        # get all products bought by most similar customer\n",
    "        products_other_cust = set(transactions_details_df[transactions_details_df[\"SO0_NRID\"] == similar_cust][\"AR0_NRID\"])\n",
    "        # get products bought by most similar customer but not yet by customer\n",
    "        return np.array(list(products_other_cust.difference(products_cust)))\n",
    "    else:\n",
    "        return cust_id"
   ]
  },
  {
   "cell_type": "markdown",
   "id": "27b13c36",
   "metadata": {},
   "source": [
    "#### Engine"
   ]
  },
  {
   "cell_type": "code",
   "execution_count": 141,
   "id": "fe3f510b",
   "metadata": {},
   "outputs": [],
   "source": [
    "#def recommendation_engine(cust_id):\n",
    "    ##get best correlated products based on previous products\n",
    "    #correlated_products = get_top_correlated_products(cust_id)\n",
    "    ##get most bought products of region customer\n",
    "    #top_region_customer = productsregionfct(get_region_customer(cust_id))\n",
    "    ##get recommended products of most similar customer\n",
    "    #recommended_similar_cust = get_recommendedproducts_similarcust(cust_id)\n",
    "    ##check the sizes + check if there is an intercept between the arrays\n",
    "    #if(correlated_products.size != 0):\n",
    "     #   if(np.intersect1d(correlated_products, top_region_customer).size != 0):\n",
    "      #      recommended_products = np.intersect1d(correlated_products, top_region_customer)\n",
    "       #     if(np.intersect1d(recommended_products, recommended_similar_cust).size != 0):\n",
    "        #        recommended_products = np.intersect1d(recommended_products, recommended_similar_cust)\n",
    "         #   else:\n",
    "          #      recommended_products = np.intersect1d(correlated_products, top_region_customer)\n",
    "           #     print(\"There is no intersect with region, most corr products and similar customer products. We recommend the products that correlate best with current products and region.\")\n",
    "        #else:\n",
    "         #   print(\"There is no intersect with region, we recommend the products that correlate best with current products.\")\n",
    "        #    recommended_products = correlated_products\n",
    "    #else:\n",
    "     #   print(\"Customer did not buy anything, we recommend the regional products.\")\n",
    "      #  recommended_products = top_region_customer\n",
    "    ##return\n",
    "    #return print(\"Recommended products are:\",recommended_products)"
   ]
  },
  {
   "cell_type": "code",
   "execution_count": 137,
   "id": "412c8122",
   "metadata": {},
   "outputs": [],
   "source": [
    "def recommendation_engine(cust_id):\n",
    "    #initialize recommended products\n",
    "    recommended_products = []\n",
    "    #get best correlated products based on previous products\n",
    "    correlated_products = get_top_correlated_products(cust_id)\n",
    "    #get most bought products of region customer\n",
    "    top_region_customer = productsregionfct(get_region_customer(cust_id))\n",
    "    #get recommended products of most similar customer\n",
    "    if(isinstance(get_recommendedproducts_similarcust, str)):\n",
    "        return print(\"The customer is not visited\")\n",
    "    else:\n",
    "        recommended_similar_cust = get_recommendedproducts_similarcust(cust_id)\n",
    "        #check the sizes + check if there is an intercept between the arrays\n",
    "        if(correlated_products.size != 0):\n",
    "            if(np.intersect1d(np.intersect1d(correlated_products, recommended_similar_cust), top_region_customer).size != 0):\n",
    "                recommended_products = np.intersect1d(np.intersect1d(correlated_products, recommended_similar_cust), top_region_customer)\n",
    "                return print(\"Recommended products based on similar customers, region and correlated products:\",recommended_products)\n",
    "            else:\n",
    "                print(\"There is no intersect with region, most corr products and similar customer products.\")\n",
    "                if((np.intersect1d(correlated_products, recommended_similar_cust).size != 0) & (np.intersect1d(correlated_products, top_region_customer).size != 0)):\n",
    "                    recommended_products_simcust = np.intersect1d(correlated_products, recommended_similar_cust)\n",
    "                    recommended_products_region = np.intersect1d(correlated_products, top_region_customer)\n",
    "                    return print(\"Recommended products based on similar customers and correlated products:\", recommended_products_simcust,\"\\nRecommended products based on region and correlated products:\", recommended_products_region)\n",
    "                elif(np.intersect1d(correlated_products, recommended_similar_cust).size != 0):\n",
    "                    recommended_products = np.intersect1d(correlated_products, recommended_similar_cust)\n",
    "                    return print(\"Recommended products based on similar customers and correlated products:\",recommended_products)\n",
    "                elif(np.intersect1d(correlated_products, top_region_customer).size != 0):\n",
    "                    recommended_products = np.intersect1d(correlated_products, top_region_customer)\n",
    "                    return print(\"Recommended products based on region and correlated products:\",recommended_products)\n",
    "        else:\n",
    "            #customer did not buy anything, check region\n",
    "            print(\"Customer did not buy anything, we recommend the regional products.\")\n",
    "            recommended_products = top_region_customer\n",
    "            return print(\"Recommended products are:\",recommended_products)"
   ]
  },
  {
   "cell_type": "code",
   "execution_count": 140,
   "id": "0aad6617",
   "metadata": {
    "scrolled": true
   },
   "outputs": [
    {
     "name": "stdout",
     "output_type": "stream",
     "text": [
      "There is no intersect with region, most corr products and similar customer products.\n",
      "Recommended products based on region and correlated products: [23678 23716]\n"
     ]
    }
   ],
   "source": [
    "recommendation_engine(1394475)"
   ]
  },
  {
   "cell_type": "code",
   "execution_count": 139,
   "id": "84f47791",
   "metadata": {
    "scrolled": true
   },
   "outputs": [
    {
     "data": {
      "text/plain": [
       "SO0_NRID                  1394475\n",
       "HVROUTETEMPLATE_NRID    289655594\n",
       "CUST_TYPE                 Private\n",
       "POSTCODE                     3500\n",
       "LANGUAGE                    nl-BE\n",
       "SEASON_TYPE              All time\n",
       "Name: 2650, dtype: object"
      ]
     },
     "execution_count": 139,
     "metadata": {},
     "output_type": "execute_result"
    }
   ],
   "source": [
    "hvc_so0.iloc[2650]"
   ]
  }
 ],
 "metadata": {
  "kernelspec": {
   "display_name": "Python 3 (ipykernel)",
   "language": "python",
   "name": "python3"
  },
  "language_info": {
   "codemirror_mode": {
    "name": "ipython",
    "version": 3
   },
   "file_extension": ".py",
   "mimetype": "text/x-python",
   "name": "python",
   "nbconvert_exporter": "python",
   "pygments_lexer": "ipython3",
   "version": "3.9.7"
  }
 },
 "nbformat": 4,
 "nbformat_minor": 5
}
