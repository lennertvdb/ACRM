{
 "cells": [
  {
   "cell_type": "code",
   "execution_count": 1,
   "id": "ed2aac14",
   "metadata": {},
   "outputs": [
    {
     "ename": "ModuleNotFoundError",
     "evalue": "No module named 'geopandas'",
     "output_type": "error",
     "traceback": [
      "\u001b[1;31m---------------------------------------------------------------------------\u001b[0m",
      "\u001b[1;31mModuleNotFoundError\u001b[0m                       Traceback (most recent call last)",
      "\u001b[1;32m<ipython-input-1-396b14045e6b>\u001b[0m in \u001b[0;36m<module>\u001b[1;34m\u001b[0m\n\u001b[0;32m      5\u001b[0m \u001b[1;32mimport\u001b[0m \u001b[0mmatplotlib\u001b[0m\u001b[1;33m.\u001b[0m\u001b[0mpyplot\u001b[0m \u001b[1;32mas\u001b[0m \u001b[0mplt\u001b[0m\u001b[1;33m\u001b[0m\u001b[1;33m\u001b[0m\u001b[0m\n\u001b[0;32m      6\u001b[0m \u001b[1;32mimport\u001b[0m \u001b[0mseaborn\u001b[0m \u001b[1;32mas\u001b[0m \u001b[0msns\u001b[0m\u001b[1;33m\u001b[0m\u001b[1;33m\u001b[0m\u001b[0m\n\u001b[1;32m----> 7\u001b[1;33m \u001b[1;32mimport\u001b[0m \u001b[0mgeopandas\u001b[0m \u001b[1;32mas\u001b[0m \u001b[0mgpd\u001b[0m\u001b[1;33m\u001b[0m\u001b[1;33m\u001b[0m\u001b[0m\n\u001b[0m\u001b[0;32m      8\u001b[0m \u001b[1;33m\u001b[0m\u001b[0m\n",
      "\u001b[1;31mModuleNotFoundError\u001b[0m: No module named 'geopandas'"
     ]
    }
   ],
   "source": [
    "# import the packages\n",
    "import pandas as pd\n",
    "import numpy as np\n",
    "import datetime\n",
    "import matplotlib.pyplot as plt\n",
    "import seaborn as sns\n",
    "import geopandas as gpd\n",
    "\n"
   ]
  },
  {
   "cell_type": "markdown",
   "id": "90cceedf",
   "metadata": {},
   "source": [
    "# 1 Import data"
   ]
  },
  {
   "cell_type": "code",
   "execution_count": 2,
   "id": "69f66de8",
   "metadata": {},
   "outputs": [],
   "source": [
    "# import the data into pandas dataframes\n",
    "hvc_am0 = pd.read_csv(\"../ACRM-GROUP-13/data/HVC_AM0.csv\", sep=\";\")\n",
    "hvc_ar0 = pd.read_csv(\"../ACRM-GROUP-13/data/HVC_AR0.csv\", sep=\";\")\n",
    "hvc_customer_reviews = pd.read_csv(\"../ACRM-GROUP-13/data/HVC_CUSTOMER_REVIEWS.csv\", sep=\";\")\n",
    "hvc_depot = pd.read_csv(\"../ACRM-GROUP-13/data/HVC_DEPOT.csv\", sep=\";\")\n",
    "hvc_hvdayofweek = pd.read_csv(\"../ACRM-GROUP-13/data/HVC_HVDAYOFWEEK.csv\", sep=\";\")\n",
    "hvc_hvposition = pd.read_csv(\"../ACRM-GROUP-13/data/HVC_HVPOSITION.csv\", sep=\";\")\n",
    "hvc_hvroutetemplate = pd.read_csv(\"../ACRM-GROUP-13/data/HVC_HVROUTETEMPLATE.csv\", sep=\";\")\n",
    "hvc_hvvisitoutcome = pd.read_csv(\"../ACRM-GROUP-13/data/HVC_HVVISITOUTCOME.csv\", sep=\";\")\n",
    "hvc_hvvisitresult = pd.read_csv(\"../ACRM-GROUP-13/data/HVC_HVVISITRESULT.csv\", sep=\";\")\n",
    "hvc_so0 = pd.read_csv(\"../ACRM-GROUP-13/data/HVC_SO0.csv\", sep=\";\")\n",
    "hvc_visitresultdetails = pd.read_csv(\"../ACRM-GROUP-13/data/HVC_VISITRESULTDETAILS.csv\", sep=\";\")"
   ]
  },
  {
   "cell_type": "code",
   "execution_count": 3,
   "id": "d5ac0b5e",
   "metadata": {},
   "outputs": [],
   "source": [
    "#Data conversion\n",
    "hvc_hvdayofweek[\"HVDAYOFWEEK_NRID\"] = hvc_hvdayofweek[\"HVDAYOFWEEK_NRID\"].astype(int)\n",
    "hvc_hvroutetemplate[\"HVROUTETEMPLATE_NRID\"] = hvc_hvroutetemplate[\"HVROUTETEMPLATE_NRID\"].astype(int)\n",
    "hvc_hvroutetemplate[\"HVDAYOFWEEK_NRID\"] = hvc_hvroutetemplate[\"HVDAYOFWEEK_NRID\"].astype(int)\n",
    "hvc_hvroutetemplate[\"WEEKORDER\"] = hvc_hvroutetemplate[\"WEEKORDER\"].astype(int)\n",
    "hvc_hvvisitoutcome[\"HVOUTCOME_NRID\"] = hvc_hvvisitoutcome[\"HVOUTCOME_NRID\"].astype(int)\n",
    "hvc_visitresultdetails[\"HVVISITRESULT_NRID\"] = hvc_visitresultdetails[\"HVVISITRESULT_NRID\"].astype(int)\n",
    "hvc_so0[\"SO0_NRID\"] = hvc_so0[\"SO0_NRID\"].astype(int)\n",
    "hvc_so0[\"HVROUTETEMPLATE_NRID\"] = hvc_so0[\"HVROUTETEMPLATE_NRID\"].astype(int)\n",
    "hvc_hvvisitresult[\"DATEONLY\"] = pd.to_datetime(hvc_hvvisitresult[\"DATEONLY\"])\n",
    "hvc_hvvisitresult[\"VISITDATE\"] = pd.to_datetime(hvc_hvvisitresult[\"VISITDATE\"])"
   ]
  },
  {
   "cell_type": "markdown",
   "id": "f3ed1eb4",
   "metadata": {},
   "source": [
    "## 2 Explore the Data"
   ]
  },
  {
   "cell_type": "markdown",
   "id": "d0e2d3d4",
   "metadata": {},
   "source": [
    "## 2.1 hvc_customer_reviews"
   ]
  },
  {
   "cell_type": "code",
   "execution_count": null,
   "id": "7a196d7b",
   "metadata": {
    "scrolled": true
   },
   "outputs": [],
   "source": [
    "# inspect table\n",
    "hvc_customer_reviews"
   ]
  },
  {
   "cell_type": "code",
   "execution_count": null,
   "id": "906779df",
   "metadata": {
    "scrolled": true
   },
   "outputs": [],
   "source": [
    "# inspect the first 5 reviews\n",
    "hvc_customer_reviews.head(5)"
   ]
  },
  {
   "cell_type": "code",
   "execution_count": null,
   "id": "47a61070",
   "metadata": {},
   "outputs": [],
   "source": [
    "# inspect the total number of reviews\n",
    "len(hvc_customer_reviews[\"SO0_NRID\"].unique())"
   ]
  },
  {
   "cell_type": "code",
   "execution_count": null,
   "id": "2c676c37",
   "metadata": {},
   "outputs": [],
   "source": [
    "# checking dtypes\n",
    "hvc_customer_reviews.dtypes"
   ]
  },
  {
   "cell_type": "code",
   "execution_count": null,
   "id": "25b0206f",
   "metadata": {},
   "outputs": [],
   "source": [
    "# checking kind of reviews\n",
    "pd.unique(hvc_customer_reviews[\"REVIEW\"])"
   ]
  },
  {
   "cell_type": "code",
   "execution_count": null,
   "id": "dfb13b64",
   "metadata": {},
   "outputs": [],
   "source": [
    "# inspect some descriptive statistics with respect to the transaction amount\n",
    "hvc_customer_reviews[\"REVIEW\"].describe()"
   ]
  },
  {
   "cell_type": "code",
   "execution_count": null,
   "id": "b1fa1cc1",
   "metadata": {},
   "outputs": [],
   "source": [
    "# proportion of good or excellent reviews\n",
    "sum((hvc_customer_reviews[\"REVIEW\"] == \"Good service, satisfied\") + (hvc_customer_reviews[\"REVIEW\"] == \"Excellent service, very satisfied\")) / len(hvc_customer_reviews)"
   ]
  },
  {
   "cell_type": "code",
   "execution_count": null,
   "id": "bd4e5f52",
   "metadata": {},
   "outputs": [],
   "source": [
    "# proportion of excellent reviews\n",
    "sum((hvc_customer_reviews[\"REVIEW\"] == \"Excellent service, very satisfied\")) / len(hvc_customer_reviews)\n",
    "\n"
   ]
  },
  {
   "cell_type": "code",
   "execution_count": null,
   "id": "9a012196",
   "metadata": {},
   "outputs": [],
   "source": [
    "# proportion of good reviews\n",
    "sum((hvc_customer_reviews[\"REVIEW\"] == \"Good service,  satisfied\")) / len(hvc_customer_reviews)"
   ]
  },
  {
   "cell_type": "code",
   "execution_count": null,
   "id": "af87278b",
   "metadata": {},
   "outputs": [],
   "source": [
    "# proportion of terrible reviews\n",
    "sum((hvc_customer_reviews[\"REVIEW\"] == \"Very bad service, very unsatisfied\")) / len(hvc_customer_reviews)"
   ]
  },
  {
   "cell_type": "markdown",
   "id": "6f18dd93",
   "metadata": {},
   "source": [
    "## 2.2 hvc_hvpostition"
   ]
  },
  {
   "cell_type": "code",
   "execution_count": null,
   "id": "0f3468f4",
   "metadata": {},
   "outputs": [],
   "source": [
    "# customer position\n",
    "hvc_hvposition"
   ]
  },
  {
   "cell_type": "code",
   "execution_count": null,
   "id": "536b3184",
   "metadata": {},
   "outputs": [],
   "source": [
    "# inspect first 5 observations of customer location\n",
    "hvc_hvposition.head(5)"
   ]
  },
  {
   "cell_type": "code",
   "execution_count": null,
   "id": "1fa739c2",
   "metadata": {
    "scrolled": true
   },
   "outputs": [],
   "source": [
    "# inspect last 5 observations of customer location\n",
    "hvc_hvposition.tail(5)"
   ]
  },
  {
   "cell_type": "code",
   "execution_count": null,
   "id": "9619b500",
   "metadata": {},
   "outputs": [],
   "source": [
    "# total number of locations of unique customers\n",
    "len(hvc_hvposition[\"SO0_NRID\"].unique())"
   ]
  },
  {
   "cell_type": "code",
   "execution_count": null,
   "id": "c48be812",
   "metadata": {},
   "outputs": [],
   "source": [
    "# more locations then customers\n",
    "len(hvc_hvposition[\"SO0_NRID\"].unique()) > len(hvc_so0[\"SO0_NRID\"].unique())\n"
   ]
  },
  {
   "cell_type": "markdown",
   "id": "db21d35c",
   "metadata": {},
   "source": [
    "## 2.3 hvc_so0_nrid"
   ]
  },
  {
   "cell_type": "code",
   "execution_count": null,
   "id": "36bcc230",
   "metadata": {},
   "outputs": [],
   "source": [
    "# inspect first 5 observations of customers\n",
    "hvc_so0.head(5)"
   ]
  },
  {
   "cell_type": "code",
   "execution_count": null,
   "id": "2c4795a8",
   "metadata": {
    "scrolled": true
   },
   "outputs": [],
   "source": [
    "# inspect last 5 observations of customers\n",
    "hvc_so0.tail(5)"
   ]
  },
  {
   "cell_type": "code",
   "execution_count": null,
   "id": "0ff67d9a",
   "metadata": {},
   "outputs": [],
   "source": [
    "# inspect total number of unique customers\n",
    "len(hvc_so0[\"SO0_NRID\"].unique())"
   ]
  },
  {
   "cell_type": "code",
   "execution_count": null,
   "id": "607ef0ef",
   "metadata": {},
   "outputs": [],
   "source": [
    "# get some descriptive statistics with respect to the spoken language as well as the season type of the customers\n",
    "hvc_so0[[\"LANGUAGE\", \"SEASON_TYPE\"]].describe()"
   ]
  },
  {
   "cell_type": "code",
   "execution_count": null,
   "id": "ef43424a",
   "metadata": {
    "scrolled": true
   },
   "outputs": [],
   "source": [
    "# get the counts for every season type\n",
    "hvc_so0[\"SEASON_TYPE\"].value_counts()"
   ]
  },
  {
   "cell_type": "code",
   "execution_count": null,
   "id": "c30c0025",
   "metadata": {},
   "outputs": [],
   "source": [
    "# get the counts for every spoken language\n",
    "hvc_so0[\"LANGUAGE\"].value_counts()"
   ]
  },
  {
   "cell_type": "code",
   "execution_count": 20,
   "id": "6ddeda8c",
   "metadata": {},
   "outputs": [
    {
     "data": {
      "text/plain": [
       "Private     5579\n",
       "Horeca        97\n",
       "Catering      33\n",
       "Name: CUST_TYPE, dtype: int64"
      ]
     },
     "execution_count": 20,
     "metadata": {},
     "output_type": "execute_result"
    }
   ],
   "source": [
    "# get the counts for customer type\n",
    "hvc_so0[\"CUST_TYPE\"].value_counts()"
   ]
  },
  {
   "cell_type": "markdown",
   "id": "2b898eca",
   "metadata": {},
   "source": [
    "# 3 Analysis"
   ]
  },
  {
   "cell_type": "markdown",
   "id": "ee89a89b",
   "metadata": {},
   "source": [
    "## 3.1 Customer locations"
   ]
  },
  {
   "cell_type": "code",
   "execution_count": 107,
   "id": "e99f81b3",
   "metadata": {},
   "outputs": [
    {
     "data": {
      "image/png": "[encoded data removed]",
      "text/plain": [
       "<Figure size 720x720 with 1 Axes>"
      ]
     },
     "metadata": {
      "needs_background": "light"
     },
     "output_type": "display_data"
    }
   ],
   "source": [
    "### Clustering the customer positions\n",
    "\n",
    "## Clustering the longitude and latitude\n",
    "\n",
    "from sklearn.cluster import KMeans\n",
    "plt.figure(figsize = (10,10))\n",
    "\n",
    "# initialize the cluster algorithm with 4 classes\n",
    "kmeans_model = KMeans(n_clusters=4)\n",
    "\n",
    "# fit the kmeans model onto the data\n",
    "kmeans_model.fit(hvc_hvposition[[\"LONG\",\"LAT\"]])\n",
    "\n",
    "# get all the cluster labels\n",
    "cluster_labels = kmeans_model.labels_\n",
    "\n",
    "# define color map\n",
    "color_map = {0: \"green\", 1: \"red\", 2: \"blue\", 3: \"yellow\"}\n",
    "\n",
    "# get colors for each cluster label\n",
    "cluster_colors = [color_map[label] for label in cluster_labels]\n",
    "\n",
    "# plot data with cluster colors\n",
    "plt.scatter(hvc_hvposition[\"LONG\"], hvc_hvposition[\"LAT\"], color=cluster_colors)\n",
    "plt.show()"
   ]
  },
  {
   "cell_type": "code",
   "execution_count": 108,
   "id": "31acc127",
   "metadata": {},
   "outputs": [
    {
     "ename": "NameError",
     "evalue": "name 'gpd' is not defined",
     "output_type": "error",
     "traceback": [
      "\u001b[1;31m---------------------------------------------------------------------------\u001b[0m",
      "\u001b[1;31mNameError\u001b[0m                                 Traceback (most recent call last)",
      "\u001b[1;32m<ipython-input-108-5f9146c4f603>\u001b[0m in \u001b[0;36m<module>\u001b[1;34m\u001b[0m\n\u001b[0;32m      1\u001b[0m \u001b[1;31m# adding a map\u001b[0m\u001b[1;33m\u001b[0m\u001b[1;33m\u001b[0m\u001b[1;33m\u001b[0m\u001b[0m\n\u001b[1;32m----> 2\u001b[1;33m \u001b[0mbelgium\u001b[0m \u001b[1;33m=\u001b[0m \u001b[0mgpd\u001b[0m\u001b[1;33m.\u001b[0m\u001b[0mread_file\u001b[0m\u001b[1;33m(\u001b[0m\u001b[1;34m\"./data/Arrondissementen.json\"\u001b[0m\u001b[1;33m)\u001b[0m\u001b[1;33m\u001b[0m\u001b[1;33m\u001b[0m\u001b[0m\n\u001b[0m\u001b[0;32m      3\u001b[0m \u001b[0mcrs\u001b[0m \u001b[1;33m=\u001b[0m \u001b[1;34m'epsg:4326'\u001b[0m\u001b[1;33m\u001b[0m\u001b[1;33m\u001b[0m\u001b[0m\n\u001b[0;32m      4\u001b[0m \u001b[0mbase\u001b[0m \u001b[1;33m=\u001b[0m \u001b[0mbelgium\u001b[0m\u001b[1;33m.\u001b[0m\u001b[0mplot\u001b[0m\u001b[1;33m(\u001b[0m\u001b[0mcolor\u001b[0m\u001b[1;33m=\u001b[0m\u001b[1;34m'white'\u001b[0m\u001b[1;33m,\u001b[0m \u001b[0medgecolor\u001b[0m\u001b[1;33m=\u001b[0m\u001b[1;34m'black'\u001b[0m\u001b[1;33m,\u001b[0m \u001b[0mfigsize\u001b[0m \u001b[1;33m=\u001b[0m \u001b[1;33m(\u001b[0m\u001b[1;36m20\u001b[0m\u001b[1;33m,\u001b[0m\u001b[1;36m20\u001b[0m\u001b[1;33m)\u001b[0m\u001b[1;33m)\u001b[0m\u001b[1;33m\u001b[0m\u001b[1;33m\u001b[0m\u001b[0m\n\u001b[0;32m      5\u001b[0m \u001b[0mgdf\u001b[0m \u001b[1;33m=\u001b[0m \u001b[0mgpd\u001b[0m\u001b[1;33m.\u001b[0m\u001b[0mGeoDataFrame\u001b[0m\u001b[1;33m(\u001b[0m\u001b[0mhvc_hvposition\u001b[0m\u001b[1;33m,\u001b[0m \u001b[0mcrs\u001b[0m \u001b[1;33m=\u001b[0m \u001b[0mcrs\u001b[0m\u001b[1;33m,\u001b[0m\u001b[0mgeometry\u001b[0m\u001b[1;33m=\u001b[0m\u001b[0mgpd\u001b[0m\u001b[1;33m.\u001b[0m\u001b[0mpoints_from_xy\u001b[0m\u001b[1;33m(\u001b[0m\u001b[0mhvc_hvposition\u001b[0m\u001b[1;33m[\u001b[0m\u001b[1;34m\"LONG\"\u001b[0m\u001b[1;33m]\u001b[0m\u001b[1;33m,\u001b[0m \u001b[0mhvc_hvposition\u001b[0m\u001b[1;33m[\u001b[0m\u001b[1;34m\"LAT\"\u001b[0m\u001b[1;33m]\u001b[0m\u001b[1;33m)\u001b[0m\u001b[1;33m)\u001b[0m\u001b[1;33m\u001b[0m\u001b[1;33m\u001b[0m\u001b[0m\n",
      "\u001b[1;31mNameError\u001b[0m: name 'gpd' is not defined"
     ]
    }
   ],
   "source": [
    "# adding a map\n",
    "belgium = gpd.read_file(\"./data/Arrondissementen.json\")\n",
    "crs = 'epsg:4326'\n",
    "base = belgium.plot(color='white', edgecolor='black', figsize = (20,20))\n",
    "gdf = gpd.GeoDataFrame(hvc_hvposition, crs = crs,geometry=gpd.points_from_xy(hvc_hvposition[\"LONG\"], hvc_hvposition[\"LAT\"]))\n",
    "\n",
    "\n",
    "gdf.plot(ax = base, color = \"red\",markersize = 10)\n",
    "\n",
    "plt.show()"
   ]
  },
  {
   "cell_type": "markdown",
   "id": "e421943a",
   "metadata": {},
   "source": [
    "## 3.2 What do the  customers buy? "
   ]
  },
  {
   "cell_type": "code",
   "execution_count": 4,
   "id": "c10cd724",
   "metadata": {},
   "outputs": [],
   "source": [
    "customer_id = 721110.0"
   ]
  },
  {
   "cell_type": "code",
   "execution_count": 5,
   "id": "3352f1a1",
   "metadata": {},
   "outputs": [],
   "source": [
    "# join transactions with transaction details with products\n",
    "transactions_products = hvc_hvvisitresult.merge(hvc_visitresultdetails, on=\"HVVISITRESULT_NRID\", how=\"inner\")\\\n",
    "                                         .merge(hvc_ar0, on=\"AR0_NRID\", how=\"inner\") "
   ]
  },
  {
   "cell_type": "code",
   "execution_count": 6,
   "id": "284459e3",
   "metadata": {
    "scrolled": true
   },
   "outputs": [
    {
     "data": {
      "text/html": [
       "<div>\n",
       "<style scoped>\n",
       "    .dataframe tbody tr th:only-of-type {\n",
       "        vertical-align: middle;\n",
       "    }\n",
       "\n",
       "    .dataframe tbody tr th {\n",
       "        vertical-align: top;\n",
       "    }\n",
       "\n",
       "    .dataframe thead th {\n",
       "        text-align: right;\n",
       "    }\n",
       "</style>\n",
       "<table border=\"1\" class=\"dataframe\">\n",
       "  <thead>\n",
       "    <tr style=\"text-align: right;\">\n",
       "      <th></th>\n",
       "      <th>HVVISITRESULT_NRID</th>\n",
       "      <th>SO0_NRID</th>\n",
       "      <th>AM0_NRID</th>\n",
       "      <th>HVOUTCOME_NRID</th>\n",
       "      <th>VISITDATE</th>\n",
       "      <th>DATEONLY</th>\n",
       "      <th>AMOUNT</th>\n",
       "      <th>PAYMENTTERM</th>\n",
       "      <th>VISITRESULTDETAILS_NRID</th>\n",
       "      <th>AR0_NRID</th>\n",
       "      <th>QUANTITY</th>\n",
       "      <th>DESCRIPTION</th>\n",
       "      <th>CATEGORY</th>\n",
       "      <th>FAMILY</th>\n",
       "      <th>PRICE</th>\n",
       "    </tr>\n",
       "  </thead>\n",
       "  <tbody>\n",
       "    <tr>\n",
       "      <th>0</th>\n",
       "      <td>55681456</td>\n",
       "      <td>719952</td>\n",
       "      <td>23186288605042</td>\n",
       "      <td>2</td>\n",
       "      <td>2021-10-24 12:20:01</td>\n",
       "      <td>2019-05-06</td>\n",
       "      <td>16.9</td>\n",
       "      <td>cash</td>\n",
       "      <td>55681457</td>\n",
       "      <td>23678</td>\n",
       "      <td>1.0</td>\n",
       "      <td>2,5 L.Vanille</td>\n",
       "      <td>Verkoopsartikel</td>\n",
       "      <td>Scoop Ice</td>\n",
       "      <td>7.4</td>\n",
       "    </tr>\n",
       "    <tr>\n",
       "      <th>1</th>\n",
       "      <td>55681507</td>\n",
       "      <td>1453609</td>\n",
       "      <td>19946584592834</td>\n",
       "      <td>2</td>\n",
       "      <td>2021-10-24 12:13:50</td>\n",
       "      <td>2019-05-06</td>\n",
       "      <td>7.4</td>\n",
       "      <td>cash</td>\n",
       "      <td>55681508</td>\n",
       "      <td>23678</td>\n",
       "      <td>1.0</td>\n",
       "      <td>2,5 L.Vanille</td>\n",
       "      <td>Verkoopsartikel</td>\n",
       "      <td>Scoop Ice</td>\n",
       "      <td>7.4</td>\n",
       "    </tr>\n",
       "    <tr>\n",
       "      <th>2</th>\n",
       "      <td>55714770</td>\n",
       "      <td>1246568</td>\n",
       "      <td>18934048107254</td>\n",
       "      <td>2</td>\n",
       "      <td>2021-10-24 22:08:39</td>\n",
       "      <td>2019-05-06</td>\n",
       "      <td>11.1</td>\n",
       "      <td>cash</td>\n",
       "      <td>55714771</td>\n",
       "      <td>23678</td>\n",
       "      <td>1.0</td>\n",
       "      <td>2,5 L.Vanille</td>\n",
       "      <td>Verkoopsartikel</td>\n",
       "      <td>Scoop Ice</td>\n",
       "      <td>7.4</td>\n",
       "    </tr>\n",
       "  </tbody>\n",
       "</table>\n",
       "</div>"
      ],
      "text/plain": [
       "   HVVISITRESULT_NRID  SO0_NRID        AM0_NRID  HVOUTCOME_NRID  \\\n",
       "0            55681456    719952  23186288605042               2   \n",
       "1            55681507   1453609  19946584592834               2   \n",
       "2            55714770   1246568  18934048107254               2   \n",
       "\n",
       "            VISITDATE   DATEONLY  AMOUNT PAYMENTTERM  VISITRESULTDETAILS_NRID  \\\n",
       "0 2021-10-24 12:20:01 2019-05-06    16.9        cash                 55681457   \n",
       "1 2021-10-24 12:13:50 2019-05-06     7.4        cash                 55681508   \n",
       "2 2021-10-24 22:08:39 2019-05-06    11.1        cash                 55714771   \n",
       "\n",
       "   AR0_NRID  QUANTITY    DESCRIPTION         CATEGORY     FAMILY  PRICE  \n",
       "0     23678       1.0  2,5 L.Vanille  Verkoopsartikel  Scoop Ice    7.4  \n",
       "1     23678       1.0  2,5 L.Vanille  Verkoopsartikel  Scoop Ice    7.4  \n",
       "2     23678       1.0  2,5 L.Vanille  Verkoopsartikel  Scoop Ice    7.4  "
      ]
     },
     "execution_count": 6,
     "metadata": {},
     "output_type": "execute_result"
    }
   ],
   "source": [
    "# check\n",
    "transactions_products.head(3)"
   ]
  },
  {
   "cell_type": "code",
   "execution_count": 7,
   "id": "5a83f406",
   "metadata": {},
   "outputs": [],
   "source": [
    "# get all the transactions for customer\n",
    "transactions_products_customer = transactions_products[transactions_products[\"SO0_NRID\"] == customer_id]\n",
    "\n",
    "# get all transactions with positive outcome\n",
    "transactions_products_customer = transactions_products_customer[transactions_products_customer[\"HVOUTCOME_NRID\"] == 2]"
   ]
  },
  {
   "cell_type": "code",
   "execution_count": 8,
   "id": "a6128ec7",
   "metadata": {},
   "outputs": [
    {
     "data": {
      "text/plain": [
       "22.0"
      ]
     },
     "execution_count": 8,
     "metadata": {},
     "output_type": "execute_result"
    }
   ],
   "source": [
    "# get total number of products bought by the customer\n",
    "transactions_products_customer[\"QUANTITY\"].sum()"
   ]
  },
  {
   "cell_type": "markdown",
   "id": "d731ee00",
   "metadata": {},
   "source": [
    "## 3.3 Unique list of unique products a customer bought"
   ]
  },
  {
   "cell_type": "code",
   "execution_count": null,
   "id": "01d9d52f",
   "metadata": {},
   "outputs": [],
   "source": [
    "# define a function that accepts a customer id, the transactions data, transactions details data and product data\n",
    "def get_products(cust_id, transactions, transaction_details, products):\n",
    "    \n",
    "\n",
    "    # join transactions with transaction details with products\n",
    "    transactions_products = transactions.merge(transaction_details, on=\"HVVISITRESULT_NRID\", how=\"inner\") \\\n",
    "                                        .merge(products, on=\"AR0_NRID\", how=\"inner\")\n",
    "    \n",
    "    # get transactions of customer \n",
    "    transactions_products_cust = transactions_products[transactions_products[\"SO0_NRID\"] == cust_id]\n",
    "    \n",
    "    # only get transactions of succesfull visits\n",
    "    transactions_products_cust = transactions_products_cust[transactions_products_cust[\"HVOUTCOME_NRID\"] == 2]\n",
    "    \n",
    "    # get total amount of products bought by the customer\n",
    "    total_products = transactions_products_cust[\"QUANTITY\"].sum()\n",
    "    \n",
    "    # get total number of unique products bought by the customer\n",
    "    total_unique_products = len(transactions_products_cust[\"DESCRIPTION\"].unique())\n",
    "    \n",
    "    # return\n",
    "    return(total_products, total_unique_products)"
   ]
  },
  {
   "cell_type": "code",
   "execution_count": null,
   "id": "6652ff7b",
   "metadata": {},
   "outputs": [],
   "source": [
    "# check\n",
    "get_products(cust_id=721110.0, \n",
    "                  transactions=hvc_hvvisitresult, \n",
    "                  transaction_details=hvc_visitresultdetails, \n",
    "                  products=hvc_ar0)"
   ]
  },
  {
   "cell_type": "markdown",
   "id": "6824a9bb",
   "metadata": {},
   "source": [
    "## 3.4 Which customers have the highest CLV?\n",
    "\n"
   ]
  },
  {
   "cell_type": "code",
   "execution_count": 12,
   "id": "cd07d07f",
   "metadata": {},
   "outputs": [],
   "source": [
    "def get_clv(cust_id):\n",
    "    \n",
    "    # get customer transactions\n",
    "    transactions=hvc_hvvisitresult\n",
    "    cust_transactions = transactions[transactions[\"SO0_NRID\"] == cust_id]\n",
    "    # get transactions with positive outcome\n",
    "    cust_transactions_pos = cust_transactions[cust_transactions[\"HVOUTCOME_NRID\"] == 2]\n",
    "    # get clv\n",
    "    clv = np.sum(cust_transactions[\"AMOUNT\"])\n",
    "    # return clv\n",
    "    return(clv)"
   ]
  },
  {
   "cell_type": "code",
   "execution_count": 13,
   "id": "fc2d6e08",
   "metadata": {},
   "outputs": [],
   "source": [
    "#add a clv column to every customer\n",
    "all_clv = []\n",
    "#making a list of clv's \n",
    "for i in range(len(hvc_so0)):\n",
    "    all_clv.append(get_clv(cust_id=hvc_so0.iloc[i,0]))\n",
    "#add the list to the df\n",
    "hvc_so0_with_clv = hvc_so0.assign(CLV = all_clv )\n",
    "\n"
   ]
  },
  {
   "cell_type": "code",
   "execution_count": 33,
   "id": "81acfd5d",
   "metadata": {},
   "outputs": [
    {
     "data": {
      "text/plain": [
       "Private     5579\n",
       "Horeca        97\n",
       "Catering      33\n",
       "Name: CUST_TYPE, dtype: int64"
      ]
     },
     "execution_count": 33,
     "metadata": {},
     "output_type": "execute_result"
    }
   ],
   "source": [
    "# get the counts for customer type\n",
    "hvc_so0[\"CUST_TYPE\"].value_counts()"
   ]
  },
  {
   "cell_type": "code",
   "execution_count": 32,
   "id": "0544f9ef",
   "metadata": {
    "scrolled": true
   },
   "outputs": [
    {
     "data": {
      "text/html": [
       "<div>\n",
       "<style scoped>\n",
       "    .dataframe tbody tr th:only-of-type {\n",
       "        vertical-align: middle;\n",
       "    }\n",
       "\n",
       "    .dataframe tbody tr th {\n",
       "        vertical-align: top;\n",
       "    }\n",
       "\n",
       "    .dataframe thead th {\n",
       "        text-align: right;\n",
       "    }\n",
       "</style>\n",
       "<table border=\"1\" class=\"dataframe\">\n",
       "  <thead>\n",
       "    <tr style=\"text-align: right;\">\n",
       "      <th></th>\n",
       "      <th>SO0_NRID</th>\n",
       "      <th>HVROUTETEMPLATE_NRID</th>\n",
       "      <th>CUST_TYPE</th>\n",
       "      <th>POSTCODE</th>\n",
       "      <th>LANGUAGE</th>\n",
       "      <th>SEASON_TYPE</th>\n",
       "      <th>CLV</th>\n",
       "    </tr>\n",
       "  </thead>\n",
       "  <tbody>\n",
       "    <tr>\n",
       "      <th>0</th>\n",
       "      <td>721104</td>\n",
       "      <td>219020601</td>\n",
       "      <td>Private</td>\n",
       "      <td>3930</td>\n",
       "      <td>nl-BE</td>\n",
       "      <td>All time</td>\n",
       "      <td>0.0</td>\n",
       "    </tr>\n",
       "    <tr>\n",
       "      <th>4487</th>\n",
       "      <td>-2147483648</td>\n",
       "      <td>289759476</td>\n",
       "      <td>Private</td>\n",
       "      <td>3640</td>\n",
       "      <td>nl-BE</td>\n",
       "      <td>All time</td>\n",
       "      <td>0.0</td>\n",
       "    </tr>\n",
       "    <tr>\n",
       "      <th>4488</th>\n",
       "      <td>-2147483648</td>\n",
       "      <td>219018687</td>\n",
       "      <td>Private</td>\n",
       "      <td>3950</td>\n",
       "      <td>nl-BE</td>\n",
       "      <td>All time</td>\n",
       "      <td>0.0</td>\n",
       "    </tr>\n",
       "    <tr>\n",
       "      <th>4489</th>\n",
       "      <td>-2147483648</td>\n",
       "      <td>289762482</td>\n",
       "      <td>Private</td>\n",
       "      <td>3680</td>\n",
       "      <td>nl-BE</td>\n",
       "      <td>All time</td>\n",
       "      <td>0.0</td>\n",
       "    </tr>\n",
       "    <tr>\n",
       "      <th>4490</th>\n",
       "      <td>-2147483648</td>\n",
       "      <td>289419955</td>\n",
       "      <td>Private</td>\n",
       "      <td>3550</td>\n",
       "      <td>nl-BE</td>\n",
       "      <td>All time</td>\n",
       "      <td>0.0</td>\n",
       "    </tr>\n",
       "    <tr>\n",
       "      <th>...</th>\n",
       "      <td>...</td>\n",
       "      <td>...</td>\n",
       "      <td>...</td>\n",
       "      <td>...</td>\n",
       "      <td>...</td>\n",
       "      <td>...</td>\n",
       "      <td>...</td>\n",
       "    </tr>\n",
       "    <tr>\n",
       "      <th>2387</th>\n",
       "      <td>1455143</td>\n",
       "      <td>289764486</td>\n",
       "      <td>Horeca</td>\n",
       "      <td>3680</td>\n",
       "      <td>nl-BE</td>\n",
       "      <td>All time</td>\n",
       "      <td>6901.1</td>\n",
       "    </tr>\n",
       "    <tr>\n",
       "      <th>1281</th>\n",
       "      <td>1250991</td>\n",
       "      <td>289416949</td>\n",
       "      <td>Horeca</td>\n",
       "      <td>3582</td>\n",
       "      <td>nl-BE</td>\n",
       "      <td>All time</td>\n",
       "      <td>7041.7</td>\n",
       "    </tr>\n",
       "    <tr>\n",
       "      <th>1973</th>\n",
       "      <td>728498</td>\n",
       "      <td>219018687</td>\n",
       "      <td>Horeca</td>\n",
       "      <td>3950</td>\n",
       "      <td>nl-BE</td>\n",
       "      <td>All time</td>\n",
       "      <td>8503.2</td>\n",
       "    </tr>\n",
       "    <tr>\n",
       "      <th>2210</th>\n",
       "      <td>1451799</td>\n",
       "      <td>289762482</td>\n",
       "      <td>Horeca</td>\n",
       "      <td>3640</td>\n",
       "      <td>nl-BE</td>\n",
       "      <td>All time</td>\n",
       "      <td>9938.9</td>\n",
       "    </tr>\n",
       "    <tr>\n",
       "      <th>12</th>\n",
       "      <td>721228</td>\n",
       "      <td>219024456</td>\n",
       "      <td>Horeca</td>\n",
       "      <td>3910</td>\n",
       "      <td>nl-BE</td>\n",
       "      <td>All time</td>\n",
       "      <td>14211.5</td>\n",
       "    </tr>\n",
       "  </tbody>\n",
       "</table>\n",
       "<p>5709 rows × 7 columns</p>\n",
       "</div>"
      ],
      "text/plain": [
       "        SO0_NRID  HVROUTETEMPLATE_NRID CUST_TYPE  POSTCODE LANGUAGE  \\\n",
       "0         721104             219020601   Private      3930    nl-BE   \n",
       "4487 -2147483648             289759476   Private      3640    nl-BE   \n",
       "4488 -2147483648             219018687   Private      3950    nl-BE   \n",
       "4489 -2147483648             289762482   Private      3680    nl-BE   \n",
       "4490 -2147483648             289419955   Private      3550    nl-BE   \n",
       "...          ...                   ...       ...       ...      ...   \n",
       "2387     1455143             289764486    Horeca      3680    nl-BE   \n",
       "1281     1250991             289416949    Horeca      3582    nl-BE   \n",
       "1973      728498             219018687    Horeca      3950    nl-BE   \n",
       "2210     1451799             289762482    Horeca      3640    nl-BE   \n",
       "12        721228             219024456    Horeca      3910    nl-BE   \n",
       "\n",
       "     SEASON_TYPE      CLV  \n",
       "0       All time      0.0  \n",
       "4487    All time      0.0  \n",
       "4488    All time      0.0  \n",
       "4489    All time      0.0  \n",
       "4490    All time      0.0  \n",
       "...          ...      ...  \n",
       "2387    All time   6901.1  \n",
       "1281    All time   7041.7  \n",
       "1973    All time   8503.2  \n",
       "2210    All time   9938.9  \n",
       "12      All time  14211.5  \n",
       "\n",
       "[5709 rows x 7 columns]"
      ]
     },
     "execution_count": 32,
     "metadata": {},
     "output_type": "execute_result"
    }
   ],
   "source": [
    "#sort by clv\n",
    "hvc_so0_with_clv.sort_values(by=\"CLV\")\n"
   ]
  },
  {
   "cell_type": "code",
   "execution_count": 34,
   "id": "f04a9722",
   "metadata": {
    "scrolled": true
   },
   "outputs": [
    {
     "data": {
      "image/png": "[encoded data removed]",
      "text/plain": [
       "<Figure size 432x288 with 1 Axes>"
      ]
     },
     "metadata": {},
     "output_type": "display_data"
    }
   ],
   "source": [
    "#Boxplot \n",
    "sns.set_style('darkgrid')\n",
    "sns.set_palette('Set2')\n",
    "plt.title('CLV by Customer Type')\n",
    "sns.boxplot(data=hvc_so0_with_clv, x='CLV', y='CUST_TYPE')\n",
    "plt.xlabel('CLV')\n",
    "plt.ylabel('Customer Type')\n",
    "plt.savefig('Sales by customer type in.png')\n",
    "plt.show()"
   ]
  },
  {
   "cell_type": "code",
   "execution_count": 15,
   "id": "f3474f85",
   "metadata": {},
   "outputs": [],
   "source": [
    "#Sales by customer type in a certain year\n",
    "\n",
    "def sales_by_customer_type(desired_year):\n",
    "\n",
    "    # get the month of each transaction date and store it in new column\n",
    "    hvc_hvvisitresult[\"MONTH\"] = hvc_hvvisitresult[\"DATEONLY\"].apply(lambda x: x.month)\n",
    "\n",
    "    #merge\n",
    "    transactions_2020 = hvc_hvvisitresult.merge(hvc_so0,on=\"SO0_NRID\", how =\"inner\")\n",
    "\n",
    "    # get transactions from 2020 only\n",
    "    transactions_2020 = transactions_2020[(transactions_2020[\"DATEONLY\"] >= pd.Timestamp(year=desired_year, day=1, month=1)) & (transactions_2020[\"DATEONLY\"] < pd.Timestamp(year=desired_year + 1, month=1, day=1))]\n",
    "\n",
    "    # get transactions with succesfull outcome\n",
    "    transactions_2020 = transactions_2020[transactions_2020[\"HVOUTCOME_NRID\"] == 2]\n",
    "\n",
    "\n",
    "    # get transactions by 'private customers'\n",
    "    private_transactions_2020 = transactions_2020[transactions_2020[\"CUST_TYPE\"] == \"Private\"]\n",
    "\n",
    "    # get the total sales for each month for 'private customers'\n",
    "    private_monthly_sales = private_transactions_2020.groupby(\"MONTH\")[\"AMOUNT\"].sum().reset_index()\n",
    "\n",
    "    # get transactions by 'Horeca customers'\n",
    "    horeca_transactions_2020 = transactions_2020[transactions_2020[\"CUST_TYPE\"] == \"Horeca\"]\n",
    "\n",
    "    # get the total sales for each month for 'Horeca customers'\n",
    "    horeca_monthly_sales = horeca_transactions_2020.groupby(\"MONTH\")[\"AMOUNT\"].sum().reset_index()\n",
    "\n",
    "    # get transactions by 'Catering customers'\n",
    "    catering_transactions_2020 = transactions_2020[transactions_2020[\"CUST_TYPE\"] == \"Catering\"]\n",
    "\n",
    "    # get the total sales for each month for 'Catering customers'\n",
    "    catering_monthly_sales = catering_transactions_2020.groupby(\"MONTH\")[\"AMOUNT\"].sum().reset_index()\n",
    "\n",
    "    # Barplot\n",
    "    n_months = 12\n",
    "    fig, ax = plt.subplots()\n",
    "    index = np.arange(n_months)\n",
    "    bar_width = 0.20\n",
    "    opacity = 0.7\n",
    "\n",
    "    rects1 = plt.bar(index, private_monthly_sales[\"AMOUNT\"], bar_width,\n",
    "    alpha=opacity,\n",
    "    color='#FFD57A',\n",
    "    label='Private')\n",
    "                                              \n",
    "    rects2 = plt.bar(index + bar_width, horeca_monthly_sales[\"AMOUNT\"], bar_width,\n",
    "    alpha=opacity,\n",
    "    color='#ffb923',\n",
    "    label='Horeca')\n",
    "\n",
    "    rects3 = plt.bar(index + 2*bar_width, catering_monthly_sales[\"AMOUNT\"], bar_width,\n",
    "    alpha=opacity,\n",
    "    color='#FF9323',\n",
    "    label='Catering')\n",
    "\n",
    "    plt.xlabel('Customer type')\n",
    "    plt.ylabel('Sales')\n",
    "    plt.title('Sales by customer type in '+str(desired_year))\n",
    "    plt.xticks(index + bar_width, ('JAN', 'FEB', 'MAR', 'APR', 'MAI', 'JUN', 'JUL', 'AUG', 'SEP', 'OCT', 'NOV', 'DEC'))\n",
    "    plt.legend()\n",
    "    plt.savefig('Sales by customer type in '+str(desired_year))\n",
    "    plt.tight_layout()\n"
   ]
  },
  {
   "cell_type": "code",
   "execution_count": 16,
   "id": "cb98a87d",
   "metadata": {
    "scrolled": false
   },
   "outputs": [
    {
     "data": {
      "image/png": "[encoded data removed]",
      "text/plain": [
       "<Figure size 432x288 with 1 Axes>"
      ]
     },
     "metadata": {
      "needs_background": "light"
     },
     "output_type": "display_data"
    }
   ],
   "source": [
    "#sales by customer in 2020\n",
    "sales_by_customer_type(2020)\n"
   ]
  },
  {
   "cell_type": "markdown",
   "id": "59f5d5a2",
   "metadata": {},
   "source": [
    "## 3.5 How often did a customer purchase at the company at different days "
   ]
  },
  {
   "cell_type": "code",
   "execution_count": null,
   "id": "1b4b9918",
   "metadata": {},
   "outputs": [],
   "source": [
    "def get_frequency(cust_id, transactions):\n",
    "    \n",
    "    # get transactions made by customer\n",
    "    transactions_cust = transactions[hvc_hvvisitresult[\"SO0_NRID\"] == cust_id]\n",
    "\n",
    "    # get transactions from succesfull visits\n",
    "    transactions_cust = transactions_cust[transactions_cust[\"HVOUTCOME_NRID\"] == 2]\n",
    "\n",
    "    # get total number of unique days on which customer made a purchase\n",
    "    frequency = len(transactions_cust)\n",
    "    \n",
    "    # return\n",
    "    return(frequency)"
   ]
  },
  {
   "cell_type": "code",
   "execution_count": null,
   "id": "911181f7",
   "metadata": {},
   "outputs": [],
   "source": [
    "# check\n",
    "get_frequency(721110.0)"
   ]
  },
  {
   "cell_type": "markdown",
   "id": "5846e560",
   "metadata": {},
   "source": [
    "## 3.6 Which customers left the company?"
   ]
  },
  {
   "cell_type": "code",
   "execution_count": 21,
   "id": "6eadbc11",
   "metadata": {},
   "outputs": [],
   "source": [
    "#Linear regression plots\n",
    "\n",
    "def get_regression_sales(customer_id, year_regression):\n",
    "    \n",
    "    #get the month of each transaction date and store it in new column\n",
    "    hvc_hvvisitresult[\"MONTH\"] = hvc_hvvisitresult[\"DATEONLY\"].apply(lambda x: x.month)\n",
    "\n",
    "    #merge\n",
    "    transactions = hvc_hvvisitresult.merge(hvc_so0,on=\"SO0_NRID\", how =\"inner\")\n",
    "    \n",
    "    #get transactions from desired_year\n",
    "    transactions = transactions[(transactions[\"DATEONLY\"] >= pd.Timestamp(year=year_regression, day=1, month=1)) & (transactions[\"DATEONLY\"] < pd.Timestamp(year=year_regression + 1, month=1, day=1))]\n",
    "\n",
    "    #get transactions with succesfull outcome\n",
    "    transactions = transactions[transactions[\"HVOUTCOME_NRID\"] == 2]\n",
    "    \n",
    "    #get transactions from customer with specific id \n",
    "    transactions_unique_cust = transactions[transactions[\"SO0_NRID\"] == customer_id ]\n",
    "    \n",
    "    # get the total sales for each month for customers\n",
    "    sales_unique_cust = transactions_unique_cust.groupby(\"MONTH\")[\"AMOUNT\"].sum().reset_index() \n",
    "    print(sales_unique_cust)\n",
    "    sales_unique_cust_fixed = sales_unique_cust\n",
    "    sales_unique_cust_fixed[\"MONTH\"] = sales_unique_cust[\"MONTH\"]-1\n",
    "    \n",
    "    \n",
    "    g = sns.lmplot(x=\"MONTH\", y=\"AMOUNT\", data=sales_unique_cust_fixed, fit_reg=True, line_kws={'color': '#ffb923'}, scatter_kws={'color': '#ffb923'})\n",
    "    \n",
    "    g.set(ylim=(0, None))\n",
    "    plt.xlabel(\"Months\")\n",
    "    plt.ylabel(\"Sales\")\n",
    "    plt.title(\"Sales of Customer \" + str(customer_id) + \" in \" + str(year_regression))\n",
    "    plt.xticks(range(12), ('JAN', 'FEB', 'MAR', 'APR', 'MAI', 'JUN', 'JUL', 'AUG', 'SEP', 'OCT', 'NOV', 'DEC'))\n",
    "    plt.tight_layout()\n",
    "    plt.savefig('./Graphs/regression.png')\n",
    "    return plt.show()"
   ]
  },
  {
   "cell_type": "code",
   "execution_count": 22,
   "id": "72127e29",
   "metadata": {
    "scrolled": true
   },
   "outputs": [
    {
     "name": "stdout",
     "output_type": "stream",
     "text": [
      "   MONTH  AMOUNT\n",
      "0      2    47.1\n",
      "1      3    49.0\n",
      "2      5    15.0\n",
      "3      6    22.6\n",
      "4      8    39.9\n",
      "5      9    24.7\n",
      "6     10    14.9\n",
      "7     11     7.6\n",
      "8     12     7.6\n"
     ]
    },
    {
     "data": {
      "image/png": "[encoded data removed]",
      "text/plain": [
       "<Figure size 360x360 with 1 Axes>"
      ]
     },
     "metadata": {
      "needs_background": "light"
     },
     "output_type": "display_data"
    }
   ],
   "source": [
    "# Regression test\n",
    "get_regression_sales(customer_id=724147, year_regression=2020)"
   ]
  },
  {
   "cell_type": "code",
   "execution_count": 30,
   "id": "c4313e44",
   "metadata": {
    "scrolled": true
   },
   "outputs": [
    {
     "data": {
      "text/html": [
       "<div>\n",
       "<style scoped>\n",
       "    .dataframe tbody tr th:only-of-type {\n",
       "        vertical-align: middle;\n",
       "    }\n",
       "\n",
       "    .dataframe tbody tr th {\n",
       "        vertical-align: top;\n",
       "    }\n",
       "\n",
       "    .dataframe thead th {\n",
       "        text-align: right;\n",
       "    }\n",
       "</style>\n",
       "<table border=\"1\" class=\"dataframe\">\n",
       "  <thead>\n",
       "    <tr style=\"text-align: right;\">\n",
       "      <th></th>\n",
       "      <th>HVVISITRESULT_NRID</th>\n",
       "      <th>SO0_NRID</th>\n",
       "      <th>AM0_NRID</th>\n",
       "      <th>HVOUTCOME_NRID</th>\n",
       "      <th>VISITDATE</th>\n",
       "      <th>DATEONLY</th>\n",
       "      <th>AMOUNT</th>\n",
       "      <th>PAYMENTTERM</th>\n",
       "      <th>MONTH</th>\n",
       "      <th>HVROUTETEMPLATE_NRID</th>\n",
       "      <th>CUST_TYPE</th>\n",
       "      <th>POSTCODE</th>\n",
       "      <th>LANGUAGE</th>\n",
       "      <th>SEASON_TYPE</th>\n",
       "    </tr>\n",
       "  </thead>\n",
       "  <tbody>\n",
       "    <tr>\n",
       "      <th>0</th>\n",
       "      <td>55681456</td>\n",
       "      <td>719952</td>\n",
       "      <td>23186288605042</td>\n",
       "      <td>2</td>\n",
       "      <td>2021-10-24 12:20:01</td>\n",
       "      <td>2019-05-06</td>\n",
       "      <td>16.9</td>\n",
       "      <td>cash</td>\n",
       "      <td>5</td>\n",
       "      <td>219019962</td>\n",
       "      <td>Private</td>\n",
       "      <td>3950</td>\n",
       "      <td>nl-BE</td>\n",
       "      <td>All time</td>\n",
       "    </tr>\n",
       "    <tr>\n",
       "      <th>1</th>\n",
       "      <td>55248854</td>\n",
       "      <td>719952</td>\n",
       "      <td>23186288605042</td>\n",
       "      <td>2</td>\n",
       "      <td>2021-10-24 12:46:43</td>\n",
       "      <td>2019-04-22</td>\n",
       "      <td>7.4</td>\n",
       "      <td>cash</td>\n",
       "      <td>4</td>\n",
       "      <td>219019962</td>\n",
       "      <td>Private</td>\n",
       "      <td>3950</td>\n",
       "      <td>nl-BE</td>\n",
       "      <td>All time</td>\n",
       "    </tr>\n",
       "    <tr>\n",
       "      <th>2</th>\n",
       "      <td>54761459</td>\n",
       "      <td>719952</td>\n",
       "      <td>23186288605042</td>\n",
       "      <td>2</td>\n",
       "      <td>2021-10-24 12:32:05</td>\n",
       "      <td>2019-04-08</td>\n",
       "      <td>7.4</td>\n",
       "      <td>cash</td>\n",
       "      <td>4</td>\n",
       "      <td>219019962</td>\n",
       "      <td>Private</td>\n",
       "      <td>3950</td>\n",
       "      <td>nl-BE</td>\n",
       "      <td>All time</td>\n",
       "    </tr>\n",
       "    <tr>\n",
       "      <th>4</th>\n",
       "      <td>54354469</td>\n",
       "      <td>719952</td>\n",
       "      <td>23186288605042</td>\n",
       "      <td>2</td>\n",
       "      <td>2021-10-24 17:14:48</td>\n",
       "      <td>2019-03-25</td>\n",
       "      <td>16.9</td>\n",
       "      <td>cash</td>\n",
       "      <td>3</td>\n",
       "      <td>219019962</td>\n",
       "      <td>Private</td>\n",
       "      <td>3950</td>\n",
       "      <td>nl-BE</td>\n",
       "      <td>All time</td>\n",
       "    </tr>\n",
       "    <tr>\n",
       "      <th>7</th>\n",
       "      <td>52658514</td>\n",
       "      <td>719952</td>\n",
       "      <td>23186288605042</td>\n",
       "      <td>2</td>\n",
       "      <td>2021-10-24 11:43:41</td>\n",
       "      <td>2019-01-28</td>\n",
       "      <td>7.4</td>\n",
       "      <td>cash</td>\n",
       "      <td>1</td>\n",
       "      <td>219019962</td>\n",
       "      <td>Private</td>\n",
       "      <td>3950</td>\n",
       "      <td>nl-BE</td>\n",
       "      <td>All time</td>\n",
       "    </tr>\n",
       "    <tr>\n",
       "      <th>...</th>\n",
       "      <td>...</td>\n",
       "      <td>...</td>\n",
       "      <td>...</td>\n",
       "      <td>...</td>\n",
       "      <td>...</td>\n",
       "      <td>...</td>\n",
       "      <td>...</td>\n",
       "      <td>...</td>\n",
       "      <td>...</td>\n",
       "      <td>...</td>\n",
       "      <td>...</td>\n",
       "      <td>...</td>\n",
       "      <td>...</td>\n",
       "      <td>...</td>\n",
       "    </tr>\n",
       "    <tr>\n",
       "      <th>178650</th>\n",
       "      <td>73690180</td>\n",
       "      <td>72836526</td>\n",
       "      <td>25146868694050</td>\n",
       "      <td>2</td>\n",
       "      <td>2021-10-24 12:48:34</td>\n",
       "      <td>2020-12-19</td>\n",
       "      <td>12.1</td>\n",
       "      <td>cash</td>\n",
       "      <td>12</td>\n",
       "      <td>219021882</td>\n",
       "      <td>Private</td>\n",
       "      <td>3930</td>\n",
       "      <td>nl-BE</td>\n",
       "      <td>All time</td>\n",
       "    </tr>\n",
       "    <tr>\n",
       "      <th>178653</th>\n",
       "      <td>73056077</td>\n",
       "      <td>72857601</td>\n",
       "      <td>24034952445848</td>\n",
       "      <td>2</td>\n",
       "      <td>2021-10-24 17:08:19</td>\n",
       "      <td>2020-12-01</td>\n",
       "      <td>3.7</td>\n",
       "      <td>cash</td>\n",
       "      <td>12</td>\n",
       "      <td>289658600</td>\n",
       "      <td>Private</td>\n",
       "      <td>3500</td>\n",
       "      <td>nl-BE</td>\n",
       "      <td>All time</td>\n",
       "    </tr>\n",
       "    <tr>\n",
       "      <th>178655</th>\n",
       "      <td>73495755</td>\n",
       "      <td>1398687</td>\n",
       "      <td>24034952445848</td>\n",
       "      <td>2</td>\n",
       "      <td>2021-10-24 08:41:10</td>\n",
       "      <td>2020-12-14</td>\n",
       "      <td>9.9</td>\n",
       "      <td>cash</td>\n",
       "      <td>12</td>\n",
       "      <td>289657598</td>\n",
       "      <td>Private</td>\n",
       "      <td>3500</td>\n",
       "      <td>nl-BE</td>\n",
       "      <td>All time</td>\n",
       "    </tr>\n",
       "    <tr>\n",
       "      <th>178657</th>\n",
       "      <td>73626203</td>\n",
       "      <td>727026</td>\n",
       "      <td>25146868694050</td>\n",
       "      <td>2</td>\n",
       "      <td>2021-10-24 11:32:12</td>\n",
       "      <td>2020-12-16</td>\n",
       "      <td>21.0</td>\n",
       "      <td>cash</td>\n",
       "      <td>12</td>\n",
       "      <td>219021241</td>\n",
       "      <td>Private</td>\n",
       "      <td>3910</td>\n",
       "      <td>nl-BE</td>\n",
       "      <td>All time</td>\n",
       "    </tr>\n",
       "    <tr>\n",
       "      <th>178660</th>\n",
       "      <td>73751793</td>\n",
       "      <td>73260813</td>\n",
       "      <td>18934048107254</td>\n",
       "      <td>2</td>\n",
       "      <td>2021-10-24 14:17:42</td>\n",
       "      <td>2020-12-20</td>\n",
       "      <td>35.6</td>\n",
       "      <td>cash</td>\n",
       "      <td>12</td>\n",
       "      <td>289416949</td>\n",
       "      <td>Private</td>\n",
       "      <td>3580</td>\n",
       "      <td>nl-BE</td>\n",
       "      <td>All time</td>\n",
       "    </tr>\n",
       "  </tbody>\n",
       "</table>\n",
       "<p>61247 rows × 14 columns</p>\n",
       "</div>"
      ],
      "text/plain": [
       "        HVVISITRESULT_NRID  SO0_NRID        AM0_NRID  HVOUTCOME_NRID  \\\n",
       "0                 55681456    719952  23186288605042               2   \n",
       "1                 55248854    719952  23186288605042               2   \n",
       "2                 54761459    719952  23186288605042               2   \n",
       "4                 54354469    719952  23186288605042               2   \n",
       "7                 52658514    719952  23186288605042               2   \n",
       "...                    ...       ...             ...             ...   \n",
       "178650            73690180  72836526  25146868694050               2   \n",
       "178653            73056077  72857601  24034952445848               2   \n",
       "178655            73495755   1398687  24034952445848               2   \n",
       "178657            73626203    727026  25146868694050               2   \n",
       "178660            73751793  73260813  18934048107254               2   \n",
       "\n",
       "                 VISITDATE   DATEONLY  AMOUNT PAYMENTTERM  MONTH  \\\n",
       "0      2021-10-24 12:20:01 2019-05-06    16.9        cash      5   \n",
       "1      2021-10-24 12:46:43 2019-04-22     7.4        cash      4   \n",
       "2      2021-10-24 12:32:05 2019-04-08     7.4        cash      4   \n",
       "4      2021-10-24 17:14:48 2019-03-25    16.9        cash      3   \n",
       "7      2021-10-24 11:43:41 2019-01-28     7.4        cash      1   \n",
       "...                    ...        ...     ...         ...    ...   \n",
       "178650 2021-10-24 12:48:34 2020-12-19    12.1        cash     12   \n",
       "178653 2021-10-24 17:08:19 2020-12-01     3.7        cash     12   \n",
       "178655 2021-10-24 08:41:10 2020-12-14     9.9        cash     12   \n",
       "178657 2021-10-24 11:32:12 2020-12-16    21.0        cash     12   \n",
       "178660 2021-10-24 14:17:42 2020-12-20    35.6        cash     12   \n",
       "\n",
       "        HVROUTETEMPLATE_NRID CUST_TYPE  POSTCODE LANGUAGE SEASON_TYPE  \n",
       "0                  219019962   Private      3950    nl-BE    All time  \n",
       "1                  219019962   Private      3950    nl-BE    All time  \n",
       "2                  219019962   Private      3950    nl-BE    All time  \n",
       "4                  219019962   Private      3950    nl-BE    All time  \n",
       "7                  219019962   Private      3950    nl-BE    All time  \n",
       "...                      ...       ...       ...      ...         ...  \n",
       "178650             219021882   Private      3930    nl-BE    All time  \n",
       "178653             289658600   Private      3500    nl-BE    All time  \n",
       "178655             289657598   Private      3500    nl-BE    All time  \n",
       "178657             219021241   Private      3910    nl-BE    All time  \n",
       "178660             289416949   Private      3580    nl-BE    All time  \n",
       "\n",
       "[61247 rows x 14 columns]"
      ]
     },
     "execution_count": 30,
     "metadata": {},
     "output_type": "execute_result"
    }
   ],
   "source": [
    "#LINEAR REGRESSION MODEL\n",
    "\n",
    "#merge\n",
    "transactions = hvc_hvvisitresult.merge(hvc_so0,on=\"SO0_NRID\", how =\"inner\")\n",
    "\n",
    "#get transactions with succesfull outcome\n",
    "transactions = transactions[transactions[\"HVOUTCOME_NRID\"] == 2]\n",
    "\n",
    "transactions\n",
    "    "
   ]
  },
  {
   "cell_type": "code",
   "execution_count": 31,
   "id": "7f555753",
   "metadata": {},
   "outputs": [
    {
     "name": "stdout",
     "output_type": "stream",
     "text": [
      "HVVISITRESULT_NRID 0\n",
      "SO0_NRID 0\n",
      "AM0_NRID 0\n",
      "HVOUTCOME_NRID 0\n",
      "VISITDATE 0\n",
      "DATEONLY 0\n",
      "AMOUNT 0\n",
      "PAYMENTTERM 1319\n",
      "MONTH 0\n",
      "HVROUTETEMPLATE_NRID 0\n",
      "CUST_TYPE 0\n",
      "POSTCODE 0\n",
      "LANGUAGE 0\n",
      "SEASON_TYPE 1\n"
     ]
    }
   ],
   "source": [
    "#imputing missing vallues \n",
    "for col in transactions.columns:\n",
    "    # get number of missing values for column\n",
    "    num_miss = sum(transactions[col].isnull())\n",
    "    # print\n",
    "    print(col, num_miss)"
   ]
  },
  {
   "cell_type": "code",
   "execution_count": 47,
   "id": "c6ed5fdd",
   "metadata": {},
   "outputs": [
    {
     "data": {
      "text/html": [
       "<div>\n",
       "<style scoped>\n",
       "    .dataframe tbody tr th:only-of-type {\n",
       "        vertical-align: middle;\n",
       "    }\n",
       "\n",
       "    .dataframe tbody tr th {\n",
       "        vertical-align: top;\n",
       "    }\n",
       "\n",
       "    .dataframe thead th {\n",
       "        text-align: right;\n",
       "    }\n",
       "</style>\n",
       "<table border=\"1\" class=\"dataframe\">\n",
       "  <thead>\n",
       "    <tr style=\"text-align: right;\">\n",
       "      <th></th>\n",
       "      <th>HVVISITRESULT_NRID</th>\n",
       "      <th>SO0_NRID</th>\n",
       "      <th>AM0_NRID</th>\n",
       "      <th>HVOUTCOME_NRID</th>\n",
       "      <th>VISITDATE</th>\n",
       "      <th>DATEONLY</th>\n",
       "      <th>AMOUNT</th>\n",
       "      <th>MONTH</th>\n",
       "      <th>HVROUTETEMPLATE_NRID</th>\n",
       "      <th>CUST_TYPE</th>\n",
       "      <th>POSTCODE</th>\n",
       "      <th>LANGUAGE</th>\n",
       "    </tr>\n",
       "  </thead>\n",
       "  <tbody>\n",
       "    <tr>\n",
       "      <th>0</th>\n",
       "      <td>55681456</td>\n",
       "      <td>719952</td>\n",
       "      <td>23186288605042</td>\n",
       "      <td>2</td>\n",
       "      <td>2021-10-24 12:20:01</td>\n",
       "      <td>2019-05-06</td>\n",
       "      <td>16.9</td>\n",
       "      <td>5</td>\n",
       "      <td>219019962</td>\n",
       "      <td>Private</td>\n",
       "      <td>3950</td>\n",
       "      <td>nl-BE</td>\n",
       "    </tr>\n",
       "    <tr>\n",
       "      <th>1</th>\n",
       "      <td>55248854</td>\n",
       "      <td>719952</td>\n",
       "      <td>23186288605042</td>\n",
       "      <td>2</td>\n",
       "      <td>2021-10-24 12:46:43</td>\n",
       "      <td>2019-04-22</td>\n",
       "      <td>7.4</td>\n",
       "      <td>4</td>\n",
       "      <td>219019962</td>\n",
       "      <td>Private</td>\n",
       "      <td>3950</td>\n",
       "      <td>nl-BE</td>\n",
       "    </tr>\n",
       "    <tr>\n",
       "      <th>2</th>\n",
       "      <td>54761459</td>\n",
       "      <td>719952</td>\n",
       "      <td>23186288605042</td>\n",
       "      <td>2</td>\n",
       "      <td>2021-10-24 12:32:05</td>\n",
       "      <td>2019-04-08</td>\n",
       "      <td>7.4</td>\n",
       "      <td>4</td>\n",
       "      <td>219019962</td>\n",
       "      <td>Private</td>\n",
       "      <td>3950</td>\n",
       "      <td>nl-BE</td>\n",
       "    </tr>\n",
       "    <tr>\n",
       "      <th>4</th>\n",
       "      <td>54354469</td>\n",
       "      <td>719952</td>\n",
       "      <td>23186288605042</td>\n",
       "      <td>2</td>\n",
       "      <td>2021-10-24 17:14:48</td>\n",
       "      <td>2019-03-25</td>\n",
       "      <td>16.9</td>\n",
       "      <td>3</td>\n",
       "      <td>219019962</td>\n",
       "      <td>Private</td>\n",
       "      <td>3950</td>\n",
       "      <td>nl-BE</td>\n",
       "    </tr>\n",
       "    <tr>\n",
       "      <th>7</th>\n",
       "      <td>52658514</td>\n",
       "      <td>719952</td>\n",
       "      <td>23186288605042</td>\n",
       "      <td>2</td>\n",
       "      <td>2021-10-24 11:43:41</td>\n",
       "      <td>2019-01-28</td>\n",
       "      <td>7.4</td>\n",
       "      <td>1</td>\n",
       "      <td>219019962</td>\n",
       "      <td>Private</td>\n",
       "      <td>3950</td>\n",
       "      <td>nl-BE</td>\n",
       "    </tr>\n",
       "    <tr>\n",
       "      <th>...</th>\n",
       "      <td>...</td>\n",
       "      <td>...</td>\n",
       "      <td>...</td>\n",
       "      <td>...</td>\n",
       "      <td>...</td>\n",
       "      <td>...</td>\n",
       "      <td>...</td>\n",
       "      <td>...</td>\n",
       "      <td>...</td>\n",
       "      <td>...</td>\n",
       "      <td>...</td>\n",
       "      <td>...</td>\n",
       "    </tr>\n",
       "    <tr>\n",
       "      <th>178650</th>\n",
       "      <td>73690180</td>\n",
       "      <td>72836526</td>\n",
       "      <td>25146868694050</td>\n",
       "      <td>2</td>\n",
       "      <td>2021-10-24 12:48:34</td>\n",
       "      <td>2020-12-19</td>\n",
       "      <td>12.1</td>\n",
       "      <td>12</td>\n",
       "      <td>219021882</td>\n",
       "      <td>Private</td>\n",
       "      <td>3930</td>\n",
       "      <td>nl-BE</td>\n",
       "    </tr>\n",
       "    <tr>\n",
       "      <th>178653</th>\n",
       "      <td>73056077</td>\n",
       "      <td>72857601</td>\n",
       "      <td>24034952445848</td>\n",
       "      <td>2</td>\n",
       "      <td>2021-10-24 17:08:19</td>\n",
       "      <td>2020-12-01</td>\n",
       "      <td>3.7</td>\n",
       "      <td>12</td>\n",
       "      <td>289658600</td>\n",
       "      <td>Private</td>\n",
       "      <td>3500</td>\n",
       "      <td>nl-BE</td>\n",
       "    </tr>\n",
       "    <tr>\n",
       "      <th>178655</th>\n",
       "      <td>73495755</td>\n",
       "      <td>1398687</td>\n",
       "      <td>24034952445848</td>\n",
       "      <td>2</td>\n",
       "      <td>2021-10-24 08:41:10</td>\n",
       "      <td>2020-12-14</td>\n",
       "      <td>9.9</td>\n",
       "      <td>12</td>\n",
       "      <td>289657598</td>\n",
       "      <td>Private</td>\n",
       "      <td>3500</td>\n",
       "      <td>nl-BE</td>\n",
       "    </tr>\n",
       "    <tr>\n",
       "      <th>178657</th>\n",
       "      <td>73626203</td>\n",
       "      <td>727026</td>\n",
       "      <td>25146868694050</td>\n",
       "      <td>2</td>\n",
       "      <td>2021-10-24 11:32:12</td>\n",
       "      <td>2020-12-16</td>\n",
       "      <td>21.0</td>\n",
       "      <td>12</td>\n",
       "      <td>219021241</td>\n",
       "      <td>Private</td>\n",
       "      <td>3910</td>\n",
       "      <td>nl-BE</td>\n",
       "    </tr>\n",
       "    <tr>\n",
       "      <th>178660</th>\n",
       "      <td>73751793</td>\n",
       "      <td>73260813</td>\n",
       "      <td>18934048107254</td>\n",
       "      <td>2</td>\n",
       "      <td>2021-10-24 14:17:42</td>\n",
       "      <td>2020-12-20</td>\n",
       "      <td>35.6</td>\n",
       "      <td>12</td>\n",
       "      <td>289416949</td>\n",
       "      <td>Private</td>\n",
       "      <td>3580</td>\n",
       "      <td>nl-BE</td>\n",
       "    </tr>\n",
       "  </tbody>\n",
       "</table>\n",
       "<p>61247 rows × 12 columns</p>\n",
       "</div>"
      ],
      "text/plain": [
       "        HVVISITRESULT_NRID  SO0_NRID        AM0_NRID  HVOUTCOME_NRID  \\\n",
       "0                 55681456    719952  23186288605042               2   \n",
       "1                 55248854    719952  23186288605042               2   \n",
       "2                 54761459    719952  23186288605042               2   \n",
       "4                 54354469    719952  23186288605042               2   \n",
       "7                 52658514    719952  23186288605042               2   \n",
       "...                    ...       ...             ...             ...   \n",
       "178650            73690180  72836526  25146868694050               2   \n",
       "178653            73056077  72857601  24034952445848               2   \n",
       "178655            73495755   1398687  24034952445848               2   \n",
       "178657            73626203    727026  25146868694050               2   \n",
       "178660            73751793  73260813  18934048107254               2   \n",
       "\n",
       "                 VISITDATE   DATEONLY  AMOUNT  MONTH  HVROUTETEMPLATE_NRID  \\\n",
       "0      2021-10-24 12:20:01 2019-05-06    16.9      5             219019962   \n",
       "1      2021-10-24 12:46:43 2019-04-22     7.4      4             219019962   \n",
       "2      2021-10-24 12:32:05 2019-04-08     7.4      4             219019962   \n",
       "4      2021-10-24 17:14:48 2019-03-25    16.9      3             219019962   \n",
       "7      2021-10-24 11:43:41 2019-01-28     7.4      1             219019962   \n",
       "...                    ...        ...     ...    ...                   ...   \n",
       "178650 2021-10-24 12:48:34 2020-12-19    12.1     12             219021882   \n",
       "178653 2021-10-24 17:08:19 2020-12-01     3.7     12             289658600   \n",
       "178655 2021-10-24 08:41:10 2020-12-14     9.9     12             289657598   \n",
       "178657 2021-10-24 11:32:12 2020-12-16    21.0     12             219021241   \n",
       "178660 2021-10-24 14:17:42 2020-12-20    35.6     12             289416949   \n",
       "\n",
       "       CUST_TYPE  POSTCODE LANGUAGE  \n",
       "0        Private      3950    nl-BE  \n",
       "1        Private      3950    nl-BE  \n",
       "2        Private      3950    nl-BE  \n",
       "4        Private      3950    nl-BE  \n",
       "7        Private      3950    nl-BE  \n",
       "...          ...       ...      ...  \n",
       "178650   Private      3930    nl-BE  \n",
       "178653   Private      3500    nl-BE  \n",
       "178655   Private      3500    nl-BE  \n",
       "178657   Private      3910    nl-BE  \n",
       "178660   Private      3580    nl-BE  \n",
       "\n",
       "[61247 rows x 12 columns]"
      ]
     },
     "execution_count": 47,
     "metadata": {},
     "output_type": "execute_result"
    }
   ],
   "source": [
    "transactions"
   ]
  },
  {
   "cell_type": "code",
   "execution_count": 32,
   "id": "d7545169",
   "metadata": {},
   "outputs": [],
   "source": [
    "def get_regression_sales_info(customer_id):\n",
    "    \n",
    "    info_reg_no_sales = [1.0, 0.0,-1.0]\n",
    "    \n",
    "    try:\n",
    "        #get the month of each transaction date and store it in new column\n",
    "        hvc_hvvisitresult[\"MONTH\"] = hvc_hvvisitresult[\"DATEONLY\"].apply(lambda x: x.month)\n",
    "\n",
    "        #merge\n",
    "        transactions = hvc_hvvisitresult.merge(hvc_so0,on=\"SO0_NRID\", how =\"inner\")\n",
    "    \n",
    "        #get transactions from desired_year\n",
    "        transactions = transactions[(transactions[\"DATEONLY\"] >= pd.Timestamp(year=2020, day=1, month=1)) & (transactions[\"DATEONLY\"] < pd.Timestamp(year=2021, month=1, day=1))]\n",
    "\n",
    "        #get transactions with succesfull outcome\n",
    "        transactions = transactions[transactions[\"HVOUTCOME_NRID\"] == 2]\n",
    "    \n",
    "        #get transactions from customer with specific id \n",
    "        transactions_unique_cust = transactions[transactions[\"SO0_NRID\"] == customer_id ]\n",
    "    \n",
    "        # get the total sales for each month for customers\n",
    "        sales_unique_cust = transactions_unique_cust.groupby(\"MONTH\")[\"AMOUNT\"].sum().reset_index() \n",
    "        sales_unique_cust_fixed = sales_unique_cust\n",
    "        sales_unique_cust_fixed[\"MONTH\"] = sales_unique_cust[\"MONTH\"]-1\n",
    "    \n",
    "        #regression model\n",
    "        x = np.array(sales_unique_cust_fixed[\"MONTH\"]).reshape((-1,1))\n",
    "        y = np.array(sales_unique_cust_fixed[\"AMOUNT\"])\n",
    "        model = LinearRegression()\n",
    "        model.fit(x,y)\n",
    "    \n",
    "        #coefficient of determination\n",
    "        r_sq = model.score(x,y)\n",
    "    \n",
    "        #intercept and slope\n",
    "        intercept = model.intercept_\n",
    "        slope = model.coef_\n",
    "    \n",
    "        info_reg = [r_sq, intercept,slope[0]]\n",
    "    \n",
    "        return info_reg\n",
    "    \n",
    "    except ValueError as v:\n",
    "        return info_reg_no_sales\n",
    "        \n",
    "        "
   ]
  },
  {
   "cell_type": "code",
   "execution_count": 33,
   "id": "c49ab2af",
   "metadata": {},
   "outputs": [
    {
     "ename": "NameError",
     "evalue": "name 'LinearRegression' is not defined",
     "output_type": "error",
     "traceback": [
      "\u001b[1;31m---------------------------------------------------------------------------\u001b[0m",
      "\u001b[1;31mNameError\u001b[0m                                 Traceback (most recent call last)",
      "\u001b[1;32m<ipython-input-33-c083ae7f05f1>\u001b[0m in \u001b[0;36m<module>\u001b[1;34m\u001b[0m\n\u001b[0;32m      1\u001b[0m \u001b[1;31m#test regression\u001b[0m\u001b[1;33m\u001b[0m\u001b[1;33m\u001b[0m\u001b[1;33m\u001b[0m\u001b[0m\n\u001b[1;32m----> 2\u001b[1;33m \u001b[0mget_regression_sales_info\u001b[0m\u001b[1;33m(\u001b[0m\u001b[0mcustomer_id\u001b[0m\u001b[1;33m=\u001b[0m\u001b[1;36m721110.0\u001b[0m\u001b[1;33m)\u001b[0m\u001b[1;33m\u001b[0m\u001b[1;33m\u001b[0m\u001b[0m\n\u001b[0m",
      "\u001b[1;32m<ipython-input-32-dc044488d83f>\u001b[0m in \u001b[0;36mget_regression_sales_info\u001b[1;34m(customer_id)\u001b[0m\n\u001b[0;32m     27\u001b[0m         \u001b[0mx\u001b[0m \u001b[1;33m=\u001b[0m \u001b[0mnp\u001b[0m\u001b[1;33m.\u001b[0m\u001b[0marray\u001b[0m\u001b[1;33m(\u001b[0m\u001b[0msales_unique_cust_fixed\u001b[0m\u001b[1;33m[\u001b[0m\u001b[1;34m\"MONTH\"\u001b[0m\u001b[1;33m]\u001b[0m\u001b[1;33m)\u001b[0m\u001b[1;33m.\u001b[0m\u001b[0mreshape\u001b[0m\u001b[1;33m(\u001b[0m\u001b[1;33m(\u001b[0m\u001b[1;33m-\u001b[0m\u001b[1;36m1\u001b[0m\u001b[1;33m,\u001b[0m\u001b[1;36m1\u001b[0m\u001b[1;33m)\u001b[0m\u001b[1;33m)\u001b[0m\u001b[1;33m\u001b[0m\u001b[1;33m\u001b[0m\u001b[0m\n\u001b[0;32m     28\u001b[0m         \u001b[0my\u001b[0m \u001b[1;33m=\u001b[0m \u001b[0mnp\u001b[0m\u001b[1;33m.\u001b[0m\u001b[0marray\u001b[0m\u001b[1;33m(\u001b[0m\u001b[0msales_unique_cust_fixed\u001b[0m\u001b[1;33m[\u001b[0m\u001b[1;34m\"AMOUNT\"\u001b[0m\u001b[1;33m]\u001b[0m\u001b[1;33m)\u001b[0m\u001b[1;33m\u001b[0m\u001b[1;33m\u001b[0m\u001b[0m\n\u001b[1;32m---> 29\u001b[1;33m         \u001b[0mmodel\u001b[0m \u001b[1;33m=\u001b[0m \u001b[0mLinearRegression\u001b[0m\u001b[1;33m(\u001b[0m\u001b[1;33m)\u001b[0m\u001b[1;33m\u001b[0m\u001b[1;33m\u001b[0m\u001b[0m\n\u001b[0m\u001b[0;32m     30\u001b[0m         \u001b[0mmodel\u001b[0m\u001b[1;33m.\u001b[0m\u001b[0mfit\u001b[0m\u001b[1;33m(\u001b[0m\u001b[0mx\u001b[0m\u001b[1;33m,\u001b[0m\u001b[0my\u001b[0m\u001b[1;33m)\u001b[0m\u001b[1;33m\u001b[0m\u001b[1;33m\u001b[0m\u001b[0m\n\u001b[0;32m     31\u001b[0m \u001b[1;33m\u001b[0m\u001b[0m\n",
      "\u001b[1;31mNameError\u001b[0m: name 'LinearRegression' is not defined"
     ]
    }
   ],
   "source": [
    "#test regression\n",
    "get_regression_sales_info(customer_id=721110.0)"
   ]
  },
  {
   "cell_type": "code",
   "execution_count": 25,
   "id": "2abbe50e",
   "metadata": {},
   "outputs": [],
   "source": [
    "#setting thresholds for leaving customers\n",
    "threshold_r_sq = 0.500000000\n",
    "threshold_slope = 0.000"
   ]
  },
  {
   "cell_type": "code",
   "execution_count": 24,
   "id": "91a4c32e",
   "metadata": {},
   "outputs": [
    {
     "ename": "NameError",
     "evalue": "name 'get_regression_sales_info' is not defined",
     "output_type": "error",
     "traceback": [
      "\u001b[1;31m---------------------------------------------------------------------------\u001b[0m",
      "\u001b[1;31mNameError\u001b[0m                                 Traceback (most recent call last)",
      "\u001b[1;32m<ipython-input-24-b1909a826ae5>\u001b[0m in \u001b[0;36m<module>\u001b[1;34m\u001b[0m\n\u001b[0;32m      1\u001b[0m \u001b[1;31m#testing with iloc\u001b[0m\u001b[1;33m\u001b[0m\u001b[1;33m\u001b[0m\u001b[1;33m\u001b[0m\u001b[0m\n\u001b[1;32m----> 2\u001b[1;33m \u001b[0mget_regression_sales_info\u001b[0m\u001b[1;33m(\u001b[0m\u001b[0mcustomer_id\u001b[0m\u001b[1;33m=\u001b[0m\u001b[0mhvc_so0\u001b[0m\u001b[1;33m.\u001b[0m\u001b[0miloc\u001b[0m\u001b[1;33m[\u001b[0m\u001b[1;36m5\u001b[0m\u001b[1;33m,\u001b[0m\u001b[1;36m0\u001b[0m\u001b[1;33m]\u001b[0m\u001b[1;33m)\u001b[0m\u001b[1;33m\u001b[0m\u001b[1;33m\u001b[0m\u001b[0m\n\u001b[0m",
      "\u001b[1;31mNameError\u001b[0m: name 'get_regression_sales_info' is not defined"
     ]
    }
   ],
   "source": [
    "#testing with iloc\n",
    "get_regression_sales_info(customer_id=hvc_so0.iloc[5,0])"
   ]
  },
  {
   "cell_type": "code",
   "execution_count": 23,
   "id": "341362e2",
   "metadata": {},
   "outputs": [
    {
     "ename": "NameError",
     "evalue": "name 'get_regression_sales_info' is not defined",
     "output_type": "error",
     "traceback": [
      "\u001b[1;31m---------------------------------------------------------------------------\u001b[0m",
      "\u001b[1;31mNameError\u001b[0m                                 Traceback (most recent call last)",
      "\u001b[1;32m<ipython-input-23-9329f020a5eb>\u001b[0m in \u001b[0;36m<module>\u001b[1;34m\u001b[0m\n\u001b[0;32m      4\u001b[0m \u001b[1;32mfor\u001b[0m \u001b[0mi\u001b[0m \u001b[1;32min\u001b[0m \u001b[0mrange\u001b[0m\u001b[1;33m(\u001b[0m\u001b[0mlen\u001b[0m\u001b[1;33m(\u001b[0m\u001b[0mhvc_so0\u001b[0m\u001b[1;33m)\u001b[0m\u001b[1;33m)\u001b[0m\u001b[1;33m:\u001b[0m\u001b[1;33m\u001b[0m\u001b[1;33m\u001b[0m\u001b[0m\n\u001b[0;32m      5\u001b[0m     \u001b[1;31m#getting the neccesary information\u001b[0m\u001b[1;33m\u001b[0m\u001b[1;33m\u001b[0m\u001b[1;33m\u001b[0m\u001b[0m\n\u001b[1;32m----> 6\u001b[1;33m     \u001b[0minfo_regression\u001b[0m \u001b[1;33m=\u001b[0m \u001b[0mget_regression_sales_info\u001b[0m\u001b[1;33m(\u001b[0m\u001b[0mcustomer_id\u001b[0m\u001b[1;33m=\u001b[0m\u001b[0mhvc_so0\u001b[0m\u001b[1;33m.\u001b[0m\u001b[0miloc\u001b[0m\u001b[1;33m[\u001b[0m\u001b[0mi\u001b[0m\u001b[1;33m,\u001b[0m\u001b[1;36m0\u001b[0m\u001b[1;33m]\u001b[0m\u001b[1;33m)\u001b[0m\u001b[1;33m\u001b[0m\u001b[1;33m\u001b[0m\u001b[0m\n\u001b[0m\u001b[0;32m      7\u001b[0m     \u001b[1;32mtry\u001b[0m\u001b[1;33m:\u001b[0m\u001b[1;33m\u001b[0m\u001b[1;33m\u001b[0m\u001b[0m\n\u001b[0;32m      8\u001b[0m         \u001b[1;31m#checking with thresholds\u001b[0m\u001b[1;33m\u001b[0m\u001b[1;33m\u001b[0m\u001b[1;33m\u001b[0m\u001b[0m\n",
      "\u001b[1;31mNameError\u001b[0m: name 'get_regression_sales_info' is not defined"
     ]
    }
   ],
   "source": [
    "#getting a list of leaving customers\n",
    "leaving_customers = []\n",
    "\n",
    "for i in range(len(hvc_so0)):\n",
    "    #getting the neccesary information \n",
    "    info_regression = get_regression_sales_info(customer_id=hvc_so0.iloc[i,0])\n",
    "    try:\n",
    "        #checking with thresholds\n",
    "        if ((info_regression[0] > threshold_r_sq) and (info_regression[2] < threshold_slope)):\n",
    "            leaving_customers.append(hvc_so0.iloc[i,0])    \n",
    "        #if no sales records in 2020\n",
    "        elif (info_regression == [1.0, 0.0,-1.0]):\n",
    "            leaving_customers.append(hcv_so0.iloc[i,0])\n",
    "        \n",
    "    except TypeError:\n",
    "        print(\"TypeError\")"
   ]
  },
  {
   "cell_type": "markdown",
   "id": "41b47788",
   "metadata": {},
   "source": [
    "## 3.7 Clusters of customers \n"
   ]
  },
  {
   "cell_type": "markdown",
   "id": "37f324de",
   "metadata": {},
   "source": [
    "Clustering Multi Vairiable Data  "
   ]
  },
  {
   "cell_type": "code",
   "execution_count": 14,
   "id": "6505bc88",
   "metadata": {},
   "outputs": [],
   "source": [
    "#Linear regression"
   ]
  },
  {
   "cell_type": "markdown",
   "id": "a19ac75f",
   "metadata": {},
   "source": [
    "## 3.8 Do customers have different buying patterns during the weekend?"
   ]
  },
  {
   "cell_type": "code",
   "execution_count": null,
   "id": "b51aa027",
   "metadata": {},
   "outputs": [],
   "source": [
    "# join transactions with customers\n",
    "cust_transactions = pd.merge(hvc_hvvisitresult, hvc_so0, on=\"SO0_NRID\", how=\"inner\")\n",
    "\n",
    "# get transactions with succesfull outcome\n",
    "cust_transactions = cust_transactions[cust_transactions[\"HVOUTCOME_NRID\"] == 2 and cust_transactions[\"\"]]\n",
    "\n",
    "# create boxplot for transaction amounts for weekend\n",
    "sns.boxplot(x=cust_transactions[\"AMOUNT\"], y=cust_transactions[\"\"] == )\n",
    "plt.show()\n"
   ]
  },
  {
   "cell_type": "code",
   "execution_count": null,
   "id": "295e0caf",
   "metadata": {},
   "outputs": [],
   "source": []
  },
  {
   "cell_type": "code",
   "execution_count": 1,
   "id": "52bf84b4",
   "metadata": {},
   "outputs": [
    {
     "ename": "NameError",
     "evalue": "name 'hvc_hvvisitresult' is not defined",
     "output_type": "error",
     "traceback": [
      "\u001b[0;31m---------------------------------------------------------------------------\u001b[0m",
      "\u001b[0;31mNameError\u001b[0m                                 Traceback (most recent call last)",
      "\u001b[0;32m/var/folders/x2/hymzscwj7pg_t42hpfwjm20m0000gn/T/ipykernel_10534/2782537326.py\u001b[0m in \u001b[0;36m<module>\u001b[0;34m\u001b[0m\n\u001b[1;32m      1\u001b[0m \u001b[0;31m# get the month of each transaction date and store it in new column\u001b[0m\u001b[0;34m\u001b[0m\u001b[0;34m\u001b[0m\u001b[0m\n\u001b[0;32m----> 2\u001b[0;31m \u001b[0mhvc_hvvisitresult\u001b[0m\u001b[0;34m[\u001b[0m\u001b[0;34m\"MONTH\"\u001b[0m\u001b[0;34m]\u001b[0m \u001b[0;34m=\u001b[0m \u001b[0mhvc_hvvisitresult\u001b[0m\u001b[0;34m[\u001b[0m\u001b[0;34m\"DATEONLY\"\u001b[0m\u001b[0;34m]\u001b[0m\u001b[0;34m.\u001b[0m\u001b[0mapply\u001b[0m\u001b[0;34m(\u001b[0m\u001b[0;32mlambda\u001b[0m \u001b[0mx\u001b[0m\u001b[0;34m:\u001b[0m \u001b[0mx\u001b[0m\u001b[0;34m.\u001b[0m\u001b[0mmonth\u001b[0m\u001b[0;34m)\u001b[0m\u001b[0;34m\u001b[0m\u001b[0;34m\u001b[0m\u001b[0m\n\u001b[0m\u001b[1;32m      3\u001b[0m \u001b[0;34m\u001b[0m\u001b[0m\n\u001b[1;32m      4\u001b[0m \u001b[0;31m# get transactions from 2020 only\u001b[0m\u001b[0;34m\u001b[0m\u001b[0;34m\u001b[0m\u001b[0m\n\u001b[1;32m      5\u001b[0m \u001b[0mtransactions_2019\u001b[0m \u001b[0;34m=\u001b[0m \u001b[0mhvc_hvvisitresult\u001b[0m\u001b[0;34m[\u001b[0m\u001b[0;34m(\u001b[0m\u001b[0mhvc_hvvisitresult\u001b[0m\u001b[0;34m[\u001b[0m\u001b[0;34m\"DATEONLY\"\u001b[0m\u001b[0;34m]\u001b[0m \u001b[0;34m>=\u001b[0m \u001b[0mpd\u001b[0m\u001b[0;34m.\u001b[0m\u001b[0mTimestamp\u001b[0m\u001b[0;34m(\u001b[0m\u001b[0myear\u001b[0m\u001b[0;34m=\u001b[0m\u001b[0;36m2019\u001b[0m\u001b[0;34m,\u001b[0m \u001b[0mday\u001b[0m\u001b[0;34m=\u001b[0m\u001b[0;36m1\u001b[0m\u001b[0;34m,\u001b[0m \u001b[0mmonth\u001b[0m\u001b[0;34m=\u001b[0m\u001b[0;36m1\u001b[0m\u001b[0;34m)\u001b[0m\u001b[0;34m)\u001b[0m \u001b[0;34m&\u001b[0m \u001b[0;34m(\u001b[0m\u001b[0mhvc_hvvisitresult\u001b[0m\u001b[0;34m[\u001b[0m\u001b[0;34m\"DATEONLY\"\u001b[0m\u001b[0;34m]\u001b[0m \u001b[0;34m<\u001b[0m \u001b[0mpd\u001b[0m\u001b[0;34m.\u001b[0m\u001b[0mTimestamp\u001b[0m\u001b[0;34m(\u001b[0m\u001b[0myear\u001b[0m\u001b[0;34m=\u001b[0m\u001b[0;36m2020\u001b[0m\u001b[0;34m,\u001b[0m \u001b[0mmonth\u001b[0m\u001b[0;34m=\u001b[0m\u001b[0;36m1\u001b[0m\u001b[0;34m,\u001b[0m \u001b[0mday\u001b[0m\u001b[0;34m=\u001b[0m\u001b[0;36m1\u001b[0m\u001b[0;34m)\u001b[0m\u001b[0;34m)\u001b[0m\u001b[0;34m]\u001b[0m\u001b[0;34m\u001b[0m\u001b[0;34m\u001b[0m\u001b[0m\n",
      "\u001b[0;31mNameError\u001b[0m: name 'hvc_hvvisitresult' is not defined"
     ]
    }
   ],
   "source": []
  }
 ],
 "metadata": {
  "kernelspec": {
   "display_name": "Python 3",
   "language": "python",
   "name": "python3"
  },
  "language_info": {
   "codemirror_mode": {
    "name": "ipython",
    "version": 3
   },
   "file_extension": ".py",
   "mimetype": "text/x-python",
   "name": "python",
   "nbconvert_exporter": "python",
   "pygments_lexer": "ipython3",
   "version": "3.8.8"
  }
 },
 "nbformat": 4,
 "nbformat_minor": 5
}
