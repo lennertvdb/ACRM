{
 "cells": [
  {
   "cell_type": "markdown",
   "id": "b0398d9f",
   "metadata": {},
   "source": [
    "# ACRM Project"
   ]
  },
  {
   "cell_type": "code",
   "execution_count": 76,
   "id": "79aa6f12",
   "metadata": {},
   "outputs": [],
   "source": [
    "# import the packages\n",
    "import pandas as pd\n",
    "import numpy as np\n",
    "\n",
    "import datetime\n",
    "import matplotlib.pyplot as plt\n",
    "\n",
    "import seaborn as sns"
   ]
  },
  {
   "cell_type": "markdown",
   "id": "9c7e93a2",
   "metadata": {},
   "source": [
    "# 1. Import Data"
   ]
  },
  {
   "cell_type": "code",
   "execution_count": 77,
   "id": "daab3af0",
   "metadata": {},
   "outputs": [],
   "source": [
    "# import the data into pandas dataframes\n",
    "hvc_am0 = pd.read_csv(\"../ACRM-GROUP-13/data/HVC_AM0.csv\", sep=\";\")\n",
    "hvc_ar0 = pd.read_csv(\"../ACRM-GROUP-13/data/HVC_AR0.csv\", sep=\";\")\n",
    "hvc_customer_reviews = pd.read_csv(\"../ACRM-GROUP-13/data/HVC_CUSTOMER_REVIEWS.csv\", sep=\";\")\n",
    "hvc_depot = pd.read_csv(\"../ACRM-GROUP-13/data/HVC_DEPOT.csv\", sep=\";\")\n",
    "hvc_hvdayofweek = pd.read_csv(\"../ACRM-GROUP-13/data/HVC_HVDAYOFWEEK.csv\", sep=\";\")\n",
    "hvc_hvposition = pd.read_csv(\"../ACRM-GROUP-13/data/HVC_HVPOSITION.csv\", sep=\";\")\n",
    "hvc_hvroutetemplate = pd.read_csv(\"../ACRM-GROUP-13/data/HVC_HVROUTETEMPLATE.csv\", sep=\";\")\n",
    "hvc_hvvisitoutcome = pd.read_csv(\"../ACRM-GROUP-13/data/HVC_HVVISITOUTCOME.csv\", sep=\";\")\n",
    "hvc_hvvisitresult = pd.read_csv(\"../ACRM-GROUP-13/data/HVC_HVVISITRESULT.csv\", sep=\";\")\n",
    "hvc_so0 = pd.read_csv(\"../ACRM-GROUP-13/data/HVC_SO0.csv\", sep=\";\")\n",
    "hvc_visitresultdetails = pd.read_csv(\"../ACRM-GROUP-13/data/HVC_VISITRESULTDETAILS.csv\", sep=\";\")"
   ]
  },
  {
   "cell_type": "code",
   "execution_count": 78,
   "id": "80582e6a",
   "metadata": {},
   "outputs": [],
   "source": [
    "#Data conversion\n",
    "hvc_hvdayofweek[\"HVDAYOFWEEK_NRID\"] = hvc_hvdayofweek[\"HVDAYOFWEEK_NRID\"].astype(int)\n",
    "hvc_hvroutetemplate[\"HVROUTETEMPLATE_NRID\"] = hvc_hvroutetemplate[\"HVROUTETEMPLATE_NRID\"].astype(int)\n",
    "hvc_hvroutetemplate[\"HVDAYOFWEEK_NRID\"] = hvc_hvroutetemplate[\"HVDAYOFWEEK_NRID\"].astype(int)\n",
    "hvc_hvroutetemplate[\"WEEKORDER\"] = hvc_hvroutetemplate[\"WEEKORDER\"].astype(int)\n",
    "hvc_hvvisitoutcome[\"HVOUTCOME_NRID\"] = hvc_hvvisitoutcome[\"HVOUTCOME_NRID\"].astype(int)\n",
    "hvc_visitresultdetails[\"HVVISITRESULT_NRID\"] = hvc_visitresultdetails[\"HVVISITRESULT_NRID\"].astype(int)\n",
    "hvc_so0[\"SO0_NRID\"] = hvc_so0[\"SO0_NRID\"].astype(int)\n",
    "hvc_so0[\"HVROUTETEMPLATE_NRID\"] = hvc_so0[\"HVROUTETEMPLATE_NRID\"].astype(int)\n",
    "hvc_hvvisitresult[\"DATEONLY\"] = pd.to_datetime(hvc_hvvisitresult[\"DATEONLY\"])\n",
    "hvc_hvvisitresult[\"VISITDATE\"] = pd.to_datetime(hvc_hvvisitresult[\"VISITDATE\"])"
   ]
  },
  {
   "cell_type": "markdown",
   "id": "a3a73f36",
   "metadata": {},
   "source": [
    "# 2. Explore the data"
   ]
  },
  {
   "cell_type": "markdown",
   "id": "b1bc5049",
   "metadata": {},
   "source": [
    "## 2.1 Data Set 1 (hvc_am0 + hvc_ar0 + hvc_customer_reviews) -> Wouter"
   ]
  },
  {
   "cell_type": "markdown",
   "id": "466b401e",
   "metadata": {},
   "source": [
    "### 2.1.1 hvc_am0 (employees)"
   ]
  },
  {
   "cell_type": "code",
   "execution_count": 79,
   "id": "9340cfb3",
   "metadata": {},
   "outputs": [
    {
     "data": {
      "text/html": [
       "<div>\n",
       "<style scoped>\n",
       "    .dataframe tbody tr th:only-of-type {\n",
       "        vertical-align: middle;\n",
       "    }\n",
       "\n",
       "    .dataframe tbody tr th {\n",
       "        vertical-align: top;\n",
       "    }\n",
       "\n",
       "    .dataframe thead th {\n",
       "        text-align: right;\n",
       "    }\n",
       "</style>\n",
       "<table border=\"1\" class=\"dataframe\">\n",
       "  <thead>\n",
       "    <tr style=\"text-align: right;\">\n",
       "      <th></th>\n",
       "      <th>AM0_NRID</th>\n",
       "      <th>EMPLOYEENUMBER</th>\n",
       "      <th>NAME</th>\n",
       "      <th>POSTCODE</th>\n",
       "      <th>LOCATION</th>\n",
       "      <th>LANGUAGE</th>\n",
       "    </tr>\n",
       "  </thead>\n",
       "  <tbody>\n",
       "    <tr>\n",
       "      <th>0</th>\n",
       "      <td>18503611215721</td>\n",
       "      <td>1001.0</td>\n",
       "      <td>BOONE Frederik</td>\n",
       "      <td>2460</td>\n",
       "      <td>Tielen</td>\n",
       "      <td>nl-BE</td>\n",
       "    </tr>\n",
       "    <tr>\n",
       "      <th>1</th>\n",
       "      <td>18503612347289</td>\n",
       "      <td>1021.0</td>\n",
       "      <td>JANSSENS Jos</td>\n",
       "      <td>2400</td>\n",
       "      <td>Mol</td>\n",
       "      <td>nl-BE</td>\n",
       "    </tr>\n",
       "    <tr>\n",
       "      <th>2</th>\n",
       "      <td>18503612452173</td>\n",
       "      <td>1022.0</td>\n",
       "      <td>LEYSEN Michiel</td>\n",
       "      <td>3500</td>\n",
       "      <td>Hasselt</td>\n",
       "      <td>nl-BE</td>\n",
       "    </tr>\n",
       "    <tr>\n",
       "      <th>3</th>\n",
       "      <td>18503621528962</td>\n",
       "      <td>1122.0</td>\n",
       "      <td>ALLEMAN Benny</td>\n",
       "      <td>3900</td>\n",
       "      <td>Overpelt</td>\n",
       "      <td>nl-BE</td>\n",
       "    </tr>\n",
       "    <tr>\n",
       "      <th>4</th>\n",
       "      <td>18503622652855</td>\n",
       "      <td>1135.0</td>\n",
       "      <td>GOOVAERTS Jef</td>\n",
       "      <td>3920</td>\n",
       "      <td>Lommel</td>\n",
       "      <td>nl-BE</td>\n",
       "    </tr>\n",
       "    <tr>\n",
       "      <th>5</th>\n",
       "      <td>18503623836544</td>\n",
       "      <td>1149.0</td>\n",
       "      <td>BOCKY Rudi</td>\n",
       "      <td>3512</td>\n",
       "      <td>Stevoort</td>\n",
       "      <td>nl-BE</td>\n",
       "    </tr>\n",
       "    <tr>\n",
       "      <th>6</th>\n",
       "      <td>18503624256831</td>\n",
       "      <td>1158.0</td>\n",
       "      <td>BENOIT Benny</td>\n",
       "      <td>3500</td>\n",
       "      <td>Hasselt</td>\n",
       "      <td>nl-BE</td>\n",
       "    </tr>\n",
       "    <tr>\n",
       "      <th>7</th>\n",
       "      <td>18503648417252</td>\n",
       "      <td>507.0</td>\n",
       "      <td>QUINTEN Patrick</td>\n",
       "      <td>3690</td>\n",
       "      <td>Zutendaal</td>\n",
       "      <td>nl-BE</td>\n",
       "    </tr>\n",
       "    <tr>\n",
       "      <th>8</th>\n",
       "      <td>18821748667448</td>\n",
       "      <td>2903.0</td>\n",
       "      <td>DE MILT Tomas</td>\n",
       "      <td>2460</td>\n",
       "      <td>Tielen</td>\n",
       "      <td>nl-BE</td>\n",
       "    </tr>\n",
       "    <tr>\n",
       "      <th>9</th>\n",
       "      <td>18934048107254</td>\n",
       "      <td>1015.0</td>\n",
       "      <td>VAN HECKE jan</td>\n",
       "      <td>3582</td>\n",
       "      <td>Koersel</td>\n",
       "      <td>nl-BE</td>\n",
       "    </tr>\n",
       "    <tr>\n",
       "      <th>10</th>\n",
       "      <td>19902260358040</td>\n",
       "      <td>2720.0</td>\n",
       "      <td>DE SANTE tom</td>\n",
       "      <td>2400</td>\n",
       "      <td>Mol</td>\n",
       "      <td>nl-BE</td>\n",
       "    </tr>\n",
       "    <tr>\n",
       "      <th>11</th>\n",
       "      <td>19946584592834</td>\n",
       "      <td>3154.0</td>\n",
       "      <td>PEETERS michel</td>\n",
       "      <td>3511</td>\n",
       "      <td>Kuringen</td>\n",
       "      <td>nl-BE</td>\n",
       "    </tr>\n",
       "    <tr>\n",
       "      <th>12</th>\n",
       "      <td>20023764336850</td>\n",
       "      <td>5091.0</td>\n",
       "      <td>BALLINGS Hendrik</td>\n",
       "      <td>2460</td>\n",
       "      <td>Tielen</td>\n",
       "      <td>nl-BE</td>\n",
       "    </tr>\n",
       "    <tr>\n",
       "      <th>13</th>\n",
       "      <td>20024664416850</td>\n",
       "      <td>5099.0</td>\n",
       "      <td>MARTENS  Sammy</td>\n",
       "      <td>2460</td>\n",
       "      <td>Tielen</td>\n",
       "      <td>nl-BE</td>\n",
       "    </tr>\n",
       "    <tr>\n",
       "      <th>14</th>\n",
       "      <td>20126680425436</td>\n",
       "      <td>3219.0</td>\n",
       "      <td>MATTIJS stijn</td>\n",
       "      <td>3500</td>\n",
       "      <td>Hasselt</td>\n",
       "      <td>nl-BE</td>\n",
       "    </tr>\n",
       "    <tr>\n",
       "      <th>15</th>\n",
       "      <td>20453668576644</td>\n",
       "      <td>3201.0</td>\n",
       "      <td>DE BAERE Sonja</td>\n",
       "      <td>3512</td>\n",
       "      <td>Stevoort</td>\n",
       "      <td>nl-BE</td>\n",
       "    </tr>\n",
       "    <tr>\n",
       "      <th>16</th>\n",
       "      <td>20603184382848</td>\n",
       "      <td>3220.0</td>\n",
       "      <td>VAN AALST Sofie</td>\n",
       "      <td>3990</td>\n",
       "      <td>Peer</td>\n",
       "      <td>nl-BE</td>\n",
       "    </tr>\n",
       "    <tr>\n",
       "      <th>17</th>\n",
       "      <td>20624864486850</td>\n",
       "      <td>5094.0</td>\n",
       "      <td>VAN HUFFEL Jan</td>\n",
       "      <td>2460</td>\n",
       "      <td>Tielen</td>\n",
       "      <td>nl-BE</td>\n",
       "    </tr>\n",
       "    <tr>\n",
       "      <th>18</th>\n",
       "      <td>20794764386850</td>\n",
       "      <td>5092.0</td>\n",
       "      <td>BUFFEL Peter</td>\n",
       "      <td>2460</td>\n",
       "      <td>Tielen</td>\n",
       "      <td>nl-BE</td>\n",
       "    </tr>\n",
       "    <tr>\n",
       "      <th>19</th>\n",
       "      <td>21373672376852</td>\n",
       "      <td>3249.0</td>\n",
       "      <td>DESTORME Frederik</td>\n",
       "      <td>3840</td>\n",
       "      <td>Borgloon</td>\n",
       "      <td>nl-BE</td>\n",
       "    </tr>\n",
       "    <tr>\n",
       "      <th>20</th>\n",
       "      <td>22236576303840</td>\n",
       "      <td>NaN</td>\n",
       "      <td>PEETERS David</td>\n",
       "      <td>3600</td>\n",
       "      <td>Waterschei - Zwartberg</td>\n",
       "      <td>nl-BE</td>\n",
       "    </tr>\n",
       "    <tr>\n",
       "      <th>21</th>\n",
       "      <td>22296984545252</td>\n",
       "      <td>3299.0</td>\n",
       "      <td>DE SMET Wesley</td>\n",
       "      <td>3500</td>\n",
       "      <td>Hasselt</td>\n",
       "      <td>nl-BE</td>\n",
       "    </tr>\n",
       "    <tr>\n",
       "      <th>22</th>\n",
       "      <td>22316764206042</td>\n",
       "      <td>3279.0</td>\n",
       "      <td>VERLINDEN Elke</td>\n",
       "      <td>3900</td>\n",
       "      <td>Overpelt</td>\n",
       "      <td>nl-BE</td>\n",
       "    </tr>\n",
       "    <tr>\n",
       "      <th>23</th>\n",
       "      <td>23124856135652</td>\n",
       "      <td>3320.0</td>\n",
       "      <td>LAMPAERT Sara</td>\n",
       "      <td>2460</td>\n",
       "      <td>Tielen</td>\n",
       "      <td>nl-BE</td>\n",
       "    </tr>\n",
       "    <tr>\n",
       "      <th>24</th>\n",
       "      <td>23186288605042</td>\n",
       "      <td>3353.0</td>\n",
       "      <td>VERRESEN Dirk</td>\n",
       "      <td>3665</td>\n",
       "      <td>As</td>\n",
       "      <td>nl-BE</td>\n",
       "    </tr>\n",
       "    <tr>\n",
       "      <th>25</th>\n",
       "      <td>23254880377036</td>\n",
       "      <td>3346.0</td>\n",
       "      <td>DE BRUYNE Charlotte</td>\n",
       "      <td>5377</td>\n",
       "      <td>Bonsin</td>\n",
       "      <td>fr-BE</td>\n",
       "    </tr>\n",
       "    <tr>\n",
       "      <th>26</th>\n",
       "      <td>23503384463446</td>\n",
       "      <td>3350.0</td>\n",
       "      <td>HEYNDRICKX Wim</td>\n",
       "      <td>3590</td>\n",
       "      <td>Diepenbeek</td>\n",
       "      <td>nl-BE</td>\n",
       "    </tr>\n",
       "    <tr>\n",
       "      <th>27</th>\n",
       "      <td>23644844294638</td>\n",
       "      <td>NaN</td>\n",
       "      <td>DE DECKER An</td>\n",
       "      <td>2460</td>\n",
       "      <td>Tielen</td>\n",
       "      <td>nl-BE</td>\n",
       "    </tr>\n",
       "    <tr>\n",
       "      <th>28</th>\n",
       "      <td>23844052246844</td>\n",
       "      <td>NaN</td>\n",
       "      <td>VEREECKE Filip</td>\n",
       "      <td>3583</td>\n",
       "      <td>Paal</td>\n",
       "      <td>nl-BE</td>\n",
       "    </tr>\n",
       "    <tr>\n",
       "      <th>29</th>\n",
       "      <td>23845760556442</td>\n",
       "      <td>3325.0</td>\n",
       "      <td>KERCKAERT Pieter</td>\n",
       "      <td>2460</td>\n",
       "      <td>Tielen</td>\n",
       "      <td>nl-BE</td>\n",
       "    </tr>\n",
       "    <tr>\n",
       "      <th>30</th>\n",
       "      <td>24034952445848</td>\n",
       "      <td>3367.0</td>\n",
       "      <td>BUFFEL Sandy</td>\n",
       "      <td>3630</td>\n",
       "      <td>Mechelen-Aan-De-Maas</td>\n",
       "      <td>nl-BE</td>\n",
       "    </tr>\n",
       "    <tr>\n",
       "      <th>31</th>\n",
       "      <td>24226444135852</td>\n",
       "      <td>3357.0</td>\n",
       "      <td>JANNSENS Eddy</td>\n",
       "      <td>3930</td>\n",
       "      <td>Hamont</td>\n",
       "      <td>nl-BE</td>\n",
       "    </tr>\n",
       "    <tr>\n",
       "      <th>32</th>\n",
       "      <td>24306964317638</td>\n",
       "      <td>3379.0</td>\n",
       "      <td>DE TREMERIE Dimitri</td>\n",
       "      <td>3890</td>\n",
       "      <td>Gingelom</td>\n",
       "      <td>nl-BE</td>\n",
       "    </tr>\n",
       "    <tr>\n",
       "      <th>33</th>\n",
       "      <td>24326580665436</td>\n",
       "      <td>3396.0</td>\n",
       "      <td>MORTIER Magda</td>\n",
       "      <td>2460</td>\n",
       "      <td>Tielen</td>\n",
       "      <td>nl-BE</td>\n",
       "    </tr>\n",
       "    <tr>\n",
       "      <th>34</th>\n",
       "      <td>24332872185240</td>\n",
       "      <td>NaN</td>\n",
       "      <td>DE BRUYNE Chris</td>\n",
       "      <td>2460</td>\n",
       "      <td>Tielen</td>\n",
       "      <td>nl-BE</td>\n",
       "    </tr>\n",
       "    <tr>\n",
       "      <th>35</th>\n",
       "      <td>24365344207252</td>\n",
       "      <td>3359.0</td>\n",
       "      <td>DE SMET Stijn</td>\n",
       "      <td>2460</td>\n",
       "      <td>Tielen</td>\n",
       "      <td>nl-BE</td>\n",
       "    </tr>\n",
       "    <tr>\n",
       "      <th>36</th>\n",
       "      <td>24545048153850</td>\n",
       "      <td>3362.0</td>\n",
       "      <td>DE CONINCK Marnik</td>\n",
       "      <td>2460</td>\n",
       "      <td>Tielen</td>\n",
       "      <td>nl-BE</td>\n",
       "    </tr>\n",
       "    <tr>\n",
       "      <th>37</th>\n",
       "      <td>24705284396450</td>\n",
       "      <td>3410.0</td>\n",
       "      <td>DE PAUW Kim</td>\n",
       "      <td>3900</td>\n",
       "      <td>Overpelt</td>\n",
       "      <td>nl-BE</td>\n",
       "    </tr>\n",
       "    <tr>\n",
       "      <th>38</th>\n",
       "      <td>24775352442450</td>\n",
       "      <td>3363.0</td>\n",
       "      <td>STEEMAN Evy</td>\n",
       "      <td>3910</td>\n",
       "      <td>Neerpelt</td>\n",
       "      <td>nl-BE</td>\n",
       "    </tr>\n",
       "    <tr>\n",
       "      <th>39</th>\n",
       "      <td>24785968227246</td>\n",
       "      <td>3387.0</td>\n",
       "      <td>CLAEYS Liebeth</td>\n",
       "      <td>2460</td>\n",
       "      <td>Tielen</td>\n",
       "      <td>nl-BE</td>\n",
       "    </tr>\n",
       "    <tr>\n",
       "      <th>40</th>\n",
       "      <td>24871084536436</td>\n",
       "      <td>NaN</td>\n",
       "      <td>CLAUS David</td>\n",
       "      <td>3770</td>\n",
       "      <td>Valmeer</td>\n",
       "      <td>nl-BE</td>\n",
       "    </tr>\n",
       "    <tr>\n",
       "      <th>41</th>\n",
       "      <td>24965472608036</td>\n",
       "      <td>NaN</td>\n",
       "      <td>CABOOTER Dries</td>\n",
       "      <td>2460</td>\n",
       "      <td>Tielen</td>\n",
       "      <td>nl-BE</td>\n",
       "    </tr>\n",
       "    <tr>\n",
       "      <th>42</th>\n",
       "      <td>25146868694050</td>\n",
       "      <td>3442.0</td>\n",
       "      <td>VERSTRAETE Erik</td>\n",
       "      <td>3920</td>\n",
       "      <td>Lommel</td>\n",
       "      <td>nl-BE</td>\n",
       "    </tr>\n",
       "    <tr>\n",
       "      <th>43</th>\n",
       "      <td>25454644465046</td>\n",
       "      <td>3421.0</td>\n",
       "      <td>TACK Hann</td>\n",
       "      <td>2460</td>\n",
       "      <td>Tielen</td>\n",
       "      <td>nl-BE</td>\n",
       "    </tr>\n",
       "    <tr>\n",
       "      <th>44</th>\n",
       "      <td>25532744515046</td>\n",
       "      <td>3422.0</td>\n",
       "      <td>PAUWELS Jeffrey</td>\n",
       "      <td>2460</td>\n",
       "      <td>Tielen</td>\n",
       "      <td>nl-BE</td>\n",
       "    </tr>\n",
       "    <tr>\n",
       "      <th>45</th>\n",
       "      <td>25712048274438</td>\n",
       "      <td>3426.0</td>\n",
       "      <td>JACOBS Michel</td>\n",
       "      <td>3540</td>\n",
       "      <td>Herk-de-Stad</td>\n",
       "      <td>nl-BE</td>\n",
       "    </tr>\n",
       "  </tbody>\n",
       "</table>\n",
       "</div>"
      ],
      "text/plain": [
       "          AM0_NRID  EMPLOYEENUMBER                 NAME  POSTCODE  \\\n",
       "0   18503611215721          1001.0       BOONE Frederik      2460   \n",
       "1   18503612347289          1021.0         JANSSENS Jos      2400   \n",
       "2   18503612452173          1022.0       LEYSEN Michiel      3500   \n",
       "3   18503621528962          1122.0        ALLEMAN Benny      3900   \n",
       "4   18503622652855          1135.0        GOOVAERTS Jef      3920   \n",
       "5   18503623836544          1149.0           BOCKY Rudi      3512   \n",
       "6   18503624256831          1158.0         BENOIT Benny      3500   \n",
       "7   18503648417252           507.0      QUINTEN Patrick      3690   \n",
       "8   18821748667448          2903.0        DE MILT Tomas      2460   \n",
       "9   18934048107254          1015.0        VAN HECKE jan      3582   \n",
       "10  19902260358040          2720.0         DE SANTE tom      2400   \n",
       "11  19946584592834          3154.0       PEETERS michel      3511   \n",
       "12  20023764336850          5091.0     BALLINGS Hendrik      2460   \n",
       "13  20024664416850          5099.0       MARTENS  Sammy      2460   \n",
       "14  20126680425436          3219.0        MATTIJS stijn      3500   \n",
       "15  20453668576644          3201.0       DE BAERE Sonja      3512   \n",
       "16  20603184382848          3220.0      VAN AALST Sofie      3990   \n",
       "17  20624864486850          5094.0       VAN HUFFEL Jan      2460   \n",
       "18  20794764386850          5092.0         BUFFEL Peter      2460   \n",
       "19  21373672376852          3249.0    DESTORME Frederik      3840   \n",
       "20  22236576303840             NaN        PEETERS David      3600   \n",
       "21  22296984545252          3299.0       DE SMET Wesley      3500   \n",
       "22  22316764206042          3279.0       VERLINDEN Elke      3900   \n",
       "23  23124856135652          3320.0        LAMPAERT Sara      2460   \n",
       "24  23186288605042          3353.0        VERRESEN Dirk      3665   \n",
       "25  23254880377036          3346.0  DE BRUYNE Charlotte      5377   \n",
       "26  23503384463446          3350.0       HEYNDRICKX Wim      3590   \n",
       "27  23644844294638             NaN         DE DECKER An      2460   \n",
       "28  23844052246844             NaN       VEREECKE Filip      3583   \n",
       "29  23845760556442          3325.0     KERCKAERT Pieter      2460   \n",
       "30  24034952445848          3367.0         BUFFEL Sandy      3630   \n",
       "31  24226444135852          3357.0        JANNSENS Eddy      3930   \n",
       "32  24306964317638          3379.0  DE TREMERIE Dimitri      3890   \n",
       "33  24326580665436          3396.0        MORTIER Magda      2460   \n",
       "34  24332872185240             NaN      DE BRUYNE Chris      2460   \n",
       "35  24365344207252          3359.0        DE SMET Stijn      2460   \n",
       "36  24545048153850          3362.0    DE CONINCK Marnik      2460   \n",
       "37  24705284396450          3410.0          DE PAUW Kim      3900   \n",
       "38  24775352442450          3363.0          STEEMAN Evy      3910   \n",
       "39  24785968227246          3387.0       CLAEYS Liebeth      2460   \n",
       "40  24871084536436             NaN          CLAUS David      3770   \n",
       "41  24965472608036             NaN       CABOOTER Dries      2460   \n",
       "42  25146868694050          3442.0      VERSTRAETE Erik      3920   \n",
       "43  25454644465046          3421.0            TACK Hann      2460   \n",
       "44  25532744515046          3422.0      PAUWELS Jeffrey      2460   \n",
       "45  25712048274438          3426.0        JACOBS Michel      3540   \n",
       "\n",
       "                  LOCATION LANGUAGE  \n",
       "0                   Tielen    nl-BE  \n",
       "1                      Mol    nl-BE  \n",
       "2                  Hasselt    nl-BE  \n",
       "3                 Overpelt    nl-BE  \n",
       "4                   Lommel    nl-BE  \n",
       "5                 Stevoort    nl-BE  \n",
       "6                  Hasselt    nl-BE  \n",
       "7                Zutendaal    nl-BE  \n",
       "8                   Tielen    nl-BE  \n",
       "9                  Koersel    nl-BE  \n",
       "10                     Mol    nl-BE  \n",
       "11                Kuringen    nl-BE  \n",
       "12                  Tielen    nl-BE  \n",
       "13                  Tielen    nl-BE  \n",
       "14                 Hasselt    nl-BE  \n",
       "15                Stevoort    nl-BE  \n",
       "16                    Peer    nl-BE  \n",
       "17                  Tielen    nl-BE  \n",
       "18                  Tielen    nl-BE  \n",
       "19                Borgloon    nl-BE  \n",
       "20  Waterschei - Zwartberg    nl-BE  \n",
       "21                 Hasselt    nl-BE  \n",
       "22                Overpelt    nl-BE  \n",
       "23                  Tielen    nl-BE  \n",
       "24                      As    nl-BE  \n",
       "25                  Bonsin    fr-BE  \n",
       "26              Diepenbeek    nl-BE  \n",
       "27                  Tielen    nl-BE  \n",
       "28                    Paal    nl-BE  \n",
       "29                  Tielen    nl-BE  \n",
       "30    Mechelen-Aan-De-Maas    nl-BE  \n",
       "31                  Hamont    nl-BE  \n",
       "32                Gingelom    nl-BE  \n",
       "33                  Tielen    nl-BE  \n",
       "34                  Tielen    nl-BE  \n",
       "35                  Tielen    nl-BE  \n",
       "36                  Tielen    nl-BE  \n",
       "37                Overpelt    nl-BE  \n",
       "38                Neerpelt    nl-BE  \n",
       "39                  Tielen    nl-BE  \n",
       "40                 Valmeer    nl-BE  \n",
       "41                  Tielen    nl-BE  \n",
       "42                  Lommel    nl-BE  \n",
       "43                  Tielen    nl-BE  \n",
       "44                  Tielen    nl-BE  \n",
       "45            Herk-de-Stad    nl-BE  "
      ]
     },
     "execution_count": 79,
     "metadata": {},
     "output_type": "execute_result"
    }
   ],
   "source": [
    "# inspect table\n",
    "hvc_am0"
   ]
  },
  {
   "cell_type": "code",
   "execution_count": 80,
   "id": "2ef987e5",
   "metadata": {
    "scrolled": false
   },
   "outputs": [
    {
     "data": {
      "text/html": [
       "<div>\n",
       "<style scoped>\n",
       "    .dataframe tbody tr th:only-of-type {\n",
       "        vertical-align: middle;\n",
       "    }\n",
       "\n",
       "    .dataframe tbody tr th {\n",
       "        vertical-align: top;\n",
       "    }\n",
       "\n",
       "    .dataframe thead th {\n",
       "        text-align: right;\n",
       "    }\n",
       "</style>\n",
       "<table border=\"1\" class=\"dataframe\">\n",
       "  <thead>\n",
       "    <tr style=\"text-align: right;\">\n",
       "      <th></th>\n",
       "      <th>AM0_NRID</th>\n",
       "      <th>EMPLOYEENUMBER</th>\n",
       "      <th>NAME</th>\n",
       "      <th>POSTCODE</th>\n",
       "      <th>LOCATION</th>\n",
       "      <th>LANGUAGE</th>\n",
       "    </tr>\n",
       "  </thead>\n",
       "  <tbody>\n",
       "    <tr>\n",
       "      <th>0</th>\n",
       "      <td>18503611215721</td>\n",
       "      <td>1001.0</td>\n",
       "      <td>BOONE Frederik</td>\n",
       "      <td>2460</td>\n",
       "      <td>Tielen</td>\n",
       "      <td>nl-BE</td>\n",
       "    </tr>\n",
       "    <tr>\n",
       "      <th>1</th>\n",
       "      <td>18503612347289</td>\n",
       "      <td>1021.0</td>\n",
       "      <td>JANSSENS Jos</td>\n",
       "      <td>2400</td>\n",
       "      <td>Mol</td>\n",
       "      <td>nl-BE</td>\n",
       "    </tr>\n",
       "    <tr>\n",
       "      <th>2</th>\n",
       "      <td>18503612452173</td>\n",
       "      <td>1022.0</td>\n",
       "      <td>LEYSEN Michiel</td>\n",
       "      <td>3500</td>\n",
       "      <td>Hasselt</td>\n",
       "      <td>nl-BE</td>\n",
       "    </tr>\n",
       "    <tr>\n",
       "      <th>3</th>\n",
       "      <td>18503621528962</td>\n",
       "      <td>1122.0</td>\n",
       "      <td>ALLEMAN Benny</td>\n",
       "      <td>3900</td>\n",
       "      <td>Overpelt</td>\n",
       "      <td>nl-BE</td>\n",
       "    </tr>\n",
       "    <tr>\n",
       "      <th>4</th>\n",
       "      <td>18503622652855</td>\n",
       "      <td>1135.0</td>\n",
       "      <td>GOOVAERTS Jef</td>\n",
       "      <td>3920</td>\n",
       "      <td>Lommel</td>\n",
       "      <td>nl-BE</td>\n",
       "    </tr>\n",
       "  </tbody>\n",
       "</table>\n",
       "</div>"
      ],
      "text/plain": [
       "         AM0_NRID  EMPLOYEENUMBER            NAME  POSTCODE  LOCATION LANGUAGE\n",
       "0  18503611215721          1001.0  BOONE Frederik      2460    Tielen    nl-BE\n",
       "1  18503612347289          1021.0    JANSSENS Jos      2400       Mol    nl-BE\n",
       "2  18503612452173          1022.0  LEYSEN Michiel      3500   Hasselt    nl-BE\n",
       "3  18503621528962          1122.0   ALLEMAN Benny      3900  Overpelt    nl-BE\n",
       "4  18503622652855          1135.0   GOOVAERTS Jef      3920    Lommel    nl-BE"
      ]
     },
     "execution_count": 80,
     "metadata": {},
     "output_type": "execute_result"
    }
   ],
   "source": [
    "# inspect the first 5 observations of the employees\n",
    "hvc_am0.head(5)"
   ]
  },
  {
   "cell_type": "code",
   "execution_count": 81,
   "id": "c95b152d",
   "metadata": {},
   "outputs": [
    {
     "data": {
      "text/html": [
       "<div>\n",
       "<style scoped>\n",
       "    .dataframe tbody tr th:only-of-type {\n",
       "        vertical-align: middle;\n",
       "    }\n",
       "\n",
       "    .dataframe tbody tr th {\n",
       "        vertical-align: top;\n",
       "    }\n",
       "\n",
       "    .dataframe thead th {\n",
       "        text-align: right;\n",
       "    }\n",
       "</style>\n",
       "<table border=\"1\" class=\"dataframe\">\n",
       "  <thead>\n",
       "    <tr style=\"text-align: right;\">\n",
       "      <th></th>\n",
       "      <th>AM0_NRID</th>\n",
       "      <th>EMPLOYEENUMBER</th>\n",
       "      <th>NAME</th>\n",
       "      <th>POSTCODE</th>\n",
       "      <th>LOCATION</th>\n",
       "      <th>LANGUAGE</th>\n",
       "    </tr>\n",
       "  </thead>\n",
       "  <tbody>\n",
       "    <tr>\n",
       "      <th>41</th>\n",
       "      <td>24965472608036</td>\n",
       "      <td>NaN</td>\n",
       "      <td>CABOOTER Dries</td>\n",
       "      <td>2460</td>\n",
       "      <td>Tielen</td>\n",
       "      <td>nl-BE</td>\n",
       "    </tr>\n",
       "    <tr>\n",
       "      <th>42</th>\n",
       "      <td>25146868694050</td>\n",
       "      <td>3442.0</td>\n",
       "      <td>VERSTRAETE Erik</td>\n",
       "      <td>3920</td>\n",
       "      <td>Lommel</td>\n",
       "      <td>nl-BE</td>\n",
       "    </tr>\n",
       "    <tr>\n",
       "      <th>43</th>\n",
       "      <td>25454644465046</td>\n",
       "      <td>3421.0</td>\n",
       "      <td>TACK Hann</td>\n",
       "      <td>2460</td>\n",
       "      <td>Tielen</td>\n",
       "      <td>nl-BE</td>\n",
       "    </tr>\n",
       "    <tr>\n",
       "      <th>44</th>\n",
       "      <td>25532744515046</td>\n",
       "      <td>3422.0</td>\n",
       "      <td>PAUWELS Jeffrey</td>\n",
       "      <td>2460</td>\n",
       "      <td>Tielen</td>\n",
       "      <td>nl-BE</td>\n",
       "    </tr>\n",
       "    <tr>\n",
       "      <th>45</th>\n",
       "      <td>25712048274438</td>\n",
       "      <td>3426.0</td>\n",
       "      <td>JACOBS Michel</td>\n",
       "      <td>3540</td>\n",
       "      <td>Herk-de-Stad</td>\n",
       "      <td>nl-BE</td>\n",
       "    </tr>\n",
       "  </tbody>\n",
       "</table>\n",
       "</div>"
      ],
      "text/plain": [
       "          AM0_NRID  EMPLOYEENUMBER             NAME  POSTCODE      LOCATION  \\\n",
       "41  24965472608036             NaN   CABOOTER Dries      2460        Tielen   \n",
       "42  25146868694050          3442.0  VERSTRAETE Erik      3920        Lommel   \n",
       "43  25454644465046          3421.0        TACK Hann      2460        Tielen   \n",
       "44  25532744515046          3422.0  PAUWELS Jeffrey      2460        Tielen   \n",
       "45  25712048274438          3426.0    JACOBS Michel      3540  Herk-de-Stad   \n",
       "\n",
       "   LANGUAGE  \n",
       "41    nl-BE  \n",
       "42    nl-BE  \n",
       "43    nl-BE  \n",
       "44    nl-BE  \n",
       "45    nl-BE  "
      ]
     },
     "execution_count": 81,
     "metadata": {},
     "output_type": "execute_result"
    }
   ],
   "source": [
    "# inspect the last 5 observations of the employees\n",
    "hvc_am0.tail(5)"
   ]
  },
  {
   "cell_type": "code",
   "execution_count": 82,
   "id": "90969892",
   "metadata": {
    "scrolled": true
   },
   "outputs": [
    {
     "data": {
      "text/plain": [
       "AM0_NRID            int64\n",
       "EMPLOYEENUMBER    float64\n",
       "NAME               object\n",
       "POSTCODE            int64\n",
       "LOCATION           object\n",
       "LANGUAGE           object\n",
       "dtype: object"
      ]
     },
     "execution_count": 82,
     "metadata": {},
     "output_type": "execute_result"
    }
   ],
   "source": [
    "# check dtypes\n",
    "hvc_am0.dtypes"
   ]
  },
  {
   "cell_type": "code",
   "execution_count": 83,
   "id": "998e71fb",
   "metadata": {},
   "outputs": [
    {
     "data": {
      "text/plain": [
       "46"
      ]
     },
     "execution_count": 83,
     "metadata": {},
     "output_type": "execute_result"
    }
   ],
   "source": [
    "# check the number of employees \n",
    "len(hvc_am0)"
   ]
  },
  {
   "cell_type": "code",
   "execution_count": 84,
   "id": "fb3ea32a",
   "metadata": {},
   "outputs": [
    {
     "data": {
      "text/plain": [
       "6"
      ]
     },
     "execution_count": 84,
     "metadata": {},
     "output_type": "execute_result"
    }
   ],
   "source": [
    "# inspect the total number of missing values for the employeenumber amount\n",
    "sum(hvc_am0[\"EMPLOYEENUMBER\"].isnull())"
   ]
  },
  {
   "cell_type": "code",
   "execution_count": 85,
   "id": "9acbf2ea",
   "metadata": {},
   "outputs": [
    {
     "data": {
      "text/plain": [
       "count               46\n",
       "unique              46\n",
       "top       JANSSENS Jos\n",
       "freq                 1\n",
       "Name: NAME, dtype: object"
      ]
     },
     "execution_count": 85,
     "metadata": {},
     "output_type": "execute_result"
    }
   ],
   "source": [
    "# inspect some descriptive statistics with respect to the names\n",
    "hvc_am0[\"NAME\"].describe()"
   ]
  },
  {
   "cell_type": "code",
   "execution_count": 86,
   "id": "3dd08d08",
   "metadata": {},
   "outputs": [
    {
     "data": {
      "text/plain": [
       "count         46\n",
       "unique        22\n",
       "top       Tielen\n",
       "freq          17\n",
       "Name: LOCATION, dtype: object"
      ]
     },
     "execution_count": 86,
     "metadata": {},
     "output_type": "execute_result"
    }
   ],
   "source": [
    "# inspect some descriptive statistics with respect to the location\n",
    "hvc_am0[\"LOCATION\"].describe()"
   ]
  },
  {
   "cell_type": "code",
   "execution_count": 87,
   "id": "7919d502",
   "metadata": {
    "scrolled": true
   },
   "outputs": [
    {
     "data": {
      "text/plain": [
       "count        46\n",
       "unique        2\n",
       "top       nl-BE\n",
       "freq         45\n",
       "Name: LANGUAGE, dtype: object"
      ]
     },
     "execution_count": 87,
     "metadata": {},
     "output_type": "execute_result"
    }
   ],
   "source": [
    "# inspect some descriptive statistics with respect to the language\n",
    "hvc_am0[\"LANGUAGE\"].describe()"
   ]
  },
  {
   "cell_type": "markdown",
   "id": "0ed784d4",
   "metadata": {},
   "source": [
    "### 2.1.2 hvc_ar0 (products)"
   ]
  },
  {
   "cell_type": "code",
   "execution_count": 88,
   "id": "15b96789",
   "metadata": {},
   "outputs": [
    {
     "data": {
      "text/html": [
       "<div>\n",
       "<style scoped>\n",
       "    .dataframe tbody tr th:only-of-type {\n",
       "        vertical-align: middle;\n",
       "    }\n",
       "\n",
       "    .dataframe tbody tr th {\n",
       "        vertical-align: top;\n",
       "    }\n",
       "\n",
       "    .dataframe thead th {\n",
       "        text-align: right;\n",
       "    }\n",
       "</style>\n",
       "<table border=\"1\" class=\"dataframe\">\n",
       "  <thead>\n",
       "    <tr style=\"text-align: right;\">\n",
       "      <th></th>\n",
       "      <th>AR0_NRID</th>\n",
       "      <th>DESCRIPTION</th>\n",
       "      <th>CATEGORY</th>\n",
       "      <th>FAMILY</th>\n",
       "      <th>PRICE</th>\n",
       "    </tr>\n",
       "  </thead>\n",
       "  <tbody>\n",
       "    <tr>\n",
       "      <th>0</th>\n",
       "      <td>20742288286838</td>\n",
       "      <td>Dessert Caramel/14</td>\n",
       "      <td>Verkoopsartikel</td>\n",
       "      <td>Cups</td>\n",
       "      <td>10.9</td>\n",
       "    </tr>\n",
       "    <tr>\n",
       "      <th>1</th>\n",
       "      <td>20413488326838</td>\n",
       "      <td>Penalty/16</td>\n",
       "      <td>Verkoopsartikel</td>\n",
       "      <td>Hand Ice</td>\n",
       "      <td>6.5</td>\n",
       "    </tr>\n",
       "    <tr>\n",
       "      <th>2</th>\n",
       "      <td>21515648414638</td>\n",
       "      <td>Kriekentaart</td>\n",
       "      <td>Verkoopsartikel</td>\n",
       "      <td>Coffee</td>\n",
       "      <td>7.9</td>\n",
       "    </tr>\n",
       "    <tr>\n",
       "      <th>3</th>\n",
       "      <td>20296288686840</td>\n",
       "      <td>Expo met zachte wafel/12</td>\n",
       "      <td>Verkoopsartikel</td>\n",
       "      <td>Individual Dessert</td>\n",
       "      <td>7.3</td>\n",
       "    </tr>\n",
       "    <tr>\n",
       "      <th>4</th>\n",
       "      <td>21844652504048</td>\n",
       "      <td>Paaseitjes</td>\n",
       "      <td>Verkoopsartikel</td>\n",
       "      <td>Individual Dessert</td>\n",
       "      <td>7.5</td>\n",
       "    </tr>\n",
       "    <tr>\n",
       "      <th>...</th>\n",
       "      <td>...</td>\n",
       "      <td>...</td>\n",
       "      <td>...</td>\n",
       "      <td>...</td>\n",
       "      <td>...</td>\n",
       "    </tr>\n",
       "    <tr>\n",
       "      <th>312</th>\n",
       "      <td>23731</td>\n",
       "      <td>Subimba 100 cc.Choc/24</td>\n",
       "      <td>Verkoopsartikel</td>\n",
       "      <td>Cups</td>\n",
       "      <td>9.6</td>\n",
       "    </tr>\n",
       "    <tr>\n",
       "      <th>313</th>\n",
       "      <td>23735</td>\n",
       "      <td>Super Krokant/24</td>\n",
       "      <td>Verkoopsartikel</td>\n",
       "      <td>Hand Ice</td>\n",
       "      <td>9.7</td>\n",
       "    </tr>\n",
       "    <tr>\n",
       "      <th>314</th>\n",
       "      <td>23739</td>\n",
       "      <td>Maxi Banana/12</td>\n",
       "      <td>Verkoopsartikel</td>\n",
       "      <td>Hand Ice</td>\n",
       "      <td>5.5</td>\n",
       "    </tr>\n",
       "    <tr>\n",
       "      <th>315</th>\n",
       "      <td>17492188344852</td>\n",
       "      <td>SoufflÃ© Cointreau/4</td>\n",
       "      <td>Verkoopsartikel</td>\n",
       "      <td>Individual Dessert</td>\n",
       "      <td>8.9</td>\n",
       "    </tr>\n",
       "    <tr>\n",
       "      <th>316</th>\n",
       "      <td>20985584414848</td>\n",
       "      <td>Bon 1L roomijs naar keuze</td>\n",
       "      <td>Kortingsbon</td>\n",
       "      <td>NaN</td>\n",
       "      <td>-3.9</td>\n",
       "    </tr>\n",
       "  </tbody>\n",
       "</table>\n",
       "<p>317 rows × 5 columns</p>\n",
       "</div>"
      ],
      "text/plain": [
       "           AR0_NRID                DESCRIPTION         CATEGORY  \\\n",
       "0    20742288286838         Dessert Caramel/14  Verkoopsartikel   \n",
       "1    20413488326838                 Penalty/16  Verkoopsartikel   \n",
       "2    21515648414638               Kriekentaart  Verkoopsartikel   \n",
       "3    20296288686840   Expo met zachte wafel/12  Verkoopsartikel   \n",
       "4    21844652504048                 Paaseitjes  Verkoopsartikel   \n",
       "..              ...                        ...              ...   \n",
       "312           23731     Subimba 100 cc.Choc/24  Verkoopsartikel   \n",
       "313           23735           Super Krokant/24  Verkoopsartikel   \n",
       "314           23739             Maxi Banana/12  Verkoopsartikel   \n",
       "315  17492188344852       SoufflÃ© Cointreau/4  Verkoopsartikel   \n",
       "316  20985584414848  Bon 1L roomijs naar keuze      Kortingsbon   \n",
       "\n",
       "                 FAMILY  PRICE  \n",
       "0                  Cups   10.9  \n",
       "1              Hand Ice    6.5  \n",
       "2                Coffee    7.9  \n",
       "3    Individual Dessert    7.3  \n",
       "4    Individual Dessert    7.5  \n",
       "..                  ...    ...  \n",
       "312                Cups    9.6  \n",
       "313            Hand Ice    9.7  \n",
       "314            Hand Ice    5.5  \n",
       "315  Individual Dessert    8.9  \n",
       "316                 NaN   -3.9  \n",
       "\n",
       "[317 rows x 5 columns]"
      ]
     },
     "execution_count": 88,
     "metadata": {},
     "output_type": "execute_result"
    }
   ],
   "source": [
    "# inspect table\n",
    "hvc_ar0"
   ]
  },
  {
   "cell_type": "code",
   "execution_count": 89,
   "id": "1806ef2e",
   "metadata": {
    "scrolled": true
   },
   "outputs": [
    {
     "data": {
      "text/html": [
       "<div>\n",
       "<style scoped>\n",
       "    .dataframe tbody tr th:only-of-type {\n",
       "        vertical-align: middle;\n",
       "    }\n",
       "\n",
       "    .dataframe tbody tr th {\n",
       "        vertical-align: top;\n",
       "    }\n",
       "\n",
       "    .dataframe thead th {\n",
       "        text-align: right;\n",
       "    }\n",
       "</style>\n",
       "<table border=\"1\" class=\"dataframe\">\n",
       "  <thead>\n",
       "    <tr style=\"text-align: right;\">\n",
       "      <th></th>\n",
       "      <th>AR0_NRID</th>\n",
       "      <th>DESCRIPTION</th>\n",
       "      <th>CATEGORY</th>\n",
       "      <th>FAMILY</th>\n",
       "      <th>PRICE</th>\n",
       "    </tr>\n",
       "  </thead>\n",
       "  <tbody>\n",
       "    <tr>\n",
       "      <th>0</th>\n",
       "      <td>20742288286838</td>\n",
       "      <td>Dessert Caramel/14</td>\n",
       "      <td>Verkoopsartikel</td>\n",
       "      <td>Cups</td>\n",
       "      <td>10.9</td>\n",
       "    </tr>\n",
       "    <tr>\n",
       "      <th>1</th>\n",
       "      <td>20413488326838</td>\n",
       "      <td>Penalty/16</td>\n",
       "      <td>Verkoopsartikel</td>\n",
       "      <td>Hand Ice</td>\n",
       "      <td>6.5</td>\n",
       "    </tr>\n",
       "    <tr>\n",
       "      <th>2</th>\n",
       "      <td>21515648414638</td>\n",
       "      <td>Kriekentaart</td>\n",
       "      <td>Verkoopsartikel</td>\n",
       "      <td>Coffee</td>\n",
       "      <td>7.9</td>\n",
       "    </tr>\n",
       "    <tr>\n",
       "      <th>3</th>\n",
       "      <td>20296288686840</td>\n",
       "      <td>Expo met zachte wafel/12</td>\n",
       "      <td>Verkoopsartikel</td>\n",
       "      <td>Individual Dessert</td>\n",
       "      <td>7.3</td>\n",
       "    </tr>\n",
       "    <tr>\n",
       "      <th>4</th>\n",
       "      <td>21844652504048</td>\n",
       "      <td>Paaseitjes</td>\n",
       "      <td>Verkoopsartikel</td>\n",
       "      <td>Individual Dessert</td>\n",
       "      <td>7.5</td>\n",
       "    </tr>\n",
       "  </tbody>\n",
       "</table>\n",
       "</div>"
      ],
      "text/plain": [
       "         AR0_NRID               DESCRIPTION         CATEGORY  \\\n",
       "0  20742288286838        Dessert Caramel/14  Verkoopsartikel   \n",
       "1  20413488326838                Penalty/16  Verkoopsartikel   \n",
       "2  21515648414638              Kriekentaart  Verkoopsartikel   \n",
       "3  20296288686840  Expo met zachte wafel/12  Verkoopsartikel   \n",
       "4  21844652504048                Paaseitjes  Verkoopsartikel   \n",
       "\n",
       "               FAMILY  PRICE  \n",
       "0                Cups   10.9  \n",
       "1            Hand Ice    6.5  \n",
       "2              Coffee    7.9  \n",
       "3  Individual Dessert    7.3  \n",
       "4  Individual Dessert    7.5  "
      ]
     },
     "execution_count": 89,
     "metadata": {},
     "output_type": "execute_result"
    }
   ],
   "source": [
    "# inspect the first 5 products\n",
    "hvc_ar0.head(5)"
   ]
  },
  {
   "cell_type": "code",
   "execution_count": 90,
   "id": "8f40a1aa",
   "metadata": {
    "scrolled": false
   },
   "outputs": [
    {
     "data": {
      "text/plain": [
       "AR0_NRID         int64\n",
       "DESCRIPTION     object\n",
       "CATEGORY        object\n",
       "FAMILY          object\n",
       "PRICE          float64\n",
       "dtype: object"
      ]
     },
     "execution_count": 90,
     "metadata": {},
     "output_type": "execute_result"
    }
   ],
   "source": [
    "# check dtypes\n",
    "hvc_ar0.dtypes"
   ]
  },
  {
   "cell_type": "code",
   "execution_count": 91,
   "id": "e6966c7f",
   "metadata": {},
   "outputs": [
    {
     "data": {
      "text/plain": [
       "count             317\n",
       "unique            314\n",
       "top       Rijstevlaai\n",
       "freq                2\n",
       "Name: DESCRIPTION, dtype: object"
      ]
     },
     "execution_count": 91,
     "metadata": {},
     "output_type": "execute_result"
    }
   ],
   "source": [
    "# inspect some descriptive statistics with respect to the description\n",
    "hvc_ar0[\"DESCRIPTION\"].describe()"
   ]
  },
  {
   "cell_type": "code",
   "execution_count": 92,
   "id": "dc5446f4",
   "metadata": {},
   "outputs": [
    {
     "data": {
      "text/plain": [
       "count                 317\n",
       "unique                  3\n",
       "top       Verkoopsartikel\n",
       "freq                  287\n",
       "Name: CATEGORY, dtype: object"
      ]
     },
     "execution_count": 92,
     "metadata": {},
     "output_type": "execute_result"
    }
   ],
   "source": [
    "# inspect some descriptive statistics with respect to the category\n",
    "hvc_ar0[\"CATEGORY\"].describe()"
   ]
  },
  {
   "cell_type": "code",
   "execution_count": 93,
   "id": "92300256",
   "metadata": {
    "scrolled": true
   },
   "outputs": [
    {
     "data": {
      "text/plain": [
       "count           275\n",
       "unique           11\n",
       "top       Scoop Ice\n",
       "freq             64\n",
       "Name: FAMILY, dtype: object"
      ]
     },
     "execution_count": 93,
     "metadata": {},
     "output_type": "execute_result"
    }
   ],
   "source": [
    "# inspect some descriptive statistics with respect to the family\n",
    "hvc_ar0[\"FAMILY\"].describe()"
   ]
  },
  {
   "cell_type": "code",
   "execution_count": 94,
   "id": "2fef8ed1",
   "metadata": {},
   "outputs": [
    {
     "data": {
      "text/plain": [
       "317"
      ]
     },
     "execution_count": 94,
     "metadata": {},
     "output_type": "execute_result"
    }
   ],
   "source": [
    "# inspect the total number of products \n",
    "len(hvc_ar0[\"AR0_NRID\"].unique())"
   ]
  },
  {
   "cell_type": "code",
   "execution_count": 95,
   "id": "b8afe79b",
   "metadata": {},
   "outputs": [
    {
     "data": {
      "text/plain": [
       "Scoop Ice             0.232727\n",
       "Hand Ice              0.167273\n",
       "Cups                  0.134545\n",
       "Meals                 0.130909\n",
       "Coffee                0.083636\n",
       "Ice Cakes             0.083636\n",
       "Individual Dessert    0.080000\n",
       "Garniture             0.043636\n",
       "Assortments           0.029091\n",
       "POS inside            0.007273\n",
       "BIG                   0.007273\n",
       "Name: FAMILY, dtype: float64"
      ]
     },
     "execution_count": 95,
     "metadata": {},
     "output_type": "execute_result"
    }
   ],
   "source": [
    "# inspect the proportion of product families\n",
    "hvc_ar0[\"FAMILY\"].value_counts(normalize=True)"
   ]
  },
  {
   "cell_type": "code",
   "execution_count": 96,
   "id": "977c869f",
   "metadata": {},
   "outputs": [
    {
     "data": {
      "text/plain": [
       "count    286.000000\n",
       "mean       7.763112\n",
       "std        5.948013\n",
       "min      -25.000000\n",
       "25%        5.125000\n",
       "50%        7.600000\n",
       "75%        9.600000\n",
       "max       37.000000\n",
       "Name: PRICE, dtype: float64"
      ]
     },
     "execution_count": 96,
     "metadata": {},
     "output_type": "execute_result"
    }
   ],
   "source": [
    "# get some descriptive statistics with respect to the price of the products\n",
    "hvc_ar0[\"PRICE\"].describe()"
   ]
  },
  {
   "cell_type": "code",
   "execution_count": 97,
   "id": "480ab0ec",
   "metadata": {},
   "outputs": [
    {
     "data": {
      "text/html": [
       "<div>\n",
       "<style scoped>\n",
       "    .dataframe tbody tr th:only-of-type {\n",
       "        vertical-align: middle;\n",
       "    }\n",
       "\n",
       "    .dataframe tbody tr th {\n",
       "        vertical-align: top;\n",
       "    }\n",
       "\n",
       "    .dataframe thead th {\n",
       "        text-align: right;\n",
       "    }\n",
       "</style>\n",
       "<table border=\"1\" class=\"dataframe\">\n",
       "  <thead>\n",
       "    <tr style=\"text-align: right;\">\n",
       "      <th></th>\n",
       "      <th>AR0_NRID</th>\n",
       "      <th>DESCRIPTION</th>\n",
       "      <th>CATEGORY</th>\n",
       "      <th>FAMILY</th>\n",
       "      <th>PRICE</th>\n",
       "    </tr>\n",
       "  </thead>\n",
       "  <tbody>\n",
       "    <tr>\n",
       "      <th>21</th>\n",
       "      <td>57367272</td>\n",
       "      <td>Bon -2,5euro zomermailing07</td>\n",
       "      <td>Kortingsbon</td>\n",
       "      <td>NaN</td>\n",
       "      <td>-2.5</td>\n",
       "    </tr>\n",
       "    <tr>\n",
       "      <th>54</th>\n",
       "      <td>54251376</td>\n",
       "      <td>Bon chocolate surprise Utopoli</td>\n",
       "      <td>Kortingsbon</td>\n",
       "      <td>NaN</td>\n",
       "      <td>-5.2</td>\n",
       "    </tr>\n",
       "    <tr>\n",
       "      <th>63</th>\n",
       "      <td>62157503</td>\n",
       "      <td>Bon -7,40 euro</td>\n",
       "      <td>Kortingsbon</td>\n",
       "      <td>NaN</td>\n",
       "      <td>-7.4</td>\n",
       "    </tr>\n",
       "    <tr>\n",
       "      <th>64</th>\n",
       "      <td>62315111</td>\n",
       "      <td>Bon duette deluxe/6 bij AK min</td>\n",
       "      <td>Kortingsbon</td>\n",
       "      <td>NaN</td>\n",
       "      <td>-4.2</td>\n",
       "    </tr>\n",
       "    <tr>\n",
       "      <th>71</th>\n",
       "      <td>55360457</td>\n",
       "      <td>Bon gratis deco Nieuwsblad/Ver</td>\n",
       "      <td>Kortingsbon</td>\n",
       "      <td>NaN</td>\n",
       "      <td>-4.1</td>\n",
       "    </tr>\n",
       "    <tr>\n",
       "      <th>186</th>\n",
       "      <td>21454356698044</td>\n",
       "      <td>Bon -1,9 euro bij AK 15 euro</td>\n",
       "      <td>Kortingsbon</td>\n",
       "      <td>NaN</td>\n",
       "      <td>-1.9</td>\n",
       "    </tr>\n",
       "    <tr>\n",
       "      <th>187</th>\n",
       "      <td>21142456138046</td>\n",
       "      <td>Bon -4,10euro bij AK van min 2</td>\n",
       "      <td>Kortingsbon</td>\n",
       "      <td>NaN</td>\n",
       "      <td>-4.1</td>\n",
       "    </tr>\n",
       "    <tr>\n",
       "      <th>218</th>\n",
       "      <td>52529668</td>\n",
       "      <td>Bon-6,90euro bij AK van min 35</td>\n",
       "      <td>Kortingsbon</td>\n",
       "      <td>NaN</td>\n",
       "      <td>-7.4</td>\n",
       "    </tr>\n",
       "    <tr>\n",
       "      <th>230</th>\n",
       "      <td>53569504</td>\n",
       "      <td>Bon-3,90euro KVLV 2007</td>\n",
       "      <td>Kortingsbon</td>\n",
       "      <td>NaN</td>\n",
       "      <td>-4.1</td>\n",
       "    </tr>\n",
       "    <tr>\n",
       "      <th>231</th>\n",
       "      <td>53614655</td>\n",
       "      <td>Bon -10euro Exellent</td>\n",
       "      <td>Kortingsbon</td>\n",
       "      <td>NaN</td>\n",
       "      <td>-10.0</td>\n",
       "    </tr>\n",
       "    <tr>\n",
       "      <th>237</th>\n",
       "      <td>47703913</td>\n",
       "      <td>Bon 25 euro Brebos</td>\n",
       "      <td>Kortingsbon</td>\n",
       "      <td>NaN</td>\n",
       "      <td>-25.0</td>\n",
       "    </tr>\n",
       "    <tr>\n",
       "      <th>255</th>\n",
       "      <td>681916</td>\n",
       "      <td>Cadeaubon 10 euro</td>\n",
       "      <td>Kortingsbon</td>\n",
       "      <td>NaN</td>\n",
       "      <td>-10.0</td>\n",
       "    </tr>\n",
       "    <tr>\n",
       "      <th>286</th>\n",
       "      <td>61239668</td>\n",
       "      <td>Bon kerstmailing â¿¬2,5</td>\n",
       "      <td>Kortingsbon</td>\n",
       "      <td>NaN</td>\n",
       "      <td>-2.5</td>\n",
       "    </tr>\n",
       "    <tr>\n",
       "      <th>288</th>\n",
       "      <td>22611748246244</td>\n",
       "      <td>Bon -1 euro bij AK 10 euro icy</td>\n",
       "      <td>Kortingsbon</td>\n",
       "      <td>NaN</td>\n",
       "      <td>-1.0</td>\n",
       "    </tr>\n",
       "    <tr>\n",
       "      <th>289</th>\n",
       "      <td>22092648256244</td>\n",
       "      <td>Bon -6,7euro</td>\n",
       "      <td>Kortingsbon</td>\n",
       "      <td>NaN</td>\n",
       "      <td>-7.4</td>\n",
       "    </tr>\n",
       "    <tr>\n",
       "      <th>316</th>\n",
       "      <td>20985584414848</td>\n",
       "      <td>Bon 1L roomijs naar keuze</td>\n",
       "      <td>Kortingsbon</td>\n",
       "      <td>NaN</td>\n",
       "      <td>-3.9</td>\n",
       "    </tr>\n",
       "  </tbody>\n",
       "</table>\n",
       "</div>"
      ],
      "text/plain": [
       "           AR0_NRID                     DESCRIPTION     CATEGORY FAMILY  PRICE\n",
       "21         57367272     Bon -2,5euro zomermailing07  Kortingsbon    NaN   -2.5\n",
       "54         54251376  Bon chocolate surprise Utopoli  Kortingsbon    NaN   -5.2\n",
       "63         62157503                  Bon -7,40 euro  Kortingsbon    NaN   -7.4\n",
       "64         62315111  Bon duette deluxe/6 bij AK min  Kortingsbon    NaN   -4.2\n",
       "71         55360457  Bon gratis deco Nieuwsblad/Ver  Kortingsbon    NaN   -4.1\n",
       "186  21454356698044    Bon -1,9 euro bij AK 15 euro  Kortingsbon    NaN   -1.9\n",
       "187  21142456138046  Bon -4,10euro bij AK van min 2  Kortingsbon    NaN   -4.1\n",
       "218        52529668  Bon-6,90euro bij AK van min 35  Kortingsbon    NaN   -7.4\n",
       "230        53569504          Bon-3,90euro KVLV 2007  Kortingsbon    NaN   -4.1\n",
       "231        53614655            Bon -10euro Exellent  Kortingsbon    NaN  -10.0\n",
       "237        47703913              Bon 25 euro Brebos  Kortingsbon    NaN  -25.0\n",
       "255          681916               Cadeaubon 10 euro  Kortingsbon    NaN  -10.0\n",
       "286        61239668         Bon kerstmailing â¿¬2,5  Kortingsbon    NaN   -2.5\n",
       "288  22611748246244  Bon -1 euro bij AK 10 euro icy  Kortingsbon    NaN   -1.0\n",
       "289  22092648256244                    Bon -6,7euro  Kortingsbon    NaN   -7.4\n",
       "316  20985584414848       Bon 1L roomijs naar keuze  Kortingsbon    NaN   -3.9"
      ]
     },
     "execution_count": 97,
     "metadata": {},
     "output_type": "execute_result"
    }
   ],
   "source": [
    "# inspect which products had a negative price\n",
    "hvc_ar0[hvc_ar0[\"PRICE\"] < 0]"
   ]
  },
  {
   "cell_type": "markdown",
   "id": "bf38a59d",
   "metadata": {},
   "source": [
    "### 2.1.3 hvc_customer_reviews (reviews)"
   ]
  },
  {
   "cell_type": "code",
   "execution_count": 98,
   "id": "0d2d5c05",
   "metadata": {
    "scrolled": true
   },
   "outputs": [
    {
     "data": {
      "text/html": [
       "<div>\n",
       "<style scoped>\n",
       "    .dataframe tbody tr th:only-of-type {\n",
       "        vertical-align: middle;\n",
       "    }\n",
       "\n",
       "    .dataframe tbody tr th {\n",
       "        vertical-align: top;\n",
       "    }\n",
       "\n",
       "    .dataframe thead th {\n",
       "        text-align: right;\n",
       "    }\n",
       "</style>\n",
       "<table border=\"1\" class=\"dataframe\">\n",
       "  <thead>\n",
       "    <tr style=\"text-align: right;\">\n",
       "      <th></th>\n",
       "      <th>SO0_NRID</th>\n",
       "      <th>REVIEW</th>\n",
       "    </tr>\n",
       "  </thead>\n",
       "  <tbody>\n",
       "    <tr>\n",
       "      <th>0</th>\n",
       "      <td>719952</td>\n",
       "      <td>Good service, satisfied</td>\n",
       "    </tr>\n",
       "    <tr>\n",
       "      <th>1</th>\n",
       "      <td>1453609</td>\n",
       "      <td>No opinion</td>\n",
       "    </tr>\n",
       "    <tr>\n",
       "      <th>2</th>\n",
       "      <td>1453614</td>\n",
       "      <td>No opinion</td>\n",
       "    </tr>\n",
       "    <tr>\n",
       "      <th>3</th>\n",
       "      <td>1453602</td>\n",
       "      <td>Excellent service, very satisfied</td>\n",
       "    </tr>\n",
       "    <tr>\n",
       "      <th>4</th>\n",
       "      <td>1252497</td>\n",
       "      <td>No opinion</td>\n",
       "    </tr>\n",
       "    <tr>\n",
       "      <th>...</th>\n",
       "      <td>...</td>\n",
       "      <td>...</td>\n",
       "    </tr>\n",
       "    <tr>\n",
       "      <th>5107</th>\n",
       "      <td>25528089708344</td>\n",
       "      <td>No opinion</td>\n",
       "    </tr>\n",
       "    <tr>\n",
       "      <th>5108</th>\n",
       "      <td>25624580427646</td>\n",
       "      <td>No opinion</td>\n",
       "    </tr>\n",
       "    <tr>\n",
       "      <th>5109</th>\n",
       "      <td>25616776446438</td>\n",
       "      <td>Good service, satisfied</td>\n",
       "    </tr>\n",
       "    <tr>\n",
       "      <th>5110</th>\n",
       "      <td>73260813</td>\n",
       "      <td>Excellent service, very satisfied</td>\n",
       "    </tr>\n",
       "    <tr>\n",
       "      <th>5111</th>\n",
       "      <td>25321593368148</td>\n",
       "      <td>No opinion</td>\n",
       "    </tr>\n",
       "  </tbody>\n",
       "</table>\n",
       "<p>5112 rows × 2 columns</p>\n",
       "</div>"
      ],
      "text/plain": [
       "            SO0_NRID                             REVIEW\n",
       "0             719952            Good service, satisfied\n",
       "1            1453609                         No opinion\n",
       "2            1453614                         No opinion\n",
       "3            1453602  Excellent service, very satisfied\n",
       "4            1252497                         No opinion\n",
       "...              ...                                ...\n",
       "5107  25528089708344                         No opinion\n",
       "5108  25624580427646                         No opinion\n",
       "5109  25616776446438            Good service, satisfied\n",
       "5110        73260813  Excellent service, very satisfied\n",
       "5111  25321593368148                         No opinion\n",
       "\n",
       "[5112 rows x 2 columns]"
      ]
     },
     "execution_count": 98,
     "metadata": {},
     "output_type": "execute_result"
    }
   ],
   "source": [
    "# inspect table\n",
    "hvc_customer_reviews"
   ]
  },
  {
   "cell_type": "code",
   "execution_count": 99,
   "id": "39d75176",
   "metadata": {
    "scrolled": true
   },
   "outputs": [
    {
     "data": {
      "text/html": [
       "<div>\n",
       "<style scoped>\n",
       "    .dataframe tbody tr th:only-of-type {\n",
       "        vertical-align: middle;\n",
       "    }\n",
       "\n",
       "    .dataframe tbody tr th {\n",
       "        vertical-align: top;\n",
       "    }\n",
       "\n",
       "    .dataframe thead th {\n",
       "        text-align: right;\n",
       "    }\n",
       "</style>\n",
       "<table border=\"1\" class=\"dataframe\">\n",
       "  <thead>\n",
       "    <tr style=\"text-align: right;\">\n",
       "      <th></th>\n",
       "      <th>SO0_NRID</th>\n",
       "      <th>REVIEW</th>\n",
       "    </tr>\n",
       "  </thead>\n",
       "  <tbody>\n",
       "    <tr>\n",
       "      <th>0</th>\n",
       "      <td>719952</td>\n",
       "      <td>Good service, satisfied</td>\n",
       "    </tr>\n",
       "    <tr>\n",
       "      <th>1</th>\n",
       "      <td>1453609</td>\n",
       "      <td>No opinion</td>\n",
       "    </tr>\n",
       "    <tr>\n",
       "      <th>2</th>\n",
       "      <td>1453614</td>\n",
       "      <td>No opinion</td>\n",
       "    </tr>\n",
       "    <tr>\n",
       "      <th>3</th>\n",
       "      <td>1453602</td>\n",
       "      <td>Excellent service, very satisfied</td>\n",
       "    </tr>\n",
       "    <tr>\n",
       "      <th>4</th>\n",
       "      <td>1252497</td>\n",
       "      <td>No opinion</td>\n",
       "    </tr>\n",
       "  </tbody>\n",
       "</table>\n",
       "</div>"
      ],
      "text/plain": [
       "   SO0_NRID                             REVIEW\n",
       "0    719952            Good service, satisfied\n",
       "1   1453609                         No opinion\n",
       "2   1453614                         No opinion\n",
       "3   1453602  Excellent service, very satisfied\n",
       "4   1252497                         No opinion"
      ]
     },
     "execution_count": 99,
     "metadata": {},
     "output_type": "execute_result"
    }
   ],
   "source": [
    "# inspect the first 5 reviews\n",
    "hvc_customer_reviews.head(5)"
   ]
  },
  {
   "cell_type": "code",
   "execution_count": 100,
   "id": "3c4de4ee",
   "metadata": {},
   "outputs": [
    {
     "data": {
      "text/plain": [
       "5112"
      ]
     },
     "execution_count": 100,
     "metadata": {},
     "output_type": "execute_result"
    }
   ],
   "source": [
    "# inspect the total number of reviews\n",
    "len(hvc_customer_reviews[\"SO0_NRID\"].unique())"
   ]
  },
  {
   "cell_type": "code",
   "execution_count": 101,
   "id": "3f9d7237",
   "metadata": {},
   "outputs": [
    {
     "data": {
      "text/plain": [
       "SO0_NRID     int64\n",
       "REVIEW      object\n",
       "dtype: object"
      ]
     },
     "execution_count": 101,
     "metadata": {},
     "output_type": "execute_result"
    }
   ],
   "source": [
    "# checking dtypes\n",
    "hvc_customer_reviews.dtypes"
   ]
  },
  {
   "cell_type": "code",
   "execution_count": 102,
   "id": "4230e3e0",
   "metadata": {},
   "outputs": [
    {
     "data": {
      "text/plain": [
       "array(['Good service, satisfied', 'No opinion',\n",
       "       'Excellent service, very satisfied', 'Not completely satisfied',\n",
       "       'Very bad service, very unsatisfied'], dtype=object)"
      ]
     },
     "execution_count": 102,
     "metadata": {},
     "output_type": "execute_result"
    }
   ],
   "source": [
    "# checking kind of reviews\n",
    "pd.unique(hvc_customer_reviews[\"REVIEW\"])"
   ]
  },
  {
   "cell_type": "code",
   "execution_count": 103,
   "id": "aa0e8733",
   "metadata": {},
   "outputs": [
    {
     "data": {
      "text/plain": [
       "count                        5112\n",
       "unique                          5\n",
       "top       Good service, satisfied\n",
       "freq                         2177\n",
       "Name: REVIEW, dtype: object"
      ]
     },
     "execution_count": 103,
     "metadata": {},
     "output_type": "execute_result"
    }
   ],
   "source": [
    "# inspect some descriptive statistics with respect to the transaction amount\n",
    "hvc_customer_reviews[\"REVIEW\"].describe()"
   ]
  },
  {
   "cell_type": "code",
   "execution_count": 104,
   "id": "f8b164ac",
   "metadata": {},
   "outputs": [
    {
     "name": "stderr",
     "output_type": "stream",
     "text": [
      "C:\\Users\\Lenne\\anaconda3\\lib\\site-packages\\pandas\\core\\computation\\expressions.py:204: UserWarning: evaluating in Python space because the '+' operator is not supported by numexpr for the bool dtype, use '|' instead\n",
      "  warnings.warn(\n"
     ]
    },
    {
     "data": {
      "text/plain": [
       "0.5185837245696401"
      ]
     },
     "execution_count": 104,
     "metadata": {},
     "output_type": "execute_result"
    }
   ],
   "source": [
    "# proportion of good or excellent reviews\n",
    "\n",
    "sum((hvc_customer_reviews[\"REVIEW\"] == \"Good service, satisfied\") + (hvc_customer_reviews[\"REVIEW\"] == \"Excellent service, very satisfied\")) / len(hvc_customer_reviews)\n",
    "    \n",
    "    \n"
   ]
  },
  {
   "cell_type": "code",
   "execution_count": 105,
   "id": "59ed4c56",
   "metadata": {},
   "outputs": [
    {
     "data": {
      "text/plain": [
       "0.09272300469483569"
      ]
     },
     "execution_count": 105,
     "metadata": {},
     "output_type": "execute_result"
    }
   ],
   "source": [
    "# proportion of excellent reviews\n",
    "sum((hvc_customer_reviews[\"REVIEW\"] == \"Excellent service, very satisfied\")) / len(hvc_customer_reviews)\n",
    "\n"
   ]
  },
  {
   "cell_type": "code",
   "execution_count": 106,
   "id": "1934e96b",
   "metadata": {},
   "outputs": [
    {
     "data": {
      "text/plain": [
       "0.0"
      ]
     },
     "execution_count": 106,
     "metadata": {},
     "output_type": "execute_result"
    }
   ],
   "source": [
    "# proportion of good reviews\n",
    "sum((hvc_customer_reviews[\"REVIEW\"] == \"Good service,  satisfied\")) / len(hvc_customer_reviews)"
   ]
  },
  {
   "cell_type": "code",
   "execution_count": 107,
   "id": "5bae74ce",
   "metadata": {},
   "outputs": [
    {
     "data": {
      "text/plain": [
       "0.08392018779342723"
      ]
     },
     "execution_count": 107,
     "metadata": {},
     "output_type": "execute_result"
    }
   ],
   "source": [
    "# proportion of bad reviews\n",
    "sum((hvc_customer_reviews[\"REVIEW\"] == \"Not completely satisfied\")) / len(hvc_customer_reviews)"
   ]
  },
  {
   "cell_type": "code",
   "execution_count": 108,
   "id": "2de8fa81",
   "metadata": {},
   "outputs": [
    {
     "data": {
      "text/plain": [
       "0.009780907668231613"
      ]
     },
     "execution_count": 108,
     "metadata": {},
     "output_type": "execute_result"
    }
   ],
   "source": [
    "# proportion of terrible reviews\n",
    "sum((hvc_customer_reviews[\"REVIEW\"] == \"Very bad service, very unsatisfied\")) / len(hvc_customer_reviews)"
   ]
  },
  {
   "cell_type": "markdown",
   "id": "b3074732",
   "metadata": {},
   "source": [
    "## 2.2 Data Set 2 (hvc_depot + hvc_hvdayoftheweek + hvc_hvposition) -> Guillaume"
   ]
  },
  {
   "cell_type": "markdown",
   "id": "bf39385f",
   "metadata": {},
   "source": [
    "### 2.2.1 hvc_depot"
   ]
  },
  {
   "cell_type": "markdown",
   "id": "7dba374f",
   "metadata": {},
   "source": [
    "Nog tekstje bijtypen"
   ]
  },
  {
   "cell_type": "code",
   "execution_count": 109,
   "id": "3c6bf835",
   "metadata": {
    "scrolled": false
   },
   "outputs": [
    {
     "data": {
      "text/html": [
       "<div>\n",
       "<style scoped>\n",
       "    .dataframe tbody tr th:only-of-type {\n",
       "        vertical-align: middle;\n",
       "    }\n",
       "\n",
       "    .dataframe tbody tr th {\n",
       "        vertical-align: top;\n",
       "    }\n",
       "\n",
       "    .dataframe thead th {\n",
       "        text-align: right;\n",
       "    }\n",
       "</style>\n",
       "<table border=\"1\" class=\"dataframe\">\n",
       "  <thead>\n",
       "    <tr style=\"text-align: right;\">\n",
       "      <th></th>\n",
       "      <th>DEPOT_ID</th>\n",
       "      <th>DEPOT</th>\n",
       "      <th>HVROUTETEMPLATE_NRID</th>\n",
       "    </tr>\n",
       "  </thead>\n",
       "  <tbody>\n",
       "    <tr>\n",
       "      <th>0</th>\n",
       "      <td>0</td>\n",
       "      <td>Deinze</td>\n",
       "      <td>219020601</td>\n",
       "    </tr>\n",
       "    <tr>\n",
       "      <th>1</th>\n",
       "      <td>1</td>\n",
       "      <td>Deinze</td>\n",
       "      <td>219021241</td>\n",
       "    </tr>\n",
       "    <tr>\n",
       "      <th>2</th>\n",
       "      <td>2</td>\n",
       "      <td>Deinze</td>\n",
       "      <td>219024456</td>\n",
       "    </tr>\n",
       "    <tr>\n",
       "      <th>3</th>\n",
       "      <td>3</td>\n",
       "      <td>Deinze</td>\n",
       "      <td>219021882</td>\n",
       "    </tr>\n",
       "    <tr>\n",
       "      <th>4</th>\n",
       "      <td>4</td>\n",
       "      <td>Deinze</td>\n",
       "      <td>219022524</td>\n",
       "    </tr>\n",
       "    <tr>\n",
       "      <th>5</th>\n",
       "      <td>5</td>\n",
       "      <td>Deinze</td>\n",
       "      <td>219023167</td>\n",
       "    </tr>\n",
       "    <tr>\n",
       "      <th>6</th>\n",
       "      <td>6</td>\n",
       "      <td>Deinze</td>\n",
       "      <td>219023811</td>\n",
       "    </tr>\n",
       "    <tr>\n",
       "      <th>7</th>\n",
       "      <td>7</td>\n",
       "      <td>Deinze</td>\n",
       "      <td>219019324</td>\n",
       "    </tr>\n",
       "    <tr>\n",
       "      <th>8</th>\n",
       "      <td>8</td>\n",
       "      <td>Deinze</td>\n",
       "      <td>219019962</td>\n",
       "    </tr>\n",
       "    <tr>\n",
       "      <th>9</th>\n",
       "      <td>9</td>\n",
       "      <td>Deinze</td>\n",
       "      <td>289414945</td>\n",
       "    </tr>\n",
       "    <tr>\n",
       "      <th>10</th>\n",
       "      <td>10</td>\n",
       "      <td>Deinze</td>\n",
       "      <td>289757472</td>\n",
       "    </tr>\n",
       "    <tr>\n",
       "      <th>11</th>\n",
       "      <td>11</td>\n",
       "      <td>Deinze</td>\n",
       "      <td>70671404</td>\n",
       "    </tr>\n",
       "    <tr>\n",
       "      <th>12</th>\n",
       "      <td>12</td>\n",
       "      <td>Antwerpen</td>\n",
       "      <td>219018687</td>\n",
       "    </tr>\n",
       "    <tr>\n",
       "      <th>13</th>\n",
       "      <td>13</td>\n",
       "      <td>Antwerpen</td>\n",
       "      <td>289756470</td>\n",
       "    </tr>\n",
       "    <tr>\n",
       "      <th>14</th>\n",
       "      <td>14</td>\n",
       "      <td>Antwerpen</td>\n",
       "      <td>289755468</td>\n",
       "    </tr>\n",
       "    <tr>\n",
       "      <th>15</th>\n",
       "      <td>15</td>\n",
       "      <td>Antwerpen</td>\n",
       "      <td>289759476</td>\n",
       "    </tr>\n",
       "    <tr>\n",
       "      <th>16</th>\n",
       "      <td>16</td>\n",
       "      <td>Antwerpen</td>\n",
       "      <td>289763484</td>\n",
       "    </tr>\n",
       "    <tr>\n",
       "      <th>17</th>\n",
       "      <td>17</td>\n",
       "      <td>Antwerpen</td>\n",
       "      <td>289758474</td>\n",
       "    </tr>\n",
       "    <tr>\n",
       "      <th>18</th>\n",
       "      <td>18</td>\n",
       "      <td>Antwerpen</td>\n",
       "      <td>289762482</td>\n",
       "    </tr>\n",
       "    <tr>\n",
       "      <th>19</th>\n",
       "      <td>19</td>\n",
       "      <td>Antwerpen</td>\n",
       "      <td>289764486</td>\n",
       "    </tr>\n",
       "    <tr>\n",
       "      <th>20</th>\n",
       "      <td>20</td>\n",
       "      <td>Antwerpen</td>\n",
       "      <td>289760478</td>\n",
       "    </tr>\n",
       "    <tr>\n",
       "      <th>21</th>\n",
       "      <td>21</td>\n",
       "      <td>Vilvoorde</td>\n",
       "      <td>289416949</td>\n",
       "    </tr>\n",
       "    <tr>\n",
       "      <th>22</th>\n",
       "      <td>22</td>\n",
       "      <td>Vilvoorde</td>\n",
       "      <td>289761480</td>\n",
       "    </tr>\n",
       "    <tr>\n",
       "      <th>23</th>\n",
       "      <td>23</td>\n",
       "      <td>Vilvoorde</td>\n",
       "      <td>289419955</td>\n",
       "    </tr>\n",
       "    <tr>\n",
       "      <th>24</th>\n",
       "      <td>24</td>\n",
       "      <td>Vilvoorde</td>\n",
       "      <td>289417951</td>\n",
       "    </tr>\n",
       "    <tr>\n",
       "      <th>25</th>\n",
       "      <td>25</td>\n",
       "      <td>Vilvoorde</td>\n",
       "      <td>289418953</td>\n",
       "    </tr>\n",
       "    <tr>\n",
       "      <th>26</th>\n",
       "      <td>26</td>\n",
       "      <td>Vilvoorde</td>\n",
       "      <td>289411939</td>\n",
       "    </tr>\n",
       "    <tr>\n",
       "      <th>27</th>\n",
       "      <td>27</td>\n",
       "      <td>Vilvoorde</td>\n",
       "      <td>289412941</td>\n",
       "    </tr>\n",
       "    <tr>\n",
       "      <th>28</th>\n",
       "      <td>28</td>\n",
       "      <td>Vilvoorde</td>\n",
       "      <td>289661606</td>\n",
       "    </tr>\n",
       "    <tr>\n",
       "      <th>29</th>\n",
       "      <td>29</td>\n",
       "      <td>Vilvoorde</td>\n",
       "      <td>289413943</td>\n",
       "    </tr>\n",
       "    <tr>\n",
       "      <th>30</th>\n",
       "      <td>30</td>\n",
       "      <td>Vilvoorde</td>\n",
       "      <td>289655594</td>\n",
       "    </tr>\n",
       "    <tr>\n",
       "      <th>31</th>\n",
       "      <td>31</td>\n",
       "      <td>Vilvoorde</td>\n",
       "      <td>289659602</td>\n",
       "    </tr>\n",
       "    <tr>\n",
       "      <th>32</th>\n",
       "      <td>32</td>\n",
       "      <td>Vilvoorde</td>\n",
       "      <td>289660604</td>\n",
       "    </tr>\n",
       "    <tr>\n",
       "      <th>33</th>\n",
       "      <td>33</td>\n",
       "      <td>Vilvoorde</td>\n",
       "      <td>289656596</td>\n",
       "    </tr>\n",
       "    <tr>\n",
       "      <th>34</th>\n",
       "      <td>34</td>\n",
       "      <td>Vilvoorde</td>\n",
       "      <td>289656596</td>\n",
       "    </tr>\n",
       "    <tr>\n",
       "      <th>35</th>\n",
       "      <td>35</td>\n",
       "      <td>Vilvoorde</td>\n",
       "      <td>289664612</td>\n",
       "    </tr>\n",
       "    <tr>\n",
       "      <th>36</th>\n",
       "      <td>36</td>\n",
       "      <td>Aarschot</td>\n",
       "      <td>289663610</td>\n",
       "    </tr>\n",
       "    <tr>\n",
       "      <th>37</th>\n",
       "      <td>37</td>\n",
       "      <td>Aarschot</td>\n",
       "      <td>289662608</td>\n",
       "    </tr>\n",
       "    <tr>\n",
       "      <th>38</th>\n",
       "      <td>38</td>\n",
       "      <td>Aarschot</td>\n",
       "      <td>289658600</td>\n",
       "    </tr>\n",
       "    <tr>\n",
       "      <th>39</th>\n",
       "      <td>39</td>\n",
       "      <td>Aarschot</td>\n",
       "      <td>289657598</td>\n",
       "    </tr>\n",
       "  </tbody>\n",
       "</table>\n",
       "</div>"
      ],
      "text/plain": [
       "    DEPOT_ID      DEPOT  HVROUTETEMPLATE_NRID\n",
       "0          0     Deinze             219020601\n",
       "1          1     Deinze             219021241\n",
       "2          2     Deinze             219024456\n",
       "3          3     Deinze             219021882\n",
       "4          4     Deinze             219022524\n",
       "5          5     Deinze             219023167\n",
       "6          6     Deinze             219023811\n",
       "7          7     Deinze             219019324\n",
       "8          8     Deinze             219019962\n",
       "9          9     Deinze             289414945\n",
       "10        10     Deinze             289757472\n",
       "11        11     Deinze              70671404\n",
       "12        12  Antwerpen             219018687\n",
       "13        13  Antwerpen             289756470\n",
       "14        14  Antwerpen             289755468\n",
       "15        15  Antwerpen             289759476\n",
       "16        16  Antwerpen             289763484\n",
       "17        17  Antwerpen             289758474\n",
       "18        18  Antwerpen             289762482\n",
       "19        19  Antwerpen             289764486\n",
       "20        20  Antwerpen             289760478\n",
       "21        21  Vilvoorde             289416949\n",
       "22        22  Vilvoorde             289761480\n",
       "23        23  Vilvoorde             289419955\n",
       "24        24  Vilvoorde             289417951\n",
       "25        25  Vilvoorde             289418953\n",
       "26        26  Vilvoorde             289411939\n",
       "27        27  Vilvoorde             289412941\n",
       "28        28  Vilvoorde             289661606\n",
       "29        29  Vilvoorde             289413943\n",
       "30        30  Vilvoorde             289655594\n",
       "31        31  Vilvoorde             289659602\n",
       "32        32  Vilvoorde             289660604\n",
       "33        33  Vilvoorde             289656596\n",
       "34        34  Vilvoorde             289656596\n",
       "35        35  Vilvoorde             289664612\n",
       "36        36   Aarschot             289663610\n",
       "37        37   Aarschot             289662608\n",
       "38        38   Aarschot             289658600\n",
       "39        39   Aarschot             289657598"
      ]
     },
     "execution_count": 109,
     "metadata": {},
     "output_type": "execute_result"
    }
   ],
   "source": [
    "hvc_depot"
   ]
  },
  {
   "cell_type": "code",
   "execution_count": 110,
   "id": "0866888c",
   "metadata": {
    "scrolled": true
   },
   "outputs": [
    {
     "data": {
      "text/plain": [
       "40"
      ]
     },
     "execution_count": 110,
     "metadata": {},
     "output_type": "execute_result"
    }
   ],
   "source": [
    "len(hvc_depot)"
   ]
  },
  {
   "cell_type": "code",
   "execution_count": 111,
   "id": "6a3c7ae2",
   "metadata": {},
   "outputs": [
    {
     "data": {
      "text/plain": [
       "39"
      ]
     },
     "execution_count": 111,
     "metadata": {},
     "output_type": "execute_result"
    }
   ],
   "source": [
    "len(hvc_depot[\"HVROUTETEMPLATE_NRID\"].unique())"
   ]
  },
  {
   "cell_type": "code",
   "execution_count": 112,
   "id": "ea6591f3",
   "metadata": {
    "scrolled": true
   },
   "outputs": [
    {
     "data": {
      "text/plain": [
       "289656596    2\n",
       "289658600    1\n",
       "289655594    1\n",
       "289761480    1\n",
       "70671404     1\n",
       "289660604    1\n",
       "289659602    1\n",
       "289762482    1\n",
       "289419955    1\n",
       "289759476    1\n",
       "289664612    1\n",
       "289416949    1\n",
       "289756470    1\n",
       "289413943    1\n",
       "289663610    1\n",
       "219020601    1\n",
       "219021882    1\n",
       "219022524    1\n",
       "289657598    1\n",
       "219019324    1\n",
       "289661606    1\n",
       "219023811    1\n",
       "219018687    1\n",
       "289764486    1\n",
       "219024456    1\n",
       "289418953    1\n",
       "289758474    1\n",
       "289755468    1\n",
       "289412941    1\n",
       "289662608    1\n",
       "219021241    1\n",
       "219019962    1\n",
       "289763484    1\n",
       "289760478    1\n",
       "289417951    1\n",
       "289757472    1\n",
       "289414945    1\n",
       "289411939    1\n",
       "219023167    1\n",
       "Name: HVROUTETEMPLATE_NRID, dtype: int64"
      ]
     },
     "execution_count": 112,
     "metadata": {},
     "output_type": "execute_result"
    }
   ],
   "source": [
    "hvc_depot[\"HVROUTETEMPLATE_NRID\"].value_counts()"
   ]
  },
  {
   "cell_type": "code",
   "execution_count": 113,
   "id": "ed0ffb8a",
   "metadata": {},
   "outputs": [
    {
     "data": {
      "text/plain": [
       "4"
      ]
     },
     "execution_count": 113,
     "metadata": {},
     "output_type": "execute_result"
    }
   ],
   "source": [
    "len(hvc_depot[\"DEPOT\"].unique())"
   ]
  },
  {
   "cell_type": "code",
   "execution_count": 114,
   "id": "336ad86a",
   "metadata": {},
   "outputs": [
    {
     "data": {
      "text/plain": [
       "Vilvoorde    15\n",
       "Deinze       12\n",
       "Antwerpen     9\n",
       "Aarschot      4\n",
       "Name: DEPOT, dtype: int64"
      ]
     },
     "execution_count": 114,
     "metadata": {},
     "output_type": "execute_result"
    }
   ],
   "source": [
    "hvc_depot[\"DEPOT\"].value_counts()"
   ]
  },
  {
   "cell_type": "markdown",
   "id": "1347f6c3",
   "metadata": {},
   "source": [
    "### 2.2.2 hvc_hvdayofweek"
   ]
  },
  {
   "cell_type": "code",
   "execution_count": 115,
   "id": "b7d069cd",
   "metadata": {},
   "outputs": [
    {
     "data": {
      "text/html": [
       "<div>\n",
       "<style scoped>\n",
       "    .dataframe tbody tr th:only-of-type {\n",
       "        vertical-align: middle;\n",
       "    }\n",
       "\n",
       "    .dataframe tbody tr th {\n",
       "        vertical-align: top;\n",
       "    }\n",
       "\n",
       "    .dataframe thead th {\n",
       "        text-align: right;\n",
       "    }\n",
       "</style>\n",
       "<table border=\"1\" class=\"dataframe\">\n",
       "  <thead>\n",
       "    <tr style=\"text-align: right;\">\n",
       "      <th></th>\n",
       "      <th>HVDAYOFWEEK_NRID</th>\n",
       "      <th>DAY</th>\n",
       "    </tr>\n",
       "  </thead>\n",
       "  <tbody>\n",
       "    <tr>\n",
       "      <th>0</th>\n",
       "      <td>1</td>\n",
       "      <td>Sunday</td>\n",
       "    </tr>\n",
       "    <tr>\n",
       "      <th>1</th>\n",
       "      <td>2</td>\n",
       "      <td>Monday</td>\n",
       "    </tr>\n",
       "    <tr>\n",
       "      <th>2</th>\n",
       "      <td>3</td>\n",
       "      <td>Tuesday</td>\n",
       "    </tr>\n",
       "    <tr>\n",
       "      <th>3</th>\n",
       "      <td>4</td>\n",
       "      <td>Wednesday</td>\n",
       "    </tr>\n",
       "    <tr>\n",
       "      <th>4</th>\n",
       "      <td>5</td>\n",
       "      <td>Thursday</td>\n",
       "    </tr>\n",
       "    <tr>\n",
       "      <th>5</th>\n",
       "      <td>6</td>\n",
       "      <td>Friday</td>\n",
       "    </tr>\n",
       "    <tr>\n",
       "      <th>6</th>\n",
       "      <td>7</td>\n",
       "      <td>Saturday</td>\n",
       "    </tr>\n",
       "  </tbody>\n",
       "</table>\n",
       "</div>"
      ],
      "text/plain": [
       "   HVDAYOFWEEK_NRID        DAY\n",
       "0                 1     Sunday\n",
       "1                 2     Monday\n",
       "2                 3    Tuesday\n",
       "3                 4  Wednesday\n",
       "4                 5   Thursday\n",
       "5                 6     Friday\n",
       "6                 7   Saturday"
      ]
     },
     "execution_count": 115,
     "metadata": {},
     "output_type": "execute_result"
    }
   ],
   "source": [
    "hvc_hvdayofweek"
   ]
  },
  {
   "cell_type": "markdown",
   "id": "a27c1842",
   "metadata": {},
   "source": [
    "### 2.2.3 hvc_hvposition"
   ]
  },
  {
   "cell_type": "code",
   "execution_count": 116,
   "id": "d6f3ddfe",
   "metadata": {
    "scrolled": true
   },
   "outputs": [
    {
     "data": {
      "text/html": [
       "<div>\n",
       "<style scoped>\n",
       "    .dataframe tbody tr th:only-of-type {\n",
       "        vertical-align: middle;\n",
       "    }\n",
       "\n",
       "    .dataframe tbody tr th {\n",
       "        vertical-align: top;\n",
       "    }\n",
       "\n",
       "    .dataframe thead th {\n",
       "        text-align: right;\n",
       "    }\n",
       "</style>\n",
       "<table border=\"1\" class=\"dataframe\">\n",
       "  <thead>\n",
       "    <tr style=\"text-align: right;\">\n",
       "      <th></th>\n",
       "      <th>SO0_NRID</th>\n",
       "      <th>LONG</th>\n",
       "      <th>LAT</th>\n",
       "    </tr>\n",
       "  </thead>\n",
       "  <tbody>\n",
       "    <tr>\n",
       "      <th>0</th>\n",
       "      <td>724196</td>\n",
       "      <td>3.412928</td>\n",
       "      <td>50.910235</td>\n",
       "    </tr>\n",
       "    <tr>\n",
       "      <th>1</th>\n",
       "      <td>724219</td>\n",
       "      <td>3.409088</td>\n",
       "      <td>50.903873</td>\n",
       "    </tr>\n",
       "    <tr>\n",
       "      <th>2</th>\n",
       "      <td>724231</td>\n",
       "      <td>3.407691</td>\n",
       "      <td>50.901559</td>\n",
       "    </tr>\n",
       "    <tr>\n",
       "      <th>3</th>\n",
       "      <td>724236</td>\n",
       "      <td>3.405464</td>\n",
       "      <td>50.898224</td>\n",
       "    </tr>\n",
       "    <tr>\n",
       "      <th>4</th>\n",
       "      <td>724241</td>\n",
       "      <td>3.404218</td>\n",
       "      <td>50.896691</td>\n",
       "    </tr>\n",
       "    <tr>\n",
       "      <th>...</th>\n",
       "      <td>...</td>\n",
       "      <td>...</td>\n",
       "      <td>...</td>\n",
       "    </tr>\n",
       "    <tr>\n",
       "      <th>5692</th>\n",
       "      <td>25332076406640</td>\n",
       "      <td>3.999738</td>\n",
       "      <td>51.151308</td>\n",
       "    </tr>\n",
       "    <tr>\n",
       "      <th>5693</th>\n",
       "      <td>25335568268048</td>\n",
       "      <td>3.680845</td>\n",
       "      <td>50.976083</td>\n",
       "    </tr>\n",
       "    <tr>\n",
       "      <th>5694</th>\n",
       "      <td>25343276433048</td>\n",
       "      <td>3.704357</td>\n",
       "      <td>50.917986</td>\n",
       "    </tr>\n",
       "    <tr>\n",
       "      <th>5695</th>\n",
       "      <td>25345568238048</td>\n",
       "      <td>3.639243</td>\n",
       "      <td>50.894867</td>\n",
       "    </tr>\n",
       "    <tr>\n",
       "      <th>5696</th>\n",
       "      <td>25356576635852</td>\n",
       "      <td>4.003110</td>\n",
       "      <td>51.162021</td>\n",
       "    </tr>\n",
       "  </tbody>\n",
       "</table>\n",
       "<p>5697 rows × 3 columns</p>\n",
       "</div>"
      ],
      "text/plain": [
       "            SO0_NRID      LONG        LAT\n",
       "0             724196  3.412928  50.910235\n",
       "1             724219  3.409088  50.903873\n",
       "2             724231  3.407691  50.901559\n",
       "3             724236  3.405464  50.898224\n",
       "4             724241  3.404218  50.896691\n",
       "...              ...       ...        ...\n",
       "5692  25332076406640  3.999738  51.151308\n",
       "5693  25335568268048  3.680845  50.976083\n",
       "5694  25343276433048  3.704357  50.917986\n",
       "5695  25345568238048  3.639243  50.894867\n",
       "5696  25356576635852  4.003110  51.162021\n",
       "\n",
       "[5697 rows x 3 columns]"
      ]
     },
     "execution_count": 116,
     "metadata": {},
     "output_type": "execute_result"
    }
   ],
   "source": [
    "hvc_hvposition"
   ]
  },
  {
   "cell_type": "markdown",
   "id": "4fbe1843",
   "metadata": {},
   "source": [
    "## 2.3 Data Set 3 (hvc_hvroutetemplate + hvc_hvvisitoutcome + hvc_visitresultdetails) -> Mathew"
   ]
  },
  {
   "cell_type": "markdown",
   "id": "93e05e79",
   "metadata": {},
   "source": [
    "## 2.3.1 hvc_hvroutetemplate"
   ]
  },
  {
   "cell_type": "markdown",
   "id": "168d84e5",
   "metadata": {},
   "source": [
    "There are 39 different routes that are available. Every route has a unique number. They are available in 4 different regions and are ridden weekly or bi-weekly. \n",
    "The rides are on every day of the week except Sunday. \n",
    "\n",
    "C04 is the region with the most routes (11), followed by C17 (10) and B25(10) and as last B02(8).\n",
    "\n",
    "20 of the 39 routes are ridden weekly and the other 19 weekly. \n",
    "\n",
    "The Wednesday, Thursday, Friday and Saturday are the most popular days to ride on (8 times out 39 times), followed by Tuesday (6) and Monday (1)\n"
   ]
  },
  {
   "cell_type": "code",
   "execution_count": 117,
   "id": "69b9fcd6",
   "metadata": {
    "scrolled": true
   },
   "outputs": [
    {
     "data": {
      "text/html": [
       "<div>\n",
       "<style scoped>\n",
       "    .dataframe tbody tr th:only-of-type {\n",
       "        vertical-align: middle;\n",
       "    }\n",
       "\n",
       "    .dataframe tbody tr th {\n",
       "        vertical-align: top;\n",
       "    }\n",
       "\n",
       "    .dataframe thead th {\n",
       "        text-align: right;\n",
       "    }\n",
       "</style>\n",
       "<table border=\"1\" class=\"dataframe\">\n",
       "  <thead>\n",
       "    <tr style=\"text-align: right;\">\n",
       "      <th></th>\n",
       "      <th>HVROUTETEMPLATE_NRID</th>\n",
       "      <th>REGION</th>\n",
       "      <th>WEEKORDER</th>\n",
       "      <th>HVDAYOFWEEK_NRID</th>\n",
       "    </tr>\n",
       "  </thead>\n",
       "  <tbody>\n",
       "    <tr>\n",
       "      <th>0</th>\n",
       "      <td>70671404</td>\n",
       "      <td>C04</td>\n",
       "      <td>1</td>\n",
       "      <td>1</td>\n",
       "    </tr>\n",
       "    <tr>\n",
       "      <th>1</th>\n",
       "      <td>219018687</td>\n",
       "      <td>C04</td>\n",
       "      <td>1</td>\n",
       "      <td>2</td>\n",
       "    </tr>\n",
       "    <tr>\n",
       "      <th>2</th>\n",
       "      <td>219019324</td>\n",
       "      <td>C04</td>\n",
       "      <td>1</td>\n",
       "      <td>3</td>\n",
       "    </tr>\n",
       "    <tr>\n",
       "      <th>3</th>\n",
       "      <td>219019962</td>\n",
       "      <td>C04</td>\n",
       "      <td>1</td>\n",
       "      <td>4</td>\n",
       "    </tr>\n",
       "    <tr>\n",
       "      <th>4</th>\n",
       "      <td>219020601</td>\n",
       "      <td>C04</td>\n",
       "      <td>1</td>\n",
       "      <td>5</td>\n",
       "    </tr>\n",
       "    <tr>\n",
       "      <th>5</th>\n",
       "      <td>219021241</td>\n",
       "      <td>C04</td>\n",
       "      <td>1</td>\n",
       "      <td>6</td>\n",
       "    </tr>\n",
       "    <tr>\n",
       "      <th>6</th>\n",
       "      <td>219021882</td>\n",
       "      <td>C04</td>\n",
       "      <td>2</td>\n",
       "      <td>2</td>\n",
       "    </tr>\n",
       "    <tr>\n",
       "      <th>7</th>\n",
       "      <td>219022524</td>\n",
       "      <td>C04</td>\n",
       "      <td>2</td>\n",
       "      <td>3</td>\n",
       "    </tr>\n",
       "    <tr>\n",
       "      <th>8</th>\n",
       "      <td>219023167</td>\n",
       "      <td>C04</td>\n",
       "      <td>2</td>\n",
       "      <td>4</td>\n",
       "    </tr>\n",
       "    <tr>\n",
       "      <th>9</th>\n",
       "      <td>219023811</td>\n",
       "      <td>C04</td>\n",
       "      <td>2</td>\n",
       "      <td>5</td>\n",
       "    </tr>\n",
       "    <tr>\n",
       "      <th>10</th>\n",
       "      <td>219024456</td>\n",
       "      <td>C04</td>\n",
       "      <td>2</td>\n",
       "      <td>6</td>\n",
       "    </tr>\n",
       "    <tr>\n",
       "      <th>11</th>\n",
       "      <td>289411939</td>\n",
       "      <td>B02</td>\n",
       "      <td>1</td>\n",
       "      <td>3</td>\n",
       "    </tr>\n",
       "    <tr>\n",
       "      <th>12</th>\n",
       "      <td>289412941</td>\n",
       "      <td>B02</td>\n",
       "      <td>1</td>\n",
       "      <td>4</td>\n",
       "    </tr>\n",
       "    <tr>\n",
       "      <th>13</th>\n",
       "      <td>289413943</td>\n",
       "      <td>B02</td>\n",
       "      <td>1</td>\n",
       "      <td>5</td>\n",
       "    </tr>\n",
       "    <tr>\n",
       "      <th>14</th>\n",
       "      <td>289414945</td>\n",
       "      <td>B02</td>\n",
       "      <td>1</td>\n",
       "      <td>6</td>\n",
       "    </tr>\n",
       "    <tr>\n",
       "      <th>15</th>\n",
       "      <td>289416949</td>\n",
       "      <td>B02</td>\n",
       "      <td>2</td>\n",
       "      <td>3</td>\n",
       "    </tr>\n",
       "    <tr>\n",
       "      <th>16</th>\n",
       "      <td>289417951</td>\n",
       "      <td>B02</td>\n",
       "      <td>2</td>\n",
       "      <td>4</td>\n",
       "    </tr>\n",
       "    <tr>\n",
       "      <th>17</th>\n",
       "      <td>289418953</td>\n",
       "      <td>B02</td>\n",
       "      <td>2</td>\n",
       "      <td>5</td>\n",
       "    </tr>\n",
       "    <tr>\n",
       "      <th>18</th>\n",
       "      <td>289419955</td>\n",
       "      <td>B02</td>\n",
       "      <td>2</td>\n",
       "      <td>6</td>\n",
       "    </tr>\n",
       "    <tr>\n",
       "      <th>19</th>\n",
       "      <td>289655594</td>\n",
       "      <td>C17</td>\n",
       "      <td>1</td>\n",
       "      <td>2</td>\n",
       "    </tr>\n",
       "    <tr>\n",
       "      <th>20</th>\n",
       "      <td>289656596</td>\n",
       "      <td>C17</td>\n",
       "      <td>1</td>\n",
       "      <td>3</td>\n",
       "    </tr>\n",
       "    <tr>\n",
       "      <th>21</th>\n",
       "      <td>289657598</td>\n",
       "      <td>C17</td>\n",
       "      <td>1</td>\n",
       "      <td>4</td>\n",
       "    </tr>\n",
       "    <tr>\n",
       "      <th>22</th>\n",
       "      <td>289658600</td>\n",
       "      <td>C17</td>\n",
       "      <td>1</td>\n",
       "      <td>5</td>\n",
       "    </tr>\n",
       "    <tr>\n",
       "      <th>23</th>\n",
       "      <td>289659602</td>\n",
       "      <td>C17</td>\n",
       "      <td>1</td>\n",
       "      <td>6</td>\n",
       "    </tr>\n",
       "    <tr>\n",
       "      <th>24</th>\n",
       "      <td>289660604</td>\n",
       "      <td>C17</td>\n",
       "      <td>2</td>\n",
       "      <td>2</td>\n",
       "    </tr>\n",
       "    <tr>\n",
       "      <th>25</th>\n",
       "      <td>289661606</td>\n",
       "      <td>C17</td>\n",
       "      <td>2</td>\n",
       "      <td>3</td>\n",
       "    </tr>\n",
       "    <tr>\n",
       "      <th>26</th>\n",
       "      <td>289662608</td>\n",
       "      <td>C17</td>\n",
       "      <td>2</td>\n",
       "      <td>4</td>\n",
       "    </tr>\n",
       "    <tr>\n",
       "      <th>27</th>\n",
       "      <td>289663610</td>\n",
       "      <td>C17</td>\n",
       "      <td>2</td>\n",
       "      <td>5</td>\n",
       "    </tr>\n",
       "    <tr>\n",
       "      <th>28</th>\n",
       "      <td>289664612</td>\n",
       "      <td>C17</td>\n",
       "      <td>2</td>\n",
       "      <td>6</td>\n",
       "    </tr>\n",
       "    <tr>\n",
       "      <th>29</th>\n",
       "      <td>289755468</td>\n",
       "      <td>B25</td>\n",
       "      <td>1</td>\n",
       "      <td>2</td>\n",
       "    </tr>\n",
       "    <tr>\n",
       "      <th>30</th>\n",
       "      <td>289756470</td>\n",
       "      <td>B25</td>\n",
       "      <td>1</td>\n",
       "      <td>3</td>\n",
       "    </tr>\n",
       "    <tr>\n",
       "      <th>31</th>\n",
       "      <td>289757472</td>\n",
       "      <td>B25</td>\n",
       "      <td>1</td>\n",
       "      <td>4</td>\n",
       "    </tr>\n",
       "    <tr>\n",
       "      <th>32</th>\n",
       "      <td>289758474</td>\n",
       "      <td>B25</td>\n",
       "      <td>1</td>\n",
       "      <td>5</td>\n",
       "    </tr>\n",
       "    <tr>\n",
       "      <th>33</th>\n",
       "      <td>289759476</td>\n",
       "      <td>B25</td>\n",
       "      <td>1</td>\n",
       "      <td>6</td>\n",
       "    </tr>\n",
       "    <tr>\n",
       "      <th>34</th>\n",
       "      <td>289760478</td>\n",
       "      <td>B25</td>\n",
       "      <td>2</td>\n",
       "      <td>2</td>\n",
       "    </tr>\n",
       "    <tr>\n",
       "      <th>35</th>\n",
       "      <td>289761480</td>\n",
       "      <td>B25</td>\n",
       "      <td>2</td>\n",
       "      <td>3</td>\n",
       "    </tr>\n",
       "    <tr>\n",
       "      <th>36</th>\n",
       "      <td>289762482</td>\n",
       "      <td>B25</td>\n",
       "      <td>2</td>\n",
       "      <td>4</td>\n",
       "    </tr>\n",
       "    <tr>\n",
       "      <th>37</th>\n",
       "      <td>289763484</td>\n",
       "      <td>B25</td>\n",
       "      <td>2</td>\n",
       "      <td>5</td>\n",
       "    </tr>\n",
       "    <tr>\n",
       "      <th>38</th>\n",
       "      <td>289764486</td>\n",
       "      <td>B25</td>\n",
       "      <td>2</td>\n",
       "      <td>6</td>\n",
       "    </tr>\n",
       "  </tbody>\n",
       "</table>\n",
       "</div>"
      ],
      "text/plain": [
       "    HVROUTETEMPLATE_NRID REGION  WEEKORDER  HVDAYOFWEEK_NRID\n",
       "0               70671404    C04          1                 1\n",
       "1              219018687    C04          1                 2\n",
       "2              219019324    C04          1                 3\n",
       "3              219019962    C04          1                 4\n",
       "4              219020601    C04          1                 5\n",
       "5              219021241    C04          1                 6\n",
       "6              219021882    C04          2                 2\n",
       "7              219022524    C04          2                 3\n",
       "8              219023167    C04          2                 4\n",
       "9              219023811    C04          2                 5\n",
       "10             219024456    C04          2                 6\n",
       "11             289411939    B02          1                 3\n",
       "12             289412941    B02          1                 4\n",
       "13             289413943    B02          1                 5\n",
       "14             289414945    B02          1                 6\n",
       "15             289416949    B02          2                 3\n",
       "16             289417951    B02          2                 4\n",
       "17             289418953    B02          2                 5\n",
       "18             289419955    B02          2                 6\n",
       "19             289655594    C17          1                 2\n",
       "20             289656596    C17          1                 3\n",
       "21             289657598    C17          1                 4\n",
       "22             289658600    C17          1                 5\n",
       "23             289659602    C17          1                 6\n",
       "24             289660604    C17          2                 2\n",
       "25             289661606    C17          2                 3\n",
       "26             289662608    C17          2                 4\n",
       "27             289663610    C17          2                 5\n",
       "28             289664612    C17          2                 6\n",
       "29             289755468    B25          1                 2\n",
       "30             289756470    B25          1                 3\n",
       "31             289757472    B25          1                 4\n",
       "32             289758474    B25          1                 5\n",
       "33             289759476    B25          1                 6\n",
       "34             289760478    B25          2                 2\n",
       "35             289761480    B25          2                 3\n",
       "36             289762482    B25          2                 4\n",
       "37             289763484    B25          2                 5\n",
       "38             289764486    B25          2                 6"
      ]
     },
     "execution_count": 117,
     "metadata": {},
     "output_type": "execute_result"
    }
   ],
   "source": [
    "hvc_hvroutetemplate"
   ]
  },
  {
   "cell_type": "code",
   "execution_count": 118,
   "id": "21e156f5",
   "metadata": {},
   "outputs": [
    {
     "data": {
      "text/plain": [
       "39"
      ]
     },
     "execution_count": 118,
     "metadata": {},
     "output_type": "execute_result"
    }
   ],
   "source": [
    "len(hvc_hvroutetemplate)"
   ]
  },
  {
   "cell_type": "code",
   "execution_count": 119,
   "id": "624dd381",
   "metadata": {
    "scrolled": true
   },
   "outputs": [
    {
     "data": {
      "text/plain": [
       "count    39.000000\n",
       "mean      4.025641\n",
       "std       1.459762\n",
       "min       1.000000\n",
       "25%       3.000000\n",
       "50%       4.000000\n",
       "75%       5.000000\n",
       "max       6.000000\n",
       "Name: HVDAYOFWEEK_NRID, dtype: float64"
      ]
     },
     "execution_count": 119,
     "metadata": {},
     "output_type": "execute_result"
    }
   ],
   "source": [
    "hvc_hvroutetemplate[\"HVDAYOFWEEK_NRID\"].describe()\n"
   ]
  },
  {
   "cell_type": "code",
   "execution_count": 120,
   "id": "c669207e",
   "metadata": {},
   "outputs": [
    {
     "data": {
      "text/plain": [
       "count    39.000000\n",
       "mean      1.487179\n",
       "std       0.506370\n",
       "min       1.000000\n",
       "25%       1.000000\n",
       "50%       1.000000\n",
       "75%       2.000000\n",
       "max       2.000000\n",
       "Name: WEEKORDER, dtype: float64"
      ]
     },
     "execution_count": 120,
     "metadata": {},
     "output_type": "execute_result"
    }
   ],
   "source": [
    "hvc_hvroutetemplate[\"WEEKORDER\"].describe()"
   ]
  },
  {
   "cell_type": "code",
   "execution_count": 121,
   "id": "156c812d",
   "metadata": {},
   "outputs": [
    {
     "data": {
      "text/plain": [
       "39"
      ]
     },
     "execution_count": 121,
     "metadata": {},
     "output_type": "execute_result"
    }
   ],
   "source": [
    "len(hvc_hvroutetemplate[\"HVROUTETEMPLATE_NRID\"].unique())"
   ]
  },
  {
   "cell_type": "code",
   "execution_count": 122,
   "id": "cde29e36",
   "metadata": {},
   "outputs": [
    {
     "data": {
      "text/plain": [
       "4"
      ]
     },
     "execution_count": 122,
     "metadata": {},
     "output_type": "execute_result"
    }
   ],
   "source": [
    "len(hvc_hvroutetemplate[\"REGION\"].unique())"
   ]
  },
  {
   "cell_type": "code",
   "execution_count": 123,
   "id": "07d36837",
   "metadata": {},
   "outputs": [
    {
     "data": {
      "text/plain": [
       "2"
      ]
     },
     "execution_count": 123,
     "metadata": {},
     "output_type": "execute_result"
    }
   ],
   "source": [
    "len(hvc_hvroutetemplate[\"WEEKORDER\"].unique())"
   ]
  },
  {
   "cell_type": "code",
   "execution_count": 124,
   "id": "f1b32223",
   "metadata": {},
   "outputs": [
    {
     "data": {
      "text/plain": [
       "6"
      ]
     },
     "execution_count": 124,
     "metadata": {},
     "output_type": "execute_result"
    }
   ],
   "source": [
    "len(hvc_hvroutetemplate[\"HVDAYOFWEEK_NRID\"].unique())"
   ]
  },
  {
   "cell_type": "code",
   "execution_count": 125,
   "id": "f3ef143d",
   "metadata": {},
   "outputs": [
    {
     "data": {
      "text/plain": [
       "C04    11\n",
       "B25    10\n",
       "C17    10\n",
       "B02     8\n",
       "Name: REGION, dtype: int64"
      ]
     },
     "execution_count": 125,
     "metadata": {},
     "output_type": "execute_result"
    }
   ],
   "source": [
    "hvc_hvroutetemplate[\"REGION\"].value_counts()"
   ]
  },
  {
   "cell_type": "code",
   "execution_count": 126,
   "id": "2ee1b0b4",
   "metadata": {},
   "outputs": [
    {
     "data": {
      "text/plain": [
       "1    20\n",
       "2    19\n",
       "Name: WEEKORDER, dtype: int64"
      ]
     },
     "execution_count": 126,
     "metadata": {},
     "output_type": "execute_result"
    }
   ],
   "source": [
    "hvc_hvroutetemplate[\"WEEKORDER\"].value_counts()"
   ]
  },
  {
   "cell_type": "code",
   "execution_count": 127,
   "id": "5998b1d1",
   "metadata": {},
   "outputs": [
    {
     "data": {
      "text/plain": [
       "3    8\n",
       "4    8\n",
       "5    8\n",
       "6    8\n",
       "2    6\n",
       "1    1\n",
       "Name: HVDAYOFWEEK_NRID, dtype: int64"
      ]
     },
     "execution_count": 127,
     "metadata": {},
     "output_type": "execute_result"
    }
   ],
   "source": [
    "hvc_hvroutetemplate[\"HVDAYOFWEEK_NRID\"].value_counts()"
   ]
  },
  {
   "cell_type": "markdown",
   "id": "14a18491",
   "metadata": {},
   "source": [
    "## 2.3.2 hvc_hvvisitoutcome"
   ]
  },
  {
   "cell_type": "code",
   "execution_count": 128,
   "id": "bc59a716",
   "metadata": {},
   "outputs": [
    {
     "data": {
      "text/html": [
       "<div>\n",
       "<style scoped>\n",
       "    .dataframe tbody tr th:only-of-type {\n",
       "        vertical-align: middle;\n",
       "    }\n",
       "\n",
       "    .dataframe tbody tr th {\n",
       "        vertical-align: top;\n",
       "    }\n",
       "\n",
       "    .dataframe thead th {\n",
       "        text-align: right;\n",
       "    }\n",
       "</style>\n",
       "<table border=\"1\" class=\"dataframe\">\n",
       "  <thead>\n",
       "    <tr style=\"text-align: right;\">\n",
       "      <th></th>\n",
       "      <th>HVOUTCOME_NRID</th>\n",
       "      <th>DESCRIPTION</th>\n",
       "    </tr>\n",
       "  </thead>\n",
       "  <tbody>\n",
       "    <tr>\n",
       "      <th>0</th>\n",
       "      <td>0</td>\n",
       "      <td>NOTHING NEEDED</td>\n",
       "    </tr>\n",
       "    <tr>\n",
       "      <th>1</th>\n",
       "      <td>1</td>\n",
       "      <td>NOT HOME</td>\n",
       "    </tr>\n",
       "    <tr>\n",
       "      <th>2</th>\n",
       "      <td>2</td>\n",
       "      <td>SALES</td>\n",
       "    </tr>\n",
       "  </tbody>\n",
       "</table>\n",
       "</div>"
      ],
      "text/plain": [
       "   HVOUTCOME_NRID     DESCRIPTION\n",
       "0               0  NOTHING NEEDED\n",
       "1               1        NOT HOME\n",
       "2               2           SALES"
      ]
     },
     "execution_count": 128,
     "metadata": {},
     "output_type": "execute_result"
    }
   ],
   "source": [
    "    hvc_hvvisitoutcome"
   ]
  },
  {
   "cell_type": "markdown",
   "id": "d220f60b",
   "metadata": {},
   "source": [
    "## 2.3.3 hvc_visitresultdetails"
   ]
  },
  {
   "cell_type": "markdown",
   "id": "e2007f65",
   "metadata": {},
   "source": [
    "There are 126778 unique visits, each with a unique visit ID. \n",
    "\n",
    "The average quantity that has been bought is 1.12 goods. There are 75 visits where the quantity is negative, the reason herefore is until now unclear."
   ]
  },
  {
   "cell_type": "code",
   "execution_count": 129,
   "id": "d065ee5d",
   "metadata": {},
   "outputs": [
    {
     "data": {
      "text/html": [
       "<div>\n",
       "<style scoped>\n",
       "    .dataframe tbody tr th:only-of-type {\n",
       "        vertical-align: middle;\n",
       "    }\n",
       "\n",
       "    .dataframe tbody tr th {\n",
       "        vertical-align: top;\n",
       "    }\n",
       "\n",
       "    .dataframe thead th {\n",
       "        text-align: right;\n",
       "    }\n",
       "</style>\n",
       "<table border=\"1\" class=\"dataframe\">\n",
       "  <thead>\n",
       "    <tr style=\"text-align: right;\">\n",
       "      <th></th>\n",
       "      <th>VISITRESULTDETAILS_NRID</th>\n",
       "      <th>AR0_NRID</th>\n",
       "      <th>QUANTITY</th>\n",
       "      <th>HVVISITRESULT_NRID</th>\n",
       "    </tr>\n",
       "  </thead>\n",
       "  <tbody>\n",
       "    <tr>\n",
       "      <th>0</th>\n",
       "      <td>56055671</td>\n",
       "      <td>17545160268040</td>\n",
       "      <td>1.0</td>\n",
       "      <td>56055665</td>\n",
       "    </tr>\n",
       "    <tr>\n",
       "      <th>1</th>\n",
       "      <td>56055672</td>\n",
       "      <td>23699</td>\n",
       "      <td>2.0</td>\n",
       "      <td>56055665</td>\n",
       "    </tr>\n",
       "    <tr>\n",
       "      <th>2</th>\n",
       "      <td>56055675</td>\n",
       "      <td>23721</td>\n",
       "      <td>1.0</td>\n",
       "      <td>56055674</td>\n",
       "    </tr>\n",
       "    <tr>\n",
       "      <th>3</th>\n",
       "      <td>56010656</td>\n",
       "      <td>23714</td>\n",
       "      <td>1.0</td>\n",
       "      <td>56010655</td>\n",
       "    </tr>\n",
       "    <tr>\n",
       "      <th>4</th>\n",
       "      <td>56009821</td>\n",
       "      <td>23716</td>\n",
       "      <td>1.0</td>\n",
       "      <td>56009820</td>\n",
       "    </tr>\n",
       "    <tr>\n",
       "      <th>...</th>\n",
       "      <td>...</td>\n",
       "      <td>...</td>\n",
       "      <td>...</td>\n",
       "      <td>...</td>\n",
       "    </tr>\n",
       "    <tr>\n",
       "      <th>126773</th>\n",
       "      <td>73711114</td>\n",
       "      <td>23782</td>\n",
       "      <td>1.0</td>\n",
       "      <td>73711112</td>\n",
       "    </tr>\n",
       "    <tr>\n",
       "      <th>126774</th>\n",
       "      <td>73711115</td>\n",
       "      <td>23761</td>\n",
       "      <td>1.0</td>\n",
       "      <td>73711112</td>\n",
       "    </tr>\n",
       "    <tr>\n",
       "      <th>126775</th>\n",
       "      <td>73711116</td>\n",
       "      <td>23816</td>\n",
       "      <td>2.0</td>\n",
       "      <td>73711112</td>\n",
       "    </tr>\n",
       "    <tr>\n",
       "      <th>126776</th>\n",
       "      <td>73711554</td>\n",
       "      <td>847901</td>\n",
       "      <td>1.0</td>\n",
       "      <td>73711553</td>\n",
       "    </tr>\n",
       "    <tr>\n",
       "      <th>126777</th>\n",
       "      <td>73711566</td>\n",
       "      <td>23781</td>\n",
       "      <td>1.0</td>\n",
       "      <td>73711565</td>\n",
       "    </tr>\n",
       "  </tbody>\n",
       "</table>\n",
       "<p>126778 rows × 4 columns</p>\n",
       "</div>"
      ],
      "text/plain": [
       "        VISITRESULTDETAILS_NRID        AR0_NRID  QUANTITY  HVVISITRESULT_NRID\n",
       "0                      56055671  17545160268040       1.0            56055665\n",
       "1                      56055672           23699       2.0            56055665\n",
       "2                      56055675           23721       1.0            56055674\n",
       "3                      56010656           23714       1.0            56010655\n",
       "4                      56009821           23716       1.0            56009820\n",
       "...                         ...             ...       ...                 ...\n",
       "126773                 73711114           23782       1.0            73711112\n",
       "126774                 73711115           23761       1.0            73711112\n",
       "126775                 73711116           23816       2.0            73711112\n",
       "126776                 73711554          847901       1.0            73711553\n",
       "126777                 73711566           23781       1.0            73711565\n",
       "\n",
       "[126778 rows x 4 columns]"
      ]
     },
     "execution_count": 129,
     "metadata": {},
     "output_type": "execute_result"
    }
   ],
   "source": [
    "hvc_visitresultdetails"
   ]
  },
  {
   "cell_type": "code",
   "execution_count": 130,
   "id": "6db7b4b5",
   "metadata": {},
   "outputs": [
    {
     "data": {
      "text/plain": [
       "126778"
      ]
     },
     "execution_count": 130,
     "metadata": {},
     "output_type": "execute_result"
    }
   ],
   "source": [
    "len(hvc_visitresultdetails[\"VISITRESULTDETAILS_NRID\"].unique())"
   ]
  },
  {
   "cell_type": "code",
   "execution_count": 131,
   "id": "ca398399",
   "metadata": {},
   "outputs": [
    {
     "data": {
      "text/plain": [
       "count    126778.000000\n",
       "mean          1.124335\n",
       "std           0.689855\n",
       "min          -6.000000\n",
       "25%           1.000000\n",
       "50%           1.000000\n",
       "75%           1.000000\n",
       "max          61.000000\n",
       "Name: QUANTITY, dtype: float64"
      ]
     },
     "execution_count": 131,
     "metadata": {},
     "output_type": "execute_result"
    }
   ],
   "source": [
    "hvc_visitresultdetails[\"QUANTITY\"].describe()"
   ]
  },
  {
   "cell_type": "code",
   "execution_count": 132,
   "id": "9b09754e",
   "metadata": {},
   "outputs": [
    {
     "data": {
      "text/plain": [
       "count    126778.000000\n",
       "mean          1.124335\n",
       "std           0.689855\n",
       "min          -6.000000\n",
       "25%           1.000000\n",
       "50%           1.000000\n",
       "75%           1.000000\n",
       "max          61.000000\n",
       "Name: QUANTITY, dtype: float64"
      ]
     },
     "execution_count": 132,
     "metadata": {},
     "output_type": "execute_result"
    }
   ],
   "source": [
    "hvc_visitresultdetails[\"QUANTITY\"].describe()\n",
    "\n"
   ]
  },
  {
   "cell_type": "code",
   "execution_count": 133,
   "id": "4b6076b2",
   "metadata": {
    "scrolled": true
   },
   "outputs": [
    {
     "ename": "TypeError",
     "evalue": "object of type 'int' has no len()",
     "output_type": "error",
     "traceback": [
      "\u001b[1;31m---------------------------------------------------------------------------\u001b[0m",
      "\u001b[1;31mTypeError\u001b[0m                                 Traceback (most recent call last)",
      "\u001b[1;32m<ipython-input-133-2b8f5dc4513b>\u001b[0m in \u001b[0;36m<module>\u001b[1;34m\u001b[0m\n\u001b[0;32m      1\u001b[0m \u001b[0mvisitresultdetails_negative\u001b[0m \u001b[1;33m=\u001b[0m \u001b[0mlen\u001b[0m\u001b[1;33m(\u001b[0m\u001b[0mhvc_visitresultdetails\u001b[0m\u001b[1;33m[\u001b[0m\u001b[0mhvc_visitresultdetails\u001b[0m\u001b[1;33m[\u001b[0m\u001b[1;34m\"QUANTITY\"\u001b[0m\u001b[1;33m]\u001b[0m \u001b[1;33m<\u001b[0m \u001b[1;36m0\u001b[0m\u001b[1;33m]\u001b[0m\u001b[1;33m)\u001b[0m\u001b[1;33m\u001b[0m\u001b[1;33m\u001b[0m\u001b[0m\n\u001b[1;32m----> 2\u001b[1;33m \u001b[0mlen\u001b[0m\u001b[1;33m(\u001b[0m\u001b[0mvisitresultdetails_negative\u001b[0m\u001b[1;33m)\u001b[0m\u001b[1;33m\u001b[0m\u001b[1;33m\u001b[0m\u001b[0m\n\u001b[0m",
      "\u001b[1;31mTypeError\u001b[0m: object of type 'int' has no len()"
     ]
    }
   ],
   "source": [
    "visitresultdetails_negative = len(hvc_visitresultdetails[hvc_visitresultdetails[\"QUANTITY\"] < 0])\n",
    "len(visitresultdetails_negative)"
   ]
  },
  {
   "cell_type": "code",
   "execution_count": null,
   "id": "eafab2b3",
   "metadata": {},
   "outputs": [],
   "source": [
    "hvc_visitresultdetails[\"HVVISITRESULT_NRID\"] = hvc_visitresultdetails[\"HVVISITRESULT_NRID\"].astype(int)\n",
    "\n",
    "hvc_visitresultdetails.dtypes"
   ]
  },
  {
   "cell_type": "markdown",
   "id": "28d3a244",
   "metadata": {},
   "source": [
    "## 2.4 Data Set 4 (hvc_so0_nrid + hvc_resultdetails) -> Lennert"
   ]
  },
  {
   "cell_type": "markdown",
   "id": "adacb9ca",
   "metadata": {},
   "source": [
    "## 2.4.1 Customer information"
   ]
  },
  {
   "cell_type": "code",
   "execution_count": null,
   "id": "5dc3c11c",
   "metadata": {
    "scrolled": true
   },
   "outputs": [],
   "source": [
    "# inspect first 5 observations of customers\n",
    "hvc_so0.head(5)\n"
   ]
  },
  {
   "cell_type": "code",
   "execution_count": null,
   "id": "ad0541fc",
   "metadata": {
    "scrolled": true
   },
   "outputs": [],
   "source": [
    "# inspect last 5 observations of customers\n",
    "hvc_so0.tail(5)"
   ]
  },
  {
   "cell_type": "code",
   "execution_count": null,
   "id": "ee96f44c",
   "metadata": {},
   "outputs": [],
   "source": [
    "# inspect total number of unique customers\n",
    "len(hvc_so0[\"SO0_NRID\"].unique())"
   ]
  },
  {
   "cell_type": "code",
   "execution_count": null,
   "id": "c31e43be",
   "metadata": {
    "scrolled": true
   },
   "outputs": [],
   "source": [
    "# get some descriptive statistics with respect to the spoken language as well as the season type of the customers\n",
    "hvc_so0[[\"LANGUAGE\", \"SEASON_TYPE\"]].describe()"
   ]
  },
  {
   "cell_type": "code",
   "execution_count": null,
   "id": "8e33a35d",
   "metadata": {},
   "outputs": [],
   "source": [
    "# get the counts for every season type\n",
    "hvc_so0[\"SEASON_TYPE\"].value_counts()"
   ]
  },
  {
   "cell_type": "code",
   "execution_count": null,
   "id": "e13a9a9f",
   "metadata": {},
   "outputs": [],
   "source": [
    "# get the counts for every spoken language\n",
    "hvc_so0[\"LANGUAGE\"].value_counts()"
   ]
  },
  {
   "cell_type": "markdown",
   "id": "39658309",
   "metadata": {},
   "source": [
    "## 2.4.2 Customer Location"
   ]
  },
  {
   "cell_type": "code",
   "execution_count": null,
   "id": "6e10a231",
   "metadata": {},
   "outputs": [],
   "source": [
    "# inspect first 5 observations of customer location\n",
    "hvc_hvposition.head(5)\n"
   ]
  },
  {
   "cell_type": "code",
   "execution_count": null,
   "id": "6f56ba67",
   "metadata": {},
   "outputs": [],
   "source": [
    "# inspect last 5 observations of customer location\n",
    "hvc_hvposition.tail(5)"
   ]
  },
  {
   "cell_type": "code",
   "execution_count": null,
   "id": "814a5a95",
   "metadata": {},
   "outputs": [],
   "source": [
    "# total number of locations of unique customers\n",
    "len(hvc_hvposition[\"SO0_NRID\"].unique())"
   ]
  },
  {
   "cell_type": "code",
   "execution_count": null,
   "id": "6da3f334",
   "metadata": {},
   "outputs": [],
   "source": [
    "#different customers at the same location? More customers then location\n",
    "len(hvc_hvposition[\"SO0_NRID\"].unique()) == len(hvc_so0[\"SO0_NRID\"].unique())"
   ]
  },
  {
   "cell_type": "markdown",
   "id": "c053763d",
   "metadata": {},
   "source": [
    "## 2.4.3 Result of Visit"
   ]
  },
  {
   "cell_type": "code",
   "execution_count": null,
   "id": "605649ef",
   "metadata": {
    "scrolled": true
   },
   "outputs": [],
   "source": [
    "# inspect first 5 observations of visit results\n",
    "hvc_hvvisitresult.head(5)"
   ]
  },
  {
   "cell_type": "code",
   "execution_count": null,
   "id": "9264030b",
   "metadata": {},
   "outputs": [],
   "source": [
    "# inspect first 5 observations of visit results\n",
    "hvc_hvvisitresult.tail(5)"
   ]
  },
  {
   "cell_type": "code",
   "execution_count": null,
   "id": "e27c07e3",
   "metadata": {
    "scrolled": true
   },
   "outputs": [],
   "source": [
    "#inspect first 5 observations of customers \n",
    "hvc_visitresultdetails.head(5)"
   ]
  },
  {
   "cell_type": "code",
   "execution_count": null,
   "id": "41f0a859",
   "metadata": {
    "scrolled": true
   },
   "outputs": [],
   "source": [
    "#inspect last 5 observations of customers \n",
    "hvc_visitresultdetails.tail(5)"
   ]
  },
  {
   "cell_type": "markdown",
   "id": "ca2f3610",
   "metadata": {},
   "source": [
    "# 3. Answering basic questions"
   ]
  },
  {
   "cell_type": "markdown",
   "id": "d3cf629e",
   "metadata": {},
   "source": [
    "## 3.1 What are the products?"
   ]
  },
  {
   "cell_type": "markdown",
   "id": "ba2376e6",
   "metadata": {},
   "source": [
    "\n",
    "- Does the weather / seasonal changes have an effect on the total revenue?\n"
   ]
  },
  {
   "cell_type": "code",
   "execution_count": null,
   "id": "09b57fb1",
   "metadata": {},
   "outputs": [],
   "source": [
    "# What are the most frequently bought products?\n",
    "# Bedoelen ze hier frequent als in het meest of hoe moet ik dit zien?\n",
    "agg_dict = {\"QUANTITY\": np.sum}\n",
    "hvc_quantity = hvc_visitresultdetails.groupby(\"AR0_NRID\").agg(agg_dict)\n",
    "hvc_quantity_top = hvc_quantity.sort_values(\"QUANTITY\", ascending = False).head(5)\n",
    "hvc_quantity_top\n",
    "#hvc_test.sort_values(by = [\"count\"])"
   ]
  },
  {
   "cell_type": "code",
   "execution_count": null,
   "id": "188efcb7",
   "metadata": {
    "scrolled": true
   },
   "outputs": [],
   "source": [
    "# Which products render the most revenue?\n",
    "hvc_ar0_visitresultdetails = pd.merge(hvc_ar0, hvc_visitresultdetails)\n",
    "hvc_ar0_visitresultdetails\n",
    "\n",
    "revenue = hvc_ar0_visitresultdetails[\"QUANTITY\"] * hvc_ar0_visitresultdetails[\"PRICE\"]\n",
    "hvc_ar0_visitresultdetails[\"REVENUE\"] = revenue\n",
    "agg_dict = {\"REVENUE\": np.sum}\n",
    "hvc_revenue = hvc_ar0_visitresultdetails.groupby(\"AR0_NRID\").agg(agg_dict)\n",
    "hvc_revenue_top = hvc_revenue.sort_values(\"REVENUE\", ascending = False).head(5)\n",
    "hvc_revenue_top"
   ]
  },
  {
   "cell_type": "code",
   "execution_count": null,
   "id": "7c24cf8e",
   "metadata": {
    "scrolled": true
   },
   "outputs": [],
   "source": [
    "# Which products are bought the most in the region of Brussels, Antwerp, ...?\n",
    "\n",
    "hvc_so0_hvroutetemplate = pd.merge(hvc_so0, hvc_hvroutetemplate)\n",
    "\n",
    "hvc_so0_hvroutetemplate"
   ]
  },
  {
   "cell_type": "code",
   "execution_count": null,
   "id": "088df75e",
   "metadata": {
    "scrolled": false
   },
   "outputs": [],
   "source": [
    "# Are product purchases correlated? Are some products often purchased together?\n",
    "\n",
    "# In table VISITRESULTDETAILS_NRID find the products with the same AR0_NRID. \n",
    "# These are the products that are bought in the same visit.\n",
    "\n",
    "agg_dict = {\"AR0_NRID\": np.absolute}\n",
    "hvc_visitresultdetails_correlatedproducts = hvc_visitresultdetails.groupby(\"HVVISITRESULT_NRID\").agg(agg_dict)\n",
    "\n",
    "\n",
    "hvc_visitresultdetails_correlatedproducts"
   ]
  },
  {
   "cell_type": "code",
   "execution_count": null,
   "id": "d81cadb6",
   "metadata": {},
   "outputs": [],
   "source": [
    "len(hvc_visitresultdetails[\"HVVISITRESULT_NRID\"].unique())"
   ]
  },
  {
   "cell_type": "code",
   "execution_count": null,
   "id": "4535c491",
   "metadata": {},
   "outputs": [],
   "source": [
    "# What are the total sales generated for each product family?\n",
    "\n",
    "agg_dict = {\"REVENUE\": np.sum}\n",
    "hvc_revenue_family = hvc_ar0_visitresultdetails.groupby(\"FAMILY\").agg(agg_dict)\n",
    "hvc_revenue_family"
   ]
  },
  {
   "cell_type": "code",
   "execution_count": null,
   "id": "373df2e0",
   "metadata": {},
   "outputs": [],
   "source": [
    "# Does the weather / seasonal changes have an effect on the total revenue?\n",
    "\n",
    "# Merging customer table with visit table on the customer id. \n",
    "# Then merging that table with the visitresultdetails on visitid, \n",
    "# so now we have a table with the customer that bought something.\n",
    "\n",
    "hvc_visitresult_visitresultdetails_so0 = pd.merge(pd.merge(hvc_hvvisitresult, hvc_so0, on = \"SO0_NRID\"), hvc_visitresultdetails, on = \"HVVISITRESULT_NRID\")\n",
    "\n",
    "# Now we add what product was bought during that visit by merging on AR0_NRID\n",
    "\n",
    "hvc_visitresult_visitresultdetails_so0_ar0 = pd.merge(hvc_visitresult_visitresultdetails_so0, hvc_ar0, on = \"AR0_NRID\")\n",
    "\n",
    "revenue = hvc_visitresult_visitresultdetails_so0_ar0[\"QUANTITY\"] * hvc_visitresult_visitresultdetails_so0_ar0[\"PRICE\"]\n",
    "hvc_visitresult_visitresultdetails_so0_ar0[\"REVENUE\"] = revenue\n",
    "\n",
    "hvc_seasons = hvc_visitresult_visitresultdetails_so0_ar0[[\"HVVISITRESULT_NRID\", \"SEASON_TYPE\", \"REVENUE\"]]\n",
    "hvc_seasons[\"SEASON_TYPE\"].value_counts()\n",
    "\n",
    "agg_dict = {\"REVENUE\": np.sum}\n",
    "hvc_revenue_seasons = hvc_seasons.groupby(\"SEASON_TYPE\").agg(agg_dict)\n",
    "hvc_revenue_seasons"
   ]
  },
  {
   "cell_type": "code",
   "execution_count": null,
   "id": "cd758988",
   "metadata": {},
   "outputs": [],
   "source": [
    "# Does the weather / seasonal changes have an effect on the total revenue?\n",
    "\n",
    "# Merging customer table with visit table on the customer id. \n",
    "# Then merging that table with the visitresultdetails on visitid, \n",
    "# so now we have a table with the customer that bought something.\n",
    "\n",
    "hvc_visitresult_visitresultdetails_so0 = pd.merge(pd.merge(hvc_hvvisitresult, hvc_so0, on = \"SO0_NRID\"), hvc_visitresultdetails, on = \"HVVISITRESULT_NRID\")\n",
    "\n",
    "# Now we add what product was bought during that visit by merging on AR0_NRID\n",
    "\n",
    "hvc_visitresult_visitresultdetails_so0_ar0 = pd.merge(hvc_visitresult_visitresultdetails_so0, hvc_ar0, on = \"AR0_NRID\")\n",
    "\n",
    "revenue = hvc_visitresult_visitresultdetails_so0_ar0[\"AMOUNT\"]\n",
    "hvc_visitresult_visitresultdetails_so0_ar0[\"REVENUE\"] = revenue\n",
    "\n",
    "hvc_seasons = hvc_visitresult_visitresultdetails_so0_ar0[[\"HVVISITRESULT_NRID\", \"SEASON_TYPE\", \"REVENUE\"]]\n",
    "\n",
    "agg_dict = {\"REVENUE\": np.sum}\n",
    "hvc_revenue_seasons = hvc_seasons.groupby(\"SEASON_TYPE\").agg(agg_dict)\n",
    "hvc_revenue_seasons"
   ]
  },
  {
   "cell_type": "code",
   "execution_count": null,
   "id": "e98dfd89",
   "metadata": {
    "scrolled": true
   },
   "outputs": [],
   "source": [
    "#Check if the customer is visited at the right moment\n",
    "\n",
    "hvc_hvvisitresult_so0 = pd.merge(hvc_hvvisitresult, hvc_so0)\n",
    "hvc_hvvisitresult_so0[hvc_hvvisitresult_so0[\"SEASON_TYPE\"] == \"Christmas\"]\n"
   ]
  },
  {
   "cell_type": "code",
   "execution_count": null,
   "id": "c5949043",
   "metadata": {
    "scrolled": true
   },
   "outputs": [],
   "source": [
    "### Clustering the customer positions\n",
    "\n",
    "## Clustering the longitude and latitude\n",
    "\n",
    "from sklearn.cluster import KMeans\n",
    "plt.figure(figsize = (10,10))\n",
    "\n",
    "# initialize the cluster algorithm with 4 classes\n",
    "kmeans_model = KMeans(n_clusters=4)\n",
    "\n",
    "# fit the kmeans model onto the data\n",
    "kmeans_model.fit(hvc_hvposition[[\"LONG\",\"LAT\"]])\n",
    "\n",
    "# get all the cluster labels\n",
    "cluster_labels = kmeans_model.labels_\n",
    "\n",
    "# define color map\n",
    "color_map = {0: \"green\", 1: \"red\", 2: \"blue\", 3: \"yellow\"}\n",
    "\n",
    "# get colors for each cluster label\n",
    "cluster_colors = [color_map[label] for label in cluster_labels]\n",
    "\n",
    "# plot data with cluster colors\n",
    "plt.scatter(hvc_hvposition[\"LONG\"], hvc_hvposition[\"LAT\"], color=cluster_colors)\n",
    "plt.show()"
   ]
  },
  {
   "cell_type": "code",
   "execution_count": null,
   "id": "a25d8c48",
   "metadata": {},
   "outputs": [],
   "source": [
    "belgium = gpd.read_file(\"/Users/wouterdewitte/Desktop/Belgium-Map-1/Arrondissementen.json\")\n",
    "crs = 'epsg:4326'\n",
    "base = belgium.plot(color='white', edgecolor='black', figsize = (20,20))\n",
    "gdf = gpd.GeoDataFrame(hvc_hvposition, crs = crs,geometry=gpd.points_from_xy(hvc_hvposition[\"LONG\"], hvc_hvposition[\"LAT\"]))\n",
    "\n",
    "\n",
    "gdf.plot(ax = base, color = \"red\",markersize = 10)\n",
    "\n",
    "plt.show()"
   ]
  },
  {
   "cell_type": "code",
   "execution_count": null,
   "id": "23e35b44",
   "metadata": {},
   "outputs": [],
   "source": [
    "# the map is not precise enough\n",
    "\n",
    "\n",
    "gdf = gpd.GeoDataFrame(hvc_hvposition, geometry=gpd.points_from_xy(hvc_hvposition[\"LONG\"], hvc_hvposition[\"LAT\"]))\n",
    "\n",
    "world = gpd.read_file(gpd.datasets.get_path('naturalearth_lowres'))\n",
    "\n",
    "world.plot()\n",
    "plt.show()"
   ]
  },
  {
   "cell_type": "markdown",
   "id": "6e66372a",
   "metadata": {},
   "source": [
    "## 3.2 Who are the customers?"
   ]
  },
  {
   "cell_type": "markdown",
   "id": "300b2224",
   "metadata": {},
   "source": [
    "### 3.2.1 What do the customers buy?"
   ]
  },
  {
   "cell_type": "code",
   "execution_count": null,
   "id": "c10cd724",
   "metadata": {},
   "outputs": [],
   "source": [
    "customer_id = 721110.0"
   ]
  },
  {
   "cell_type": "code",
   "execution_count": null,
   "id": "3352f1a1",
   "metadata": {},
   "outputs": [],
   "source": [
    "# join transactions with transaction details with products\n",
    "transactions_products = hvc_hvvisitresult.merge(hvc_visitresultdetails, on=\"HVVISITRESULT_NRID\", how=\"inner\")\\\n",
    "                                         .merge(hvc_ar0, on=\"AR0_NRID\", how=\"inner\") "
   ]
  },
  {
   "cell_type": "code",
   "execution_count": null,
   "id": "284459e3",
   "metadata": {
    "scrolled": true
   },
   "outputs": [],
   "source": [
    "# check\n",
    "transactions_products.head(3)"
   ]
  },
  {
   "cell_type": "code",
   "execution_count": null,
   "id": "5a83f406",
   "metadata": {},
   "outputs": [],
   "source": [
    "# get all the transactions for customer\n",
    "transactions_products_customer = transactions_products[transactions_products[\"SO0_NRID\"] == customer_id]\n",
    "\n",
    "# get all transactions with positive outcome\n",
    "transactions_products_customer = transactions_products_customer[transactions_products_customer[\"HVOUTCOME_NRID\"] == 2]"
   ]
  },
  {
   "cell_type": "code",
   "execution_count": null,
   "id": "a6128ec7",
   "metadata": {},
   "outputs": [],
   "source": [
    "# get total number of products bought by the customer\n",
    "transactions_products_customer[\"QUANTITY\"].sum()"
   ]
  },
  {
   "cell_type": "markdown",
   "id": "d731ee00",
   "metadata": {},
   "source": [
    "### 3.2.2 Unique list of unique products a customer bought"
   ]
  },
  {
   "cell_type": "code",
   "execution_count": null,
   "id": "01d9d52f",
   "metadata": {},
   "outputs": [],
   "source": [
    "# define a function that accepts a customer id, the transactions data, transactions details data and product data\n",
    "def get_products(cust_id, transactions, transaction_details, products):\n",
    "    \n",
    "\n",
    "    # join transactions with transaction details with products\n",
    "    transactions_products = transactions.merge(transaction_details, on=\"HVVISITRESULT_NRID\", how=\"inner\") \\\n",
    "                                        .merge(products, on=\"AR0_NRID\", how=\"inner\")\n",
    "    \n",
    "    # get transactions of customer \n",
    "    transactions_products_cust = transactions_products[transactions_products[\"SO0_NRID\"] == cust_id]\n",
    "    \n",
    "    # only get transactions of succesfull visits\n",
    "    transactions_products_cust = transactions_products_cust[transactions_products_cust[\"HVOUTCOME_NRID\"] == 2]\n",
    "    \n",
    "    # get total amount of products bought by the customer\n",
    "    total_products = transactions_products_cust[\"QUANTITY\"].sum()\n",
    "    \n",
    "    # get total number of unique products bought by the customer\n",
    "    total_unique_products = len(transactions_products_cust[\"DESCRIPTION\"].unique())\n",
    "    \n",
    "    # return\n",
    "    return(total_products, total_unique_products)"
   ]
  },
  {
   "cell_type": "code",
   "execution_count": null,
   "id": "6652ff7b",
   "metadata": {},
   "outputs": [],
   "source": [
    "# check\n",
    "get_products(cust_id=721110.0, \n",
    "                  transactions=hvc_hvvisitresult, \n",
    "                  transaction_details=hvc_visitresultdetails, \n",
    "                  products=hvc_ar0)"
   ]
  },
  {
   "cell_type": "markdown",
   "id": "6824a9bb",
   "metadata": {},
   "source": [
    "### 3.2.3 Which customers have the highest CLV?\n",
    "\n"
   ]
  },
  {
   "cell_type": "code",
   "execution_count": null,
   "id": "cd07d07f",
   "metadata": {},
   "outputs": [],
   "source": [
    "def get_clv(cust_id, transactions):\n",
    "    \n",
    "    # get customer transactions\n",
    "    cust_transactions = transactions[transactions[\"SO0_NRID\"] == cust_id]\n",
    "    # get transactions with positive outcome\n",
    "    cust_transactions_pos = cust_transactions[cust_transactions[\"HVOUTCOME_NRID\"] == 2]\n",
    "    # get clv\n",
    "    clv = np.sum(cust_transactions[\"AMOUNT\"])\n",
    "    # return clv\n",
    "    return(clv)"
   ]
  },
  {
   "cell_type": "code",
   "execution_count": null,
   "id": "ead73717",
   "metadata": {},
   "outputs": [],
   "source": [
    "# check\n",
    "clv = get_clv(cust_id=721110.0, transactions=hvc_hvvisitresult)\n",
    "print(clv)"
   ]
  },
  {
   "cell_type": "code",
   "execution_count": 144,
   "id": "fc2d6e08",
   "metadata": {},
   "outputs": [
    {
     "name": "stdout",
     "output_type": "stream",
     "text": [
      "0.0\n"
     ]
    }
   ],
   "source": [
    "# CLV for private customers\n",
    "private_cust = hvc_so0[hvc_so0[\"CUST_TYPE\"] == \"Private\"]\n",
    "\n",
    "\n",
    "for x in private_cust[\"SO0_NRID\"]:\n",
    "    clv = get_clv(cust_id=x, transactions=hvc_hvvisitresult)\n",
    "print(clv)\n",
    "\n",
    "# CLV \n",
    "\n",
    "    \n",
    "\n",
    "    "
   ]
  },
  {
   "cell_type": "code",
   "execution_count": 136,
   "id": "f3474f85",
   "metadata": {},
   "outputs": [
    {
     "data": {
      "image/png": "[encoded data removed]",
      "text/plain": [
       "<Figure size 432x288 with 1 Axes>"
      ]
     },
     "metadata": {
      "needs_background": "light"
     },
     "output_type": "display_data"
    }
   ],
   "source": [
    "#Sales by customer type 2020\n",
    "# get the month of each transaction date and store it in new column\n",
    "hvc_hvvisitresult[\"MONTH\"] = hvc_hvvisitresult[\"DATEONLY\"].apply(lambda x: x.month)\n",
    "\n",
    "#merge\n",
    "transactions_2020 = hvc_hvvisitresult.merge(hvc_so0,on=\"SO0_NRID\", how =\"inner\")\n",
    "\n",
    "# get transactions from 2020 only\n",
    "transactions_2020 = transactions_2020[(transactions_2020[\"DATEONLY\"] >= pd.Timestamp(year=2020, day=1, month=1)) & (transactions_2020[\"DATEONLY\"] < pd.Timestamp(year=2021, month=1, day=1))]\n",
    "\n",
    "# get transactions with succesfull outcome\n",
    "transactions_2020 = transactions_2020[transactions_2020[\"HVOUTCOME_NRID\"] == 2]\n",
    "\n",
    "\n",
    "# data to plot \n",
    "# get transactions by 'private customers'\n",
    "private_transactions_2020 = transactions_2020[transactions_2020[\"CUST_TYPE\"] == \"Private\"]\n",
    "\n",
    "# get the total sales for each month for 'private customers'\n",
    "private_monthly_sales = private_transactions_2020.groupby(\"MONTH\")[\"AMOUNT\"].sum().reset_index()\n",
    "\n",
    "# get transactions by 'Horeca customers'\n",
    "horeca_transactions_2020 = transactions_2020[transactions_2020[\"CUST_TYPE\"] == \"Horeca\"]\n",
    "\n",
    "# get the total sales for each month for 'Horeca customers'\n",
    "horeca_monthly_sales = horeca_transactions_2020.groupby(\"MONTH\")[\"AMOUNT\"].sum().reset_index()\n",
    "\n",
    "# get transactions by 'Catering customers'\n",
    "catering_transactions_2020 = transactions_2020[transactions_2020[\"CUST_TYPE\"] == \"Catering\"]\n",
    "\n",
    "# get the total sales for each month for 'Catering customers'\n",
    "catering_monthly_sales = catering_transactions_2020.groupby(\"MONTH\")[\"AMOUNT\"].sum().reset_index()\n",
    "\n",
    "# Barplot\n",
    "n_months = 12\n",
    "fig, ax = plt.subplots()\n",
    "index = np.arange(n_months)\n",
    "bar_width = 0.20\n",
    "opacity = 0.7\n",
    "\n",
    "rects1 = plt.bar(index, private_monthly_sales[\"AMOUNT\"], bar_width,\n",
    "alpha=opacity,\n",
    "color='tab:blue',\n",
    "label='Private')\n",
    "                                              \n",
    "rects2 = plt.bar(index + bar_width, horeca_monthly_sales[\"AMOUNT\"], bar_width,\n",
    "alpha=opacity,\n",
    "color='tab:orange',\n",
    "label='Horeca')\n",
    "\n",
    "rects3 = plt.bar(index + 2*bar_width, catering_monthly_sales[\"AMOUNT\"], bar_width,\n",
    "alpha=opacity,\n",
    "color='tab:olive',\n",
    "label='Catering')\n",
    "\n",
    "plt.xlabel('Customer type')\n",
    "plt.ylabel('Sales')\n",
    "plt.title('Sales by customer type in 2020')\n",
    "plt.xticks(index + bar_width, ('JAN', 'FEB', 'MAR', 'APR', 'MAI', 'JUN', 'JUL', 'AUG', 'SEP', 'OCT', 'NOV', 'DEC'))\n",
    "plt.legend()\n",
    "\n",
    "plt.tight_layout()\n",
    "plt.savefig('Sales by customer type in 2020.png')\n"
   ]
  },
  {
   "cell_type": "markdown",
   "id": "59f5d5a2",
   "metadata": {},
   "source": [
    "### 2.2.4 How often did a customer purchase at the company at different days "
   ]
  },
  {
   "cell_type": "code",
   "execution_count": 162,
   "id": "1b4b9918",
   "metadata": {},
   "outputs": [],
   "source": [
    "def get_frequency(cust_id, transactions):\n",
    "    \n",
    "    # get transactions made by customer\n",
    "    transactions_cust = transactions[hvc_hvvisitresult[\"SO0_NRID\"] == cust_id]\n",
    "\n",
    "    # get transactions from succesfull visits\n",
    "    transactions_cust = transactions_cust[transactions_cust[\"HVOUTCOME_NRID\"] == 2]\n",
    "\n",
    "    # get total number of unique days on which customer made a purchase\n",
    "    frequency = len(transactions_cust)\n",
    "    \n",
    "    # return\n",
    "    return(frequency)"
   ]
  },
  {
   "cell_type": "code",
   "execution_count": 163,
   "id": "911181f7",
   "metadata": {},
   "outputs": [
    {
     "data": {
      "text/plain": [
       "15"
      ]
     },
     "execution_count": 163,
     "metadata": {},
     "output_type": "execute_result"
    }
   ],
   "source": [
    "# check\n",
    "get_frequency(721110.0, hvc_hvvisitresult)"
   ]
  },
  {
   "cell_type": "markdown",
   "id": "5846e560",
   "metadata": {},
   "source": [
    "### 2.2.5 Which customers left the company?"
   ]
  },
  {
   "cell_type": "code",
   "execution_count": 195,
   "id": "6eadbc11",
   "metadata": {},
   "outputs": [
    {
     "name": "stderr",
     "output_type": "stream",
     "text": [
      "No handles with labels found to put in legend.\n"
     ]
    },
    {
     "name": "stdout",
     "output_type": "stream",
     "text": [
      "   MONTH  AMOUNT\n",
      "0      5     9.5\n",
      "1      9     9.5\n",
      "2     10     9.5\n"
     ]
    },
    {
     "data": {
      "image/png": "[encoded data removed]",
      "text/plain": [
       "<Figure size 360x360 with 1 Axes>"
      ]
     },
     "metadata": {
      "needs_background": "light"
     },
     "output_type": "display_data"
    }
   ],
   "source": [
    "#Linear regression \n",
    "#x-as Months from desired year\n",
    "#y-as Sales \n",
    "\n",
    "\n",
    "def get_regression_sales(customer_id, year_regression)\n",
    "    \n",
    "    #get the month of each transaction date and store it in new column\n",
    "    hvc_hvvisitresult[\"MONTH\"] = hvc_hvvisitresult[\"DATEONLY\"].apply(lambda x: x.month)\n",
    "\n",
    "    #merge\n",
    "    transactions = hvc_hvvisitresult.merge(hvc_so0,on=\"SO0_NRID\", how =\"inner\")\n",
    "    \n",
    "    #get transactions from desired_year\n",
    "    transactions = transactions[(transactions[\"DATEONLY\"] >= pd.Timestamp(year=year_regression, day=1, month=1)) & (transactions[\"DATEONLY\"] < pd.Timestamp(year=year_regression + 1, month=1, day=1))]\n",
    "\n",
    "    #get transactions with succesfull outcome\n",
    "    transactions = transactions[transactions[\"HVOUTCOME_NRID\"] == 2]\n",
    "    \n",
    "    #get transactions from customer with specific id \n",
    "    transactions_unique_cust = transactions[transactions[\"SO0_NRID\"] == customer_id ]\n",
    "    \n",
    "    # get the total sales for each month for 'private customers'\n",
    "    sales_unique_cust = transactions_unique_cust.groupby(\"MONTH\")[\"AMOUNT\"].sum().reset_index() \n",
    "\n",
    "    print(sales_unique_cust)\n",
    "    \n",
    "    sns.lmplot(x=\"MONTH\", y=\"AMOUNT\", data=sales_unique_cust, fit_reg=True)\n",
    "    plt.xlabel(\"Months\")\n",
    "    plt.ylabel(\"Sales\")\n",
    "    plt.title('Sales by customer in 2020')\n",
    "    plt.xticks(index + bar_width, ('JAN', 'FEB', 'MAR', 'APR', 'MAI', 'JUN', 'JUL', 'AUG', 'SEP', 'OCT', 'NOV', 'DEC'))\n",
    "    plt.legend()\n",
    "    plt.tight_layout()\n",
    "    plt.show()\n"
   ]
  },
  {
   "cell_type": "code",
   "execution_count": 188,
   "id": "338eb687",
   "metadata": {},
   "outputs": [
    {
     "ename": "NameError",
     "evalue": "name 'sales_unique_cust' is not defined",
     "output_type": "error",
     "traceback": [
      "\u001b[1;31m---------------------------------------------------------------------------\u001b[0m",
      "\u001b[1;31mNameError\u001b[0m                                 Traceback (most recent call last)",
      "\u001b[1;32m<ipython-input-188-07ffd90fb823>\u001b[0m in \u001b[0;36m<module>\u001b[1;34m\u001b[0m\n\u001b[0;32m      1\u001b[0m \u001b[1;31m#Test regression\u001b[0m\u001b[1;33m\u001b[0m\u001b[1;33m\u001b[0m\u001b[1;33m\u001b[0m\u001b[0m\n\u001b[1;32m----> 2\u001b[1;33m \u001b[0mprint\u001b[0m\u001b[1;33m(\u001b[0m\u001b[0msales_unique_cust\u001b[0m\u001b[1;33m)\u001b[0m\u001b[1;33m\u001b[0m\u001b[1;33m\u001b[0m\u001b[0m\n\u001b[0m",
      "\u001b[1;31mNameError\u001b[0m: name 'sales_unique_cust' is not defined"
     ]
    }
   ],
   "source": [
    "#Test regression \n",
    "p"
   ]
  },
  {
   "cell_type": "markdown",
   "id": "41b47788",
   "metadata": {},
   "source": [
    "### 2.2.6 Clusters of customers (visualization)\n"
   ]
  },
  {
   "cell_type": "markdown",
   "id": "37f324de",
   "metadata": {},
   "source": [
    "Clustering Multi Vairiable Data  "
   ]
  },
  {
   "cell_type": "code",
   "execution_count": null,
   "id": "6505bc88",
   "metadata": {},
   "outputs": [],
   "source": [
    "# Position "
   ]
  },
  {
   "cell_type": "markdown",
   "id": "a19ac75f",
   "metadata": {},
   "source": [
    "### 2.2.7 Do customers have different buying patterns during the weekend?"
   ]
  },
  {
   "cell_type": "code",
   "execution_count": null,
   "id": "b51aa027",
   "metadata": {},
   "outputs": [],
   "source": [
    "# join transactions with customers\n",
    "cust_transactions = pd.merge(hvc_hvvisitresult, hvc_so0, on=\"SO0_NRID\", how=\"inner\")\n",
    "\n",
    "# get transactions with succesfull outcome\n",
    "cust_transactions = cust_transactions[cust_transactions[\"HVOUTCOME_NRID\"] == 2 and cust_transactions[\"\"]]\n",
    "\n",
    "# create boxplot for transaction amounts for weekend\n",
    "sns.boxplot(x=cust_transactions[\"AMOUNT\"], y=cust_transactions[\"\"] == )\n",
    "plt.show()\n"
   ]
  },
  {
   "cell_type": "markdown",
   "id": "d4ed54f1",
   "metadata": {},
   "source": [
    "## 3.3 Who are the employees?"
   ]
  },
  {
   "cell_type": "markdown",
   "id": "13979c78",
   "metadata": {},
   "source": [
    "## 3.4 What are the routes?"
   ]
  },
  {
   "cell_type": "markdown",
   "id": "77b9d9bd",
   "metadata": {},
   "source": [
    "Vraag 1"
   ]
  },
  {
   "cell_type": "code",
   "execution_count": null,
   "id": "f8f0aa8f",
   "metadata": {
    "scrolled": true
   },
   "outputs": [],
   "source": [
    "hvc_customer_regions = pd.merge(hvc_so0,hvc_hvroutetemplate)\n",
    "\n",
    "hvc_customer_regions2 = pd.merge(hvc_customer_regions, hvc_hvposition)\n",
    "\n",
    "hvc_customer_regions2[hvc_customer_regions2[\"REGION\"] == \"B02\"].describe()\n",
    "\n",
    "#insert all the different kinds of regions to see the mean and sd\n"
   ]
  },
  {
   "cell_type": "code",
   "execution_count": null,
   "id": "16d892e6",
   "metadata": {},
   "outputs": [],
   "source": []
  },
  {
   "cell_type": "markdown",
   "id": "375c55a2",
   "metadata": {},
   "source": [
    "Vraag 2"
   ]
  },
  {
   "cell_type": "code",
   "execution_count": null,
   "id": "acad01eb",
   "metadata": {},
   "outputs": [],
   "source": [
    "#hvc_customer_routes\n",
    "hvc_customer_routes = pd.merge(hvc_hvroutetemplate, hvc_so0)\n",
    "hvc_customer_routes[hvc_customer_routes[\"REGION\"] == \"C17\"][\"POSTCODE\"].unique()\n",
    "\n",
    "#certain postal codes are unique for a region\n"
   ]
  },
  {
   "cell_type": "code",
   "execution_count": null,
   "id": "714e4c7e",
   "metadata": {},
   "outputs": [],
   "source": [
    "hvc_customer_regions2[hvc_customer_regions2[\"REGION\"] == \"C17\"][\"POSTCODE\"].unique()"
   ]
  },
  {
   "cell_type": "code",
   "execution_count": null,
   "id": "5e5418f9",
   "metadata": {
    "scrolled": true
   },
   "outputs": [],
   "source": [
    "#Which routes belong to which region\n",
    "    \n",
    "\n",
    "agg_dict = {\"REGION\": np.unique}\n",
    "hvc_customer_regions3_grouped = hvc_customer_routes.groupby(\"HVROUTETEMPLATE_NRID\").agg(agg_dict)\n",
    "\n",
    "hvc_customer_regions3_grouped\n"
   ]
  },
  {
   "cell_type": "code",
   "execution_count": null,
   "id": "5b152312",
   "metadata": {},
   "outputs": [],
   "source": [
    "hvc_customer_routes"
   ]
  },
  {
   "cell_type": "markdown",
   "id": "3ab01644",
   "metadata": {},
   "source": [
    "Vraag 3"
   ]
  },
  {
   "cell_type": "code",
   "execution_count": null,
   "id": "4b4732ed",
   "metadata": {},
   "outputs": [],
   "source": [
    "hvc_routes_depot = pd.merge(hvc_depot, hvc_hvroutetemplate)\n",
    "\n",
    "hvc_routes_depot"
   ]
  },
  {
   "cell_type": "code",
   "execution_count": null,
   "id": "57e85244",
   "metadata": {
    "scrolled": true
   },
   "outputs": [],
   "source": [
    "grouped_routes = hvc_routes_depot.groupby(\"DEPOT\")\n",
    "\n",
    "for key, item in grouped_routes:\n",
    "    print(grouped_routes.get_group(key), \"\\n\\n\")"
   ]
  },
  {
   "cell_type": "markdown",
   "id": "96866461",
   "metadata": {},
   "source": [
    "Vraag 4"
   ]
  },
  {
   "cell_type": "code",
   "execution_count": null,
   "id": "42f655bb",
   "metadata": {
    "scrolled": true
   },
   "outputs": [],
   "source": [
    "hvc_employee_route_region = pd.merge(pd.merge(hvc_so0, hvc_hvroutetemplate, on = \"HVROUTETEMPLATE_NRID\"), hvc_hvvisitresult)\n",
    "\n",
    "\n",
    "\n",
    "#hvc_employee_route_region[hvc_employee_route_region[\"AM0_NRID\"] == 23186288605042][\"REGION\"].unique()\n",
    "\n",
    "\n",
    "agg_dict = {\"REGION\": np.unique}\n",
    "hvc_employee_route_region_grouped = hvc_employee_route_region.groupby(\"AM0_NRID\").agg(agg_dict)\n",
    "hvc_employee_region_name = pd.merge(hvc_employee_route_region_grouped, hvc_am0, on = \"AM0_NRID\")\n",
    "\n",
    "hvc_employee_region_name[[\"NAME\", \"REGION\"]]\n",
    "\n"
   ]
  },
  {
   "cell_type": "markdown",
   "id": "11f651ca",
   "metadata": {},
   "source": [
    "Vraag 5"
   ]
  },
  {
   "cell_type": "code",
   "execution_count": null,
   "id": "820adb64",
   "metadata": {},
   "outputs": [],
   "source": [
    "## Clustering the longitude and latitude\n",
    "\n",
    "from sklearn.cluster import KMeans\n",
    "plt.figure(figsize = (10,10))\n",
    "\n",
    "# initialize the cluster algorithm with 4 classes\n",
    "kmeans_model = KMeans(n_clusters=4)\n",
    "\n",
    "# fit the kmeans model onto the data\n",
    "kmeans_model.fit(hvc_hvposition[[\"LONG\",\"LAT\"]])\n",
    "\n",
    "# get all the cluster labels\n",
    "cluster_labels = kmeans_model.labels_\n",
    "\n",
    "# define color map\n",
    "color_map = {0: \"green\", 1: \"red\", 2: \"blue\", 3: \"yellow\"}\n",
    "\n",
    "# get colors for each cluster label\n",
    "cluster_colors = [color_map[label] for label in cluster_labels]\n",
    "\n",
    "# plot data with cluster colors\n",
    "plt.scatter(hvc_hvposition[\"LONG\"], hvc_hvposition[\"LAT\"], color=cluster_colors)\n",
    "plt.show()"
   ]
  },
  {
   "cell_type": "code",
   "execution_count": null,
   "id": "2c944fec",
   "metadata": {},
   "outputs": [],
   "source": [
    "#long and lat\n",
    "#Deinze: 50.590 , 3.3138\n",
    "#Antwerpen: 51.13, 4.24\n",
    "#Vilvoorde : 50.56, 4,25\n",
    "#Aarschot: 50.59, 4.50\n",
    "\n",
    "#Show the 4 regions in a scatterplotx\n",
    "plt.figure(figsize = (10,10))\n",
    "\n",
    "# define color map\n",
    "color_region = {\"C04\": \"green\", \"B25\": \"red\", \"B02\": \"blue\", \"C17\":  \"yellow\"}\n",
    "\n",
    "# get colors for each cluster label\n",
    "cluster_region = [color_region[label] for label in hvc_customer_regions2[\"REGION\"]]\n",
    "\n",
    "# plot data with cluster colors\n",
    "plt.scatter(hvc_customer_regions2[\"LONG\"], hvc_customer_regions2[\"LAT\"], color=cluster_region, s = 7)\n",
    "#plt.savefig(\"./data/fig_region.pdf\")\n",
    "\n",
    "\n",
    "# define color map\n",
    "color_depot = {\"Deinze\": \"black\", \"Antwerpen\": \"black\", \"Vilvoorde\": \"black\", \"Aarschot\":  \"black\"}\n",
    "\n",
    "# get colors for each cluster label\n",
    "cluster_depot = [color_depot[label] for label in data_depot[\"DEPOT\"]] #in de juiste dataframe kijken om het depot te vinden\n",
    "\n",
    "# plot data with cluster colors\n",
    "plt.scatter(data_depot[\"Long\"], data_depot[\"Lat\"], color=cluster_depot, s = 100)\n",
    "plt.savefig(\"./data/fig_depot.pdf\")\n",
    "plt.show()"
   ]
  },
  {
   "cell_type": "code",
   "execution_count": null,
   "id": "88077616",
   "metadata": {
    "scrolled": true
   },
   "outputs": [],
   "source": [
    "hvc_customer_regions2"
   ]
  },
  {
   "cell_type": "code",
   "execution_count": null,
   "id": "a29c9c43",
   "metadata": {
    "scrolled": true
   },
   "outputs": [],
   "source": [
    "hvc_depot_route = pd.merge(hvc_depot, hvc_hvroutetemplate)\n",
    "hvc_depot_route"
   ]
  },
  {
   "cell_type": "code",
   "execution_count": null,
   "id": "92ffa546",
   "metadata": {},
   "outputs": [],
   "source": [
    "#group the depot to see which regions are present in a depot\n",
    "\n",
    "agg_dict_depot = {\"REGION\": np.unique}\n",
    "hvc_depot_route_grouped = hvc_depot_route.groupby(\"DEPOT\").agg(agg_dict)\n",
    "\n",
    "hvc_depot_route_grouped#[[\"NAME\", \"REGION\"]]\n"
   ]
  },
  {
   "cell_type": "code",
   "execution_count": null,
   "id": "09ad31e2",
   "metadata": {},
   "outputs": [],
   "source": [
    "\n",
    "\n",
    "# assign data of lists.  \n",
    "data = {'DEPOT': ['Deinze', 'Antwerpen', 'Vilvoorde', 'Aarschot'], 'Long': [3.3138, 4.24, 4.25, 4.50], 'Lat' :[50.590,51.13,50.56,50.59]}  \n",
    "  \n",
    "# Create DataFrame  \n",
    "data_depot = pd.DataFrame(data)  \n",
    "  \n",
    "# Print the output.  \n",
    "print(data_depot)  \n",
    "\n",
    "#dataframe_depots = pd.DataFrame[\"Deinze\" : \"\"]"
   ]
  },
  {
   "cell_type": "code",
   "execution_count": null,
   "id": "e42ca791",
   "metadata": {},
   "outputs": [],
   "source": [
    "# define a route id\n",
    "route_id = 219020601.0\n",
    "\n",
    "for routeid in cust_pos[\"HVROUTETEMPLATE_NRID\"]\n",
    "# join customer info with customer positions\n",
    "cust_pos = pd.merge(hvc_so0, hvc_hvposition, on=\"SO0_NRID\", how=\"inner\")\n",
    "for routeid in cust_pos[\"HVROUTETEMPLATE_NRID\"]\n",
    "\n",
    "# get all the customers belonging to that route\n",
    "all_cust_route = cust_pos[cust_pos[\"HVROUTETEMPLATE_NRID\"] == 219020601.0]\n",
    "\n",
    "# plot the positions of all customers \n",
    "plt.figure(figsize=(10, 10))\n",
    "plt.scatter(hvc_hvposition[\"LONG\"], hvc_hvposition[\"LAT\"], color=\"blue\", s = 7)\n",
    "# plot the positions of the customers belonging to the specified route\n",
    "plt.scatter(all_cust_route[\"LONG\"], all_cust_route[\"LAT\"], color=\"orange\", label=\"customer of route %s\" %route_id, s = 7)\n",
    "# define legend to add label to figure\n",
    "plt.legend(loc=\"lower left\")\n",
    "plt.show()\n",
    "\n"
   ]
  },
  {
   "cell_type": "code",
   "execution_count": null,
   "id": "65ccc530",
   "metadata": {},
   "outputs": [],
   "source": []
  }
 ],
 "metadata": {
  "kernelspec": {
   "display_name": "Python 3",
   "language": "python",
   "name": "python3"
  },
  "language_info": {
   "codemirror_mode": {
    "name": "ipython",
    "version": 3
   },
   "file_extension": ".py",
   "mimetype": "text/x-python",
   "name": "python",
   "nbconvert_exporter": "python",
   "pygments_lexer": "ipython3",
   "version": "3.8.8"
  }
 },
 "nbformat": 4,
 "nbformat_minor": 5
}
