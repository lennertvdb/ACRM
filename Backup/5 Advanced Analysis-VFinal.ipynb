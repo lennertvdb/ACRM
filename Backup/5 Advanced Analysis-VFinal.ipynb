{
 "cells": [
  {
   "cell_type": "code",
   "execution_count": 25,
   "id": "f5d2fff9",
   "metadata": {},
   "outputs": [],
   "source": [
    "# import the packages\n",
    "import pandas as pd\n",
    "import numpy as np\n",
    "import datetime\n",
    "import matplotlib.pyplot as plt\n",
    "import geopandas as gpd\n",
    "from collections import Counter\n",
    "from statistics import mode\n",
    "import datetime\n",
    "from sklearn.metrics.pairwise import cosine_similarity\n",
    "import geopandas\n",
    "import rtree\n",
    "import seaborn as sns\n",
    "import haversine as hs\n"
   ]
  },
  {
   "cell_type": "markdown",
   "id": "c48934a7",
   "metadata": {},
   "source": [
    "# 1 Import data"
   ]
  },
  {
   "cell_type": "code",
   "execution_count": 2,
   "id": "08c46c0d",
   "metadata": {},
   "outputs": [],
   "source": [
    "# import the data into pandas dataframes\n",
    "hvc_am0 = pd.read_csv(\"../ACRM-GROUP-13/data/HVC_AM0.csv\", sep=\";\")\n",
    "hvc_ar0 = pd.read_csv(\"../ACRM-GROUP-13/data/HVC_AR0.csv\", sep=\";\")\n",
    "hvc_customer_reviews = pd.read_csv(\"../ACRM-GROUP-13/data/HVC_CUSTOMER_REVIEWS.csv\", sep=\";\")\n",
    "hvc_depot = pd.read_csv(\"../ACRM-GROUP-13/data/HVC_DEPOT.csv\", sep=\";\")\n",
    "hvc_hvdayofweek = pd.read_csv(\"../ACRM-GROUP-13/data/HVC_HVDAYOFWEEK.csv\", sep=\";\")\n",
    "hvc_hvposition = pd.read_csv(\"../ACRM-GROUP-13/data/HVC_HVPOSITION_CORRECT.csv\", sep=\";\")\n",
    "hvc_hvroutetemplate = pd.read_csv(\"../ACRM-GROUP-13/data/HVC_HVROUTETEMPLATE.csv\", sep=\";\")\n",
    "hvc_hvvisitoutcome = pd.read_csv(\"../ACRM-GROUP-13/data/HVC_HVVISITOUTCOME.csv\", sep=\";\")\n",
    "hvc_hvvisitresult = pd.read_csv(\"../ACRM-GROUP-13/data/HVC_HVVISITRESULT.csv\", sep=\";\")\n",
    "hvc_so0 = pd.read_csv(\"../ACRM-GROUP-13/data/HVC_SO0.csv\", sep=\";\")\n",
    "hvc_visitresultdetails = pd.read_csv(\"../ACRM-GROUP-13/data/HVC_VISITRESULTDETAILS.csv\", sep=\";\")"
   ]
  },
  {
   "cell_type": "code",
   "execution_count": 3,
   "id": "c3150091",
   "metadata": {},
   "outputs": [],
   "source": [
    "#Data conversion\n",
    "hvc_hvdayofweek[\"HVDAYOFWEEK_NRID\"] = hvc_hvdayofweek[\"HVDAYOFWEEK_NRID\"].astype(int)\n",
    "hvc_hvroutetemplate[\"HVROUTETEMPLATE_NRID\"] = hvc_hvroutetemplate[\"HVROUTETEMPLATE_NRID\"].astype(int)\n",
    "hvc_hvroutetemplate[\"HVDAYOFWEEK_NRID\"] = hvc_hvroutetemplate[\"HVDAYOFWEEK_NRID\"].astype(int)\n",
    "hvc_hvroutetemplate[\"WEEKORDER\"] = hvc_hvroutetemplate[\"WEEKORDER\"].astype(int)\n",
    "hvc_hvvisitoutcome[\"HVOUTCOME_NRID\"] = hvc_hvvisitoutcome[\"HVOUTCOME_NRID\"].astype(int)\n",
    "hvc_visitresultdetails[\"HVVISITRESULT_NRID\"] = hvc_visitresultdetails[\"HVVISITRESULT_NRID\"].astype(int)\n",
    "hvc_so0[\"SO0_NRID\"] = hvc_so0[\"SO0_NRID\"].astype(int)\n",
    "hvc_so0[\"HVROUTETEMPLATE_NRID\"] = hvc_so0[\"HVROUTETEMPLATE_NRID\"].astype(int)\n",
    "hvc_hvvisitresult[\"DATEONLY\"] = pd.to_datetime(hvc_hvvisitresult[\"DATEONLY\"])\n",
    "hvc_hvvisitresult[\"VISITDATE\"] = pd.to_datetime(hvc_hvvisitresult[\"VISITDATE\"])"
   ]
  },
  {
   "cell_type": "markdown",
   "id": "6820aa3d",
   "metadata": {},
   "source": [
    "# 2 Advanced Analysis"
   ]
  },
  {
   "cell_type": "markdown",
   "id": "aedfab3a",
   "metadata": {},
   "source": [
    "## 2.5 Are there factors that the company can change in order to decrease the churning rate?"
   ]
  },
  {
   "cell_type": "code",
   "execution_count": 4,
   "id": "02adb5ab",
   "metadata": {},
   "outputs": [],
   "source": [
    "def season_of_date(date):\n",
    "    year = str(date.year)\n",
    "    seasons = {'Spring': pd.date_range(start='21/03/'+year, end='20/06/'+year),\n",
    "               'Summer': pd.date_range(start='21/06/'+year, end='20/09/'+year),\n",
    "               'Autumn': pd.date_range(start='21/09/'+year, end='20/12/'+year)}\n",
    "    if date in seasons['Spring']:\n",
    "        return 'Spring'\n",
    "    if date in seasons['Summer']:\n",
    "        return 'Summer'\n",
    "    if date in seasons['Autumn']:\n",
    "        return 'Autumn'\n",
    "    else:\n",
    "        return 'Winter'"
   ]
  },
  {
   "cell_type": "code",
   "execution_count": 7,
   "id": "d1142bdb",
   "metadata": {
    "scrolled": true
   },
   "outputs": [
    {
     "name": "stdout",
     "output_type": "stream",
     "text": [
      "Christmas:  89\n",
      "Summer:  25\n",
      "Winter:  0\n"
     ]
    }
   ],
   "source": [
    "#Check if the customer is visited at the right moment\n",
    "#comparing amounts of open door but no purchase on a certain date with the preferred time for visits\n",
    "hvc_hvvisitresult_nothingneeded = hvc_hvvisitresult[hvc_hvvisitresult[\"HVOUTCOME_NRID\"] == 0]\n",
    "hvc_hvvisitresult_nothingneeded.drop(axis = 1,labels = \"PAYMENTTERM\")\n",
    "\n",
    "hvc_hvvisitresult_nothingneeded_so0 = pd.merge(hvc_hvvisitresult_nothingneeded, hvc_so0, on = \"SO0_NRID\")\n",
    "\n",
    "hvc_hvvisitresult_nothingneeded_so0.drop(axis = 1, labels = \"PAYMENTTERM\")\n",
    "\n",
    "#Christmas\n",
    "hvc_hvvisitresult_nothingneeded_so0_christmas = hvc_hvvisitresult_nothingneeded_so0[hvc_hvvisitresult_nothingneeded_so0[\"SEASON_TYPE\"] == \"Christmas\"]\n",
    "\n",
    "christmas_false = []\n",
    "for index, row in hvc_hvvisitresult_nothingneeded_so0_christmas.iterrows():\n",
    "    if(row.DATEONLY.month != 12):\n",
    "        christmas_false.append(index)\n",
    "christmas_wrongproportion = int((len(christmas_false)/len(hvc_hvvisitresult_nothingneeded_so0_christmas)*100))\n",
    "print(\"Christmas: \", christmas_wrongproportion)\n",
    "\n",
    "#Function\n",
    "def season_proportion(season):\n",
    "    hvc_hvvisitresult_nothingneeded_so0_Season = hvc_hvvisitresult_nothingneeded_so0[hvc_hvvisitresult_nothingneeded_so0[\"SEASON_TYPE\"] == season]\n",
    "\n",
    "    Season_false = []\n",
    "    for index, row in hvc_hvvisitresult_nothingneeded_so0_Season.iterrows():\n",
    "        if(season_of_date(row.DATEONLY) == season):\n",
    "            Season_false.append(index)\n",
    "    Season_wrongproportion = int((len(Season_false)/len(hvc_hvvisitresult_nothingneeded_so0_Season)*100))\n",
    "    print(season + \": \", Season_wrongproportion)\n",
    "    return Season_wrongproportion\n",
    "    \n",
    "    \n",
    "summer_wrongproportion = season_proportion(\"Summer\")\n",
    "winter_wrongproportion = season_proportion(\"Winter\")"
   ]
  },
  {
   "cell_type": "code",
   "execution_count": 8,
   "id": "397005e6",
   "metadata": {},
   "outputs": [
    {
     "data": {
      "image/png": "[encoded data removed]",
      "text/plain": [
       "<Figure size 720x720 with 1 Axes>"
      ]
     },
     "metadata": {
      "needs_background": "light"
     },
     "output_type": "display_data"
    }
   ],
   "source": [
    "## Making a horizontal stacked bar chart\n",
    "from matplotlib.colors import LinearSegmentedColormap\n",
    "\n",
    "#making a df\n",
    "data = [['Christmas', 100 - christmas_wrongproportion, christmas_wrongproportion], ['Winter', 100 - winter_wrongproportion, winter_wrongproportion], ['Summer', 100 - summer_wrongproportion, summer_wrongproportion]]\n",
    "df = pd.DataFrame(data, columns = ['Season_Types', 'Wrong_Period',\"Correct_Period\"])\n",
    "\n",
    "## making plot\n",
    "ax = df.plot(kind='barh', stacked=True, figsize=(10, 10), color = [\"green\",\"red\"])\n",
    "\n",
    "for c in ax.containers:\n",
    "    \n",
    "    # customize the label to account for cases when there might not be a bar section\n",
    "    labels = [f'{w:.0f}%' if (w := v.get_width()) > 0 else '' for v in c ]\n",
    "    \n",
    "    # set the bar label\n",
    "    ax.bar_label(c, labels=labels, label_type='center', fontsize = 16)\n",
    "    \n",
    "    \n",
    "ax.legend([\"Correct Period\", \"Wrong Period\"],loc=\"upper left\", fontsize = 11)\n",
    "plt.xticks([0,20,40,60,80,100], fontsize = 16)\n",
    "plt.yticks(np.arange(3), df[\"Season_Types\"], fontsize = 16)\n",
    "plt.savefig('./Graphs/Correct_Visit_Period.png')\n",
    "plt.show()"
   ]
  },
  {
   "cell_type": "code",
   "execution_count": 10,
   "id": "85e36050",
   "metadata": {},
   "outputs": [
    {
     "data": {
      "text/plain": [
       "38.99715076014392"
      ]
     },
     "execution_count": 10,
     "metadata": {},
     "output_type": "execute_result"
    }
   ],
   "source": [
    "# Turnover customers\n",
    "hvc_hvvisitresult_nothingneeded = hvc_hvvisitresult[hvc_hvvisitresult[\"HVOUTCOME_NRID\"] == 0]\n",
    "visit_turnover = (len(hvc_hvvisitresult_nothingneeded)/len(hvc_hvvisitresult))*100\n",
    "visit_turnover"
   ]
  },
  {
   "cell_type": "code",
   "execution_count": 26,
   "id": "25b359a4",
   "metadata": {},
   "outputs": [
    {
     "name": "stdout",
     "output_type": "stream",
     "text": [
      "81\n"
     ]
    }
   ],
   "source": [
    "# check if the customer closed door is visited between 9 and 17\n",
    "\n",
    "hvc_hvvisitresult_nothome = hvc_hvvisitresult[hvc_hvvisitresult[\"HVOUTCOME_NRID\"] == 1]\n",
    "hvc_hvvisitresult_nothome.drop(axis = 1,labels = \"PAYMENTTERM\")\n",
    "\n",
    "Correct_Time = []\n",
    "Wrong_Time = []\n",
    "\n",
    "starttime= datetime.time(9,0,0)\n",
    "endtime = datetime.time(17,0,0)\n",
    "\n",
    "for index, row in hvc_hvvisitresult_nothome.iterrows():\n",
    "    if(row.VISITDATE.time() > starttime and row.VISITDATE.time() < endtime):\n",
    "        Wrong_Time.append(index)\n",
    "Wrong_Time_proportion = int(100*(len(Wrong_Time)/len(hvc_hvvisitresult_nothome)))\n",
    "print(Wrong_Time_proportion)"
   ]
  },
  {
   "cell_type": "markdown",
   "id": "7d22231b",
   "metadata": {},
   "source": [
    "## 3.2 Product Family "
   ]
  },
  {
   "cell_type": "code",
   "execution_count": 60,
   "id": "f3f0787b",
   "metadata": {},
   "outputs": [],
   "source": [
    "# get the number of products in each product family\n",
    "products_per_family = hvc_ar0.groupby(\"FAMILY\")[\"AR0_NRID\"].count().reset_index()"
   ]
  },
  {
   "cell_type": "code",
   "execution_count": 65,
   "id": "12f05408",
   "metadata": {},
   "outputs": [
    {
     "data": {
      "text/html": [
       "<div>\n",
       "<style scoped>\n",
       "    .dataframe tbody tr th:only-of-type {\n",
       "        vertical-align: middle;\n",
       "    }\n",
       "\n",
       "    .dataframe tbody tr th {\n",
       "        vertical-align: top;\n",
       "    }\n",
       "\n",
       "    .dataframe thead th {\n",
       "        text-align: right;\n",
       "    }\n",
       "</style>\n",
       "<table border=\"1\" class=\"dataframe\">\n",
       "  <thead>\n",
       "    <tr style=\"text-align: right;\">\n",
       "      <th></th>\n",
       "      <th>REVENUE</th>\n",
       "    </tr>\n",
       "    <tr>\n",
       "      <th>FAMILY</th>\n",
       "      <th></th>\n",
       "    </tr>\n",
       "  </thead>\n",
       "  <tbody>\n",
       "    <tr>\n",
       "      <th>Hand Ice</th>\n",
       "      <td>399042.2</td>\n",
       "    </tr>\n",
       "    <tr>\n",
       "      <th>Scoop Ice</th>\n",
       "      <td>279254.7</td>\n",
       "    </tr>\n",
       "    <tr>\n",
       "      <th>Cups</th>\n",
       "      <td>110634.7</td>\n",
       "    </tr>\n",
       "    <tr>\n",
       "      <th>Ice Cakes</th>\n",
       "      <td>62868.9</td>\n",
       "    </tr>\n",
       "    <tr>\n",
       "      <th>Assortments</th>\n",
       "      <td>61107.9</td>\n",
       "    </tr>\n",
       "    <tr>\n",
       "      <th>Individual Dessert</th>\n",
       "      <td>54172.2</td>\n",
       "    </tr>\n",
       "    <tr>\n",
       "      <th>Meals</th>\n",
       "      <td>39075.6</td>\n",
       "    </tr>\n",
       "    <tr>\n",
       "      <th>Coffee</th>\n",
       "      <td>31738.7</td>\n",
       "    </tr>\n",
       "    <tr>\n",
       "      <th>Garniture</th>\n",
       "      <td>13203.1</td>\n",
       "    </tr>\n",
       "    <tr>\n",
       "      <th>BIG</th>\n",
       "      <td>10240.0</td>\n",
       "    </tr>\n",
       "    <tr>\n",
       "      <th>POS inside</th>\n",
       "      <td>708.1</td>\n",
       "    </tr>\n",
       "  </tbody>\n",
       "</table>\n",
       "</div>"
      ],
      "text/plain": [
       "                     REVENUE\n",
       "FAMILY                      \n",
       "Hand Ice            399042.2\n",
       "Scoop Ice           279254.7\n",
       "Cups                110634.7\n",
       "Ice Cakes            62868.9\n",
       "Assortments          61107.9\n",
       "Individual Dessert   54172.2\n",
       "Meals                39075.6\n",
       "Coffee               31738.7\n",
       "Garniture            13203.1\n",
       "BIG                  10240.0\n",
       "POS inside             708.1"
      ]
     },
     "execution_count": 65,
     "metadata": {},
     "output_type": "execute_result"
    }
   ],
   "source": [
    "#making the correct table\n",
    "hvc_ar0_visitresultdetails = pd.merge(hvc_ar0, hvc_visitresultdetails)\n",
    "hvc_ar0_visitresultdetails\n",
    "\n",
    "#calculating the revenue\n",
    "revenue = hvc_ar0_visitresultdetails[\"QUANTITY\"] * hvc_ar0_visitresultdetails[\"PRICE\"]\n",
    "hvc_ar0_visitresultdetails[\"REVENUE\"] = revenue\n",
    "agg_dict = {\"REVENUE\": np.sum}\n",
    "hvc_revenue = hvc_ar0_visitresultdetails.groupby(\"AR0_NRID\").agg(agg_dict)\n",
    "hvc_revenue_top = hvc_revenue.sort_values(\"REVENUE\", ascending = False).head(5)\n",
    "\n",
    "agg_dict = {\"REVENUE\": np.sum}\n",
    "hvc_revenue_family = hvc_ar0_visitresultdetails.groupby(\"FAMILY\").agg(agg_dict)\n",
    "hvc_revenue_sorted = hvc_revenue_family.sort_values(\"REVENUE\", ascending = False)\n",
    "hvc_revenue_sorted"
   ]
  },
  {
   "cell_type": "code",
   "execution_count": 66,
   "id": "db3d8dca",
   "metadata": {
    "scrolled": true
   },
   "outputs": [],
   "source": [
    "products_per_family.sort_values(\"AR0_NRID\")\n",
    "products_per_family_index = products_per_family.set_index(\"FAMILY\").reindex(hvc_revenue_sorted.index)"
   ]
  },
  {
   "cell_type": "code",
   "execution_count": 80,
   "id": "77026975",
   "metadata": {},
   "outputs": [
    {
     "data": {
      "image/png": "[encoded data removed]",
      "text/plain": [
       "<Figure size 1440x720 with 2 Axes>"
      ]
     },
     "metadata": {
      "needs_background": "light"
     },
     "output_type": "display_data"
    }
   ],
   "source": [
    "# create subplot\n",
    "plt.figure(figsize = (20,10))\n",
    "plt.subplot(2,1,1)\n",
    "# plot barplot\n",
    "plt.bar(x=range(11), height=hvc_revenue_sorted[\"REVENUE\"], label = \"Revenue\", color = '#ffb923')\n",
    "plt.set_color = (\"#ffb923\")\n",
    "# set xticks\n",
    "family_names = []\n",
    "for index in hvc_revenue_sorted.index:\n",
    "    family_names.append(index)\n",
    "plt.xticks(range(11), family_names, fontsize = 12)\n",
    "plt.yticks(fontsize = 15)\n",
    "# define title\n",
    "plt.title(\"Sales per Product Family\", fontsize = 20)\n",
    "\n",
    "plt.subplot(2,1,2)\n",
    "# plot barplot\n",
    "plt.bar(x=range(11), height=products_per_family_index[\"AR0_NRID\"], label = \"Products per family\", color = '#ffb923')\n",
    "plt.set_color = (\"#ffb923\")\n",
    "# set xticks\n",
    "plt.xticks(range(11), family_names, fontsize = 12)\n",
    "plt.yticks(fontsize = 15)\n",
    "# define title\n",
    "plt.title(\"Amount of Products per Product Family\", fontsize = 20)\n",
    "plt.savefig('./Graphs/productfamily.png')\n",
    "plt.show()\n",
    "\n"
   ]
  },
  {
   "cell_type": "code",
   "execution_count": null,
   "id": "4a9292b7",
   "metadata": {},
   "outputs": [],
   "source": []
  },
  {
   "cell_type": "code",
   "execution_count": 68,
   "id": "d0edd05d",
   "metadata": {
    "scrolled": false
   },
   "outputs": [
    {
     "data": {
      "text/html": [
       "<div>\n",
       "<style scoped>\n",
       "    .dataframe tbody tr th:only-of-type {\n",
       "        vertical-align: middle;\n",
       "    }\n",
       "\n",
       "    .dataframe tbody tr th {\n",
       "        vertical-align: top;\n",
       "    }\n",
       "\n",
       "    .dataframe thead th {\n",
       "        text-align: right;\n",
       "    }\n",
       "</style>\n",
       "<table border=\"1\" class=\"dataframe\">\n",
       "  <thead>\n",
       "    <tr style=\"text-align: right;\">\n",
       "      <th></th>\n",
       "      <th>REVENUE</th>\n",
       "    </tr>\n",
       "    <tr>\n",
       "      <th>FAMILY</th>\n",
       "      <th></th>\n",
       "    </tr>\n",
       "  </thead>\n",
       "  <tbody>\n",
       "    <tr>\n",
       "      <th>Assortments</th>\n",
       "      <td>61107.9</td>\n",
       "    </tr>\n",
       "    <tr>\n",
       "      <th>BIG</th>\n",
       "      <td>10240.0</td>\n",
       "    </tr>\n",
       "    <tr>\n",
       "      <th>Coffee</th>\n",
       "      <td>31738.7</td>\n",
       "    </tr>\n",
       "    <tr>\n",
       "      <th>Cups</th>\n",
       "      <td>110634.7</td>\n",
       "    </tr>\n",
       "    <tr>\n",
       "      <th>Garniture</th>\n",
       "      <td>13203.1</td>\n",
       "    </tr>\n",
       "    <tr>\n",
       "      <th>Hand Ice</th>\n",
       "      <td>399042.2</td>\n",
       "    </tr>\n",
       "    <tr>\n",
       "      <th>Ice Cakes</th>\n",
       "      <td>62868.9</td>\n",
       "    </tr>\n",
       "    <tr>\n",
       "      <th>Individual Dessert</th>\n",
       "      <td>54172.2</td>\n",
       "    </tr>\n",
       "    <tr>\n",
       "      <th>Meals</th>\n",
       "      <td>39075.6</td>\n",
       "    </tr>\n",
       "    <tr>\n",
       "      <th>POS inside</th>\n",
       "      <td>708.1</td>\n",
       "    </tr>\n",
       "    <tr>\n",
       "      <th>Scoop Ice</th>\n",
       "      <td>279254.7</td>\n",
       "    </tr>\n",
       "  </tbody>\n",
       "</table>\n",
       "</div>"
      ],
      "text/plain": [
       "                     REVENUE\n",
       "FAMILY                      \n",
       "Assortments          61107.9\n",
       "BIG                  10240.0\n",
       "Coffee               31738.7\n",
       "Cups                110634.7\n",
       "Garniture            13203.1\n",
       "Hand Ice            399042.2\n",
       "Ice Cakes            62868.9\n",
       "Individual Dessert   54172.2\n",
       "Meals                39075.6\n",
       "POS inside             708.1\n",
       "Scoop Ice           279254.7"
      ]
     },
     "execution_count": 68,
     "metadata": {},
     "output_type": "execute_result"
    }
   ],
   "source": [
    "# check the proportion of sold products\n",
    "\n",
    "hvc_revenue_family"
   ]
  },
  {
   "cell_type": "code",
   "execution_count": 69,
   "id": "d4c903b3",
   "metadata": {
    "scrolled": true
   },
   "outputs": [
    {
     "data": {
      "text/html": [
       "<div>\n",
       "<style scoped>\n",
       "    .dataframe tbody tr th:only-of-type {\n",
       "        vertical-align: middle;\n",
       "    }\n",
       "\n",
       "    .dataframe tbody tr th {\n",
       "        vertical-align: top;\n",
       "    }\n",
       "\n",
       "    .dataframe thead th {\n",
       "        text-align: right;\n",
       "    }\n",
       "</style>\n",
       "<table border=\"1\" class=\"dataframe\">\n",
       "  <thead>\n",
       "    <tr style=\"text-align: right;\">\n",
       "      <th></th>\n",
       "      <th>REVENUE</th>\n",
       "      <th>FREQUENCY_OF_REVENUE</th>\n",
       "    </tr>\n",
       "    <tr>\n",
       "      <th>AR0_NRID</th>\n",
       "      <th></th>\n",
       "      <th></th>\n",
       "    </tr>\n",
       "  </thead>\n",
       "  <tbody>\n",
       "    <tr>\n",
       "      <th>290318679</th>\n",
       "      <td>258.3</td>\n",
       "      <td>0.09</td>\n",
       "    </tr>\n",
       "    <tr>\n",
       "      <th>23702</th>\n",
       "      <td>257.3</td>\n",
       "      <td>0.09</td>\n",
       "    </tr>\n",
       "    <tr>\n",
       "      <th>23704</th>\n",
       "      <td>166.0</td>\n",
       "      <td>0.06</td>\n",
       "    </tr>\n",
       "    <tr>\n",
       "      <th>23701</th>\n",
       "      <td>141.1</td>\n",
       "      <td>0.05</td>\n",
       "    </tr>\n",
       "    <tr>\n",
       "      <th>23703</th>\n",
       "      <td>107.9</td>\n",
       "      <td>0.04</td>\n",
       "    </tr>\n",
       "    <tr>\n",
       "      <th>17811288175050</th>\n",
       "      <td>49.8</td>\n",
       "      <td>0.02</td>\n",
       "    </tr>\n",
       "    <tr>\n",
       "      <th>18424244393052</th>\n",
       "      <td>33.2</td>\n",
       "      <td>0.01</td>\n",
       "    </tr>\n",
       "    <tr>\n",
       "      <th>23712</th>\n",
       "      <td>33.2</td>\n",
       "      <td>0.01</td>\n",
       "    </tr>\n",
       "    <tr>\n",
       "      <th>19864988676644</th>\n",
       "      <td>32.4</td>\n",
       "      <td>0.01</td>\n",
       "    </tr>\n",
       "    <tr>\n",
       "      <th>23794</th>\n",
       "      <td>18.8</td>\n",
       "      <td>0.01</td>\n",
       "    </tr>\n",
       "    <tr>\n",
       "      <th>23797</th>\n",
       "      <td>9.4</td>\n",
       "      <td>0.00</td>\n",
       "    </tr>\n",
       "    <tr>\n",
       "      <th>23796</th>\n",
       "      <td>9.4</td>\n",
       "      <td>0.00</td>\n",
       "    </tr>\n",
       "    <tr>\n",
       "      <th>23705</th>\n",
       "      <td>8.3</td>\n",
       "      <td>0.00</td>\n",
       "    </tr>\n",
       "    <tr>\n",
       "      <th>64412289</th>\n",
       "      <td>0.0</td>\n",
       "      <td>0.00</td>\n",
       "    </tr>\n",
       "    <tr>\n",
       "      <th>64270183</th>\n",
       "      <td>0.0</td>\n",
       "      <td>0.00</td>\n",
       "    </tr>\n",
       "    <tr>\n",
       "      <th>52595603</th>\n",
       "      <td>0.0</td>\n",
       "      <td>0.00</td>\n",
       "    </tr>\n",
       "  </tbody>\n",
       "</table>\n",
       "</div>"
      ],
      "text/plain": [
       "                REVENUE  FREQUENCY_OF_REVENUE\n",
       "AR0_NRID                                     \n",
       "290318679         258.3                  0.09\n",
       "23702             257.3                  0.09\n",
       "23704             166.0                  0.06\n",
       "23701             141.1                  0.05\n",
       "23703             107.9                  0.04\n",
       "17811288175050     49.8                  0.02\n",
       "18424244393052     33.2                  0.01\n",
       "23712              33.2                  0.01\n",
       "19864988676644     32.4                  0.01\n",
       "23794              18.8                  0.01\n",
       "23797               9.4                  0.00\n",
       "23796               9.4                  0.00\n",
       "23705               8.3                  0.00\n",
       "64412289            0.0                  0.00\n",
       "64270183            0.0                  0.00\n",
       "52595603            0.0                  0.00"
      ]
     },
     "execution_count": 69,
     "metadata": {},
     "output_type": "execute_result"
    }
   ],
   "source": [
    "#check the top products per family so we can drop certain products that do not generate enough\n",
    "# sidenote with the graph about products per family and revenue per family\n",
    "\n",
    "agg_dict = {'REVENUE': np.sum}\n",
    "hvc_revenue_product = hvc_ar0_visitresultdetails.groupby('AR0_NRID').agg(agg_dict)\n",
    "\n",
    "hvc_revenue_product_family = pd.merge(hvc_revenue_product,hvc_ar0, on = \"AR0_NRID\")\n",
    "hvc_revenue_product_family = hvc_revenue_product_family[hvc_revenue_product_family['FAMILY'].notna()]\n",
    "\n",
    "def topproductsperfamily(specificfamily):\n",
    "    hvc_revenue_product_family_Specificfamily = hvc_revenue_product_family[hvc_revenue_product_family[\"FAMILY\"] == specificfamily].sort_values(\"REVENUE\", ascending = False)\n",
    "    total_revenue_family = hvc_revenue_product_family[hvc_revenue_product_family[\"FAMILY\"] == specificfamily][\"REVENUE\"].sum()\n",
    "    frequency_family = []\n",
    "    for index, row in hvc_revenue_product_family_Specificfamily.iterrows():\n",
    "        frequency_family.append(round((100 * row.REVENUE)/total_revenue_family,2))\n",
    "    hvc_revenue_product_family_Specificfamily[\"FREQUENCY_OF_REVENUE\"] = frequency_family\n",
    "    hvc_revenue_product_family_Specificfamily.set_index(\"AR0_NRID\", inplace = True)\n",
    "    return hvc_revenue_product_family_Specificfamily[[\"REVENUE\", \"FREQUENCY_OF_REVENUE\"]]\n",
    "scoop_ice = topproductsperfamily(\"Scoop Ice\")\n",
    "scoop_ice[scoop_ice[\"FREQUENCY_OF_REVENUE\"] < 0.1]\n"
   ]
  },
  {
   "cell_type": "markdown",
   "id": "57a389ab",
   "metadata": {},
   "source": [
    "## 3.3 Recommendation Engine"
   ]
  },
  {
   "cell_type": "markdown",
   "id": "df7151b7",
   "metadata": {},
   "source": [
    "#### Preparations"
   ]
  },
  {
   "cell_type": "code",
   "execution_count": 47,
   "id": "4a9f19c9",
   "metadata": {},
   "outputs": [],
   "source": [
    "#making the necessary tables\n",
    "hvc_visitresult_visitresultdetails_so0 = pd.merge(pd.merge(hvc_hvvisitresult, hvc_so0, on = \"SO0_NRID\"), hvc_visitresultdetails, on = \"HVVISITRESULT_NRID\")\n",
    "hvc_visitresult_visitresultdetails_so0_ar0 = pd.merge(hvc_visitresult_visitresultdetails_so0, hvc_ar0, on = \"AR0_NRID\")\n",
    "hvc_visitresult_visitresultdetails_so0_ar0_routetemplate = pd.merge(hvc_visitresult_visitresultdetails_so0_ar0, hvc_hvroutetemplate)\n",
    "hvc_visitresult_visitresultdetails_so0_ar0_routetemplate\n",
    "def productsregionfct(region):\n",
    "    hvc_visitresult_visitresultdetails_so0_ar0_routetemplate_sortedquantity = hvc_visitresult_visitresultdetails_so0_ar0_routetemplate[hvc_visitresult_visitresultdetails_so0_ar0_routetemplate[\"REGION\"] == region].sort_values(by = \"QUANTITY\")\n",
    "    quantity_act= {\"QUANTITY\" : np.sum}\n",
    "    quantity_grouped = hvc_visitresult_visitresultdetails_so0_ar0_routetemplate_sortedquantity.groupby(\"AR0_NRID\").agg(quantity_act)\n",
    "    quantity_grouped_top = quantity_grouped.sort_values(by = \"QUANTITY\", ascending = False).head(5)\n",
    "    regionlist = []\n",
    "    for index in quantity_grouped_top.index:\n",
    "        regionlist.append(index)\n",
    "    return regionlist"
   ]
  },
  {
   "cell_type": "code",
   "execution_count": 5,
   "id": "ea958332",
   "metadata": {},
   "outputs": [],
   "source": [
    "transactions_details_df = pd.merge(left=hvc_hvvisitresult, right=hvc_visitresultdetails, on=\"HVVISITRESULT_NRID\", how=\"inner\")"
   ]
  },
  {
   "cell_type": "code",
   "execution_count": 6,
   "id": "eec7d664",
   "metadata": {},
   "outputs": [],
   "source": [
    "# put the column \"AR0_NRID\" of hvc_visitresultdetails_correlatedproducts in a list \n",
    "# so that it is easier to work with\n",
    "\n",
    "# get unique transactions\n",
    "trans_ids = transactions_details_df[\"HVVISITRESULT_NRID\"].unique().tolist()\n",
    "\n",
    "# initialize container\n",
    "trans_products = []\n",
    "\n",
    "# loop through all the transactions\n",
    "for trans_id in trans_ids:\n",
    "    # get unique products that were bought during transaction\n",
    "    products = transactions_details_df[transactions_details_df[\"HVVISITRESULT_NRID\"] == trans_id][\"AR0_NRID\"].unique().tolist()\n",
    "    # add to container\n",
    "    trans_products.append(products)"
   ]
  },
  {
   "cell_type": "code",
   "execution_count": 8,
   "id": "e0a6513a",
   "metadata": {},
   "outputs": [],
   "source": [
    "#function to get the most correlated product of a product\n",
    "def get_correlated_product(product_id):    \n",
    "    # initialize empty container\n",
    "    other_products = []\n",
    "    # loop through the transactions\n",
    "    for products in trans_products:\n",
    "        # check if product_id was bought in transaction\n",
    "            if product_id in products:\n",
    "            # loop through the products that were bought in that transaction\n",
    "                for product in products:\n",
    "                    if product != product_id:\n",
    "                        # add product to container\n",
    "                        other_products.append(product)\n",
    "    \n",
    "    return mode(other_products)"
   ]
  },
  {
   "cell_type": "code",
   "execution_count": 12,
   "id": "b72b3433",
   "metadata": {},
   "outputs": [],
   "source": [
    "# define a function that accepts a customer id, the transactions data, transactions details data and product data\n",
    "def get_products_customer(cust_id):\n",
    "    # join transactions with transaction details with products\n",
    "    transactions_products = hvc_hvvisitresult.merge(hvc_visitresultdetails, on=\"HVVISITRESULT_NRID\", how=\"inner\") \\\n",
    "                                        .merge(hvc_ar0, on=\"AR0_NRID\", how=\"inner\")\n",
    "    # get transactions of customer \n",
    "    transactions_products_cust = transactions_products[transactions_products[\"SO0_NRID\"] == cust_id]\n",
    "    # only get transactions of succesfull visits\n",
    "    transactions_products_cust = transactions_products_cust[transactions_products_cust[\"HVOUTCOME_NRID\"] == 2]\n",
    "    # return\n",
    "    return transactions_products_cust[\"AR0_NRID\"].unique()"
   ]
  },
  {
   "cell_type": "code",
   "execution_count": 18,
   "id": "97d4f4d3",
   "metadata": {},
   "outputs": [],
   "source": [
    "#function to get the region of a customer based on the route he is in\n",
    "def get_region_customer(customerid):\n",
    "    #merge the correct df\n",
    "    hvc_so0_routetemplate = pd.merge(hvc_so0, hvc_hvroutetemplate, on = \"HVROUTETEMPLATE_NRID\", how = \"inner\")\n",
    "    #set the index for loc\n",
    "    hvc_so0_routetemplate = hvc_so0_routetemplate.set_index(\"SO0_NRID\")\n",
    "    #get the region out of the df\n",
    "    region = hvc_so0_routetemplate.loc[customerid][\"REGION\"]\n",
    "    return region"
   ]
  },
  {
   "cell_type": "code",
   "execution_count": 17,
   "id": "d11ff35d",
   "metadata": {},
   "outputs": [],
   "source": [
    "#function to get correlated products of customer based on previous product purchases\n",
    "def get_top_correlated_products(cust_id):\n",
    "    #initialize local variables\n",
    "    products = get_products_customer(cust_id)\n",
    "    correlated_products = []\n",
    "    #get correlated products out of function and list of bought products\n",
    "    for product in products:\n",
    "            correlated_products.append(get_correlated_product(product))\n",
    "    correlated_products = np.unique(correlated_products)\n",
    "    return correlated_products"
   ]
  },
  {
   "cell_type": "code",
   "execution_count": 31,
   "id": "70d9ab64",
   "metadata": {
    "scrolled": true
   },
   "outputs": [],
   "source": [
    "#Make recency, freq and monetary value table of all customers\n",
    "#Recency\n",
    "rec = hvc_hvvisitresult[hvc_hvvisitresult[\"HVOUTCOME_NRID\"] == 2].groupby(\"SO0_NRID\")[\"DATEONLY\"].max().reset_index()\n",
    "rec[\"REC\"] = rec[\"DATEONLY\"].apply(lambda x: (datetime.datetime.now() - x).days)\n",
    "rec = rec.drop(\"DATEONLY\", axis = 1)\n",
    "\n",
    "#Frequency\n",
    "freq = hvc_hvvisitresult[hvc_hvvisitresult[\"HVOUTCOME_NRID\"] == 2].groupby(\"SO0_NRID\")[\"HVVISITRESULT_NRID\"].count().reset_index()\n",
    "freq = freq.rename(columns = {\"HVVISITRESULT_NRID\": \"FREQ\"})\n",
    "\n",
    "#Monetary Value\n",
    "mon = hvc_hvvisitresult[hvc_hvvisitresult[\"HVOUTCOME_NRID\"] == 2].groupby(\"SO0_NRID\")[\"AMOUNT\"].sum().reset_index()\n",
    "mon = mon.rename(columns = {\"AMOUNT\": \"MON\"})\n",
    "\n",
    "#Join all the tables\n",
    "cust_info = rec.merge(freq, on = \"SO0_NRID\", how = \"inner\").merge(mon, on = \"SO0_NRID\", how = \"inner\")"
   ]
  },
  {
   "cell_type": "code",
   "execution_count": 32,
   "id": "8a29a01d",
   "metadata": {},
   "outputs": [],
   "source": [
    "# define function to get most similar customer\n",
    "def get_most_similar_cust(cust_id):\n",
    "    try:\n",
    "        # initialize cosine dist\n",
    "        best_cos_sim = 0\n",
    "        # initialize most similar cust\n",
    "        sim_cust= None\n",
    "\n",
    "        # get feature vector of customer\n",
    "        feature_vector_x = np.array(cust_info[cust_info[\"SO0_NRID\"] == cust_id][[\"MON\", \"FREQ\", \"REC\"]])\n",
    "\n",
    "        # loop through other customers \n",
    "        for i in range(len(cust_info)):\n",
    "\n",
    "            # get cust id\n",
    "            other_cust_id =int(cust_info[\"SO0_NRID\"].iloc[i])\n",
    "\n",
    "            # make sure we only get other customers\n",
    "            if other_cust_id != cust_id:\n",
    "\n",
    "                # get feature vector from other customer\n",
    "                feature_vector_y = np.array(cust_info[cust_info[\"SO0_NRID\"] == other_cust_id][[\"MON\",\"FREQ\",\"REC\"]])\n",
    "                # get cosine similarity\n",
    "                cos_sim = cosine_similarity(feature_vector_x,feature_vector_y)[0][0]\n",
    "                # check if similarity is higher than current highest similarity and update sim_cust and best_cost_sim\n",
    "                if cos_sim > best_cos_sim:\n",
    "                    best_cos_sim = cos_sim\n",
    "                    sim_cust = other_cust_id\n",
    "\n",
    "        # return cosine similarity and customer id\n",
    "        return sim_cust\n",
    "    except:\n",
    "        return cust_id"
   ]
  },
  {
   "cell_type": "code",
   "execution_count": 33,
   "id": "c8f9bcea",
   "metadata": {},
   "outputs": [],
   "source": [
    "def get_recommendedproducts_similarcust(cust_id):\n",
    "    transactions_details_df = pd.merge(left=hvc_hvvisitresult, right=hvc_visitresultdetails, on=\"HVVISITRESULT_NRID\", how=\"inner\")\n",
    "    #get most similar customer\n",
    "    similar_cust = get_most_similar_cust(cust_id)\n",
    "    if(similar_cust != cust_id):\n",
    "        # get all products bought by customer\n",
    "        products_cust = set(transactions_details_df[transactions_details_df[\"SO0_NRID\"] == cust_id][\"AR0_NRID\"])\n",
    "        # get all products bought by most similar customer\n",
    "        products_other_cust = set(transactions_details_df[transactions_details_df[\"SO0_NRID\"] == similar_cust][\"AR0_NRID\"])\n",
    "        # get products bought by most similar customer but not yet by customer\n",
    "        return np.array(list(products_other_cust.difference(products_cust)))\n",
    "    else:\n",
    "        return cust_id"
   ]
  },
  {
   "cell_type": "markdown",
   "id": "27b13c36",
   "metadata": {},
   "source": [
    "#### Engine"
   ]
  },
  {
   "cell_type": "code",
   "execution_count": 48,
   "id": "412c8122",
   "metadata": {},
   "outputs": [],
   "source": [
    "def recommendation_engine(cust_id):\n",
    "    #initialize recommended products\n",
    "    recommended_products = []\n",
    "    #get best correlated products based on previous products\n",
    "    correlated_products = get_top_correlated_products(cust_id)\n",
    "    #get most bought products of region customer\n",
    "    top_region_customer = productsregionfct(get_region_customer(cust_id))\n",
    "    #get recommended products of most similar customer\n",
    "    if(isinstance(get_recommendedproducts_similarcust, str)):\n",
    "        return print(\"The customer is not visited\")\n",
    "    else:\n",
    "        recommended_similar_cust = get_recommendedproducts_similarcust(cust_id)\n",
    "        #check the sizes + check if there is an intercept between the arrays\n",
    "        if(correlated_products.size != 0):\n",
    "            if(np.intersect1d(np.intersect1d(correlated_products, recommended_similar_cust), top_region_customer).size != 0):\n",
    "                recommended_products = np.intersect1d(np.intersect1d(correlated_products, recommended_similar_cust), top_region_customer)\n",
    "                return print(\"Recommended products based on similar customers, region and correlated products:\",recommended_products)\n",
    "            else:\n",
    "                print(\"There is no intersect with region, most correlated products and similar customer products.\")\n",
    "                if((np.intersect1d(correlated_products, recommended_similar_cust).size != 0) & (np.intersect1d(correlated_products, top_region_customer).size != 0)):\n",
    "                    recommended_products_simcust = np.intersect1d(correlated_products, recommended_similar_cust)\n",
    "                    recommended_products_region = np.intersect1d(correlated_products, top_region_customer)\n",
    "                    return print(\"Recommended products based on similar customers and correlated products:\", recommended_products_simcust,\"\\nRecommended products based on region and correlated products:\", recommended_products_region)\n",
    "                elif(np.intersect1d(correlated_products, recommended_similar_cust).size != 0):\n",
    "                    recommended_products = np.intersect1d(correlated_products, recommended_similar_cust)\n",
    "                    return print(\"Recommended products based on similar customers and correlated products:\",recommended_products)\n",
    "                elif(np.intersect1d(correlated_products, top_region_customer).size != 0):\n",
    "                    recommended_products = np.intersect1d(correlated_products, top_region_customer)\n",
    "                    return print(\"Recommended products based on region and correlated products:\",recommended_products)\n",
    "        else:\n",
    "            #customer did not buy anything, check region\n",
    "            print(\"Customer did not buy anything, we recommend the regional products.\")\n",
    "            recommended_products = top_region_customer\n",
    "            return print(\"Recommended products are:\",recommended_products)"
   ]
  },
  {
   "cell_type": "code",
   "execution_count": 61,
   "id": "0aad6617",
   "metadata": {
    "scrolled": false
   },
   "outputs": [
    {
     "name": "stdout",
     "output_type": "stream",
     "text": [
      "Recommended products based on similar customers, region and correlated products: [23716]\n"
     ]
    }
   ],
   "source": [
    "recommendation_engine(870975)"
   ]
  },
  {
   "cell_type": "code",
   "execution_count": 59,
   "id": "84f47791",
   "metadata": {
    "scrolled": false
   },
   "outputs": [
    {
     "data": {
      "text/plain": [
       "SO0_NRID                   870975\n",
       "HVROUTETEMPLATE_NRID    289763484\n",
       "CUST_TYPE                 Private\n",
       "POSTCODE                     3650\n",
       "LANGUAGE                    nl-BE\n",
       "SEASON_TYPE              All time\n",
       "Name: 1978, dtype: object"
      ]
     },
     "execution_count": 59,
     "metadata": {},
     "output_type": "execute_result"
    }
   ],
   "source": [
    "hvc_so0.iloc[1978]"
   ]
  },
  {
   "cell_type": "code",
   "execution_count": 13,
   "id": "c1e18793",
   "metadata": {
    "collapsed": true
   },
   "outputs": [
    {
     "ename": "KeyboardInterrupt",
     "evalue": "",
     "output_type": "error",
     "traceback": [
      "\u001b[0;31m---------------------------------------------------------------------------\u001b[0m",
      "\u001b[0;31mKeyboardInterrupt\u001b[0m                         Traceback (most recent call last)",
      "\u001b[0;32m/var/folders/x2/hymzscwj7pg_t42hpfwjm20m0000gn/T/ipykernel_10238/565053156.py\u001b[0m in \u001b[0;36m<module>\u001b[0;34m\u001b[0m\n\u001b[1;32m      6\u001b[0m \u001b[0;31m# Create the graph of the area from OSM data. It will download the data and create the graph\u001b[0m\u001b[0;34m\u001b[0m\u001b[0;34m\u001b[0m\u001b[0m\n\u001b[1;32m      7\u001b[0m \u001b[0;31m#G = ox.graph_from_bbox(51.454, 50.747, 5.850, 3.532)\u001b[0m\u001b[0;34m\u001b[0m\u001b[0;34m\u001b[0m\u001b[0m\n\u001b[0;32m----> 8\u001b[0;31m \u001b[0mG\u001b[0m \u001b[0;34m=\u001b[0m \u001b[0mox\u001b[0m\u001b[0;34m.\u001b[0m\u001b[0mgraph_from_xml\u001b[0m\u001b[0;34m(\u001b[0m\u001b[0;34m\"/Users/wouterdewitte/Downloads/belgium-latest.osm\"\u001b[0m\u001b[0;34m)\u001b[0m\u001b[0;34m\u001b[0m\u001b[0;34m\u001b[0m\u001b[0m\n\u001b[0m\u001b[1;32m      9\u001b[0m \u001b[0;31m# OSM data are sometime incomplete so we use the speed module of osmnx to add missing edge speeds and travel times\u001b[0m\u001b[0;34m\u001b[0m\u001b[0;34m\u001b[0m\u001b[0m\n\u001b[1;32m     10\u001b[0m \u001b[0;31m#G = ox.add_edge_speeds(G)\u001b[0m\u001b[0;34m\u001b[0m\u001b[0;34m\u001b[0m\u001b[0m\n",
      "\u001b[0;32m/Library/Frameworks/Python.framework/Versions/3.9/lib/python3.9/site-packages/osmnx/graph.py\u001b[0m in \u001b[0;36mgraph_from_xml\u001b[0;34m(filepath, bidirectional, simplify, retain_all)\u001b[0m\n\u001b[1;32m    490\u001b[0m     \"\"\"\n\u001b[1;32m    491\u001b[0m     \u001b[0;31m# transmogrify file of OSM XML data into JSON\u001b[0m\u001b[0;34m\u001b[0m\u001b[0;34m\u001b[0m\u001b[0m\n\u001b[0;32m--> 492\u001b[0;31m     \u001b[0mresponse_jsons\u001b[0m \u001b[0;34m=\u001b[0m \u001b[0;34m[\u001b[0m\u001b[0mosm_xml\u001b[0m\u001b[0;34m.\u001b[0m\u001b[0m_overpass_json_from_file\u001b[0m\u001b[0;34m(\u001b[0m\u001b[0mfilepath\u001b[0m\u001b[0;34m)\u001b[0m\u001b[0;34m]\u001b[0m\u001b[0;34m\u001b[0m\u001b[0;34m\u001b[0m\u001b[0m\n\u001b[0m\u001b[1;32m    493\u001b[0m \u001b[0;34m\u001b[0m\u001b[0m\n\u001b[1;32m    494\u001b[0m     \u001b[0;31m# create graph using this response JSON\u001b[0m\u001b[0;34m\u001b[0m\u001b[0;34m\u001b[0m\u001b[0m\n",
      "\u001b[0;32m/Library/Frameworks/Python.framework/Versions/3.9/lib/python3.9/site-packages/osmnx/osm_xml.py\u001b[0m in \u001b[0;36m_overpass_json_from_file\u001b[0;34m(filepath)\u001b[0m\n\u001b[1;32m     85\u001b[0m     \u001b[0;32mwith\u001b[0m \u001b[0m_opener\u001b[0m\u001b[0;34m(\u001b[0m\u001b[0mPath\u001b[0m\u001b[0;34m(\u001b[0m\u001b[0mfilepath\u001b[0m\u001b[0;34m)\u001b[0m\u001b[0;34m)\u001b[0m \u001b[0;32mas\u001b[0m \u001b[0mf\u001b[0m\u001b[0;34m:\u001b[0m\u001b[0;34m\u001b[0m\u001b[0;34m\u001b[0m\u001b[0m\n\u001b[1;32m     86\u001b[0m         \u001b[0mhandler\u001b[0m \u001b[0;34m=\u001b[0m \u001b[0m_OSMContentHandler\u001b[0m\u001b[0;34m(\u001b[0m\u001b[0;34m)\u001b[0m\u001b[0;34m\u001b[0m\u001b[0;34m\u001b[0m\u001b[0m\n\u001b[0;32m---> 87\u001b[0;31m         \u001b[0mxml\u001b[0m\u001b[0;34m.\u001b[0m\u001b[0msax\u001b[0m\u001b[0;34m.\u001b[0m\u001b[0mparse\u001b[0m\u001b[0;34m(\u001b[0m\u001b[0mf\u001b[0m\u001b[0;34m,\u001b[0m \u001b[0mhandler\u001b[0m\u001b[0;34m)\u001b[0m\u001b[0;34m\u001b[0m\u001b[0;34m\u001b[0m\u001b[0m\n\u001b[0m\u001b[1;32m     88\u001b[0m         \u001b[0;32mreturn\u001b[0m \u001b[0mhandler\u001b[0m\u001b[0;34m.\u001b[0m\u001b[0mobject\u001b[0m\u001b[0;34m\u001b[0m\u001b[0;34m\u001b[0m\u001b[0m\n\u001b[1;32m     89\u001b[0m \u001b[0;34m\u001b[0m\u001b[0m\n",
      "\u001b[0;32m/Library/Frameworks/Python.framework/Versions/3.9/lib/python3.9/xml/sax/__init__.py\u001b[0m in \u001b[0;36mparse\u001b[0;34m(source, handler, errorHandler)\u001b[0m\n\u001b[1;32m     31\u001b[0m     \u001b[0mparser\u001b[0m\u001b[0;34m.\u001b[0m\u001b[0msetContentHandler\u001b[0m\u001b[0;34m(\u001b[0m\u001b[0mhandler\u001b[0m\u001b[0;34m)\u001b[0m\u001b[0;34m\u001b[0m\u001b[0;34m\u001b[0m\u001b[0m\n\u001b[1;32m     32\u001b[0m     \u001b[0mparser\u001b[0m\u001b[0;34m.\u001b[0m\u001b[0msetErrorHandler\u001b[0m\u001b[0;34m(\u001b[0m\u001b[0merrorHandler\u001b[0m\u001b[0;34m)\u001b[0m\u001b[0;34m\u001b[0m\u001b[0;34m\u001b[0m\u001b[0m\n\u001b[0;32m---> 33\u001b[0;31m     \u001b[0mparser\u001b[0m\u001b[0;34m.\u001b[0m\u001b[0mparse\u001b[0m\u001b[0;34m(\u001b[0m\u001b[0msource\u001b[0m\u001b[0;34m)\u001b[0m\u001b[0;34m\u001b[0m\u001b[0;34m\u001b[0m\u001b[0m\n\u001b[0m\u001b[1;32m     34\u001b[0m \u001b[0;34m\u001b[0m\u001b[0m\n\u001b[1;32m     35\u001b[0m \u001b[0;32mdef\u001b[0m \u001b[0mparseString\u001b[0m\u001b[0;34m(\u001b[0m\u001b[0mstring\u001b[0m\u001b[0;34m,\u001b[0m \u001b[0mhandler\u001b[0m\u001b[0;34m,\u001b[0m \u001b[0merrorHandler\u001b[0m\u001b[0;34m=\u001b[0m\u001b[0mErrorHandler\u001b[0m\u001b[0;34m(\u001b[0m\u001b[0;34m)\u001b[0m\u001b[0;34m)\u001b[0m\u001b[0;34m:\u001b[0m\u001b[0;34m\u001b[0m\u001b[0;34m\u001b[0m\u001b[0m\n",
      "\u001b[0;32m/Library/Frameworks/Python.framework/Versions/3.9/lib/python3.9/xml/sax/expatreader.py\u001b[0m in \u001b[0;36mparse\u001b[0;34m(self, source)\u001b[0m\n\u001b[1;32m    109\u001b[0m             \u001b[0mself\u001b[0m\u001b[0;34m.\u001b[0m\u001b[0mreset\u001b[0m\u001b[0;34m(\u001b[0m\u001b[0;34m)\u001b[0m\u001b[0;34m\u001b[0m\u001b[0;34m\u001b[0m\u001b[0m\n\u001b[1;32m    110\u001b[0m             \u001b[0mself\u001b[0m\u001b[0;34m.\u001b[0m\u001b[0m_cont_handler\u001b[0m\u001b[0;34m.\u001b[0m\u001b[0msetDocumentLocator\u001b[0m\u001b[0;34m(\u001b[0m\u001b[0mExpatLocator\u001b[0m\u001b[0;34m(\u001b[0m\u001b[0mself\u001b[0m\u001b[0;34m)\u001b[0m\u001b[0;34m)\u001b[0m\u001b[0;34m\u001b[0m\u001b[0;34m\u001b[0m\u001b[0m\n\u001b[0;32m--> 111\u001b[0;31m             \u001b[0mxmlreader\u001b[0m\u001b[0;34m.\u001b[0m\u001b[0mIncrementalParser\u001b[0m\u001b[0;34m.\u001b[0m\u001b[0mparse\u001b[0m\u001b[0;34m(\u001b[0m\u001b[0mself\u001b[0m\u001b[0;34m,\u001b[0m \u001b[0msource\u001b[0m\u001b[0;34m)\u001b[0m\u001b[0;34m\u001b[0m\u001b[0;34m\u001b[0m\u001b[0m\n\u001b[0m\u001b[1;32m    112\u001b[0m         \u001b[0;32mexcept\u001b[0m\u001b[0;34m:\u001b[0m\u001b[0;34m\u001b[0m\u001b[0;34m\u001b[0m\u001b[0m\n\u001b[1;32m    113\u001b[0m             \u001b[0;31m# bpo-30264: Close the source on error to not leak resources:\u001b[0m\u001b[0;34m\u001b[0m\u001b[0;34m\u001b[0m\u001b[0m\n",
      "\u001b[0;32m/Library/Frameworks/Python.framework/Versions/3.9/lib/python3.9/xml/sax/xmlreader.py\u001b[0m in \u001b[0;36mparse\u001b[0;34m(self, source)\u001b[0m\n\u001b[1;32m    123\u001b[0m         \u001b[0mbuffer\u001b[0m \u001b[0;34m=\u001b[0m \u001b[0mfile\u001b[0m\u001b[0;34m.\u001b[0m\u001b[0mread\u001b[0m\u001b[0;34m(\u001b[0m\u001b[0mself\u001b[0m\u001b[0;34m.\u001b[0m\u001b[0m_bufsize\u001b[0m\u001b[0;34m)\u001b[0m\u001b[0;34m\u001b[0m\u001b[0;34m\u001b[0m\u001b[0m\n\u001b[1;32m    124\u001b[0m         \u001b[0;32mwhile\u001b[0m \u001b[0mbuffer\u001b[0m\u001b[0;34m:\u001b[0m\u001b[0;34m\u001b[0m\u001b[0;34m\u001b[0m\u001b[0m\n\u001b[0;32m--> 125\u001b[0;31m             \u001b[0mself\u001b[0m\u001b[0;34m.\u001b[0m\u001b[0mfeed\u001b[0m\u001b[0;34m(\u001b[0m\u001b[0mbuffer\u001b[0m\u001b[0;34m)\u001b[0m\u001b[0;34m\u001b[0m\u001b[0;34m\u001b[0m\u001b[0m\n\u001b[0m\u001b[1;32m    126\u001b[0m             \u001b[0mbuffer\u001b[0m \u001b[0;34m=\u001b[0m \u001b[0mfile\u001b[0m\u001b[0;34m.\u001b[0m\u001b[0mread\u001b[0m\u001b[0;34m(\u001b[0m\u001b[0mself\u001b[0m\u001b[0;34m.\u001b[0m\u001b[0m_bufsize\u001b[0m\u001b[0;34m)\u001b[0m\u001b[0;34m\u001b[0m\u001b[0;34m\u001b[0m\u001b[0m\n\u001b[1;32m    127\u001b[0m         \u001b[0mself\u001b[0m\u001b[0;34m.\u001b[0m\u001b[0mclose\u001b[0m\u001b[0;34m(\u001b[0m\u001b[0;34m)\u001b[0m\u001b[0;34m\u001b[0m\u001b[0;34m\u001b[0m\u001b[0m\n",
      "\u001b[0;32m/Library/Frameworks/Python.framework/Versions/3.9/lib/python3.9/xml/sax/expatreader.py\u001b[0m in \u001b[0;36mfeed\u001b[0;34m(self, data, isFinal)\u001b[0m\n\u001b[1;32m    215\u001b[0m             \u001b[0;31m# document. When feeding chunks, they are not normally final -\u001b[0m\u001b[0;34m\u001b[0m\u001b[0;34m\u001b[0m\u001b[0m\n\u001b[1;32m    216\u001b[0m             \u001b[0;31m# except when invoked from close.\u001b[0m\u001b[0;34m\u001b[0m\u001b[0;34m\u001b[0m\u001b[0m\n\u001b[0;32m--> 217\u001b[0;31m             \u001b[0mself\u001b[0m\u001b[0;34m.\u001b[0m\u001b[0m_parser\u001b[0m\u001b[0;34m.\u001b[0m\u001b[0mParse\u001b[0m\u001b[0;34m(\u001b[0m\u001b[0mdata\u001b[0m\u001b[0;34m,\u001b[0m \u001b[0misFinal\u001b[0m\u001b[0;34m)\u001b[0m\u001b[0;34m\u001b[0m\u001b[0;34m\u001b[0m\u001b[0m\n\u001b[0m\u001b[1;32m    218\u001b[0m         \u001b[0;32mexcept\u001b[0m \u001b[0mexpat\u001b[0m\u001b[0;34m.\u001b[0m\u001b[0merror\u001b[0m \u001b[0;32mas\u001b[0m \u001b[0me\u001b[0m\u001b[0;34m:\u001b[0m\u001b[0;34m\u001b[0m\u001b[0;34m\u001b[0m\u001b[0m\n\u001b[1;32m    219\u001b[0m             \u001b[0mexc\u001b[0m \u001b[0;34m=\u001b[0m \u001b[0mSAXParseException\u001b[0m\u001b[0;34m(\u001b[0m\u001b[0mexpat\u001b[0m\u001b[0;34m.\u001b[0m\u001b[0mErrorString\u001b[0m\u001b[0;34m(\u001b[0m\u001b[0me\u001b[0m\u001b[0;34m.\u001b[0m\u001b[0mcode\u001b[0m\u001b[0;34m)\u001b[0m\u001b[0;34m,\u001b[0m \u001b[0me\u001b[0m\u001b[0;34m,\u001b[0m \u001b[0mself\u001b[0m\u001b[0;34m)\u001b[0m\u001b[0;34m\u001b[0m\u001b[0;34m\u001b[0m\u001b[0m\n",
      "\u001b[0;32m/Users/sysadmin/build/v3.9.7/Modules/pyexpat.c\u001b[0m in \u001b[0;36mStartElement\u001b[0;34m()\u001b[0m\n",
      "\u001b[0;32m/Library/Frameworks/Python.framework/Versions/3.9/lib/python3.9/xml/sax/expatreader.py\u001b[0m in \u001b[0;36mstart_element\u001b[0;34m(self, name, attrs)\u001b[0m\n\u001b[1;32m    331\u001b[0m     \u001b[0;31m# event handlers\u001b[0m\u001b[0;34m\u001b[0m\u001b[0;34m\u001b[0m\u001b[0m\n\u001b[1;32m    332\u001b[0m     \u001b[0;32mdef\u001b[0m \u001b[0mstart_element\u001b[0m\u001b[0;34m(\u001b[0m\u001b[0mself\u001b[0m\u001b[0;34m,\u001b[0m \u001b[0mname\u001b[0m\u001b[0;34m,\u001b[0m \u001b[0mattrs\u001b[0m\u001b[0;34m)\u001b[0m\u001b[0;34m:\u001b[0m\u001b[0;34m\u001b[0m\u001b[0;34m\u001b[0m\u001b[0m\n\u001b[0;32m--> 333\u001b[0;31m         \u001b[0mself\u001b[0m\u001b[0;34m.\u001b[0m\u001b[0m_cont_handler\u001b[0m\u001b[0;34m.\u001b[0m\u001b[0mstartElement\u001b[0m\u001b[0;34m(\u001b[0m\u001b[0mname\u001b[0m\u001b[0;34m,\u001b[0m \u001b[0mAttributesImpl\u001b[0m\u001b[0;34m(\u001b[0m\u001b[0mattrs\u001b[0m\u001b[0;34m)\u001b[0m\u001b[0;34m)\u001b[0m\u001b[0;34m\u001b[0m\u001b[0;34m\u001b[0m\u001b[0m\n\u001b[0m\u001b[1;32m    334\u001b[0m \u001b[0;34m\u001b[0m\u001b[0m\n\u001b[1;32m    335\u001b[0m     \u001b[0;32mdef\u001b[0m \u001b[0mend_element\u001b[0m\u001b[0;34m(\u001b[0m\u001b[0mself\u001b[0m\u001b[0;34m,\u001b[0m \u001b[0mname\u001b[0m\u001b[0;34m)\u001b[0m\u001b[0;34m:\u001b[0m\u001b[0;34m\u001b[0m\u001b[0;34m\u001b[0m\u001b[0m\n",
      "\u001b[0;32m/Library/Frameworks/Python.framework/Versions/3.9/lib/python3.9/site-packages/osmnx/osm_xml.py\u001b[0m in \u001b[0;36mstartElement\u001b[0;34m(self, name, attrs)\u001b[0m\n\u001b[1;32m     34\u001b[0m \u001b[0;34m\u001b[0m\u001b[0m\n\u001b[1;32m     35\u001b[0m         \u001b[0;32melif\u001b[0m \u001b[0mname\u001b[0m \u001b[0;32min\u001b[0m \u001b[0;34m{\u001b[0m\u001b[0;34m\"node\"\u001b[0m\u001b[0;34m,\u001b[0m \u001b[0;34m\"way\"\u001b[0m\u001b[0;34m}\u001b[0m\u001b[0;34m:\u001b[0m\u001b[0;34m\u001b[0m\u001b[0;34m\u001b[0m\u001b[0m\n\u001b[0;32m---> 36\u001b[0;31m             \u001b[0mself\u001b[0m\u001b[0;34m.\u001b[0m\u001b[0m_element\u001b[0m \u001b[0;34m=\u001b[0m \u001b[0mdict\u001b[0m\u001b[0;34m(\u001b[0m\u001b[0mtype\u001b[0m\u001b[0;34m=\u001b[0m\u001b[0mname\u001b[0m\u001b[0;34m,\u001b[0m \u001b[0mtags\u001b[0m\u001b[0;34m=\u001b[0m\u001b[0;34m{\u001b[0m\u001b[0;34m}\u001b[0m\u001b[0;34m,\u001b[0m \u001b[0mnodes\u001b[0m\u001b[0;34m=\u001b[0m\u001b[0;34m[\u001b[0m\u001b[0;34m]\u001b[0m\u001b[0;34m,\u001b[0m \u001b[0;34m**\u001b[0m\u001b[0mattrs\u001b[0m\u001b[0;34m)\u001b[0m\u001b[0;34m\u001b[0m\u001b[0;34m\u001b[0m\u001b[0m\n\u001b[0m\u001b[1;32m     37\u001b[0m             \u001b[0mself\u001b[0m\u001b[0;34m.\u001b[0m\u001b[0m_element\u001b[0m\u001b[0;34m.\u001b[0m\u001b[0mupdate\u001b[0m\u001b[0;34m(\u001b[0m\u001b[0;34m{\u001b[0m\u001b[0mk\u001b[0m\u001b[0;34m:\u001b[0m \u001b[0mfloat\u001b[0m\u001b[0;34m(\u001b[0m\u001b[0mv\u001b[0m\u001b[0;34m)\u001b[0m \u001b[0;32mfor\u001b[0m \u001b[0mk\u001b[0m\u001b[0;34m,\u001b[0m \u001b[0mv\u001b[0m \u001b[0;32min\u001b[0m \u001b[0mattrs\u001b[0m\u001b[0;34m.\u001b[0m\u001b[0mitems\u001b[0m\u001b[0;34m(\u001b[0m\u001b[0;34m)\u001b[0m \u001b[0;32mif\u001b[0m \u001b[0mk\u001b[0m \u001b[0;32min\u001b[0m \u001b[0;34m{\u001b[0m\u001b[0;34m\"lat\"\u001b[0m\u001b[0;34m,\u001b[0m \u001b[0;34m\"lon\"\u001b[0m\u001b[0;34m}\u001b[0m\u001b[0;34m}\u001b[0m\u001b[0;34m)\u001b[0m\u001b[0;34m\u001b[0m\u001b[0;34m\u001b[0m\u001b[0m\n\u001b[1;32m     38\u001b[0m             self._element.update(\n",
      "\u001b[0;32m/Library/Frameworks/Python.framework/Versions/3.9/lib/python3.9/xml/sax/xmlreader.py\u001b[0m in \u001b[0;36mkeys\u001b[0;34m(self)\u001b[0m\n\u001b[1;32m    318\u001b[0m         \u001b[0;32mreturn\u001b[0m \u001b[0mself\u001b[0m\u001b[0;34m.\u001b[0m\u001b[0m_attrs\u001b[0m\u001b[0;34m[\u001b[0m\u001b[0mname\u001b[0m\u001b[0;34m]\u001b[0m\u001b[0;34m\u001b[0m\u001b[0;34m\u001b[0m\u001b[0m\n\u001b[1;32m    319\u001b[0m \u001b[0;34m\u001b[0m\u001b[0m\n\u001b[0;32m--> 320\u001b[0;31m     \u001b[0;32mdef\u001b[0m \u001b[0mkeys\u001b[0m\u001b[0;34m(\u001b[0m\u001b[0mself\u001b[0m\u001b[0;34m)\u001b[0m\u001b[0;34m:\u001b[0m\u001b[0;34m\u001b[0m\u001b[0;34m\u001b[0m\u001b[0m\n\u001b[0m\u001b[1;32m    321\u001b[0m         \u001b[0;32mreturn\u001b[0m \u001b[0mlist\u001b[0m\u001b[0;34m(\u001b[0m\u001b[0mself\u001b[0m\u001b[0;34m.\u001b[0m\u001b[0m_attrs\u001b[0m\u001b[0;34m.\u001b[0m\u001b[0mkeys\u001b[0m\u001b[0;34m(\u001b[0m\u001b[0;34m)\u001b[0m\u001b[0;34m)\u001b[0m\u001b[0;34m\u001b[0m\u001b[0;34m\u001b[0m\u001b[0m\n\u001b[1;32m    322\u001b[0m \u001b[0;34m\u001b[0m\u001b[0m\n",
      "\u001b[0;31mKeyboardInterrupt\u001b[0m: "
     ]
    }
   ],
   "source": [
    "#import osmnx as ox\n",
    "#import networkx as nx\n",
    "#from datetime import timedelta\n",
    "\n",
    "#def calculate_shortest_distance(start.lat, start.long, )\n",
    "# Create the graph of the area from OSM data. It will download the data and create the graph\n",
    "#G = ox.graph_from_bbox(51.454, 50.747, 5.850, 3.532)\n",
    "#G = ox.graph_from_xml(\"/Users/wouterdewitte/Downloads/belgium-latest.osm\")\n",
    "# OSM data are sometime incomplete so we use the speed module of osmnx to add missing edge speeds and travel times\n",
    "#G = ox.add_edge_speeds(G)\n",
    "#G = ox.add_edge_travel_times(G)\n",
    "\n",
    "# Save graph to disk if you want to reuse it\n",
    "#ox.save_graphml(G, \"./Graphs/Flanders.graphml\")\n",
    "\n",
    "# Load the graph\n",
    "#G = ox.load_graphml(\"Manhattan.graphml\")\n",
    "\n",
    "# Plot the graph\n",
    "#fig, ax = ox.plot_graph(G, figsize=(10, 10), node_size=0, edge_color='y', edge_linewidth=0.2)\n",
    "\n",
    "# Two pairs of (lat,lng) coordinates\n",
    "#origin_coordinates = (50.590, 3.3138)\n",
    "#destination_coordinates = (51.13, 4.24)\n",
    "\n",
    "# If you want to take an address (osmx will use Nominatim service for this)\n",
    "# origin_coordinates = ox.geocode(\"2 Broad St, New York, NY 10005\")\n",
    "\n",
    "# In the graph, get the nodes closest to the points\n",
    "#origin_node = ox.get_nearest_node(G, origin_coordinates)\n",
    "#destination_node = ox.get_nearest_node(G, destination_coordinates)\n",
    "\n",
    "\n",
    "# Get the shortest route by distance\n",
    "#shortest_route_by_distance = ox.shortest_path(G, origin_node, destination_node, weight='length')\n",
    "\n",
    "# Plot the shortest route by distance\n",
    "#fig, ax = ox.plot_graph_route(G, shortest_route_by_distance, route_color='y', route_linewidth=6, node_size=0)\n",
    "\n",
    "# Get the shortest route by travel time\n",
    "#shortest_route_by_travel_time = ox.shortest_path(G, origin_node, destination_node, weight='length')\n",
    "\n",
    "# Plot the shortest route by travel time\n",
    "#fig, ax = ox.plot_graph_route(G, shortest_route_by_travel_time, route_color='y', route_linewidth=6, node_size=0)\n",
    "\n",
    "# Plot the 2 routes\n",
    "#fig, ax = ox.plot_graph_routes(G, routes=[shortest_route_by_distance, shortest_route_by_travel_time], route_colors=['r', 'y'], route_linewidth=6, node_size=0)\n",
    "\n",
    "# Get the travel time, in seconds\n",
    "# Note here that we use \"nx\" (networkx), not \"ox\" (osmnx)\n",
    "#travel_time_in_seconds = nx.shortest_path_length(G, origin_node, destination_node, weight='travel_time')\n",
    "#print(travel_time_in_seconds)\n",
    "\n",
    "#The travel time in \"HOURS:MINUTES:SECONDS\" format\n",
    "#travel_time_in_hours_minutes_seconds = str(timedelta(seconds=travel_time_in_seconds))\n",
    "#print(travel_time_in_hours_minutes_seconds)\n",
    "\n",
    "# Get the distance in meters\n",
    "#distance_in_meters = nx.shortest_path_length(G, origin_node, destination_node, weight='length')\n",
    "#print(distance_in_meters)\n",
    "# Distance in kilometers\n",
    "#distance_in_kilometers = distance_in_meters / 1000\n",
    "#print(distance_in_kilometers)"
   ]
  },
  {
   "cell_type": "code",
   "execution_count": 16,
   "id": "26d211f2",
   "metadata": {},
   "outputs": [
    {
     "data": {
      "text/plain": [
       "88.49465659276102"
      ]
     },
     "execution_count": 16,
     "metadata": {},
     "output_type": "execute_result"
    }
   ],
   "source": [
    "loc1=(50.590, 3.3138)\n",
    "loc2=(51.13, 4.24)\n",
    "hs.haversine(loc1,loc2)"
   ]
  }
 ],
 "metadata": {
  "kernelspec": {
   "display_name": "Python 3",
   "language": "python",
   "name": "python3"
  },
  "language_info": {
   "codemirror_mode": {
    "name": "ipython",
    "version": 3
   },
   "file_extension": ".py",
   "mimetype": "text/x-python",
   "name": "python",
   "nbconvert_exporter": "python",
   "pygments_lexer": "ipython3",
   "version": "3.8.8"
  }
 },
 "nbformat": 4,
 "nbformat_minor": 5
}
