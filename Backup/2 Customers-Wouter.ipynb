{
 "cells": [
  {
   "cell_type": "code",
   "execution_count": 27,
   "id": "ed2aac14",
   "metadata": {
    "scrolled": true
   },
   "outputs": [
    {
     "ename": "ModuleNotFoundError",
     "evalue": "No module named 'geopandas'",
     "output_type": "error",
     "traceback": [
      "\u001b[1;31m---------------------------------------------------------------------------\u001b[0m",
      "\u001b[1;31mModuleNotFoundError\u001b[0m                       Traceback (most recent call last)",
      "\u001b[1;32m<ipython-input-27-8c5a27b2f905>\u001b[0m in \u001b[0;36m<module>\u001b[1;34m\u001b[0m\n\u001b[0;32m      4\u001b[0m \u001b[1;32mimport\u001b[0m \u001b[0mdatetime\u001b[0m\u001b[1;33m\u001b[0m\u001b[1;33m\u001b[0m\u001b[0m\n\u001b[0;32m      5\u001b[0m \u001b[1;32mimport\u001b[0m \u001b[0mmatplotlib\u001b[0m\u001b[1;33m.\u001b[0m\u001b[0mpyplot\u001b[0m \u001b[1;32mas\u001b[0m \u001b[0mplt\u001b[0m\u001b[1;33m\u001b[0m\u001b[1;33m\u001b[0m\u001b[0m\n\u001b[1;32m----> 6\u001b[1;33m \u001b[1;32mimport\u001b[0m \u001b[0mgeopandas\u001b[0m \u001b[1;32mas\u001b[0m \u001b[0mgpd\u001b[0m\u001b[1;33m\u001b[0m\u001b[1;33m\u001b[0m\u001b[0m\n\u001b[0m\u001b[0;32m      7\u001b[0m \u001b[1;32mfrom\u001b[0m \u001b[0mcollections\u001b[0m \u001b[1;32mimport\u001b[0m \u001b[0mCounter\u001b[0m\u001b[1;33m\u001b[0m\u001b[1;33m\u001b[0m\u001b[0m\n\u001b[0;32m      8\u001b[0m \u001b[1;32mfrom\u001b[0m \u001b[0mstatistics\u001b[0m \u001b[1;32mimport\u001b[0m \u001b[0mmode\u001b[0m\u001b[1;33m\u001b[0m\u001b[1;33m\u001b[0m\u001b[0m\n",
      "\u001b[1;31mModuleNotFoundError\u001b[0m: No module named 'geopandas'"
     ]
    }
   ],
   "source": [
    "#import the packages\n",
    "import pandas as pd\n",
    "import numpy as np\n",
    "import datetime\n",
    "import matplotlib.pyplot as plt\n",
    "import geopandas as gpd\n",
    "from collections import Counter\n",
    "from statistics import mode\n",
    "from datetime import datetime\n",
    "from sklearn.metrics.pairwise import cosine_similarity\n",
    "import geopandas\n",
    "import rtree\n",
    "import seaborn as sns\n",
    "import haversine as hs\n",
    "from sklearn.linear_model import LinearRegression"
   ]
  },
  {
   "cell_type": "markdown",
   "id": "90cceedf",
   "metadata": {},
   "source": [
    "# 1 Import data"
   ]
  },
  {
   "cell_type": "code",
   "execution_count": null,
   "id": "69f66de8",
   "metadata": {},
   "outputs": [],
   "source": [
    "# import the data into pandas dataframes\n",
    "hvc_am0 = pd.read_csv(\"../ACRM-GROUP-13/data/HVC_AM0.csv\", sep=\";\")\n",
    "hvc_ar0 = pd.read_csv(\"../ACRM-GROUP-13/data/HVC_AR0.csv\", sep=\";\")\n",
    "hvc_customer_reviews = pd.read_csv(\"../ACRM-GROUP-13/data/HVC_CUSTOMER_REVIEWS.csv\", sep=\";\")\n",
    "hvc_depot = pd.read_csv(\"../ACRM-GROUP-13/data/HVC_DEPOT.csv\", sep=\";\")\n",
    "hvc_hvdayofweek = pd.read_csv(\"../ACRM-GROUP-13/data/HVC_HVDAYOFWEEK.csv\", sep=\";\")\n",
    "hvc_hvposition = pd.read_csv(\"../ACRM-GROUP-13/data/HVC_HVPOSITION_CORRECT.csv\", sep=\";\")\n",
    "hvc_hvroutetemplate = pd.read_csv(\"../ACRM-GROUP-13/data/HVC_HVROUTETEMPLATE.csv\", sep=\";\")\n",
    "hvc_hvvisitoutcome = pd.read_csv(\"../ACRM-GROUP-13/data/HVC_HVVISITOUTCOME.csv\", sep=\";\")\n",
    "hvc_hvvisitresult = pd.read_csv(\"../ACRM-GROUP-13/data/HVC_HVVISITRESULT.csv\", sep=\";\")\n",
    "hvc_so0 = pd.read_csv(\"../ACRM-GROUP-13/data/HVC_SO0.csv\", sep=\";\")\n",
    "hvc_visitresultdetails = pd.read_csv(\"../ACRM-GROUP-13/data/HVC_VISITRESULTDETAILS.csv\", sep=\";\")"
   ]
  },
  {
   "cell_type": "code",
   "execution_count": null,
   "id": "d5ac0b5e",
   "metadata": {},
   "outputs": [],
   "source": [
    "#Data conversion\n",
    "hvc_hvdayofweek[\"HVDAYOFWEEK_NRID\"] = hvc_hvdayofweek[\"HVDAYOFWEEK_NRID\"].astype(int)\n",
    "hvc_hvroutetemplate[\"HVROUTETEMPLATE_NRID\"] = hvc_hvroutetemplate[\"HVROUTETEMPLATE_NRID\"].astype(int)\n",
    "hvc_hvroutetemplate[\"HVDAYOFWEEK_NRID\"] = hvc_hvroutetemplate[\"HVDAYOFWEEK_NRID\"].astype(int)\n",
    "hvc_hvroutetemplate[\"WEEKORDER\"] = hvc_hvroutetemplate[\"WEEKORDER\"].astype(int)\n",
    "hvc_hvvisitoutcome[\"HVOUTCOME_NRID\"] = hvc_hvvisitoutcome[\"HVOUTCOME_NRID\"].astype(int)\n",
    "hvc_visitresultdetails[\"HVVISITRESULT_NRID\"] = hvc_visitresultdetails[\"HVVISITRESULT_NRID\"].astype(int)\n",
    "hvc_so0[\"SO0_NRID\"] = hvc_so0[\"SO0_NRID\"].astype(int)\n",
    "hvc_so0[\"HVROUTETEMPLATE_NRID\"] = hvc_so0[\"HVROUTETEMPLATE_NRID\"].astype(int)\n",
    "hvc_hvvisitresult[\"DATEONLY\"] = pd.to_datetime(hvc_hvvisitresult[\"DATEONLY\"])\n",
    "hvc_hvvisitresult[\"VISITDATE\"] = pd.to_datetime(hvc_hvvisitresult[\"VISITDATE\"])"
   ]
  },
  {
   "cell_type": "markdown",
   "id": "f3ed1eb4",
   "metadata": {},
   "source": [
    "## 2 Explore the Data"
   ]
  },
  {
   "cell_type": "markdown",
   "id": "d0e2d3d4",
   "metadata": {},
   "source": [
    "## 2.1 hvc_customer_reviews"
   ]
  },
  {
   "cell_type": "code",
   "execution_count": null,
   "id": "7a196d7b",
   "metadata": {
    "scrolled": true
   },
   "outputs": [],
   "source": [
    "# inspect table\n",
    "hvc_customer_reviews"
   ]
  },
  {
   "cell_type": "code",
   "execution_count": null,
   "id": "906779df",
   "metadata": {
    "scrolled": true
   },
   "outputs": [],
   "source": [
    "# inspect the first 5 reviews\n",
    "hvc_customer_reviews.head(5)"
   ]
  },
  {
   "cell_type": "code",
   "execution_count": null,
   "id": "47a61070",
   "metadata": {},
   "outputs": [],
   "source": [
    "# inspect the total number of reviews\n",
    "len(hvc_customer_reviews[\"SO0_NRID\"].unique())"
   ]
  },
  {
   "cell_type": "code",
   "execution_count": null,
   "id": "2c676c37",
   "metadata": {},
   "outputs": [],
   "source": [
    "# checking dtypes\n",
    "hvc_customer_reviews.dtypes"
   ]
  },
  {
   "cell_type": "code",
   "execution_count": null,
   "id": "25b0206f",
   "metadata": {},
   "outputs": [],
   "source": [
    "# checking kind of reviews\n",
    "pd.unique(hvc_customer_reviews[\"REVIEW\"])"
   ]
  },
  {
   "cell_type": "code",
   "execution_count": null,
   "id": "dfb13b64",
   "metadata": {},
   "outputs": [],
   "source": [
    "# inspect some descriptive statistics with respect to the transaction amount\n",
    "hvc_customer_reviews[\"REVIEW\"].describe()"
   ]
  },
  {
   "cell_type": "code",
   "execution_count": null,
   "id": "b1fa1cc1",
   "metadata": {},
   "outputs": [],
   "source": [
    "# proportion of good or excellent reviews\n",
    "sum((hvc_customer_reviews[\"REVIEW\"] == \"Good service, satisfied\") + (hvc_customer_reviews[\"REVIEW\"] == \"Excellent service, very satisfied\")) / len(hvc_customer_reviews)"
   ]
  },
  {
   "cell_type": "code",
   "execution_count": null,
   "id": "bd4e5f52",
   "metadata": {},
   "outputs": [],
   "source": [
    "# proportion of excellent reviews\n",
    "sum((hvc_customer_reviews[\"REVIEW\"] == \"Excellent service, very satisfied\")) / len(hvc_customer_reviews)\n",
    "\n"
   ]
  },
  {
   "cell_type": "code",
   "execution_count": null,
   "id": "9a012196",
   "metadata": {},
   "outputs": [],
   "source": [
    "# proportion of good reviews\n",
    "sum((hvc_customer_reviews[\"REVIEW\"] == \"Good service,  satisfied\")) / len(hvc_customer_reviews)"
   ]
  },
  {
   "cell_type": "code",
   "execution_count": null,
   "id": "af87278b",
   "metadata": {},
   "outputs": [],
   "source": [
    "# proportion of terrible reviews\n",
    "sum((hvc_customer_reviews[\"REVIEW\"] == \"Very bad service, very unsatisfied\")) / len(hvc_customer_reviews)"
   ]
  },
  {
   "cell_type": "markdown",
   "id": "6f18dd93",
   "metadata": {},
   "source": [
    "## 2.2 hvc_hvpostition"
   ]
  },
  {
   "cell_type": "code",
   "execution_count": null,
   "id": "0f3468f4",
   "metadata": {},
   "outputs": [],
   "source": [
    "# customer position\n",
    "hvc_hvposition"
   ]
  },
  {
   "cell_type": "code",
   "execution_count": null,
   "id": "536b3184",
   "metadata": {},
   "outputs": [],
   "source": [
    "# inspect first 5 observations of customer location\n",
    "hvc_hvposition.head(5)"
   ]
  },
  {
   "cell_type": "code",
   "execution_count": null,
   "id": "1fa739c2",
   "metadata": {
    "scrolled": true
   },
   "outputs": [],
   "source": [
    "# inspect last 5 observations of customer location\n",
    "hvc_hvposition.tail(5)"
   ]
  },
  {
   "cell_type": "code",
   "execution_count": null,
   "id": "9619b500",
   "metadata": {},
   "outputs": [],
   "source": [
    "# total number of locations of unique customers\n",
    "len(hvc_hvposition[\"SO0_NRID\"].unique())"
   ]
  },
  {
   "cell_type": "code",
   "execution_count": null,
   "id": "c48be812",
   "metadata": {},
   "outputs": [],
   "source": [
    "# more locations then customers\n",
    "len(hvc_hvposition[\"SO0_NRID\"].unique()) > len(hvc_so0[\"SO0_NRID\"].unique())\n"
   ]
  },
  {
   "cell_type": "markdown",
   "id": "db21d35c",
   "metadata": {},
   "source": [
    "## 2.3 hvc_so0_nrid"
   ]
  },
  {
   "cell_type": "code",
   "execution_count": null,
   "id": "36bcc230",
   "metadata": {},
   "outputs": [],
   "source": [
    "# inspect first 5 observations of customers\n",
    "hvc_so0.head(5)"
   ]
  },
  {
   "cell_type": "code",
   "execution_count": null,
   "id": "2c4795a8",
   "metadata": {
    "scrolled": true
   },
   "outputs": [],
   "source": [
    "# inspect last 5 observations of customers\n",
    "hvc_so0.tail(5)"
   ]
  },
  {
   "cell_type": "code",
   "execution_count": null,
   "id": "0ff67d9a",
   "metadata": {},
   "outputs": [],
   "source": [
    "# inspect total number of unique customers\n",
    "len(hvc_so0[\"SO0_NRID\"].unique())"
   ]
  },
  {
   "cell_type": "code",
   "execution_count": null,
   "id": "607ef0ef",
   "metadata": {},
   "outputs": [],
   "source": [
    "# get some descriptive statistics with respect to the spoken language as well as the season type of the customers\n",
    "hvc_so0[[\"LANGUAGE\", \"SEASON_TYPE\"]].describe()"
   ]
  },
  {
   "cell_type": "code",
   "execution_count": null,
   "id": "ef43424a",
   "metadata": {
    "scrolled": true
   },
   "outputs": [],
   "source": [
    "# get the counts for every season type\n",
    "hvc_so0[\"SEASON_TYPE\"].value_counts()"
   ]
  },
  {
   "cell_type": "code",
   "execution_count": null,
   "id": "c30c0025",
   "metadata": {},
   "outputs": [],
   "source": [
    "# get the counts for every spoken language\n",
    "hvc_so0[\"LANGUAGE\"].value_counts()"
   ]
  },
  {
   "cell_type": "markdown",
   "id": "2b898eca",
   "metadata": {},
   "source": [
    "# 3 Analysis"
   ]
  },
  {
   "cell_type": "markdown",
   "id": "ee89a89b",
   "metadata": {},
   "source": [
    "## 3.1 Customer locations"
   ]
  },
  {
   "cell_type": "code",
   "execution_count": null,
   "id": "e99f81b3",
   "metadata": {},
   "outputs": [],
   "source": [
    "### Clustering the customer positions\n",
    "\n",
    "## Clustering the longitude and latitude\n",
    "\n",
    "from sklearn.cluster import KMeans\n",
    "plt.figure(figsize = (10,10))\n",
    "\n",
    "# initialize the cluster algorithm with 4 classes\n",
    "kmeans_model = KMeans(n_clusters=4)\n",
    "\n",
    "# fit the kmeans model onto the data\n",
    "kmeans_model.fit(hvc_hvposition[[\"LONG\",\"LAT\"]])\n",
    "\n",
    "# get all the cluster labels\n",
    "cluster_labels = kmeans_model.labels_\n",
    "\n",
    "# define color map\n",
    "color_map = {0: \"green\", 1: \"red\", 2: \"blue\", 3: \"yellow\"}\n",
    "\n",
    "# get colors for each cluster label\n",
    "cluster_colors = [color_map[label] for label in cluster_labels]\n",
    "\n",
    "# plot data with cluster colors\n",
    "plt.scatter(hvc_hvposition[\"LONG\"], hvc_hvposition[\"LAT\"], color=cluster_colors)\n",
    "plt.show()"
   ]
  },
  {
   "cell_type": "code",
   "execution_count": null,
   "id": "31acc127",
   "metadata": {},
   "outputs": [],
   "source": [
    "# adding a map\n",
    "belgium = gpd.read_file(\"./data/Arrondissementen.json\")\n",
    "crs = 'epsg:4326'\n",
    "base = belgium.plot(color='white', edgecolor='black', figsize = (20,20))\n",
    "gdf = gpd.GeoDataFrame(hvc_hvposition, crs = crs,geometry=gpd.points_from_xy(hvc_hvposition[\"LONG\"], hvc_hvposition[\"LAT\"]))\n",
    "\n",
    "\n",
    "gdf.plot(ax = base, color = \"red\",markersize = 10)\n",
    "\n",
    "plt.show()"
   ]
  },
  {
   "cell_type": "markdown",
   "id": "e421943a",
   "metadata": {},
   "source": [
    "## 3.2 What do the  customers buy? "
   ]
  },
  {
   "cell_type": "code",
   "execution_count": 28,
   "id": "c10cd724",
   "metadata": {},
   "outputs": [],
   "source": [
    "customer_id = 721110.0"
   ]
  },
  {
   "cell_type": "code",
   "execution_count": 29,
   "id": "3352f1a1",
   "metadata": {},
   "outputs": [],
   "source": [
    "# join transactions with transaction details with products\n",
    "transactions_products = hvc_hvvisitresult.merge(hvc_visitresultdetails, on=\"HVVISITRESULT_NRID\", how=\"inner\")\\\n",
    "                                         .merge(hvc_ar0, on=\"AR0_NRID\", how=\"inner\") "
   ]
  },
  {
   "cell_type": "code",
   "execution_count": 30,
   "id": "284459e3",
   "metadata": {
    "scrolled": true
   },
   "outputs": [
    {
     "data": {
      "text/html": [
       "<div>\n",
       "<style scoped>\n",
       "    .dataframe tbody tr th:only-of-type {\n",
       "        vertical-align: middle;\n",
       "    }\n",
       "\n",
       "    .dataframe tbody tr th {\n",
       "        vertical-align: top;\n",
       "    }\n",
       "\n",
       "    .dataframe thead th {\n",
       "        text-align: right;\n",
       "    }\n",
       "</style>\n",
       "<table border=\"1\" class=\"dataframe\">\n",
       "  <thead>\n",
       "    <tr style=\"text-align: right;\">\n",
       "      <th></th>\n",
       "      <th>HVVISITRESULT_NRID</th>\n",
       "      <th>SO0_NRID</th>\n",
       "      <th>AM0_NRID</th>\n",
       "      <th>HVOUTCOME_NRID</th>\n",
       "      <th>VISITDATE</th>\n",
       "      <th>DATEONLY</th>\n",
       "      <th>AMOUNT</th>\n",
       "      <th>PAYMENTTERM</th>\n",
       "      <th>VISITRESULTDETAILS_NRID</th>\n",
       "      <th>AR0_NRID</th>\n",
       "      <th>QUANTITY</th>\n",
       "      <th>DESCRIPTION</th>\n",
       "      <th>CATEGORY</th>\n",
       "      <th>FAMILY</th>\n",
       "      <th>PRICE</th>\n",
       "    </tr>\n",
       "  </thead>\n",
       "  <tbody>\n",
       "    <tr>\n",
       "      <th>0</th>\n",
       "      <td>55681456</td>\n",
       "      <td>719952</td>\n",
       "      <td>23186288605042</td>\n",
       "      <td>2</td>\n",
       "      <td>2021-10-24 12:20:01</td>\n",
       "      <td>2019-05-06</td>\n",
       "      <td>16.9</td>\n",
       "      <td>cash</td>\n",
       "      <td>55681457</td>\n",
       "      <td>23678</td>\n",
       "      <td>1.0</td>\n",
       "      <td>2,5 L.Vanille</td>\n",
       "      <td>Verkoopsartikel</td>\n",
       "      <td>Scoop Ice</td>\n",
       "      <td>7.4</td>\n",
       "    </tr>\n",
       "    <tr>\n",
       "      <th>1</th>\n",
       "      <td>55681507</td>\n",
       "      <td>1453609</td>\n",
       "      <td>19946584592834</td>\n",
       "      <td>2</td>\n",
       "      <td>2021-10-24 12:13:50</td>\n",
       "      <td>2019-05-06</td>\n",
       "      <td>7.4</td>\n",
       "      <td>cash</td>\n",
       "      <td>55681508</td>\n",
       "      <td>23678</td>\n",
       "      <td>1.0</td>\n",
       "      <td>2,5 L.Vanille</td>\n",
       "      <td>Verkoopsartikel</td>\n",
       "      <td>Scoop Ice</td>\n",
       "      <td>7.4</td>\n",
       "    </tr>\n",
       "    <tr>\n",
       "      <th>2</th>\n",
       "      <td>55714770</td>\n",
       "      <td>1246568</td>\n",
       "      <td>18934048107254</td>\n",
       "      <td>2</td>\n",
       "      <td>2021-10-24 22:08:39</td>\n",
       "      <td>2019-05-06</td>\n",
       "      <td>11.1</td>\n",
       "      <td>cash</td>\n",
       "      <td>55714771</td>\n",
       "      <td>23678</td>\n",
       "      <td>1.0</td>\n",
       "      <td>2,5 L.Vanille</td>\n",
       "      <td>Verkoopsartikel</td>\n",
       "      <td>Scoop Ice</td>\n",
       "      <td>7.4</td>\n",
       "    </tr>\n",
       "  </tbody>\n",
       "</table>\n",
       "</div>"
      ],
      "text/plain": [
       "   HVVISITRESULT_NRID  SO0_NRID        AM0_NRID  HVOUTCOME_NRID  \\\n",
       "0            55681456    719952  23186288605042               2   \n",
       "1            55681507   1453609  19946584592834               2   \n",
       "2            55714770   1246568  18934048107254               2   \n",
       "\n",
       "            VISITDATE   DATEONLY  AMOUNT PAYMENTTERM  VISITRESULTDETAILS_NRID  \\\n",
       "0 2021-10-24 12:20:01 2019-05-06    16.9        cash                 55681457   \n",
       "1 2021-10-24 12:13:50 2019-05-06     7.4        cash                 55681508   \n",
       "2 2021-10-24 22:08:39 2019-05-06    11.1        cash                 55714771   \n",
       "\n",
       "   AR0_NRID  QUANTITY    DESCRIPTION         CATEGORY     FAMILY  PRICE  \n",
       "0     23678       1.0  2,5 L.Vanille  Verkoopsartikel  Scoop Ice    7.4  \n",
       "1     23678       1.0  2,5 L.Vanille  Verkoopsartikel  Scoop Ice    7.4  \n",
       "2     23678       1.0  2,5 L.Vanille  Verkoopsartikel  Scoop Ice    7.4  "
      ]
     },
     "execution_count": 30,
     "metadata": {},
     "output_type": "execute_result"
    }
   ],
   "source": [
    "# check\n",
    "transactions_products.head(3)"
   ]
  },
  {
   "cell_type": "code",
   "execution_count": 31,
   "id": "5a83f406",
   "metadata": {},
   "outputs": [],
   "source": [
    "# get all the transactions for customer\n",
    "transactions_products_customer = transactions_products[transactions_products[\"SO0_NRID\"] == customer_id]\n",
    "\n",
    "# get all transactions with positive outcome\n",
    "transactions_products_customer = transactions_products_customer[transactions_products_customer[\"HVOUTCOME_NRID\"] == 2]"
   ]
  },
  {
   "cell_type": "code",
   "execution_count": 32,
   "id": "a6128ec7",
   "metadata": {},
   "outputs": [
    {
     "data": {
      "text/plain": [
       "22.0"
      ]
     },
     "execution_count": 32,
     "metadata": {},
     "output_type": "execute_result"
    }
   ],
   "source": [
    "# get total number of products bought by the customer\n",
    "transactions_products_customer[\"QUANTITY\"].sum()"
   ]
  },
  {
   "cell_type": "markdown",
   "id": "d731ee00",
   "metadata": {},
   "source": [
    "## 3.3 Unique list of unique products a customer bought"
   ]
  },
  {
   "cell_type": "code",
   "execution_count": 33,
   "id": "01d9d52f",
   "metadata": {},
   "outputs": [],
   "source": [
    "# define a function that accepts a customer id, the transactions data, transactions details data and product data\n",
    "def get_products(cust_id, transactions, transaction_details, products):\n",
    "    \n",
    "\n",
    "    # join transactions with transaction details with products\n",
    "    transactions_products = transactions.merge(transaction_details, on=\"HVVISITRESULT_NRID\", how=\"inner\") \\\n",
    "                                        .merge(products, on=\"AR0_NRID\", how=\"inner\")\n",
    "    \n",
    "    # get transactions of customer \n",
    "    transactions_products_cust = transactions_products[transactions_products[\"SO0_NRID\"] == cust_id]\n",
    "    \n",
    "    # only get transactions of succesfull visits\n",
    "    transactions_products_cust = transactions_products_cust[transactions_products_cust[\"HVOUTCOME_NRID\"] == 2]\n",
    "    \n",
    "    # get total amount of products bought by the customer\n",
    "    total_products = transactions_products_cust[\"QUANTITY\"].sum()\n",
    "    \n",
    "    # get total number of unique products bought by the customer\n",
    "    total_unique_products = len(transactions_products_cust[\"DESCRIPTION\"].unique())\n",
    "    \n",
    "    # return\n",
    "    return(total_products, total_unique_products)"
   ]
  },
  {
   "cell_type": "code",
   "execution_count": 34,
   "id": "6652ff7b",
   "metadata": {},
   "outputs": [
    {
     "data": {
      "text/plain": [
       "(22.0, 10)"
      ]
     },
     "execution_count": 34,
     "metadata": {},
     "output_type": "execute_result"
    }
   ],
   "source": [
    "# check\n",
    "get_products(cust_id=721110.0, \n",
    "                  transactions=hvc_hvvisitresult, \n",
    "                  transaction_details=hvc_visitresultdetails, \n",
    "                  products=hvc_ar0)"
   ]
  },
  {
   "cell_type": "markdown",
   "id": "6824a9bb",
   "metadata": {},
   "source": [
    "## 3.4 Which customers have the highest CLV?\n",
    "\n"
   ]
  },
  {
   "cell_type": "code",
   "execution_count": 35,
   "id": "cd07d07f",
   "metadata": {},
   "outputs": [],
   "source": [
    "def get_clv(cust_id, transactions):\n",
    "    \n",
    "    # get customer transactions\n",
    "    cust_transactions = transactions[transactions[\"SO0_NRID\"] == cust_id]\n",
    "    # get transactions with positive outcome\n",
    "    cust_transactions_pos = cust_transactions[cust_transactions[\"HVOUTCOME_NRID\"] == 2]\n",
    "    # get clv\n",
    "    clv = np.sum(cust_transactions[\"AMOUNT\"])\n",
    "    # return clv\n",
    "    return(clv)"
   ]
  },
  {
   "cell_type": "code",
   "execution_count": 36,
   "id": "ead73717",
   "metadata": {},
   "outputs": [
    {
     "name": "stdout",
     "output_type": "stream",
     "text": [
      "183.60000000000002\n"
     ]
    }
   ],
   "source": [
    "# check\n",
    "clv = get_clv(cust_id=721110.0, transactions=hvc_hvvisitresult)\n",
    "print(clv)"
   ]
  },
  {
   "cell_type": "code",
   "execution_count": 37,
   "id": "fc2d6e08",
   "metadata": {},
   "outputs": [
    {
     "name": "stdout",
     "output_type": "stream",
     "text": [
      "0.0\n"
     ]
    }
   ],
   "source": [
    "# CLV for private customers\n",
    "private_cust = hvc_so0[hvc_so0[\"CUST_TYPE\"] == \"Private\"]\n",
    "\n",
    "\n",
    "for x in private_cust[\"SO0_NRID\"]:\n",
    "    clv = get_clv(cust_id=x, transactions=hvc_hvvisitresult)\n",
    "print(clv)\n",
    "\n",
    "# CLV \n",
    "\n",
    "    \n",
    "\n",
    "    "
   ]
  },
  {
   "cell_type": "code",
   "execution_count": 38,
   "id": "f3474f85",
   "metadata": {},
   "outputs": [],
   "source": [
    "#Sales by customer type in a certain year\n",
    "\n",
    "def sales_by_customer_type(desired_year):\n",
    "\n",
    "    # get the month of each transaction date and store it in new column\n",
    "    hvc_hvvisitresult[\"MONTH\"] = hvc_hvvisitresult[\"DATEONLY\"].apply(lambda x: x.month)\n",
    "\n",
    "    #merge\n",
    "    transactions_2020 = hvc_hvvisitresult.merge(hvc_so0,on=\"SO0_NRID\", how =\"inner\")\n",
    "\n",
    "    # get transactions from 2020 only\n",
    "    transactions_2020 = transactions_2020[(transactions_2020[\"DATEONLY\"] >= pd.Timestamp(year=desired_year, day=1, month=1)) & (transactions_2020[\"DATEONLY\"] < pd.Timestamp(year=desired_year + 1, month=1, day=1))]\n",
    "\n",
    "    # get transactions with succesfull outcome\n",
    "    transactions_2020 = transactions_2020[transactions_2020[\"HVOUTCOME_NRID\"] == 2]\n",
    "\n",
    "\n",
    "    # get transactions by 'private customers'\n",
    "    private_transactions_2020 = transactions_2020[transactions_2020[\"CUST_TYPE\"] == \"Private\"]\n",
    "\n",
    "    # get the total sales for each month for 'private customers'\n",
    "    private_monthly_sales = private_transactions_2020.groupby(\"MONTH\")[\"AMOUNT\"].sum().reset_index()\n",
    "\n",
    "    # get transactions by 'Horeca customers'\n",
    "    horeca_transactions_2020 = transactions_2020[transactions_2020[\"CUST_TYPE\"] == \"Horeca\"]\n",
    "\n",
    "    # get the total sales for each month for 'Horeca customers'\n",
    "    horeca_monthly_sales = horeca_transactions_2020.groupby(\"MONTH\")[\"AMOUNT\"].sum().reset_index()\n",
    "\n",
    "    # get transactions by 'Catering customers'\n",
    "    catering_transactions_2020 = transactions_2020[transactions_2020[\"CUST_TYPE\"] == \"Catering\"]\n",
    "\n",
    "    # get the total sales for each month for 'Catering customers'\n",
    "    catering_monthly_sales = catering_transactions_2020.groupby(\"MONTH\")[\"AMOUNT\"].sum().reset_index()\n",
    "\n",
    "    # Barplot\n",
    "    n_months = 12\n",
    "    fig, ax = plt.subplots()\n",
    "    index = np.arange(n_months)\n",
    "    bar_width = 0.20\n",
    "    opacity = 0.7\n",
    "\n",
    "    rects1 = plt.bar(index, private_monthly_sales[\"AMOUNT\"], bar_width,\n",
    "    alpha=opacity,\n",
    "    color='#FFD57A',\n",
    "    label='Private')\n",
    "                                              \n",
    "    rects2 = plt.bar(index + bar_width, horeca_monthly_sales[\"AMOUNT\"], bar_width,\n",
    "    alpha=opacity,\n",
    "    color='#ffb923',\n",
    "    label='Horeca')\n",
    "\n",
    "    rects3 = plt.bar(index + 2*bar_width, catering_monthly_sales[\"AMOUNT\"], bar_width,\n",
    "    alpha=opacity,\n",
    "    color='#FF9323',\n",
    "    label='Catering')\n",
    "\n",
    "    plt.xlabel('Customer type')\n",
    "    plt.ylabel('Sales')\n",
    "    plt.title('Sales by customer type in '+str(desired_year))\n",
    "    plt.xticks(index + bar_width, ('JAN', 'FEB', 'MAR', 'APR', 'MAI', 'JUN', 'JUL', 'AUG', 'SEP', 'OCT', 'NOV', 'DEC'))\n",
    "    plt.legend()\n",
    "    plt.savefig('Sales by customer type in '+str(desired_year))\n",
    "    plt.tight_layout()\n"
   ]
  },
  {
   "cell_type": "code",
   "execution_count": 39,
   "id": "cb98a87d",
   "metadata": {},
   "outputs": [
    {
     "data": {
      "image/png": "[encoded data removed]",
      "text/plain": [
       "<Figure size 432x288 with 1 Axes>"
      ]
     },
     "metadata": {
      "needs_background": "light"
     },
     "output_type": "display_data"
    }
   ],
   "source": [
    "#sales by customer in 2020\n",
    "sales_by_customer_type(2020)\n"
   ]
  },
  {
   "cell_type": "markdown",
   "id": "59f5d5a2",
   "metadata": {},
   "source": [
    "## 3.5 How often did a customer purchase at the company at different days "
   ]
  },
  {
   "cell_type": "code",
   "execution_count": 42,
   "id": "1b4b9918",
   "metadata": {},
   "outputs": [],
   "source": [
    "def get_frequency(cust_id ):\n",
    "    \n",
    "    transactions = hvc_visitresult\n",
    "    # get transactions made by customer\n",
    "    transactions_cust = transactions[hvc_hvvisitresult[\"SO0_NRID\"] == cust_id]\n",
    "\n",
    "    # get transactions from succesfull visits\n",
    "    transactions_cust = transactions_cust[transactions_cust[\"HVOUTCOME_NRID\"] == 2]\n",
    "\n",
    "    # get total number of unique days on which customer made a purchase\n",
    "    frequency = len(transactions_cust)\n",
    "    \n",
    "    # return\n",
    "    return(frequency)"
   ]
  },
  {
   "cell_type": "code",
   "execution_count": 43,
   "id": "911181f7",
   "metadata": {},
   "outputs": [
    {
     "ename": "NameError",
     "evalue": "name 'hvc_visitresult' is not defined",
     "output_type": "error",
     "traceback": [
      "\u001b[1;31m---------------------------------------------------------------------------\u001b[0m",
      "\u001b[1;31mNameError\u001b[0m                                 Traceback (most recent call last)",
      "\u001b[1;32m<ipython-input-43-31f386f846e2>\u001b[0m in \u001b[0;36m<module>\u001b[1;34m\u001b[0m\n\u001b[0;32m      1\u001b[0m \u001b[1;31m# check\u001b[0m\u001b[1;33m\u001b[0m\u001b[1;33m\u001b[0m\u001b[1;33m\u001b[0m\u001b[0m\n\u001b[1;32m----> 2\u001b[1;33m \u001b[0mget_frequency\u001b[0m\u001b[1;33m(\u001b[0m\u001b[1;36m721110.0\u001b[0m\u001b[1;33m)\u001b[0m\u001b[1;33m\u001b[0m\u001b[1;33m\u001b[0m\u001b[0m\n\u001b[0m",
      "\u001b[1;32m<ipython-input-42-ffc797ced7fa>\u001b[0m in \u001b[0;36mget_frequency\u001b[1;34m(cust_id)\u001b[0m\n\u001b[0;32m      1\u001b[0m \u001b[1;32mdef\u001b[0m \u001b[0mget_frequency\u001b[0m\u001b[1;33m(\u001b[0m\u001b[0mcust_id\u001b[0m \u001b[1;33m)\u001b[0m\u001b[1;33m:\u001b[0m\u001b[1;33m\u001b[0m\u001b[1;33m\u001b[0m\u001b[0m\n\u001b[0;32m      2\u001b[0m \u001b[1;33m\u001b[0m\u001b[0m\n\u001b[1;32m----> 3\u001b[1;33m     \u001b[0mtransactions\u001b[0m \u001b[1;33m=\u001b[0m \u001b[0mhvc_visitresult\u001b[0m\u001b[1;33m\u001b[0m\u001b[1;33m\u001b[0m\u001b[0m\n\u001b[0m\u001b[0;32m      4\u001b[0m     \u001b[1;31m# get transactions made by customer\u001b[0m\u001b[1;33m\u001b[0m\u001b[1;33m\u001b[0m\u001b[1;33m\u001b[0m\u001b[0m\n\u001b[0;32m      5\u001b[0m     \u001b[0mtransactions_cust\u001b[0m \u001b[1;33m=\u001b[0m \u001b[0mtransactions\u001b[0m\u001b[1;33m[\u001b[0m\u001b[0mhvc_hvvisitresult\u001b[0m\u001b[1;33m[\u001b[0m\u001b[1;34m\"SO0_NRID\"\u001b[0m\u001b[1;33m]\u001b[0m \u001b[1;33m==\u001b[0m \u001b[0mcust_id\u001b[0m\u001b[1;33m]\u001b[0m\u001b[1;33m\u001b[0m\u001b[1;33m\u001b[0m\u001b[0m\n",
      "\u001b[1;31mNameError\u001b[0m: name 'hvc_visitresult' is not defined"
     ]
    }
   ],
   "source": [
    "# check\n",
    "get_frequency(721110.0)"
   ]
  },
  {
   "cell_type": "markdown",
   "id": "5846e560",
   "metadata": {},
   "source": [
    "## 3.6 Which customers left the company?"
   ]
  },
  {
   "cell_type": "code",
   "execution_count": 44,
   "id": "6eadbc11",
   "metadata": {},
   "outputs": [],
   "source": [
    "#Linear regression \n",
    "\n",
    "def get_regression_sales(customer_id, year_regression):\n",
    "    \n",
    "    #get the month of each transaction date and store it in new column\n",
    "    hvc_hvvisitresult[\"MONTH\"] = hvc_hvvisitresult[\"DATEONLY\"].apply(lambda x: x.month)\n",
    "\n",
    "    #merge\n",
    "    transactions = hvc_hvvisitresult.merge(hvc_so0,on=\"SO0_NRID\", how =\"inner\")\n",
    "    \n",
    "    #get transactions from desired_year\n",
    "    transactions = transactions[(transactions[\"DATEONLY\"] >= pd.Timestamp(year=year_regression, day=1, month=1)) & (transactions[\"DATEONLY\"] < pd.Timestamp(year=year_regression + 1, month=1, day=1))]\n",
    "\n",
    "    #get transactions with succesfull outcome\n",
    "    transactions = transactions[transactions[\"HVOUTCOME_NRID\"] == 2]\n",
    "    \n",
    "    #get transactions from customer with specific id \n",
    "    transactions_unique_cust = transactions[transactions[\"SO0_NRID\"] == customer_id ]\n",
    "    \n",
    "    # get the total sales for each month for 'private customers'\n",
    "    sales_unique_cust = transactions_unique_cust.groupby(\"MONTH\")[\"AMOUNT\"].sum().reset_index() \n",
    "\n",
    "    \n",
    "    sns.lmplot(x=\"MONTH\", y=\"AMOUNT\", data=sales_unique_cust, fit_reg=True)\n",
    "    plt.xlabel(\"Months\")\n",
    "    plt.ylabel(\"Sales\")\n",
    "    plt.title('Sales by customer ' + str(customer_id) +  ' in ' + str( year_regression))\n",
    "    plt.xticks(np.arange(12),('JAN', 'FEB', 'MAR', 'APR', 'MAI', 'JUN', 'JUL', 'AUG', 'SEP', 'OCT', 'NOV', 'DEC'))\n",
    "    plt.show()\n"
   ]
  },
  {
   "cell_type": "code",
   "execution_count": 45,
   "id": "72127e29",
   "metadata": {
    "scrolled": true
   },
   "outputs": [
    {
     "ename": "NameError",
     "evalue": "name 'sns' is not defined",
     "output_type": "error",
     "traceback": [
      "\u001b[1;31m---------------------------------------------------------------------------\u001b[0m",
      "\u001b[1;31mNameError\u001b[0m                                 Traceback (most recent call last)",
      "\u001b[1;32m<ipython-input-45-f2a02fcb48b2>\u001b[0m in \u001b[0;36m<module>\u001b[1;34m\u001b[0m\n\u001b[0;32m      1\u001b[0m \u001b[1;31m# Regression test\u001b[0m\u001b[1;33m\u001b[0m\u001b[1;33m\u001b[0m\u001b[1;33m\u001b[0m\u001b[0m\n\u001b[1;32m----> 2\u001b[1;33m \u001b[0mget_regression_sales\u001b[0m\u001b[1;33m(\u001b[0m\u001b[0mcustomer_id\u001b[0m\u001b[1;33m=\u001b[0m\u001b[1;36m721110.0\u001b[0m\u001b[1;33m,\u001b[0m \u001b[0myear_regression\u001b[0m\u001b[1;33m=\u001b[0m\u001b[1;36m2019\u001b[0m\u001b[1;33m)\u001b[0m\u001b[1;33m\u001b[0m\u001b[1;33m\u001b[0m\u001b[0m\n\u001b[0m",
      "\u001b[1;32m<ipython-input-44-cc40a8122ef7>\u001b[0m in \u001b[0;36mget_regression_sales\u001b[1;34m(customer_id, year_regression)\u001b[0m\n\u001b[0;32m     22\u001b[0m \u001b[1;33m\u001b[0m\u001b[0m\n\u001b[0;32m     23\u001b[0m \u001b[1;33m\u001b[0m\u001b[0m\n\u001b[1;32m---> 24\u001b[1;33m     \u001b[0msns\u001b[0m\u001b[1;33m.\u001b[0m\u001b[0mlmplot\u001b[0m\u001b[1;33m(\u001b[0m\u001b[0mx\u001b[0m\u001b[1;33m=\u001b[0m\u001b[1;34m\"MONTH\"\u001b[0m\u001b[1;33m,\u001b[0m \u001b[0my\u001b[0m\u001b[1;33m=\u001b[0m\u001b[1;34m\"AMOUNT\"\u001b[0m\u001b[1;33m,\u001b[0m \u001b[0mdata\u001b[0m\u001b[1;33m=\u001b[0m\u001b[0msales_unique_cust\u001b[0m\u001b[1;33m,\u001b[0m \u001b[0mfit_reg\u001b[0m\u001b[1;33m=\u001b[0m\u001b[1;32mTrue\u001b[0m\u001b[1;33m)\u001b[0m\u001b[1;33m\u001b[0m\u001b[1;33m\u001b[0m\u001b[0m\n\u001b[0m\u001b[0;32m     25\u001b[0m     \u001b[0mplt\u001b[0m\u001b[1;33m.\u001b[0m\u001b[0mxlabel\u001b[0m\u001b[1;33m(\u001b[0m\u001b[1;34m\"Months\"\u001b[0m\u001b[1;33m)\u001b[0m\u001b[1;33m\u001b[0m\u001b[1;33m\u001b[0m\u001b[0m\n\u001b[0;32m     26\u001b[0m     \u001b[0mplt\u001b[0m\u001b[1;33m.\u001b[0m\u001b[0mylabel\u001b[0m\u001b[1;33m(\u001b[0m\u001b[1;34m\"Sales\"\u001b[0m\u001b[1;33m)\u001b[0m\u001b[1;33m\u001b[0m\u001b[1;33m\u001b[0m\u001b[0m\n",
      "\u001b[1;31mNameError\u001b[0m: name 'sns' is not defined"
     ]
    }
   ],
   "source": [
    "# Regression test\n",
    "get_regression_sales(customer_id=721110.0, year_regression=2019)"
   ]
  },
  {
   "cell_type": "code",
   "execution_count": 46,
   "id": "cef5e13c",
   "metadata": {},
   "outputs": [],
   "source": [
    "# Now lets take a look at the aggregated sales of the different segments \n",
    "\n",
    "def get_sales_segement(segment, year_regression):\n",
    "    \n",
    "    \n",
    "    #get the month of each transaction date and store it in new column\n",
    "    hvc_hvvisitresult[\"MONTH\"] = hvc_hvvisitresult[\"DATEONLY\"].apply(lambda x: x.month)\n",
    "\n",
    "    #merge\n",
    "    transactions = hvc_hvvisitresult.merge(hvc_so0,on=\"SO0_NRID\", how =\"inner\")\n",
    "    \n",
    "    #get transactions from desired_year\n",
    "    transactions = transactions[(transactions[\"DATEONLY\"] >= pd.Timestamp(year=year_regression, day=1, month=1)) & (transactions[\"DATEONLY\"] < pd.Timestamp(year=year_regression + 1, month=1, day=1))]\n",
    "\n",
    "    #get transactions with succesfull outcome\n",
    "    transactions = transactions[transactions[\"HVOUTCOME_NRID\"] == 2]\n",
    "    \n",
    "    #get transactions from customer with specific id \n",
    "    transactions_segment = transactions[transactions[\"CUST_TYPE\"] == segment ]\n",
    "    \n",
    "    # get the total sales for each month for 'private customers'\n",
    "    sales_segment = transactions_segment.groupby(\"MONTH\")[\"AMOUNT\"].sum().reset_index() \n",
    "\n",
    "    \n",
    "    sns.lmplot(x=\"MONTH\", y=\"AMOUNT\", data=sales_segment, fit_reg=True)\n",
    "    plt.xlabel(\"Months\")\n",
    "    plt.ylabel(\"Sales\")\n",
    "    plt.title('Sales by customer segment in ' + str( year_regression))\n",
    "    plt.xticks(np.arange(12),('JAN', 'FEB', 'MAR', 'APR', 'MAI', 'JUN', 'JUL', 'AUG', 'SEP', 'OCT', 'NOV', 'DEC'))\n",
    "    plt.show()\n"
   ]
  },
  {
   "cell_type": "code",
   "execution_count": 47,
   "id": "338eb687",
   "metadata": {},
   "outputs": [
    {
     "ename": "NameError",
     "evalue": "name 'Catering' is not defined",
     "output_type": "error",
     "traceback": [
      "\u001b[1;31m---------------------------------------------------------------------------\u001b[0m",
      "\u001b[1;31mNameError\u001b[0m                                 Traceback (most recent call last)",
      "\u001b[1;32m<ipython-input-47-614f43689b90>\u001b[0m in \u001b[0;36m<module>\u001b[1;34m\u001b[0m\n\u001b[0;32m      1\u001b[0m \u001b[1;31m# test  sales by segment\u001b[0m\u001b[1;33m\u001b[0m\u001b[1;33m\u001b[0m\u001b[1;33m\u001b[0m\u001b[0m\n\u001b[1;32m----> 2\u001b[1;33m \u001b[0mget_sales_segement\u001b[0m\u001b[1;33m(\u001b[0m\u001b[0mCatering\u001b[0m\u001b[1;33m,\u001b[0m\u001b[1;36m2020\u001b[0m\u001b[1;33m)\u001b[0m\u001b[1;33m\u001b[0m\u001b[1;33m\u001b[0m\u001b[0m\n\u001b[0m",
      "\u001b[1;31mNameError\u001b[0m: name 'Catering' is not defined"
     ]
    }
   ],
   "source": [
    "# test  sales by segment\n",
    "get_sales_segement(Catering,2020)\n"
   ]
  },
  {
   "cell_type": "code",
   "execution_count": 50,
   "id": "ba9f93f0",
   "metadata": {},
   "outputs": [],
   "source": [
    "#check if the customers that left in 2020 gave a bad review in 2019\n",
    "\n",
    "def get_regression_sales_info(customer_id):\n",
    "    \n",
    "    info_reg_no_sales = [1.0, 0.0,-1.0]\n",
    "    \n",
    "    try:\n",
    "        #get the month of each transaction date and store it in new column\n",
    "        hvc_hvvisitresult[\"MONTH\"] = hvc_hvvisitresult[\"DATEONLY\"].apply(lambda x: x.month)\n",
    "\n",
    "        #merge\n",
    "        transactions = hvc_hvvisitresult.merge(hvc_so0,on=\"SO0_NRID\", how =\"inner\")\n",
    "    \n",
    "        #get transactions from desired_year\n",
    "        transactions = transactions[(transactions[\"DATEONLY\"] >= pd.Timestamp(year=2020, day=1, month=1)) & (transactions[\"DATEONLY\"] < pd.Timestamp(year=2021, month=1, day=1))]\n",
    "\n",
    "        #get transactions with succesfull outcome\n",
    "        transactions = transactions[transactions[\"HVOUTCOME_NRID\"] == 2]\n",
    "    \n",
    "        #get transactions from customer with specific id \n",
    "        transactions_unique_cust = transactions[transactions[\"SO0_NRID\"] == customer_id ]\n",
    "    \n",
    "        # get the total sales for each month for customers\n",
    "        sales_unique_cust = transactions_unique_cust.groupby(\"MONTH\")[\"AMOUNT\"].sum().reset_index() \n",
    "        #print(sales_unique_cust)\n",
    "        sales_unique_cust_fixed = sales_unique_cust\n",
    "        sales_unique_cust_fixed[\"MONTH\"] = sales_unique_cust[\"MONTH\"]-1\n",
    "    \n",
    "        #regression model\n",
    "        x = np.array(sales_unique_cust_fixed[\"MONTH\"]).reshape((-1,1))\n",
    "        y = np.array(sales_unique_cust_fixed[\"AMOUNT\"])\n",
    "        model = LinearRegression()\n",
    "        model.fit(x,y)\n",
    "    \n",
    "        #coefficient of determination\n",
    "        r_sq = model.score(x,y)\n",
    "    \n",
    "        #intercept and slope\n",
    "        intercept = model.intercept_\n",
    "        slope = model.coef_\n",
    "    \n",
    "        info_reg = [r_sq, intercept,slope[0]]\n",
    "    \n",
    "        return info_reg\n",
    "    \n",
    "    except ValueError as v:\n",
    "        return info_reg_no_sales"
   ]
  },
  {
   "cell_type": "code",
   "execution_count": 52,
   "id": "632a3b90",
   "metadata": {},
   "outputs": [],
   "source": [
    "#setting thresholds for leaving customers\n",
    "threshold_r_sq = 0.500000000\n",
    "threshold_slope = 0.000"
   ]
  },
  {
   "cell_type": "code",
   "execution_count": 53,
   "id": "72ef4f0f",
   "metadata": {},
   "outputs": [
    {
     "ename": "NameError",
     "evalue": "name 'LinearRegression' is not defined",
     "output_type": "error",
     "traceback": [
      "\u001b[1;31m---------------------------------------------------------------------------\u001b[0m",
      "\u001b[1;31mNameError\u001b[0m                                 Traceback (most recent call last)",
      "\u001b[1;32m<ipython-input-53-9329f020a5eb>\u001b[0m in \u001b[0;36m<module>\u001b[1;34m\u001b[0m\n\u001b[0;32m      4\u001b[0m \u001b[1;32mfor\u001b[0m \u001b[0mi\u001b[0m \u001b[1;32min\u001b[0m \u001b[0mrange\u001b[0m\u001b[1;33m(\u001b[0m\u001b[0mlen\u001b[0m\u001b[1;33m(\u001b[0m\u001b[0mhvc_so0\u001b[0m\u001b[1;33m)\u001b[0m\u001b[1;33m)\u001b[0m\u001b[1;33m:\u001b[0m\u001b[1;33m\u001b[0m\u001b[1;33m\u001b[0m\u001b[0m\n\u001b[0;32m      5\u001b[0m     \u001b[1;31m#getting the neccesary information\u001b[0m\u001b[1;33m\u001b[0m\u001b[1;33m\u001b[0m\u001b[1;33m\u001b[0m\u001b[0m\n\u001b[1;32m----> 6\u001b[1;33m     \u001b[0minfo_regression\u001b[0m \u001b[1;33m=\u001b[0m \u001b[0mget_regression_sales_info\u001b[0m\u001b[1;33m(\u001b[0m\u001b[0mcustomer_id\u001b[0m\u001b[1;33m=\u001b[0m\u001b[0mhvc_so0\u001b[0m\u001b[1;33m.\u001b[0m\u001b[0miloc\u001b[0m\u001b[1;33m[\u001b[0m\u001b[0mi\u001b[0m\u001b[1;33m,\u001b[0m\u001b[1;36m0\u001b[0m\u001b[1;33m]\u001b[0m\u001b[1;33m)\u001b[0m\u001b[1;33m\u001b[0m\u001b[1;33m\u001b[0m\u001b[0m\n\u001b[0m\u001b[0;32m      7\u001b[0m     \u001b[1;32mtry\u001b[0m\u001b[1;33m:\u001b[0m\u001b[1;33m\u001b[0m\u001b[1;33m\u001b[0m\u001b[0m\n\u001b[0;32m      8\u001b[0m         \u001b[1;31m#checking with thresholds\u001b[0m\u001b[1;33m\u001b[0m\u001b[1;33m\u001b[0m\u001b[1;33m\u001b[0m\u001b[0m\n",
      "\u001b[1;32m<ipython-input-50-c1b62305e842>\u001b[0m in \u001b[0;36mget_regression_sales_info\u001b[1;34m(customer_id)\u001b[0m\n\u001b[0;32m     30\u001b[0m         \u001b[0mx\u001b[0m \u001b[1;33m=\u001b[0m \u001b[0mnp\u001b[0m\u001b[1;33m.\u001b[0m\u001b[0marray\u001b[0m\u001b[1;33m(\u001b[0m\u001b[0msales_unique_cust_fixed\u001b[0m\u001b[1;33m[\u001b[0m\u001b[1;34m\"MONTH\"\u001b[0m\u001b[1;33m]\u001b[0m\u001b[1;33m)\u001b[0m\u001b[1;33m.\u001b[0m\u001b[0mreshape\u001b[0m\u001b[1;33m(\u001b[0m\u001b[1;33m(\u001b[0m\u001b[1;33m-\u001b[0m\u001b[1;36m1\u001b[0m\u001b[1;33m,\u001b[0m\u001b[1;36m1\u001b[0m\u001b[1;33m)\u001b[0m\u001b[1;33m)\u001b[0m\u001b[1;33m\u001b[0m\u001b[1;33m\u001b[0m\u001b[0m\n\u001b[0;32m     31\u001b[0m         \u001b[0my\u001b[0m \u001b[1;33m=\u001b[0m \u001b[0mnp\u001b[0m\u001b[1;33m.\u001b[0m\u001b[0marray\u001b[0m\u001b[1;33m(\u001b[0m\u001b[0msales_unique_cust_fixed\u001b[0m\u001b[1;33m[\u001b[0m\u001b[1;34m\"AMOUNT\"\u001b[0m\u001b[1;33m]\u001b[0m\u001b[1;33m)\u001b[0m\u001b[1;33m\u001b[0m\u001b[1;33m\u001b[0m\u001b[0m\n\u001b[1;32m---> 32\u001b[1;33m         \u001b[0mmodel\u001b[0m \u001b[1;33m=\u001b[0m \u001b[0mLinearRegression\u001b[0m\u001b[1;33m(\u001b[0m\u001b[1;33m)\u001b[0m\u001b[1;33m\u001b[0m\u001b[1;33m\u001b[0m\u001b[0m\n\u001b[0m\u001b[0;32m     33\u001b[0m         \u001b[0mmodel\u001b[0m\u001b[1;33m.\u001b[0m\u001b[0mfit\u001b[0m\u001b[1;33m(\u001b[0m\u001b[0mx\u001b[0m\u001b[1;33m,\u001b[0m\u001b[0my\u001b[0m\u001b[1;33m)\u001b[0m\u001b[1;33m\u001b[0m\u001b[1;33m\u001b[0m\u001b[0m\n\u001b[0;32m     34\u001b[0m \u001b[1;33m\u001b[0m\u001b[0m\n",
      "\u001b[1;31mNameError\u001b[0m: name 'LinearRegression' is not defined"
     ]
    }
   ],
   "source": [
    "#getting a list of leaving customers\n",
    "leaving_customers = []\n",
    "\n",
    "for i in range(len(hvc_so0)):\n",
    "    #getting the neccesary information \n",
    "    info_regression = get_regression_sales_info(customer_id=hvc_so0.iloc[i,0])\n",
    "    try:\n",
    "        #checking with thresholds\n",
    "        if ((info_regression[0] > threshold_r_sq) and (info_regression[2] < threshold_slope)):\n",
    "            leaving_customers.append(hvc_so0.iloc[i,0])    \n",
    "        #if no sales records in 2020\n",
    "        elif (info_regression == [1.0, 0.0,-1.0]):\n",
    "            leaving_customers.append(hcv_so0.iloc[i,0])\n",
    "        \n",
    "    except TypeError:\n",
    "        print(\"TypeError\")"
   ]
  },
  {
   "cell_type": "code",
   "execution_count": 54,
   "id": "3ee35624",
   "metadata": {},
   "outputs": [
    {
     "data": {
      "text/plain": [
       "0"
      ]
     },
     "execution_count": 54,
     "metadata": {},
     "output_type": "execute_result"
    }
   ],
   "source": [
    "len(leaving_customers)"
   ]
  },
  {
   "cell_type": "code",
   "execution_count": 55,
   "id": "01d13776",
   "metadata": {},
   "outputs": [],
   "source": [
    "leaving_customers = np.array(leaving_customers)"
   ]
  },
  {
   "cell_type": "code",
   "execution_count": 56,
   "id": "10d905e0",
   "metadata": {},
   "outputs": [],
   "source": [
    "# save numpy array as npy fil\n",
    "# save to npy file\n",
    "np.save('./data/leaving_customers.npy', leaving_customers)"
   ]
  },
  {
   "cell_type": "code",
   "execution_count": 57,
   "id": "709920d5",
   "metadata": {
    "scrolled": true
   },
   "outputs": [],
   "source": [
    "# load numpy array from npy file\n",
    "# load array\n",
    "# leaving_customers = np.load('./data/leaving_customers.npy')))\n"
   ]
  },
  {
   "cell_type": "code",
   "execution_count": 58,
   "id": "9ef1d0d8",
   "metadata": {},
   "outputs": [],
   "source": [
    "#customers with bad reviews\n",
    "hvc_all_bad_reviews = hvc_customer_reviews[(hvc_customer_reviews[\"REVIEW\"] == \"Not completely satisfied\") | (hvc_customer_reviews[\"REVIEW\"] == \"Very bad service, very unsatisfied\")]\n",
    "customers_all_bad_reviews = hvc_all_bad_reviews[\"SO0_NRID\"].to_numpy()"
   ]
  },
  {
   "cell_type": "code",
   "execution_count": 59,
   "id": "0a8142fd",
   "metadata": {},
   "outputs": [],
   "source": [
    "hvc_terrible_reviews = hvc_customer_reviews[(hvc_customer_reviews[\"REVIEW\"] == \"Very bad service, very unsatisfied\")]\n",
    "customers_terrible_reviews = hvc_terrible_reviews[\"SO0_NRID\"].to_numpy()"
   ]
  },
  {
   "cell_type": "code",
   "execution_count": 60,
   "id": "169c97a0",
   "metadata": {},
   "outputs": [],
   "source": [
    "#check the intersection of bad customers with the leaving customers\n",
    "bad_review_leaving = np.intersect1d(leaving_customers,customers_all_bad_reviews)\n",
    "\n",
    "#check the intersection of terrible customers with the leaving customers\n",
    "terrible_review_leaving = np.intersect1d(leaving_customers,customers_terrible_reviews)"
   ]
  },
  {
   "cell_type": "code",
   "execution_count": 61,
   "id": "dc0e7773",
   "metadata": {},
   "outputs": [
    {
     "data": {
      "text/plain": [
       "0"
      ]
     },
     "execution_count": 61,
     "metadata": {},
     "output_type": "execute_result"
    }
   ],
   "source": [
    "#calculating the proportion of all bad reviews that are leaving customers out of the total customers with all bad reviews\n",
    "proportion_bad = int((100*len(bad_review_leaving))/len(customers_all_bad_reviews))\n",
    "proportion_bad\n",
    "\n",
    "#half of the customers that gave a bad review in 2019 are leaving customers in 2020 according to our regression "
   ]
  },
  {
   "cell_type": "code",
   "execution_count": 62,
   "id": "8bb682d9",
   "metadata": {},
   "outputs": [
    {
     "data": {
      "text/plain": [
       "0"
      ]
     },
     "execution_count": 62,
     "metadata": {},
     "output_type": "execute_result"
    }
   ],
   "source": [
    "#calculating the proportion of terrible reviews that are leaving customers out of the total customers with terrible reviews\n",
    "proportion_terrible = int((100*len(terrible_review_leaving))/len(customers_terrible_reviews))\n",
    "proportion_terrible"
   ]
  },
  {
   "cell_type": "markdown",
   "id": "41b47788",
   "metadata": {},
   "source": [
    "## 3.7 Clusters of customers \n"
   ]
  },
  {
   "cell_type": "markdown",
   "id": "37f324de",
   "metadata": {},
   "source": [
    "Clustering Multi Vairiable Data  "
   ]
  },
  {
   "cell_type": "code",
   "execution_count": null,
   "id": "6505bc88",
   "metadata": {},
   "outputs": [],
   "source": [
    "#Linear regression"
   ]
  },
  {
   "cell_type": "markdown",
   "id": "a19ac75f",
   "metadata": {},
   "source": [
    "## 3.8 Do customers have different buying patterns during the weekend?"
   ]
  },
  {
   "cell_type": "code",
   "execution_count": 63,
   "id": "b51aa027",
   "metadata": {},
   "outputs": [
    {
     "ename": "SyntaxError",
     "evalue": "invalid syntax (<ipython-input-63-b49b86f00e6c>, line 8)",
     "output_type": "error",
     "traceback": [
      "\u001b[1;36m  File \u001b[1;32m\"<ipython-input-63-b49b86f00e6c>\"\u001b[1;36m, line \u001b[1;32m8\u001b[0m\n\u001b[1;33m    sns.boxplot(x=cust_transactions[\"AMOUNT\"], y=cust_transactions[\"\"] == )\u001b[0m\n\u001b[1;37m                                                                          ^\u001b[0m\n\u001b[1;31mSyntaxError\u001b[0m\u001b[1;31m:\u001b[0m invalid syntax\n"
     ]
    }
   ],
   "source": [
    "# join transactions with customers\n",
    "cust_transactions = pd.merge(hvc_hvvisitresult, hvc_so0, on=\"SO0_NRID\", how=\"inner\")\n",
    "\n",
    "# get transactions with succesfull outcome\n",
    "cust_transactions = cust_transactions[cust_transactions[\"HVOUTCOME_NRID\"] == 2 and cust_transactions[\"\"]]\n",
    "\n",
    "# create boxplot for transaction amounts for weekend\n",
    "sns.boxplot(x=cust_transactions[\"AMOUNT\"], y=cust_transactions[\"\"] == )\n",
    "plt.show()\n"
   ]
  },
  {
   "cell_type": "markdown",
   "id": "2c2cf518",
   "metadata": {},
   "source": [
    "## 3.9 Do customer sales differ across different cities? Is there a relationship between customer\n"
   ]
  },
  {
   "cell_type": "code",
   "execution_count": 64,
   "id": "a2f50966",
   "metadata": {},
   "outputs": [],
   "source": [
    "# import customer locations\n",
    "pos_df = pd.read_csv(\"./data/HVC_HVPOSITION_CORRECT.csv\", sep=\";\")\n",
    "\n",
    "# join\n",
    "cust_pos_df = pd.merge(left=hvc_so0, right=pos_df, on=\"SO0_NRID\", how=\"inner\")"
   ]
  },
  {
   "cell_type": "code",
   "execution_count": 65,
   "id": "eaa9bb4e",
   "metadata": {},
   "outputs": [],
   "source": [
    "# import city data from belgium, which was downloaded from the internet\n",
    "postcodes_df = pd.read_csv(\"./data/zipcode-belgium.csv\", header=None)\n",
    "postcodes_df.columns = [\"POSTCODE\", \"LOCATION\", \"LAT\", \"LONG\"]"
   ]
  },
  {
   "cell_type": "code",
   "execution_count": 66,
   "id": "8885e224",
   "metadata": {
    "scrolled": false
   },
   "outputs": [
    {
     "data": {
      "text/html": [
       "<div>\n",
       "<style scoped>\n",
       "    .dataframe tbody tr th:only-of-type {\n",
       "        vertical-align: middle;\n",
       "    }\n",
       "\n",
       "    .dataframe tbody tr th {\n",
       "        vertical-align: top;\n",
       "    }\n",
       "\n",
       "    .dataframe thead th {\n",
       "        text-align: right;\n",
       "    }\n",
       "</style>\n",
       "<table border=\"1\" class=\"dataframe\">\n",
       "  <thead>\n",
       "    <tr style=\"text-align: right;\">\n",
       "      <th></th>\n",
       "      <th>SO0_NRID</th>\n",
       "      <th>HVROUTETEMPLATE_NRID</th>\n",
       "      <th>CUST_TYPE</th>\n",
       "      <th>POSTCODE</th>\n",
       "      <th>LANGUAGE</th>\n",
       "      <th>SEASON_TYPE</th>\n",
       "      <th>LAT</th>\n",
       "      <th>LONG</th>\n",
       "    </tr>\n",
       "  </thead>\n",
       "  <tbody>\n",
       "    <tr>\n",
       "      <th>0</th>\n",
       "      <td>721104</td>\n",
       "      <td>219020601</td>\n",
       "      <td>Private</td>\n",
       "      <td>3930</td>\n",
       "      <td>nl-BE</td>\n",
       "      <td>All time</td>\n",
       "      <td>3.591994</td>\n",
       "      <td>50.956946</td>\n",
       "    </tr>\n",
       "    <tr>\n",
       "      <th>1</th>\n",
       "      <td>721110</td>\n",
       "      <td>219020601</td>\n",
       "      <td>Private</td>\n",
       "      <td>3930</td>\n",
       "      <td>nl-BE</td>\n",
       "      <td>All time</td>\n",
       "      <td>3.591994</td>\n",
       "      <td>50.956946</td>\n",
       "    </tr>\n",
       "    <tr>\n",
       "      <th>2</th>\n",
       "      <td>721121</td>\n",
       "      <td>219020601</td>\n",
       "      <td>Private</td>\n",
       "      <td>3930</td>\n",
       "      <td>nl-BE</td>\n",
       "      <td>All time</td>\n",
       "      <td>3.604466</td>\n",
       "      <td>50.958559</td>\n",
       "    </tr>\n",
       "    <tr>\n",
       "      <th>3</th>\n",
       "      <td>721126</td>\n",
       "      <td>219020601</td>\n",
       "      <td>Private</td>\n",
       "      <td>3930</td>\n",
       "      <td>nl-BE</td>\n",
       "      <td>All time</td>\n",
       "      <td>3.603056</td>\n",
       "      <td>50.958251</td>\n",
       "    </tr>\n",
       "    <tr>\n",
       "      <th>4</th>\n",
       "      <td>721131</td>\n",
       "      <td>219020601</td>\n",
       "      <td>Private</td>\n",
       "      <td>3930</td>\n",
       "      <td>nl-BE</td>\n",
       "      <td>All time</td>\n",
       "      <td>3.603824</td>\n",
       "      <td>50.958419</td>\n",
       "    </tr>\n",
       "    <tr>\n",
       "      <th>...</th>\n",
       "      <td>...</td>\n",
       "      <td>...</td>\n",
       "      <td>...</td>\n",
       "      <td>...</td>\n",
       "      <td>...</td>\n",
       "      <td>...</td>\n",
       "      <td>...</td>\n",
       "      <td>...</td>\n",
       "    </tr>\n",
       "    <tr>\n",
       "      <th>4068</th>\n",
       "      <td>56130125</td>\n",
       "      <td>289657598</td>\n",
       "      <td>Private</td>\n",
       "      <td>3500</td>\n",
       "      <td>nl-BE</td>\n",
       "      <td>All time</td>\n",
       "      <td>4.784574</td>\n",
       "      <td>50.850181</td>\n",
       "    </tr>\n",
       "    <tr>\n",
       "      <th>4069</th>\n",
       "      <td>56132008</td>\n",
       "      <td>219023167</td>\n",
       "      <td>Private</td>\n",
       "      <td>3930</td>\n",
       "      <td>nl-BE</td>\n",
       "      <td>All time</td>\n",
       "      <td>3.607610</td>\n",
       "      <td>51.080591</td>\n",
       "    </tr>\n",
       "    <tr>\n",
       "      <th>4070</th>\n",
       "      <td>56138665</td>\n",
       "      <td>289762482</td>\n",
       "      <td>Private</td>\n",
       "      <td>3680</td>\n",
       "      <td>nl-BE</td>\n",
       "      <td>All time</td>\n",
       "      <td>4.570060</td>\n",
       "      <td>51.212260</td>\n",
       "    </tr>\n",
       "    <tr>\n",
       "      <th>4071</th>\n",
       "      <td>56142048</td>\n",
       "      <td>289760478</td>\n",
       "      <td>Private</td>\n",
       "      <td>3650</td>\n",
       "      <td>nl-BE</td>\n",
       "      <td>All time</td>\n",
       "      <td>4.644759</td>\n",
       "      <td>51.217775</td>\n",
       "    </tr>\n",
       "    <tr>\n",
       "      <th>4072</th>\n",
       "      <td>56148110</td>\n",
       "      <td>289416949</td>\n",
       "      <td>Private</td>\n",
       "      <td>3580</td>\n",
       "      <td>nl-BE</td>\n",
       "      <td>All time</td>\n",
       "      <td>4.311134</td>\n",
       "      <td>50.764834</td>\n",
       "    </tr>\n",
       "  </tbody>\n",
       "</table>\n",
       "<p>4073 rows × 8 columns</p>\n",
       "</div>"
      ],
      "text/plain": [
       "      SO0_NRID  HVROUTETEMPLATE_NRID CUST_TYPE  POSTCODE LANGUAGE SEASON_TYPE  \\\n",
       "0       721104             219020601   Private      3930    nl-BE    All time   \n",
       "1       721110             219020601   Private      3930    nl-BE    All time   \n",
       "2       721121             219020601   Private      3930    nl-BE    All time   \n",
       "3       721126             219020601   Private      3930    nl-BE    All time   \n",
       "4       721131             219020601   Private      3930    nl-BE    All time   \n",
       "...        ...                   ...       ...       ...      ...         ...   \n",
       "4068  56130125             289657598   Private      3500    nl-BE    All time   \n",
       "4069  56132008             219023167   Private      3930    nl-BE    All time   \n",
       "4070  56138665             289762482   Private      3680    nl-BE    All time   \n",
       "4071  56142048             289760478   Private      3650    nl-BE    All time   \n",
       "4072  56148110             289416949   Private      3580    nl-BE    All time   \n",
       "\n",
       "           LAT       LONG  \n",
       "0     3.591994  50.956946  \n",
       "1     3.591994  50.956946  \n",
       "2     3.604466  50.958559  \n",
       "3     3.603056  50.958251  \n",
       "4     3.603824  50.958419  \n",
       "...        ...        ...  \n",
       "4068  4.784574  50.850181  \n",
       "4069  3.607610  51.080591  \n",
       "4070  4.570060  51.212260  \n",
       "4071  4.644759  51.217775  \n",
       "4072  4.311134  50.764834  \n",
       "\n",
       "[4073 rows x 8 columns]"
      ]
     },
     "execution_count": 66,
     "metadata": {},
     "output_type": "execute_result"
    }
   ],
   "source": [
    "cust_pos_df"
   ]
  },
  {
   "cell_type": "code",
   "execution_count": 67,
   "id": "f37a1153",
   "metadata": {},
   "outputs": [
    {
     "data": {
      "text/html": [
       "<div>\n",
       "<style scoped>\n",
       "    .dataframe tbody tr th:only-of-type {\n",
       "        vertical-align: middle;\n",
       "    }\n",
       "\n",
       "    .dataframe tbody tr th {\n",
       "        vertical-align: top;\n",
       "    }\n",
       "\n",
       "    .dataframe thead th {\n",
       "        text-align: right;\n",
       "    }\n",
       "</style>\n",
       "<table border=\"1\" class=\"dataframe\">\n",
       "  <thead>\n",
       "    <tr style=\"text-align: right;\">\n",
       "      <th></th>\n",
       "      <th>SO0_NRID</th>\n",
       "      <th>LAT</th>\n",
       "      <th>LONG</th>\n",
       "    </tr>\n",
       "  </thead>\n",
       "  <tbody>\n",
       "    <tr>\n",
       "      <th>0</th>\n",
       "      <td>724196</td>\n",
       "      <td>3.576301</td>\n",
       "      <td>51.053585</td>\n",
       "    </tr>\n",
       "    <tr>\n",
       "      <th>1</th>\n",
       "      <td>724219</td>\n",
       "      <td>3.572461</td>\n",
       "      <td>51.047222</td>\n",
       "    </tr>\n",
       "    <tr>\n",
       "      <th>2</th>\n",
       "      <td>724231</td>\n",
       "      <td>3.571065</td>\n",
       "      <td>51.044908</td>\n",
       "    </tr>\n",
       "    <tr>\n",
       "      <th>3</th>\n",
       "      <td>724236</td>\n",
       "      <td>3.568838</td>\n",
       "      <td>51.041573</td>\n",
       "    </tr>\n",
       "    <tr>\n",
       "      <th>4</th>\n",
       "      <td>724241</td>\n",
       "      <td>3.567592</td>\n",
       "      <td>51.040040</td>\n",
       "    </tr>\n",
       "    <tr>\n",
       "      <th>...</th>\n",
       "      <td>...</td>\n",
       "      <td>...</td>\n",
       "      <td>...</td>\n",
       "    </tr>\n",
       "    <tr>\n",
       "      <th>5692</th>\n",
       "      <td>25332076406640</td>\n",
       "      <td>4.573422</td>\n",
       "      <td>51.154883</td>\n",
       "    </tr>\n",
       "    <tr>\n",
       "      <th>5693</th>\n",
       "      <td>25335568268048</td>\n",
       "      <td>3.844218</td>\n",
       "      <td>51.119432</td>\n",
       "    </tr>\n",
       "    <tr>\n",
       "      <th>5694</th>\n",
       "      <td>25343276433048</td>\n",
       "      <td>3.867731</td>\n",
       "      <td>51.061335</td>\n",
       "    </tr>\n",
       "    <tr>\n",
       "      <th>5695</th>\n",
       "      <td>25345568238048</td>\n",
       "      <td>3.802616</td>\n",
       "      <td>51.038216</td>\n",
       "    </tr>\n",
       "    <tr>\n",
       "      <th>5696</th>\n",
       "      <td>25356576635852</td>\n",
       "      <td>4.576794</td>\n",
       "      <td>51.165597</td>\n",
       "    </tr>\n",
       "  </tbody>\n",
       "</table>\n",
       "<p>5697 rows × 3 columns</p>\n",
       "</div>"
      ],
      "text/plain": [
       "            SO0_NRID       LAT       LONG\n",
       "0             724196  3.576301  51.053585\n",
       "1             724219  3.572461  51.047222\n",
       "2             724231  3.571065  51.044908\n",
       "3             724236  3.568838  51.041573\n",
       "4             724241  3.567592  51.040040\n",
       "...              ...       ...        ...\n",
       "5692  25332076406640  4.573422  51.154883\n",
       "5693  25335568268048  3.844218  51.119432\n",
       "5694  25343276433048  3.867731  51.061335\n",
       "5695  25345568238048  3.802616  51.038216\n",
       "5696  25356576635852  4.576794  51.165597\n",
       "\n",
       "[5697 rows x 3 columns]"
      ]
     },
     "execution_count": 67,
     "metadata": {},
     "output_type": "execute_result"
    }
   ],
   "source": [
    "pos_df"
   ]
  },
  {
   "cell_type": "code",
   "execution_count": 68,
   "id": "607028ff",
   "metadata": {},
   "outputs": [
    {
     "data": {
      "text/html": [
       "<div>\n",
       "<style scoped>\n",
       "    .dataframe tbody tr th:only-of-type {\n",
       "        vertical-align: middle;\n",
       "    }\n",
       "\n",
       "    .dataframe tbody tr th {\n",
       "        vertical-align: top;\n",
       "    }\n",
       "\n",
       "    .dataframe thead th {\n",
       "        text-align: right;\n",
       "    }\n",
       "</style>\n",
       "<table border=\"1\" class=\"dataframe\">\n",
       "  <thead>\n",
       "    <tr style=\"text-align: right;\">\n",
       "      <th></th>\n",
       "      <th>SO0_NRID</th>\n",
       "      <th>HVROUTETEMPLATE_NRID</th>\n",
       "      <th>CUST_TYPE</th>\n",
       "      <th>POSTCODE</th>\n",
       "      <th>LANGUAGE</th>\n",
       "      <th>SEASON_TYPE</th>\n",
       "      <th>LAT_x</th>\n",
       "      <th>LONG_x</th>\n",
       "      <th>LOCATION</th>\n",
       "      <th>LAT_y</th>\n",
       "      <th>LONG_y</th>\n",
       "    </tr>\n",
       "  </thead>\n",
       "  <tbody>\n",
       "    <tr>\n",
       "      <th>0</th>\n",
       "      <td>721104</td>\n",
       "      <td>219020601</td>\n",
       "      <td>Private</td>\n",
       "      <td>3930</td>\n",
       "      <td>nl-BE</td>\n",
       "      <td>All time</td>\n",
       "      <td>3.591994</td>\n",
       "      <td>50.956946</td>\n",
       "      <td>Achel</td>\n",
       "      <td>5.479290</td>\n",
       "      <td>51.268431</td>\n",
       "    </tr>\n",
       "    <tr>\n",
       "      <th>1</th>\n",
       "      <td>721104</td>\n",
       "      <td>219020601</td>\n",
       "      <td>Private</td>\n",
       "      <td>3930</td>\n",
       "      <td>nl-BE</td>\n",
       "      <td>All time</td>\n",
       "      <td>3.591994</td>\n",
       "      <td>50.956946</td>\n",
       "      <td>Hamont</td>\n",
       "      <td>5.531287</td>\n",
       "      <td>51.254585</td>\n",
       "    </tr>\n",
       "    <tr>\n",
       "      <th>2</th>\n",
       "      <td>721104</td>\n",
       "      <td>219020601</td>\n",
       "      <td>Private</td>\n",
       "      <td>3930</td>\n",
       "      <td>nl-BE</td>\n",
       "      <td>All time</td>\n",
       "      <td>3.591994</td>\n",
       "      <td>50.956946</td>\n",
       "      <td>Hamont-Achel</td>\n",
       "      <td>5.512870</td>\n",
       "      <td>51.254764</td>\n",
       "    </tr>\n",
       "    <tr>\n",
       "      <th>3</th>\n",
       "      <td>721110</td>\n",
       "      <td>219020601</td>\n",
       "      <td>Private</td>\n",
       "      <td>3930</td>\n",
       "      <td>nl-BE</td>\n",
       "      <td>All time</td>\n",
       "      <td>3.591994</td>\n",
       "      <td>50.956946</td>\n",
       "      <td>Achel</td>\n",
       "      <td>5.479290</td>\n",
       "      <td>51.268431</td>\n",
       "    </tr>\n",
       "    <tr>\n",
       "      <th>4</th>\n",
       "      <td>721110</td>\n",
       "      <td>219020601</td>\n",
       "      <td>Private</td>\n",
       "      <td>3930</td>\n",
       "      <td>nl-BE</td>\n",
       "      <td>All time</td>\n",
       "      <td>3.591994</td>\n",
       "      <td>50.956946</td>\n",
       "      <td>Hamont</td>\n",
       "      <td>5.531287</td>\n",
       "      <td>51.254585</td>\n",
       "    </tr>\n",
       "    <tr>\n",
       "      <th>...</th>\n",
       "      <td>...</td>\n",
       "      <td>...</td>\n",
       "      <td>...</td>\n",
       "      <td>...</td>\n",
       "      <td>...</td>\n",
       "      <td>...</td>\n",
       "      <td>...</td>\n",
       "      <td>...</td>\n",
       "      <td>...</td>\n",
       "      <td>...</td>\n",
       "      <td>...</td>\n",
       "    </tr>\n",
       "    <tr>\n",
       "      <th>11123</th>\n",
       "      <td>1398075</td>\n",
       "      <td>289659602</td>\n",
       "      <td>Private</td>\n",
       "      <td>3600</td>\n",
       "      <td>nl-BE</td>\n",
       "      <td>All time</td>\n",
       "      <td>4.621416</td>\n",
       "      <td>50.994857</td>\n",
       "      <td>Genk</td>\n",
       "      <td>5.500146</td>\n",
       "      <td>50.965486</td>\n",
       "    </tr>\n",
       "    <tr>\n",
       "      <th>11124</th>\n",
       "      <td>1398086</td>\n",
       "      <td>289659602</td>\n",
       "      <td>Private</td>\n",
       "      <td>3600</td>\n",
       "      <td>nl-BE</td>\n",
       "      <td>All time</td>\n",
       "      <td>4.620606</td>\n",
       "      <td>50.996574</td>\n",
       "      <td>Genk</td>\n",
       "      <td>5.500146</td>\n",
       "      <td>50.965486</td>\n",
       "    </tr>\n",
       "    <tr>\n",
       "      <th>11125</th>\n",
       "      <td>1398096</td>\n",
       "      <td>289659602</td>\n",
       "      <td>Private</td>\n",
       "      <td>3600</td>\n",
       "      <td>nl-BE</td>\n",
       "      <td>All time</td>\n",
       "      <td>4.619796</td>\n",
       "      <td>50.998291</td>\n",
       "      <td>Genk</td>\n",
       "      <td>5.500146</td>\n",
       "      <td>50.965486</td>\n",
       "    </tr>\n",
       "    <tr>\n",
       "      <th>11126</th>\n",
       "      <td>1398101</td>\n",
       "      <td>289659602</td>\n",
       "      <td>Private</td>\n",
       "      <td>3600</td>\n",
       "      <td>nl-BE</td>\n",
       "      <td>All time</td>\n",
       "      <td>4.619796</td>\n",
       "      <td>50.998291</td>\n",
       "      <td>Genk</td>\n",
       "      <td>5.500146</td>\n",
       "      <td>50.965486</td>\n",
       "    </tr>\n",
       "    <tr>\n",
       "      <th>11127</th>\n",
       "      <td>1398106</td>\n",
       "      <td>289659602</td>\n",
       "      <td>Private</td>\n",
       "      <td>3600</td>\n",
       "      <td>nl-BE</td>\n",
       "      <td>All time</td>\n",
       "      <td>4.618987</td>\n",
       "      <td>51.000008</td>\n",
       "      <td>Genk</td>\n",
       "      <td>5.500146</td>\n",
       "      <td>50.965486</td>\n",
       "    </tr>\n",
       "  </tbody>\n",
       "</table>\n",
       "<p>11128 rows × 11 columns</p>\n",
       "</div>"
      ],
      "text/plain": [
       "       SO0_NRID  HVROUTETEMPLATE_NRID CUST_TYPE  POSTCODE LANGUAGE  \\\n",
       "0        721104             219020601   Private      3930    nl-BE   \n",
       "1        721104             219020601   Private      3930    nl-BE   \n",
       "2        721104             219020601   Private      3930    nl-BE   \n",
       "3        721110             219020601   Private      3930    nl-BE   \n",
       "4        721110             219020601   Private      3930    nl-BE   \n",
       "...         ...                   ...       ...       ...      ...   \n",
       "11123   1398075             289659602   Private      3600    nl-BE   \n",
       "11124   1398086             289659602   Private      3600    nl-BE   \n",
       "11125   1398096             289659602   Private      3600    nl-BE   \n",
       "11126   1398101             289659602   Private      3600    nl-BE   \n",
       "11127   1398106             289659602   Private      3600    nl-BE   \n",
       "\n",
       "      SEASON_TYPE     LAT_x     LONG_x      LOCATION     LAT_y     LONG_y  \n",
       "0        All time  3.591994  50.956946         Achel  5.479290  51.268431  \n",
       "1        All time  3.591994  50.956946        Hamont  5.531287  51.254585  \n",
       "2        All time  3.591994  50.956946  Hamont-Achel  5.512870  51.254764  \n",
       "3        All time  3.591994  50.956946         Achel  5.479290  51.268431  \n",
       "4        All time  3.591994  50.956946        Hamont  5.531287  51.254585  \n",
       "...           ...       ...        ...           ...       ...        ...  \n",
       "11123    All time  4.621416  50.994857          Genk  5.500146  50.965486  \n",
       "11124    All time  4.620606  50.996574          Genk  5.500146  50.965486  \n",
       "11125    All time  4.619796  50.998291          Genk  5.500146  50.965486  \n",
       "11126    All time  4.619796  50.998291          Genk  5.500146  50.965486  \n",
       "11127    All time  4.618987  51.000008          Genk  5.500146  50.965486  \n",
       "\n",
       "[11128 rows x 11 columns]"
      ]
     },
     "execution_count": 68,
     "metadata": {},
     "output_type": "execute_result"
    }
   ],
   "source": [
    "# join with customer data\n",
    "cust_pos_postcodes_df = pd.merge(left=cust_pos_df, right=postcodes_df, on=\"POSTCODE\", how=\"inner\")\n",
    "cust_pos_postcodes_df"
   ]
  },
  {
   "cell_type": "code",
   "execution_count": 69,
   "id": "684f59d8",
   "metadata": {},
   "outputs": [],
   "source": [
    "def change_postcode_customer(cust_id):\n",
    "    # get index of customer\n",
    "    index = cust_pos_postcodes_df[cust_pos_postcodes_df['SO0_NRID']==cust_id].index.values.astype(int)[0]\n",
    "    index_so0 = hvc_so0[hvc_so0['SO0_NRID']==cust_id].index.values.astype(int)[0]\n",
    "    # get long and lat from customer\n",
    "    cust_long = float(cust_pos_postcodes_df[\"LONG_x\"].iloc[index])\n",
    "    cust_lat = float(cust_pos_postcodes_df[\"LAT_x\"].iloc[index])\n",
    "    \n",
    "    closest_city = None\n",
    "    closest_dist = 10000000\n",
    "    \n",
    "    for i in range(len(postcodes_df)):\n",
    "        city_name = postcodes_df[\"LOCATION\"].iloc[i]\n",
    "        city_long = float(postcodes_df[\"LONG\"].iloc[i])\n",
    "        city_lat = float(postcodes_df[\"LAT\"].iloc[i])\n",
    "        \n",
    "        city=(city_lat, city_long)\n",
    "        cust=(cust_lat, cust_long)\n",
    "        \n",
    "        dist = hs.haversine(city,cust)\n",
    "        if dist < closest_dist:\n",
    "            closest_city = city_name\n",
    "            closest_dist = dist\n",
    "    \n",
    "    city_postcode = postcodes_df[postcodes_df[\"LOCATION\"] == closest_city][\"POSTCODE\"]\n",
    "    #hvc_so0.set(index_so0, 'POSTCODE', city_postcode)\n",
    "    hvc_so0.at[index_so0, 'POSTCODE'] = city_postcode\n",
    "    #hvc_so0[index_so0][\"POSTCODE\"] = city_postcode\n",
    "    #hvc_so0.loc[index_so0, 4] = city_postcode\n"
   ]
  },
  {
   "cell_type": "code",
   "execution_count": 70,
   "id": "120fd34b",
   "metadata": {
    "scrolled": true
   },
   "outputs": [
    {
     "ename": "NameError",
     "evalue": "name 'cust_id' is not defined",
     "output_type": "error",
     "traceback": [
      "\u001b[1;31m---------------------------------------------------------------------------\u001b[0m",
      "\u001b[1;31mNameError\u001b[0m                                 Traceback (most recent call last)",
      "\u001b[1;32m<ipython-input-70-ed21d7f60729>\u001b[0m in \u001b[0;36m<module>\u001b[1;34m\u001b[0m\n\u001b[0;32m      1\u001b[0m \u001b[1;31m#change postcode for all customers\u001b[0m\u001b[1;33m\u001b[0m\u001b[1;33m\u001b[0m\u001b[1;33m\u001b[0m\u001b[0m\n\u001b[0;32m      2\u001b[0m \u001b[1;32mfor\u001b[0m \u001b[0mindex\u001b[0m\u001b[1;33m,\u001b[0m \u001b[0mrow\u001b[0m \u001b[1;32min\u001b[0m \u001b[0mhvc_so0\u001b[0m\u001b[1;33m.\u001b[0m\u001b[0miterrows\u001b[0m\u001b[1;33m(\u001b[0m\u001b[1;33m)\u001b[0m\u001b[1;33m:\u001b[0m\u001b[1;33m\u001b[0m\u001b[1;33m\u001b[0m\u001b[0m\n\u001b[1;32m----> 3\u001b[1;33m     \u001b[1;32mif\u001b[0m\u001b[1;33m(\u001b[0m\u001b[0mcust_id\u001b[0m \u001b[1;32min\u001b[0m \u001b[0mcust_pos_df\u001b[0m\u001b[1;33m)\u001b[0m\u001b[1;33m:\u001b[0m\u001b[1;33m\u001b[0m\u001b[1;33m\u001b[0m\u001b[0m\n\u001b[0m\u001b[0;32m      4\u001b[0m         \u001b[0mcust_id\u001b[0m \u001b[1;33m=\u001b[0m \u001b[0mhvc_so0\u001b[0m\u001b[1;33m[\u001b[0m\u001b[1;34m\"SO0_NRID\"\u001b[0m\u001b[1;33m]\u001b[0m\u001b[1;33m.\u001b[0m\u001b[0mget\u001b[0m\u001b[1;33m(\u001b[0m\u001b[0mindex\u001b[0m\u001b[1;33m)\u001b[0m\u001b[1;33m\u001b[0m\u001b[1;33m\u001b[0m\u001b[0m\n\u001b[0;32m      5\u001b[0m         \u001b[0mchange_postcode_customer\u001b[0m\u001b[1;33m(\u001b[0m\u001b[0mcust_id\u001b[0m\u001b[1;33m)\u001b[0m\u001b[1;33m\u001b[0m\u001b[1;33m\u001b[0m\u001b[0m\n",
      "\u001b[1;31mNameError\u001b[0m: name 'cust_id' is not defined"
     ]
    }
   ],
   "source": [
    "#change postcode for all customers\n",
    "for index, row in hvc_so0.iterrows():\n",
    "    if(cust_id in cust_pos_df):\n",
    "        cust_id = hvc_so0[\"SO0_NRID\"].get(index)\n",
    "        change_postcode_customer(cust_id)"
   ]
  },
  {
   "cell_type": "code",
   "execution_count": 71,
   "id": "34bc210a",
   "metadata": {
    "scrolled": true
   },
   "outputs": [
    {
     "data": {
      "text/html": [
       "<div>\n",
       "<style scoped>\n",
       "    .dataframe tbody tr th:only-of-type {\n",
       "        vertical-align: middle;\n",
       "    }\n",
       "\n",
       "    .dataframe tbody tr th {\n",
       "        vertical-align: top;\n",
       "    }\n",
       "\n",
       "    .dataframe thead th {\n",
       "        text-align: right;\n",
       "    }\n",
       "</style>\n",
       "<table border=\"1\" class=\"dataframe\">\n",
       "  <thead>\n",
       "    <tr style=\"text-align: right;\">\n",
       "      <th></th>\n",
       "      <th>SO0_NRID</th>\n",
       "      <th>HVROUTETEMPLATE_NRID</th>\n",
       "      <th>CUST_TYPE</th>\n",
       "      <th>POSTCODE</th>\n",
       "      <th>LANGUAGE</th>\n",
       "      <th>SEASON_TYPE</th>\n",
       "    </tr>\n",
       "  </thead>\n",
       "  <tbody>\n",
       "    <tr>\n",
       "      <th>0</th>\n",
       "      <td>721104</td>\n",
       "      <td>219020601</td>\n",
       "      <td>Private</td>\n",
       "      <td>3930</td>\n",
       "      <td>nl-BE</td>\n",
       "      <td>All time</td>\n",
       "    </tr>\n",
       "    <tr>\n",
       "      <th>1</th>\n",
       "      <td>721110</td>\n",
       "      <td>219020601</td>\n",
       "      <td>Private</td>\n",
       "      <td>3930</td>\n",
       "      <td>nl-BE</td>\n",
       "      <td>All time</td>\n",
       "    </tr>\n",
       "    <tr>\n",
       "      <th>2</th>\n",
       "      <td>721121</td>\n",
       "      <td>219020601</td>\n",
       "      <td>Private</td>\n",
       "      <td>3930</td>\n",
       "      <td>nl-BE</td>\n",
       "      <td>All time</td>\n",
       "    </tr>\n",
       "    <tr>\n",
       "      <th>3</th>\n",
       "      <td>721126</td>\n",
       "      <td>219020601</td>\n",
       "      <td>Private</td>\n",
       "      <td>3930</td>\n",
       "      <td>nl-BE</td>\n",
       "      <td>All time</td>\n",
       "    </tr>\n",
       "    <tr>\n",
       "      <th>4</th>\n",
       "      <td>721131</td>\n",
       "      <td>219020601</td>\n",
       "      <td>Private</td>\n",
       "      <td>3930</td>\n",
       "      <td>nl-BE</td>\n",
       "      <td>All time</td>\n",
       "    </tr>\n",
       "    <tr>\n",
       "      <th>...</th>\n",
       "      <td>...</td>\n",
       "      <td>...</td>\n",
       "      <td>...</td>\n",
       "      <td>...</td>\n",
       "      <td>...</td>\n",
       "      <td>...</td>\n",
       "    </tr>\n",
       "    <tr>\n",
       "      <th>5704</th>\n",
       "      <td>-2147483648</td>\n",
       "      <td>219020601</td>\n",
       "      <td>Horeca</td>\n",
       "      <td>3930</td>\n",
       "      <td>nl-BE</td>\n",
       "      <td>All time</td>\n",
       "    </tr>\n",
       "    <tr>\n",
       "      <th>5705</th>\n",
       "      <td>-2147483648</td>\n",
       "      <td>289760478</td>\n",
       "      <td>Horeca</td>\n",
       "      <td>3650</td>\n",
       "      <td>nl-BE</td>\n",
       "      <td>All time</td>\n",
       "    </tr>\n",
       "    <tr>\n",
       "      <th>5706</th>\n",
       "      <td>-2147483648</td>\n",
       "      <td>289760478</td>\n",
       "      <td>Private</td>\n",
       "      <td>3680</td>\n",
       "      <td>nl-BE</td>\n",
       "      <td>All time</td>\n",
       "    </tr>\n",
       "    <tr>\n",
       "      <th>5707</th>\n",
       "      <td>-2147483648</td>\n",
       "      <td>289418953</td>\n",
       "      <td>Private</td>\n",
       "      <td>3550</td>\n",
       "      <td>nl-BE</td>\n",
       "      <td>All time</td>\n",
       "    </tr>\n",
       "    <tr>\n",
       "      <th>5708</th>\n",
       "      <td>-2147483648</td>\n",
       "      <td>219024456</td>\n",
       "      <td>Private</td>\n",
       "      <td>3950</td>\n",
       "      <td>nl-BE</td>\n",
       "      <td>All time</td>\n",
       "    </tr>\n",
       "  </tbody>\n",
       "</table>\n",
       "<p>5709 rows × 6 columns</p>\n",
       "</div>"
      ],
      "text/plain": [
       "        SO0_NRID  HVROUTETEMPLATE_NRID CUST_TYPE  POSTCODE LANGUAGE  \\\n",
       "0         721104             219020601   Private      3930    nl-BE   \n",
       "1         721110             219020601   Private      3930    nl-BE   \n",
       "2         721121             219020601   Private      3930    nl-BE   \n",
       "3         721126             219020601   Private      3930    nl-BE   \n",
       "4         721131             219020601   Private      3930    nl-BE   \n",
       "...          ...                   ...       ...       ...      ...   \n",
       "5704 -2147483648             219020601    Horeca      3930    nl-BE   \n",
       "5705 -2147483648             289760478    Horeca      3650    nl-BE   \n",
       "5706 -2147483648             289760478   Private      3680    nl-BE   \n",
       "5707 -2147483648             289418953   Private      3550    nl-BE   \n",
       "5708 -2147483648             219024456   Private      3950    nl-BE   \n",
       "\n",
       "     SEASON_TYPE  \n",
       "0       All time  \n",
       "1       All time  \n",
       "2       All time  \n",
       "3       All time  \n",
       "4       All time  \n",
       "...          ...  \n",
       "5704    All time  \n",
       "5705    All time  \n",
       "5706    All time  \n",
       "5707    All time  \n",
       "5708    All time  \n",
       "\n",
       "[5709 rows x 6 columns]"
      ]
     },
     "execution_count": 71,
     "metadata": {},
     "output_type": "execute_result"
    }
   ],
   "source": [
    "hvc_so0"
   ]
  }
 ],
 "metadata": {
  "kernelspec": {
   "display_name": "Python 3",
   "language": "python",
   "name": "python3"
  },
  "language_info": {
   "codemirror_mode": {
    "name": "ipython",
    "version": 3
   },
   "file_extension": ".py",
   "mimetype": "text/x-python",
   "name": "python",
   "nbconvert_exporter": "python",
   "pygments_lexer": "ipython3",
   "version": "3.8.8"
  }
 },
 "nbformat": 4,
 "nbformat_minor": 5
}
